{
 "cells": [
  {
   "cell_type": "markdown",
   "metadata": {
    "papermill": {
     "duration": 0.015418,
     "end_time": "2020-12-18T21:06:59.157046",
     "exception": false,
     "start_time": "2020-12-18T21:06:59.141628",
     "status": "completed"
    },
    "tags": []
   },
   "source": [
    "# Process Stations"
   ]
  },
  {
   "cell_type": "code",
   "execution_count": 1,
   "metadata": {
    "execution": {
     "iopub.execute_input": "2020-12-18T21:06:59.233528Z",
     "iopub.status.busy": "2020-12-18T21:06:59.232988Z",
     "iopub.status.idle": "2020-12-18T21:07:00.049695Z",
     "shell.execute_reply": "2020-12-18T21:07:00.050375Z"
    },
    "papermill": {
     "duration": 0.852974,
     "end_time": "2020-12-18T21:07:00.050725",
     "exception": false,
     "start_time": "2020-12-18T21:06:59.197751",
     "status": "completed"
    },
    "tags": []
   },
   "outputs": [],
   "source": [
    "import pandas as pd\n",
    "import numpy as np\n",
    "import matplotlib.pyplot as plt\n",
    "from pkg_resources import resource_filename\n",
    "\n",
    "from climpyrical.gridding import scale_model_obs\n",
    "from climpyrical.data import read_data\n",
    "from climpyrical.cmd.find_matched_model_vals import add_model_values"
   ]
  },
  {
   "cell_type": "markdown",
   "metadata": {
    "papermill": {
     "duration": 0.015365,
     "end_time": "2020-12-18T21:07:00.086957",
     "exception": false,
     "start_time": "2020-12-18T21:07:00.071592",
     "status": "completed"
    },
    "tags": []
   },
   "source": [
    "### Load station data for processing"
   ]
  },
  {
   "cell_type": "markdown",
   "metadata": {
    "papermill": {
     "duration": 0.014182,
     "end_time": "2020-12-18T21:07:00.115173",
     "exception": false,
     "start_time": "2020-12-18T21:07:00.100991",
     "status": "completed"
    },
    "tags": [
     "parameters"
    ]
   },
   "source": [
    "### Parameters are loaded from config_example.yml\n",
    "Example configuration from config_example.yml:\n",
    "```\n",
    "    paths:\n",
    "        preprocessed_model_path: /data/results/intermediate/preprocessed_netcdf/\n",
    "    RL50:\n",
    "        station_dv: \"RL50 (kPa)\"\n",
    "        station_path: 'data/station_inputs/Interim_snow_rain_load_LR_composite_stations_tbd_v4.csv'\n",
    "        input_model_path: 'data/model_inputs/snw_rain_CanRCM4-LE_ens35_1951-2016_max_rl50_load_ensmean.nc'\n",
    "        medians: \n",
    "            value: 0.4\n",
    "            action: \"multiply\"\n",
    "        fill_glaciers: True\n",
    "```"
   ]
  },
  {
   "cell_type": "code",
   "execution_count": 2,
   "metadata": {
    "execution": {
     "iopub.execute_input": "2020-12-18T21:07:00.152113Z",
     "iopub.status.busy": "2020-12-18T21:07:00.151392Z",
     "iopub.status.idle": "2020-12-18T21:07:00.153406Z",
     "shell.execute_reply": "2020-12-18T21:07:00.153818Z"
    },
    "papermill": {
     "duration": 0.02461,
     "end_time": "2020-12-18T21:07:00.153989",
     "exception": false,
     "start_time": "2020-12-18T21:07:00.129379",
     "status": "completed"
    },
    "tags": [
     "injected-parameters"
    ]
   },
   "outputs": [],
   "source": [
    "# Parameters\n",
    "name = \"RHann\"\n",
    "station_dv = \"mean RH (%)\"\n",
    "station_path = \"data/station_inputs/rh_annual_mean_10yr_for_maps.csv\"\n",
    "input_model_path = \"data/model_inputs/hurs_CanRCM4-LE_ens15_1951-2016_ensmean.nc\"\n",
    "medians = {\"value\": \"None\", \"action\": \"None\"}\n",
    "fill_glaciers = True\n",
    "output_notebook_path = \"/data/results/intermediate/notebooks/\"\n",
    "preprocessed_model_path = \"/data/results/intermediate/preprocessed_netcdf/\"\n",
    "preprocessed_stations_path = \"/data/results/intermediate/preprocessed_stations/\"\n",
    "output_reconstruction_path = \"/data/results/netcdf/\"\n",
    "output_tables_path = \"/data/results/TableC2/\"\n",
    "output_figure_path = \"/data/results/figures/\"\n",
    "mask_path = \"data/masks/canada_mask_rp.nc\"\n",
    "north_mask_path = \"data/masks/canada_mask_north_rp.nc\"\n",
    "nbcc_loc_path = \"data/station_inputs/NBCC_2020_new_coords.xlsm\"\n"
   ]
  },
  {
   "cell_type": "code",
   "execution_count": 3,
   "metadata": {
    "execution": {
     "iopub.execute_input": "2020-12-18T21:07:00.186653Z",
     "iopub.status.busy": "2020-12-18T21:07:00.186182Z",
     "iopub.status.idle": "2020-12-18T21:07:00.187846Z",
     "shell.execute_reply": "2020-12-18T21:07:00.188165Z"
    },
    "papermill": {
     "duration": 0.016913,
     "end_time": "2020-12-18T21:07:00.188329",
     "exception": false,
     "start_time": "2020-12-18T21:07:00.171416",
     "status": "completed"
    },
    "tags": [
     "parameters"
    ]
   },
   "outputs": [],
   "source": [
    "# Parameters cell"
   ]
  },
  {
   "cell_type": "code",
   "execution_count": 4,
   "metadata": {
    "execution": {
     "iopub.execute_input": "2020-12-18T21:07:00.216528Z",
     "iopub.status.busy": "2020-12-18T21:07:00.216018Z",
     "iopub.status.idle": "2020-12-18T21:07:00.222074Z",
     "shell.execute_reply": "2020-12-18T21:07:00.221636Z"
    },
    "papermill": {
     "duration": 0.019405,
     "end_time": "2020-12-18T21:07:00.222214",
     "exception": false,
     "start_time": "2020-12-18T21:07:00.202809",
     "status": "completed"
    },
    "tags": []
   },
   "outputs": [],
   "source": [
    "df = pd.read_csv(resource_filename(\"climpyrical\", station_path), index_col=None)"
   ]
  },
  {
   "cell_type": "markdown",
   "metadata": {
    "papermill": {
     "duration": 0.01322,
     "end_time": "2020-12-18T21:07:00.248571",
     "exception": false,
     "start_time": "2020-12-18T21:07:00.235351",
     "status": "completed"
    },
    "tags": []
   },
   "source": [
    "Check the columns for standard names, and standardize them.\n",
    "\n",
    "This process will not catch any and all possible inputs, so refer to documentation for \n",
    "expected column names"
   ]
  },
  {
   "cell_type": "code",
   "execution_count": 5,
   "metadata": {
    "execution": {
     "iopub.execute_input": "2020-12-18T21:07:00.291084Z",
     "iopub.status.busy": "2020-12-18T21:07:00.290557Z",
     "iopub.status.idle": "2020-12-18T21:07:00.292955Z",
     "shell.execute_reply": "2020-12-18T21:07:00.293348Z"
    },
    "papermill": {
     "duration": 0.031554,
     "end_time": "2020-12-18T21:07:00.293515",
     "exception": false,
     "start_time": "2020-12-18T21:07:00.261961",
     "status": "completed"
    },
    "tags": []
   },
   "outputs": [],
   "source": [
    "def check_df_columns(df):\n",
    "    if 'longitude' in df.columns:\n",
    "        df=df.rename(columns={'longitude': 'lon'})\n",
    "    if 'long' in df.columns:\n",
    "        df=df.rename(columns={'long': 'lon'})\n",
    "    if 'latitude' in df.columns:\n",
    "        df=df.rename(columns={'latitude': 'lat'})\n",
    "    if 'name' in df.columns:\n",
    "        df=df.rename(columns={'name': 'station_name'})\n",
    "    if 'Name' in df.columns:\n",
    "        df=df.rename(columns={'Name': 'station_name'})\n",
    "    if \"prov\" in df.columns:\n",
    "        df=df.rename(columns={\"prov\": \"province\"})\n",
    "    if \"elev\" in df.columns:\n",
    "        df=df.rename(columns={\"elev\": \"elev (m)\"})\n",
    "    if \"elevation (m)\" in df.columns:\n",
    "        df=df.rename(columns={\"elevation (m)\": \"elev (m)\"})\n",
    "    return df\n",
    "\n",
    "df = check_df_columns(df)\n",
    "df.head(5)\n",
    "\n",
    "if np.any(np.isnan(df[[\"lon\", \"lat\", \"elev (m)\", station_dv]].values)):\n",
    "    raise ValueError(\"NaN detected in station input file.\")"
   ]
  },
  {
   "cell_type": "markdown",
   "metadata": {
    "papermill": {
     "duration": 0.015964,
     "end_time": "2020-12-18T21:07:00.329111",
     "exception": false,
     "start_time": "2020-12-18T21:07:00.313147",
     "status": "completed"
    },
    "tags": []
   },
   "source": [
    "Load preprocessed model at target resolution"
   ]
  },
  {
   "cell_type": "code",
   "execution_count": 6,
   "metadata": {
    "execution": {
     "iopub.execute_input": "2020-12-18T21:07:00.356303Z",
     "iopub.status.busy": "2020-12-18T21:07:00.355898Z",
     "iopub.status.idle": "2020-12-18T21:07:00.424100Z",
     "shell.execute_reply": "2020-12-18T21:07:00.425112Z"
    },
    "papermill": {
     "duration": 0.085413,
     "end_time": "2020-12-18T21:07:00.425527",
     "exception": false,
     "start_time": "2020-12-18T21:07:00.340114",
     "status": "completed"
    },
    "tags": []
   },
   "outputs": [],
   "source": [
    "ds = read_data(resource_filename(\"climpyrical\", f\"{preprocessed_model_path}{name}.nc\"))\n",
    "(dv, ) = ds.data_vars"
   ]
  },
  {
   "cell_type": "markdown",
   "metadata": {
    "papermill": {
     "duration": 0.013763,
     "end_time": "2020-12-18T21:07:00.459650",
     "exception": false,
     "start_time": "2020-12-18T21:07:00.445887",
     "status": "completed"
    },
    "tags": []
   },
   "source": [
    "Perform unit conversion if necessary\n",
    "\n",
    "Exclude suspect RL50 values with true 0.0"
   ]
  },
  {
   "cell_type": "code",
   "execution_count": 7,
   "metadata": {
    "execution": {
     "iopub.execute_input": "2020-12-18T21:07:00.485179Z",
     "iopub.status.busy": "2020-12-18T21:07:00.484703Z",
     "iopub.status.idle": "2020-12-18T21:07:00.487161Z",
     "shell.execute_reply": "2020-12-18T21:07:00.487529Z"
    },
    "papermill": {
     "duration": 0.01841,
     "end_time": "2020-12-18T21:07:00.487682",
     "exception": false,
     "start_time": "2020-12-18T21:07:00.469272",
     "status": "completed"
    },
    "tags": []
   },
   "outputs": [],
   "source": [
    "# calculate ratios with applied correction\n",
    "# Note the ratios are calculated in K for Temperature fields\n",
    "if ds[dv].attrs[\"units\"] == \"degC\" and \"degC\" in station_dv:\n",
    "    print(\"Temperature DV detected in degC. Converitng to Kelvin\")\n",
    "    K = 273.15 # K\n",
    "    df[station_dv] += K\n",
    "    ds[dv] += K\n",
    "\n",
    "if 'RL50 (kPa)' in station_dv:\n",
    "    df = df[df[station_dv] != 0.0]"
   ]
  },
  {
   "cell_type": "markdown",
   "metadata": {
    "papermill": {
     "duration": 0.009108,
     "end_time": "2020-12-18T21:07:00.514642",
     "exception": false,
     "start_time": "2020-12-18T21:07:00.505534",
     "status": "completed"
    },
    "tags": []
   },
   "source": [
    "Use matching script to find matching model values"
   ]
  },
  {
   "cell_type": "code",
   "execution_count": 8,
   "metadata": {
    "execution": {
     "iopub.execute_input": "2020-12-18T21:07:00.538481Z",
     "iopub.status.busy": "2020-12-18T21:07:00.537846Z",
     "iopub.status.idle": "2020-12-18T21:07:02.536836Z",
     "shell.execute_reply": "2020-12-18T21:07:02.535921Z"
    },
    "papermill": {
     "duration": 2.013327,
     "end_time": "2020-12-18T21:07:02.537093",
     "exception": false,
     "start_time": "2020-12-18T21:07:00.523766",
     "status": "completed"
    },
    "tags": []
   },
   "outputs": [
    {
     "name": "stderr",
     "output_type": "stream",
     "text": [
      "INFO:root:Detect units: %\n"
     ]
    },
    {
     "name": "stderr",
     "output_type": "stream",
     "text": [
      "INFO:root:rlat or rlon not detected in input file.converting assumes WGS84 coords to rotated pole\n"
     ]
    },
    {
     "name": "stderr",
     "output_type": "stream",
     "text": [
      "INFO:root:Matching coordinates now\n"
     ]
    },
    {
     "name": "stderr",
     "output_type": "stream",
     "text": [
      "INFO:root:Locating corresponding model valuesInterpolating to nearest if matched model value is NaN\n"
     ]
    },
    {
     "data": {
      "text/html": [
       "<div>\n",
       "<style scoped>\n",
       "    .dataframe tbody tr th:only-of-type {\n",
       "        vertical-align: middle;\n",
       "    }\n",
       "\n",
       "    .dataframe tbody tr th {\n",
       "        vertical-align: top;\n",
       "    }\n",
       "\n",
       "    .dataframe thead th {\n",
       "        text-align: right;\n",
       "    }\n",
       "</style>\n",
       "<table border=\"1\" class=\"dataframe\">\n",
       "  <thead>\n",
       "    <tr style=\"text-align: right;\">\n",
       "      <th></th>\n",
       "      <th>history_id</th>\n",
       "      <th>station_name</th>\n",
       "      <th>province</th>\n",
       "      <th>lon</th>\n",
       "      <th>lat</th>\n",
       "      <th>elev (m)</th>\n",
       "      <th>mean RH (%)</th>\n",
       "      <th>rlat</th>\n",
       "      <th>rlon</th>\n",
       "      <th>irlat</th>\n",
       "      <th>irlon</th>\n",
       "      <th>model_values</th>\n",
       "    </tr>\n",
       "  </thead>\n",
       "  <tbody>\n",
       "    <tr>\n",
       "      <th>0</th>\n",
       "      <td>42.0</td>\n",
       "      <td>ESQUIMALT HARBOUR</td>\n",
       "      <td>BC</td>\n",
       "      <td>-123.439</td>\n",
       "      <td>48.4320</td>\n",
       "      <td>3</td>\n",
       "      <td>84</td>\n",
       "      <td>3.866425</td>\n",
       "      <td>-17.223366</td>\n",
       "      <td>742</td>\n",
       "      <td>385</td>\n",
       "      <td>88.899284</td>\n",
       "    </tr>\n",
       "    <tr>\n",
       "      <th>1</th>\n",
       "      <td>90.0</td>\n",
       "      <td>SATURNA ISLAND CS</td>\n",
       "      <td>BC</td>\n",
       "      <td>-123.045</td>\n",
       "      <td>48.7839</td>\n",
       "      <td>24</td>\n",
       "      <td>80</td>\n",
       "      <td>4.113871</td>\n",
       "      <td>-16.861279</td>\n",
       "      <td>747</td>\n",
       "      <td>394</td>\n",
       "      <td>87.706612</td>\n",
       "    </tr>\n",
       "    <tr>\n",
       "      <th>2</th>\n",
       "      <td>106.0</td>\n",
       "      <td>VICTORIA UNIVERSITY CS</td>\n",
       "      <td>BC</td>\n",
       "      <td>-123.305</td>\n",
       "      <td>48.4570</td>\n",
       "      <td>60</td>\n",
       "      <td>80</td>\n",
       "      <td>3.860863</td>\n",
       "      <td>-17.130987</td>\n",
       "      <td>742</td>\n",
       "      <td>387</td>\n",
       "      <td>88.264030</td>\n",
       "    </tr>\n",
       "    <tr>\n",
       "      <th>3</th>\n",
       "      <td>110.0</td>\n",
       "      <td>VICTORIA GONZALES CS</td>\n",
       "      <td>BC</td>\n",
       "      <td>-123.325</td>\n",
       "      <td>48.4133</td>\n",
       "      <td>61</td>\n",
       "      <td>82</td>\n",
       "      <td>3.823921</td>\n",
       "      <td>-17.157899</td>\n",
       "      <td>741</td>\n",
       "      <td>387</td>\n",
       "      <td>88.734039</td>\n",
       "    </tr>\n",
       "    <tr>\n",
       "      <th>4</th>\n",
       "      <td>121.0</td>\n",
       "      <td>VICTORIA MARINE</td>\n",
       "      <td>BC</td>\n",
       "      <td>-123.750</td>\n",
       "      <td>48.3667</td>\n",
       "      <td>32</td>\n",
       "      <td>83</td>\n",
       "      <td>3.873110</td>\n",
       "      <td>-17.440320</td>\n",
       "      <td>742</td>\n",
       "      <td>380</td>\n",
       "      <td>89.767838</td>\n",
       "    </tr>\n",
       "  </tbody>\n",
       "</table>\n",
       "</div>"
      ],
      "text/plain": [
       "   history_id            station_name province      lon      lat  elev (m)  \\\n",
       "0        42.0       ESQUIMALT HARBOUR       BC -123.439  48.4320         3   \n",
       "1        90.0       SATURNA ISLAND CS       BC -123.045  48.7839        24   \n",
       "2       106.0  VICTORIA UNIVERSITY CS       BC -123.305  48.4570        60   \n",
       "3       110.0    VICTORIA GONZALES CS       BC -123.325  48.4133        61   \n",
       "4       121.0         VICTORIA MARINE       BC -123.750  48.3667        32   \n",
       "\n",
       "   mean RH (%)      rlat       rlon  irlat  irlon  model_values  \n",
       "0           84  3.866425 -17.223366    742    385     88.899284  \n",
       "1           80  4.113871 -16.861279    747    394     87.706612  \n",
       "2           80  3.860863 -17.130987    742    387     88.264030  \n",
       "3           82  3.823921 -17.157899    741    387     88.734039  \n",
       "4           83  3.873110 -17.440320    742    380     89.767838  "
      ]
     },
     "execution_count": 8,
     "metadata": {},
     "output_type": "execute_result"
    }
   ],
   "source": [
    "df = add_model_values(ds=ds, df=df)\n",
    "df.head(5)"
   ]
  },
  {
   "cell_type": "markdown",
   "metadata": {
    "papermill": {
     "duration": 0.01779,
     "end_time": "2020-12-18T21:07:02.574764",
     "exception": false,
     "start_time": "2020-12-18T21:07:02.556974",
     "status": "completed"
    },
    "tags": []
   },
   "source": [
    "Group stations that land in the same index in rlat and rlon (land in the same grid cell)\n",
    "\n",
    "This means that they are in the same grid cell and need to be aggregated"
   ]
  },
  {
   "cell_type": "code",
   "execution_count": 9,
   "metadata": {
    "execution": {
     "iopub.execute_input": "2020-12-18T21:07:02.604744Z",
     "iopub.status.busy": "2020-12-18T21:07:02.604211Z",
     "iopub.status.idle": "2020-12-18T21:07:02.617440Z",
     "shell.execute_reply": "2020-12-18T21:07:02.616987Z"
    },
    "papermill": {
     "duration": 0.03094,
     "end_time": "2020-12-18T21:07:02.617591",
     "exception": false,
     "start_time": "2020-12-18T21:07:02.586651",
     "status": "completed"
    },
    "tags": []
   },
   "outputs": [],
   "source": [
    "agg_dict = {\n",
    "    station_dv: 'mean', \n",
    "    'rlat':'mean', \n",
    "    'rlon':'mean', \n",
    "    'lat': 'mean', \n",
    "    'lon': 'mean', \n",
    "    'elev (m)': 'mean',\n",
    "    'station_name': 'first',\n",
    "    'province': 'first',\n",
    "    \"model_values\": \"mean\"\n",
    "}\n",
    "\n",
    "# Province key is used for WP10 and WP50 for\n",
    "# special treatment of Atlantic/Far NW areas\n",
    "if \"province\" not in df.columns:\n",
    "    agg_dict = agg_dict.pop(\"province\")\n",
    "\n",
    "df_match = df.groupby(\n",
    "    ['irlat', 'irlon'], as_index=False\n",
    ").agg(\n",
    "    agg_dict\n",
    ")\n",
    "\n",
    "\n",
    "irlat = df_match.irlat\n",
    "irlon = df_match.irlon"
   ]
  },
  {
   "cell_type": "code",
   "execution_count": 10,
   "metadata": {
    "execution": {
     "iopub.execute_input": "2020-12-18T21:07:02.664815Z",
     "iopub.status.busy": "2020-12-18T21:07:02.663751Z",
     "iopub.status.idle": "2020-12-18T21:07:02.668389Z",
     "shell.execute_reply": "2020-12-18T21:07:02.667542Z"
    },
    "papermill": {
     "duration": 0.035717,
     "end_time": "2020-12-18T21:07:02.668640",
     "exception": false,
     "start_time": "2020-12-18T21:07:02.632923",
     "status": "completed"
    },
    "tags": []
   },
   "outputs": [
    {
     "data": {
      "text/html": [
       "<div>\n",
       "<style scoped>\n",
       "    .dataframe tbody tr th:only-of-type {\n",
       "        vertical-align: middle;\n",
       "    }\n",
       "\n",
       "    .dataframe tbody tr th {\n",
       "        vertical-align: top;\n",
       "    }\n",
       "\n",
       "    .dataframe thead th {\n",
       "        text-align: right;\n",
       "    }\n",
       "</style>\n",
       "<table border=\"1\" class=\"dataframe\">\n",
       "  <thead>\n",
       "    <tr style=\"text-align: right;\">\n",
       "      <th></th>\n",
       "      <th>irlat</th>\n",
       "      <th>irlon</th>\n",
       "      <th>mean RH (%)</th>\n",
       "      <th>rlat</th>\n",
       "      <th>rlon</th>\n",
       "      <th>lat</th>\n",
       "      <th>lon</th>\n",
       "      <th>elev (m)</th>\n",
       "      <th>station_name</th>\n",
       "      <th>province</th>\n",
       "      <th>model_values</th>\n",
       "    </tr>\n",
       "  </thead>\n",
       "  <tbody>\n",
       "    <tr>\n",
       "      <th>0</th>\n",
       "      <td>552</td>\n",
       "      <td>1011</td>\n",
       "      <td>75.0</td>\n",
       "      <td>-4.517790</td>\n",
       "      <td>10.457750</td>\n",
       "      <td>42.03330</td>\n",
       "      <td>-82.90000</td>\n",
       "      <td>191.0</td>\n",
       "      <td>HARROW CDA AUTO</td>\n",
       "      <td>ON</td>\n",
       "      <td>82.043449</td>\n",
       "    </tr>\n",
       "    <tr>\n",
       "      <th>1</th>\n",
       "      <td>558</td>\n",
       "      <td>1009</td>\n",
       "      <td>71.0</td>\n",
       "      <td>-4.286849</td>\n",
       "      <td>10.373390</td>\n",
       "      <td>42.27560</td>\n",
       "      <td>-82.95560</td>\n",
       "      <td>190.0</td>\n",
       "      <td>WINDSOR A</td>\n",
       "      <td>ON</td>\n",
       "      <td>81.802795</td>\n",
       "    </tr>\n",
       "    <tr>\n",
       "      <th>2</th>\n",
       "      <td>560</td>\n",
       "      <td>1026</td>\n",
       "      <td>76.0</td>\n",
       "      <td>-4.166610</td>\n",
       "      <td>11.147744</td>\n",
       "      <td>42.25010</td>\n",
       "      <td>-81.90010</td>\n",
       "      <td>178.0</td>\n",
       "      <td>ERIEAU (AUT)</td>\n",
       "      <td>ON</td>\n",
       "      <td>82.289291</td>\n",
       "    </tr>\n",
       "    <tr>\n",
       "      <th>3</th>\n",
       "      <td>565</td>\n",
       "      <td>1026</td>\n",
       "      <td>79.0</td>\n",
       "      <td>-3.968063</td>\n",
       "      <td>11.121350</td>\n",
       "      <td>42.45000</td>\n",
       "      <td>-81.88330</td>\n",
       "      <td>206.0</td>\n",
       "      <td>RIDGETOWN RCS</td>\n",
       "      <td>ON</td>\n",
       "      <td>82.445435</td>\n",
       "    </tr>\n",
       "    <tr>\n",
       "      <th>4</th>\n",
       "      <td>576</td>\n",
       "      <td>1017</td>\n",
       "      <td>75.0</td>\n",
       "      <td>-3.490433</td>\n",
       "      <td>10.714451</td>\n",
       "      <td>42.99610</td>\n",
       "      <td>-82.30235</td>\n",
       "      <td>181.0</td>\n",
       "      <td>SARNIA AIRPORT COMPOSITE</td>\n",
       "      <td>ON</td>\n",
       "      <td>82.157593</td>\n",
       "    </tr>\n",
       "    <tr>\n",
       "      <th>...</th>\n",
       "      <td>...</td>\n",
       "      <td>...</td>\n",
       "      <td>...</td>\n",
       "      <td>...</td>\n",
       "      <td>...</td>\n",
       "      <td>...</td>\n",
       "      <td>...</td>\n",
       "      <td>...</td>\n",
       "      <td>...</td>\n",
       "      <td>...</td>\n",
       "      <td>...</td>\n",
       "    </tr>\n",
       "    <tr>\n",
       "      <th>548</th>\n",
       "      <td>1269</td>\n",
       "      <td>788</td>\n",
       "      <td>78.0</td>\n",
       "      <td>27.224160</td>\n",
       "      <td>0.599798</td>\n",
       "      <td>74.71635</td>\n",
       "      <td>-94.97625</td>\n",
       "      <td>49.0</td>\n",
       "      <td>RESOLUTE CARS COMPOSITE</td>\n",
       "      <td>NU</td>\n",
       "      <td>93.607765</td>\n",
       "    </tr>\n",
       "    <tr>\n",
       "      <th>549</th>\n",
       "      <td>1279</td>\n",
       "      <td>618</td>\n",
       "      <td>81.0</td>\n",
       "      <td>27.669419</td>\n",
       "      <td>-6.922336</td>\n",
       "      <td>74.13890</td>\n",
       "      <td>-119.98900</td>\n",
       "      <td>32.0</td>\n",
       "      <td>NANGMAGVIK LAKE</td>\n",
       "      <td>NT</td>\n",
       "      <td>91.955566</td>\n",
       "    </tr>\n",
       "    <tr>\n",
       "      <th>550</th>\n",
       "      <td>1323</td>\n",
       "      <td>640</td>\n",
       "      <td>79.0</td>\n",
       "      <td>29.599336</td>\n",
       "      <td>-5.970277</td>\n",
       "      <td>76.23540</td>\n",
       "      <td>-119.34000</td>\n",
       "      <td>7.0</td>\n",
       "      <td>MOULD BAY A COMPOSITE</td>\n",
       "      <td>NT</td>\n",
       "      <td>92.185303</td>\n",
       "    </tr>\n",
       "    <tr>\n",
       "      <th>551</th>\n",
       "      <td>1391</td>\n",
       "      <td>826</td>\n",
       "      <td>70.0</td>\n",
       "      <td>32.645419</td>\n",
       "      <td>2.272431</td>\n",
       "      <td>79.98330</td>\n",
       "      <td>-85.93330</td>\n",
       "      <td>10.0</td>\n",
       "      <td>EUREKA A</td>\n",
       "      <td>NU</td>\n",
       "      <td>90.576820</td>\n",
       "    </tr>\n",
       "    <tr>\n",
       "      <th>552</th>\n",
       "      <td>1472</td>\n",
       "      <td>894</td>\n",
       "      <td>79.0</td>\n",
       "      <td>36.213276</td>\n",
       "      <td>5.277068</td>\n",
       "      <td>82.50890</td>\n",
       "      <td>-62.30695</td>\n",
       "      <td>48.0</td>\n",
       "      <td>ALERT COMPOSITE</td>\n",
       "      <td>NU</td>\n",
       "      <td>90.576820</td>\n",
       "    </tr>\n",
       "  </tbody>\n",
       "</table>\n",
       "<p>553 rows × 11 columns</p>\n",
       "</div>"
      ],
      "text/plain": [
       "     irlat  irlon  mean RH (%)       rlat       rlon       lat        lon  \\\n",
       "0      552   1011         75.0  -4.517790  10.457750  42.03330  -82.90000   \n",
       "1      558   1009         71.0  -4.286849  10.373390  42.27560  -82.95560   \n",
       "2      560   1026         76.0  -4.166610  11.147744  42.25010  -81.90010   \n",
       "3      565   1026         79.0  -3.968063  11.121350  42.45000  -81.88330   \n",
       "4      576   1017         75.0  -3.490433  10.714451  42.99610  -82.30235   \n",
       "..     ...    ...          ...        ...        ...       ...        ...   \n",
       "548   1269    788         78.0  27.224160   0.599798  74.71635  -94.97625   \n",
       "549   1279    618         81.0  27.669419  -6.922336  74.13890 -119.98900   \n",
       "550   1323    640         79.0  29.599336  -5.970277  76.23540 -119.34000   \n",
       "551   1391    826         70.0  32.645419   2.272431  79.98330  -85.93330   \n",
       "552   1472    894         79.0  36.213276   5.277068  82.50890  -62.30695   \n",
       "\n",
       "     elev (m)              station_name province  model_values  \n",
       "0       191.0           HARROW CDA AUTO       ON     82.043449  \n",
       "1       190.0                 WINDSOR A       ON     81.802795  \n",
       "2       178.0              ERIEAU (AUT)       ON     82.289291  \n",
       "3       206.0             RIDGETOWN RCS       ON     82.445435  \n",
       "4       181.0  SARNIA AIRPORT COMPOSITE       ON     82.157593  \n",
       "..        ...                       ...      ...           ...  \n",
       "548      49.0   RESOLUTE CARS COMPOSITE       NU     93.607765  \n",
       "549      32.0           NANGMAGVIK LAKE       NT     91.955566  \n",
       "550       7.0     MOULD BAY A COMPOSITE       NT     92.185303  \n",
       "551      10.0                  EUREKA A       NU     90.576820  \n",
       "552      48.0           ALERT COMPOSITE       NU     90.576820  \n",
       "\n",
       "[553 rows x 11 columns]"
      ]
     },
     "execution_count": 10,
     "metadata": {},
     "output_type": "execute_result"
    }
   ],
   "source": [
    "df_match"
   ]
  },
  {
   "cell_type": "markdown",
   "metadata": {
    "papermill": {
     "duration": 0.019077,
     "end_time": "2020-12-18T21:07:02.706931",
     "exception": false,
     "start_time": "2020-12-18T21:07:02.687854",
     "status": "completed"
    },
    "tags": []
   },
   "source": [
    "Verify that they are correlated"
   ]
  },
  {
   "cell_type": "code",
   "execution_count": 11,
   "metadata": {
    "execution": {
     "iopub.execute_input": "2020-12-18T21:07:02.754538Z",
     "iopub.status.busy": "2020-12-18T21:07:02.749502Z",
     "iopub.status.idle": "2020-12-18T21:07:02.874401Z",
     "shell.execute_reply": "2020-12-18T21:07:02.875208Z"
    },
    "papermill": {
     "duration": 0.156179,
     "end_time": "2020-12-18T21:07:02.875509",
     "exception": false,
     "start_time": "2020-12-18T21:07:02.719330",
     "status": "completed"
    },
    "tags": []
   },
   "outputs": [
    {
     "data": {
      "text/plain": [
       "Text(0, 0.5, 'Model')"
      ]
     },
     "execution_count": 11,
     "metadata": {},
     "output_type": "execute_result"
    },
    {
     "data": {
      "image/png": "[encoded data removed]",
      "text/plain": [
       "<Figure size 432x288 with 1 Axes>"
      ]
     },
     "metadata": {
      "needs_background": "light"
     },
     "output_type": "display_data"
    }
   ],
   "source": [
    "plt.scatter(df_match[station_dv], df_match.model_values)\n",
    "plt.title(\"Correlation between station and models\")\n",
    "plt.xlabel('Stations')\n",
    "plt.ylabel('Model')"
   ]
  },
  {
   "cell_type": "markdown",
   "metadata": {
    "papermill": {
     "duration": 0.017607,
     "end_time": "2020-12-18T21:07:02.918289",
     "exception": false,
     "start_time": "2020-12-18T21:07:02.900682",
     "status": "completed"
    },
    "tags": []
   },
   "source": [
    "Now each station should be matched with a value grid cell value"
   ]
  },
  {
   "cell_type": "markdown",
   "metadata": {
    "papermill": {
     "duration": 0.015939,
     "end_time": "2020-12-18T21:07:02.948031",
     "exception": false,
     "start_time": "2020-12-18T21:07:02.932092",
     "status": "completed"
    },
    "tags": []
   },
   "source": [
    "### Normalize the model mean to match that of the station distribution\n",
    "Find a factor, $\\beta$ such that\n",
    "$$\\mu_s - \\frac{\\mu_m}{\\beta} \\approx 0$$ where $\\mu_s$ is the spatial station mean and $\\mu_m$ is the spatial model mean.\n",
    "\n",
    "$\\beta$ is simply:\n",
    "\n",
    "$$\\beta = \\frac{\\sum_i^{N_s}{M_i}}{\\sum_i^{N_s}{S_i}}$$"
   ]
  },
  {
   "cell_type": "code",
   "execution_count": 12,
   "metadata": {
    "execution": {
     "iopub.execute_input": "2020-12-18T21:07:02.980531Z",
     "iopub.status.busy": "2020-12-18T21:07:02.980164Z",
     "iopub.status.idle": "2020-12-18T21:07:02.986254Z",
     "shell.execute_reply": "2020-12-18T21:07:02.986661Z"
    },
    "papermill": {
     "duration": 0.023278,
     "end_time": "2020-12-18T21:07:02.986824",
     "exception": false,
     "start_time": "2020-12-18T21:07:02.963546",
     "status": "completed"
    },
    "tags": []
   },
   "outputs": [
    {
     "name": "stdout",
     "output_type": "stream",
     "text": [
      "Scaling factor: 1.116255327532803\n"
     ]
    }
   ],
   "source": [
    "ratio, best_tol = scale_model_obs(df_match.model_values, df_match[station_dv])\n",
    "assert not np.any(np.isnan(ratio))\n",
    "df_match = df_match.assign(ratio=ratio)\n",
    "print(\"Scaling factor:\", best_tol)"
   ]
  },
  {
   "cell_type": "code",
   "execution_count": 13,
   "metadata": {
    "execution": {
     "iopub.execute_input": "2020-12-18T21:07:03.046656Z",
     "iopub.status.busy": "2020-12-18T21:07:03.046247Z",
     "iopub.status.idle": "2020-12-18T21:07:03.049851Z",
     "shell.execute_reply": "2020-12-18T21:07:03.049383Z"
    },
    "papermill": {
     "duration": 0.035722,
     "end_time": "2020-12-18T21:07:03.050001",
     "exception": false,
     "start_time": "2020-12-18T21:07:03.014279",
     "status": "completed"
    },
    "tags": []
   },
   "outputs": [
    {
     "data": {
      "text/html": [
       "<div>\n",
       "<style scoped>\n",
       "    .dataframe tbody tr th:only-of-type {\n",
       "        vertical-align: middle;\n",
       "    }\n",
       "\n",
       "    .dataframe tbody tr th {\n",
       "        vertical-align: top;\n",
       "    }\n",
       "\n",
       "    .dataframe thead th {\n",
       "        text-align: right;\n",
       "    }\n",
       "</style>\n",
       "<table border=\"1\" class=\"dataframe\">\n",
       "  <thead>\n",
       "    <tr style=\"text-align: right;\">\n",
       "      <th></th>\n",
       "      <th>irlat</th>\n",
       "      <th>irlon</th>\n",
       "      <th>mean RH (%)</th>\n",
       "      <th>rlat</th>\n",
       "      <th>rlon</th>\n",
       "      <th>lat</th>\n",
       "      <th>lon</th>\n",
       "      <th>elev (m)</th>\n",
       "      <th>station_name</th>\n",
       "      <th>province</th>\n",
       "      <th>model_values</th>\n",
       "      <th>ratio</th>\n",
       "    </tr>\n",
       "  </thead>\n",
       "  <tbody>\n",
       "    <tr>\n",
       "      <th>0</th>\n",
       "      <td>552</td>\n",
       "      <td>1011</td>\n",
       "      <td>75.0</td>\n",
       "      <td>-4.517790</td>\n",
       "      <td>10.457750</td>\n",
       "      <td>42.0333</td>\n",
       "      <td>-82.9000</td>\n",
       "      <td>191.0</td>\n",
       "      <td>HARROW CDA AUTO</td>\n",
       "      <td>ON</td>\n",
       "      <td>82.043449</td>\n",
       "      <td>1.020425</td>\n",
       "    </tr>\n",
       "    <tr>\n",
       "      <th>1</th>\n",
       "      <td>558</td>\n",
       "      <td>1009</td>\n",
       "      <td>71.0</td>\n",
       "      <td>-4.286849</td>\n",
       "      <td>10.373390</td>\n",
       "      <td>42.2756</td>\n",
       "      <td>-82.9556</td>\n",
       "      <td>190.0</td>\n",
       "      <td>WINDSOR A</td>\n",
       "      <td>ON</td>\n",
       "      <td>81.802795</td>\n",
       "      <td>0.968844</td>\n",
       "    </tr>\n",
       "    <tr>\n",
       "      <th>2</th>\n",
       "      <td>560</td>\n",
       "      <td>1026</td>\n",
       "      <td>76.0</td>\n",
       "      <td>-4.166610</td>\n",
       "      <td>11.147744</td>\n",
       "      <td>42.2501</td>\n",
       "      <td>-81.9001</td>\n",
       "      <td>178.0</td>\n",
       "      <td>ERIEAU (AUT)</td>\n",
       "      <td>ON</td>\n",
       "      <td>82.289291</td>\n",
       "      <td>1.030941</td>\n",
       "    </tr>\n",
       "  </tbody>\n",
       "</table>\n",
       "</div>"
      ],
      "text/plain": [
       "   irlat  irlon  mean RH (%)      rlat       rlon      lat      lon  elev (m)  \\\n",
       "0    552   1011         75.0 -4.517790  10.457750  42.0333 -82.9000     191.0   \n",
       "1    558   1009         71.0 -4.286849  10.373390  42.2756 -82.9556     190.0   \n",
       "2    560   1026         76.0 -4.166610  11.147744  42.2501 -81.9001     178.0   \n",
       "\n",
       "      station_name province  model_values     ratio  \n",
       "0  HARROW CDA AUTO       ON     82.043449  1.020425  \n",
       "1        WINDSOR A       ON     81.802795  0.968844  \n",
       "2     ERIEAU (AUT)       ON     82.289291  1.030941  "
      ]
     },
     "execution_count": 13,
     "metadata": {},
     "output_type": "execute_result"
    }
   ],
   "source": [
    "df_match.head(3)"
   ]
  },
  {
   "cell_type": "code",
   "execution_count": 14,
   "metadata": {
    "execution": {
     "iopub.execute_input": "2020-12-18T21:07:03.092500Z",
     "iopub.status.busy": "2020-12-18T21:07:03.091799Z",
     "iopub.status.idle": "2020-12-18T21:07:03.093882Z",
     "shell.execute_reply": "2020-12-18T21:07:03.094203Z"
    },
    "papermill": {
     "duration": 0.020897,
     "end_time": "2020-12-18T21:07:03.094343",
     "exception": false,
     "start_time": "2020-12-18T21:07:03.073446",
     "status": "completed"
    },
    "tags": []
   },
   "outputs": [],
   "source": [
    "# convert back to degC\n",
    "if ds[dv].attrs[\"units\"] == \"degC\" and \"degC\" in station_dv:\n",
    "    print(\"Temperature DV detected in degC. Converitng to Kelvin\")\n",
    "    K = 273.15 # K\n",
    "    df_match[station_dv] -= K\n",
    "    df_match.model_values -= K"
   ]
  },
  {
   "cell_type": "code",
   "execution_count": 15,
   "metadata": {
    "execution": {
     "iopub.execute_input": "2020-12-18T21:07:03.139437Z",
     "iopub.status.busy": "2020-12-18T21:07:03.138995Z",
     "iopub.status.idle": "2020-12-18T21:07:03.152534Z",
     "shell.execute_reply": "2020-12-18T21:07:03.153358Z"
    },
    "papermill": {
     "duration": 0.037467,
     "end_time": "2020-12-18T21:07:03.153757",
     "exception": false,
     "start_time": "2020-12-18T21:07:03.116290",
     "status": "completed"
    },
    "tags": []
   },
   "outputs": [],
   "source": [
    "df_match.to_csv(\n",
    "    resource_filename(\n",
    "        \"climpyrical\",\n",
    "        f\"{preprocessed_stations_path}{name}.csv\"\n",
    "    ), index=False\n",
    ")"
   ]
  },
  {
   "cell_type": "code",
   "execution_count": 16,
   "metadata": {
    "execution": {
     "iopub.execute_input": "2020-12-18T21:07:03.196932Z",
     "iopub.status.busy": "2020-12-18T21:07:03.196514Z",
     "iopub.status.idle": "2020-12-18T21:07:03.199044Z",
     "shell.execute_reply": "2020-12-18T21:07:03.199511Z"
    },
    "papermill": {
     "duration": 0.023809,
     "end_time": "2020-12-18T21:07:03.199707",
     "exception": false,
     "start_time": "2020-12-18T21:07:03.175898",
     "status": "completed"
    },
    "tags": []
   },
   "outputs": [],
   "source": [
    "assert np.all(df_match['ratio'] >= 0)"
   ]
  },
  {
   "cell_type": "code",
   "execution_count": null,
   "metadata": {
    "papermill": {
     "duration": 0.021749,
     "end_time": "2020-12-18T21:07:03.243742",
     "exception": false,
     "start_time": "2020-12-18T21:07:03.221993",
     "status": "completed"
    },
    "tags": []
   },
   "outputs": [],
   "source": []
  }
 ],
 "metadata": {
  "kernelspec": {
   "display_name": "Python 3",
   "language": "python",
   "name": "python3"
  },
  "language_info": {
   "codemirror_mode": {
    "name": "ipython",
    "version": 3
   },
   "file_extension": ".py",
   "mimetype": "text/x-python",
   "name": "python",
   "nbconvert_exporter": "python",
   "pygments_lexer": "ipython3",
   "version": "3.8.5"
  },
  "papermill": {
   "default_parameters": {},
   "duration": 6.043293,
   "end_time": "2020-12-18T21:07:04.564809",
   "environment_variables": {},
   "exception": null,
   "input_path": "stations.ipynb",
   "output_path": "/home/nannau/Desktop/pipeline/climpyrical/climpyrical/data/results/intermediate/notebooks/stations_log_RHann.ipynb",
   "parameters": {
    "fill_glaciers": true,
    "input_model_path": "data/model_inputs/hurs_CanRCM4-LE_ens15_1951-2016_ensmean.nc",
    "mask_path": "data/masks/canada_mask_rp.nc",
    "medians": {
     "action": "None",
     "value": "None"
    },
    "name": "RHann",
    "nbcc_loc_path": "data/station_inputs/NBCC_2020_new_coords.xlsm",
    "north_mask_path": "data/masks/canada_mask_north_rp.nc",
    "output_figure_path": "/data/results/figures/",
    "output_notebook_path": "/data/results/intermediate/notebooks/",
    "output_reconstruction_path": "/data/results/netcdf/",
    "output_tables_path": "/data/results/TableC2/",
    "preprocessed_model_path": "/data/results/intermediate/preprocessed_netcdf/",
    "preprocessed_stations_path": "/data/results/intermediate/preprocessed_stations/",
    "station_dv": "mean RH (%)",
    "station_path": "data/station_inputs/rh_annual_mean_10yr_for_maps.csv"
   },
   "start_time": "2020-12-18T21:06:58.521516",
   "version": "2.2.2"
  }
 },
 "nbformat": 4,
 "nbformat_minor": 4
}