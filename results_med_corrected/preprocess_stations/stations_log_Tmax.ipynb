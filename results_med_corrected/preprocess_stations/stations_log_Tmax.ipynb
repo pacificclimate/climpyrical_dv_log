{
 "cells": [
  {
   "cell_type": "markdown",
   "metadata": {
    "papermill": {
     "duration": 0.016444,
     "end_time": "2020-12-18T21:16:48.886718",
     "exception": false,
     "start_time": "2020-12-18T21:16:48.870274",
     "status": "completed"
    },
    "tags": []
   },
   "source": [
    "# Process Stations"
   ]
  },
  {
   "cell_type": "code",
   "execution_count": 1,
   "metadata": {
    "execution": {
     "iopub.execute_input": "2020-12-18T21:16:48.928458Z",
     "iopub.status.busy": "2020-12-18T21:16:48.927717Z",
     "iopub.status.idle": "2020-12-18T21:16:49.839444Z",
     "shell.execute_reply": "2020-12-18T21:16:49.838966Z"
    },
    "papermill": {
     "duration": 0.935812,
     "end_time": "2020-12-18T21:16:49.839607",
     "exception": false,
     "start_time": "2020-12-18T21:16:48.903795",
     "status": "completed"
    },
    "tags": []
   },
   "outputs": [],
   "source": [
    "import pandas as pd\n",
    "import numpy as np\n",
    "import matplotlib.pyplot as plt\n",
    "from pkg_resources import resource_filename\n",
    "\n",
    "from climpyrical.gridding import scale_model_obs\n",
    "from climpyrical.data import read_data\n",
    "from climpyrical.cmd.find_matched_model_vals import add_model_values"
   ]
  },
  {
   "cell_type": "markdown",
   "metadata": {
    "papermill": {
     "duration": 0.018271,
     "end_time": "2020-12-18T21:16:49.876135",
     "exception": false,
     "start_time": "2020-12-18T21:16:49.857864",
     "status": "completed"
    },
    "tags": []
   },
   "source": [
    "### Load station data for processing"
   ]
  },
  {
   "cell_type": "markdown",
   "metadata": {
    "papermill": {
     "duration": 0.020161,
     "end_time": "2020-12-18T21:16:49.913804",
     "exception": false,
     "start_time": "2020-12-18T21:16:49.893643",
     "status": "completed"
    },
    "tags": [
     "parameters"
    ]
   },
   "source": [
    "### Parameters are loaded from config_example.yml\n",
    "Example configuration from config_example.yml:\n",
    "```\n",
    "    paths:\n",
    "        preprocessed_model_path: /data/results/intermediate/preprocessed_netcdf/\n",
    "    RL50:\n",
    "        station_dv: \"RL50 (kPa)\"\n",
    "        station_path: 'data/station_inputs/Interim_snow_rain_load_LR_composite_stations_tbd_v4.csv'\n",
    "        input_model_path: 'data/model_inputs/snw_rain_CanRCM4-LE_ens35_1951-2016_max_rl50_load_ensmean.nc'\n",
    "        medians: \n",
    "            value: 0.4\n",
    "            action: \"multiply\"\n",
    "        fill_glaciers: True\n",
    "```"
   ]
  },
  {
   "cell_type": "code",
   "execution_count": 2,
   "metadata": {
    "execution": {
     "iopub.execute_input": "2020-12-18T21:16:49.942725Z",
     "iopub.status.busy": "2020-12-18T21:16:49.941776Z",
     "iopub.status.idle": "2020-12-18T21:16:49.943414Z",
     "shell.execute_reply": "2020-12-18T21:16:49.943846Z"
    },
    "papermill": {
     "duration": 0.016608,
     "end_time": "2020-12-18T21:16:49.944052",
     "exception": false,
     "start_time": "2020-12-18T21:16:49.927444",
     "status": "completed"
    },
    "tags": [
     "injected-parameters"
    ]
   },
   "outputs": [],
   "source": [
    "# Parameters\n",
    "name = \"Tmax\"\n",
    "station_dv = \"Tmax (degC)\"\n",
    "station_path = \"data/station_inputs/hdd_Tmax_Tmin_allstations_v3_for_maps.csv\"\n",
    "input_model_path = \"data/model_inputs/tas_CanRCM4-LE_ens35_1951-2016_ann_max_ensmean.nc\"\n",
    "medians = {\"value\": \"None\", \"action\": \"None\"}\n",
    "fill_glaciers = True\n",
    "output_notebook_path = \"/data/results/intermediate/notebooks/\"\n",
    "preprocessed_model_path = \"/data/results/intermediate/preprocessed_netcdf/\"\n",
    "preprocessed_stations_path = \"/data/results/intermediate/preprocessed_stations/\"\n",
    "output_reconstruction_path = \"/data/results/netcdf/\"\n",
    "output_tables_path = \"/data/results/TableC2/\"\n",
    "output_figure_path = \"/data/results/figures/\"\n",
    "mask_path = \"data/masks/canada_mask_rp.nc\"\n",
    "north_mask_path = \"data/masks/canada_mask_north_rp.nc\"\n",
    "nbcc_loc_path = \"data/station_inputs/NBCC_2020_new_coords.xlsm\"\n"
   ]
  },
  {
   "cell_type": "code",
   "execution_count": 3,
   "metadata": {
    "execution": {
     "iopub.execute_input": "2020-12-18T21:16:49.983097Z",
     "iopub.status.busy": "2020-12-18T21:16:49.982565Z",
     "iopub.status.idle": "2020-12-18T21:16:49.985187Z",
     "shell.execute_reply": "2020-12-18T21:16:49.984776Z"
    },
    "papermill": {
     "duration": 0.024822,
     "end_time": "2020-12-18T21:16:49.985332",
     "exception": false,
     "start_time": "2020-12-18T21:16:49.960510",
     "status": "completed"
    },
    "tags": [
     "parameters"
    ]
   },
   "outputs": [],
   "source": [
    "# Parameters cell"
   ]
  },
  {
   "cell_type": "code",
   "execution_count": 4,
   "metadata": {
    "execution": {
     "iopub.execute_input": "2020-12-18T21:16:50.014076Z",
     "iopub.status.busy": "2020-12-18T21:16:50.013600Z",
     "iopub.status.idle": "2020-12-18T21:16:50.020990Z",
     "shell.execute_reply": "2020-12-18T21:16:50.021522Z"
    },
    "papermill": {
     "duration": 0.023429,
     "end_time": "2020-12-18T21:16:50.021794",
     "exception": false,
     "start_time": "2020-12-18T21:16:49.998365",
     "status": "completed"
    },
    "tags": []
   },
   "outputs": [],
   "source": [
    "df = pd.read_csv(resource_filename(\"climpyrical\", station_path), index_col=None)"
   ]
  },
  {
   "cell_type": "markdown",
   "metadata": {
    "papermill": {
     "duration": 0.010542,
     "end_time": "2020-12-18T21:16:50.047657",
     "exception": false,
     "start_time": "2020-12-18T21:16:50.037115",
     "status": "completed"
    },
    "tags": []
   },
   "source": [
    "Check the columns for standard names, and standardize them.\n",
    "\n",
    "This process will not catch any and all possible inputs, so refer to documentation for \n",
    "expected column names"
   ]
  },
  {
   "cell_type": "code",
   "execution_count": 5,
   "metadata": {
    "execution": {
     "iopub.execute_input": "2020-12-18T21:16:50.092738Z",
     "iopub.status.busy": "2020-12-18T21:16:50.092034Z",
     "iopub.status.idle": "2020-12-18T21:16:50.094796Z",
     "shell.execute_reply": "2020-12-18T21:16:50.095528Z"
    },
    "papermill": {
     "duration": 0.034179,
     "end_time": "2020-12-18T21:16:50.095809",
     "exception": false,
     "start_time": "2020-12-18T21:16:50.061630",
     "status": "completed"
    },
    "tags": []
   },
   "outputs": [],
   "source": [
    "def check_df_columns(df):\n",
    "    if 'longitude' in df.columns:\n",
    "        df=df.rename(columns={'longitude': 'lon'})\n",
    "    if 'long' in df.columns:\n",
    "        df=df.rename(columns={'long': 'lon'})\n",
    "    if 'latitude' in df.columns:\n",
    "        df=df.rename(columns={'latitude': 'lat'})\n",
    "    if 'name' in df.columns:\n",
    "        df=df.rename(columns={'name': 'station_name'})\n",
    "    if 'Name' in df.columns:\n",
    "        df=df.rename(columns={'Name': 'station_name'})\n",
    "    if \"prov\" in df.columns:\n",
    "        df=df.rename(columns={\"prov\": \"province\"})\n",
    "    if \"elev\" in df.columns:\n",
    "        df=df.rename(columns={\"elev\": \"elev (m)\"})\n",
    "    if \"elevation (m)\" in df.columns:\n",
    "        df=df.rename(columns={\"elevation (m)\": \"elev (m)\"})\n",
    "    return df\n",
    "\n",
    "df = check_df_columns(df)\n",
    "df.head(5)\n",
    "\n",
    "if np.any(np.isnan(df[[\"lon\", \"lat\", \"elev (m)\", station_dv]].values)):\n",
    "    raise ValueError(\"NaN detected in station input file.\")"
   ]
  },
  {
   "cell_type": "markdown",
   "metadata": {
    "papermill": {
     "duration": 0.017553,
     "end_time": "2020-12-18T21:16:50.137863",
     "exception": false,
     "start_time": "2020-12-18T21:16:50.120310",
     "status": "completed"
    },
    "tags": []
   },
   "source": [
    "Load preprocessed model at target resolution"
   ]
  },
  {
   "cell_type": "code",
   "execution_count": 6,
   "metadata": {
    "execution": {
     "iopub.execute_input": "2020-12-18T21:16:50.190576Z",
     "iopub.status.busy": "2020-12-18T21:16:50.189922Z",
     "iopub.status.idle": "2020-12-18T21:16:50.254086Z",
     "shell.execute_reply": "2020-12-18T21:16:50.253299Z"
    },
    "papermill": {
     "duration": 0.089374,
     "end_time": "2020-12-18T21:16:50.254355",
     "exception": false,
     "start_time": "2020-12-18T21:16:50.164981",
     "status": "completed"
    },
    "tags": []
   },
   "outputs": [],
   "source": [
    "ds = read_data(resource_filename(\"climpyrical\", f\"{preprocessed_model_path}{name}.nc\"))\n",
    "(dv, ) = ds.data_vars"
   ]
  },
  {
   "cell_type": "markdown",
   "metadata": {
    "papermill": {
     "duration": 0.010844,
     "end_time": "2020-12-18T21:16:50.280537",
     "exception": false,
     "start_time": "2020-12-18T21:16:50.269693",
     "status": "completed"
    },
    "tags": []
   },
   "source": [
    "Perform unit conversion if necessary\n",
    "\n",
    "Exclude suspect RL50 values with true 0.0"
   ]
  },
  {
   "cell_type": "code",
   "execution_count": 7,
   "metadata": {
    "execution": {
     "iopub.execute_input": "2020-12-18T21:16:50.328279Z",
     "iopub.status.busy": "2020-12-18T21:16:50.327456Z",
     "iopub.status.idle": "2020-12-18T21:16:50.337824Z",
     "shell.execute_reply": "2020-12-18T21:16:50.338140Z"
    },
    "papermill": {
     "duration": 0.043644,
     "end_time": "2020-12-18T21:16:50.338304",
     "exception": false,
     "start_time": "2020-12-18T21:16:50.294660",
     "status": "completed"
    },
    "tags": []
   },
   "outputs": [
    {
     "name": "stdout",
     "output_type": "stream",
     "text": [
      "Temperature DV detected in degC. Converitng to Kelvin\n"
     ]
    }
   ],
   "source": [
    "# calculate ratios with applied correction\n",
    "# Note the ratios are calculated in K for Temperature fields\n",
    "if ds[dv].attrs[\"units\"] == \"degC\" and \"degC\" in station_dv:\n",
    "    print(\"Temperature DV detected in degC. Converitng to Kelvin\")\n",
    "    K = 273.15 # K\n",
    "    df[station_dv] += K\n",
    "    ds[dv] += K\n",
    "\n",
    "if 'RL50 (kPa)' in station_dv:\n",
    "    df = df[df[station_dv] != 0.0]"
   ]
  },
  {
   "cell_type": "markdown",
   "metadata": {
    "papermill": {
     "duration": 0.010901,
     "end_time": "2020-12-18T21:16:50.360077",
     "exception": false,
     "start_time": "2020-12-18T21:16:50.349176",
     "status": "completed"
    },
    "tags": []
   },
   "source": [
    "Use matching script to find matching model values"
   ]
  },
  {
   "cell_type": "code",
   "execution_count": 8,
   "metadata": {
    "execution": {
     "iopub.execute_input": "2020-12-18T21:16:50.389325Z",
     "iopub.status.busy": "2020-12-18T21:16:50.388880Z",
     "iopub.status.idle": "2020-12-18T21:16:52.327951Z",
     "shell.execute_reply": "2020-12-18T21:16:52.328731Z"
    },
    "papermill": {
     "duration": 1.958126,
     "end_time": "2020-12-18T21:16:52.329017",
     "exception": false,
     "start_time": "2020-12-18T21:16:50.370891",
     "status": "completed"
    },
    "tags": []
   },
   "outputs": [
    {
     "name": "stderr",
     "output_type": "stream",
     "text": [
      "INFO:root:Detect units: degC\n"
     ]
    },
    {
     "name": "stderr",
     "output_type": "stream",
     "text": [
      "INFO:root:rlat or rlon not detected in input file.converting assumes WGS84 coords to rotated pole\n"
     ]
    },
    {
     "name": "stderr",
     "output_type": "stream",
     "text": [
      "INFO:root:Matching coordinates now\n"
     ]
    },
    {
     "name": "stderr",
     "output_type": "stream",
     "text": [
      "INFO:root:Locating corresponding model valuesInterpolating to nearest if matched model value is NaN\n"
     ]
    },
    {
     "data": {
      "text/html": [
       "<div>\n",
       "<style scoped>\n",
       "    .dataframe tbody tr th:only-of-type {\n",
       "        vertical-align: middle;\n",
       "    }\n",
       "\n",
       "    .dataframe tbody tr th {\n",
       "        vertical-align: top;\n",
       "    }\n",
       "\n",
       "    .dataframe thead th {\n",
       "        text-align: right;\n",
       "    }\n",
       "</style>\n",
       "<table border=\"1\" class=\"dataframe\">\n",
       "  <thead>\n",
       "    <tr style=\"text-align: right;\">\n",
       "      <th></th>\n",
       "      <th>history_id</th>\n",
       "      <th>station_name</th>\n",
       "      <th>province</th>\n",
       "      <th>lon</th>\n",
       "      <th>lat</th>\n",
       "      <th>elev (m)</th>\n",
       "      <th>HDD (degC-day)</th>\n",
       "      <th>Tmean (degC)</th>\n",
       "      <th>Tmax (degC)</th>\n",
       "      <th>Tmin (degC)</th>\n",
       "      <th>rlat</th>\n",
       "      <th>rlon</th>\n",
       "      <th>irlat</th>\n",
       "      <th>irlon</th>\n",
       "      <th>model_values</th>\n",
       "    </tr>\n",
       "  </thead>\n",
       "  <tbody>\n",
       "    <tr>\n",
       "      <th>0</th>\n",
       "      <td>15.0</td>\n",
       "      <td>CHEMAINUS</td>\n",
       "      <td>BC</td>\n",
       "      <td>-123.742</td>\n",
       "      <td>48.9350</td>\n",
       "      <td>75</td>\n",
       "      <td>2661.023529</td>\n",
       "      <td>11.160433</td>\n",
       "      <td>297.860000</td>\n",
       "      <td>-2.820000</td>\n",
       "      <td>4.407283</td>\n",
       "      <td>-17.245771</td>\n",
       "      <td>754</td>\n",
       "      <td>385</td>\n",
       "      <td>297.267352</td>\n",
       "    </tr>\n",
       "    <tr>\n",
       "      <th>1</th>\n",
       "      <td>26.0</td>\n",
       "      <td>COWICHAN LAKE FORESTRY</td>\n",
       "      <td>BC</td>\n",
       "      <td>-124.133</td>\n",
       "      <td>48.8244</td>\n",
       "      <td>177</td>\n",
       "      <td>3041.259091</td>\n",
       "      <td>9.734962</td>\n",
       "      <td>296.296667</td>\n",
       "      <td>-5.313333</td>\n",
       "      <td>4.389211</td>\n",
       "      <td>-17.525927</td>\n",
       "      <td>754</td>\n",
       "      <td>378</td>\n",
       "      <td>296.671551</td>\n",
       "    </tr>\n",
       "    <tr>\n",
       "      <th>2</th>\n",
       "      <td>36.0</td>\n",
       "      <td>DUNCAN KELVIN CREEK</td>\n",
       "      <td>BC</td>\n",
       "      <td>-123.728</td>\n",
       "      <td>48.7347</td>\n",
       "      <td>103</td>\n",
       "      <td>2947.510000</td>\n",
       "      <td>10.004958</td>\n",
       "      <td>294.816667</td>\n",
       "      <td>-4.540000</td>\n",
       "      <td>4.215322</td>\n",
       "      <td>-17.303868</td>\n",
       "      <td>750</td>\n",
       "      <td>384</td>\n",
       "      <td>296.427470</td>\n",
       "    </tr>\n",
       "    <tr>\n",
       "      <th>3</th>\n",
       "      <td>42.0</td>\n",
       "      <td>ESQUIMALT HARBOUR</td>\n",
       "      <td>BC</td>\n",
       "      <td>-123.439</td>\n",
       "      <td>48.4320</td>\n",
       "      <td>3</td>\n",
       "      <td>2934.000000</td>\n",
       "      <td>10.301398</td>\n",
       "      <td>292.108333</td>\n",
       "      <td>-1.891667</td>\n",
       "      <td>3.866425</td>\n",
       "      <td>-17.223366</td>\n",
       "      <td>742</td>\n",
       "      <td>385</td>\n",
       "      <td>295.887907</td>\n",
       "    </tr>\n",
       "    <tr>\n",
       "      <th>4</th>\n",
       "      <td>58.0</td>\n",
       "      <td>MAYNE ISLAND</td>\n",
       "      <td>BC</td>\n",
       "      <td>-123.320</td>\n",
       "      <td>48.8447</td>\n",
       "      <td>28</td>\n",
       "      <td>2853.260000</td>\n",
       "      <td>10.273197</td>\n",
       "      <td>295.763333</td>\n",
       "      <td>-4.480000</td>\n",
       "      <td>4.230411</td>\n",
       "      <td>-17.013034</td>\n",
       "      <td>750</td>\n",
       "      <td>390</td>\n",
       "      <td>296.779152</td>\n",
       "    </tr>\n",
       "  </tbody>\n",
       "</table>\n",
       "</div>"
      ],
      "text/plain": [
       "   history_id            station_name province      lon      lat  elev (m)  \\\n",
       "0        15.0               CHEMAINUS       BC -123.742  48.9350        75   \n",
       "1        26.0  COWICHAN LAKE FORESTRY       BC -124.133  48.8244       177   \n",
       "2        36.0     DUNCAN KELVIN CREEK       BC -123.728  48.7347       103   \n",
       "3        42.0       ESQUIMALT HARBOUR       BC -123.439  48.4320         3   \n",
       "4        58.0            MAYNE ISLAND       BC -123.320  48.8447        28   \n",
       "\n",
       "   HDD (degC-day)  Tmean (degC)  Tmax (degC)  Tmin (degC)      rlat  \\\n",
       "0     2661.023529     11.160433   297.860000    -2.820000  4.407283   \n",
       "1     3041.259091      9.734962   296.296667    -5.313333  4.389211   \n",
       "2     2947.510000     10.004958   294.816667    -4.540000  4.215322   \n",
       "3     2934.000000     10.301398   292.108333    -1.891667  3.866425   \n",
       "4     2853.260000     10.273197   295.763333    -4.480000  4.230411   \n",
       "\n",
       "        rlon  irlat  irlon  model_values  \n",
       "0 -17.245771    754    385    297.267352  \n",
       "1 -17.525927    754    378    296.671551  \n",
       "2 -17.303868    750    384    296.427470  \n",
       "3 -17.223366    742    385    295.887907  \n",
       "4 -17.013034    750    390    296.779152  "
      ]
     },
     "execution_count": 8,
     "metadata": {},
     "output_type": "execute_result"
    }
   ],
   "source": [
    "df = add_model_values(ds=ds, df=df)\n",
    "df.head(5)"
   ]
  },
  {
   "cell_type": "markdown",
   "metadata": {
    "papermill": {
     "duration": 0.018684,
     "end_time": "2020-12-18T21:16:52.370624",
     "exception": false,
     "start_time": "2020-12-18T21:16:52.351940",
     "status": "completed"
    },
    "tags": []
   },
   "source": [
    "Group stations that land in the same index in rlat and rlon (land in the same grid cell)\n",
    "\n",
    "This means that they are in the same grid cell and need to be aggregated"
   ]
  },
  {
   "cell_type": "code",
   "execution_count": 9,
   "metadata": {
    "execution": {
     "iopub.execute_input": "2020-12-18T21:16:52.403908Z",
     "iopub.status.busy": "2020-12-18T21:16:52.403308Z",
     "iopub.status.idle": "2020-12-18T21:16:52.421120Z",
     "shell.execute_reply": "2020-12-18T21:16:52.421850Z"
    },
    "papermill": {
     "duration": 0.039648,
     "end_time": "2020-12-18T21:16:52.422160",
     "exception": false,
     "start_time": "2020-12-18T21:16:52.382512",
     "status": "completed"
    },
    "tags": []
   },
   "outputs": [],
   "source": [
    "agg_dict = {\n",
    "    station_dv: 'mean', \n",
    "    'rlat':'mean', \n",
    "    'rlon':'mean', \n",
    "    'lat': 'mean', \n",
    "    'lon': 'mean', \n",
    "    'elev (m)': 'mean',\n",
    "    'station_name': 'first',\n",
    "    'province': 'first',\n",
    "    \"model_values\": \"mean\"\n",
    "}\n",
    "\n",
    "# Province key is used for WP10 and WP50 for\n",
    "# special treatment of Atlantic/Far NW areas\n",
    "if \"province\" not in df.columns:\n",
    "    agg_dict = agg_dict.pop(\"province\")\n",
    "\n",
    "df_match = df.groupby(\n",
    "    ['irlat', 'irlon'], as_index=False\n",
    ").agg(\n",
    "    agg_dict\n",
    ")\n",
    "\n",
    "\n",
    "irlat = df_match.irlat\n",
    "irlon = df_match.irlon"
   ]
  },
  {
   "cell_type": "code",
   "execution_count": 10,
   "metadata": {
    "execution": {
     "iopub.execute_input": "2020-12-18T21:16:52.474082Z",
     "iopub.status.busy": "2020-12-18T21:16:52.472989Z",
     "iopub.status.idle": "2020-12-18T21:16:52.477449Z",
     "shell.execute_reply": "2020-12-18T21:16:52.476677Z"
    },
    "papermill": {
     "duration": 0.036244,
     "end_time": "2020-12-18T21:16:52.477693",
     "exception": false,
     "start_time": "2020-12-18T21:16:52.441449",
     "status": "completed"
    },
    "tags": []
   },
   "outputs": [
    {
     "data": {
      "text/html": [
       "<div>\n",
       "<style scoped>\n",
       "    .dataframe tbody tr th:only-of-type {\n",
       "        vertical-align: middle;\n",
       "    }\n",
       "\n",
       "    .dataframe tbody tr th {\n",
       "        vertical-align: top;\n",
       "    }\n",
       "\n",
       "    .dataframe thead th {\n",
       "        text-align: right;\n",
       "    }\n",
       "</style>\n",
       "<table border=\"1\" class=\"dataframe\">\n",
       "  <thead>\n",
       "    <tr style=\"text-align: right;\">\n",
       "      <th></th>\n",
       "      <th>irlat</th>\n",
       "      <th>irlon</th>\n",
       "      <th>Tmax (degC)</th>\n",
       "      <th>rlat</th>\n",
       "      <th>rlon</th>\n",
       "      <th>lat</th>\n",
       "      <th>lon</th>\n",
       "      <th>elev (m)</th>\n",
       "      <th>station_name</th>\n",
       "      <th>province</th>\n",
       "      <th>model_values</th>\n",
       "    </tr>\n",
       "  </thead>\n",
       "  <tbody>\n",
       "    <tr>\n",
       "      <th>0</th>\n",
       "      <td>552</td>\n",
       "      <td>1011</td>\n",
       "      <td>301.194444</td>\n",
       "      <td>-4.517790</td>\n",
       "      <td>10.457750</td>\n",
       "      <td>42.03330</td>\n",
       "      <td>-82.9000</td>\n",
       "      <td>191</td>\n",
       "      <td>HARROW CDA</td>\n",
       "      <td>ON</td>\n",
       "      <td>305.065615</td>\n",
       "    </tr>\n",
       "    <tr>\n",
       "      <th>1</th>\n",
       "      <td>552</td>\n",
       "      <td>1017</td>\n",
       "      <td>300.571429</td>\n",
       "      <td>-4.547677</td>\n",
       "      <td>10.753982</td>\n",
       "      <td>41.95000</td>\n",
       "      <td>-82.5167</td>\n",
       "      <td>177</td>\n",
       "      <td>POINT PELEE</td>\n",
       "      <td>ON</td>\n",
       "      <td>304.891188</td>\n",
       "    </tr>\n",
       "    <tr>\n",
       "      <th>2</th>\n",
       "      <td>553</td>\n",
       "      <td>1007</td>\n",
       "      <td>300.168182</td>\n",
       "      <td>-4.474659</td>\n",
       "      <td>10.302673</td>\n",
       "      <td>42.10340</td>\n",
       "      <td>-83.0945</td>\n",
       "      <td>182</td>\n",
       "      <td>AMHERSTBURG</td>\n",
       "      <td>ON</td>\n",
       "      <td>305.149405</td>\n",
       "    </tr>\n",
       "    <tr>\n",
       "      <th>3</th>\n",
       "      <td>557</td>\n",
       "      <td>1013</td>\n",
       "      <td>301.880769</td>\n",
       "      <td>-4.315023</td>\n",
       "      <td>10.546376</td>\n",
       "      <td>42.21670</td>\n",
       "      <td>-82.7333</td>\n",
       "      <td>183</td>\n",
       "      <td>WOODSLEE CDA AUTOMATIC CLIMATE STATION</td>\n",
       "      <td>ON</td>\n",
       "      <td>304.954720</td>\n",
       "    </tr>\n",
       "    <tr>\n",
       "      <th>4</th>\n",
       "      <td>558</td>\n",
       "      <td>1009</td>\n",
       "      <td>302.175000</td>\n",
       "      <td>-4.286849</td>\n",
       "      <td>10.373390</td>\n",
       "      <td>42.27560</td>\n",
       "      <td>-82.9556</td>\n",
       "      <td>190</td>\n",
       "      <td>WINDSOR A</td>\n",
       "      <td>ON</td>\n",
       "      <td>305.038205</td>\n",
       "    </tr>\n",
       "    <tr>\n",
       "      <th>...</th>\n",
       "      <td>...</td>\n",
       "      <td>...</td>\n",
       "      <td>...</td>\n",
       "      <td>...</td>\n",
       "      <td>...</td>\n",
       "      <td>...</td>\n",
       "      <td>...</td>\n",
       "      <td>...</td>\n",
       "      <td>...</td>\n",
       "      <td>...</td>\n",
       "      <td>...</td>\n",
       "    </tr>\n",
       "    <tr>\n",
       "      <th>1256</th>\n",
       "      <td>1240</td>\n",
       "      <td>914</td>\n",
       "      <td>285.083333</td>\n",
       "      <td>25.951024</td>\n",
       "      <td>6.194640</td>\n",
       "      <td>72.68940</td>\n",
       "      <td>-77.9689</td>\n",
       "      <td>62</td>\n",
       "      <td>POND INLET A</td>\n",
       "      <td>NU</td>\n",
       "      <td>282.552151</td>\n",
       "    </tr>\n",
       "    <tr>\n",
       "      <th>1257</th>\n",
       "      <td>1246</td>\n",
       "      <td>562</td>\n",
       "      <td>287.231250</td>\n",
       "      <td>26.218512</td>\n",
       "      <td>-9.388406</td>\n",
       "      <td>71.99625</td>\n",
       "      <td>-125.2605</td>\n",
       "      <td>87</td>\n",
       "      <td>SACHS HARBOUR CLIMATE COMPOSITE</td>\n",
       "      <td>NT</td>\n",
       "      <td>291.325495</td>\n",
       "    </tr>\n",
       "    <tr>\n",
       "      <th>1258</th>\n",
       "      <td>1269</td>\n",
       "      <td>788</td>\n",
       "      <td>283.411290</td>\n",
       "      <td>27.224763</td>\n",
       "      <td>0.601810</td>\n",
       "      <td>74.71690</td>\n",
       "      <td>-94.9694</td>\n",
       "      <td>68</td>\n",
       "      <td>RESOLUTE CARS</td>\n",
       "      <td>NU</td>\n",
       "      <td>281.660303</td>\n",
       "    </tr>\n",
       "    <tr>\n",
       "      <th>1259</th>\n",
       "      <td>1391</td>\n",
       "      <td>826</td>\n",
       "      <td>283.734848</td>\n",
       "      <td>32.645419</td>\n",
       "      <td>2.272431</td>\n",
       "      <td>79.98330</td>\n",
       "      <td>-85.9333</td>\n",
       "      <td>10</td>\n",
       "      <td>EUREKA A</td>\n",
       "      <td>NU</td>\n",
       "      <td>279.208053</td>\n",
       "    </tr>\n",
       "    <tr>\n",
       "      <th>1260</th>\n",
       "      <td>1472</td>\n",
       "      <td>894</td>\n",
       "      <td>283.400000</td>\n",
       "      <td>36.222663</td>\n",
       "      <td>5.274963</td>\n",
       "      <td>82.51780</td>\n",
       "      <td>-62.2806</td>\n",
       "      <td>30</td>\n",
       "      <td>ALERT</td>\n",
       "      <td>NU</td>\n",
       "      <td>279.208053</td>\n",
       "    </tr>\n",
       "  </tbody>\n",
       "</table>\n",
       "<p>1261 rows × 11 columns</p>\n",
       "</div>"
      ],
      "text/plain": [
       "      irlat  irlon  Tmax (degC)       rlat       rlon       lat       lon  \\\n",
       "0       552   1011   301.194444  -4.517790  10.457750  42.03330  -82.9000   \n",
       "1       552   1017   300.571429  -4.547677  10.753982  41.95000  -82.5167   \n",
       "2       553   1007   300.168182  -4.474659  10.302673  42.10340  -83.0945   \n",
       "3       557   1013   301.880769  -4.315023  10.546376  42.21670  -82.7333   \n",
       "4       558   1009   302.175000  -4.286849  10.373390  42.27560  -82.9556   \n",
       "...     ...    ...          ...        ...        ...       ...       ...   \n",
       "1256   1240    914   285.083333  25.951024   6.194640  72.68940  -77.9689   \n",
       "1257   1246    562   287.231250  26.218512  -9.388406  71.99625 -125.2605   \n",
       "1258   1269    788   283.411290  27.224763   0.601810  74.71690  -94.9694   \n",
       "1259   1391    826   283.734848  32.645419   2.272431  79.98330  -85.9333   \n",
       "1260   1472    894   283.400000  36.222663   5.274963  82.51780  -62.2806   \n",
       "\n",
       "      elev (m)                            station_name province  model_values  \n",
       "0          191                              HARROW CDA       ON    305.065615  \n",
       "1          177                             POINT PELEE       ON    304.891188  \n",
       "2          182                             AMHERSTBURG       ON    305.149405  \n",
       "3          183  WOODSLEE CDA AUTOMATIC CLIMATE STATION       ON    304.954720  \n",
       "4          190                               WINDSOR A       ON    305.038205  \n",
       "...        ...                                     ...      ...           ...  \n",
       "1256        62                            POND INLET A       NU    282.552151  \n",
       "1257        87         SACHS HARBOUR CLIMATE COMPOSITE       NT    291.325495  \n",
       "1258        68                           RESOLUTE CARS       NU    281.660303  \n",
       "1259        10                                EUREKA A       NU    279.208053  \n",
       "1260        30                                   ALERT       NU    279.208053  \n",
       "\n",
       "[1261 rows x 11 columns]"
      ]
     },
     "execution_count": 10,
     "metadata": {},
     "output_type": "execute_result"
    }
   ],
   "source": [
    "df_match"
   ]
  },
  {
   "cell_type": "markdown",
   "metadata": {
    "papermill": {
     "duration": 0.018876,
     "end_time": "2020-12-18T21:16:52.520253",
     "exception": false,
     "start_time": "2020-12-18T21:16:52.501377",
     "status": "completed"
    },
    "tags": []
   },
   "source": [
    "Verify that they are correlated"
   ]
  },
  {
   "cell_type": "code",
   "execution_count": 11,
   "metadata": {
    "execution": {
     "iopub.execute_input": "2020-12-18T21:16:52.570523Z",
     "iopub.status.busy": "2020-12-18T21:16:52.564637Z",
     "iopub.status.idle": "2020-12-18T21:16:52.706490Z",
     "shell.execute_reply": "2020-12-18T21:16:52.706968Z"
    },
    "papermill": {
     "duration": 0.173996,
     "end_time": "2020-12-18T21:16:52.707178",
     "exception": false,
     "start_time": "2020-12-18T21:16:52.533182",
     "status": "completed"
    },
    "tags": []
   },
   "outputs": [
    {
     "data": {
      "text/plain": [
       "Text(0, 0.5, 'Model')"
      ]
     },
     "execution_count": 11,
     "metadata": {},
     "output_type": "execute_result"
    },
    {
     "data": {
      "image/png": "[encoded data removed]",
      "text/plain": [
       "<Figure size 432x288 with 1 Axes>"
      ]
     },
     "metadata": {
      "needs_background": "light"
     },
     "output_type": "display_data"
    }
   ],
   "source": [
    "plt.scatter(df_match[station_dv], df_match.model_values)\n",
    "plt.title(\"Correlation between station and models\")\n",
    "plt.xlabel('Stations')\n",
    "plt.ylabel('Model')"
   ]
  },
  {
   "cell_type": "markdown",
   "metadata": {
    "papermill": {
     "duration": 0.020936,
     "end_time": "2020-12-18T21:16:52.749634",
     "exception": false,
     "start_time": "2020-12-18T21:16:52.728698",
     "status": "completed"
    },
    "tags": []
   },
   "source": [
    "Now each station should be matched with a value grid cell value"
   ]
  },
  {
   "cell_type": "markdown",
   "metadata": {
    "papermill": {
     "duration": 0.01443,
     "end_time": "2020-12-18T21:16:52.779916",
     "exception": false,
     "start_time": "2020-12-18T21:16:52.765486",
     "status": "completed"
    },
    "tags": []
   },
   "source": [
    "### Normalize the model mean to match that of the station distribution\n",
    "Find a factor, $\\beta$ such that\n",
    "$$\\mu_s - \\frac{\\mu_m}{\\beta} \\approx 0$$ where $\\mu_s$ is the spatial station mean and $\\mu_m$ is the spatial model mean.\n",
    "\n",
    "$\\beta$ is simply:\n",
    "\n",
    "$$\\beta = \\frac{\\sum_i^{N_s}{M_i}}{\\sum_i^{N_s}{S_i}}$$"
   ]
  },
  {
   "cell_type": "code",
   "execution_count": 12,
   "metadata": {
    "execution": {
     "iopub.execute_input": "2020-12-18T21:16:52.815878Z",
     "iopub.status.busy": "2020-12-18T21:16:52.814487Z",
     "iopub.status.idle": "2020-12-18T21:16:52.821331Z",
     "shell.execute_reply": "2020-12-18T21:16:52.820555Z"
    },
    "papermill": {
     "duration": 0.027944,
     "end_time": "2020-12-18T21:16:52.821577",
     "exception": false,
     "start_time": "2020-12-18T21:16:52.793633",
     "status": "completed"
    },
    "tags": []
   },
   "outputs": [
    {
     "name": "stdout",
     "output_type": "stream",
     "text": [
      "Scaling factor: 1.0072303246038228\n"
     ]
    }
   ],
   "source": [
    "ratio, best_tol = scale_model_obs(df_match.model_values, df_match[station_dv])\n",
    "assert not np.any(np.isnan(ratio))\n",
    "df_match = df_match.assign(ratio=ratio)\n",
    "print(\"Scaling factor:\", best_tol)"
   ]
  },
  {
   "cell_type": "code",
   "execution_count": 13,
   "metadata": {
    "execution": {
     "iopub.execute_input": "2020-12-18T21:16:52.907140Z",
     "iopub.status.busy": "2020-12-18T21:16:52.906411Z",
     "iopub.status.idle": "2020-12-18T21:16:52.909161Z",
     "shell.execute_reply": "2020-12-18T21:16:52.909711Z"
    },
    "papermill": {
     "duration": 0.062609,
     "end_time": "2020-12-18T21:16:52.909948",
     "exception": false,
     "start_time": "2020-12-18T21:16:52.847339",
     "status": "completed"
    },
    "tags": []
   },
   "outputs": [
    {
     "data": {
      "text/html": [
       "<div>\n",
       "<style scoped>\n",
       "    .dataframe tbody tr th:only-of-type {\n",
       "        vertical-align: middle;\n",
       "    }\n",
       "\n",
       "    .dataframe tbody tr th {\n",
       "        vertical-align: top;\n",
       "    }\n",
       "\n",
       "    .dataframe thead th {\n",
       "        text-align: right;\n",
       "    }\n",
       "</style>\n",
       "<table border=\"1\" class=\"dataframe\">\n",
       "  <thead>\n",
       "    <tr style=\"text-align: right;\">\n",
       "      <th></th>\n",
       "      <th>irlat</th>\n",
       "      <th>irlon</th>\n",
       "      <th>Tmax (degC)</th>\n",
       "      <th>rlat</th>\n",
       "      <th>rlon</th>\n",
       "      <th>lat</th>\n",
       "      <th>lon</th>\n",
       "      <th>elev (m)</th>\n",
       "      <th>station_name</th>\n",
       "      <th>province</th>\n",
       "      <th>model_values</th>\n",
       "      <th>ratio</th>\n",
       "    </tr>\n",
       "  </thead>\n",
       "  <tbody>\n",
       "    <tr>\n",
       "      <th>0</th>\n",
       "      <td>552</td>\n",
       "      <td>1011</td>\n",
       "      <td>301.194444</td>\n",
       "      <td>-4.517790</td>\n",
       "      <td>10.457750</td>\n",
       "      <td>42.0333</td>\n",
       "      <td>-82.9000</td>\n",
       "      <td>191</td>\n",
       "      <td>HARROW CDA</td>\n",
       "      <td>ON</td>\n",
       "      <td>305.065615</td>\n",
       "      <td>0.994449</td>\n",
       "    </tr>\n",
       "    <tr>\n",
       "      <th>1</th>\n",
       "      <td>552</td>\n",
       "      <td>1017</td>\n",
       "      <td>300.571429</td>\n",
       "      <td>-4.547677</td>\n",
       "      <td>10.753982</td>\n",
       "      <td>41.9500</td>\n",
       "      <td>-82.5167</td>\n",
       "      <td>177</td>\n",
       "      <td>POINT PELEE</td>\n",
       "      <td>ON</td>\n",
       "      <td>304.891188</td>\n",
       "      <td>0.992960</td>\n",
       "    </tr>\n",
       "    <tr>\n",
       "      <th>2</th>\n",
       "      <td>553</td>\n",
       "      <td>1007</td>\n",
       "      <td>300.168182</td>\n",
       "      <td>-4.474659</td>\n",
       "      <td>10.302673</td>\n",
       "      <td>42.1034</td>\n",
       "      <td>-83.0945</td>\n",
       "      <td>182</td>\n",
       "      <td>AMHERSTBURG</td>\n",
       "      <td>ON</td>\n",
       "      <td>305.149405</td>\n",
       "      <td>0.990788</td>\n",
       "    </tr>\n",
       "  </tbody>\n",
       "</table>\n",
       "</div>"
      ],
      "text/plain": [
       "   irlat  irlon  Tmax (degC)      rlat       rlon      lat      lon  elev (m)  \\\n",
       "0    552   1011   301.194444 -4.517790  10.457750  42.0333 -82.9000       191   \n",
       "1    552   1017   300.571429 -4.547677  10.753982  41.9500 -82.5167       177   \n",
       "2    553   1007   300.168182 -4.474659  10.302673  42.1034 -83.0945       182   \n",
       "\n",
       "  station_name province  model_values     ratio  \n",
       "0   HARROW CDA       ON    305.065615  0.994449  \n",
       "1  POINT PELEE       ON    304.891188  0.992960  \n",
       "2  AMHERSTBURG       ON    305.149405  0.990788  "
      ]
     },
     "execution_count": 13,
     "metadata": {},
     "output_type": "execute_result"
    }
   ],
   "source": [
    "df_match.head(3)"
   ]
  },
  {
   "cell_type": "code",
   "execution_count": 14,
   "metadata": {
    "execution": {
     "iopub.execute_input": "2020-12-18T21:16:52.979070Z",
     "iopub.status.busy": "2020-12-18T21:16:52.978516Z",
     "iopub.status.idle": "2020-12-18T21:16:52.981112Z",
     "shell.execute_reply": "2020-12-18T21:16:52.981535Z"
    },
    "papermill": {
     "duration": 0.045263,
     "end_time": "2020-12-18T21:16:52.981731",
     "exception": false,
     "start_time": "2020-12-18T21:16:52.936468",
     "status": "completed"
    },
    "tags": []
   },
   "outputs": [
    {
     "name": "stdout",
     "output_type": "stream",
     "text": [
      "Temperature DV detected in degC. Converitng to Kelvin\n"
     ]
    }
   ],
   "source": [
    "# convert back to degC\n",
    "if ds[dv].attrs[\"units\"] == \"degC\" and \"degC\" in station_dv:\n",
    "    print(\"Temperature DV detected in degC. Converitng to Kelvin\")\n",
    "    K = 273.15 # K\n",
    "    df_match[station_dv] -= K\n",
    "    df_match.model_values -= K"
   ]
  },
  {
   "cell_type": "code",
   "execution_count": 15,
   "metadata": {
    "execution": {
     "iopub.execute_input": "2020-12-18T21:16:53.027297Z",
     "iopub.status.busy": "2020-12-18T21:16:53.026666Z",
     "iopub.status.idle": "2020-12-18T21:16:53.065678Z",
     "shell.execute_reply": "2020-12-18T21:16:53.064784Z"
    },
    "papermill": {
     "duration": 0.060815,
     "end_time": "2020-12-18T21:16:53.065953",
     "exception": false,
     "start_time": "2020-12-18T21:16:53.005138",
     "status": "completed"
    },
    "tags": []
   },
   "outputs": [],
   "source": [
    "df_match.to_csv(\n",
    "    resource_filename(\n",
    "        \"climpyrical\",\n",
    "        f\"{preprocessed_stations_path}{name}.csv\"\n",
    "    ), index=False\n",
    ")"
   ]
  },
  {
   "cell_type": "code",
   "execution_count": 16,
   "metadata": {
    "execution": {
     "iopub.execute_input": "2020-12-18T21:16:53.104565Z",
     "iopub.status.busy": "2020-12-18T21:16:53.104101Z",
     "iopub.status.idle": "2020-12-18T21:16:53.105891Z",
     "shell.execute_reply": "2020-12-18T21:16:53.106186Z"
    },
    "papermill": {
     "duration": 0.022102,
     "end_time": "2020-12-18T21:16:53.106342",
     "exception": false,
     "start_time": "2020-12-18T21:16:53.084240",
     "status": "completed"
    },
    "tags": []
   },
   "outputs": [],
   "source": [
    "assert np.all(df_match['ratio'] >= 0)"
   ]
  },
  {
   "cell_type": "code",
   "execution_count": null,
   "metadata": {
    "papermill": {
     "duration": 0.022168,
     "end_time": "2020-12-18T21:16:53.151058",
     "exception": false,
     "start_time": "2020-12-18T21:16:53.128890",
     "status": "completed"
    },
    "tags": []
   },
   "outputs": [],
   "source": []
  }
 ],
 "metadata": {
  "kernelspec": {
   "display_name": "Python 3",
   "language": "python",
   "name": "python3"
  },
  "language_info": {
   "codemirror_mode": {
    "name": "ipython",
    "version": 3
   },
   "file_extension": ".py",
   "mimetype": "text/x-python",
   "name": "python",
   "nbconvert_exporter": "python",
   "pygments_lexer": "ipython3",
   "version": "3.8.5"
  },
  "papermill": {
   "default_parameters": {},
   "duration": 5.558151,
   "end_time": "2020-12-18T21:16:53.789745",
   "environment_variables": {},
   "exception": null,
   "input_path": "stations.ipynb",
   "output_path": "/home/nannau/Desktop/pipeline/climpyrical/climpyrical/data/results/intermediate/notebooks/stations_log_Tmax.ipynb",
   "parameters": {
    "fill_glaciers": true,
    "input_model_path": "data/model_inputs/tas_CanRCM4-LE_ens35_1951-2016_ann_max_ensmean.nc",
    "mask_path": "data/masks/canada_mask_rp.nc",
    "medians": {
     "action": "None",
     "value": "None"
    },
    "name": "Tmax",
    "nbcc_loc_path": "data/station_inputs/NBCC_2020_new_coords.xlsm",
    "north_mask_path": "data/masks/canada_mask_north_rp.nc",
    "output_figure_path": "/data/results/figures/",
    "output_notebook_path": "/data/results/intermediate/notebooks/",
    "output_reconstruction_path": "/data/results/netcdf/",
    "output_tables_path": "/data/results/TableC2/",
    "preprocessed_model_path": "/data/results/intermediate/preprocessed_netcdf/",
    "preprocessed_stations_path": "/data/results/intermediate/preprocessed_stations/",
    "station_dv": "Tmax (degC)",
    "station_path": "data/station_inputs/hdd_Tmax_Tmin_allstations_v3_for_maps.csv"
   },
   "start_time": "2020-12-18T21:16:48.231594",
   "version": "2.2.2"
  }
 },
 "nbformat": 4,
 "nbformat_minor": 4
}