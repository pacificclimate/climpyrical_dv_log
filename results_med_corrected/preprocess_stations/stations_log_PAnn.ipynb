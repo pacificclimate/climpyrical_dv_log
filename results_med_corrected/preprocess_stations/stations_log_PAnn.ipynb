{
 "cells": [
  {
   "cell_type": "markdown",
   "metadata": {
    "papermill": {
     "duration": 0.016811,
     "end_time": "2020-12-18T21:21:59.282361",
     "exception": false,
     "start_time": "2020-12-18T21:21:59.265550",
     "status": "completed"
    },
    "tags": []
   },
   "source": [
    "# Process Stations"
   ]
  },
  {
   "cell_type": "code",
   "execution_count": 1,
   "metadata": {
    "execution": {
     "iopub.execute_input": "2020-12-18T21:21:59.324564Z",
     "iopub.status.busy": "2020-12-18T21:21:59.323834Z",
     "iopub.status.idle": "2020-12-18T21:22:00.345116Z",
     "shell.execute_reply": "2020-12-18T21:22:00.344073Z"
    },
    "papermill": {
     "duration": 1.047507,
     "end_time": "2020-12-18T21:22:00.345448",
     "exception": false,
     "start_time": "2020-12-18T21:21:59.297941",
     "status": "completed"
    },
    "tags": []
   },
   "outputs": [],
   "source": [
    "import pandas as pd\n",
    "import numpy as np\n",
    "import matplotlib.pyplot as plt\n",
    "from pkg_resources import resource_filename\n",
    "\n",
    "from climpyrical.gridding import scale_model_obs\n",
    "from climpyrical.data import read_data\n",
    "from climpyrical.cmd.find_matched_model_vals import add_model_values"
   ]
  },
  {
   "cell_type": "markdown",
   "metadata": {
    "papermill": {
     "duration": 0.018052,
     "end_time": "2020-12-18T21:22:00.385430",
     "exception": false,
     "start_time": "2020-12-18T21:22:00.367378",
     "status": "completed"
    },
    "tags": []
   },
   "source": [
    "### Load station data for processing"
   ]
  },
  {
   "cell_type": "markdown",
   "metadata": {
    "papermill": {
     "duration": 0.011579,
     "end_time": "2020-12-18T21:22:00.408050",
     "exception": false,
     "start_time": "2020-12-18T21:22:00.396471",
     "status": "completed"
    },
    "tags": [
     "parameters"
    ]
   },
   "source": [
    "### Parameters are loaded from config_example.yml\n",
    "Example configuration from config_example.yml:\n",
    "```\n",
    "    paths:\n",
    "        preprocessed_model_path: /data/results/intermediate/preprocessed_netcdf/\n",
    "    RL50:\n",
    "        station_dv: \"RL50 (kPa)\"\n",
    "        station_path: 'data/station_inputs/Interim_snow_rain_load_LR_composite_stations_tbd_v4.csv'\n",
    "        input_model_path: 'data/model_inputs/snw_rain_CanRCM4-LE_ens35_1951-2016_max_rl50_load_ensmean.nc'\n",
    "        medians: \n",
    "            value: 0.4\n",
    "            action: \"multiply\"\n",
    "        fill_glaciers: True\n",
    "```"
   ]
  },
  {
   "cell_type": "code",
   "execution_count": 2,
   "metadata": {
    "execution": {
     "iopub.execute_input": "2020-12-18T21:22:00.436643Z",
     "iopub.status.busy": "2020-12-18T21:22:00.435974Z",
     "iopub.status.idle": "2020-12-18T21:22:00.437558Z",
     "shell.execute_reply": "2020-12-18T21:22:00.438036Z"
    },
    "papermill": {
     "duration": 0.018163,
     "end_time": "2020-12-18T21:22:00.438230",
     "exception": false,
     "start_time": "2020-12-18T21:22:00.420067",
     "status": "completed"
    },
    "tags": [
     "injected-parameters"
    ]
   },
   "outputs": [],
   "source": [
    "# Parameters\n",
    "name = \"PAnn\"\n",
    "station_dv = \"annual_pr (mm)\"\n",
    "station_path = \"data/station_inputs/pr_annual_mean_doy_MSC_25yr_for_maps.csv\"\n",
    "input_model_path = \"data/model_inputs/pr_CanRCM4-LE_ens35_1951-2016_ann_sum_ensmean.nc\"\n",
    "medians = {\"value\": 900, \"action\": \"multiply\"}\n",
    "fill_glaciers = True\n",
    "output_notebook_path = \"/data/results/intermediate/notebooks/\"\n",
    "preprocessed_model_path = \"/data/results/intermediate/preprocessed_netcdf/\"\n",
    "preprocessed_stations_path = \"/data/results/intermediate/preprocessed_stations/\"\n",
    "output_reconstruction_path = \"/data/results/netcdf/\"\n",
    "output_tables_path = \"/data/results/TableC2/\"\n",
    "output_figure_path = \"/data/results/figures/\"\n",
    "mask_path = \"data/masks/canada_mask_rp.nc\"\n",
    "north_mask_path = \"data/masks/canada_mask_north_rp.nc\"\n",
    "nbcc_loc_path = \"data/station_inputs/NBCC_2020_new_coords.xlsm\"\n"
   ]
  },
  {
   "cell_type": "code",
   "execution_count": 3,
   "metadata": {
    "execution": {
     "iopub.execute_input": "2020-12-18T21:22:00.484324Z",
     "iopub.status.busy": "2020-12-18T21:22:00.483444Z",
     "iopub.status.idle": "2020-12-18T21:22:00.486244Z",
     "shell.execute_reply": "2020-12-18T21:22:00.487007Z"
    },
    "papermill": {
     "duration": 0.033196,
     "end_time": "2020-12-18T21:22:00.487316",
     "exception": false,
     "start_time": "2020-12-18T21:22:00.454120",
     "status": "completed"
    },
    "tags": [
     "parameters"
    ]
   },
   "outputs": [],
   "source": [
    "# Parameters cell"
   ]
  },
  {
   "cell_type": "code",
   "execution_count": 4,
   "metadata": {
    "execution": {
     "iopub.execute_input": "2020-12-18T21:22:00.554530Z",
     "iopub.status.busy": "2020-12-18T21:22:00.553764Z",
     "iopub.status.idle": "2020-12-18T21:22:00.563606Z",
     "shell.execute_reply": "2020-12-18T21:22:00.562923Z"
    },
    "papermill": {
     "duration": 0.044776,
     "end_time": "2020-12-18T21:22:00.563845",
     "exception": false,
     "start_time": "2020-12-18T21:22:00.519069",
     "status": "completed"
    },
    "tags": []
   },
   "outputs": [],
   "source": [
    "df = pd.read_csv(resource_filename(\"climpyrical\", station_path), index_col=None)"
   ]
  },
  {
   "cell_type": "markdown",
   "metadata": {
    "papermill": {
     "duration": 0.017633,
     "end_time": "2020-12-18T21:22:00.605644",
     "exception": false,
     "start_time": "2020-12-18T21:22:00.588011",
     "status": "completed"
    },
    "tags": []
   },
   "source": [
    "Check the columns for standard names, and standardize them.\n",
    "\n",
    "This process will not catch any and all possible inputs, so refer to documentation for \n",
    "expected column names"
   ]
  },
  {
   "cell_type": "code",
   "execution_count": 5,
   "metadata": {
    "execution": {
     "iopub.execute_input": "2020-12-18T21:22:00.662150Z",
     "iopub.status.busy": "2020-12-18T21:22:00.661102Z",
     "iopub.status.idle": "2020-12-18T21:22:00.663696Z",
     "shell.execute_reply": "2020-12-18T21:22:00.664674Z"
    },
    "papermill": {
     "duration": 0.033431,
     "end_time": "2020-12-18T21:22:00.665061",
     "exception": false,
     "start_time": "2020-12-18T21:22:00.631630",
     "status": "completed"
    },
    "tags": []
   },
   "outputs": [],
   "source": [
    "def check_df_columns(df):\n",
    "    if 'longitude' in df.columns:\n",
    "        df=df.rename(columns={'longitude': 'lon'})\n",
    "    if 'long' in df.columns:\n",
    "        df=df.rename(columns={'long': 'lon'})\n",
    "    if 'latitude' in df.columns:\n",
    "        df=df.rename(columns={'latitude': 'lat'})\n",
    "    if 'name' in df.columns:\n",
    "        df=df.rename(columns={'name': 'station_name'})\n",
    "    if 'Name' in df.columns:\n",
    "        df=df.rename(columns={'Name': 'station_name'})\n",
    "    if \"prov\" in df.columns:\n",
    "        df=df.rename(columns={\"prov\": \"province\"})\n",
    "    if \"elev\" in df.columns:\n",
    "        df=df.rename(columns={\"elev\": \"elev (m)\"})\n",
    "    if \"elevation (m)\" in df.columns:\n",
    "        df=df.rename(columns={\"elevation (m)\": \"elev (m)\"})\n",
    "    return df\n",
    "\n",
    "df = check_df_columns(df)\n",
    "df.head(5)\n",
    "\n",
    "if np.any(np.isnan(df[[\"lon\", \"lat\", \"elev (m)\", station_dv]].values)):\n",
    "    raise ValueError(\"NaN detected in station input file.\")"
   ]
  },
  {
   "cell_type": "markdown",
   "metadata": {
    "papermill": {
     "duration": 0.010498,
     "end_time": "2020-12-18T21:22:00.690359",
     "exception": false,
     "start_time": "2020-12-18T21:22:00.679861",
     "status": "completed"
    },
    "tags": []
   },
   "source": [
    "Load preprocessed model at target resolution"
   ]
  },
  {
   "cell_type": "code",
   "execution_count": 6,
   "metadata": {
    "execution": {
     "iopub.execute_input": "2020-12-18T21:22:00.717264Z",
     "iopub.status.busy": "2020-12-18T21:22:00.716841Z",
     "iopub.status.idle": "2020-12-18T21:22:00.799329Z",
     "shell.execute_reply": "2020-12-18T21:22:00.799737Z"
    },
    "papermill": {
     "duration": 0.098977,
     "end_time": "2020-12-18T21:22:00.799962",
     "exception": false,
     "start_time": "2020-12-18T21:22:00.700985",
     "status": "completed"
    },
    "tags": []
   },
   "outputs": [],
   "source": [
    "ds = read_data(resource_filename(\"climpyrical\", f\"{preprocessed_model_path}{name}.nc\"))\n",
    "(dv, ) = ds.data_vars"
   ]
  },
  {
   "cell_type": "markdown",
   "metadata": {
    "papermill": {
     "duration": 0.018388,
     "end_time": "2020-12-18T21:22:00.841901",
     "exception": false,
     "start_time": "2020-12-18T21:22:00.823513",
     "status": "completed"
    },
    "tags": []
   },
   "source": [
    "Perform unit conversion if necessary\n",
    "\n",
    "Exclude suspect RL50 values with true 0.0"
   ]
  },
  {
   "cell_type": "code",
   "execution_count": 7,
   "metadata": {
    "execution": {
     "iopub.execute_input": "2020-12-18T21:22:00.871750Z",
     "iopub.status.busy": "2020-12-18T21:22:00.871359Z",
     "iopub.status.idle": "2020-12-18T21:22:00.873244Z",
     "shell.execute_reply": "2020-12-18T21:22:00.873699Z"
    },
    "papermill": {
     "duration": 0.020632,
     "end_time": "2020-12-18T21:22:00.873908",
     "exception": false,
     "start_time": "2020-12-18T21:22:00.853276",
     "status": "completed"
    },
    "tags": []
   },
   "outputs": [],
   "source": [
    "# calculate ratios with applied correction\n",
    "# Note the ratios are calculated in K for Temperature fields\n",
    "if ds[dv].attrs[\"units\"] == \"degC\" and \"degC\" in station_dv:\n",
    "    print(\"Temperature DV detected in degC. Converitng to Kelvin\")\n",
    "    K = 273.15 # K\n",
    "    df[station_dv] += K\n",
    "    ds[dv] += K\n",
    "\n",
    "if 'RL50 (kPa)' in station_dv:\n",
    "    df = df[df[station_dv] != 0.0]"
   ]
  },
  {
   "cell_type": "markdown",
   "metadata": {
    "papermill": {
     "duration": 0.009693,
     "end_time": "2020-12-18T21:22:00.899377",
     "exception": false,
     "start_time": "2020-12-18T21:22:00.889684",
     "status": "completed"
    },
    "tags": []
   },
   "source": [
    "Use matching script to find matching model values"
   ]
  },
  {
   "cell_type": "code",
   "execution_count": 8,
   "metadata": {
    "execution": {
     "iopub.execute_input": "2020-12-18T21:22:00.927015Z",
     "iopub.status.busy": "2020-12-18T21:22:00.926245Z",
     "iopub.status.idle": "2020-12-18T21:22:03.051144Z",
     "shell.execute_reply": "2020-12-18T21:22:03.050752Z"
    },
    "papermill": {
     "duration": 2.141871,
     "end_time": "2020-12-18T21:22:03.051269",
     "exception": false,
     "start_time": "2020-12-18T21:22:00.909398",
     "status": "completed"
    },
    "tags": []
   },
   "outputs": [
    {
     "name": "stderr",
     "output_type": "stream",
     "text": [
      "INFO:root:Detect units: mm\n"
     ]
    },
    {
     "name": "stderr",
     "output_type": "stream",
     "text": [
      "INFO:root:rlat or rlon not detected in input file.converting assumes WGS84 coords to rotated pole\n"
     ]
    },
    {
     "name": "stderr",
     "output_type": "stream",
     "text": [
      "INFO:root:Matching coordinates now\n"
     ]
    },
    {
     "name": "stderr",
     "output_type": "stream",
     "text": [
      "INFO:root:Locating corresponding model valuesInterpolating to nearest if matched model value is NaN\n"
     ]
    },
    {
     "data": {
      "text/html": [
       "<div>\n",
       "<style scoped>\n",
       "    .dataframe tbody tr th:only-of-type {\n",
       "        vertical-align: middle;\n",
       "    }\n",
       "\n",
       "    .dataframe tbody tr th {\n",
       "        vertical-align: top;\n",
       "    }\n",
       "\n",
       "    .dataframe thead th {\n",
       "        text-align: right;\n",
       "    }\n",
       "</style>\n",
       "<table border=\"1\" class=\"dataframe\">\n",
       "  <thead>\n",
       "    <tr style=\"text-align: right;\">\n",
       "      <th></th>\n",
       "      <th>history_id</th>\n",
       "      <th>station_name</th>\n",
       "      <th>province</th>\n",
       "      <th>lon</th>\n",
       "      <th>lat</th>\n",
       "      <th>elev (m)</th>\n",
       "      <th>annual_pr (mm)</th>\n",
       "      <th>rlat</th>\n",
       "      <th>rlon</th>\n",
       "      <th>irlat</th>\n",
       "      <th>irlon</th>\n",
       "      <th>model_values</th>\n",
       "    </tr>\n",
       "  </thead>\n",
       "  <tbody>\n",
       "    <tr>\n",
       "      <th>0</th>\n",
       "      <td>12</td>\n",
       "      <td>CENTRAL SAANICH VEYANESS</td>\n",
       "      <td>BC</td>\n",
       "      <td>-123.417</td>\n",
       "      <td>48.5833</td>\n",
       "      <td>53</td>\n",
       "      <td>842</td>\n",
       "      <td>4.004513</td>\n",
       "      <td>-17.159686</td>\n",
       "      <td>745</td>\n",
       "      <td>387</td>\n",
       "      <td>1488.639526</td>\n",
       "    </tr>\n",
       "    <tr>\n",
       "      <th>1</th>\n",
       "      <td>13</td>\n",
       "      <td>CENTRAL SAANICH ISL VIEW</td>\n",
       "      <td>BC</td>\n",
       "      <td>-123.392</td>\n",
       "      <td>48.5733</td>\n",
       "      <td>38</td>\n",
       "      <td>843</td>\n",
       "      <td>3.989632</td>\n",
       "      <td>-17.147322</td>\n",
       "      <td>745</td>\n",
       "      <td>387</td>\n",
       "      <td>1488.639526</td>\n",
       "    </tr>\n",
       "    <tr>\n",
       "      <th>2</th>\n",
       "      <td>15</td>\n",
       "      <td>CHEMAINUS</td>\n",
       "      <td>BC</td>\n",
       "      <td>-123.742</td>\n",
       "      <td>48.9350</td>\n",
       "      <td>75</td>\n",
       "      <td>1331</td>\n",
       "      <td>4.407283</td>\n",
       "      <td>-17.245771</td>\n",
       "      <td>754</td>\n",
       "      <td>385</td>\n",
       "      <td>1943.918701</td>\n",
       "    </tr>\n",
       "    <tr>\n",
       "      <th>3</th>\n",
       "      <td>24</td>\n",
       "      <td>COWICHAN BAY CHERRY POINT</td>\n",
       "      <td>BC</td>\n",
       "      <td>-123.557</td>\n",
       "      <td>48.7111</td>\n",
       "      <td>1</td>\n",
       "      <td>999</td>\n",
       "      <td>4.155661</td>\n",
       "      <td>-17.204997</td>\n",
       "      <td>748</td>\n",
       "      <td>386</td>\n",
       "      <td>1623.118530</td>\n",
       "    </tr>\n",
       "    <tr>\n",
       "      <th>4</th>\n",
       "      <td>26</td>\n",
       "      <td>COWICHAN LAKE FORESTRY</td>\n",
       "      <td>BC</td>\n",
       "      <td>-124.133</td>\n",
       "      <td>48.8244</td>\n",
       "      <td>177</td>\n",
       "      <td>2175</td>\n",
       "      <td>4.389211</td>\n",
       "      <td>-17.525927</td>\n",
       "      <td>754</td>\n",
       "      <td>378</td>\n",
       "      <td>2037.041016</td>\n",
       "    </tr>\n",
       "  </tbody>\n",
       "</table>\n",
       "</div>"
      ],
      "text/plain": [
       "   history_id               station_name province      lon      lat  elev (m)  \\\n",
       "0          12   CENTRAL SAANICH VEYANESS       BC -123.417  48.5833        53   \n",
       "1          13   CENTRAL SAANICH ISL VIEW       BC -123.392  48.5733        38   \n",
       "2          15                  CHEMAINUS       BC -123.742  48.9350        75   \n",
       "3          24  COWICHAN BAY CHERRY POINT       BC -123.557  48.7111         1   \n",
       "4          26     COWICHAN LAKE FORESTRY       BC -124.133  48.8244       177   \n",
       "\n",
       "   annual_pr (mm)      rlat       rlon  irlat  irlon  model_values  \n",
       "0             842  4.004513 -17.159686    745    387   1488.639526  \n",
       "1             843  3.989632 -17.147322    745    387   1488.639526  \n",
       "2            1331  4.407283 -17.245771    754    385   1943.918701  \n",
       "3             999  4.155661 -17.204997    748    386   1623.118530  \n",
       "4            2175  4.389211 -17.525927    754    378   2037.041016  "
      ]
     },
     "execution_count": 8,
     "metadata": {},
     "output_type": "execute_result"
    }
   ],
   "source": [
    "df = add_model_values(ds=ds, df=df)\n",
    "df.head(5)"
   ]
  },
  {
   "cell_type": "markdown",
   "metadata": {
    "papermill": {
     "duration": 0.016548,
     "end_time": "2020-12-18T21:22:03.091029",
     "exception": false,
     "start_time": "2020-12-18T21:22:03.074481",
     "status": "completed"
    },
    "tags": []
   },
   "source": [
    "Group stations that land in the same index in rlat and rlon (land in the same grid cell)\n",
    "\n",
    "This means that they are in the same grid cell and need to be aggregated"
   ]
  },
  {
   "cell_type": "code",
   "execution_count": 9,
   "metadata": {
    "execution": {
     "iopub.execute_input": "2020-12-18T21:22:03.127627Z",
     "iopub.status.busy": "2020-12-18T21:22:03.126930Z",
     "iopub.status.idle": "2020-12-18T21:22:03.142157Z",
     "shell.execute_reply": "2020-12-18T21:22:03.142597Z"
    },
    "papermill": {
     "duration": 0.037571,
     "end_time": "2020-12-18T21:22:03.142793",
     "exception": false,
     "start_time": "2020-12-18T21:22:03.105222",
     "status": "completed"
    },
    "tags": []
   },
   "outputs": [],
   "source": [
    "agg_dict = {\n",
    "    station_dv: 'mean', \n",
    "    'rlat':'mean', \n",
    "    'rlon':'mean', \n",
    "    'lat': 'mean', \n",
    "    'lon': 'mean', \n",
    "    'elev (m)': 'mean',\n",
    "    'station_name': 'first',\n",
    "    'province': 'first',\n",
    "    \"model_values\": \"mean\"\n",
    "}\n",
    "\n",
    "# Province key is used for WP10 and WP50 for\n",
    "# special treatment of Atlantic/Far NW areas\n",
    "if \"province\" not in df.columns:\n",
    "    agg_dict = agg_dict.pop(\"province\")\n",
    "\n",
    "df_match = df.groupby(\n",
    "    ['irlat', 'irlon'], as_index=False\n",
    ").agg(\n",
    "    agg_dict\n",
    ")\n",
    "\n",
    "\n",
    "irlat = df_match.irlat\n",
    "irlon = df_match.irlon"
   ]
  },
  {
   "cell_type": "code",
   "execution_count": 10,
   "metadata": {
    "execution": {
     "iopub.execute_input": "2020-12-18T21:22:03.202251Z",
     "iopub.status.busy": "2020-12-18T21:22:03.201758Z",
     "iopub.status.idle": "2020-12-18T21:22:03.204332Z",
     "shell.execute_reply": "2020-12-18T21:22:03.204634Z"
    },
    "papermill": {
     "duration": 0.044061,
     "end_time": "2020-12-18T21:22:03.204794",
     "exception": false,
     "start_time": "2020-12-18T21:22:03.160733",
     "status": "completed"
    },
    "tags": []
   },
   "outputs": [
    {
     "data": {
      "text/html": [
       "<div>\n",
       "<style scoped>\n",
       "    .dataframe tbody tr th:only-of-type {\n",
       "        vertical-align: middle;\n",
       "    }\n",
       "\n",
       "    .dataframe tbody tr th {\n",
       "        vertical-align: top;\n",
       "    }\n",
       "\n",
       "    .dataframe thead th {\n",
       "        text-align: right;\n",
       "    }\n",
       "</style>\n",
       "<table border=\"1\" class=\"dataframe\">\n",
       "  <thead>\n",
       "    <tr style=\"text-align: right;\">\n",
       "      <th></th>\n",
       "      <th>irlat</th>\n",
       "      <th>irlon</th>\n",
       "      <th>annual_pr (mm)</th>\n",
       "      <th>rlat</th>\n",
       "      <th>rlon</th>\n",
       "      <th>lat</th>\n",
       "      <th>lon</th>\n",
       "      <th>elev (m)</th>\n",
       "      <th>station_name</th>\n",
       "      <th>province</th>\n",
       "      <th>model_values</th>\n",
       "    </tr>\n",
       "  </thead>\n",
       "  <tbody>\n",
       "    <tr>\n",
       "      <th>0</th>\n",
       "      <td>552</td>\n",
       "      <td>1011</td>\n",
       "      <td>901.0</td>\n",
       "      <td>-4.517790</td>\n",
       "      <td>10.457750</td>\n",
       "      <td>42.0333</td>\n",
       "      <td>-82.9000</td>\n",
       "      <td>191.0</td>\n",
       "      <td>HARROW CDA</td>\n",
       "      <td>ON</td>\n",
       "      <td>932.240845</td>\n",
       "    </tr>\n",
       "    <tr>\n",
       "      <th>1</th>\n",
       "      <td>553</td>\n",
       "      <td>1007</td>\n",
       "      <td>938.0</td>\n",
       "      <td>-4.474659</td>\n",
       "      <td>10.302673</td>\n",
       "      <td>42.1034</td>\n",
       "      <td>-83.0945</td>\n",
       "      <td>182.0</td>\n",
       "      <td>AMHERSTBURG</td>\n",
       "      <td>ON</td>\n",
       "      <td>942.614868</td>\n",
       "    </tr>\n",
       "    <tr>\n",
       "      <th>2</th>\n",
       "      <td>553</td>\n",
       "      <td>1015</td>\n",
       "      <td>862.0</td>\n",
       "      <td>-4.477661</td>\n",
       "      <td>10.621608</td>\n",
       "      <td>42.0431</td>\n",
       "      <td>-82.6739</td>\n",
       "      <td>200.0</td>\n",
       "      <td>KINGSVILLE MOE</td>\n",
       "      <td>ON</td>\n",
       "      <td>932.045593</td>\n",
       "    </tr>\n",
       "    <tr>\n",
       "      <th>3</th>\n",
       "      <td>558</td>\n",
       "      <td>1009</td>\n",
       "      <td>927.0</td>\n",
       "      <td>-4.286849</td>\n",
       "      <td>10.373390</td>\n",
       "      <td>42.2756</td>\n",
       "      <td>-82.9556</td>\n",
       "      <td>190.0</td>\n",
       "      <td>WINDSOR A</td>\n",
       "      <td>ON</td>\n",
       "      <td>935.089355</td>\n",
       "    </tr>\n",
       "    <tr>\n",
       "      <th>4</th>\n",
       "      <td>563</td>\n",
       "      <td>1021</td>\n",
       "      <td>870.0</td>\n",
       "      <td>-4.073695</td>\n",
       "      <td>10.891633</td>\n",
       "      <td>42.3900</td>\n",
       "      <td>-82.2153</td>\n",
       "      <td>180.0</td>\n",
       "      <td>CHATHAM WPCP</td>\n",
       "      <td>ON</td>\n",
       "      <td>896.274414</td>\n",
       "    </tr>\n",
       "    <tr>\n",
       "      <th>...</th>\n",
       "      <td>...</td>\n",
       "      <td>...</td>\n",
       "      <td>...</td>\n",
       "      <td>...</td>\n",
       "      <td>...</td>\n",
       "      <td>...</td>\n",
       "      <td>...</td>\n",
       "      <td>...</td>\n",
       "      <td>...</td>\n",
       "      <td>...</td>\n",
       "      <td>...</td>\n",
       "    </tr>\n",
       "    <tr>\n",
       "      <th>1365</th>\n",
       "      <td>1252</td>\n",
       "      <td>425</td>\n",
       "      <td>153.0</td>\n",
       "      <td>26.462377</td>\n",
       "      <td>-15.465896</td>\n",
       "      <td>69.5833</td>\n",
       "      <td>-140.1830</td>\n",
       "      <td>7.0</td>\n",
       "      <td>KOMAKUK BEACH A</td>\n",
       "      <td>YT</td>\n",
       "      <td>332.087006</td>\n",
       "    </tr>\n",
       "    <tr>\n",
       "      <th>1366</th>\n",
       "      <td>1269</td>\n",
       "      <td>788</td>\n",
       "      <td>149.0</td>\n",
       "      <td>27.224763</td>\n",
       "      <td>0.601810</td>\n",
       "      <td>74.7169</td>\n",
       "      <td>-94.9694</td>\n",
       "      <td>68.0</td>\n",
       "      <td>RESOLUTE CARS</td>\n",
       "      <td>NU</td>\n",
       "      <td>277.532501</td>\n",
       "    </tr>\n",
       "    <tr>\n",
       "      <th>1367</th>\n",
       "      <td>1322</td>\n",
       "      <td>640</td>\n",
       "      <td>106.0</td>\n",
       "      <td>29.596811</td>\n",
       "      <td>-5.969242</td>\n",
       "      <td>76.2333</td>\n",
       "      <td>-119.3330</td>\n",
       "      <td>12.0</td>\n",
       "      <td>MOULD BAY A</td>\n",
       "      <td>NT</td>\n",
       "      <td>243.849106</td>\n",
       "    </tr>\n",
       "    <tr>\n",
       "      <th>1368</th>\n",
       "      <td>1391</td>\n",
       "      <td>826</td>\n",
       "      <td>73.0</td>\n",
       "      <td>32.645419</td>\n",
       "      <td>2.272431</td>\n",
       "      <td>79.9833</td>\n",
       "      <td>-85.9333</td>\n",
       "      <td>10.0</td>\n",
       "      <td>EUREKA A</td>\n",
       "      <td>NU</td>\n",
       "      <td>283.955872</td>\n",
       "    </tr>\n",
       "    <tr>\n",
       "      <th>1369</th>\n",
       "      <td>1472</td>\n",
       "      <td>894</td>\n",
       "      <td>152.0</td>\n",
       "      <td>36.222663</td>\n",
       "      <td>5.274963</td>\n",
       "      <td>82.5178</td>\n",
       "      <td>-62.2806</td>\n",
       "      <td>30.0</td>\n",
       "      <td>ALERT</td>\n",
       "      <td>NU</td>\n",
       "      <td>283.955872</td>\n",
       "    </tr>\n",
       "  </tbody>\n",
       "</table>\n",
       "<p>1370 rows × 11 columns</p>\n",
       "</div>"
      ],
      "text/plain": [
       "      irlat  irlon  annual_pr (mm)       rlat       rlon      lat       lon  \\\n",
       "0       552   1011           901.0  -4.517790  10.457750  42.0333  -82.9000   \n",
       "1       553   1007           938.0  -4.474659  10.302673  42.1034  -83.0945   \n",
       "2       553   1015           862.0  -4.477661  10.621608  42.0431  -82.6739   \n",
       "3       558   1009           927.0  -4.286849  10.373390  42.2756  -82.9556   \n",
       "4       563   1021           870.0  -4.073695  10.891633  42.3900  -82.2153   \n",
       "...     ...    ...             ...        ...        ...      ...       ...   \n",
       "1365   1252    425           153.0  26.462377 -15.465896  69.5833 -140.1830   \n",
       "1366   1269    788           149.0  27.224763   0.601810  74.7169  -94.9694   \n",
       "1367   1322    640           106.0  29.596811  -5.969242  76.2333 -119.3330   \n",
       "1368   1391    826            73.0  32.645419   2.272431  79.9833  -85.9333   \n",
       "1369   1472    894           152.0  36.222663   5.274963  82.5178  -62.2806   \n",
       "\n",
       "      elev (m)     station_name province  model_values  \n",
       "0        191.0       HARROW CDA       ON    932.240845  \n",
       "1        182.0      AMHERSTBURG       ON    942.614868  \n",
       "2        200.0   KINGSVILLE MOE       ON    932.045593  \n",
       "3        190.0        WINDSOR A       ON    935.089355  \n",
       "4        180.0     CHATHAM WPCP       ON    896.274414  \n",
       "...        ...              ...      ...           ...  \n",
       "1365       7.0  KOMAKUK BEACH A       YT    332.087006  \n",
       "1366      68.0    RESOLUTE CARS       NU    277.532501  \n",
       "1367      12.0      MOULD BAY A       NT    243.849106  \n",
       "1368      10.0         EUREKA A       NU    283.955872  \n",
       "1369      30.0            ALERT       NU    283.955872  \n",
       "\n",
       "[1370 rows x 11 columns]"
      ]
     },
     "execution_count": 10,
     "metadata": {},
     "output_type": "execute_result"
    }
   ],
   "source": [
    "df_match"
   ]
  },
  {
   "cell_type": "markdown",
   "metadata": {
    "papermill": {
     "duration": 0.016346,
     "end_time": "2020-12-18T21:22:03.237175",
     "exception": false,
     "start_time": "2020-12-18T21:22:03.220829",
     "status": "completed"
    },
    "tags": []
   },
   "source": [
    "Verify that they are correlated"
   ]
  },
  {
   "cell_type": "code",
   "execution_count": 11,
   "metadata": {
    "execution": {
     "iopub.execute_input": "2020-12-18T21:22:03.285875Z",
     "iopub.status.busy": "2020-12-18T21:22:03.274511Z",
     "iopub.status.idle": "2020-12-18T21:22:03.418777Z",
     "shell.execute_reply": "2020-12-18T21:22:03.417919Z"
    },
    "papermill": {
     "duration": 0.167732,
     "end_time": "2020-12-18T21:22:03.419028",
     "exception": false,
     "start_time": "2020-12-18T21:22:03.251296",
     "status": "completed"
    },
    "tags": []
   },
   "outputs": [
    {
     "data": {
      "text/plain": [
       "Text(0, 0.5, 'Model')"
      ]
     },
     "execution_count": 11,
     "metadata": {},
     "output_type": "execute_result"
    },
    {
     "data": {
      "image/png": "[encoded data removed]",
      "text/plain": [
       "<Figure size 432x288 with 1 Axes>"
      ]
     },
     "metadata": {
      "needs_background": "light"
     },
     "output_type": "display_data"
    }
   ],
   "source": [
    "plt.scatter(df_match[station_dv], df_match.model_values)\n",
    "plt.title(\"Correlation between station and models\")\n",
    "plt.xlabel('Stations')\n",
    "plt.ylabel('Model')"
   ]
  },
  {
   "cell_type": "markdown",
   "metadata": {
    "papermill": {
     "duration": 0.029175,
     "end_time": "2020-12-18T21:22:03.473517",
     "exception": false,
     "start_time": "2020-12-18T21:22:03.444342",
     "status": "completed"
    },
    "tags": []
   },
   "source": [
    "Now each station should be matched with a value grid cell value"
   ]
  },
  {
   "cell_type": "markdown",
   "metadata": {
    "papermill": {
     "duration": 0.01648,
     "end_time": "2020-12-18T21:22:03.513836",
     "exception": false,
     "start_time": "2020-12-18T21:22:03.497356",
     "status": "completed"
    },
    "tags": []
   },
   "source": [
    "### Normalize the model mean to match that of the station distribution\n",
    "Find a factor, $\\beta$ such that\n",
    "$$\\mu_s - \\frac{\\mu_m}{\\beta} \\approx 0$$ where $\\mu_s$ is the spatial station mean and $\\mu_m$ is the spatial model mean.\n",
    "\n",
    "$\\beta$ is simply:\n",
    "\n",
    "$$\\beta = \\frac{\\sum_i^{N_s}{M_i}}{\\sum_i^{N_s}{S_i}}$$"
   ]
  },
  {
   "cell_type": "code",
   "execution_count": 12,
   "metadata": {
    "execution": {
     "iopub.execute_input": "2020-12-18T21:22:03.547947Z",
     "iopub.status.busy": "2020-12-18T21:22:03.547005Z",
     "iopub.status.idle": "2020-12-18T21:22:03.554673Z",
     "shell.execute_reply": "2020-12-18T21:22:03.553901Z"
    },
    "papermill": {
     "duration": 0.027023,
     "end_time": "2020-12-18T21:22:03.554927",
     "exception": false,
     "start_time": "2020-12-18T21:22:03.527904",
     "status": "completed"
    },
    "tags": []
   },
   "outputs": [
    {
     "name": "stdout",
     "output_type": "stream",
     "text": [
      "Scaling factor: 1.1073136389439417\n"
     ]
    }
   ],
   "source": [
    "ratio, best_tol = scale_model_obs(df_match.model_values, df_match[station_dv])\n",
    "assert not np.any(np.isnan(ratio))\n",
    "df_match = df_match.assign(ratio=ratio)\n",
    "print(\"Scaling factor:\", best_tol)"
   ]
  },
  {
   "cell_type": "code",
   "execution_count": 13,
   "metadata": {
    "execution": {
     "iopub.execute_input": "2020-12-18T21:22:03.614714Z",
     "iopub.status.busy": "2020-12-18T21:22:03.613317Z",
     "iopub.status.idle": "2020-12-18T21:22:03.617958Z",
     "shell.execute_reply": "2020-12-18T21:22:03.618332Z"
    },
    "papermill": {
     "duration": 0.040546,
     "end_time": "2020-12-18T21:22:03.618516",
     "exception": false,
     "start_time": "2020-12-18T21:22:03.577970",
     "status": "completed"
    },
    "tags": []
   },
   "outputs": [
    {
     "data": {
      "text/html": [
       "<div>\n",
       "<style scoped>\n",
       "    .dataframe tbody tr th:only-of-type {\n",
       "        vertical-align: middle;\n",
       "    }\n",
       "\n",
       "    .dataframe tbody tr th {\n",
       "        vertical-align: top;\n",
       "    }\n",
       "\n",
       "    .dataframe thead th {\n",
       "        text-align: right;\n",
       "    }\n",
       "</style>\n",
       "<table border=\"1\" class=\"dataframe\">\n",
       "  <thead>\n",
       "    <tr style=\"text-align: right;\">\n",
       "      <th></th>\n",
       "      <th>irlat</th>\n",
       "      <th>irlon</th>\n",
       "      <th>annual_pr (mm)</th>\n",
       "      <th>rlat</th>\n",
       "      <th>rlon</th>\n",
       "      <th>lat</th>\n",
       "      <th>lon</th>\n",
       "      <th>elev (m)</th>\n",
       "      <th>station_name</th>\n",
       "      <th>province</th>\n",
       "      <th>model_values</th>\n",
       "      <th>ratio</th>\n",
       "    </tr>\n",
       "  </thead>\n",
       "  <tbody>\n",
       "    <tr>\n",
       "      <th>0</th>\n",
       "      <td>552</td>\n",
       "      <td>1011</td>\n",
       "      <td>901.0</td>\n",
       "      <td>-4.517790</td>\n",
       "      <td>10.457750</td>\n",
       "      <td>42.0333</td>\n",
       "      <td>-82.9000</td>\n",
       "      <td>191.0</td>\n",
       "      <td>HARROW CDA</td>\n",
       "      <td>ON</td>\n",
       "      <td>932.240845</td>\n",
       "      <td>1.070206</td>\n",
       "    </tr>\n",
       "    <tr>\n",
       "      <th>1</th>\n",
       "      <td>553</td>\n",
       "      <td>1007</td>\n",
       "      <td>938.0</td>\n",
       "      <td>-4.474659</td>\n",
       "      <td>10.302673</td>\n",
       "      <td>42.1034</td>\n",
       "      <td>-83.0945</td>\n",
       "      <td>182.0</td>\n",
       "      <td>AMHERSTBURG</td>\n",
       "      <td>ON</td>\n",
       "      <td>942.614868</td>\n",
       "      <td>1.101892</td>\n",
       "    </tr>\n",
       "    <tr>\n",
       "      <th>2</th>\n",
       "      <td>553</td>\n",
       "      <td>1015</td>\n",
       "      <td>862.0</td>\n",
       "      <td>-4.477661</td>\n",
       "      <td>10.621608</td>\n",
       "      <td>42.0431</td>\n",
       "      <td>-82.6739</td>\n",
       "      <td>200.0</td>\n",
       "      <td>KINGSVILLE MOE</td>\n",
       "      <td>ON</td>\n",
       "      <td>932.045593</td>\n",
       "      <td>1.024096</td>\n",
       "    </tr>\n",
       "  </tbody>\n",
       "</table>\n",
       "</div>"
      ],
      "text/plain": [
       "   irlat  irlon  annual_pr (mm)      rlat       rlon      lat      lon  \\\n",
       "0    552   1011           901.0 -4.517790  10.457750  42.0333 -82.9000   \n",
       "1    553   1007           938.0 -4.474659  10.302673  42.1034 -83.0945   \n",
       "2    553   1015           862.0 -4.477661  10.621608  42.0431 -82.6739   \n",
       "\n",
       "   elev (m)    station_name province  model_values     ratio  \n",
       "0     191.0      HARROW CDA       ON    932.240845  1.070206  \n",
       "1     182.0     AMHERSTBURG       ON    942.614868  1.101892  \n",
       "2     200.0  KINGSVILLE MOE       ON    932.045593  1.024096  "
      ]
     },
     "execution_count": 13,
     "metadata": {},
     "output_type": "execute_result"
    }
   ],
   "source": [
    "df_match.head(3)"
   ]
  },
  {
   "cell_type": "code",
   "execution_count": 14,
   "metadata": {
    "execution": {
     "iopub.execute_input": "2020-12-18T21:22:03.663555Z",
     "iopub.status.busy": "2020-12-18T21:22:03.662933Z",
     "iopub.status.idle": "2020-12-18T21:22:03.664656Z",
     "shell.execute_reply": "2020-12-18T21:22:03.664957Z"
    },
    "papermill": {
     "duration": 0.023514,
     "end_time": "2020-12-18T21:22:03.665103",
     "exception": false,
     "start_time": "2020-12-18T21:22:03.641589",
     "status": "completed"
    },
    "tags": []
   },
   "outputs": [],
   "source": [
    "# convert back to degC\n",
    "if ds[dv].attrs[\"units\"] == \"degC\" and \"degC\" in station_dv:\n",
    "    print(\"Temperature DV detected in degC. Converitng to Kelvin\")\n",
    "    K = 273.15 # K\n",
    "    df_match[station_dv] -= K\n",
    "    df_match.model_values -= K"
   ]
  },
  {
   "cell_type": "code",
   "execution_count": 15,
   "metadata": {
    "execution": {
     "iopub.execute_input": "2020-12-18T21:22:03.714350Z",
     "iopub.status.busy": "2020-12-18T21:22:03.713965Z",
     "iopub.status.idle": "2020-12-18T21:22:03.738735Z",
     "shell.execute_reply": "2020-12-18T21:22:03.739068Z"
    },
    "papermill": {
     "duration": 0.052377,
     "end_time": "2020-12-18T21:22:03.739237",
     "exception": false,
     "start_time": "2020-12-18T21:22:03.686860",
     "status": "completed"
    },
    "tags": []
   },
   "outputs": [],
   "source": [
    "df_match.to_csv(\n",
    "    resource_filename(\n",
    "        \"climpyrical\",\n",
    "        f\"{preprocessed_stations_path}{name}.csv\"\n",
    "    ), index=False\n",
    ")"
   ]
  },
  {
   "cell_type": "code",
   "execution_count": 16,
   "metadata": {
    "execution": {
     "iopub.execute_input": "2020-12-18T21:22:03.779886Z",
     "iopub.status.busy": "2020-12-18T21:22:03.778512Z",
     "iopub.status.idle": "2020-12-18T21:22:03.783634Z",
     "shell.execute_reply": "2020-12-18T21:22:03.782241Z"
    },
    "papermill": {
     "duration": 0.02984,
     "end_time": "2020-12-18T21:22:03.784081",
     "exception": false,
     "start_time": "2020-12-18T21:22:03.754241",
     "status": "completed"
    },
    "tags": []
   },
   "outputs": [],
   "source": [
    "assert np.all(df_match['ratio'] >= 0)"
   ]
  },
  {
   "cell_type": "code",
   "execution_count": null,
   "metadata": {
    "papermill": {
     "duration": 0.016334,
     "end_time": "2020-12-18T21:22:03.826308",
     "exception": false,
     "start_time": "2020-12-18T21:22:03.809974",
     "status": "completed"
    },
    "tags": []
   },
   "outputs": [],
   "source": []
  }
 ],
 "metadata": {
  "kernelspec": {
   "display_name": "Python 3",
   "language": "python",
   "name": "python3"
  },
  "language_info": {
   "codemirror_mode": {
    "name": "ipython",
    "version": 3
   },
   "file_extension": ".py",
   "mimetype": "text/x-python",
   "name": "python",
   "nbconvert_exporter": "python",
   "pygments_lexer": "ipython3",
   "version": "3.8.5"
  },
  "papermill": {
   "default_parameters": {},
   "duration": 5.91695,
   "end_time": "2020-12-18T21:22:04.471406",
   "environment_variables": {},
   "exception": null,
   "input_path": "stations.ipynb",
   "output_path": "/home/nannau/Desktop/pipeline/climpyrical/climpyrical/data/results/intermediate/notebooks/stations_log_PAnn.ipynb",
   "parameters": {
    "fill_glaciers": true,
    "input_model_path": "data/model_inputs/pr_CanRCM4-LE_ens35_1951-2016_ann_sum_ensmean.nc",
    "mask_path": "data/masks/canada_mask_rp.nc",
    "medians": {
     "action": "multiply",
     "value": 900
    },
    "name": "PAnn",
    "nbcc_loc_path": "data/station_inputs/NBCC_2020_new_coords.xlsm",
    "north_mask_path": "data/masks/canada_mask_north_rp.nc",
    "output_figure_path": "/data/results/figures/",
    "output_notebook_path": "/data/results/intermediate/notebooks/",
    "output_reconstruction_path": "/data/results/netcdf/",
    "output_tables_path": "/data/results/TableC2/",
    "preprocessed_model_path": "/data/results/intermediate/preprocessed_netcdf/",
    "preprocessed_stations_path": "/data/results/intermediate/preprocessed_stations/",
    "station_dv": "annual_pr (mm)",
    "station_path": "data/station_inputs/pr_annual_mean_doy_MSC_25yr_for_maps.csv"
   },
   "start_time": "2020-12-18T21:21:58.554456",
   "version": "2.2.2"
  }
 },
 "nbformat": 4,
 "nbformat_minor": 4
}