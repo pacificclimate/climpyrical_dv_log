{
 "cells": [
  {
   "cell_type": "markdown",
   "metadata": {
    "papermill": {
     "duration": 0.015381,
     "end_time": "2020-12-18T21:06:59.044751",
     "exception": false,
     "start_time": "2020-12-18T21:06:59.029370",
     "status": "completed"
    },
    "tags": []
   },
   "source": [
    "# Process Stations"
   ]
  },
  {
   "cell_type": "code",
   "execution_count": 1,
   "metadata": {
    "execution": {
     "iopub.execute_input": "2020-12-18T21:06:59.115201Z",
     "iopub.status.busy": "2020-12-18T21:06:59.114836Z",
     "iopub.status.idle": "2020-12-18T21:06:59.972803Z",
     "shell.execute_reply": "2020-12-18T21:06:59.973265Z"
    },
    "papermill": {
     "duration": 0.880603,
     "end_time": "2020-12-18T21:06:59.973545",
     "exception": false,
     "start_time": "2020-12-18T21:06:59.092942",
     "status": "completed"
    },
    "tags": []
   },
   "outputs": [],
   "source": [
    "import pandas as pd\n",
    "import numpy as np\n",
    "import matplotlib.pyplot as plt\n",
    "from pkg_resources import resource_filename\n",
    "\n",
    "from climpyrical.gridding import scale_model_obs\n",
    "from climpyrical.data import read_data\n",
    "from climpyrical.cmd.find_matched_model_vals import add_model_values"
   ]
  },
  {
   "cell_type": "markdown",
   "metadata": {
    "papermill": {
     "duration": 0.016679,
     "end_time": "2020-12-18T21:07:00.011030",
     "exception": false,
     "start_time": "2020-12-18T21:06:59.994351",
     "status": "completed"
    },
    "tags": []
   },
   "source": [
    "### Load station data for processing"
   ]
  },
  {
   "cell_type": "markdown",
   "metadata": {
    "papermill": {
     "duration": 0.011236,
     "end_time": "2020-12-18T21:07:00.033425",
     "exception": false,
     "start_time": "2020-12-18T21:07:00.022189",
     "status": "completed"
    },
    "tags": [
     "parameters"
    ]
   },
   "source": [
    "### Parameters are loaded from config_example.yml\n",
    "Example configuration from config_example.yml:\n",
    "```\n",
    "    paths:\n",
    "        preprocessed_model_path: /data/results/intermediate/preprocessed_netcdf/\n",
    "    RL50:\n",
    "        station_dv: \"RL50 (kPa)\"\n",
    "        station_path: 'data/station_inputs/Interim_snow_rain_load_LR_composite_stations_tbd_v4.csv'\n",
    "        input_model_path: 'data/model_inputs/snw_rain_CanRCM4-LE_ens35_1951-2016_max_rl50_load_ensmean.nc'\n",
    "        medians: \n",
    "            value: 0.4\n",
    "            action: \"multiply\"\n",
    "        fill_glaciers: True\n",
    "```"
   ]
  },
  {
   "cell_type": "code",
   "execution_count": 2,
   "metadata": {
    "execution": {
     "iopub.execute_input": "2020-12-18T21:07:00.060282Z",
     "iopub.status.busy": "2020-12-18T21:07:00.059772Z",
     "iopub.status.idle": "2020-12-18T21:07:00.062224Z",
     "shell.execute_reply": "2020-12-18T21:07:00.062605Z"
    },
    "papermill": {
     "duration": 0.018281,
     "end_time": "2020-12-18T21:07:00.062757",
     "exception": false,
     "start_time": "2020-12-18T21:07:00.044476",
     "status": "completed"
    },
    "tags": [
     "injected-parameters"
    ]
   },
   "outputs": [],
   "source": [
    "# Parameters\n",
    "name = \"WP10\"\n",
    "station_dv = \"WP10 (kPa)\"\n",
    "station_path = \"data/station_inputs/wpress_stations_rl10_rl50_for_maps.csv\"\n",
    "input_model_path = (\n",
    "    \"data/model_inputs/wpress_CanRCM4-LE_ens35_1951-2016_max_rl10_kpa_ensmean.nc\"\n",
    ")\n",
    "medians = {\"value\": 0.33, \"action\": \"multiply\"}\n",
    "fill_glaciers = True\n",
    "output_notebook_path = \"/data/results/intermediate/notebooks/\"\n",
    "preprocessed_model_path = \"/data/results/intermediate/preprocessed_netcdf/\"\n",
    "preprocessed_stations_path = \"/data/results/intermediate/preprocessed_stations/\"\n",
    "output_reconstruction_path = \"/data/results/netcdf/\"\n",
    "output_tables_path = \"/data/results/TableC2/\"\n",
    "output_figure_path = \"/data/results/figures/\"\n",
    "mask_path = \"data/masks/canada_mask_rp.nc\"\n",
    "north_mask_path = \"data/masks/canada_mask_north_rp.nc\"\n",
    "nbcc_loc_path = \"data/station_inputs/NBCC_2020_new_coords.xlsm\"\n"
   ]
  },
  {
   "cell_type": "code",
   "execution_count": 3,
   "metadata": {
    "execution": {
     "iopub.execute_input": "2020-12-18T21:07:00.093489Z",
     "iopub.status.busy": "2020-12-18T21:07:00.093116Z",
     "iopub.status.idle": "2020-12-18T21:07:00.095098Z",
     "shell.execute_reply": "2020-12-18T21:07:00.095383Z"
    },
    "papermill": {
     "duration": 0.017277,
     "end_time": "2020-12-18T21:07:00.095507",
     "exception": false,
     "start_time": "2020-12-18T21:07:00.078230",
     "status": "completed"
    },
    "tags": [
     "parameters"
    ]
   },
   "outputs": [],
   "source": [
    "# Parameters cell"
   ]
  },
  {
   "cell_type": "code",
   "execution_count": 4,
   "metadata": {
    "execution": {
     "iopub.execute_input": "2020-12-18T21:07:00.133021Z",
     "iopub.status.busy": "2020-12-18T21:07:00.132637Z",
     "iopub.status.idle": "2020-12-18T21:07:00.140053Z",
     "shell.execute_reply": "2020-12-18T21:07:00.140788Z"
    },
    "papermill": {
     "duration": 0.026625,
     "end_time": "2020-12-18T21:07:00.141068",
     "exception": false,
     "start_time": "2020-12-18T21:07:00.114443",
     "status": "completed"
    },
    "tags": []
   },
   "outputs": [],
   "source": [
    "df = pd.read_csv(resource_filename(\"climpyrical\", station_path), index_col=None)"
   ]
  },
  {
   "cell_type": "markdown",
   "metadata": {
    "papermill": {
     "duration": 0.010619,
     "end_time": "2020-12-18T21:07:00.168201",
     "exception": false,
     "start_time": "2020-12-18T21:07:00.157582",
     "status": "completed"
    },
    "tags": []
   },
   "source": [
    "Check the columns for standard names, and standardize them.\n",
    "\n",
    "This process will not catch any and all possible inputs, so refer to documentation for \n",
    "expected column names"
   ]
  },
  {
   "cell_type": "code",
   "execution_count": 5,
   "metadata": {
    "execution": {
     "iopub.execute_input": "2020-12-18T21:07:00.203164Z",
     "iopub.status.busy": "2020-12-18T21:07:00.202597Z",
     "iopub.status.idle": "2020-12-18T21:07:00.204447Z",
     "shell.execute_reply": "2020-12-18T21:07:00.204873Z"
    },
    "papermill": {
     "duration": 0.027617,
     "end_time": "2020-12-18T21:07:00.205043",
     "exception": false,
     "start_time": "2020-12-18T21:07:00.177426",
     "status": "completed"
    },
    "tags": []
   },
   "outputs": [],
   "source": [
    "def check_df_columns(df):\n",
    "    if 'longitude' in df.columns:\n",
    "        df=df.rename(columns={'longitude': 'lon'})\n",
    "    if 'long' in df.columns:\n",
    "        df=df.rename(columns={'long': 'lon'})\n",
    "    if 'latitude' in df.columns:\n",
    "        df=df.rename(columns={'latitude': 'lat'})\n",
    "    if 'name' in df.columns:\n",
    "        df=df.rename(columns={'name': 'station_name'})\n",
    "    if 'Name' in df.columns:\n",
    "        df=df.rename(columns={'Name': 'station_name'})\n",
    "    if \"prov\" in df.columns:\n",
    "        df=df.rename(columns={\"prov\": \"province\"})\n",
    "    if \"elev\" in df.columns:\n",
    "        df=df.rename(columns={\"elev\": \"elev (m)\"})\n",
    "    if \"elevation (m)\" in df.columns:\n",
    "        df=df.rename(columns={\"elevation (m)\": \"elev (m)\"})\n",
    "    return df\n",
    "\n",
    "df = check_df_columns(df)\n",
    "df.head(5)\n",
    "\n",
    "if np.any(np.isnan(df[[\"lon\", \"lat\", \"elev (m)\", station_dv]].values)):\n",
    "    raise ValueError(\"NaN detected in station input file.\")"
   ]
  },
  {
   "cell_type": "markdown",
   "metadata": {
    "papermill": {
     "duration": 0.011955,
     "end_time": "2020-12-18T21:07:00.237030",
     "exception": false,
     "start_time": "2020-12-18T21:07:00.225075",
     "status": "completed"
    },
    "tags": []
   },
   "source": [
    "Load preprocessed model at target resolution"
   ]
  },
  {
   "cell_type": "code",
   "execution_count": 6,
   "metadata": {
    "execution": {
     "iopub.execute_input": "2020-12-18T21:07:00.261947Z",
     "iopub.status.busy": "2020-12-18T21:07:00.261584Z",
     "iopub.status.idle": "2020-12-18T21:07:00.313907Z",
     "shell.execute_reply": "2020-12-18T21:07:00.314210Z"
    },
    "papermill": {
     "duration": 0.066462,
     "end_time": "2020-12-18T21:07:00.314361",
     "exception": false,
     "start_time": "2020-12-18T21:07:00.247899",
     "status": "completed"
    },
    "tags": []
   },
   "outputs": [],
   "source": [
    "ds = read_data(resource_filename(\"climpyrical\", f\"{preprocessed_model_path}{name}.nc\"))\n",
    "(dv, ) = ds.data_vars"
   ]
  },
  {
   "cell_type": "markdown",
   "metadata": {
    "papermill": {
     "duration": 0.014048,
     "end_time": "2020-12-18T21:07:00.343455",
     "exception": false,
     "start_time": "2020-12-18T21:07:00.329407",
     "status": "completed"
    },
    "tags": []
   },
   "source": [
    "Perform unit conversion if necessary\n",
    "\n",
    "Exclude suspect RL50 values with true 0.0"
   ]
  },
  {
   "cell_type": "code",
   "execution_count": 7,
   "metadata": {
    "execution": {
     "iopub.execute_input": "2020-12-18T21:07:00.367556Z",
     "iopub.status.busy": "2020-12-18T21:07:00.367016Z",
     "iopub.status.idle": "2020-12-18T21:07:00.369505Z",
     "shell.execute_reply": "2020-12-18T21:07:00.370211Z"
    },
    "papermill": {
     "duration": 0.017373,
     "end_time": "2020-12-18T21:07:00.370486",
     "exception": false,
     "start_time": "2020-12-18T21:07:00.353113",
     "status": "completed"
    },
    "tags": []
   },
   "outputs": [],
   "source": [
    "# calculate ratios with applied correction\n",
    "# Note the ratios are calculated in K for Temperature fields\n",
    "if ds[dv].attrs[\"units\"] == \"degC\" and \"degC\" in station_dv:\n",
    "    print(\"Temperature DV detected in degC. Converitng to Kelvin\")\n",
    "    K = 273.15 # K\n",
    "    df[station_dv] += K\n",
    "    ds[dv] += K\n",
    "\n",
    "if 'RL50 (kPa)' in station_dv:\n",
    "    df = df[df[station_dv] != 0.0]"
   ]
  },
  {
   "cell_type": "markdown",
   "metadata": {
    "papermill": {
     "duration": 0.010122,
     "end_time": "2020-12-18T21:07:00.396764",
     "exception": false,
     "start_time": "2020-12-18T21:07:00.386642",
     "status": "completed"
    },
    "tags": []
   },
   "source": [
    "Use matching script to find matching model values"
   ]
  },
  {
   "cell_type": "code",
   "execution_count": 8,
   "metadata": {
    "execution": {
     "iopub.execute_input": "2020-12-18T21:07:00.422732Z",
     "iopub.status.busy": "2020-12-18T21:07:00.421848Z",
     "iopub.status.idle": "2020-12-18T21:07:02.315149Z",
     "shell.execute_reply": "2020-12-18T21:07:02.314289Z"
    },
    "papermill": {
     "duration": 1.908832,
     "end_time": "2020-12-18T21:07:02.315393",
     "exception": false,
     "start_time": "2020-12-18T21:07:00.406561",
     "status": "completed"
    },
    "tags": []
   },
   "outputs": [
    {
     "name": "stderr",
     "output_type": "stream",
     "text": [
      "INFO:root:Detect units: kPa\n"
     ]
    },
    {
     "name": "stderr",
     "output_type": "stream",
     "text": [
      "INFO:root:rlat or rlon not detected in input file.converting assumes WGS84 coords to rotated pole\n"
     ]
    },
    {
     "name": "stderr",
     "output_type": "stream",
     "text": [
      "INFO:root:Matching coordinates now\n"
     ]
    },
    {
     "name": "stderr",
     "output_type": "stream",
     "text": [
      "INFO:root:Locating corresponding model valuesInterpolating to nearest if matched model value is NaN\n"
     ]
    },
    {
     "data": {
      "text/html": [
       "<div>\n",
       "<style scoped>\n",
       "    .dataframe tbody tr th:only-of-type {\n",
       "        vertical-align: middle;\n",
       "    }\n",
       "\n",
       "    .dataframe tbody tr th {\n",
       "        vertical-align: top;\n",
       "    }\n",
       "\n",
       "    .dataframe thead th {\n",
       "        text-align: right;\n",
       "    }\n",
       "</style>\n",
       "<table border=\"1\" class=\"dataframe\">\n",
       "  <thead>\n",
       "    <tr style=\"text-align: right;\">\n",
       "      <th></th>\n",
       "      <th>Climate_ID</th>\n",
       "      <th>station_name</th>\n",
       "      <th>province</th>\n",
       "      <th>elev (m)</th>\n",
       "      <th>lat</th>\n",
       "      <th>lon</th>\n",
       "      <th>WP10 (kPa)</th>\n",
       "      <th>WP50 (kPa)</th>\n",
       "      <th>rlat</th>\n",
       "      <th>rlon</th>\n",
       "      <th>irlat</th>\n",
       "      <th>irlon</th>\n",
       "      <th>model_values</th>\n",
       "    </tr>\n",
       "  </thead>\n",
       "  <tbody>\n",
       "    <tr>\n",
       "      <th>0</th>\n",
       "      <td>1012710</td>\n",
       "      <td>ESQUIMALT HARBOUR</td>\n",
       "      <td>BC</td>\n",
       "      <td>3.0</td>\n",
       "      <td>48.431972</td>\n",
       "      <td>-123.439333</td>\n",
       "      <td>0.200</td>\n",
       "      <td>0.244</td>\n",
       "      <td>3.866472</td>\n",
       "      <td>-17.223584</td>\n",
       "      <td>742</td>\n",
       "      <td>385</td>\n",
       "      <td>0.149007</td>\n",
       "    </tr>\n",
       "    <tr>\n",
       "      <th>1</th>\n",
       "      <td>1016640</td>\n",
       "      <td>RACE ROCKS</td>\n",
       "      <td>BC</td>\n",
       "      <td>7.4</td>\n",
       "      <td>48.297984</td>\n",
       "      <td>-123.531441</td>\n",
       "      <td>0.544</td>\n",
       "      <td>0.693</td>\n",
       "      <td>3.760133</td>\n",
       "      <td>-17.325740</td>\n",
       "      <td>739</td>\n",
       "      <td>383</td>\n",
       "      <td>0.144417</td>\n",
       "    </tr>\n",
       "    <tr>\n",
       "      <th>2</th>\n",
       "      <td>1017101</td>\n",
       "      <td>SATURNA ISLAND CS</td>\n",
       "      <td>BC</td>\n",
       "      <td>24.4</td>\n",
       "      <td>48.783907</td>\n",
       "      <td>-123.044745</td>\n",
       "      <td>0.487</td>\n",
       "      <td>0.605</td>\n",
       "      <td>4.113823</td>\n",
       "      <td>-16.861117</td>\n",
       "      <td>747</td>\n",
       "      <td>394</td>\n",
       "      <td>0.238577</td>\n",
       "    </tr>\n",
       "    <tr>\n",
       "      <th>3</th>\n",
       "      <td>1017254</td>\n",
       "      <td>SHERINGHAM POINT</td>\n",
       "      <td>BC</td>\n",
       "      <td>6.9</td>\n",
       "      <td>48.376694</td>\n",
       "      <td>-123.921028</td>\n",
       "      <td>0.493</td>\n",
       "      <td>0.650</td>\n",
       "      <td>3.920433</td>\n",
       "      <td>-17.544331</td>\n",
       "      <td>743</td>\n",
       "      <td>378</td>\n",
       "      <td>0.146565</td>\n",
       "    </tr>\n",
       "    <tr>\n",
       "      <th>4</th>\n",
       "      <td>1018598</td>\n",
       "      <td>VICTORIA UNIVERSITY CS</td>\n",
       "      <td>BC</td>\n",
       "      <td>60.1</td>\n",
       "      <td>48.457000</td>\n",
       "      <td>-123.304611</td>\n",
       "      <td>0.057</td>\n",
       "      <td>0.070</td>\n",
       "      <td>3.860779</td>\n",
       "      <td>-17.130742</td>\n",
       "      <td>742</td>\n",
       "      <td>387</td>\n",
       "      <td>0.197581</td>\n",
       "    </tr>\n",
       "  </tbody>\n",
       "</table>\n",
       "</div>"
      ],
      "text/plain": [
       "  Climate_ID            station_name province  elev (m)        lat  \\\n",
       "0    1012710       ESQUIMALT HARBOUR       BC       3.0  48.431972   \n",
       "1    1016640              RACE ROCKS       BC       7.4  48.297984   \n",
       "2    1017101       SATURNA ISLAND CS       BC      24.4  48.783907   \n",
       "3    1017254        SHERINGHAM POINT       BC       6.9  48.376694   \n",
       "4    1018598  VICTORIA UNIVERSITY CS       BC      60.1  48.457000   \n",
       "\n",
       "          lon  WP10 (kPa)  WP50 (kPa)      rlat       rlon  irlat  irlon  \\\n",
       "0 -123.439333       0.200       0.244  3.866472 -17.223584    742    385   \n",
       "1 -123.531441       0.544       0.693  3.760133 -17.325740    739    383   \n",
       "2 -123.044745       0.487       0.605  4.113823 -16.861117    747    394   \n",
       "3 -123.921028       0.493       0.650  3.920433 -17.544331    743    378   \n",
       "4 -123.304611       0.057       0.070  3.860779 -17.130742    742    387   \n",
       "\n",
       "   model_values  \n",
       "0      0.149007  \n",
       "1      0.144417  \n",
       "2      0.238577  \n",
       "3      0.146565  \n",
       "4      0.197581  "
      ]
     },
     "execution_count": 8,
     "metadata": {},
     "output_type": "execute_result"
    }
   ],
   "source": [
    "df = add_model_values(ds=ds, df=df)\n",
    "df.head(5)"
   ]
  },
  {
   "cell_type": "markdown",
   "metadata": {
    "papermill": {
     "duration": 0.012117,
     "end_time": "2020-12-18T21:07:02.348904",
     "exception": false,
     "start_time": "2020-12-18T21:07:02.336787",
     "status": "completed"
    },
    "tags": []
   },
   "source": [
    "Group stations that land in the same index in rlat and rlon (land in the same grid cell)\n",
    "\n",
    "This means that they are in the same grid cell and need to be aggregated"
   ]
  },
  {
   "cell_type": "code",
   "execution_count": 9,
   "metadata": {
    "execution": {
     "iopub.execute_input": "2020-12-18T21:07:02.379911Z",
     "iopub.status.busy": "2020-12-18T21:07:02.379536Z",
     "iopub.status.idle": "2020-12-18T21:07:02.389152Z",
     "shell.execute_reply": "2020-12-18T21:07:02.388407Z"
    },
    "papermill": {
     "duration": 0.028507,
     "end_time": "2020-12-18T21:07:02.389378",
     "exception": false,
     "start_time": "2020-12-18T21:07:02.360871",
     "status": "completed"
    },
    "tags": []
   },
   "outputs": [],
   "source": [
    "agg_dict = {\n",
    "    station_dv: 'mean', \n",
    "    'rlat':'mean', \n",
    "    'rlon':'mean', \n",
    "    'lat': 'mean', \n",
    "    'lon': 'mean', \n",
    "    'elev (m)': 'mean',\n",
    "    'station_name': 'first',\n",
    "    'province': 'first',\n",
    "    \"model_values\": \"mean\"\n",
    "}\n",
    "\n",
    "# Province key is used for WP10 and WP50 for\n",
    "# special treatment of Atlantic/Far NW areas\n",
    "if \"province\" not in df.columns:\n",
    "    agg_dict = agg_dict.pop(\"province\")\n",
    "\n",
    "df_match = df.groupby(\n",
    "    ['irlat', 'irlon'], as_index=False\n",
    ").agg(\n",
    "    agg_dict\n",
    ")\n",
    "\n",
    "\n",
    "irlat = df_match.irlat\n",
    "irlon = df_match.irlon"
   ]
  },
  {
   "cell_type": "code",
   "execution_count": 10,
   "metadata": {
    "execution": {
     "iopub.execute_input": "2020-12-18T21:07:02.442533Z",
     "iopub.status.busy": "2020-12-18T21:07:02.441918Z",
     "iopub.status.idle": "2020-12-18T21:07:02.444328Z",
     "shell.execute_reply": "2020-12-18T21:07:02.444823Z"
    },
    "papermill": {
     "duration": 0.037035,
     "end_time": "2020-12-18T21:07:02.445019",
     "exception": false,
     "start_time": "2020-12-18T21:07:02.407984",
     "status": "completed"
    },
    "tags": []
   },
   "outputs": [
    {
     "data": {
      "text/html": [
       "<div>\n",
       "<style scoped>\n",
       "    .dataframe tbody tr th:only-of-type {\n",
       "        vertical-align: middle;\n",
       "    }\n",
       "\n",
       "    .dataframe tbody tr th {\n",
       "        vertical-align: top;\n",
       "    }\n",
       "\n",
       "    .dataframe thead th {\n",
       "        text-align: right;\n",
       "    }\n",
       "</style>\n",
       "<table border=\"1\" class=\"dataframe\">\n",
       "  <thead>\n",
       "    <tr style=\"text-align: right;\">\n",
       "      <th></th>\n",
       "      <th>irlat</th>\n",
       "      <th>irlon</th>\n",
       "      <th>WP10 (kPa)</th>\n",
       "      <th>rlat</th>\n",
       "      <th>rlon</th>\n",
       "      <th>lat</th>\n",
       "      <th>lon</th>\n",
       "      <th>elev (m)</th>\n",
       "      <th>station_name</th>\n",
       "      <th>province</th>\n",
       "      <th>model_values</th>\n",
       "    </tr>\n",
       "  </thead>\n",
       "  <tbody>\n",
       "    <tr>\n",
       "      <th>0</th>\n",
       "      <td>558</td>\n",
       "      <td>1009</td>\n",
       "      <td>0.275</td>\n",
       "      <td>-4.286303</td>\n",
       "      <td>10.373534</td>\n",
       "      <td>42.276111</td>\n",
       "      <td>-82.955278</td>\n",
       "      <td>189.6</td>\n",
       "      <td>WINDSOR A</td>\n",
       "      <td>ON</td>\n",
       "      <td>0.297315</td>\n",
       "    </tr>\n",
       "    <tr>\n",
       "      <th>1</th>\n",
       "      <td>576</td>\n",
       "      <td>1016</td>\n",
       "      <td>0.298</td>\n",
       "      <td>-3.488044</td>\n",
       "      <td>10.709117</td>\n",
       "      <td>42.999444</td>\n",
       "      <td>-82.308889</td>\n",
       "      <td>181.4</td>\n",
       "      <td>SARNIA</td>\n",
       "      <td>ON</td>\n",
       "      <td>0.306992</td>\n",
       "    </tr>\n",
       "    <tr>\n",
       "      <th>2</th>\n",
       "      <td>579</td>\n",
       "      <td>1050</td>\n",
       "      <td>0.287</td>\n",
       "      <td>-3.335369</td>\n",
       "      <td>12.206823</td>\n",
       "      <td>42.850000</td>\n",
       "      <td>-80.266667</td>\n",
       "      <td>240.5</td>\n",
       "      <td>SIMCOE</td>\n",
       "      <td>ON</td>\n",
       "      <td>0.352726</td>\n",
       "    </tr>\n",
       "    <tr>\n",
       "      <th>3</th>\n",
       "      <td>580</td>\n",
       "      <td>1035</td>\n",
       "      <td>0.270</td>\n",
       "      <td>-3.290417</td>\n",
       "      <td>11.534369</td>\n",
       "      <td>43.033056</td>\n",
       "      <td>-81.151111</td>\n",
       "      <td>278.0</td>\n",
       "      <td>LONDON A</td>\n",
       "      <td>ON</td>\n",
       "      <td>0.368355</td>\n",
       "    </tr>\n",
       "    <tr>\n",
       "      <th>4</th>\n",
       "      <td>587</td>\n",
       "      <td>1054</td>\n",
       "      <td>0.340</td>\n",
       "      <td>-2.967246</td>\n",
       "      <td>12.374482</td>\n",
       "      <td>43.173611</td>\n",
       "      <td>-79.935000</td>\n",
       "      <td>237.7</td>\n",
       "      <td>HAMILTON A</td>\n",
       "      <td>ON</td>\n",
       "      <td>0.355267</td>\n",
       "    </tr>\n",
       "    <tr>\n",
       "      <th>...</th>\n",
       "      <td>...</td>\n",
       "      <td>...</td>\n",
       "      <td>...</td>\n",
       "      <td>...</td>\n",
       "      <td>...</td>\n",
       "      <td>...</td>\n",
       "      <td>...</td>\n",
       "      <td>...</td>\n",
       "      <td>...</td>\n",
       "      <td>...</td>\n",
       "      <td>...</td>\n",
       "    </tr>\n",
       "    <tr>\n",
       "      <th>361</th>\n",
       "      <td>1215</td>\n",
       "      <td>1003</td>\n",
       "      <td>0.399</td>\n",
       "      <td>24.854394</td>\n",
       "      <td>10.111493</td>\n",
       "      <td>70.485833</td>\n",
       "      <td>-68.516944</td>\n",
       "      <td>26.5</td>\n",
       "      <td>CLYDE RIVER A</td>\n",
       "      <td>NU</td>\n",
       "      <td>0.355862</td>\n",
       "    </tr>\n",
       "    <tr>\n",
       "      <th>362</th>\n",
       "      <td>1240</td>\n",
       "      <td>914</td>\n",
       "      <td>0.300</td>\n",
       "      <td>25.951068</td>\n",
       "      <td>6.194631</td>\n",
       "      <td>72.689444</td>\n",
       "      <td>-77.968889</td>\n",
       "      <td>61.6</td>\n",
       "      <td>POND INLET A</td>\n",
       "      <td>NU</td>\n",
       "      <td>0.339201</td>\n",
       "    </tr>\n",
       "    <tr>\n",
       "      <th>363</th>\n",
       "      <td>1269</td>\n",
       "      <td>788</td>\n",
       "      <td>0.451</td>\n",
       "      <td>27.224807</td>\n",
       "      <td>0.601795</td>\n",
       "      <td>74.716944</td>\n",
       "      <td>-94.969444</td>\n",
       "      <td>67.7</td>\n",
       "      <td>RESOLUTE BAY A</td>\n",
       "      <td>NU</td>\n",
       "      <td>0.320851</td>\n",
       "    </tr>\n",
       "    <tr>\n",
       "      <th>364</th>\n",
       "      <td>1392</td>\n",
       "      <td>826</td>\n",
       "      <td>0.360</td>\n",
       "      <td>32.659968</td>\n",
       "      <td>2.294890</td>\n",
       "      <td>79.994444</td>\n",
       "      <td>-85.811944</td>\n",
       "      <td>82.9</td>\n",
       "      <td>EUREKA A</td>\n",
       "      <td>NU</td>\n",
       "      <td>0.343968</td>\n",
       "    </tr>\n",
       "    <tr>\n",
       "      <th>365</th>\n",
       "      <td>1472</td>\n",
       "      <td>894</td>\n",
       "      <td>0.542</td>\n",
       "      <td>36.222647</td>\n",
       "      <td>5.274983</td>\n",
       "      <td>82.517778</td>\n",
       "      <td>-62.280556</td>\n",
       "      <td>30.5</td>\n",
       "      <td>ALERT</td>\n",
       "      <td>NU</td>\n",
       "      <td>0.343968</td>\n",
       "    </tr>\n",
       "  </tbody>\n",
       "</table>\n",
       "<p>366 rows × 11 columns</p>\n",
       "</div>"
      ],
      "text/plain": [
       "     irlat  irlon  WP10 (kPa)       rlat       rlon        lat        lon  \\\n",
       "0      558   1009       0.275  -4.286303  10.373534  42.276111 -82.955278   \n",
       "1      576   1016       0.298  -3.488044  10.709117  42.999444 -82.308889   \n",
       "2      579   1050       0.287  -3.335369  12.206823  42.850000 -80.266667   \n",
       "3      580   1035       0.270  -3.290417  11.534369  43.033056 -81.151111   \n",
       "4      587   1054       0.340  -2.967246  12.374482  43.173611 -79.935000   \n",
       "..     ...    ...         ...        ...        ...        ...        ...   \n",
       "361   1215   1003       0.399  24.854394  10.111493  70.485833 -68.516944   \n",
       "362   1240    914       0.300  25.951068   6.194631  72.689444 -77.968889   \n",
       "363   1269    788       0.451  27.224807   0.601795  74.716944 -94.969444   \n",
       "364   1392    826       0.360  32.659968   2.294890  79.994444 -85.811944   \n",
       "365   1472    894       0.542  36.222647   5.274983  82.517778 -62.280556   \n",
       "\n",
       "     elev (m)    station_name province  model_values  \n",
       "0       189.6       WINDSOR A       ON      0.297315  \n",
       "1       181.4          SARNIA       ON      0.306992  \n",
       "2       240.5          SIMCOE       ON      0.352726  \n",
       "3       278.0        LONDON A       ON      0.368355  \n",
       "4       237.7      HAMILTON A       ON      0.355267  \n",
       "..        ...             ...      ...           ...  \n",
       "361      26.5   CLYDE RIVER A       NU      0.355862  \n",
       "362      61.6    POND INLET A       NU      0.339201  \n",
       "363      67.7  RESOLUTE BAY A       NU      0.320851  \n",
       "364      82.9        EUREKA A       NU      0.343968  \n",
       "365      30.5           ALERT       NU      0.343968  \n",
       "\n",
       "[366 rows x 11 columns]"
      ]
     },
     "execution_count": 10,
     "metadata": {},
     "output_type": "execute_result"
    }
   ],
   "source": [
    "df_match"
   ]
  },
  {
   "cell_type": "markdown",
   "metadata": {
    "papermill": {
     "duration": 0.021286,
     "end_time": "2020-12-18T21:07:02.490788",
     "exception": false,
     "start_time": "2020-12-18T21:07:02.469502",
     "status": "completed"
    },
    "tags": []
   },
   "source": [
    "Verify that they are correlated"
   ]
  },
  {
   "cell_type": "code",
   "execution_count": 11,
   "metadata": {
    "execution": {
     "iopub.execute_input": "2020-12-18T21:07:02.535170Z",
     "iopub.status.busy": "2020-12-18T21:07:02.532838Z",
     "iopub.status.idle": "2020-12-18T21:07:02.666273Z",
     "shell.execute_reply": "2020-12-18T21:07:02.665634Z"
    },
    "papermill": {
     "duration": 0.162884,
     "end_time": "2020-12-18T21:07:02.666483",
     "exception": false,
     "start_time": "2020-12-18T21:07:02.503599",
     "status": "completed"
    },
    "tags": []
   },
   "outputs": [
    {
     "data": {
      "text/plain": [
       "Text(0, 0.5, 'Model')"
      ]
     },
     "execution_count": 11,
     "metadata": {},
     "output_type": "execute_result"
    },
    {
     "data": {
      "image/png": "[encoded data removed]",
      "text/plain": [
       "<Figure size 432x288 with 1 Axes>"
      ]
     },
     "metadata": {
      "needs_background": "light"
     },
     "output_type": "display_data"
    }
   ],
   "source": [
    "plt.scatter(df_match[station_dv], df_match.model_values)\n",
    "plt.title(\"Correlation between station and models\")\n",
    "plt.xlabel('Stations')\n",
    "plt.ylabel('Model')"
   ]
  },
  {
   "cell_type": "markdown",
   "metadata": {
    "papermill": {
     "duration": 0.021098,
     "end_time": "2020-12-18T21:07:02.704691",
     "exception": false,
     "start_time": "2020-12-18T21:07:02.683593",
     "status": "completed"
    },
    "tags": []
   },
   "source": [
    "Now each station should be matched with a value grid cell value"
   ]
  },
  {
   "cell_type": "markdown",
   "metadata": {
    "papermill": {
     "duration": 0.012499,
     "end_time": "2020-12-18T21:07:02.729734",
     "exception": false,
     "start_time": "2020-12-18T21:07:02.717235",
     "status": "completed"
    },
    "tags": []
   },
   "source": [
    "### Normalize the model mean to match that of the station distribution\n",
    "Find a factor, $\\beta$ such that\n",
    "$$\\mu_s - \\frac{\\mu_m}{\\beta} \\approx 0$$ where $\\mu_s$ is the spatial station mean and $\\mu_m$ is the spatial model mean.\n",
    "\n",
    "$\\beta$ is simply:\n",
    "\n",
    "$$\\beta = \\frac{\\sum_i^{N_s}{M_i}}{\\sum_i^{N_s}{S_i}}$$"
   ]
  },
  {
   "cell_type": "code",
   "execution_count": 12,
   "metadata": {
    "execution": {
     "iopub.execute_input": "2020-12-18T21:07:02.761988Z",
     "iopub.status.busy": "2020-12-18T21:07:02.761386Z",
     "iopub.status.idle": "2020-12-18T21:07:02.766861Z",
     "shell.execute_reply": "2020-12-18T21:07:02.767313Z"
    },
    "papermill": {
     "duration": 0.024011,
     "end_time": "2020-12-18T21:07:02.767503",
     "exception": false,
     "start_time": "2020-12-18T21:07:02.743492",
     "status": "completed"
    },
    "tags": []
   },
   "outputs": [
    {
     "name": "stdout",
     "output_type": "stream",
     "text": [
      "Scaling factor: 0.8609151675562711\n"
     ]
    }
   ],
   "source": [
    "ratio, best_tol = scale_model_obs(df_match.model_values, df_match[station_dv])\n",
    "assert not np.any(np.isnan(ratio))\n",
    "df_match = df_match.assign(ratio=ratio)\n",
    "print(\"Scaling factor:\", best_tol)"
   ]
  },
  {
   "cell_type": "code",
   "execution_count": 13,
   "metadata": {
    "execution": {
     "iopub.execute_input": "2020-12-18T21:07:02.824860Z",
     "iopub.status.busy": "2020-12-18T21:07:02.823983Z",
     "iopub.status.idle": "2020-12-18T21:07:02.827074Z",
     "shell.execute_reply": "2020-12-18T21:07:02.827735Z"
    },
    "papermill": {
     "duration": 0.037787,
     "end_time": "2020-12-18T21:07:02.827991",
     "exception": false,
     "start_time": "2020-12-18T21:07:02.790204",
     "status": "completed"
    },
    "tags": []
   },
   "outputs": [
    {
     "data": {
      "text/html": [
       "<div>\n",
       "<style scoped>\n",
       "    .dataframe tbody tr th:only-of-type {\n",
       "        vertical-align: middle;\n",
       "    }\n",
       "\n",
       "    .dataframe tbody tr th {\n",
       "        vertical-align: top;\n",
       "    }\n",
       "\n",
       "    .dataframe thead th {\n",
       "        text-align: right;\n",
       "    }\n",
       "</style>\n",
       "<table border=\"1\" class=\"dataframe\">\n",
       "  <thead>\n",
       "    <tr style=\"text-align: right;\">\n",
       "      <th></th>\n",
       "      <th>irlat</th>\n",
       "      <th>irlon</th>\n",
       "      <th>WP10 (kPa)</th>\n",
       "      <th>rlat</th>\n",
       "      <th>rlon</th>\n",
       "      <th>lat</th>\n",
       "      <th>lon</th>\n",
       "      <th>elev (m)</th>\n",
       "      <th>station_name</th>\n",
       "      <th>province</th>\n",
       "      <th>model_values</th>\n",
       "      <th>ratio</th>\n",
       "    </tr>\n",
       "  </thead>\n",
       "  <tbody>\n",
       "    <tr>\n",
       "      <th>0</th>\n",
       "      <td>558</td>\n",
       "      <td>1009</td>\n",
       "      <td>0.275</td>\n",
       "      <td>-4.286303</td>\n",
       "      <td>10.373534</td>\n",
       "      <td>42.276111</td>\n",
       "      <td>-82.955278</td>\n",
       "      <td>189.6</td>\n",
       "      <td>WINDSOR A</td>\n",
       "      <td>ON</td>\n",
       "      <td>0.297315</td>\n",
       "      <td>0.796298</td>\n",
       "    </tr>\n",
       "    <tr>\n",
       "      <th>1</th>\n",
       "      <td>576</td>\n",
       "      <td>1016</td>\n",
       "      <td>0.298</td>\n",
       "      <td>-3.488044</td>\n",
       "      <td>10.709117</td>\n",
       "      <td>42.999444</td>\n",
       "      <td>-82.308889</td>\n",
       "      <td>181.4</td>\n",
       "      <td>SARNIA</td>\n",
       "      <td>ON</td>\n",
       "      <td>0.306992</td>\n",
       "      <td>0.835699</td>\n",
       "    </tr>\n",
       "    <tr>\n",
       "      <th>2</th>\n",
       "      <td>579</td>\n",
       "      <td>1050</td>\n",
       "      <td>0.287</td>\n",
       "      <td>-3.335369</td>\n",
       "      <td>12.206823</td>\n",
       "      <td>42.850000</td>\n",
       "      <td>-80.266667</td>\n",
       "      <td>240.5</td>\n",
       "      <td>SIMCOE</td>\n",
       "      <td>ON</td>\n",
       "      <td>0.352726</td>\n",
       "      <td>0.700494</td>\n",
       "    </tr>\n",
       "  </tbody>\n",
       "</table>\n",
       "</div>"
      ],
      "text/plain": [
       "   irlat  irlon  WP10 (kPa)      rlat       rlon        lat        lon  \\\n",
       "0    558   1009       0.275 -4.286303  10.373534  42.276111 -82.955278   \n",
       "1    576   1016       0.298 -3.488044  10.709117  42.999444 -82.308889   \n",
       "2    579   1050       0.287 -3.335369  12.206823  42.850000 -80.266667   \n",
       "\n",
       "   elev (m) station_name province  model_values     ratio  \n",
       "0     189.6    WINDSOR A       ON      0.297315  0.796298  \n",
       "1     181.4       SARNIA       ON      0.306992  0.835699  \n",
       "2     240.5       SIMCOE       ON      0.352726  0.700494  "
      ]
     },
     "execution_count": 13,
     "metadata": {},
     "output_type": "execute_result"
    }
   ],
   "source": [
    "df_match.head(3)"
   ]
  },
  {
   "cell_type": "code",
   "execution_count": 14,
   "metadata": {
    "execution": {
     "iopub.execute_input": "2020-12-18T21:07:02.863534Z",
     "iopub.status.busy": "2020-12-18T21:07:02.863177Z",
     "iopub.status.idle": "2020-12-18T21:07:02.864846Z",
     "shell.execute_reply": "2020-12-18T21:07:02.865127Z"
    },
    "papermill": {
     "duration": 0.017673,
     "end_time": "2020-12-18T21:07:02.865240",
     "exception": false,
     "start_time": "2020-12-18T21:07:02.847567",
     "status": "completed"
    },
    "tags": []
   },
   "outputs": [],
   "source": [
    "# convert back to degC\n",
    "if ds[dv].attrs[\"units\"] == \"degC\" and \"degC\" in station_dv:\n",
    "    print(\"Temperature DV detected in degC. Converitng to Kelvin\")\n",
    "    K = 273.15 # K\n",
    "    df_match[station_dv] -= K\n",
    "    df_match.model_values -= K"
   ]
  },
  {
   "cell_type": "code",
   "execution_count": 15,
   "metadata": {
    "execution": {
     "iopub.execute_input": "2020-12-18T21:07:02.903042Z",
     "iopub.status.busy": "2020-12-18T21:07:02.902348Z",
     "iopub.status.idle": "2020-12-18T21:07:02.914483Z",
     "shell.execute_reply": "2020-12-18T21:07:02.915165Z"
    },
    "papermill": {
     "duration": 0.033068,
     "end_time": "2020-12-18T21:07:02.915429",
     "exception": false,
     "start_time": "2020-12-18T21:07:02.882361",
     "status": "completed"
    },
    "tags": []
   },
   "outputs": [],
   "source": [
    "df_match.to_csv(\n",
    "    resource_filename(\n",
    "        \"climpyrical\",\n",
    "        f\"{preprocessed_stations_path}{name}.csv\"\n",
    "    ), index=False\n",
    ")"
   ]
  },
  {
   "cell_type": "code",
   "execution_count": 16,
   "metadata": {
    "execution": {
     "iopub.execute_input": "2020-12-18T21:07:02.966504Z",
     "iopub.status.busy": "2020-12-18T21:07:02.964060Z",
     "iopub.status.idle": "2020-12-18T21:07:02.968541Z",
     "shell.execute_reply": "2020-12-18T21:07:02.968978Z"
    },
    "papermill": {
     "duration": 0.029175,
     "end_time": "2020-12-18T21:07:02.969151",
     "exception": false,
     "start_time": "2020-12-18T21:07:02.939976",
     "status": "completed"
    },
    "tags": []
   },
   "outputs": [],
   "source": [
    "assert np.all(df_match['ratio'] >= 0)"
   ]
  },
  {
   "cell_type": "code",
   "execution_count": null,
   "metadata": {
    "papermill": {
     "duration": 0.014305,
     "end_time": "2020-12-18T21:07:03.003518",
     "exception": false,
     "start_time": "2020-12-18T21:07:02.989213",
     "status": "completed"
    },
    "tags": []
   },
   "outputs": [],
   "source": []
  }
 ],
 "metadata": {
  "kernelspec": {
   "display_name": "Python 3",
   "language": "python",
   "name": "python3"
  },
  "language_info": {
   "codemirror_mode": {
    "name": "ipython",
    "version": 3
   },
   "file_extension": ".py",
   "mimetype": "text/x-python",
   "name": "python",
   "nbconvert_exporter": "python",
   "pygments_lexer": "ipython3",
   "version": "3.8.5"
  },
  "papermill": {
   "default_parameters": {},
   "duration": 6.050896,
   "end_time": "2020-12-18T21:07:04.469344",
   "environment_variables": {},
   "exception": null,
   "input_path": "stations.ipynb",
   "output_path": "/home/nannau/Desktop/pipeline/climpyrical/climpyrical/data/results/intermediate/notebooks/stations_log_WP10.ipynb",
   "parameters": {
    "fill_glaciers": true,
    "input_model_path": "data/model_inputs/wpress_CanRCM4-LE_ens35_1951-2016_max_rl10_kpa_ensmean.nc",
    "mask_path": "data/masks/canada_mask_rp.nc",
    "medians": {
     "action": "multiply",
     "value": 0.33
    },
    "name": "WP10",
    "nbcc_loc_path": "data/station_inputs/NBCC_2020_new_coords.xlsm",
    "north_mask_path": "data/masks/canada_mask_north_rp.nc",
    "output_figure_path": "/data/results/figures/",
    "output_notebook_path": "/data/results/intermediate/notebooks/",
    "output_reconstruction_path": "/data/results/netcdf/",
    "output_tables_path": "/data/results/TableC2/",
    "preprocessed_model_path": "/data/results/intermediate/preprocessed_netcdf/",
    "preprocessed_stations_path": "/data/results/intermediate/preprocessed_stations/",
    "station_dv": "WP10 (kPa)",
    "station_path": "data/station_inputs/wpress_stations_rl10_rl50_for_maps.csv"
   },
   "start_time": "2020-12-18T21:06:58.418448",
   "version": "2.2.2"
  }
 },
 "nbformat": 4,
 "nbformat_minor": 4
}