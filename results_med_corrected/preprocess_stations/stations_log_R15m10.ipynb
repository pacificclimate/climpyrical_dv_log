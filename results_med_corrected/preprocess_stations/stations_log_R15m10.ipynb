{
 "cells": [
  {
   "cell_type": "markdown",
   "metadata": {
    "papermill": {
     "duration": 0.01655,
     "end_time": "2020-12-18T21:29:50.279447",
     "exception": false,
     "start_time": "2020-12-18T21:29:50.262897",
     "status": "completed"
    },
    "tags": []
   },
   "source": [
    "# Process Stations"
   ]
  },
  {
   "cell_type": "code",
   "execution_count": 1,
   "metadata": {
    "execution": {
     "iopub.execute_input": "2020-12-18T21:29:50.321077Z",
     "iopub.status.busy": "2020-12-18T21:29:50.320648Z",
     "iopub.status.idle": "2020-12-18T21:29:51.235090Z",
     "shell.execute_reply": "2020-12-18T21:29:51.234196Z"
    },
    "papermill": {
     "duration": 0.935757,
     "end_time": "2020-12-18T21:29:51.235404",
     "exception": false,
     "start_time": "2020-12-18T21:29:50.299647",
     "status": "completed"
    },
    "tags": []
   },
   "outputs": [],
   "source": [
    "import pandas as pd\n",
    "import numpy as np\n",
    "import matplotlib.pyplot as plt\n",
    "from pkg_resources import resource_filename\n",
    "\n",
    "from climpyrical.gridding import scale_model_obs\n",
    "from climpyrical.data import read_data\n",
    "from climpyrical.cmd.find_matched_model_vals import add_model_values"
   ]
  },
  {
   "cell_type": "markdown",
   "metadata": {
    "papermill": {
     "duration": 0.021315,
     "end_time": "2020-12-18T21:29:51.289356",
     "exception": false,
     "start_time": "2020-12-18T21:29:51.268041",
     "status": "completed"
    },
    "tags": []
   },
   "source": [
    "### Load station data for processing"
   ]
  },
  {
   "cell_type": "markdown",
   "metadata": {
    "papermill": {
     "duration": 0.017479,
     "end_time": "2020-12-18T21:29:51.329246",
     "exception": false,
     "start_time": "2020-12-18T21:29:51.311767",
     "status": "completed"
    },
    "tags": [
     "parameters"
    ]
   },
   "source": [
    "### Parameters are loaded from config_example.yml\n",
    "Example configuration from config_example.yml:\n",
    "```\n",
    "    paths:\n",
    "        preprocessed_model_path: /data/results/intermediate/preprocessed_netcdf/\n",
    "    RL50:\n",
    "        station_dv: \"RL50 (kPa)\"\n",
    "        station_path: 'data/station_inputs/Interim_snow_rain_load_LR_composite_stations_tbd_v4.csv'\n",
    "        input_model_path: 'data/model_inputs/snw_rain_CanRCM4-LE_ens35_1951-2016_max_rl50_load_ensmean.nc'\n",
    "        medians: \n",
    "            value: 0.4\n",
    "            action: \"multiply\"\n",
    "        fill_glaciers: True\n",
    "```"
   ]
  },
  {
   "cell_type": "code",
   "execution_count": 2,
   "metadata": {
    "execution": {
     "iopub.execute_input": "2020-12-18T21:29:51.362850Z",
     "iopub.status.busy": "2020-12-18T21:29:51.362443Z",
     "iopub.status.idle": "2020-12-18T21:29:51.364748Z",
     "shell.execute_reply": "2020-12-18T21:29:51.365186Z"
    },
    "papermill": {
     "duration": 0.020161,
     "end_time": "2020-12-18T21:29:51.365384",
     "exception": false,
     "start_time": "2020-12-18T21:29:51.345223",
     "status": "completed"
    },
    "tags": [
     "injected-parameters"
    ]
   },
   "outputs": [],
   "source": [
    "# Parameters\n",
    "name = \"R15m10\"\n",
    "station_dv = \"Gum-LM RL10 (mm)\"\n",
    "station_path = \"data/station_inputs/15min_rain_rl10_for_maps.csv\"\n",
    "input_model_path = (\n",
    "    \"data/model_inputs/rain_CanRCM4-LE_ens15_1951-2016_max1hr_rl10_gum_lm_ensmean.nc\"\n",
    ")\n",
    "medians = {\"value\": 20, \"action\": \"multiply\"}\n",
    "fill_glaciers = True\n",
    "output_notebook_path = \"/data/results/intermediate/notebooks/\"\n",
    "preprocessed_model_path = \"/data/results/intermediate/preprocessed_netcdf/\"\n",
    "preprocessed_stations_path = \"/data/results/intermediate/preprocessed_stations/\"\n",
    "output_reconstruction_path = \"/data/results/netcdf/\"\n",
    "output_tables_path = \"/data/results/TableC2/\"\n",
    "output_figure_path = \"/data/results/figures/\"\n",
    "mask_path = \"data/masks/canada_mask_rp.nc\"\n",
    "north_mask_path = \"data/masks/canada_mask_north_rp.nc\"\n",
    "nbcc_loc_path = \"data/station_inputs/NBCC_2020_new_coords.xlsm\"\n"
   ]
  },
  {
   "cell_type": "code",
   "execution_count": 3,
   "metadata": {
    "execution": {
     "iopub.execute_input": "2020-12-18T21:29:51.402099Z",
     "iopub.status.busy": "2020-12-18T21:29:51.401372Z",
     "iopub.status.idle": "2020-12-18T21:29:51.404307Z",
     "shell.execute_reply": "2020-12-18T21:29:51.405201Z"
    },
    "papermill": {
     "duration": 0.021258,
     "end_time": "2020-12-18T21:29:51.405568",
     "exception": false,
     "start_time": "2020-12-18T21:29:51.384310",
     "status": "completed"
    },
    "tags": [
     "parameters"
    ]
   },
   "outputs": [],
   "source": [
    "# Parameters cell"
   ]
  },
  {
   "cell_type": "code",
   "execution_count": 4,
   "metadata": {
    "execution": {
     "iopub.execute_input": "2020-12-18T21:29:51.435779Z",
     "iopub.status.busy": "2020-12-18T21:29:51.435368Z",
     "iopub.status.idle": "2020-12-18T21:29:51.442625Z",
     "shell.execute_reply": "2020-12-18T21:29:51.442206Z"
    },
    "papermill": {
     "duration": 0.022344,
     "end_time": "2020-12-18T21:29:51.442762",
     "exception": false,
     "start_time": "2020-12-18T21:29:51.420418",
     "status": "completed"
    },
    "tags": []
   },
   "outputs": [],
   "source": [
    "df = pd.read_csv(resource_filename(\"climpyrical\", station_path), index_col=None)"
   ]
  },
  {
   "cell_type": "markdown",
   "metadata": {
    "papermill": {
     "duration": 0.010045,
     "end_time": "2020-12-18T21:29:51.470407",
     "exception": false,
     "start_time": "2020-12-18T21:29:51.460362",
     "status": "completed"
    },
    "tags": []
   },
   "source": [
    "Check the columns for standard names, and standardize them.\n",
    "\n",
    "This process will not catch any and all possible inputs, so refer to documentation for \n",
    "expected column names"
   ]
  },
  {
   "cell_type": "code",
   "execution_count": 5,
   "metadata": {
    "execution": {
     "iopub.execute_input": "2020-12-18T21:29:51.512491Z",
     "iopub.status.busy": "2020-12-18T21:29:51.511752Z",
     "iopub.status.idle": "2020-12-18T21:29:51.513671Z",
     "shell.execute_reply": "2020-12-18T21:29:51.514496Z"
    },
    "papermill": {
     "duration": 0.027381,
     "end_time": "2020-12-18T21:29:51.514871",
     "exception": false,
     "start_time": "2020-12-18T21:29:51.487490",
     "status": "completed"
    },
    "tags": []
   },
   "outputs": [],
   "source": [
    "def check_df_columns(df):\n",
    "    if 'longitude' in df.columns:\n",
    "        df=df.rename(columns={'longitude': 'lon'})\n",
    "    if 'long' in df.columns:\n",
    "        df=df.rename(columns={'long': 'lon'})\n",
    "    if 'latitude' in df.columns:\n",
    "        df=df.rename(columns={'latitude': 'lat'})\n",
    "    if 'name' in df.columns:\n",
    "        df=df.rename(columns={'name': 'station_name'})\n",
    "    if 'Name' in df.columns:\n",
    "        df=df.rename(columns={'Name': 'station_name'})\n",
    "    if \"prov\" in df.columns:\n",
    "        df=df.rename(columns={\"prov\": \"province\"})\n",
    "    if \"elev\" in df.columns:\n",
    "        df=df.rename(columns={\"elev\": \"elev (m)\"})\n",
    "    if \"elevation (m)\" in df.columns:\n",
    "        df=df.rename(columns={\"elevation (m)\": \"elev (m)\"})\n",
    "    return df\n",
    "\n",
    "df = check_df_columns(df)\n",
    "df.head(5)\n",
    "\n",
    "if np.any(np.isnan(df[[\"lon\", \"lat\", \"elev (m)\", station_dv]].values)):\n",
    "    raise ValueError(\"NaN detected in station input file.\")"
   ]
  },
  {
   "cell_type": "markdown",
   "metadata": {
    "papermill": {
     "duration": 0.012808,
     "end_time": "2020-12-18T21:29:51.543192",
     "exception": false,
     "start_time": "2020-12-18T21:29:51.530384",
     "status": "completed"
    },
    "tags": []
   },
   "source": [
    "Load preprocessed model at target resolution"
   ]
  },
  {
   "cell_type": "code",
   "execution_count": 6,
   "metadata": {
    "execution": {
     "iopub.execute_input": "2020-12-18T21:29:51.574125Z",
     "iopub.status.busy": "2020-12-18T21:29:51.573336Z",
     "iopub.status.idle": "2020-12-18T21:29:51.635387Z",
     "shell.execute_reply": "2020-12-18T21:29:51.634631Z"
    },
    "papermill": {
     "duration": 0.08017,
     "end_time": "2020-12-18T21:29:51.635632",
     "exception": false,
     "start_time": "2020-12-18T21:29:51.555462",
     "status": "completed"
    },
    "tags": []
   },
   "outputs": [],
   "source": [
    "ds = read_data(resource_filename(\"climpyrical\", f\"{preprocessed_model_path}{name}.nc\"))\n",
    "(dv, ) = ds.data_vars"
   ]
  },
  {
   "cell_type": "markdown",
   "metadata": {
    "papermill": {
     "duration": 0.01346,
     "end_time": "2020-12-18T21:29:51.668576",
     "exception": false,
     "start_time": "2020-12-18T21:29:51.655116",
     "status": "completed"
    },
    "tags": []
   },
   "source": [
    "Perform unit conversion if necessary\n",
    "\n",
    "Exclude suspect RL50 values with true 0.0"
   ]
  },
  {
   "cell_type": "code",
   "execution_count": 7,
   "metadata": {
    "execution": {
     "iopub.execute_input": "2020-12-18T21:29:51.702220Z",
     "iopub.status.busy": "2020-12-18T21:29:51.701714Z",
     "iopub.status.idle": "2020-12-18T21:29:51.704259Z",
     "shell.execute_reply": "2020-12-18T21:29:51.703761Z"
    },
    "papermill": {
     "duration": 0.022609,
     "end_time": "2020-12-18T21:29:51.704407",
     "exception": false,
     "start_time": "2020-12-18T21:29:51.681798",
     "status": "completed"
    },
    "tags": []
   },
   "outputs": [],
   "source": [
    "# calculate ratios with applied correction\n",
    "# Note the ratios are calculated in K for Temperature fields\n",
    "if ds[dv].attrs[\"units\"] == \"degC\" and \"degC\" in station_dv:\n",
    "    print(\"Temperature DV detected in degC. Converitng to Kelvin\")\n",
    "    K = 273.15 # K\n",
    "    df[station_dv] += K\n",
    "    ds[dv] += K\n",
    "\n",
    "if 'RL50 (kPa)' in station_dv:\n",
    "    df = df[df[station_dv] != 0.0]"
   ]
  },
  {
   "cell_type": "markdown",
   "metadata": {
    "papermill": {
     "duration": 0.013815,
     "end_time": "2020-12-18T21:29:51.732052",
     "exception": false,
     "start_time": "2020-12-18T21:29:51.718237",
     "status": "completed"
    },
    "tags": []
   },
   "source": [
    "Use matching script to find matching model values"
   ]
  },
  {
   "cell_type": "code",
   "execution_count": 8,
   "metadata": {
    "execution": {
     "iopub.execute_input": "2020-12-18T21:29:51.767810Z",
     "iopub.status.busy": "2020-12-18T21:29:51.766951Z",
     "iopub.status.idle": "2020-12-18T21:29:53.817592Z",
     "shell.execute_reply": "2020-12-18T21:29:53.818552Z"
    },
    "papermill": {
     "duration": 2.069053,
     "end_time": "2020-12-18T21:29:53.818933",
     "exception": false,
     "start_time": "2020-12-18T21:29:51.749880",
     "status": "completed"
    },
    "tags": []
   },
   "outputs": [
    {
     "name": "stderr",
     "output_type": "stream",
     "text": [
      "INFO:root:Detect units: mm/h\n"
     ]
    },
    {
     "name": "stderr",
     "output_type": "stream",
     "text": [
      "INFO:root:rlat or rlon not detected in input file.converting assumes WGS84 coords to rotated pole\n"
     ]
    },
    {
     "name": "stderr",
     "output_type": "stream",
     "text": [
      "INFO:root:Matching coordinates now\n"
     ]
    },
    {
     "name": "stderr",
     "output_type": "stream",
     "text": [
      "INFO:root:Locating corresponding model valuesInterpolating to nearest if matched model value is NaN\n"
     ]
    },
    {
     "data": {
      "text/html": [
       "<div>\n",
       "<style scoped>\n",
       "    .dataframe tbody tr th:only-of-type {\n",
       "        vertical-align: middle;\n",
       "    }\n",
       "\n",
       "    .dataframe tbody tr th {\n",
       "        vertical-align: top;\n",
       "    }\n",
       "\n",
       "    .dataframe thead th {\n",
       "        text-align: right;\n",
       "    }\n",
       "</style>\n",
       "<table border=\"1\" class=\"dataframe\">\n",
       "  <thead>\n",
       "    <tr style=\"text-align: right;\">\n",
       "      <th></th>\n",
       "      <th>id</th>\n",
       "      <th>station_name</th>\n",
       "      <th>province</th>\n",
       "      <th>lon</th>\n",
       "      <th>lat</th>\n",
       "      <th>elev (m)</th>\n",
       "      <th>Gum-LM RL10 (mm)</th>\n",
       "      <th>rlat</th>\n",
       "      <th>rlon</th>\n",
       "      <th>irlat</th>\n",
       "      <th>irlon</th>\n",
       "      <th>model_values</th>\n",
       "    </tr>\n",
       "  </thead>\n",
       "  <tbody>\n",
       "    <tr>\n",
       "      <th>0</th>\n",
       "      <td>1013</td>\n",
       "      <td>VANCOUVER UBC</td>\n",
       "      <td>BC</td>\n",
       "      <td>-123.250</td>\n",
       "      <td>49.2500</td>\n",
       "      <td>76</td>\n",
       "      <td>8.876170</td>\n",
       "      <td>4.598340</td>\n",
       "      <td>-16.836438</td>\n",
       "      <td>758</td>\n",
       "      <td>394</td>\n",
       "      <td>8.241664</td>\n",
       "    </tr>\n",
       "    <tr>\n",
       "      <th>1</th>\n",
       "      <td>1039</td>\n",
       "      <td>WHITE ROCK STP</td>\n",
       "      <td>BC</td>\n",
       "      <td>-122.784</td>\n",
       "      <td>49.0186</td>\n",
       "      <td>13</td>\n",
       "      <td>7.607292</td>\n",
       "      <td>4.280553</td>\n",
       "      <td>-16.622443</td>\n",
       "      <td>751</td>\n",
       "      <td>399</td>\n",
       "      <td>7.728062</td>\n",
       "    </tr>\n",
       "    <tr>\n",
       "      <th>2</th>\n",
       "      <td>1065</td>\n",
       "      <td>PITT MEADOWS STP</td>\n",
       "      <td>BC</td>\n",
       "      <td>-122.683</td>\n",
       "      <td>49.2167</td>\n",
       "      <td>5</td>\n",
       "      <td>10.197397</td>\n",
       "      <td>4.446944</td>\n",
       "      <td>-16.495871</td>\n",
       "      <td>755</td>\n",
       "      <td>402</td>\n",
       "      <td>8.154012</td>\n",
       "    </tr>\n",
       "    <tr>\n",
       "      <th>3</th>\n",
       "      <td>1081</td>\n",
       "      <td>N VANC SONORA DR</td>\n",
       "      <td>BC</td>\n",
       "      <td>-123.097</td>\n",
       "      <td>49.3625</td>\n",
       "      <td>183</td>\n",
       "      <td>14.174350</td>\n",
       "      <td>4.672135</td>\n",
       "      <td>-16.705003</td>\n",
       "      <td>760</td>\n",
       "      <td>397</td>\n",
       "      <td>8.360396</td>\n",
       "    </tr>\n",
       "    <tr>\n",
       "      <th>4</th>\n",
       "      <td>10872</td>\n",
       "      <td>BAD LAKE IHD 109</td>\n",
       "      <td>SK</td>\n",
       "      <td>-108.517</td>\n",
       "      <td>51.2667</td>\n",
       "      <td>674</td>\n",
       "      <td>16.238666</td>\n",
       "      <td>4.300202</td>\n",
       "      <td>-7.196830</td>\n",
       "      <td>752</td>\n",
       "      <td>612</td>\n",
       "      <td>19.284161</td>\n",
       "    </tr>\n",
       "  </tbody>\n",
       "</table>\n",
       "</div>"
      ],
      "text/plain": [
       "      id      station_name province      lon      lat  elev (m)  \\\n",
       "0   1013     VANCOUVER UBC       BC -123.250  49.2500        76   \n",
       "1   1039    WHITE ROCK STP       BC -122.784  49.0186        13   \n",
       "2   1065  PITT MEADOWS STP       BC -122.683  49.2167         5   \n",
       "3   1081  N VANC SONORA DR       BC -123.097  49.3625       183   \n",
       "4  10872  BAD LAKE IHD 109       SK -108.517  51.2667       674   \n",
       "\n",
       "   Gum-LM RL10 (mm)      rlat       rlon  irlat  irlon  model_values  \n",
       "0          8.876170  4.598340 -16.836438    758    394      8.241664  \n",
       "1          7.607292  4.280553 -16.622443    751    399      7.728062  \n",
       "2         10.197397  4.446944 -16.495871    755    402      8.154012  \n",
       "3         14.174350  4.672135 -16.705003    760    397      8.360396  \n",
       "4         16.238666  4.300202  -7.196830    752    612     19.284161  "
      ]
     },
     "execution_count": 8,
     "metadata": {},
     "output_type": "execute_result"
    }
   ],
   "source": [
    "df = add_model_values(ds=ds, df=df)\n",
    "df.head(5)"
   ]
  },
  {
   "cell_type": "markdown",
   "metadata": {
    "papermill": {
     "duration": 0.015169,
     "end_time": "2020-12-18T21:29:53.870190",
     "exception": false,
     "start_time": "2020-12-18T21:29:53.855021",
     "status": "completed"
    },
    "tags": []
   },
   "source": [
    "Group stations that land in the same index in rlat and rlon (land in the same grid cell)\n",
    "\n",
    "This means that they are in the same grid cell and need to be aggregated"
   ]
  },
  {
   "cell_type": "code",
   "execution_count": 9,
   "metadata": {
    "execution": {
     "iopub.execute_input": "2020-12-18T21:29:53.902919Z",
     "iopub.status.busy": "2020-12-18T21:29:53.902482Z",
     "iopub.status.idle": "2020-12-18T21:29:53.915620Z",
     "shell.execute_reply": "2020-12-18T21:29:53.916389Z"
    },
    "papermill": {
     "duration": 0.034867,
     "end_time": "2020-12-18T21:29:53.916691",
     "exception": false,
     "start_time": "2020-12-18T21:29:53.881824",
     "status": "completed"
    },
    "tags": []
   },
   "outputs": [],
   "source": [
    "agg_dict = {\n",
    "    station_dv: 'mean', \n",
    "    'rlat':'mean', \n",
    "    'rlon':'mean', \n",
    "    'lat': 'mean', \n",
    "    'lon': 'mean', \n",
    "    'elev (m)': 'mean',\n",
    "    'station_name': 'first',\n",
    "    'province': 'first',\n",
    "    \"model_values\": \"mean\"\n",
    "}\n",
    "\n",
    "# Province key is used for WP10 and WP50 for\n",
    "# special treatment of Atlantic/Far NW areas\n",
    "if \"province\" not in df.columns:\n",
    "    agg_dict = agg_dict.pop(\"province\")\n",
    "\n",
    "df_match = df.groupby(\n",
    "    ['irlat', 'irlon'], as_index=False\n",
    ").agg(\n",
    "    agg_dict\n",
    ")\n",
    "\n",
    "\n",
    "irlat = df_match.irlat\n",
    "irlon = df_match.irlon"
   ]
  },
  {
   "cell_type": "code",
   "execution_count": 10,
   "metadata": {
    "execution": {
     "iopub.execute_input": "2020-12-18T21:29:53.967127Z",
     "iopub.status.busy": "2020-12-18T21:29:53.966155Z",
     "iopub.status.idle": "2020-12-18T21:29:53.970696Z",
     "shell.execute_reply": "2020-12-18T21:29:53.969933Z"
    },
    "papermill": {
     "duration": 0.033713,
     "end_time": "2020-12-18T21:29:53.970938",
     "exception": false,
     "start_time": "2020-12-18T21:29:53.937225",
     "status": "completed"
    },
    "tags": []
   },
   "outputs": [
    {
     "data": {
      "text/html": [
       "<div>\n",
       "<style scoped>\n",
       "    .dataframe tbody tr th:only-of-type {\n",
       "        vertical-align: middle;\n",
       "    }\n",
       "\n",
       "    .dataframe tbody tr th {\n",
       "        vertical-align: top;\n",
       "    }\n",
       "\n",
       "    .dataframe thead th {\n",
       "        text-align: right;\n",
       "    }\n",
       "</style>\n",
       "<table border=\"1\" class=\"dataframe\">\n",
       "  <thead>\n",
       "    <tr style=\"text-align: right;\">\n",
       "      <th></th>\n",
       "      <th>irlat</th>\n",
       "      <th>irlon</th>\n",
       "      <th>Gum-LM RL10 (mm)</th>\n",
       "      <th>rlat</th>\n",
       "      <th>rlon</th>\n",
       "      <th>lat</th>\n",
       "      <th>lon</th>\n",
       "      <th>elev (m)</th>\n",
       "      <th>station_name</th>\n",
       "      <th>province</th>\n",
       "      <th>model_values</th>\n",
       "    </tr>\n",
       "  </thead>\n",
       "  <tbody>\n",
       "    <tr>\n",
       "      <th>0</th>\n",
       "      <td>552</td>\n",
       "      <td>1011</td>\n",
       "      <td>24.072803</td>\n",
       "      <td>-4.517790</td>\n",
       "      <td>10.457750</td>\n",
       "      <td>42.0333</td>\n",
       "      <td>-82.9000</td>\n",
       "      <td>190.0</td>\n",
       "      <td>HARROW CDA composite</td>\n",
       "      <td>ON</td>\n",
       "      <td>22.773129</td>\n",
       "    </tr>\n",
       "    <tr>\n",
       "      <th>1</th>\n",
       "      <td>552</td>\n",
       "      <td>1017</td>\n",
       "      <td>26.248475</td>\n",
       "      <td>-4.547677</td>\n",
       "      <td>10.753982</td>\n",
       "      <td>41.9500</td>\n",
       "      <td>-82.5167</td>\n",
       "      <td>177.0</td>\n",
       "      <td>POINT PELEE composite</td>\n",
       "      <td>ON</td>\n",
       "      <td>22.839188</td>\n",
       "    </tr>\n",
       "    <tr>\n",
       "      <th>2</th>\n",
       "      <td>558</td>\n",
       "      <td>1007</td>\n",
       "      <td>21.929598</td>\n",
       "      <td>-4.277531</td>\n",
       "      <td>10.287925</td>\n",
       "      <td>42.3000</td>\n",
       "      <td>-83.0667</td>\n",
       "      <td>180.0</td>\n",
       "      <td>WINDSOR UNIVERSITY</td>\n",
       "      <td>ON</td>\n",
       "      <td>22.810122</td>\n",
       "    </tr>\n",
       "    <tr>\n",
       "      <th>3</th>\n",
       "      <td>558</td>\n",
       "      <td>1009</td>\n",
       "      <td>26.244690</td>\n",
       "      <td>-4.286849</td>\n",
       "      <td>10.373390</td>\n",
       "      <td>42.2756</td>\n",
       "      <td>-82.9556</td>\n",
       "      <td>190.0</td>\n",
       "      <td>WINDSOR A</td>\n",
       "      <td>ON</td>\n",
       "      <td>22.747458</td>\n",
       "    </tr>\n",
       "    <tr>\n",
       "      <th>4</th>\n",
       "      <td>563</td>\n",
       "      <td>1021</td>\n",
       "      <td>25.038798</td>\n",
       "      <td>-4.073695</td>\n",
       "      <td>10.891633</td>\n",
       "      <td>42.3900</td>\n",
       "      <td>-82.2153</td>\n",
       "      <td>180.0</td>\n",
       "      <td>CHATHAM WPCP composite</td>\n",
       "      <td>ON</td>\n",
       "      <td>22.421810</td>\n",
       "    </tr>\n",
       "    <tr>\n",
       "      <th>...</th>\n",
       "      <td>...</td>\n",
       "      <td>...</td>\n",
       "      <td>...</td>\n",
       "      <td>...</td>\n",
       "      <td>...</td>\n",
       "      <td>...</td>\n",
       "      <td>...</td>\n",
       "      <td>...</td>\n",
       "      <td>...</td>\n",
       "      <td>...</td>\n",
       "      <td>...</td>\n",
       "    </tr>\n",
       "    <tr>\n",
       "      <th>510</th>\n",
       "      <td>1117</td>\n",
       "      <td>383</td>\n",
       "      <td>9.477618</td>\n",
       "      <td>20.495251</td>\n",
       "      <td>-17.319213</td>\n",
       "      <td>63.6167</td>\n",
       "      <td>-135.8670</td>\n",
       "      <td>504.0</td>\n",
       "      <td>MAYO A</td>\n",
       "      <td>YT</td>\n",
       "      <td>3.798526</td>\n",
       "    </tr>\n",
       "    <tr>\n",
       "      <th>511</th>\n",
       "      <td>1142</td>\n",
       "      <td>359</td>\n",
       "      <td>11.369881</td>\n",
       "      <td>21.598939</td>\n",
       "      <td>-18.407520</td>\n",
       "      <td>64.0431</td>\n",
       "      <td>-139.1280</td>\n",
       "      <td>370.0</td>\n",
       "      <td>DAWSON A</td>\n",
       "      <td>YT</td>\n",
       "      <td>3.660410</td>\n",
       "    </tr>\n",
       "    <tr>\n",
       "      <th>512</th>\n",
       "      <td>1146</td>\n",
       "      <td>704</td>\n",
       "      <td>5.454805</td>\n",
       "      <td>21.771354</td>\n",
       "      <td>-3.115997</td>\n",
       "      <td>69.1081</td>\n",
       "      <td>-105.1380</td>\n",
       "      <td>31.0</td>\n",
       "      <td>CAMBRIDGE BAY A</td>\n",
       "      <td>NU</td>\n",
       "      <td>5.985725</td>\n",
       "    </tr>\n",
       "    <tr>\n",
       "      <th>513</th>\n",
       "      <td>1199</td>\n",
       "      <td>460</td>\n",
       "      <td>7.262852</td>\n",
       "      <td>24.116123</td>\n",
       "      <td>-13.935205</td>\n",
       "      <td>68.3042</td>\n",
       "      <td>-133.4830</td>\n",
       "      <td>68.0</td>\n",
       "      <td>INUVIK A</td>\n",
       "      <td>NT</td>\n",
       "      <td>4.245981</td>\n",
       "    </tr>\n",
       "    <tr>\n",
       "      <th>514</th>\n",
       "      <td>1240</td>\n",
       "      <td>914</td>\n",
       "      <td>2.129101</td>\n",
       "      <td>25.951024</td>\n",
       "      <td>6.194640</td>\n",
       "      <td>72.6894</td>\n",
       "      <td>-77.9689</td>\n",
       "      <td>62.0</td>\n",
       "      <td>POND INLET A</td>\n",
       "      <td>NU</td>\n",
       "      <td>3.801859</td>\n",
       "    </tr>\n",
       "  </tbody>\n",
       "</table>\n",
       "<p>515 rows × 11 columns</p>\n",
       "</div>"
      ],
      "text/plain": [
       "     irlat  irlon  Gum-LM RL10 (mm)       rlat       rlon      lat       lon  \\\n",
       "0      552   1011         24.072803  -4.517790  10.457750  42.0333  -82.9000   \n",
       "1      552   1017         26.248475  -4.547677  10.753982  41.9500  -82.5167   \n",
       "2      558   1007         21.929598  -4.277531  10.287925  42.3000  -83.0667   \n",
       "3      558   1009         26.244690  -4.286849  10.373390  42.2756  -82.9556   \n",
       "4      563   1021         25.038798  -4.073695  10.891633  42.3900  -82.2153   \n",
       "..     ...    ...               ...        ...        ...      ...       ...   \n",
       "510   1117    383          9.477618  20.495251 -17.319213  63.6167 -135.8670   \n",
       "511   1142    359         11.369881  21.598939 -18.407520  64.0431 -139.1280   \n",
       "512   1146    704          5.454805  21.771354  -3.115997  69.1081 -105.1380   \n",
       "513   1199    460          7.262852  24.116123 -13.935205  68.3042 -133.4830   \n",
       "514   1240    914          2.129101  25.951024   6.194640  72.6894  -77.9689   \n",
       "\n",
       "     elev (m)            station_name province  model_values  \n",
       "0       190.0    HARROW CDA composite       ON     22.773129  \n",
       "1       177.0   POINT PELEE composite       ON     22.839188  \n",
       "2       180.0      WINDSOR UNIVERSITY       ON     22.810122  \n",
       "3       190.0               WINDSOR A       ON     22.747458  \n",
       "4       180.0  CHATHAM WPCP composite       ON     22.421810  \n",
       "..        ...                     ...      ...           ...  \n",
       "510     504.0                  MAYO A       YT      3.798526  \n",
       "511     370.0                DAWSON A       YT      3.660410  \n",
       "512      31.0         CAMBRIDGE BAY A       NU      5.985725  \n",
       "513      68.0                INUVIK A       NT      4.245981  \n",
       "514      62.0            POND INLET A       NU      3.801859  \n",
       "\n",
       "[515 rows x 11 columns]"
      ]
     },
     "execution_count": 10,
     "metadata": {},
     "output_type": "execute_result"
    }
   ],
   "source": [
    "df_match"
   ]
  },
  {
   "cell_type": "markdown",
   "metadata": {
    "papermill": {
     "duration": 0.015141,
     "end_time": "2020-12-18T21:29:54.006293",
     "exception": false,
     "start_time": "2020-12-18T21:29:53.991152",
     "status": "completed"
    },
    "tags": []
   },
   "source": [
    "Verify that they are correlated"
   ]
  },
  {
   "cell_type": "code",
   "execution_count": 11,
   "metadata": {
    "execution": {
     "iopub.execute_input": "2020-12-18T21:29:54.053511Z",
     "iopub.status.busy": "2020-12-18T21:29:54.051679Z",
     "iopub.status.idle": "2020-12-18T21:29:54.177090Z",
     "shell.execute_reply": "2020-12-18T21:29:54.177781Z"
    },
    "papermill": {
     "duration": 0.158885,
     "end_time": "2020-12-18T21:29:54.178067",
     "exception": false,
     "start_time": "2020-12-18T21:29:54.019182",
     "status": "completed"
    },
    "tags": []
   },
   "outputs": [
    {
     "data": {
      "text/plain": [
       "Text(0, 0.5, 'Model')"
      ]
     },
     "execution_count": 11,
     "metadata": {},
     "output_type": "execute_result"
    },
    {
     "data": {
      "image/png": "[encoded data removed]",
      "text/plain": [
       "<Figure size 432x288 with 1 Axes>"
      ]
     },
     "metadata": {
      "needs_background": "light"
     },
     "output_type": "display_data"
    }
   ],
   "source": [
    "plt.scatter(df_match[station_dv], df_match.model_values)\n",
    "plt.title(\"Correlation between station and models\")\n",
    "plt.xlabel('Stations')\n",
    "plt.ylabel('Model')"
   ]
  },
  {
   "cell_type": "markdown",
   "metadata": {
    "papermill": {
     "duration": 0.029344,
     "end_time": "2020-12-18T21:29:54.250230",
     "exception": false,
     "start_time": "2020-12-18T21:29:54.220886",
     "status": "completed"
    },
    "tags": []
   },
   "source": [
    "Now each station should be matched with a value grid cell value"
   ]
  },
  {
   "cell_type": "markdown",
   "metadata": {
    "papermill": {
     "duration": 0.015552,
     "end_time": "2020-12-18T21:29:54.292684",
     "exception": false,
     "start_time": "2020-12-18T21:29:54.277132",
     "status": "completed"
    },
    "tags": []
   },
   "source": [
    "### Normalize the model mean to match that of the station distribution\n",
    "Find a factor, $\\beta$ such that\n",
    "$$\\mu_s - \\frac{\\mu_m}{\\beta} \\approx 0$$ where $\\mu_s$ is the spatial station mean and $\\mu_m$ is the spatial model mean.\n",
    "\n",
    "$\\beta$ is simply:\n",
    "\n",
    "$$\\beta = \\frac{\\sum_i^{N_s}{M_i}}{\\sum_i^{N_s}{S_i}}$$"
   ]
  },
  {
   "cell_type": "code",
   "execution_count": 12,
   "metadata": {
    "execution": {
     "iopub.execute_input": "2020-12-18T21:29:54.331169Z",
     "iopub.status.busy": "2020-12-18T21:29:54.330747Z",
     "iopub.status.idle": "2020-12-18T21:29:54.339030Z",
     "shell.execute_reply": "2020-12-18T21:29:54.338256Z"
    },
    "papermill": {
     "duration": 0.032608,
     "end_time": "2020-12-18T21:29:54.339307",
     "exception": false,
     "start_time": "2020-12-18T21:29:54.306699",
     "status": "completed"
    },
    "tags": []
   },
   "outputs": [
    {
     "name": "stdout",
     "output_type": "stream",
     "text": [
      "Scaling factor: 1.101869439426689\n"
     ]
    }
   ],
   "source": [
    "ratio, best_tol = scale_model_obs(df_match.model_values, df_match[station_dv])\n",
    "assert not np.any(np.isnan(ratio))\n",
    "df_match = df_match.assign(ratio=ratio)\n",
    "print(\"Scaling factor:\", best_tol)"
   ]
  },
  {
   "cell_type": "code",
   "execution_count": 13,
   "metadata": {
    "execution": {
     "iopub.execute_input": "2020-12-18T21:29:54.409917Z",
     "iopub.status.busy": "2020-12-18T21:29:54.408657Z",
     "iopub.status.idle": "2020-12-18T21:29:54.413646Z",
     "shell.execute_reply": "2020-12-18T21:29:54.414616Z"
    },
    "papermill": {
     "duration": 0.049663,
     "end_time": "2020-12-18T21:29:54.415095",
     "exception": false,
     "start_time": "2020-12-18T21:29:54.365432",
     "status": "completed"
    },
    "tags": []
   },
   "outputs": [
    {
     "data": {
      "text/html": [
       "<div>\n",
       "<style scoped>\n",
       "    .dataframe tbody tr th:only-of-type {\n",
       "        vertical-align: middle;\n",
       "    }\n",
       "\n",
       "    .dataframe tbody tr th {\n",
       "        vertical-align: top;\n",
       "    }\n",
       "\n",
       "    .dataframe thead th {\n",
       "        text-align: right;\n",
       "    }\n",
       "</style>\n",
       "<table border=\"1\" class=\"dataframe\">\n",
       "  <thead>\n",
       "    <tr style=\"text-align: right;\">\n",
       "      <th></th>\n",
       "      <th>irlat</th>\n",
       "      <th>irlon</th>\n",
       "      <th>Gum-LM RL10 (mm)</th>\n",
       "      <th>rlat</th>\n",
       "      <th>rlon</th>\n",
       "      <th>lat</th>\n",
       "      <th>lon</th>\n",
       "      <th>elev (m)</th>\n",
       "      <th>station_name</th>\n",
       "      <th>province</th>\n",
       "      <th>model_values</th>\n",
       "      <th>ratio</th>\n",
       "    </tr>\n",
       "  </thead>\n",
       "  <tbody>\n",
       "    <tr>\n",
       "      <th>0</th>\n",
       "      <td>552</td>\n",
       "      <td>1011</td>\n",
       "      <td>24.072803</td>\n",
       "      <td>-4.517790</td>\n",
       "      <td>10.457750</td>\n",
       "      <td>42.0333</td>\n",
       "      <td>-82.9000</td>\n",
       "      <td>190.0</td>\n",
       "      <td>HARROW CDA composite</td>\n",
       "      <td>ON</td>\n",
       "      <td>22.773129</td>\n",
       "      <td>1.164754</td>\n",
       "    </tr>\n",
       "    <tr>\n",
       "      <th>1</th>\n",
       "      <td>552</td>\n",
       "      <td>1017</td>\n",
       "      <td>26.248475</td>\n",
       "      <td>-4.547677</td>\n",
       "      <td>10.753982</td>\n",
       "      <td>41.9500</td>\n",
       "      <td>-82.5167</td>\n",
       "      <td>177.0</td>\n",
       "      <td>POINT PELEE composite</td>\n",
       "      <td>ON</td>\n",
       "      <td>22.839188</td>\n",
       "      <td>1.266349</td>\n",
       "    </tr>\n",
       "    <tr>\n",
       "      <th>2</th>\n",
       "      <td>558</td>\n",
       "      <td>1007</td>\n",
       "      <td>21.929598</td>\n",
       "      <td>-4.277531</td>\n",
       "      <td>10.287925</td>\n",
       "      <td>42.3000</td>\n",
       "      <td>-83.0667</td>\n",
       "      <td>180.0</td>\n",
       "      <td>WINDSOR UNIVERSITY</td>\n",
       "      <td>ON</td>\n",
       "      <td>22.810122</td>\n",
       "      <td>1.059335</td>\n",
       "    </tr>\n",
       "  </tbody>\n",
       "</table>\n",
       "</div>"
      ],
      "text/plain": [
       "   irlat  irlon  Gum-LM RL10 (mm)      rlat       rlon      lat      lon  \\\n",
       "0    552   1011         24.072803 -4.517790  10.457750  42.0333 -82.9000   \n",
       "1    552   1017         26.248475 -4.547677  10.753982  41.9500 -82.5167   \n",
       "2    558   1007         21.929598 -4.277531  10.287925  42.3000 -83.0667   \n",
       "\n",
       "   elev (m)           station_name province  model_values     ratio  \n",
       "0     190.0   HARROW CDA composite       ON     22.773129  1.164754  \n",
       "1     177.0  POINT PELEE composite       ON     22.839188  1.266349  \n",
       "2     180.0     WINDSOR UNIVERSITY       ON     22.810122  1.059335  "
      ]
     },
     "execution_count": 13,
     "metadata": {},
     "output_type": "execute_result"
    }
   ],
   "source": [
    "df_match.head(3)"
   ]
  },
  {
   "cell_type": "code",
   "execution_count": 14,
   "metadata": {
    "execution": {
     "iopub.execute_input": "2020-12-18T21:29:54.455121Z",
     "iopub.status.busy": "2020-12-18T21:29:54.454738Z",
     "iopub.status.idle": "2020-12-18T21:29:54.456820Z",
     "shell.execute_reply": "2020-12-18T21:29:54.456497Z"
    },
    "papermill": {
     "duration": 0.021994,
     "end_time": "2020-12-18T21:29:54.456952",
     "exception": false,
     "start_time": "2020-12-18T21:29:54.434958",
     "status": "completed"
    },
    "tags": []
   },
   "outputs": [],
   "source": [
    "# convert back to degC\n",
    "if ds[dv].attrs[\"units\"] == \"degC\" and \"degC\" in station_dv:\n",
    "    print(\"Temperature DV detected in degC. Converitng to Kelvin\")\n",
    "    K = 273.15 # K\n",
    "    df_match[station_dv] -= K\n",
    "    df_match.model_values -= K"
   ]
  },
  {
   "cell_type": "code",
   "execution_count": 15,
   "metadata": {
    "execution": {
     "iopub.execute_input": "2020-12-18T21:29:54.510038Z",
     "iopub.status.busy": "2020-12-18T21:29:54.509590Z",
     "iopub.status.idle": "2020-12-18T21:29:54.523483Z",
     "shell.execute_reply": "2020-12-18T21:29:54.522609Z"
    },
    "papermill": {
     "duration": 0.041432,
     "end_time": "2020-12-18T21:29:54.523804",
     "exception": false,
     "start_time": "2020-12-18T21:29:54.482372",
     "status": "completed"
    },
    "tags": []
   },
   "outputs": [],
   "source": [
    "df_match.to_csv(\n",
    "    resource_filename(\n",
    "        \"climpyrical\",\n",
    "        f\"{preprocessed_stations_path}{name}.csv\"\n",
    "    ), index=False\n",
    ")"
   ]
  },
  {
   "cell_type": "code",
   "execution_count": 16,
   "metadata": {
    "execution": {
     "iopub.execute_input": "2020-12-18T21:29:54.562571Z",
     "iopub.status.busy": "2020-12-18T21:29:54.562202Z",
     "iopub.status.idle": "2020-12-18T21:29:54.564105Z",
     "shell.execute_reply": "2020-12-18T21:29:54.564443Z"
    },
    "papermill": {
     "duration": 0.020975,
     "end_time": "2020-12-18T21:29:54.564577",
     "exception": false,
     "start_time": "2020-12-18T21:29:54.543602",
     "status": "completed"
    },
    "tags": []
   },
   "outputs": [],
   "source": [
    "assert np.all(df_match['ratio'] >= 0)"
   ]
  },
  {
   "cell_type": "code",
   "execution_count": null,
   "metadata": {
    "papermill": {
     "duration": 0.029384,
     "end_time": "2020-12-18T21:29:54.615908",
     "exception": false,
     "start_time": "2020-12-18T21:29:54.586524",
     "status": "completed"
    },
    "tags": []
   },
   "outputs": [],
   "source": []
  }
 ],
 "metadata": {
  "kernelspec": {
   "display_name": "Python 3",
   "language": "python",
   "name": "python3"
  },
  "language_info": {
   "codemirror_mode": {
    "name": "ipython",
    "version": 3
   },
   "file_extension": ".py",
   "mimetype": "text/x-python",
   "name": "python",
   "nbconvert_exporter": "python",
   "pygments_lexer": "ipython3",
   "version": "3.8.5"
  },
  "papermill": {
   "default_parameters": {},
   "duration": 5.679459,
   "end_time": "2020-12-18T21:29:55.255028",
   "environment_variables": {},
   "exception": null,
   "input_path": "stations.ipynb",
   "output_path": "/home/nannau/Desktop/pipeline/climpyrical/climpyrical/data/results/intermediate/notebooks/stations_log_R15m10.ipynb",
   "parameters": {
    "fill_glaciers": true,
    "input_model_path": "data/model_inputs/rain_CanRCM4-LE_ens15_1951-2016_max1hr_rl10_gum_lm_ensmean.nc",
    "mask_path": "data/masks/canada_mask_rp.nc",
    "medians": {
     "action": "multiply",
     "value": 20
    },
    "name": "R15m10",
    "nbcc_loc_path": "data/station_inputs/NBCC_2020_new_coords.xlsm",
    "north_mask_path": "data/masks/canada_mask_north_rp.nc",
    "output_figure_path": "/data/results/figures/",
    "output_notebook_path": "/data/results/intermediate/notebooks/",
    "output_reconstruction_path": "/data/results/netcdf/",
    "output_tables_path": "/data/results/TableC2/",
    "preprocessed_model_path": "/data/results/intermediate/preprocessed_netcdf/",
    "preprocessed_stations_path": "/data/results/intermediate/preprocessed_stations/",
    "station_dv": "Gum-LM RL10 (mm)",
    "station_path": "data/station_inputs/15min_rain_rl10_for_maps.csv"
   },
   "start_time": "2020-12-18T21:29:49.575569",
   "version": "2.2.2"
  }
 },
 "nbformat": 4,
 "nbformat_minor": 4
}