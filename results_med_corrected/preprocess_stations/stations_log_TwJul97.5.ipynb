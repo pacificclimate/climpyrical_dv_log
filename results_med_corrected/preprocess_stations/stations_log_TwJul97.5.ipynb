{
 "cells": [
  {
   "cell_type": "markdown",
   "metadata": {
    "papermill": {
     "duration": 0.016654,
     "end_time": "2020-12-18T21:19:31.575019",
     "exception": false,
     "start_time": "2020-12-18T21:19:31.558365",
     "status": "completed"
    },
    "tags": []
   },
   "source": [
    "# Process Stations"
   ]
  },
  {
   "cell_type": "code",
   "execution_count": 1,
   "metadata": {
    "execution": {
     "iopub.execute_input": "2020-12-18T21:19:31.610727Z",
     "iopub.status.busy": "2020-12-18T21:19:31.610216Z",
     "iopub.status.idle": "2020-12-18T21:19:32.539434Z",
     "shell.execute_reply": "2020-12-18T21:19:32.539952Z"
    },
    "papermill": {
     "duration": 0.949442,
     "end_time": "2020-12-18T21:19:32.540413",
     "exception": false,
     "start_time": "2020-12-18T21:19:31.590971",
     "status": "completed"
    },
    "tags": []
   },
   "outputs": [],
   "source": [
    "import pandas as pd\n",
    "import numpy as np\n",
    "import matplotlib.pyplot as plt\n",
    "from pkg_resources import resource_filename\n",
    "\n",
    "from climpyrical.gridding import scale_model_obs\n",
    "from climpyrical.data import read_data\n",
    "from climpyrical.cmd.find_matched_model_vals import add_model_values"
   ]
  },
  {
   "cell_type": "markdown",
   "metadata": {
    "papermill": {
     "duration": 0.015945,
     "end_time": "2020-12-18T21:19:32.579329",
     "exception": false,
     "start_time": "2020-12-18T21:19:32.563384",
     "status": "completed"
    },
    "tags": []
   },
   "source": [
    "### Load station data for processing"
   ]
  },
  {
   "cell_type": "markdown",
   "metadata": {
    "papermill": {
     "duration": 0.013847,
     "end_time": "2020-12-18T21:19:32.608294",
     "exception": false,
     "start_time": "2020-12-18T21:19:32.594447",
     "status": "completed"
    },
    "tags": [
     "parameters"
    ]
   },
   "source": [
    "### Parameters are loaded from config_example.yml\n",
    "Example configuration from config_example.yml:\n",
    "```\n",
    "    paths:\n",
    "        preprocessed_model_path: /data/results/intermediate/preprocessed_netcdf/\n",
    "    RL50:\n",
    "        station_dv: \"RL50 (kPa)\"\n",
    "        station_path: 'data/station_inputs/Interim_snow_rain_load_LR_composite_stations_tbd_v4.csv'\n",
    "        input_model_path: 'data/model_inputs/snw_rain_CanRCM4-LE_ens35_1951-2016_max_rl50_load_ensmean.nc'\n",
    "        medians: \n",
    "            value: 0.4\n",
    "            action: \"multiply\"\n",
    "        fill_glaciers: True\n",
    "```"
   ]
  },
  {
   "cell_type": "code",
   "execution_count": 2,
   "metadata": {
    "execution": {
     "iopub.execute_input": "2020-12-18T21:19:32.635831Z",
     "iopub.status.busy": "2020-12-18T21:19:32.635425Z",
     "iopub.status.idle": "2020-12-18T21:19:32.637632Z",
     "shell.execute_reply": "2020-12-18T21:19:32.637223Z"
    },
    "papermill": {
     "duration": 0.016535,
     "end_time": "2020-12-18T21:19:32.637745",
     "exception": false,
     "start_time": "2020-12-18T21:19:32.621210",
     "status": "completed"
    },
    "tags": [
     "injected-parameters"
    ]
   },
   "outputs": [],
   "source": [
    "# Parameters\n",
    "name = \"TwJul97.5\"\n",
    "station_dv = \"TwJul2.5 (degC)\"\n",
    "station_path = \"data/station_inputs/julTwb97.5p_allstations_v3_for_maps.csv\"\n",
    "input_model_path = (\n",
    "    \"data/model_inputs/twb_CanRCM4-LE_ens35_1951-2016_1hr_jul97.5p_ensmean.nc\"\n",
    ")\n",
    "medians = {\"value\": 21, \"action\": \"add\"}\n",
    "fill_glaciers = True\n",
    "output_notebook_path = \"/data/results/intermediate/notebooks/\"\n",
    "preprocessed_model_path = \"/data/results/intermediate/preprocessed_netcdf/\"\n",
    "preprocessed_stations_path = \"/data/results/intermediate/preprocessed_stations/\"\n",
    "output_reconstruction_path = \"/data/results/netcdf/\"\n",
    "output_tables_path = \"/data/results/TableC2/\"\n",
    "output_figure_path = \"/data/results/figures/\"\n",
    "mask_path = \"data/masks/canada_mask_rp.nc\"\n",
    "north_mask_path = \"data/masks/canada_mask_north_rp.nc\"\n",
    "nbcc_loc_path = \"data/station_inputs/NBCC_2020_new_coords.xlsm\"\n"
   ]
  },
  {
   "cell_type": "code",
   "execution_count": 3,
   "metadata": {
    "execution": {
     "iopub.execute_input": "2020-12-18T21:19:32.663576Z",
     "iopub.status.busy": "2020-12-18T21:19:32.663183Z",
     "iopub.status.idle": "2020-12-18T21:19:32.666503Z",
     "shell.execute_reply": "2020-12-18T21:19:32.666157Z"
    },
    "papermill": {
     "duration": 0.016474,
     "end_time": "2020-12-18T21:19:32.666619",
     "exception": false,
     "start_time": "2020-12-18T21:19:32.650145",
     "status": "completed"
    },
    "tags": [
     "parameters"
    ]
   },
   "outputs": [],
   "source": [
    "# Parameters cell"
   ]
  },
  {
   "cell_type": "code",
   "execution_count": 4,
   "metadata": {
    "execution": {
     "iopub.execute_input": "2020-12-18T21:19:32.707309Z",
     "iopub.status.busy": "2020-12-18T21:19:32.706879Z",
     "iopub.status.idle": "2020-12-18T21:19:32.715674Z",
     "shell.execute_reply": "2020-12-18T21:19:32.716505Z"
    },
    "papermill": {
     "duration": 0.031369,
     "end_time": "2020-12-18T21:19:32.716820",
     "exception": false,
     "start_time": "2020-12-18T21:19:32.685451",
     "status": "completed"
    },
    "tags": []
   },
   "outputs": [],
   "source": [
    "df = pd.read_csv(resource_filename(\"climpyrical\", station_path), index_col=None)"
   ]
  },
  {
   "cell_type": "markdown",
   "metadata": {
    "papermill": {
     "duration": 0.011612,
     "end_time": "2020-12-18T21:19:32.744945",
     "exception": false,
     "start_time": "2020-12-18T21:19:32.733333",
     "status": "completed"
    },
    "tags": []
   },
   "source": [
    "Check the columns for standard names, and standardize them.\n",
    "\n",
    "This process will not catch any and all possible inputs, so refer to documentation for \n",
    "expected column names"
   ]
  },
  {
   "cell_type": "code",
   "execution_count": 5,
   "metadata": {
    "execution": {
     "iopub.execute_input": "2020-12-18T21:19:32.774726Z",
     "iopub.status.busy": "2020-12-18T21:19:32.773549Z",
     "iopub.status.idle": "2020-12-18T21:19:32.777056Z",
     "shell.execute_reply": "2020-12-18T21:19:32.776023Z"
    },
    "papermill": {
     "duration": 0.022005,
     "end_time": "2020-12-18T21:19:32.777257",
     "exception": false,
     "start_time": "2020-12-18T21:19:32.755252",
     "status": "completed"
    },
    "tags": []
   },
   "outputs": [],
   "source": [
    "def check_df_columns(df):\n",
    "    if 'longitude' in df.columns:\n",
    "        df=df.rename(columns={'longitude': 'lon'})\n",
    "    if 'long' in df.columns:\n",
    "        df=df.rename(columns={'long': 'lon'})\n",
    "    if 'latitude' in df.columns:\n",
    "        df=df.rename(columns={'latitude': 'lat'})\n",
    "    if 'name' in df.columns:\n",
    "        df=df.rename(columns={'name': 'station_name'})\n",
    "    if 'Name' in df.columns:\n",
    "        df=df.rename(columns={'Name': 'station_name'})\n",
    "    if \"prov\" in df.columns:\n",
    "        df=df.rename(columns={\"prov\": \"province\"})\n",
    "    if \"elev\" in df.columns:\n",
    "        df=df.rename(columns={\"elev\": \"elev (m)\"})\n",
    "    if \"elevation (m)\" in df.columns:\n",
    "        df=df.rename(columns={\"elevation (m)\": \"elev (m)\"})\n",
    "    return df\n",
    "\n",
    "df = check_df_columns(df)\n",
    "df.head(5)\n",
    "\n",
    "if np.any(np.isnan(df[[\"lon\", \"lat\", \"elev (m)\", station_dv]].values)):\n",
    "    raise ValueError(\"NaN detected in station input file.\")"
   ]
  },
  {
   "cell_type": "markdown",
   "metadata": {
    "papermill": {
     "duration": 0.014575,
     "end_time": "2020-12-18T21:19:32.809105",
     "exception": false,
     "start_time": "2020-12-18T21:19:32.794530",
     "status": "completed"
    },
    "tags": []
   },
   "source": [
    "Load preprocessed model at target resolution"
   ]
  },
  {
   "cell_type": "code",
   "execution_count": 6,
   "metadata": {
    "execution": {
     "iopub.execute_input": "2020-12-18T21:19:32.842773Z",
     "iopub.status.busy": "2020-12-18T21:19:32.842153Z",
     "iopub.status.idle": "2020-12-18T21:19:32.913581Z",
     "shell.execute_reply": "2020-12-18T21:19:32.913909Z"
    },
    "papermill": {
     "duration": 0.090881,
     "end_time": "2020-12-18T21:19:32.914074",
     "exception": false,
     "start_time": "2020-12-18T21:19:32.823193",
     "status": "completed"
    },
    "tags": []
   },
   "outputs": [],
   "source": [
    "ds = read_data(resource_filename(\"climpyrical\", f\"{preprocessed_model_path}{name}.nc\"))\n",
    "(dv, ) = ds.data_vars"
   ]
  },
  {
   "cell_type": "markdown",
   "metadata": {
    "papermill": {
     "duration": 0.030272,
     "end_time": "2020-12-18T21:19:32.959181",
     "exception": false,
     "start_time": "2020-12-18T21:19:32.928909",
     "status": "completed"
    },
    "tags": []
   },
   "source": [
    "Perform unit conversion if necessary\n",
    "\n",
    "Exclude suspect RL50 values with true 0.0"
   ]
  },
  {
   "cell_type": "code",
   "execution_count": 7,
   "metadata": {
    "execution": {
     "iopub.execute_input": "2020-12-18T21:19:33.006672Z",
     "iopub.status.busy": "2020-12-18T21:19:33.006142Z",
     "iopub.status.idle": "2020-12-18T21:19:33.017216Z",
     "shell.execute_reply": "2020-12-18T21:19:33.017756Z"
    },
    "papermill": {
     "duration": 0.034332,
     "end_time": "2020-12-18T21:19:33.017990",
     "exception": false,
     "start_time": "2020-12-18T21:19:32.983658",
     "status": "completed"
    },
    "tags": []
   },
   "outputs": [
    {
     "name": "stdout",
     "output_type": "stream",
     "text": [
      "Temperature DV detected in degC. Converitng to Kelvin\n"
     ]
    }
   ],
   "source": [
    "# calculate ratios with applied correction\n",
    "# Note the ratios are calculated in K for Temperature fields\n",
    "if ds[dv].attrs[\"units\"] == \"degC\" and \"degC\" in station_dv:\n",
    "    print(\"Temperature DV detected in degC. Converitng to Kelvin\")\n",
    "    K = 273.15 # K\n",
    "    df[station_dv] += K\n",
    "    ds[dv] += K\n",
    "\n",
    "if 'RL50 (kPa)' in station_dv:\n",
    "    df = df[df[station_dv] != 0.0]"
   ]
  },
  {
   "cell_type": "markdown",
   "metadata": {
    "papermill": {
     "duration": 0.01458,
     "end_time": "2020-12-18T21:19:33.056164",
     "exception": false,
     "start_time": "2020-12-18T21:19:33.041584",
     "status": "completed"
    },
    "tags": []
   },
   "source": [
    "Use matching script to find matching model values"
   ]
  },
  {
   "cell_type": "code",
   "execution_count": 8,
   "metadata": {
    "execution": {
     "iopub.execute_input": "2020-12-18T21:19:33.085287Z",
     "iopub.status.busy": "2020-12-18T21:19:33.084672Z",
     "iopub.status.idle": "2020-12-18T21:19:35.050333Z",
     "shell.execute_reply": "2020-12-18T21:19:35.049824Z"
    },
    "papermill": {
     "duration": 1.983253,
     "end_time": "2020-12-18T21:19:35.050484",
     "exception": false,
     "start_time": "2020-12-18T21:19:33.067231",
     "status": "completed"
    },
    "tags": []
   },
   "outputs": [
    {
     "name": "stderr",
     "output_type": "stream",
     "text": [
      "INFO:root:Detect units: degC\n"
     ]
    },
    {
     "name": "stderr",
     "output_type": "stream",
     "text": [
      "INFO:root:rlat or rlon not detected in input file.converting assumes WGS84 coords to rotated pole\n"
     ]
    },
    {
     "name": "stderr",
     "output_type": "stream",
     "text": [
      "INFO:root:Matching coordinates now\n"
     ]
    },
    {
     "name": "stderr",
     "output_type": "stream",
     "text": [
      "INFO:root:Locating corresponding model valuesInterpolating to nearest if matched model value is NaN\n"
     ]
    },
    {
     "data": {
      "text/html": [
       "<div>\n",
       "<style scoped>\n",
       "    .dataframe tbody tr th:only-of-type {\n",
       "        vertical-align: middle;\n",
       "    }\n",
       "\n",
       "    .dataframe tbody tr th {\n",
       "        vertical-align: top;\n",
       "    }\n",
       "\n",
       "    .dataframe thead th {\n",
       "        text-align: right;\n",
       "    }\n",
       "</style>\n",
       "<table border=\"1\" class=\"dataframe\">\n",
       "  <thead>\n",
       "    <tr style=\"text-align: right;\">\n",
       "      <th></th>\n",
       "      <th>history_id</th>\n",
       "      <th>station_name</th>\n",
       "      <th>province</th>\n",
       "      <th>lon</th>\n",
       "      <th>lat</th>\n",
       "      <th>elev (m)</th>\n",
       "      <th>TwJul2.5 (degC)</th>\n",
       "      <th>rlat</th>\n",
       "      <th>rlon</th>\n",
       "      <th>irlat</th>\n",
       "      <th>irlon</th>\n",
       "      <th>model_values</th>\n",
       "    </tr>\n",
       "  </thead>\n",
       "  <tbody>\n",
       "    <tr>\n",
       "      <th>0</th>\n",
       "      <td>42.0</td>\n",
       "      <td>ESQUIMALT HARBOUR</td>\n",
       "      <td>BC</td>\n",
       "      <td>-123.439</td>\n",
       "      <td>48.4320</td>\n",
       "      <td>3</td>\n",
       "      <td>289.75</td>\n",
       "      <td>3.866425</td>\n",
       "      <td>-17.223366</td>\n",
       "      <td>742</td>\n",
       "      <td>385</td>\n",
       "      <td>294.810030</td>\n",
       "    </tr>\n",
       "    <tr>\n",
       "      <th>1</th>\n",
       "      <td>56.0</td>\n",
       "      <td>MALAHAT</td>\n",
       "      <td>BC</td>\n",
       "      <td>-123.530</td>\n",
       "      <td>48.5749</td>\n",
       "      <td>366</td>\n",
       "      <td>292.15</td>\n",
       "      <td>4.021213</td>\n",
       "      <td>-17.233219</td>\n",
       "      <td>745</td>\n",
       "      <td>385</td>\n",
       "      <td>295.121811</td>\n",
       "    </tr>\n",
       "    <tr>\n",
       "      <th>2</th>\n",
       "      <td>90.0</td>\n",
       "      <td>SATURNA ISLAND CS</td>\n",
       "      <td>BC</td>\n",
       "      <td>-123.045</td>\n",
       "      <td>48.7839</td>\n",
       "      <td>24</td>\n",
       "      <td>292.85</td>\n",
       "      <td>4.113871</td>\n",
       "      <td>-16.861279</td>\n",
       "      <td>747</td>\n",
       "      <td>394</td>\n",
       "      <td>295.830939</td>\n",
       "    </tr>\n",
       "    <tr>\n",
       "      <th>3</th>\n",
       "      <td>93.0</td>\n",
       "      <td>SHERINGHAM POINT</td>\n",
       "      <td>BC</td>\n",
       "      <td>-123.921</td>\n",
       "      <td>48.3767</td>\n",
       "      <td>7</td>\n",
       "      <td>290.75</td>\n",
       "      <td>3.920432</td>\n",
       "      <td>-17.544312</td>\n",
       "      <td>743</td>\n",
       "      <td>378</td>\n",
       "      <td>294.209959</td>\n",
       "    </tr>\n",
       "    <tr>\n",
       "      <th>4</th>\n",
       "      <td>106.0</td>\n",
       "      <td>VICTORIA UNIVERSITY CS</td>\n",
       "      <td>BC</td>\n",
       "      <td>-123.305</td>\n",
       "      <td>48.4570</td>\n",
       "      <td>60</td>\n",
       "      <td>292.65</td>\n",
       "      <td>3.860863</td>\n",
       "      <td>-17.130987</td>\n",
       "      <td>742</td>\n",
       "      <td>387</td>\n",
       "      <td>295.093941</td>\n",
       "    </tr>\n",
       "  </tbody>\n",
       "</table>\n",
       "</div>"
      ],
      "text/plain": [
       "   history_id            station_name province      lon      lat  elev (m)  \\\n",
       "0        42.0       ESQUIMALT HARBOUR       BC -123.439  48.4320         3   \n",
       "1        56.0                 MALAHAT       BC -123.530  48.5749       366   \n",
       "2        90.0       SATURNA ISLAND CS       BC -123.045  48.7839        24   \n",
       "3        93.0        SHERINGHAM POINT       BC -123.921  48.3767         7   \n",
       "4       106.0  VICTORIA UNIVERSITY CS       BC -123.305  48.4570        60   \n",
       "\n",
       "   TwJul2.5 (degC)      rlat       rlon  irlat  irlon  model_values  \n",
       "0           289.75  3.866425 -17.223366    742    385    294.810030  \n",
       "1           292.15  4.021213 -17.233219    745    385    295.121811  \n",
       "2           292.85  4.113871 -16.861279    747    394    295.830939  \n",
       "3           290.75  3.920432 -17.544312    743    378    294.209959  \n",
       "4           292.65  3.860863 -17.130987    742    387    295.093941  "
      ]
     },
     "execution_count": 8,
     "metadata": {},
     "output_type": "execute_result"
    }
   ],
   "source": [
    "df = add_model_values(ds=ds, df=df)\n",
    "df.head(5)"
   ]
  },
  {
   "cell_type": "markdown",
   "metadata": {
    "papermill": {
     "duration": 0.025824,
     "end_time": "2020-12-18T21:19:35.096336",
     "exception": false,
     "start_time": "2020-12-18T21:19:35.070512",
     "status": "completed"
    },
    "tags": []
   },
   "source": [
    "Group stations that land in the same index in rlat and rlon (land in the same grid cell)\n",
    "\n",
    "This means that they are in the same grid cell and need to be aggregated"
   ]
  },
  {
   "cell_type": "code",
   "execution_count": 9,
   "metadata": {
    "execution": {
     "iopub.execute_input": "2020-12-18T21:19:35.138258Z",
     "iopub.status.busy": "2020-12-18T21:19:35.137661Z",
     "iopub.status.idle": "2020-12-18T21:19:35.149072Z",
     "shell.execute_reply": "2020-12-18T21:19:35.149836Z"
    },
    "papermill": {
     "duration": 0.034774,
     "end_time": "2020-12-18T21:19:35.150153",
     "exception": false,
     "start_time": "2020-12-18T21:19:35.115379",
     "status": "completed"
    },
    "tags": []
   },
   "outputs": [],
   "source": [
    "agg_dict = {\n",
    "    station_dv: 'mean', \n",
    "    'rlat':'mean', \n",
    "    'rlon':'mean', \n",
    "    'lat': 'mean', \n",
    "    'lon': 'mean', \n",
    "    'elev (m)': 'mean',\n",
    "    'station_name': 'first',\n",
    "    'province': 'first',\n",
    "    \"model_values\": \"mean\"\n",
    "}\n",
    "\n",
    "# Province key is used for WP10 and WP50 for\n",
    "# special treatment of Atlantic/Far NW areas\n",
    "if \"province\" not in df.columns:\n",
    "    agg_dict = agg_dict.pop(\"province\")\n",
    "\n",
    "df_match = df.groupby(\n",
    "    ['irlat', 'irlon'], as_index=False\n",
    ").agg(\n",
    "    agg_dict\n",
    ")\n",
    "\n",
    "\n",
    "irlat = df_match.irlat\n",
    "irlon = df_match.irlon"
   ]
  },
  {
   "cell_type": "code",
   "execution_count": 10,
   "metadata": {
    "execution": {
     "iopub.execute_input": "2020-12-18T21:19:35.208087Z",
     "iopub.status.busy": "2020-12-18T21:19:35.207573Z",
     "iopub.status.idle": "2020-12-18T21:19:35.210851Z",
     "shell.execute_reply": "2020-12-18T21:19:35.210369Z"
    },
    "papermill": {
     "duration": 0.038323,
     "end_time": "2020-12-18T21:19:35.211009",
     "exception": false,
     "start_time": "2020-12-18T21:19:35.172686",
     "status": "completed"
    },
    "tags": []
   },
   "outputs": [
    {
     "data": {
      "text/html": [
       "<div>\n",
       "<style scoped>\n",
       "    .dataframe tbody tr th:only-of-type {\n",
       "        vertical-align: middle;\n",
       "    }\n",
       "\n",
       "    .dataframe tbody tr th {\n",
       "        vertical-align: top;\n",
       "    }\n",
       "\n",
       "    .dataframe thead th {\n",
       "        text-align: right;\n",
       "    }\n",
       "</style>\n",
       "<table border=\"1\" class=\"dataframe\">\n",
       "  <thead>\n",
       "    <tr style=\"text-align: right;\">\n",
       "      <th></th>\n",
       "      <th>irlat</th>\n",
       "      <th>irlon</th>\n",
       "      <th>TwJul2.5 (degC)</th>\n",
       "      <th>rlat</th>\n",
       "      <th>rlon</th>\n",
       "      <th>lat</th>\n",
       "      <th>lon</th>\n",
       "      <th>elev (m)</th>\n",
       "      <th>station_name</th>\n",
       "      <th>province</th>\n",
       "      <th>model_values</th>\n",
       "    </tr>\n",
       "  </thead>\n",
       "  <tbody>\n",
       "    <tr>\n",
       "      <th>0</th>\n",
       "      <td>549</td>\n",
       "      <td>1019</td>\n",
       "      <td>298.2500</td>\n",
       "      <td>-4.655459</td>\n",
       "      <td>10.812370</td>\n",
       "      <td>41.8333</td>\n",
       "      <td>-82.4667</td>\n",
       "      <td>195</td>\n",
       "      <td>SOUTHEAST SHOAL (AUT)</td>\n",
       "      <td>ON</td>\n",
       "      <td>301.761820</td>\n",
       "    </tr>\n",
       "    <tr>\n",
       "      <th>1</th>\n",
       "      <td>552</td>\n",
       "      <td>1011</td>\n",
       "      <td>298.0500</td>\n",
       "      <td>-4.517790</td>\n",
       "      <td>10.457750</td>\n",
       "      <td>42.0333</td>\n",
       "      <td>-82.9000</td>\n",
       "      <td>191</td>\n",
       "      <td>HARROW CDA AUTO</td>\n",
       "      <td>ON</td>\n",
       "      <td>302.037081</td>\n",
       "    </tr>\n",
       "    <tr>\n",
       "      <th>2</th>\n",
       "      <td>552</td>\n",
       "      <td>1017</td>\n",
       "      <td>299.1500</td>\n",
       "      <td>-4.549355</td>\n",
       "      <td>10.752628</td>\n",
       "      <td>41.9486</td>\n",
       "      <td>-82.5189</td>\n",
       "      <td>177</td>\n",
       "      <td>POINT PELEE CS</td>\n",
       "      <td>ON</td>\n",
       "      <td>301.814274</td>\n",
       "    </tr>\n",
       "    <tr>\n",
       "      <th>3</th>\n",
       "      <td>558</td>\n",
       "      <td>1009</td>\n",
       "      <td>297.6500</td>\n",
       "      <td>-4.286849</td>\n",
       "      <td>10.373390</td>\n",
       "      <td>42.2756</td>\n",
       "      <td>-82.9556</td>\n",
       "      <td>190</td>\n",
       "      <td>WINDSOR A</td>\n",
       "      <td>ON</td>\n",
       "      <td>301.717726</td>\n",
       "    </tr>\n",
       "    <tr>\n",
       "      <th>4</th>\n",
       "      <td>559</td>\n",
       "      <td>1013</td>\n",
       "      <td>299.1975</td>\n",
       "      <td>-4.228625</td>\n",
       "      <td>10.555439</td>\n",
       "      <td>42.3000</td>\n",
       "      <td>-82.7000</td>\n",
       "      <td>184</td>\n",
       "      <td>BELLE RIVER</td>\n",
       "      <td>ON</td>\n",
       "      <td>301.855475</td>\n",
       "    </tr>\n",
       "    <tr>\n",
       "      <th>...</th>\n",
       "      <td>...</td>\n",
       "      <td>...</td>\n",
       "      <td>...</td>\n",
       "      <td>...</td>\n",
       "      <td>...</td>\n",
       "      <td>...</td>\n",
       "      <td>...</td>\n",
       "      <td>...</td>\n",
       "      <td>...</td>\n",
       "      <td>...</td>\n",
       "      <td>...</td>\n",
       "    </tr>\n",
       "    <tr>\n",
       "      <th>524</th>\n",
       "      <td>1259</td>\n",
       "      <td>614</td>\n",
       "      <td>286.9500</td>\n",
       "      <td>26.768681</td>\n",
       "      <td>-7.115011</td>\n",
       "      <td>73.2308</td>\n",
       "      <td>-119.5380</td>\n",
       "      <td>42</td>\n",
       "      <td>THOMSEN RIVER</td>\n",
       "      <td>NT</td>\n",
       "      <td>292.060286</td>\n",
       "    </tr>\n",
       "    <tr>\n",
       "      <th>525</th>\n",
       "      <td>1269</td>\n",
       "      <td>788</td>\n",
       "      <td>281.9500</td>\n",
       "      <td>27.224763</td>\n",
       "      <td>0.601810</td>\n",
       "      <td>74.7169</td>\n",
       "      <td>-94.9694</td>\n",
       "      <td>68</td>\n",
       "      <td>RESOLUTE CARS</td>\n",
       "      <td>NU</td>\n",
       "      <td>282.397492</td>\n",
       "    </tr>\n",
       "    <tr>\n",
       "      <th>526</th>\n",
       "      <td>1279</td>\n",
       "      <td>618</td>\n",
       "      <td>286.9125</td>\n",
       "      <td>27.669419</td>\n",
       "      <td>-6.922336</td>\n",
       "      <td>74.1389</td>\n",
       "      <td>-119.9890</td>\n",
       "      <td>32</td>\n",
       "      <td>NANGMAGVIK LAKE</td>\n",
       "      <td>NT</td>\n",
       "      <td>290.621972</td>\n",
       "    </tr>\n",
       "    <tr>\n",
       "      <th>527</th>\n",
       "      <td>1322</td>\n",
       "      <td>640</td>\n",
       "      <td>280.9500</td>\n",
       "      <td>29.596811</td>\n",
       "      <td>-5.969242</td>\n",
       "      <td>76.2333</td>\n",
       "      <td>-119.3330</td>\n",
       "      <td>12</td>\n",
       "      <td>MOULD BAY A</td>\n",
       "      <td>NT</td>\n",
       "      <td>289.538599</td>\n",
       "    </tr>\n",
       "    <tr>\n",
       "      <th>528</th>\n",
       "      <td>1391</td>\n",
       "      <td>826</td>\n",
       "      <td>281.5500</td>\n",
       "      <td>32.645419</td>\n",
       "      <td>2.272431</td>\n",
       "      <td>79.9833</td>\n",
       "      <td>-85.9333</td>\n",
       "      <td>10</td>\n",
       "      <td>EUREKA A</td>\n",
       "      <td>NU</td>\n",
       "      <td>279.114785</td>\n",
       "    </tr>\n",
       "  </tbody>\n",
       "</table>\n",
       "<p>529 rows × 11 columns</p>\n",
       "</div>"
      ],
      "text/plain": [
       "     irlat  irlon  TwJul2.5 (degC)       rlat       rlon      lat       lon  \\\n",
       "0      549   1019         298.2500  -4.655459  10.812370  41.8333  -82.4667   \n",
       "1      552   1011         298.0500  -4.517790  10.457750  42.0333  -82.9000   \n",
       "2      552   1017         299.1500  -4.549355  10.752628  41.9486  -82.5189   \n",
       "3      558   1009         297.6500  -4.286849  10.373390  42.2756  -82.9556   \n",
       "4      559   1013         299.1975  -4.228625  10.555439  42.3000  -82.7000   \n",
       "..     ...    ...              ...        ...        ...      ...       ...   \n",
       "524   1259    614         286.9500  26.768681  -7.115011  73.2308 -119.5380   \n",
       "525   1269    788         281.9500  27.224763   0.601810  74.7169  -94.9694   \n",
       "526   1279    618         286.9125  27.669419  -6.922336  74.1389 -119.9890   \n",
       "527   1322    640         280.9500  29.596811  -5.969242  76.2333 -119.3330   \n",
       "528   1391    826         281.5500  32.645419   2.272431  79.9833  -85.9333   \n",
       "\n",
       "     elev (m)           station_name province  model_values  \n",
       "0         195  SOUTHEAST SHOAL (AUT)       ON    301.761820  \n",
       "1         191        HARROW CDA AUTO       ON    302.037081  \n",
       "2         177         POINT PELEE CS       ON    301.814274  \n",
       "3         190              WINDSOR A       ON    301.717726  \n",
       "4         184            BELLE RIVER       ON    301.855475  \n",
       "..        ...                    ...      ...           ...  \n",
       "524        42          THOMSEN RIVER       NT    292.060286  \n",
       "525        68          RESOLUTE CARS       NU    282.397492  \n",
       "526        32        NANGMAGVIK LAKE       NT    290.621972  \n",
       "527        12            MOULD BAY A       NT    289.538599  \n",
       "528        10               EUREKA A       NU    279.114785  \n",
       "\n",
       "[529 rows x 11 columns]"
      ]
     },
     "execution_count": 10,
     "metadata": {},
     "output_type": "execute_result"
    }
   ],
   "source": [
    "df_match"
   ]
  },
  {
   "cell_type": "markdown",
   "metadata": {
    "papermill": {
     "duration": 0.012212,
     "end_time": "2020-12-18T21:19:35.239127",
     "exception": false,
     "start_time": "2020-12-18T21:19:35.226915",
     "status": "completed"
    },
    "tags": []
   },
   "source": [
    "Verify that they are correlated"
   ]
  },
  {
   "cell_type": "code",
   "execution_count": 11,
   "metadata": {
    "execution": {
     "iopub.execute_input": "2020-12-18T21:19:35.271063Z",
     "iopub.status.busy": "2020-12-18T21:19:35.270227Z",
     "iopub.status.idle": "2020-12-18T21:19:35.408009Z",
     "shell.execute_reply": "2020-12-18T21:19:35.408823Z"
    },
    "papermill": {
     "duration": 0.158088,
     "end_time": "2020-12-18T21:19:35.409171",
     "exception": false,
     "start_time": "2020-12-18T21:19:35.251083",
     "status": "completed"
    },
    "tags": []
   },
   "outputs": [
    {
     "data": {
      "text/plain": [
       "Text(0, 0.5, 'Model')"
      ]
     },
     "execution_count": 11,
     "metadata": {},
     "output_type": "execute_result"
    },
    {
     "data": {
      "image/png": "[encoded data removed]",
      "text/plain": [
       "<Figure size 432x288 with 1 Axes>"
      ]
     },
     "metadata": {
      "needs_background": "light"
     },
     "output_type": "display_data"
    }
   ],
   "source": [
    "plt.scatter(df_match[station_dv], df_match.model_values)\n",
    "plt.title(\"Correlation between station and models\")\n",
    "plt.xlabel('Stations')\n",
    "plt.ylabel('Model')"
   ]
  },
  {
   "cell_type": "markdown",
   "metadata": {
    "papermill": {
     "duration": 0.025181,
     "end_time": "2020-12-18T21:19:35.454175",
     "exception": false,
     "start_time": "2020-12-18T21:19:35.428994",
     "status": "completed"
    },
    "tags": []
   },
   "source": [
    "Now each station should be matched with a value grid cell value"
   ]
  },
  {
   "cell_type": "markdown",
   "metadata": {
    "papermill": {
     "duration": 0.014016,
     "end_time": "2020-12-18T21:19:35.485864",
     "exception": false,
     "start_time": "2020-12-18T21:19:35.471848",
     "status": "completed"
    },
    "tags": []
   },
   "source": [
    "### Normalize the model mean to match that of the station distribution\n",
    "Find a factor, $\\beta$ such that\n",
    "$$\\mu_s - \\frac{\\mu_m}{\\beta} \\approx 0$$ where $\\mu_s$ is the spatial station mean and $\\mu_m$ is the spatial model mean.\n",
    "\n",
    "$\\beta$ is simply:\n",
    "\n",
    "$$\\beta = \\frac{\\sum_i^{N_s}{M_i}}{\\sum_i^{N_s}{S_i}}$$"
   ]
  },
  {
   "cell_type": "code",
   "execution_count": 12,
   "metadata": {
    "execution": {
     "iopub.execute_input": "2020-12-18T21:19:35.523033Z",
     "iopub.status.busy": "2020-12-18T21:19:35.522608Z",
     "iopub.status.idle": "2020-12-18T21:19:35.526814Z",
     "shell.execute_reply": "2020-12-18T21:19:35.526024Z"
    },
    "papermill": {
     "duration": 0.027251,
     "end_time": "2020-12-18T21:19:35.527066",
     "exception": false,
     "start_time": "2020-12-18T21:19:35.499815",
     "status": "completed"
    },
    "tags": []
   },
   "outputs": [
    {
     "name": "stdout",
     "output_type": "stream",
     "text": [
      "Scaling factor: 1.0115286551623393\n"
     ]
    }
   ],
   "source": [
    "ratio, best_tol = scale_model_obs(df_match.model_values, df_match[station_dv])\n",
    "assert not np.any(np.isnan(ratio))\n",
    "df_match = df_match.assign(ratio=ratio)\n",
    "print(\"Scaling factor:\", best_tol)"
   ]
  },
  {
   "cell_type": "code",
   "execution_count": 13,
   "metadata": {
    "execution": {
     "iopub.execute_input": "2020-12-18T21:19:35.591191Z",
     "iopub.status.busy": "2020-12-18T21:19:35.590287Z",
     "iopub.status.idle": "2020-12-18T21:19:35.593662Z",
     "shell.execute_reply": "2020-12-18T21:19:35.594345Z"
    },
    "papermill": {
     "duration": 0.045842,
     "end_time": "2020-12-18T21:19:35.594618",
     "exception": false,
     "start_time": "2020-12-18T21:19:35.548776",
     "status": "completed"
    },
    "tags": []
   },
   "outputs": [
    {
     "data": {
      "text/html": [
       "<div>\n",
       "<style scoped>\n",
       "    .dataframe tbody tr th:only-of-type {\n",
       "        vertical-align: middle;\n",
       "    }\n",
       "\n",
       "    .dataframe tbody tr th {\n",
       "        vertical-align: top;\n",
       "    }\n",
       "\n",
       "    .dataframe thead th {\n",
       "        text-align: right;\n",
       "    }\n",
       "</style>\n",
       "<table border=\"1\" class=\"dataframe\">\n",
       "  <thead>\n",
       "    <tr style=\"text-align: right;\">\n",
       "      <th></th>\n",
       "      <th>irlat</th>\n",
       "      <th>irlon</th>\n",
       "      <th>TwJul2.5 (degC)</th>\n",
       "      <th>rlat</th>\n",
       "      <th>rlon</th>\n",
       "      <th>lat</th>\n",
       "      <th>lon</th>\n",
       "      <th>elev (m)</th>\n",
       "      <th>station_name</th>\n",
       "      <th>province</th>\n",
       "      <th>model_values</th>\n",
       "      <th>ratio</th>\n",
       "    </tr>\n",
       "  </thead>\n",
       "  <tbody>\n",
       "    <tr>\n",
       "      <th>0</th>\n",
       "      <td>549</td>\n",
       "      <td>1019</td>\n",
       "      <td>298.25</td>\n",
       "      <td>-4.655459</td>\n",
       "      <td>10.812370</td>\n",
       "      <td>41.8333</td>\n",
       "      <td>-82.4667</td>\n",
       "      <td>195</td>\n",
       "      <td>SOUTHEAST SHOAL (AUT)</td>\n",
       "      <td>ON</td>\n",
       "      <td>301.761820</td>\n",
       "      <td>0.999757</td>\n",
       "    </tr>\n",
       "    <tr>\n",
       "      <th>1</th>\n",
       "      <td>552</td>\n",
       "      <td>1011</td>\n",
       "      <td>298.05</td>\n",
       "      <td>-4.517790</td>\n",
       "      <td>10.457750</td>\n",
       "      <td>42.0333</td>\n",
       "      <td>-82.9000</td>\n",
       "      <td>191</td>\n",
       "      <td>HARROW CDA AUTO</td>\n",
       "      <td>ON</td>\n",
       "      <td>302.037081</td>\n",
       "      <td>0.998176</td>\n",
       "    </tr>\n",
       "    <tr>\n",
       "      <th>2</th>\n",
       "      <td>552</td>\n",
       "      <td>1017</td>\n",
       "      <td>299.15</td>\n",
       "      <td>-4.549355</td>\n",
       "      <td>10.752628</td>\n",
       "      <td>41.9486</td>\n",
       "      <td>-82.5189</td>\n",
       "      <td>177</td>\n",
       "      <td>POINT PELEE CS</td>\n",
       "      <td>ON</td>\n",
       "      <td>301.814274</td>\n",
       "      <td>1.002599</td>\n",
       "    </tr>\n",
       "  </tbody>\n",
       "</table>\n",
       "</div>"
      ],
      "text/plain": [
       "   irlat  irlon  TwJul2.5 (degC)      rlat       rlon      lat      lon  \\\n",
       "0    549   1019           298.25 -4.655459  10.812370  41.8333 -82.4667   \n",
       "1    552   1011           298.05 -4.517790  10.457750  42.0333 -82.9000   \n",
       "2    552   1017           299.15 -4.549355  10.752628  41.9486 -82.5189   \n",
       "\n",
       "   elev (m)           station_name province  model_values     ratio  \n",
       "0       195  SOUTHEAST SHOAL (AUT)       ON    301.761820  0.999757  \n",
       "1       191        HARROW CDA AUTO       ON    302.037081  0.998176  \n",
       "2       177         POINT PELEE CS       ON    301.814274  1.002599  "
      ]
     },
     "execution_count": 13,
     "metadata": {},
     "output_type": "execute_result"
    }
   ],
   "source": [
    "df_match.head(3)"
   ]
  },
  {
   "cell_type": "code",
   "execution_count": 14,
   "metadata": {
    "execution": {
     "iopub.execute_input": "2020-12-18T21:19:35.661404Z",
     "iopub.status.busy": "2020-12-18T21:19:35.660950Z",
     "iopub.status.idle": "2020-12-18T21:19:35.663913Z",
     "shell.execute_reply": "2020-12-18T21:19:35.664406Z"
    },
    "papermill": {
     "duration": 0.032554,
     "end_time": "2020-12-18T21:19:35.664620",
     "exception": false,
     "start_time": "2020-12-18T21:19:35.632066",
     "status": "completed"
    },
    "tags": []
   },
   "outputs": [
    {
     "name": "stdout",
     "output_type": "stream",
     "text": [
      "Temperature DV detected in degC. Converitng to Kelvin\n"
     ]
    }
   ],
   "source": [
    "# convert back to degC\n",
    "if ds[dv].attrs[\"units\"] == \"degC\" and \"degC\" in station_dv:\n",
    "    print(\"Temperature DV detected in degC. Converitng to Kelvin\")\n",
    "    K = 273.15 # K\n",
    "    df_match[station_dv] -= K\n",
    "    df_match.model_values -= K"
   ]
  },
  {
   "cell_type": "code",
   "execution_count": 15,
   "metadata": {
    "execution": {
     "iopub.execute_input": "2020-12-18T21:19:35.717864Z",
     "iopub.status.busy": "2020-12-18T21:19:35.717152Z",
     "iopub.status.idle": "2020-12-18T21:19:35.734824Z",
     "shell.execute_reply": "2020-12-18T21:19:35.735333Z"
    },
    "papermill": {
     "duration": 0.049708,
     "end_time": "2020-12-18T21:19:35.735553",
     "exception": false,
     "start_time": "2020-12-18T21:19:35.685845",
     "status": "completed"
    },
    "tags": []
   },
   "outputs": [],
   "source": [
    "df_match.to_csv(\n",
    "    resource_filename(\n",
    "        \"climpyrical\",\n",
    "        f\"{preprocessed_stations_path}{name}.csv\"\n",
    "    ), index=False\n",
    ")"
   ]
  },
  {
   "cell_type": "code",
   "execution_count": 16,
   "metadata": {
    "execution": {
     "iopub.execute_input": "2020-12-18T21:19:35.788697Z",
     "iopub.status.busy": "2020-12-18T21:19:35.788020Z",
     "iopub.status.idle": "2020-12-18T21:19:35.789745Z",
     "shell.execute_reply": "2020-12-18T21:19:35.790256Z"
    },
    "papermill": {
     "duration": 0.030964,
     "end_time": "2020-12-18T21:19:35.790472",
     "exception": false,
     "start_time": "2020-12-18T21:19:35.759508",
     "status": "completed"
    },
    "tags": []
   },
   "outputs": [],
   "source": [
    "assert np.all(df_match['ratio'] >= 0)"
   ]
  },
  {
   "cell_type": "code",
   "execution_count": null,
   "metadata": {
    "papermill": {
     "duration": 0.024077,
     "end_time": "2020-12-18T21:19:35.842035",
     "exception": false,
     "start_time": "2020-12-18T21:19:35.817958",
     "status": "completed"
    },
    "tags": []
   },
   "outputs": [],
   "source": []
  }
 ],
 "metadata": {
  "kernelspec": {
   "display_name": "Python 3",
   "language": "python",
   "name": "python3"
  },
  "language_info": {
   "codemirror_mode": {
    "name": "ipython",
    "version": 3
   },
   "file_extension": ".py",
   "mimetype": "text/x-python",
   "name": "python",
   "nbconvert_exporter": "python",
   "pygments_lexer": "ipython3",
   "version": "3.8.5"
  },
  "papermill": {
   "default_parameters": {},
   "duration": 5.457845,
   "end_time": "2020-12-18T21:19:36.380679",
   "environment_variables": {},
   "exception": null,
   "input_path": "stations.ipynb",
   "output_path": "/home/nannau/Desktop/pipeline/climpyrical/climpyrical/data/results/intermediate/notebooks/stations_log_TwJul97.5.ipynb",
   "parameters": {
    "fill_glaciers": true,
    "input_model_path": "data/model_inputs/twb_CanRCM4-LE_ens35_1951-2016_1hr_jul97.5p_ensmean.nc",
    "mask_path": "data/masks/canada_mask_rp.nc",
    "medians": {
     "action": "add",
     "value": 21
    },
    "name": "TwJul97.5",
    "nbcc_loc_path": "data/station_inputs/NBCC_2020_new_coords.xlsm",
    "north_mask_path": "data/masks/canada_mask_north_rp.nc",
    "output_figure_path": "/data/results/figures/",
    "output_notebook_path": "/data/results/intermediate/notebooks/",
    "output_reconstruction_path": "/data/results/netcdf/",
    "output_tables_path": "/data/results/TableC2/",
    "preprocessed_model_path": "/data/results/intermediate/preprocessed_netcdf/",
    "preprocessed_stations_path": "/data/results/intermediate/preprocessed_stations/",
    "station_dv": "TwJul2.5 (degC)",
    "station_path": "data/station_inputs/julTwb97.5p_allstations_v3_for_maps.csv"
   },
   "start_time": "2020-12-18T21:19:30.922834",
   "version": "2.2.2"
  }
 },
 "nbformat": 4,
 "nbformat_minor": 4
}