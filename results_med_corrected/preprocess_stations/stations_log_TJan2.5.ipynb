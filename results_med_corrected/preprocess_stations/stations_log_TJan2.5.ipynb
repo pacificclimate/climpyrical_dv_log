{
 "cells": [
  {
   "cell_type": "markdown",
   "metadata": {
    "papermill": {
     "duration": 0.015821,
     "end_time": "2020-12-18T21:14:09.887437",
     "exception": false,
     "start_time": "2020-12-18T21:14:09.871616",
     "status": "completed"
    },
    "tags": []
   },
   "source": [
    "# Process Stations"
   ]
  },
  {
   "cell_type": "code",
   "execution_count": 1,
   "metadata": {
    "execution": {
     "iopub.execute_input": "2020-12-18T21:14:09.931460Z",
     "iopub.status.busy": "2020-12-18T21:14:09.930543Z",
     "iopub.status.idle": "2020-12-18T21:14:10.841536Z",
     "shell.execute_reply": "2020-12-18T21:14:10.842023Z"
    },
    "papermill": {
     "duration": 0.928398,
     "end_time": "2020-12-18T21:14:10.842344",
     "exception": false,
     "start_time": "2020-12-18T21:14:09.913946",
     "status": "completed"
    },
    "tags": []
   },
   "outputs": [],
   "source": [
    "import pandas as pd\n",
    "import numpy as np\n",
    "import matplotlib.pyplot as plt\n",
    "from pkg_resources import resource_filename\n",
    "\n",
    "from climpyrical.gridding import scale_model_obs\n",
    "from climpyrical.data import read_data\n",
    "from climpyrical.cmd.find_matched_model_vals import add_model_values"
   ]
  },
  {
   "cell_type": "markdown",
   "metadata": {
    "papermill": {
     "duration": 0.017865,
     "end_time": "2020-12-18T21:14:10.882158",
     "exception": false,
     "start_time": "2020-12-18T21:14:10.864293",
     "status": "completed"
    },
    "tags": []
   },
   "source": [
    "### Load station data for processing"
   ]
  },
  {
   "cell_type": "markdown",
   "metadata": {
    "papermill": {
     "duration": 0.013033,
     "end_time": "2020-12-18T21:14:10.906014",
     "exception": false,
     "start_time": "2020-12-18T21:14:10.892981",
     "status": "completed"
    },
    "tags": [
     "parameters"
    ]
   },
   "source": [
    "### Parameters are loaded from config_example.yml\n",
    "Example configuration from config_example.yml:\n",
    "```\n",
    "    paths:\n",
    "        preprocessed_model_path: /data/results/intermediate/preprocessed_netcdf/\n",
    "    RL50:\n",
    "        station_dv: \"RL50 (kPa)\"\n",
    "        station_path: 'data/station_inputs/Interim_snow_rain_load_LR_composite_stations_tbd_v4.csv'\n",
    "        input_model_path: 'data/model_inputs/snw_rain_CanRCM4-LE_ens35_1951-2016_max_rl50_load_ensmean.nc'\n",
    "        medians: \n",
    "            value: 0.4\n",
    "            action: \"multiply\"\n",
    "        fill_glaciers: True\n",
    "```"
   ]
  },
  {
   "cell_type": "code",
   "execution_count": 2,
   "metadata": {
    "execution": {
     "iopub.execute_input": "2020-12-18T21:14:10.935570Z",
     "iopub.status.busy": "2020-12-18T21:14:10.934918Z",
     "iopub.status.idle": "2020-12-18T21:14:10.937649Z",
     "shell.execute_reply": "2020-12-18T21:14:10.937025Z"
    },
    "papermill": {
     "duration": 0.021297,
     "end_time": "2020-12-18T21:14:10.937841",
     "exception": false,
     "start_time": "2020-12-18T21:14:10.916544",
     "status": "completed"
    },
    "tags": [
     "injected-parameters"
    ]
   },
   "outputs": [],
   "source": [
    "# Parameters\n",
    "name = \"TJan2.5\"\n",
    "station_dv = \"TJan2.5 (degC)\"\n",
    "station_path = \"data/station_inputs/janT2.5p_T1.0p_allstations_v3_min8yr_for_maps.csv\"\n",
    "input_model_path = (\n",
    "    \"data/model_inputs/tas_CanRCM4-LE_ens35_1951-2016_1hr_jan2.5p_ensmean.nc\"\n",
    ")\n",
    "medians = {\"value\": -25, \"action\": \"add\"}\n",
    "fill_glaciers = True\n",
    "output_notebook_path = \"/data/results/intermediate/notebooks/\"\n",
    "preprocessed_model_path = \"/data/results/intermediate/preprocessed_netcdf/\"\n",
    "preprocessed_stations_path = \"/data/results/intermediate/preprocessed_stations/\"\n",
    "output_reconstruction_path = \"/data/results/netcdf/\"\n",
    "output_tables_path = \"/data/results/TableC2/\"\n",
    "output_figure_path = \"/data/results/figures/\"\n",
    "mask_path = \"data/masks/canada_mask_rp.nc\"\n",
    "north_mask_path = \"data/masks/canada_mask_north_rp.nc\"\n",
    "nbcc_loc_path = \"data/station_inputs/NBCC_2020_new_coords.xlsm\"\n"
   ]
  },
  {
   "cell_type": "code",
   "execution_count": 3,
   "metadata": {
    "execution": {
     "iopub.execute_input": "2020-12-18T21:14:10.966928Z",
     "iopub.status.busy": "2020-12-18T21:14:10.966355Z",
     "iopub.status.idle": "2020-12-18T21:14:10.968039Z",
     "shell.execute_reply": "2020-12-18T21:14:10.968377Z"
    },
    "papermill": {
     "duration": 0.015772,
     "end_time": "2020-12-18T21:14:10.968531",
     "exception": false,
     "start_time": "2020-12-18T21:14:10.952759",
     "status": "completed"
    },
    "tags": [
     "parameters"
    ]
   },
   "outputs": [],
   "source": [
    "# Parameters cell"
   ]
  },
  {
   "cell_type": "code",
   "execution_count": 4,
   "metadata": {
    "execution": {
     "iopub.execute_input": "2020-12-18T21:14:11.010624Z",
     "iopub.status.busy": "2020-12-18T21:14:11.010028Z",
     "iopub.status.idle": "2020-12-18T21:14:11.018097Z",
     "shell.execute_reply": "2020-12-18T21:14:11.018900Z"
    },
    "papermill": {
     "duration": 0.031492,
     "end_time": "2020-12-18T21:14:11.019227",
     "exception": false,
     "start_time": "2020-12-18T21:14:10.987735",
     "status": "completed"
    },
    "tags": []
   },
   "outputs": [],
   "source": [
    "df = pd.read_csv(resource_filename(\"climpyrical\", station_path), index_col=None)"
   ]
  },
  {
   "cell_type": "markdown",
   "metadata": {
    "papermill": {
     "duration": 0.010425,
     "end_time": "2020-12-18T21:14:11.044900",
     "exception": false,
     "start_time": "2020-12-18T21:14:11.034475",
     "status": "completed"
    },
    "tags": []
   },
   "source": [
    "Check the columns for standard names, and standardize them.\n",
    "\n",
    "This process will not catch any and all possible inputs, so refer to documentation for \n",
    "expected column names"
   ]
  },
  {
   "cell_type": "code",
   "execution_count": 5,
   "metadata": {
    "execution": {
     "iopub.execute_input": "2020-12-18T21:14:11.080578Z",
     "iopub.status.busy": "2020-12-18T21:14:11.079696Z",
     "iopub.status.idle": "2020-12-18T21:14:11.083247Z",
     "shell.execute_reply": "2020-12-18T21:14:11.082355Z"
    },
    "papermill": {
     "duration": 0.027779,
     "end_time": "2020-12-18T21:14:11.083526",
     "exception": false,
     "start_time": "2020-12-18T21:14:11.055747",
     "status": "completed"
    },
    "tags": []
   },
   "outputs": [],
   "source": [
    "def check_df_columns(df):\n",
    "    if 'longitude' in df.columns:\n",
    "        df=df.rename(columns={'longitude': 'lon'})\n",
    "    if 'long' in df.columns:\n",
    "        df=df.rename(columns={'long': 'lon'})\n",
    "    if 'latitude' in df.columns:\n",
    "        df=df.rename(columns={'latitude': 'lat'})\n",
    "    if 'name' in df.columns:\n",
    "        df=df.rename(columns={'name': 'station_name'})\n",
    "    if 'Name' in df.columns:\n",
    "        df=df.rename(columns={'Name': 'station_name'})\n",
    "    if \"prov\" in df.columns:\n",
    "        df=df.rename(columns={\"prov\": \"province\"})\n",
    "    if \"elev\" in df.columns:\n",
    "        df=df.rename(columns={\"elev\": \"elev (m)\"})\n",
    "    if \"elevation (m)\" in df.columns:\n",
    "        df=df.rename(columns={\"elevation (m)\": \"elev (m)\"})\n",
    "    return df\n",
    "\n",
    "df = check_df_columns(df)\n",
    "df.head(5)\n",
    "\n",
    "if np.any(np.isnan(df[[\"lon\", \"lat\", \"elev (m)\", station_dv]].values)):\n",
    "    raise ValueError(\"NaN detected in station input file.\")"
   ]
  },
  {
   "cell_type": "markdown",
   "metadata": {
    "papermill": {
     "duration": 0.013938,
     "end_time": "2020-12-18T21:14:11.117002",
     "exception": false,
     "start_time": "2020-12-18T21:14:11.103064",
     "status": "completed"
    },
    "tags": []
   },
   "source": [
    "Load preprocessed model at target resolution"
   ]
  },
  {
   "cell_type": "code",
   "execution_count": 6,
   "metadata": {
    "execution": {
     "iopub.execute_input": "2020-12-18T21:14:11.146400Z",
     "iopub.status.busy": "2020-12-18T21:14:11.145814Z",
     "iopub.status.idle": "2020-12-18T21:14:11.216955Z",
     "shell.execute_reply": "2020-12-18T21:14:11.217640Z"
    },
    "papermill": {
     "duration": 0.089887,
     "end_time": "2020-12-18T21:14:11.217932",
     "exception": false,
     "start_time": "2020-12-18T21:14:11.128045",
     "status": "completed"
    },
    "tags": []
   },
   "outputs": [],
   "source": [
    "ds = read_data(resource_filename(\"climpyrical\", f\"{preprocessed_model_path}{name}.nc\"))\n",
    "(dv, ) = ds.data_vars"
   ]
  },
  {
   "cell_type": "markdown",
   "metadata": {
    "papermill": {
     "duration": 0.016499,
     "end_time": "2020-12-18T21:14:11.254752",
     "exception": false,
     "start_time": "2020-12-18T21:14:11.238253",
     "status": "completed"
    },
    "tags": []
   },
   "source": [
    "Perform unit conversion if necessary\n",
    "\n",
    "Exclude suspect RL50 values with true 0.0"
   ]
  },
  {
   "cell_type": "code",
   "execution_count": 7,
   "metadata": {
    "execution": {
     "iopub.execute_input": "2020-12-18T21:14:11.291925Z",
     "iopub.status.busy": "2020-12-18T21:14:11.291350Z",
     "iopub.status.idle": "2020-12-18T21:14:11.300835Z",
     "shell.execute_reply": "2020-12-18T21:14:11.301210Z"
    },
    "papermill": {
     "duration": 0.031938,
     "end_time": "2020-12-18T21:14:11.301397",
     "exception": false,
     "start_time": "2020-12-18T21:14:11.269459",
     "status": "completed"
    },
    "tags": []
   },
   "outputs": [
    {
     "name": "stdout",
     "output_type": "stream",
     "text": [
      "Temperature DV detected in degC. Converitng to Kelvin\n"
     ]
    }
   ],
   "source": [
    "# calculate ratios with applied correction\n",
    "# Note the ratios are calculated in K for Temperature fields\n",
    "if ds[dv].attrs[\"units\"] == \"degC\" and \"degC\" in station_dv:\n",
    "    print(\"Temperature DV detected in degC. Converitng to Kelvin\")\n",
    "    K = 273.15 # K\n",
    "    df[station_dv] += K\n",
    "    ds[dv] += K\n",
    "\n",
    "if 'RL50 (kPa)' in station_dv:\n",
    "    df = df[df[station_dv] != 0.0]"
   ]
  },
  {
   "cell_type": "markdown",
   "metadata": {
    "papermill": {
     "duration": 0.011837,
     "end_time": "2020-12-18T21:14:11.327617",
     "exception": false,
     "start_time": "2020-12-18T21:14:11.315780",
     "status": "completed"
    },
    "tags": []
   },
   "source": [
    "Use matching script to find matching model values"
   ]
  },
  {
   "cell_type": "code",
   "execution_count": 8,
   "metadata": {
    "execution": {
     "iopub.execute_input": "2020-12-18T21:14:11.372651Z",
     "iopub.status.busy": "2020-12-18T21:14:11.372134Z",
     "iopub.status.idle": "2020-12-18T21:14:13.284542Z",
     "shell.execute_reply": "2020-12-18T21:14:13.283612Z"
    },
    "papermill": {
     "duration": 1.939436,
     "end_time": "2020-12-18T21:14:13.284813",
     "exception": false,
     "start_time": "2020-12-18T21:14:11.345377",
     "status": "completed"
    },
    "tags": []
   },
   "outputs": [
    {
     "name": "stderr",
     "output_type": "stream",
     "text": [
      "INFO:root:Detect units: degC\n"
     ]
    },
    {
     "name": "stderr",
     "output_type": "stream",
     "text": [
      "INFO:root:rlat or rlon not detected in input file.converting assumes WGS84 coords to rotated pole\n"
     ]
    },
    {
     "name": "stderr",
     "output_type": "stream",
     "text": [
      "INFO:root:Matching coordinates now\n"
     ]
    },
    {
     "name": "stderr",
     "output_type": "stream",
     "text": [
      "INFO:root:Locating corresponding model valuesInterpolating to nearest if matched model value is NaN\n"
     ]
    },
    {
     "data": {
      "text/html": [
       "<div>\n",
       "<style scoped>\n",
       "    .dataframe tbody tr th:only-of-type {\n",
       "        vertical-align: middle;\n",
       "    }\n",
       "\n",
       "    .dataframe tbody tr th {\n",
       "        vertical-align: top;\n",
       "    }\n",
       "\n",
       "    .dataframe thead th {\n",
       "        text-align: right;\n",
       "    }\n",
       "</style>\n",
       "<table border=\"1\" class=\"dataframe\">\n",
       "  <thead>\n",
       "    <tr style=\"text-align: right;\">\n",
       "      <th></th>\n",
       "      <th>history_id</th>\n",
       "      <th>station_name</th>\n",
       "      <th>province</th>\n",
       "      <th>lon</th>\n",
       "      <th>lat</th>\n",
       "      <th>elev (m)</th>\n",
       "      <th>TJan2.5 (degC)</th>\n",
       "      <th>TJan1.0 (degC)</th>\n",
       "      <th>rlat</th>\n",
       "      <th>rlon</th>\n",
       "      <th>irlat</th>\n",
       "      <th>irlon</th>\n",
       "      <th>model_values</th>\n",
       "    </tr>\n",
       "  </thead>\n",
       "  <tbody>\n",
       "    <tr>\n",
       "      <th>0</th>\n",
       "      <td>22632264.0</td>\n",
       "      <td>RESOLUTE CARS COMPOSITE</td>\n",
       "      <td>NU</td>\n",
       "      <td>-94.97625</td>\n",
       "      <td>74.71635</td>\n",
       "      <td>49</td>\n",
       "      <td>231.15</td>\n",
       "      <td>-43.300</td>\n",
       "      <td>27.224160</td>\n",
       "      <td>0.599798</td>\n",
       "      <td>1269</td>\n",
       "      <td>788</td>\n",
       "      <td>223.202906</td>\n",
       "    </tr>\n",
       "    <tr>\n",
       "      <th>1</th>\n",
       "      <td>2254.0</td>\n",
       "      <td>POND INLET CLIMATE</td>\n",
       "      <td>NU</td>\n",
       "      <td>-77.95750</td>\n",
       "      <td>72.69330</td>\n",
       "      <td>65</td>\n",
       "      <td>233.05</td>\n",
       "      <td>-41.112</td>\n",
       "      <td>25.955689</td>\n",
       "      <td>6.197115</td>\n",
       "      <td>1240</td>\n",
       "      <td>915</td>\n",
       "      <td>227.085314</td>\n",
       "    </tr>\n",
       "    <tr>\n",
       "      <th>2</th>\n",
       "      <td>2297.0</td>\n",
       "      <td>SACHS HARBOUR CLIMATE</td>\n",
       "      <td>NT</td>\n",
       "      <td>-125.25400</td>\n",
       "      <td>71.99250</td>\n",
       "      <td>88</td>\n",
       "      <td>235.15</td>\n",
       "      <td>-40.100</td>\n",
       "      <td>26.214276</td>\n",
       "      <td>-9.387969</td>\n",
       "      <td>1246</td>\n",
       "      <td>562</td>\n",
       "      <td>226.093565</td>\n",
       "    </tr>\n",
       "    <tr>\n",
       "      <th>3</th>\n",
       "      <td>2293.0</td>\n",
       "      <td>HOLMAN CS</td>\n",
       "      <td>NT</td>\n",
       "      <td>-117.80000</td>\n",
       "      <td>70.76140</td>\n",
       "      <td>30</td>\n",
       "      <td>235.75</td>\n",
       "      <td>-38.600</td>\n",
       "      <td>24.252572</td>\n",
       "      <td>-7.373397</td>\n",
       "      <td>1202</td>\n",
       "      <td>608</td>\n",
       "      <td>225.287825</td>\n",
       "    </tr>\n",
       "    <tr>\n",
       "      <th>4</th>\n",
       "      <td>1912.0</td>\n",
       "      <td>CAPE PARRY A</td>\n",
       "      <td>NT</td>\n",
       "      <td>-124.71700</td>\n",
       "      <td>70.16670</td>\n",
       "      <td>87</td>\n",
       "      <td>236.55</td>\n",
       "      <td>-38.255</td>\n",
       "      <td>24.460936</td>\n",
       "      <td>-9.983429</td>\n",
       "      <td>1207</td>\n",
       "      <td>549</td>\n",
       "      <td>226.940825</td>\n",
       "    </tr>\n",
       "  </tbody>\n",
       "</table>\n",
       "</div>"
      ],
      "text/plain": [
       "   history_id             station_name province        lon       lat  \\\n",
       "0  22632264.0  RESOLUTE CARS COMPOSITE       NU  -94.97625  74.71635   \n",
       "1      2254.0       POND INLET CLIMATE       NU  -77.95750  72.69330   \n",
       "2      2297.0    SACHS HARBOUR CLIMATE       NT -125.25400  71.99250   \n",
       "3      2293.0                HOLMAN CS       NT -117.80000  70.76140   \n",
       "4      1912.0             CAPE PARRY A       NT -124.71700  70.16670   \n",
       "\n",
       "   elev (m)  TJan2.5 (degC)  TJan1.0 (degC)       rlat      rlon  irlat  \\\n",
       "0        49          231.15         -43.300  27.224160  0.599798   1269   \n",
       "1        65          233.05         -41.112  25.955689  6.197115   1240   \n",
       "2        88          235.15         -40.100  26.214276 -9.387969   1246   \n",
       "3        30          235.75         -38.600  24.252572 -7.373397   1202   \n",
       "4        87          236.55         -38.255  24.460936 -9.983429   1207   \n",
       "\n",
       "   irlon  model_values  \n",
       "0    788    223.202906  \n",
       "1    915    227.085314  \n",
       "2    562    226.093565  \n",
       "3    608    225.287825  \n",
       "4    549    226.940825  "
      ]
     },
     "execution_count": 8,
     "metadata": {},
     "output_type": "execute_result"
    }
   ],
   "source": [
    "df = add_model_values(ds=ds, df=df)\n",
    "df.head(5)"
   ]
  },
  {
   "cell_type": "markdown",
   "metadata": {
    "papermill": {
     "duration": 0.012573,
     "end_time": "2020-12-18T21:14:13.316058",
     "exception": false,
     "start_time": "2020-12-18T21:14:13.303485",
     "status": "completed"
    },
    "tags": []
   },
   "source": [
    "Group stations that land in the same index in rlat and rlon (land in the same grid cell)\n",
    "\n",
    "This means that they are in the same grid cell and need to be aggregated"
   ]
  },
  {
   "cell_type": "code",
   "execution_count": 9,
   "metadata": {
    "execution": {
     "iopub.execute_input": "2020-12-18T21:14:13.363425Z",
     "iopub.status.busy": "2020-12-18T21:14:13.362791Z",
     "iopub.status.idle": "2020-12-18T21:14:13.375783Z",
     "shell.execute_reply": "2020-12-18T21:14:13.376131Z"
    },
    "papermill": {
     "duration": 0.042348,
     "end_time": "2020-12-18T21:14:13.376325",
     "exception": false,
     "start_time": "2020-12-18T21:14:13.333977",
     "status": "completed"
    },
    "tags": []
   },
   "outputs": [],
   "source": [
    "agg_dict = {\n",
    "    station_dv: 'mean', \n",
    "    'rlat':'mean', \n",
    "    'rlon':'mean', \n",
    "    'lat': 'mean', \n",
    "    'lon': 'mean', \n",
    "    'elev (m)': 'mean',\n",
    "    'station_name': 'first',\n",
    "    'province': 'first',\n",
    "    \"model_values\": \"mean\"\n",
    "}\n",
    "\n",
    "# Province key is used for WP10 and WP50 for\n",
    "# special treatment of Atlantic/Far NW areas\n",
    "if \"province\" not in df.columns:\n",
    "    agg_dict = agg_dict.pop(\"province\")\n",
    "\n",
    "df_match = df.groupby(\n",
    "    ['irlat', 'irlon'], as_index=False\n",
    ").agg(\n",
    "    agg_dict\n",
    ")\n",
    "\n",
    "\n",
    "irlat = df_match.irlat\n",
    "irlon = df_match.irlon"
   ]
  },
  {
   "cell_type": "code",
   "execution_count": 10,
   "metadata": {
    "execution": {
     "iopub.execute_input": "2020-12-18T21:14:13.423662Z",
     "iopub.status.busy": "2020-12-18T21:14:13.423069Z",
     "iopub.status.idle": "2020-12-18T21:14:13.426897Z",
     "shell.execute_reply": "2020-12-18T21:14:13.426321Z"
    },
    "papermill": {
     "duration": 0.036927,
     "end_time": "2020-12-18T21:14:13.427062",
     "exception": false,
     "start_time": "2020-12-18T21:14:13.390135",
     "status": "completed"
    },
    "tags": []
   },
   "outputs": [
    {
     "data": {
      "text/html": [
       "<div>\n",
       "<style scoped>\n",
       "    .dataframe tbody tr th:only-of-type {\n",
       "        vertical-align: middle;\n",
       "    }\n",
       "\n",
       "    .dataframe tbody tr th {\n",
       "        vertical-align: top;\n",
       "    }\n",
       "\n",
       "    .dataframe thead th {\n",
       "        text-align: right;\n",
       "    }\n",
       "</style>\n",
       "<table border=\"1\" class=\"dataframe\">\n",
       "  <thead>\n",
       "    <tr style=\"text-align: right;\">\n",
       "      <th></th>\n",
       "      <th>irlat</th>\n",
       "      <th>irlon</th>\n",
       "      <th>TJan2.5 (degC)</th>\n",
       "      <th>rlat</th>\n",
       "      <th>rlon</th>\n",
       "      <th>lat</th>\n",
       "      <th>lon</th>\n",
       "      <th>elev (m)</th>\n",
       "      <th>station_name</th>\n",
       "      <th>province</th>\n",
       "      <th>model_values</th>\n",
       "    </tr>\n",
       "  </thead>\n",
       "  <tbody>\n",
       "    <tr>\n",
       "      <th>0</th>\n",
       "      <td>552</td>\n",
       "      <td>1011</td>\n",
       "      <td>257.3500</td>\n",
       "      <td>-4.517790</td>\n",
       "      <td>10.457750</td>\n",
       "      <td>42.03330</td>\n",
       "      <td>-82.90000</td>\n",
       "      <td>191</td>\n",
       "      <td>HARROW CDA AUTO</td>\n",
       "      <td>ON</td>\n",
       "      <td>258.822865</td>\n",
       "    </tr>\n",
       "    <tr>\n",
       "      <th>1</th>\n",
       "      <td>558</td>\n",
       "      <td>1009</td>\n",
       "      <td>256.5500</td>\n",
       "      <td>-4.286849</td>\n",
       "      <td>10.373390</td>\n",
       "      <td>42.27560</td>\n",
       "      <td>-82.95560</td>\n",
       "      <td>190</td>\n",
       "      <td>WINDSOR A</td>\n",
       "      <td>ON</td>\n",
       "      <td>258.065093</td>\n",
       "    </tr>\n",
       "    <tr>\n",
       "      <th>2</th>\n",
       "      <td>560</td>\n",
       "      <td>1026</td>\n",
       "      <td>258.1500</td>\n",
       "      <td>-4.166610</td>\n",
       "      <td>11.147744</td>\n",
       "      <td>42.25010</td>\n",
       "      <td>-81.90010</td>\n",
       "      <td>178</td>\n",
       "      <td>ERIEAU (AUT)</td>\n",
       "      <td>ON</td>\n",
       "      <td>258.762059</td>\n",
       "    </tr>\n",
       "    <tr>\n",
       "      <th>3</th>\n",
       "      <td>565</td>\n",
       "      <td>1026</td>\n",
       "      <td>253.8525</td>\n",
       "      <td>-3.968063</td>\n",
       "      <td>11.121350</td>\n",
       "      <td>42.45000</td>\n",
       "      <td>-81.88330</td>\n",
       "      <td>206</td>\n",
       "      <td>RIDGETOWN RCS</td>\n",
       "      <td>ON</td>\n",
       "      <td>258.250152</td>\n",
       "    </tr>\n",
       "    <tr>\n",
       "      <th>4</th>\n",
       "      <td>580</td>\n",
       "      <td>1035</td>\n",
       "      <td>254.2500</td>\n",
       "      <td>-3.290193</td>\n",
       "      <td>11.534742</td>\n",
       "      <td>43.03320</td>\n",
       "      <td>-81.15055</td>\n",
       "      <td>278</td>\n",
       "      <td>LONDON CS COMPOSITE</td>\n",
       "      <td>ON</td>\n",
       "      <td>256.927639</td>\n",
       "    </tr>\n",
       "    <tr>\n",
       "      <th>...</th>\n",
       "      <td>...</td>\n",
       "      <td>...</td>\n",
       "      <td>...</td>\n",
       "      <td>...</td>\n",
       "      <td>...</td>\n",
       "      <td>...</td>\n",
       "      <td>...</td>\n",
       "      <td>...</td>\n",
       "      <td>...</td>\n",
       "      <td>...</td>\n",
       "      <td>...</td>\n",
       "    </tr>\n",
       "    <tr>\n",
       "      <th>364</th>\n",
       "      <td>1207</td>\n",
       "      <td>549</td>\n",
       "      <td>236.5500</td>\n",
       "      <td>24.460936</td>\n",
       "      <td>-9.983429</td>\n",
       "      <td>70.16670</td>\n",
       "      <td>-124.71700</td>\n",
       "      <td>87</td>\n",
       "      <td>CAPE PARRY A</td>\n",
       "      <td>NT</td>\n",
       "      <td>226.940825</td>\n",
       "    </tr>\n",
       "    <tr>\n",
       "      <th>365</th>\n",
       "      <td>1219</td>\n",
       "      <td>477</td>\n",
       "      <td>234.9500</td>\n",
       "      <td>25.026504</td>\n",
       "      <td>-13.177940</td>\n",
       "      <td>69.43330</td>\n",
       "      <td>-133.01700</td>\n",
       "      <td>5</td>\n",
       "      <td>TUKTOYAKTUK</td>\n",
       "      <td>NT</td>\n",
       "      <td>227.424868</td>\n",
       "    </tr>\n",
       "    <tr>\n",
       "      <th>366</th>\n",
       "      <td>1240</td>\n",
       "      <td>915</td>\n",
       "      <td>233.0500</td>\n",
       "      <td>25.955689</td>\n",
       "      <td>6.197115</td>\n",
       "      <td>72.69330</td>\n",
       "      <td>-77.95750</td>\n",
       "      <td>65</td>\n",
       "      <td>POND INLET CLIMATE</td>\n",
       "      <td>NU</td>\n",
       "      <td>227.085314</td>\n",
       "    </tr>\n",
       "    <tr>\n",
       "      <th>367</th>\n",
       "      <td>1246</td>\n",
       "      <td>562</td>\n",
       "      <td>235.1500</td>\n",
       "      <td>26.214276</td>\n",
       "      <td>-9.387969</td>\n",
       "      <td>71.99250</td>\n",
       "      <td>-125.25400</td>\n",
       "      <td>88</td>\n",
       "      <td>SACHS HARBOUR CLIMATE</td>\n",
       "      <td>NT</td>\n",
       "      <td>226.093565</td>\n",
       "    </tr>\n",
       "    <tr>\n",
       "      <th>368</th>\n",
       "      <td>1269</td>\n",
       "      <td>788</td>\n",
       "      <td>231.1500</td>\n",
       "      <td>27.224160</td>\n",
       "      <td>0.599798</td>\n",
       "      <td>74.71635</td>\n",
       "      <td>-94.97625</td>\n",
       "      <td>49</td>\n",
       "      <td>RESOLUTE CARS COMPOSITE</td>\n",
       "      <td>NU</td>\n",
       "      <td>223.202906</td>\n",
       "    </tr>\n",
       "  </tbody>\n",
       "</table>\n",
       "<p>369 rows × 11 columns</p>\n",
       "</div>"
      ],
      "text/plain": [
       "     irlat  irlon  TJan2.5 (degC)       rlat       rlon       lat        lon  \\\n",
       "0      552   1011        257.3500  -4.517790  10.457750  42.03330  -82.90000   \n",
       "1      558   1009        256.5500  -4.286849  10.373390  42.27560  -82.95560   \n",
       "2      560   1026        258.1500  -4.166610  11.147744  42.25010  -81.90010   \n",
       "3      565   1026        253.8525  -3.968063  11.121350  42.45000  -81.88330   \n",
       "4      580   1035        254.2500  -3.290193  11.534742  43.03320  -81.15055   \n",
       "..     ...    ...             ...        ...        ...       ...        ...   \n",
       "364   1207    549        236.5500  24.460936  -9.983429  70.16670 -124.71700   \n",
       "365   1219    477        234.9500  25.026504 -13.177940  69.43330 -133.01700   \n",
       "366   1240    915        233.0500  25.955689   6.197115  72.69330  -77.95750   \n",
       "367   1246    562        235.1500  26.214276  -9.387969  71.99250 -125.25400   \n",
       "368   1269    788        231.1500  27.224160   0.599798  74.71635  -94.97625   \n",
       "\n",
       "     elev (m)             station_name province  model_values  \n",
       "0         191          HARROW CDA AUTO       ON    258.822865  \n",
       "1         190                WINDSOR A       ON    258.065093  \n",
       "2         178             ERIEAU (AUT)       ON    258.762059  \n",
       "3         206            RIDGETOWN RCS       ON    258.250152  \n",
       "4         278      LONDON CS COMPOSITE       ON    256.927639  \n",
       "..        ...                      ...      ...           ...  \n",
       "364        87             CAPE PARRY A       NT    226.940825  \n",
       "365         5              TUKTOYAKTUK       NT    227.424868  \n",
       "366        65       POND INLET CLIMATE       NU    227.085314  \n",
       "367        88    SACHS HARBOUR CLIMATE       NT    226.093565  \n",
       "368        49  RESOLUTE CARS COMPOSITE       NU    223.202906  \n",
       "\n",
       "[369 rows x 11 columns]"
      ]
     },
     "execution_count": 10,
     "metadata": {},
     "output_type": "execute_result"
    }
   ],
   "source": [
    "df_match"
   ]
  },
  {
   "cell_type": "markdown",
   "metadata": {
    "papermill": {
     "duration": 0.014796,
     "end_time": "2020-12-18T21:14:13.463551",
     "exception": false,
     "start_time": "2020-12-18T21:14:13.448755",
     "status": "completed"
    },
    "tags": []
   },
   "source": [
    "Verify that they are correlated"
   ]
  },
  {
   "cell_type": "code",
   "execution_count": 11,
   "metadata": {
    "execution": {
     "iopub.execute_input": "2020-12-18T21:14:13.515290Z",
     "iopub.status.busy": "2020-12-18T21:14:13.502688Z",
     "iopub.status.idle": "2020-12-18T21:14:13.681717Z",
     "shell.execute_reply": "2020-12-18T21:14:13.682614Z"
    },
    "papermill": {
     "duration": 0.204025,
     "end_time": "2020-12-18T21:14:13.682951",
     "exception": false,
     "start_time": "2020-12-18T21:14:13.478926",
     "status": "completed"
    },
    "tags": []
   },
   "outputs": [
    {
     "data": {
      "text/plain": [
       "Text(0, 0.5, 'Model')"
      ]
     },
     "execution_count": 11,
     "metadata": {},
     "output_type": "execute_result"
    },
    {
     "data": {
      "image/png": "[encoded data removed]",
      "text/plain": [
       "<Figure size 432x288 with 1 Axes>"
      ]
     },
     "metadata": {
      "needs_background": "light"
     },
     "output_type": "display_data"
    }
   ],
   "source": [
    "plt.scatter(df_match[station_dv], df_match.model_values)\n",
    "plt.title(\"Correlation between station and models\")\n",
    "plt.xlabel('Stations')\n",
    "plt.ylabel('Model')"
   ]
  },
  {
   "cell_type": "markdown",
   "metadata": {
    "papermill": {
     "duration": 0.02387,
     "end_time": "2020-12-18T21:14:13.732308",
     "exception": false,
     "start_time": "2020-12-18T21:14:13.708438",
     "status": "completed"
    },
    "tags": []
   },
   "source": [
    "Now each station should be matched with a value grid cell value"
   ]
  },
  {
   "cell_type": "markdown",
   "metadata": {
    "papermill": {
     "duration": 0.014894,
     "end_time": "2020-12-18T21:14:13.763203",
     "exception": false,
     "start_time": "2020-12-18T21:14:13.748309",
     "status": "completed"
    },
    "tags": []
   },
   "source": [
    "### Normalize the model mean to match that of the station distribution\n",
    "Find a factor, $\\beta$ such that\n",
    "$$\\mu_s - \\frac{\\mu_m}{\\beta} \\approx 0$$ where $\\mu_s$ is the spatial station mean and $\\mu_m$ is the spatial model mean.\n",
    "\n",
    "$\\beta$ is simply:\n",
    "\n",
    "$$\\beta = \\frac{\\sum_i^{N_s}{M_i}}{\\sum_i^{N_s}{S_i}}$$"
   ]
  },
  {
   "cell_type": "code",
   "execution_count": 12,
   "metadata": {
    "execution": {
     "iopub.execute_input": "2020-12-18T21:14:13.796766Z",
     "iopub.status.busy": "2020-12-18T21:14:13.796189Z",
     "iopub.status.idle": "2020-12-18T21:14:13.798946Z",
     "shell.execute_reply": "2020-12-18T21:14:13.798485Z"
    },
    "papermill": {
     "duration": 0.022703,
     "end_time": "2020-12-18T21:14:13.799103",
     "exception": false,
     "start_time": "2020-12-18T21:14:13.776400",
     "status": "completed"
    },
    "tags": []
   },
   "outputs": [
    {
     "name": "stdout",
     "output_type": "stream",
     "text": [
      "Scaling factor: 0.996679766926204\n"
     ]
    }
   ],
   "source": [
    "ratio, best_tol = scale_model_obs(df_match.model_values, df_match[station_dv])\n",
    "assert not np.any(np.isnan(ratio))\n",
    "df_match = df_match.assign(ratio=ratio)\n",
    "print(\"Scaling factor:\", best_tol)"
   ]
  },
  {
   "cell_type": "code",
   "execution_count": 13,
   "metadata": {
    "execution": {
     "iopub.execute_input": "2020-12-18T21:14:13.861939Z",
     "iopub.status.busy": "2020-12-18T21:14:13.860925Z",
     "iopub.status.idle": "2020-12-18T21:14:13.864867Z",
     "shell.execute_reply": "2020-12-18T21:14:13.865772Z"
    },
    "papermill": {
     "duration": 0.040843,
     "end_time": "2020-12-18T21:14:13.866132",
     "exception": false,
     "start_time": "2020-12-18T21:14:13.825289",
     "status": "completed"
    },
    "tags": []
   },
   "outputs": [
    {
     "data": {
      "text/html": [
       "<div>\n",
       "<style scoped>\n",
       "    .dataframe tbody tr th:only-of-type {\n",
       "        vertical-align: middle;\n",
       "    }\n",
       "\n",
       "    .dataframe tbody tr th {\n",
       "        vertical-align: top;\n",
       "    }\n",
       "\n",
       "    .dataframe thead th {\n",
       "        text-align: right;\n",
       "    }\n",
       "</style>\n",
       "<table border=\"1\" class=\"dataframe\">\n",
       "  <thead>\n",
       "    <tr style=\"text-align: right;\">\n",
       "      <th></th>\n",
       "      <th>irlat</th>\n",
       "      <th>irlon</th>\n",
       "      <th>TJan2.5 (degC)</th>\n",
       "      <th>rlat</th>\n",
       "      <th>rlon</th>\n",
       "      <th>lat</th>\n",
       "      <th>lon</th>\n",
       "      <th>elev (m)</th>\n",
       "      <th>station_name</th>\n",
       "      <th>province</th>\n",
       "      <th>model_values</th>\n",
       "      <th>ratio</th>\n",
       "    </tr>\n",
       "  </thead>\n",
       "  <tbody>\n",
       "    <tr>\n",
       "      <th>0</th>\n",
       "      <td>552</td>\n",
       "      <td>1011</td>\n",
       "      <td>257.35</td>\n",
       "      <td>-4.517790</td>\n",
       "      <td>10.457750</td>\n",
       "      <td>42.0333</td>\n",
       "      <td>-82.9000</td>\n",
       "      <td>191</td>\n",
       "      <td>HARROW CDA AUTO</td>\n",
       "      <td>ON</td>\n",
       "      <td>258.822865</td>\n",
       "      <td>0.991008</td>\n",
       "    </tr>\n",
       "    <tr>\n",
       "      <th>1</th>\n",
       "      <td>558</td>\n",
       "      <td>1009</td>\n",
       "      <td>256.55</td>\n",
       "      <td>-4.286849</td>\n",
       "      <td>10.373390</td>\n",
       "      <td>42.2756</td>\n",
       "      <td>-82.9556</td>\n",
       "      <td>190</td>\n",
       "      <td>WINDSOR A</td>\n",
       "      <td>ON</td>\n",
       "      <td>258.065093</td>\n",
       "      <td>0.990828</td>\n",
       "    </tr>\n",
       "    <tr>\n",
       "      <th>2</th>\n",
       "      <td>560</td>\n",
       "      <td>1026</td>\n",
       "      <td>258.15</td>\n",
       "      <td>-4.166610</td>\n",
       "      <td>11.147744</td>\n",
       "      <td>42.2501</td>\n",
       "      <td>-81.9001</td>\n",
       "      <td>178</td>\n",
       "      <td>ERIEAU (AUT)</td>\n",
       "      <td>ON</td>\n",
       "      <td>258.762059</td>\n",
       "      <td>0.994322</td>\n",
       "    </tr>\n",
       "  </tbody>\n",
       "</table>\n",
       "</div>"
      ],
      "text/plain": [
       "   irlat  irlon  TJan2.5 (degC)      rlat       rlon      lat      lon  \\\n",
       "0    552   1011          257.35 -4.517790  10.457750  42.0333 -82.9000   \n",
       "1    558   1009          256.55 -4.286849  10.373390  42.2756 -82.9556   \n",
       "2    560   1026          258.15 -4.166610  11.147744  42.2501 -81.9001   \n",
       "\n",
       "   elev (m)     station_name province  model_values     ratio  \n",
       "0       191  HARROW CDA AUTO       ON    258.822865  0.991008  \n",
       "1       190        WINDSOR A       ON    258.065093  0.990828  \n",
       "2       178     ERIEAU (AUT)       ON    258.762059  0.994322  "
      ]
     },
     "execution_count": 13,
     "metadata": {},
     "output_type": "execute_result"
    }
   ],
   "source": [
    "df_match.head(3)"
   ]
  },
  {
   "cell_type": "code",
   "execution_count": 14,
   "metadata": {
    "execution": {
     "iopub.execute_input": "2020-12-18T21:14:13.906964Z",
     "iopub.status.busy": "2020-12-18T21:14:13.906457Z",
     "iopub.status.idle": "2020-12-18T21:14:13.910617Z",
     "shell.execute_reply": "2020-12-18T21:14:13.909793Z"
    },
    "papermill": {
     "duration": 0.028576,
     "end_time": "2020-12-18T21:14:13.910893",
     "exception": false,
     "start_time": "2020-12-18T21:14:13.882317",
     "status": "completed"
    },
    "tags": []
   },
   "outputs": [
    {
     "name": "stdout",
     "output_type": "stream",
     "text": [
      "Temperature DV detected in degC. Converitng to Kelvin\n"
     ]
    }
   ],
   "source": [
    "# convert back to degC\n",
    "if ds[dv].attrs[\"units\"] == \"degC\" and \"degC\" in station_dv:\n",
    "    print(\"Temperature DV detected in degC. Converitng to Kelvin\")\n",
    "    K = 273.15 # K\n",
    "    df_match[station_dv] -= K\n",
    "    df_match.model_values -= K"
   ]
  },
  {
   "cell_type": "code",
   "execution_count": 15,
   "metadata": {
    "execution": {
     "iopub.execute_input": "2020-12-18T21:14:13.966502Z",
     "iopub.status.busy": "2020-12-18T21:14:13.966060Z",
     "iopub.status.idle": "2020-12-18T21:14:13.977937Z",
     "shell.execute_reply": "2020-12-18T21:14:13.978766Z"
    },
    "papermill": {
     "duration": 0.041578,
     "end_time": "2020-12-18T21:14:13.979174",
     "exception": false,
     "start_time": "2020-12-18T21:14:13.937596",
     "status": "completed"
    },
    "tags": []
   },
   "outputs": [],
   "source": [
    "df_match.to_csv(\n",
    "    resource_filename(\n",
    "        \"climpyrical\",\n",
    "        f\"{preprocessed_stations_path}{name}.csv\"\n",
    "    ), index=False\n",
    ")"
   ]
  },
  {
   "cell_type": "code",
   "execution_count": 16,
   "metadata": {
    "execution": {
     "iopub.execute_input": "2020-12-18T21:14:14.020486Z",
     "iopub.status.busy": "2020-12-18T21:14:14.019873Z",
     "iopub.status.idle": "2020-12-18T21:14:14.022392Z",
     "shell.execute_reply": "2020-12-18T21:14:14.022934Z"
    },
    "papermill": {
     "duration": 0.024001,
     "end_time": "2020-12-18T21:14:14.023169",
     "exception": false,
     "start_time": "2020-12-18T21:14:13.999168",
     "status": "completed"
    },
    "tags": []
   },
   "outputs": [],
   "source": [
    "assert np.all(df_match['ratio'] >= 0)"
   ]
  },
  {
   "cell_type": "code",
   "execution_count": null,
   "metadata": {
    "papermill": {
     "duration": 0.021413,
     "end_time": "2020-12-18T21:14:14.072944",
     "exception": false,
     "start_time": "2020-12-18T21:14:14.051531",
     "status": "completed"
    },
    "tags": []
   },
   "outputs": [],
   "source": []
  }
 ],
 "metadata": {
  "kernelspec": {
   "display_name": "Python 3",
   "language": "python",
   "name": "python3"
  },
  "language_info": {
   "codemirror_mode": {
    "name": "ipython",
    "version": 3
   },
   "file_extension": ".py",
   "mimetype": "text/x-python",
   "name": "python",
   "nbconvert_exporter": "python",
   "pygments_lexer": "ipython3",
   "version": "3.8.5"
  },
  "papermill": {
   "default_parameters": {},
   "duration": 6.063876,
   "end_time": "2020-12-18T21:14:15.324938",
   "environment_variables": {},
   "exception": null,
   "input_path": "stations.ipynb",
   "output_path": "/home/nannau/Desktop/pipeline/climpyrical/climpyrical/data/results/intermediate/notebooks/stations_log_TJan2.5.ipynb",
   "parameters": {
    "fill_glaciers": true,
    "input_model_path": "data/model_inputs/tas_CanRCM4-LE_ens35_1951-2016_1hr_jan2.5p_ensmean.nc",
    "mask_path": "data/masks/canada_mask_rp.nc",
    "medians": {
     "action": "add",
     "value": -25
    },
    "name": "TJan2.5",
    "nbcc_loc_path": "data/station_inputs/NBCC_2020_new_coords.xlsm",
    "north_mask_path": "data/masks/canada_mask_north_rp.nc",
    "output_figure_path": "/data/results/figures/",
    "output_notebook_path": "/data/results/intermediate/notebooks/",
    "output_reconstruction_path": "/data/results/netcdf/",
    "output_tables_path": "/data/results/TableC2/",
    "preprocessed_model_path": "/data/results/intermediate/preprocessed_netcdf/",
    "preprocessed_stations_path": "/data/results/intermediate/preprocessed_stations/",
    "station_dv": "TJan2.5 (degC)",
    "station_path": "data/station_inputs/janT2.5p_T1.0p_allstations_v3_min8yr_for_maps.csv"
   },
   "start_time": "2020-12-18T21:14:09.261062",
   "version": "2.2.2"
  }
 },
 "nbformat": 4,
 "nbformat_minor": 4
}