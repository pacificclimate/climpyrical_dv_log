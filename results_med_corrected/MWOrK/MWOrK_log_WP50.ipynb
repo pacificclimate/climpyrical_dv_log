{
 "cells": [
  {
   "cell_type": "code",
   "execution_count": 1,
   "metadata": {
    "execution": {
     "iopub.execute_input": "2020-12-18T21:07:05.622483Z",
     "iopub.status.busy": "2020-12-18T21:07:05.621768Z",
     "iopub.status.idle": "2020-12-18T21:07:08.417442Z",
     "shell.execute_reply": "2020-12-18T21:07:08.417917Z"
    },
    "papermill": {
     "duration": 2.998427,
     "end_time": "2020-12-18T21:07:08.418237",
     "exception": false,
     "start_time": "2020-12-18T21:07:05.419810",
     "status": "completed"
    },
    "tags": []
   },
   "outputs": [],
   "source": [
    "from climpyrical.gridding import scale_model_obs\n",
    "from climpyrical.mask import stratify_coords\n",
    "from climpyrical.data import read_data, interpolate_dataset, gen_dataset\n",
    "from climpyrical.rkrig import rkrig_r\n",
    "from climpyrical.cmd.find_matched_model_vals import add_model_values\n",
    "\n",
    "from pkg_resources import resource_filename\n",
    "\n",
    "from sklearn.neighbors import NearestNeighbors\n",
    "import warnings\n",
    "import pandas as pd\n",
    "import numpy as np\n",
    "\n",
    "import matplotlib.pyplot as plt\n",
    "\n",
    "%load_ext autoreload\n",
    "%autoreload 2"
   ]
  },
  {
   "cell_type": "markdown",
   "metadata": {
    "papermill": {
     "duration": 0.02157,
     "end_time": "2020-12-18T21:07:08.466931",
     "exception": false,
     "start_time": "2020-12-18T21:07:08.445361",
     "status": "completed"
    },
    "tags": []
   },
   "source": [
    "### Parameters are loaded from config_example.yml\n",
    "Example configuration from config_example.yml:\n",
    "```\n",
    "    paths:\n",
    "        preprocessed_model_path: /data/results/intermediate/preprocessed_netcdf/\n",
    "    RL50:\n",
    "        station_dv: \"RL50 (kPa)\"\n",
    "        station_path: 'data/station_inputs/Interim_snow_rain_load_LR_composite_stations_tbd_v4.csv'\n",
    "        input_model_path: 'data/model_inputs/snw_rain_CanRCM4-LE_ens35_1951-2016_max_rl50_load_ensmean.nc'\n",
    "        medians: \n",
    "            value: 0.4\n",
    "            action: \"multiply\"\n",
    "        fill_glaciers: True\n",
    "```"
   ]
  },
  {
   "cell_type": "code",
   "execution_count": 2,
   "metadata": {
    "execution": {
     "iopub.execute_input": "2020-12-18T21:07:08.516035Z",
     "iopub.status.busy": "2020-12-18T21:07:08.515323Z",
     "iopub.status.idle": "2020-12-18T21:07:08.534621Z",
     "shell.execute_reply": "2020-12-18T21:07:08.535030Z"
    },
    "papermill": {
     "duration": 0.046092,
     "end_time": "2020-12-18T21:07:08.535199",
     "exception": false,
     "start_time": "2020-12-18T21:07:08.489107",
     "status": "completed"
    },
    "tags": [
     "parameters"
    ]
   },
   "outputs": [],
   "source": [
    "# parameter cell"
   ]
  },
  {
   "cell_type": "code",
   "execution_count": 3,
   "metadata": {
    "execution": {
     "iopub.execute_input": "2020-12-18T21:07:08.684239Z",
     "iopub.status.busy": "2020-12-18T21:07:08.683562Z",
     "iopub.status.idle": "2020-12-18T21:07:08.700527Z",
     "shell.execute_reply": "2020-12-18T21:07:08.700844Z"
    },
    "papermill": {
     "duration": 0.140184,
     "end_time": "2020-12-18T21:07:08.700991",
     "exception": false,
     "start_time": "2020-12-18T21:07:08.560807",
     "status": "completed"
    },
    "tags": [
     "injected-parameters"
    ]
   },
   "outputs": [],
   "source": [
    "# Parameters\n",
    "name = \"WP50\"\n",
    "station_dv = \"WP50 (kPa)\"\n",
    "station_path = \"data/station_inputs/wpress_stations_rl10_rl50_for_maps.csv\"\n",
    "input_model_path = (\n",
    "    \"data/model_inputs/wpress_CanRCM4-LE_ens35_1951-2016_max_rl50_kpa_ensmean.nc\"\n",
    ")\n",
    "medians = {\"value\": 0.42, \"action\": \"multiply\"}\n",
    "fill_glaciers = True\n",
    "output_notebook_path = \"/data/results/intermediate/notebooks/\"\n",
    "preprocessed_model_path = \"/data/results/intermediate/preprocessed_netcdf/\"\n",
    "preprocessed_stations_path = \"/data/results/intermediate/preprocessed_stations/\"\n",
    "output_reconstruction_path = \"/data/results/netcdf/\"\n",
    "output_tables_path = \"/data/results/TableC2/\"\n",
    "output_figure_path = \"/data/results/figures/\"\n",
    "mask_path = \"data/masks/canada_mask_rp.nc\"\n",
    "north_mask_path = \"data/masks/canada_mask_north_rp.nc\"\n",
    "nbcc_loc_path = \"data/station_inputs/NBCC_2020_new_coords.xlsm\"\n",
    "nbcc_median_correction = True\n"
   ]
  },
  {
   "cell_type": "markdown",
   "metadata": {
    "papermill": {
     "duration": 0.012748,
     "end_time": "2020-12-18T21:07:08.734549",
     "exception": false,
     "start_time": "2020-12-18T21:07:08.721801",
     "status": "completed"
    },
    "tags": []
   },
   "source": [
    "Load processed moded, target canada-only mask, and the Upper Artic Area mask "
   ]
  },
  {
   "cell_type": "code",
   "execution_count": 4,
   "metadata": {
    "execution": {
     "iopub.execute_input": "2020-12-18T21:07:08.768494Z",
     "iopub.status.busy": "2020-12-18T21:07:08.767634Z",
     "iopub.status.idle": "2020-12-18T21:07:08.911038Z",
     "shell.execute_reply": "2020-12-18T21:07:08.910572Z"
    },
    "papermill": {
     "duration": 0.163039,
     "end_time": "2020-12-18T21:07:08.911192",
     "exception": false,
     "start_time": "2020-12-18T21:07:08.748153",
     "status": "completed"
    },
    "tags": []
   },
   "outputs": [],
   "source": [
    "# Hard coded CanRCM4 upper model domain rlat\n",
    "dsold_max = 28.15999984741211\n",
    "\n",
    "ds = read_data(resource_filename(\"climpyrical\", f\"{preprocessed_model_path}{name}.nc\"))\n",
    "(dv, ) = ds.data_vars\n",
    "\n",
    "mask = read_data(\n",
    "    resource_filename(\n",
    "        'climpyrical',\n",
    "        mask_path\n",
    "    ))['mask'].values\n",
    "\n",
    "northern_mask = read_data(\n",
    "    resource_filename(\n",
    "        'climpyrical',\n",
    "        north_mask_path\n",
    "    )\n",
    ")['mask'].values\n",
    "\n",
    "rlon, rlat = np.meshgrid(ds.rlon, ds.rlat)"
   ]
  },
  {
   "cell_type": "markdown",
   "metadata": {
    "papermill": {
     "duration": 0.021239,
     "end_time": "2020-12-18T21:07:08.967359",
     "exception": false,
     "start_time": "2020-12-18T21:07:08.946120",
     "status": "completed"
    },
    "tags": []
   },
   "source": [
    "Load processed station data"
   ]
  },
  {
   "cell_type": "code",
   "execution_count": 5,
   "metadata": {
    "execution": {
     "iopub.execute_input": "2020-12-18T21:07:09.000948Z",
     "iopub.status.busy": "2020-12-18T21:07:09.000476Z",
     "iopub.status.idle": "2020-12-18T21:07:09.054168Z",
     "shell.execute_reply": "2020-12-18T21:07:09.054922Z"
    },
    "papermill": {
     "duration": 0.072913,
     "end_time": "2020-12-18T21:07:09.055217",
     "exception": false,
     "start_time": "2020-12-18T21:07:08.982304",
     "status": "completed"
    },
    "tags": []
   },
   "outputs": [
    {
     "data": {
      "text/html": [
       "<div>\n",
       "<style scoped>\n",
       "    .dataframe tbody tr th:only-of-type {\n",
       "        vertical-align: middle;\n",
       "    }\n",
       "\n",
       "    .dataframe tbody tr th {\n",
       "        vertical-align: top;\n",
       "    }\n",
       "\n",
       "    .dataframe thead th {\n",
       "        text-align: right;\n",
       "    }\n",
       "</style>\n",
       "<table border=\"1\" class=\"dataframe\">\n",
       "  <thead>\n",
       "    <tr style=\"text-align: right;\">\n",
       "      <th></th>\n",
       "      <th>irlat</th>\n",
       "      <th>irlon</th>\n",
       "      <th>WP50 (kPa)</th>\n",
       "      <th>rlat</th>\n",
       "      <th>rlon</th>\n",
       "      <th>lat</th>\n",
       "      <th>lon</th>\n",
       "      <th>elev (m)</th>\n",
       "      <th>station_name</th>\n",
       "      <th>province</th>\n",
       "      <th>model_values</th>\n",
       "      <th>ratio</th>\n",
       "    </tr>\n",
       "  </thead>\n",
       "  <tbody>\n",
       "    <tr>\n",
       "      <th>0</th>\n",
       "      <td>558</td>\n",
       "      <td>1009</td>\n",
       "      <td>0.351</td>\n",
       "      <td>-4.286303</td>\n",
       "      <td>10.373534</td>\n",
       "      <td>42.276111</td>\n",
       "      <td>-82.955278</td>\n",
       "      <td>189.6</td>\n",
       "      <td>WINDSOR A</td>\n",
       "      <td>ON</td>\n",
       "      <td>0.360578</td>\n",
       "      <td>0.769329</td>\n",
       "    </tr>\n",
       "    <tr>\n",
       "      <th>1</th>\n",
       "      <td>576</td>\n",
       "      <td>1016</td>\n",
       "      <td>0.384</td>\n",
       "      <td>-3.488044</td>\n",
       "      <td>10.709117</td>\n",
       "      <td>42.999444</td>\n",
       "      <td>-82.308889</td>\n",
       "      <td>181.4</td>\n",
       "      <td>SARNIA</td>\n",
       "      <td>ON</td>\n",
       "      <td>0.368830</td>\n",
       "      <td>0.822829</td>\n",
       "    </tr>\n",
       "    <tr>\n",
       "      <th>2</th>\n",
       "      <td>579</td>\n",
       "      <td>1050</td>\n",
       "      <td>0.394</td>\n",
       "      <td>-3.335369</td>\n",
       "      <td>12.206823</td>\n",
       "      <td>42.850000</td>\n",
       "      <td>-80.266667</td>\n",
       "      <td>240.5</td>\n",
       "      <td>SIMCOE</td>\n",
       "      <td>ON</td>\n",
       "      <td>0.418314</td>\n",
       "      <td>0.744387</td>\n",
       "    </tr>\n",
       "  </tbody>\n",
       "</table>\n",
       "</div>"
      ],
      "text/plain": [
       "   irlat  irlon  WP50 (kPa)      rlat       rlon        lat        lon  \\\n",
       "0    558   1009       0.351 -4.286303  10.373534  42.276111 -82.955278   \n",
       "1    576   1016       0.384 -3.488044  10.709117  42.999444 -82.308889   \n",
       "2    579   1050       0.394 -3.335369  12.206823  42.850000 -80.266667   \n",
       "\n",
       "   elev (m) station_name province  model_values     ratio  \n",
       "0     189.6    WINDSOR A       ON      0.360578  0.769329  \n",
       "1     181.4       SARNIA       ON      0.368830  0.822829  \n",
       "2     240.5       SIMCOE       ON      0.418314  0.744387  "
      ]
     },
     "execution_count": 5,
     "metadata": {},
     "output_type": "execute_result"
    }
   ],
   "source": [
    "df = pd.read_csv(\n",
    "    resource_filename(\n",
    "        \"climpyrical\",\n",
    "        f\"{preprocessed_stations_path}{name}.csv\"\n",
    "    ), \n",
    "    index_col=False\n",
    ")\n",
    "df.head(3)"
   ]
  },
  {
   "cell_type": "code",
   "execution_count": 6,
   "metadata": {
    "execution": {
     "iopub.execute_input": "2020-12-18T21:07:09.109597Z",
     "iopub.status.busy": "2020-12-18T21:07:09.109051Z",
     "iopub.status.idle": "2020-12-18T21:07:09.129089Z",
     "shell.execute_reply": "2020-12-18T21:07:09.129618Z"
    },
    "papermill": {
     "duration": 0.042207,
     "end_time": "2020-12-18T21:07:09.129840",
     "exception": false,
     "start_time": "2020-12-18T21:07:09.087633",
     "status": "completed"
    },
    "tags": []
   },
   "outputs": [],
   "source": [
    "if ds[dv].attrs[\"units\"] == \"degC\" and \"degC\" in station_dv:\n",
    "    K = 273.15\n",
    "    df[station_dv] += K\n",
    "    df[\"model_values\"] += K\n",
    "    ds[dv] += K"
   ]
  },
  {
   "cell_type": "markdown",
   "metadata": {
    "papermill": {
     "duration": 0.021162,
     "end_time": "2020-12-18T21:07:09.173819",
     "exception": false,
     "start_time": "2020-12-18T21:07:09.152657",
     "status": "completed"
    },
    "tags": []
   },
   "source": [
    "Separate stations into beyond and within the model domain"
   ]
  },
  {
   "cell_type": "code",
   "execution_count": 7,
   "metadata": {
    "execution": {
     "iopub.execute_input": "2020-12-18T21:07:09.224018Z",
     "iopub.status.busy": "2020-12-18T21:07:09.222671Z",
     "iopub.status.idle": "2020-12-18T21:07:09.246787Z",
     "shell.execute_reply": "2020-12-18T21:07:09.245797Z"
    },
    "papermill": {
     "duration": 0.053424,
     "end_time": "2020-12-18T21:07:09.247131",
     "exception": false,
     "start_time": "2020-12-18T21:07:09.193707",
     "status": "completed"
    },
    "tags": []
   },
   "outputs": [],
   "source": [
    "df_north = df[df.rlat > dsold_max].copy()\n",
    "df_south = df[df.rlat <= dsold_max].copy()\n",
    "\n",
    "north_index = df_north.index.values\n",
    "south_index = df_south.index.values"
   ]
  },
  {
   "cell_type": "markdown",
   "metadata": {
    "papermill": {
     "duration": 0.025378,
     "end_time": "2020-12-18T21:07:09.300821",
     "exception": false,
     "start_time": "2020-12-18T21:07:09.275443",
     "status": "completed"
    },
    "tags": []
   },
   "source": [
    "Check for sets of stations that are identical. This would produce idential windows over a geographic area and disproportionately weight them in the averaged ratio field."
   ]
  },
  {
   "cell_type": "code",
   "execution_count": 8,
   "metadata": {
    "execution": {
     "iopub.execute_input": "2020-12-18T21:07:09.365147Z",
     "iopub.status.busy": "2020-12-18T21:07:09.364092Z",
     "iopub.status.idle": "2020-12-18T21:07:09.923541Z",
     "shell.execute_reply": "2020-12-18T21:07:09.924030Z"
    },
    "papermill": {
     "duration": 0.588861,
     "end_time": "2020-12-18T21:07:09.924274",
     "exception": false,
     "start_time": "2020-12-18T21:07:09.335413",
     "status": "completed"
    },
    "tags": []
   },
   "outputs": [],
   "source": [
    "X_distances = np.stack([np.deg2rad(df_south.lat.values), np.deg2rad(df_south.lon.values)])\n",
    "nbrs = NearestNeighbors(n_neighbors=30, metric=\"haversine\").fit(\n",
    "    X_distances.T\n",
    ")\n",
    "\n",
    "# Order independent window checkers\n",
    "# only uses windows that are not-identical\n",
    "\n",
    "dist, ind = nbrs.kneighbors(X_distances.T)\n",
    "good_i = []\n",
    "list_of_sets = []\n",
    "count = 0 \n",
    "for i in range(df_south.shape[0]):\n",
    "    list_of_sets.append(df_south[[\"lon\", \"lat\", station_dv]].iloc[ind[i]].values)\n",
    "    if i+1-count == np.unique(list_of_sets, axis=0).shape[0]:\n",
    "        good_i.append(i)\n",
    "    else:\n",
    "        warning.warn(\"There are identical windows!\")\n",
    "        count += 1 \n",
    "\n",
    "df_south = df_south.iloc[good_i]"
   ]
  },
  {
   "cell_type": "markdown",
   "metadata": {
    "papermill": {
     "duration": 0.035055,
     "end_time": "2020-12-18T21:07:09.981717",
     "exception": false,
     "start_time": "2020-12-18T21:07:09.946662",
     "status": "completed"
    },
    "tags": []
   },
   "source": [
    "Calculate the station average in the UAA"
   ]
  },
  {
   "cell_type": "code",
   "execution_count": 9,
   "metadata": {
    "execution": {
     "iopub.execute_input": "2020-12-18T21:07:10.039076Z",
     "iopub.status.busy": "2020-12-18T21:07:10.038639Z",
     "iopub.status.idle": "2020-12-18T21:07:10.068625Z",
     "shell.execute_reply": "2020-12-18T21:07:10.067639Z"
    },
    "papermill": {
     "duration": 0.055308,
     "end_time": "2020-12-18T21:07:10.068873",
     "exception": false,
     "start_time": "2020-12-18T21:07:10.013565",
     "status": "completed"
    },
    "tags": []
   },
   "outputs": [
    {
     "data": {
      "text/plain": [
       "0.6006666666666666"
      ]
     },
     "execution_count": 9,
     "metadata": {},
     "output_type": "execute_result"
    }
   ],
   "source": [
    "UAA_station_mean = np.nanmean(df[station_dv][df.rlat > dsold_max-1])\n",
    "UAA_station_mean"
   ]
  },
  {
   "cell_type": "markdown",
   "metadata": {
    "papermill": {
     "duration": 0.015715,
     "end_time": "2020-12-18T21:07:10.107792",
     "exception": false,
     "start_time": "2020-12-18T21:07:10.092077",
     "status": "completed"
    },
    "tags": []
   },
   "source": [
    "Use the best tolerance scaling to scale the model values. The ratio is already automatically scaled."
   ]
  },
  {
   "cell_type": "code",
   "execution_count": 10,
   "metadata": {
    "execution": {
     "iopub.execute_input": "2020-12-18T21:07:10.158204Z",
     "iopub.status.busy": "2020-12-18T21:07:10.156114Z",
     "iopub.status.idle": "2020-12-18T21:07:10.181557Z",
     "shell.execute_reply": "2020-12-18T21:07:10.182088Z"
    },
    "papermill": {
     "duration": 0.054502,
     "end_time": "2020-12-18T21:07:10.182284",
     "exception": false,
     "start_time": "2020-12-18T21:07:10.127782",
     "status": "completed"
    },
    "tags": []
   },
   "outputs": [],
   "source": [
    "model_vals = df.model_values\n",
    "station_vals = df[station_dv]\n",
    "\n",
    "ratio, best_tol = scale_model_obs(df.model_values, station_vals)\n",
    "\n",
    "# apply correction\n",
    "model_vals_corrected = (model_vals/best_tol)\n",
    "mean_corrected = (ds[dv].values/best_tol)"
   ]
  },
  {
   "cell_type": "markdown",
   "metadata": {
    "papermill": {
     "duration": 0.024281,
     "end_time": "2020-12-18T21:07:10.230881",
     "exception": false,
     "start_time": "2020-12-18T21:07:10.206600",
     "status": "completed"
    },
    "tags": []
   },
   "source": [
    "Perform ratio kriging on the set of stations below the maximum CanRCM4 native domain."
   ]
  },
  {
   "cell_type": "code",
   "execution_count": 11,
   "metadata": {
    "execution": {
     "iopub.execute_input": "2020-12-18T21:07:10.287186Z",
     "iopub.status.busy": "2020-12-18T21:07:10.286727Z",
     "iopub.status.idle": "2020-12-18T21:15:39.742726Z",
     "shell.execute_reply": "2020-12-18T21:15:39.743208Z"
    },
    "papermill": {
     "duration": 509.482882,
     "end_time": "2020-12-18T21:15:39.743419",
     "exception": false,
     "start_time": "2020-12-18T21:07:10.260537",
     "status": "completed"
    },
    "tags": []
   },
   "outputs": [
    {
     "name": "stderr",
     "output_type": "stream",
     "text": [
      "\r",
      "  0%|          | 0/364 [00:00<?, ?it/s]"
     ]
    },
    {
     "name": "stderr",
     "output_type": "stream",
     "text": [
      "\r",
      "  1%|          | 2/364 [00:01<04:21,  1.38it/s]"
     ]
    },
    {
     "name": "stderr",
     "output_type": "stream",
     "text": [
      "\r",
      "  1%|          | 3/364 [00:02<05:38,  1.07it/s]"
     ]
    },
    {
     "name": "stderr",
     "output_type": "stream",
     "text": [
      "\r",
      "  1%|          | 4/364 [00:04<06:28,  1.08s/it]"
     ]
    },
    {
     "name": "stderr",
     "output_type": "stream",
     "text": [
      "\r",
      "  1%|▏         | 5/364 [00:05<06:59,  1.17s/it]"
     ]
    },
    {
     "name": "stderr",
     "output_type": "stream",
     "text": [
      "\r",
      "  2%|▏         | 6/364 [00:07<07:24,  1.24s/it]"
     ]
    },
    {
     "name": "stderr",
     "output_type": "stream",
     "text": [
      "\r",
      "  2%|▏         | 7/364 [00:08<07:39,  1.29s/it]"
     ]
    },
    {
     "name": "stderr",
     "output_type": "stream",
     "text": [
      "\r",
      "  2%|▏         | 8/364 [00:09<07:44,  1.30s/it]"
     ]
    },
    {
     "name": "stderr",
     "output_type": "stream",
     "text": [
      "\r",
      "  2%|▏         | 9/364 [00:11<07:46,  1.31s/it]"
     ]
    },
    {
     "name": "stderr",
     "output_type": "stream",
     "text": [
      "\r",
      "  3%|▎         | 10/364 [00:12<07:46,  1.32s/it]"
     ]
    },
    {
     "name": "stderr",
     "output_type": "stream",
     "text": [
      "\r",
      "  3%|▎         | 11/364 [00:13<07:34,  1.29s/it]"
     ]
    },
    {
     "name": "stderr",
     "output_type": "stream",
     "text": [
      "\r",
      "  3%|▎         | 12/364 [00:15<07:49,  1.33s/it]"
     ]
    },
    {
     "name": "stderr",
     "output_type": "stream",
     "text": [
      "\r",
      "  4%|▎         | 13/364 [00:16<07:54,  1.35s/it]"
     ]
    },
    {
     "name": "stderr",
     "output_type": "stream",
     "text": [
      "\r",
      "  4%|▍         | 14/364 [00:17<07:36,  1.30s/it]"
     ]
    },
    {
     "name": "stderr",
     "output_type": "stream",
     "text": [
      "\r",
      "  4%|▍         | 15/364 [00:19<07:42,  1.33s/it]"
     ]
    },
    {
     "name": "stderr",
     "output_type": "stream",
     "text": [
      "\r",
      "  4%|▍         | 16/364 [00:20<07:33,  1.30s/it]"
     ]
    },
    {
     "name": "stderr",
     "output_type": "stream",
     "text": [
      "\r",
      "  5%|▍         | 17/364 [00:21<07:57,  1.37s/it]"
     ]
    },
    {
     "name": "stderr",
     "output_type": "stream",
     "text": [
      "\r",
      "  5%|▍         | 18/364 [00:23<07:46,  1.35s/it]"
     ]
    },
    {
     "name": "stderr",
     "output_type": "stream",
     "text": [
      "\r",
      "  5%|▌         | 19/364 [00:24<07:37,  1.33s/it]"
     ]
    },
    {
     "name": "stderr",
     "output_type": "stream",
     "text": [
      "\r",
      "  5%|▌         | 20/364 [00:25<07:35,  1.32s/it]"
     ]
    },
    {
     "name": "stderr",
     "output_type": "stream",
     "text": [
      "\r",
      "  6%|▌         | 21/364 [00:27<07:42,  1.35s/it]"
     ]
    },
    {
     "name": "stderr",
     "output_type": "stream",
     "text": [
      "\r",
      "  6%|▌         | 22/364 [00:28<08:09,  1.43s/it]"
     ]
    },
    {
     "name": "stderr",
     "output_type": "stream",
     "text": [
      "\r",
      "  6%|▋         | 23/364 [00:30<08:42,  1.53s/it]"
     ]
    },
    {
     "name": "stderr",
     "output_type": "stream",
     "text": [
      "\r",
      "  7%|▋         | 24/364 [00:31<08:06,  1.43s/it]"
     ]
    },
    {
     "name": "stderr",
     "output_type": "stream",
     "text": [
      "\r",
      "  7%|▋         | 25/364 [00:33<08:16,  1.47s/it]"
     ]
    },
    {
     "name": "stderr",
     "output_type": "stream",
     "text": [
      "\r",
      "  7%|▋         | 26/364 [00:34<08:07,  1.44s/it]"
     ]
    },
    {
     "name": "stderr",
     "output_type": "stream",
     "text": [
      "\r",
      "  7%|▋         | 27/364 [00:36<08:15,  1.47s/it]"
     ]
    },
    {
     "name": "stderr",
     "output_type": "stream",
     "text": [
      "\r",
      "  8%|▊         | 28/364 [00:37<08:21,  1.49s/it]"
     ]
    },
    {
     "name": "stderr",
     "output_type": "stream",
     "text": [
      "\r",
      "  8%|▊         | 29/364 [00:39<08:27,  1.52s/it]"
     ]
    },
    {
     "name": "stderr",
     "output_type": "stream",
     "text": [
      "\r",
      "  8%|▊         | 30/364 [00:40<08:15,  1.48s/it]"
     ]
    },
    {
     "name": "stderr",
     "output_type": "stream",
     "text": [
      "\r",
      "  9%|▊         | 31/364 [00:42<08:00,  1.44s/it]"
     ]
    },
    {
     "name": "stderr",
     "output_type": "stream",
     "text": [
      "\r",
      "  9%|▉         | 32/364 [00:43<07:56,  1.44s/it]"
     ]
    },
    {
     "name": "stderr",
     "output_type": "stream",
     "text": [
      "\r",
      "  9%|▉         | 33/364 [00:44<07:47,  1.41s/it]"
     ]
    },
    {
     "name": "stderr",
     "output_type": "stream",
     "text": [
      "\r",
      "  9%|▉         | 34/364 [00:46<07:54,  1.44s/it]"
     ]
    },
    {
     "name": "stderr",
     "output_type": "stream",
     "text": [
      "\r",
      " 10%|▉         | 35/364 [00:47<07:48,  1.42s/it]"
     ]
    },
    {
     "name": "stderr",
     "output_type": "stream",
     "text": [
      "\r",
      " 10%|▉         | 36/364 [00:49<07:42,  1.41s/it]"
     ]
    },
    {
     "name": "stderr",
     "output_type": "stream",
     "text": [
      "\r",
      " 10%|█         | 37/364 [00:50<07:47,  1.43s/it]"
     ]
    },
    {
     "name": "stderr",
     "output_type": "stream",
     "text": [
      "\r",
      " 10%|█         | 38/364 [00:52<07:44,  1.42s/it]"
     ]
    },
    {
     "name": "stderr",
     "output_type": "stream",
     "text": [
      "\r",
      " 11%|█         | 39/364 [00:53<07:42,  1.42s/it]"
     ]
    },
    {
     "name": "stderr",
     "output_type": "stream",
     "text": [
      "\r",
      " 11%|█         | 40/364 [00:54<07:49,  1.45s/it]"
     ]
    },
    {
     "name": "stderr",
     "output_type": "stream",
     "text": [
      "\r",
      " 11%|█▏        | 41/364 [00:56<07:36,  1.41s/it]"
     ]
    },
    {
     "name": "stderr",
     "output_type": "stream",
     "text": [
      "\r",
      " 12%|█▏        | 42/364 [00:57<07:20,  1.37s/it]"
     ]
    },
    {
     "name": "stderr",
     "output_type": "stream",
     "text": [
      "\r",
      " 12%|█▏        | 43/364 [00:59<07:37,  1.43s/it]"
     ]
    },
    {
     "name": "stderr",
     "output_type": "stream",
     "text": [
      "\r",
      " 12%|█▏        | 44/364 [01:00<07:17,  1.37s/it]"
     ]
    },
    {
     "name": "stderr",
     "output_type": "stream",
     "text": [
      "\r",
      " 12%|█▏        | 45/364 [01:01<07:06,  1.34s/it]"
     ]
    },
    {
     "name": "stderr",
     "output_type": "stream",
     "text": [
      "\r",
      " 13%|█▎        | 46/364 [01:03<07:22,  1.39s/it]"
     ]
    },
    {
     "name": "stderr",
     "output_type": "stream",
     "text": [
      "\r",
      " 13%|█▎        | 47/364 [01:04<07:03,  1.34s/it]"
     ]
    },
    {
     "name": "stderr",
     "output_type": "stream",
     "text": [
      "\r",
      " 13%|█▎        | 48/364 [01:05<07:16,  1.38s/it]"
     ]
    },
    {
     "name": "stderr",
     "output_type": "stream",
     "text": [
      "\r",
      " 13%|█▎        | 49/364 [01:07<07:08,  1.36s/it]"
     ]
    },
    {
     "name": "stderr",
     "output_type": "stream",
     "text": [
      "\r",
      " 14%|█▎        | 50/364 [01:08<07:05,  1.35s/it]"
     ]
    },
    {
     "name": "stderr",
     "output_type": "stream",
     "text": [
      "\r",
      " 14%|█▍        | 51/364 [01:10<07:36,  1.46s/it]"
     ]
    },
    {
     "name": "stderr",
     "output_type": "stream",
     "text": [
      "\r",
      " 14%|█▍        | 52/364 [01:11<07:37,  1.47s/it]"
     ]
    },
    {
     "name": "stderr",
     "output_type": "stream",
     "text": [
      "\r",
      " 15%|█▍        | 53/364 [01:12<06:31,  1.26s/it]"
     ]
    },
    {
     "name": "stderr",
     "output_type": "stream",
     "text": [
      "\r",
      " 15%|█▍        | 54/364 [01:13<06:25,  1.24s/it]"
     ]
    },
    {
     "name": "stderr",
     "output_type": "stream",
     "text": [
      "\r",
      " 15%|█▌        | 55/364 [01:14<06:03,  1.18s/it]"
     ]
    },
    {
     "name": "stderr",
     "output_type": "stream",
     "text": [
      "\r",
      " 15%|█▌        | 56/364 [01:16<06:38,  1.29s/it]"
     ]
    },
    {
     "name": "stderr",
     "output_type": "stream",
     "text": [
      "\r",
      " 16%|█▌        | 57/364 [01:17<06:35,  1.29s/it]"
     ]
    },
    {
     "name": "stderr",
     "output_type": "stream",
     "text": [
      "\r",
      " 16%|█▌        | 58/364 [01:18<06:50,  1.34s/it]"
     ]
    },
    {
     "name": "stderr",
     "output_type": "stream",
     "text": [
      "\r",
      " 16%|█▌        | 59/364 [01:20<06:39,  1.31s/it]"
     ]
    },
    {
     "name": "stderr",
     "output_type": "stream",
     "text": [
      "\r",
      " 16%|█▋        | 60/364 [01:21<06:38,  1.31s/it]"
     ]
    },
    {
     "name": "stderr",
     "output_type": "stream",
     "text": [
      "\r",
      " 17%|█▋        | 61/364 [01:23<07:15,  1.44s/it]"
     ]
    },
    {
     "name": "stderr",
     "output_type": "stream",
     "text": [
      "\r",
      " 17%|█▋        | 62/364 [01:24<07:08,  1.42s/it]"
     ]
    },
    {
     "name": "stderr",
     "output_type": "stream",
     "text": [
      "\r",
      " 17%|█▋        | 63/364 [01:25<06:58,  1.39s/it]"
     ]
    },
    {
     "name": "stderr",
     "output_type": "stream",
     "text": [
      "\r",
      " 18%|█▊        | 64/364 [01:26<05:42,  1.14s/it]"
     ]
    },
    {
     "name": "stderr",
     "output_type": "stream",
     "text": [
      "\r",
      " 18%|█▊        | 65/364 [01:27<04:49,  1.03it/s]"
     ]
    },
    {
     "name": "stderr",
     "output_type": "stream",
     "text": [
      "\r",
      " 18%|█▊        | 66/364 [01:27<04:12,  1.18it/s]"
     ]
    },
    {
     "name": "stderr",
     "output_type": "stream",
     "text": [
      "\r",
      " 18%|█▊        | 67/364 [01:28<03:44,  1.32it/s]"
     ]
    },
    {
     "name": "stderr",
     "output_type": "stream",
     "text": [
      "\r",
      " 19%|█▊        | 68/364 [01:29<04:49,  1.02it/s]"
     ]
    },
    {
     "name": "stderr",
     "output_type": "stream",
     "text": [
      "\r",
      " 19%|█▉        | 69/364 [01:30<04:44,  1.04it/s]"
     ]
    },
    {
     "name": "stderr",
     "output_type": "stream",
     "text": [
      "\r",
      " 19%|█▉        | 70/364 [01:32<05:30,  1.12s/it]"
     ]
    },
    {
     "name": "stderr",
     "output_type": "stream",
     "text": [
      "\r",
      " 20%|█▉        | 71/364 [01:33<06:04,  1.25s/it]"
     ]
    },
    {
     "name": "stderr",
     "output_type": "stream",
     "text": [
      "\r",
      " 20%|█▉        | 72/364 [01:35<06:29,  1.33s/it]"
     ]
    },
    {
     "name": "stderr",
     "output_type": "stream",
     "text": [
      "\r",
      " 20%|██        | 73/364 [01:36<06:29,  1.34s/it]"
     ]
    },
    {
     "name": "stderr",
     "output_type": "stream",
     "text": [
      "\r",
      " 20%|██        | 74/364 [01:37<05:54,  1.22s/it]"
     ]
    },
    {
     "name": "stderr",
     "output_type": "stream",
     "text": [
      "\r",
      " 21%|██        | 75/364 [01:38<06:10,  1.28s/it]"
     ]
    },
    {
     "name": "stderr",
     "output_type": "stream",
     "text": [
      "\r",
      " 21%|██        | 76/364 [01:40<06:17,  1.31s/it]"
     ]
    },
    {
     "name": "stderr",
     "output_type": "stream",
     "text": [
      "\r",
      " 21%|██        | 77/364 [01:41<05:57,  1.25s/it]"
     ]
    },
    {
     "name": "stderr",
     "output_type": "stream",
     "text": [
      "\r",
      " 21%|██▏       | 78/364 [01:42<05:55,  1.24s/it]"
     ]
    },
    {
     "name": "stderr",
     "output_type": "stream",
     "text": [
      "\r",
      " 22%|██▏       | 79/364 [01:44<06:28,  1.36s/it]"
     ]
    },
    {
     "name": "stderr",
     "output_type": "stream",
     "text": [
      "\r",
      " 22%|██▏       | 80/364 [01:44<05:19,  1.13s/it]"
     ]
    },
    {
     "name": "stderr",
     "output_type": "stream",
     "text": [
      "\r",
      " 22%|██▏       | 81/364 [01:45<05:09,  1.10s/it]"
     ]
    },
    {
     "name": "stderr",
     "output_type": "stream",
     "text": [
      "\r",
      " 23%|██▎       | 82/364 [01:47<05:37,  1.20s/it]"
     ]
    },
    {
     "name": "stderr",
     "output_type": "stream",
     "text": [
      "\r",
      " 23%|██▎       | 83/364 [01:48<06:18,  1.35s/it]"
     ]
    },
    {
     "name": "stderr",
     "output_type": "stream",
     "text": [
      "\r",
      " 23%|██▎       | 84/364 [01:50<06:09,  1.32s/it]"
     ]
    },
    {
     "name": "stderr",
     "output_type": "stream",
     "text": [
      "\r",
      " 23%|██▎       | 85/364 [01:51<06:16,  1.35s/it]"
     ]
    },
    {
     "name": "stderr",
     "output_type": "stream",
     "text": [
      "\r",
      " 24%|██▎       | 86/364 [01:53<06:18,  1.36s/it]"
     ]
    },
    {
     "name": "stderr",
     "output_type": "stream",
     "text": [
      "\r",
      " 24%|██▍       | 87/364 [01:54<06:30,  1.41s/it]"
     ]
    },
    {
     "name": "stderr",
     "output_type": "stream",
     "text": [
      "\r",
      " 24%|██▍       | 88/364 [01:55<06:11,  1.34s/it]"
     ]
    },
    {
     "name": "stderr",
     "output_type": "stream",
     "text": [
      "\r",
      " 24%|██▍       | 89/364 [01:56<05:05,  1.11s/it]"
     ]
    },
    {
     "name": "stderr",
     "output_type": "stream",
     "text": [
      "\r",
      " 25%|██▍       | 90/364 [01:56<04:24,  1.03it/s]"
     ]
    },
    {
     "name": "stderr",
     "output_type": "stream",
     "text": [
      "\r",
      " 25%|██▌       | 91/364 [01:58<04:58,  1.09s/it]"
     ]
    },
    {
     "name": "stderr",
     "output_type": "stream",
     "text": [
      "\r",
      " 25%|██▌       | 92/364 [01:59<05:07,  1.13s/it]"
     ]
    },
    {
     "name": "stderr",
     "output_type": "stream",
     "text": [
      "\r",
      " 26%|██▌       | 93/364 [02:01<05:34,  1.24s/it]"
     ]
    },
    {
     "name": "stderr",
     "output_type": "stream",
     "text": [
      "\r",
      " 26%|██▌       | 94/364 [02:02<06:17,  1.40s/it]"
     ]
    },
    {
     "name": "stderr",
     "output_type": "stream",
     "text": [
      "\r",
      " 26%|██▌       | 95/364 [02:04<06:04,  1.36s/it]"
     ]
    },
    {
     "name": "stderr",
     "output_type": "stream",
     "text": [
      "\r",
      " 26%|██▋       | 96/364 [02:05<06:19,  1.42s/it]"
     ]
    },
    {
     "name": "stderr",
     "output_type": "stream",
     "text": [
      "\r",
      " 27%|██▋       | 97/364 [02:07<06:31,  1.47s/it]"
     ]
    },
    {
     "name": "stderr",
     "output_type": "stream",
     "text": [
      "\r",
      " 27%|██▋       | 98/364 [02:08<06:11,  1.40s/it]"
     ]
    },
    {
     "name": "stderr",
     "output_type": "stream",
     "text": [
      "\r",
      " 27%|██▋       | 99/364 [02:10<06:23,  1.45s/it]"
     ]
    },
    {
     "name": "stderr",
     "output_type": "stream",
     "text": [
      "\r",
      " 27%|██▋       | 100/364 [02:11<06:46,  1.54s/it]"
     ]
    },
    {
     "name": "stderr",
     "output_type": "stream",
     "text": [
      "\r",
      " 28%|██▊       | 101/364 [02:13<06:49,  1.56s/it]"
     ]
    },
    {
     "name": "stderr",
     "output_type": "stream",
     "text": [
      "\r",
      " 28%|██▊       | 102/364 [02:14<06:08,  1.41s/it]"
     ]
    },
    {
     "name": "stderr",
     "output_type": "stream",
     "text": [
      "\r",
      " 28%|██▊       | 103/364 [02:15<05:44,  1.32s/it]"
     ]
    },
    {
     "name": "stderr",
     "output_type": "stream",
     "text": [
      "\r",
      " 29%|██▊       | 104/364 [02:16<05:39,  1.30s/it]"
     ]
    },
    {
     "name": "stderr",
     "output_type": "stream",
     "text": [
      "\r",
      " 29%|██▉       | 105/364 [02:18<05:44,  1.33s/it]"
     ]
    },
    {
     "name": "stderr",
     "output_type": "stream",
     "text": [
      "\r",
      " 29%|██▉       | 106/364 [02:18<04:44,  1.10s/it]"
     ]
    },
    {
     "name": "stderr",
     "output_type": "stream",
     "text": [
      "\r",
      " 29%|██▉       | 107/364 [02:20<05:13,  1.22s/it]"
     ]
    },
    {
     "name": "stderr",
     "output_type": "stream",
     "text": [
      "\r",
      " 30%|██▉       | 108/364 [02:21<05:17,  1.24s/it]"
     ]
    },
    {
     "name": "stderr",
     "output_type": "stream",
     "text": [
      "\r",
      " 30%|██▉       | 109/364 [02:23<05:47,  1.36s/it]"
     ]
    },
    {
     "name": "stderr",
     "output_type": "stream",
     "text": [
      "\r",
      " 30%|███       | 110/364 [02:24<05:42,  1.35s/it]"
     ]
    },
    {
     "name": "stderr",
     "output_type": "stream",
     "text": [
      "\r",
      " 30%|███       | 111/364 [02:25<05:48,  1.38s/it]"
     ]
    },
    {
     "name": "stderr",
     "output_type": "stream",
     "text": [
      "\r",
      " 31%|███       | 112/364 [02:26<04:44,  1.13s/it]"
     ]
    },
    {
     "name": "stderr",
     "output_type": "stream",
     "text": [
      "\r",
      " 31%|███       | 113/364 [02:27<04:50,  1.16s/it]"
     ]
    },
    {
     "name": "stderr",
     "output_type": "stream",
     "text": [
      "\r",
      " 31%|███▏      | 114/364 [02:29<05:01,  1.21s/it]"
     ]
    },
    {
     "name": "stderr",
     "output_type": "stream",
     "text": [
      "\r",
      " 32%|███▏      | 115/364 [02:30<05:35,  1.35s/it]"
     ]
    },
    {
     "name": "stderr",
     "output_type": "stream",
     "text": [
      "\r",
      " 32%|███▏      | 116/364 [02:31<04:37,  1.12s/it]"
     ]
    },
    {
     "name": "stderr",
     "output_type": "stream",
     "text": [
      "\r",
      " 32%|███▏      | 117/364 [02:32<04:53,  1.19s/it]"
     ]
    },
    {
     "name": "stderr",
     "output_type": "stream",
     "text": [
      "\r",
      " 32%|███▏      | 118/364 [02:33<04:43,  1.15s/it]"
     ]
    },
    {
     "name": "stderr",
     "output_type": "stream",
     "text": [
      "\r",
      " 33%|███▎      | 119/364 [02:35<05:27,  1.34s/it]"
     ]
    },
    {
     "name": "stderr",
     "output_type": "stream",
     "text": [
      "\r",
      " 33%|███▎      | 120/364 [02:37<06:01,  1.48s/it]"
     ]
    },
    {
     "name": "stderr",
     "output_type": "stream",
     "text": [
      "\r",
      " 33%|███▎      | 121/364 [02:37<04:51,  1.20s/it]"
     ]
    },
    {
     "name": "stderr",
     "output_type": "stream",
     "text": [
      "\r",
      " 34%|███▎      | 122/364 [02:39<04:51,  1.20s/it]"
     ]
    },
    {
     "name": "stderr",
     "output_type": "stream",
     "text": [
      "\r",
      " 34%|███▍      | 123/364 [02:39<04:03,  1.01s/it]"
     ]
    },
    {
     "name": "stderr",
     "output_type": "stream",
     "text": [
      "\r",
      " 34%|███▍      | 124/364 [02:40<04:25,  1.10s/it]"
     ]
    },
    {
     "name": "stderr",
     "output_type": "stream",
     "text": [
      "\r",
      " 34%|███▍      | 125/364 [02:42<04:38,  1.16s/it]"
     ]
    },
    {
     "name": "stderr",
     "output_type": "stream",
     "text": [
      "\r",
      " 35%|███▍      | 126/364 [02:44<05:24,  1.36s/it]"
     ]
    },
    {
     "name": "stderr",
     "output_type": "stream",
     "text": [
      "\r",
      " 35%|███▍      | 127/364 [02:45<05:49,  1.48s/it]"
     ]
    },
    {
     "name": "stderr",
     "output_type": "stream",
     "text": [
      "\r",
      " 35%|███▌      | 128/364 [02:47<05:42,  1.45s/it]"
     ]
    },
    {
     "name": "stderr",
     "output_type": "stream",
     "text": [
      "\r",
      " 35%|███▌      | 129/364 [02:48<05:28,  1.40s/it]"
     ]
    },
    {
     "name": "stderr",
     "output_type": "stream",
     "text": [
      "\r",
      " 36%|███▌      | 130/364 [02:49<05:19,  1.37s/it]"
     ]
    },
    {
     "name": "stderr",
     "output_type": "stream",
     "text": [
      "\r",
      " 36%|███▌      | 131/364 [02:51<05:51,  1.51s/it]"
     ]
    },
    {
     "name": "stderr",
     "output_type": "stream",
     "text": [
      "\r",
      " 36%|███▋      | 132/364 [02:52<05:31,  1.43s/it]"
     ]
    },
    {
     "name": "stderr",
     "output_type": "stream",
     "text": [
      "\r",
      " 37%|███▋      | 133/364 [02:54<05:12,  1.35s/it]"
     ]
    },
    {
     "name": "stderr",
     "output_type": "stream",
     "text": [
      "\r",
      " 37%|███▋      | 134/364 [02:55<05:04,  1.33s/it]"
     ]
    },
    {
     "name": "stderr",
     "output_type": "stream",
     "text": [
      "\r",
      " 37%|███▋      | 135/364 [02:56<04:50,  1.27s/it]"
     ]
    },
    {
     "name": "stderr",
     "output_type": "stream",
     "text": [
      "\r",
      " 37%|███▋      | 136/364 [02:58<05:27,  1.44s/it]"
     ]
    },
    {
     "name": "stderr",
     "output_type": "stream",
     "text": [
      "\r",
      " 38%|███▊      | 137/364 [02:59<05:10,  1.37s/it]"
     ]
    },
    {
     "name": "stderr",
     "output_type": "stream",
     "text": [
      "R[write to console]: Error in if (any(d < 0)) stop(\"distance argument must be nonnegative\") : \n",
      "  missing value where TRUE/FALSE needed\n",
      "\n"
     ]
    },
    {
     "name": "stderr",
     "output_type": "stream",
     "text": [
      "R[write to console]: In addition: \n"
     ]
    },
    {
     "name": "stderr",
     "output_type": "stream",
     "text": [
      "R[write to console]: Warning messages:\n",
      "\n"
     ]
    },
    {
     "name": "stderr",
     "output_type": "stream",
     "text": [
      "R[write to console]: 1: \n"
     ]
    },
    {
     "name": "stderr",
     "output_type": "stream",
     "text": [
      "R[write to console]: In (function (package, help, pos = 2, lib.loc = NULL, character.only = FALSE,  :\n"
     ]
    },
    {
     "name": "stderr",
     "output_type": "stream",
     "text": [
      "R[write to console]: \n",
      " \n"
     ]
    },
    {
     "name": "stderr",
     "output_type": "stream",
     "text": [
      "R[write to console]:  libraries ‘/usr/local/lib/R/site-library’, ‘/usr/lib/R/site-library’ contain no packages\n",
      "\n"
     ]
    },
    {
     "name": "stderr",
     "output_type": "stream",
     "text": [
      "R[write to console]: 2: \n"
     ]
    },
    {
     "name": "stderr",
     "output_type": "stream",
     "text": [
      "R[write to console]: In (function (package, help, pos = 2, lib.loc = NULL, character.only = FALSE,  :\n"
     ]
    },
    {
     "name": "stderr",
     "output_type": "stream",
     "text": [
      "R[write to console]: \n",
      " \n"
     ]
    },
    {
     "name": "stderr",
     "output_type": "stream",
     "text": [
      "R[write to console]:  libraries ‘/usr/local/lib/R/site-library’, ‘/usr/lib/R/site-library’ contain no packages\n",
      "\n"
     ]
    },
    {
     "name": "stderr",
     "output_type": "stream",
     "text": [
      "R[write to console]: Timing stopped at: 0.127 0 0.124\n",
      "\n"
     ]
    },
    {
     "name": "stderr",
     "output_type": "stream",
     "text": [
      "\r",
      " 38%|███▊      | 138/364 [03:00<04:50,  1.29s/it]"
     ]
    },
    {
     "name": "stderr",
     "output_type": "stream",
     "text": [
      "\r",
      " 38%|███▊      | 139/364 [03:01<04:22,  1.17s/it]"
     ]
    },
    {
     "name": "stderr",
     "output_type": "stream",
     "text": [
      "\r",
      " 38%|███▊      | 140/364 [03:02<04:25,  1.19s/it]"
     ]
    },
    {
     "name": "stderr",
     "output_type": "stream",
     "text": [
      "\r",
      " 39%|███▊      | 141/364 [03:03<03:54,  1.05s/it]"
     ]
    },
    {
     "name": "stderr",
     "output_type": "stream",
     "text": [
      "R[write to console]: Error in if (any(d < 0)) stop(\"distance argument must be nonnegative\") : \n",
      "  missing value where TRUE/FALSE needed\n",
      "\n"
     ]
    },
    {
     "name": "stderr",
     "output_type": "stream",
     "text": [
      "R[write to console]: Timing stopped at: 0.107 0 0.107\n",
      "\n"
     ]
    },
    {
     "name": "stderr",
     "output_type": "stream",
     "text": [
      "\r",
      " 39%|███▉      | 142/364 [03:04<03:55,  1.06s/it]"
     ]
    },
    {
     "name": "stderr",
     "output_type": "stream",
     "text": [
      "\r",
      " 39%|███▉      | 143/364 [03:05<03:44,  1.02s/it]"
     ]
    },
    {
     "name": "stderr",
     "output_type": "stream",
     "text": [
      "\r",
      " 40%|███▉      | 144/364 [03:06<03:44,  1.02s/it]"
     ]
    },
    {
     "name": "stderr",
     "output_type": "stream",
     "text": [
      "\r",
      " 40%|███▉      | 145/364 [03:07<04:04,  1.12s/it]"
     ]
    },
    {
     "name": "stderr",
     "output_type": "stream",
     "text": [
      "\r",
      " 40%|████      | 146/364 [03:09<04:13,  1.16s/it]"
     ]
    },
    {
     "name": "stderr",
     "output_type": "stream",
     "text": [
      "\r",
      " 40%|████      | 147/364 [03:10<04:13,  1.17s/it]"
     ]
    },
    {
     "name": "stderr",
     "output_type": "stream",
     "text": [
      "\r",
      " 41%|████      | 148/364 [03:11<04:45,  1.32s/it]"
     ]
    },
    {
     "name": "stderr",
     "output_type": "stream",
     "text": [
      "\r",
      " 41%|████      | 149/364 [03:13<04:49,  1.35s/it]"
     ]
    },
    {
     "name": "stderr",
     "output_type": "stream",
     "text": [
      "\r",
      " 41%|████      | 150/364 [03:14<04:39,  1.31s/it]"
     ]
    },
    {
     "name": "stderr",
     "output_type": "stream",
     "text": [
      "\r",
      " 41%|████▏     | 151/364 [03:15<04:31,  1.28s/it]"
     ]
    },
    {
     "name": "stderr",
     "output_type": "stream",
     "text": [
      "\r",
      " 42%|████▏     | 152/364 [03:16<03:45,  1.06s/it]"
     ]
    },
    {
     "name": "stderr",
     "output_type": "stream",
     "text": [
      "\r",
      " 42%|████▏     | 153/364 [03:16<03:13,  1.09it/s]"
     ]
    },
    {
     "name": "stderr",
     "output_type": "stream",
     "text": [
      "\r",
      " 42%|████▏     | 154/364 [03:18<03:39,  1.04s/it]"
     ]
    },
    {
     "name": "stderr",
     "output_type": "stream",
     "text": [
      "\r",
      " 43%|████▎     | 155/364 [03:19<03:51,  1.11s/it]"
     ]
    },
    {
     "name": "stderr",
     "output_type": "stream",
     "text": [
      "\r",
      " 43%|████▎     | 156/364 [03:20<03:16,  1.06it/s]"
     ]
    },
    {
     "name": "stderr",
     "output_type": "stream",
     "text": [
      "\r",
      " 43%|████▎     | 157/364 [03:21<03:37,  1.05s/it]"
     ]
    },
    {
     "name": "stderr",
     "output_type": "stream",
     "text": [
      "\r",
      " 43%|████▎     | 158/364 [03:22<03:47,  1.10s/it]"
     ]
    },
    {
     "name": "stderr",
     "output_type": "stream",
     "text": [
      "\r",
      " 44%|████▎     | 159/364 [03:23<03:12,  1.06it/s]"
     ]
    },
    {
     "name": "stderr",
     "output_type": "stream",
     "text": [
      "\r",
      " 44%|████▍     | 160/364 [03:24<03:28,  1.02s/it]"
     ]
    },
    {
     "name": "stderr",
     "output_type": "stream",
     "text": [
      "\r",
      " 44%|████▍     | 161/364 [03:25<03:57,  1.17s/it]"
     ]
    },
    {
     "name": "stderr",
     "output_type": "stream",
     "text": [
      "\r",
      " 45%|████▍     | 162/364 [03:27<04:09,  1.24s/it]"
     ]
    },
    {
     "name": "stderr",
     "output_type": "stream",
     "text": [
      "\r",
      " 45%|████▍     | 163/364 [03:28<04:06,  1.23s/it]"
     ]
    },
    {
     "name": "stderr",
     "output_type": "stream",
     "text": [
      "\r",
      " 45%|████▌     | 164/364 [03:29<03:25,  1.03s/it]"
     ]
    },
    {
     "name": "stderr",
     "output_type": "stream",
     "text": [
      "\r",
      " 45%|████▌     | 165/364 [03:30<03:37,  1.09s/it]"
     ]
    },
    {
     "name": "stderr",
     "output_type": "stream",
     "text": [
      "\r",
      " 46%|████▌     | 166/364 [03:31<03:28,  1.05s/it]"
     ]
    },
    {
     "name": "stderr",
     "output_type": "stream",
     "text": [
      "\r",
      " 46%|████▌     | 167/364 [03:32<03:37,  1.11s/it]"
     ]
    },
    {
     "name": "stderr",
     "output_type": "stream",
     "text": [
      "\r",
      " 46%|████▌     | 168/364 [03:33<03:48,  1.16s/it]"
     ]
    },
    {
     "name": "stderr",
     "output_type": "stream",
     "text": [
      "\r",
      " 46%|████▋     | 169/364 [03:35<03:51,  1.19s/it]"
     ]
    },
    {
     "name": "stderr",
     "output_type": "stream",
     "text": [
      "\r",
      " 47%|████▋     | 170/364 [03:36<04:09,  1.29s/it]"
     ]
    },
    {
     "name": "stderr",
     "output_type": "stream",
     "text": [
      "\r",
      " 47%|████▋     | 171/364 [03:38<04:20,  1.35s/it]"
     ]
    },
    {
     "name": "stderr",
     "output_type": "stream",
     "text": [
      "\r",
      " 47%|████▋     | 172/364 [03:39<04:27,  1.40s/it]"
     ]
    },
    {
     "name": "stderr",
     "output_type": "stream",
     "text": [
      "\r",
      " 48%|████▊     | 173/364 [03:40<03:39,  1.15s/it]"
     ]
    },
    {
     "name": "stderr",
     "output_type": "stream",
     "text": [
      "\r",
      " 48%|████▊     | 174/364 [03:41<03:46,  1.19s/it]"
     ]
    },
    {
     "name": "stderr",
     "output_type": "stream",
     "text": [
      "\r",
      " 48%|████▊     | 175/364 [03:42<03:46,  1.20s/it]"
     ]
    },
    {
     "name": "stderr",
     "output_type": "stream",
     "text": [
      "\r",
      " 48%|████▊     | 176/364 [03:43<03:49,  1.22s/it]"
     ]
    },
    {
     "name": "stderr",
     "output_type": "stream",
     "text": [
      "\r",
      " 49%|████▊     | 177/364 [03:44<03:11,  1.02s/it]"
     ]
    },
    {
     "name": "stderr",
     "output_type": "stream",
     "text": [
      "\r",
      " 49%|████▉     | 178/364 [03:45<02:49,  1.10it/s]"
     ]
    },
    {
     "name": "stderr",
     "output_type": "stream",
     "text": [
      "\r",
      " 49%|████▉     | 179/364 [03:46<03:16,  1.06s/it]"
     ]
    },
    {
     "name": "stderr",
     "output_type": "stream",
     "text": [
      "\r",
      " 49%|████▉     | 180/364 [03:48<03:40,  1.20s/it]"
     ]
    },
    {
     "name": "stderr",
     "output_type": "stream",
     "text": [
      "\r",
      " 50%|████▉     | 181/364 [03:49<03:48,  1.25s/it]"
     ]
    },
    {
     "name": "stderr",
     "output_type": "stream",
     "text": [
      "\r",
      " 50%|█████     | 182/364 [03:50<03:52,  1.28s/it]"
     ]
    },
    {
     "name": "stderr",
     "output_type": "stream",
     "text": [
      "\r",
      " 50%|█████     | 183/364 [03:51<03:21,  1.11s/it]"
     ]
    },
    {
     "name": "stderr",
     "output_type": "stream",
     "text": [
      "\r",
      " 51%|█████     | 184/364 [03:52<03:35,  1.20s/it]"
     ]
    },
    {
     "name": "stderr",
     "output_type": "stream",
     "text": [
      "\r",
      " 51%|█████     | 185/364 [03:53<03:00,  1.01s/it]"
     ]
    },
    {
     "name": "stderr",
     "output_type": "stream",
     "text": [
      "\r",
      " 51%|█████     | 186/364 [03:54<03:16,  1.10s/it]"
     ]
    },
    {
     "name": "stderr",
     "output_type": "stream",
     "text": [
      "\r",
      " 51%|█████▏    | 187/364 [03:56<03:39,  1.24s/it]"
     ]
    },
    {
     "name": "stderr",
     "output_type": "stream",
     "text": [
      "\r",
      " 52%|█████▏    | 188/364 [03:57<03:39,  1.25s/it]"
     ]
    },
    {
     "name": "stderr",
     "output_type": "stream",
     "text": [
      "\r",
      " 52%|█████▏    | 189/364 [03:58<03:45,  1.29s/it]"
     ]
    },
    {
     "name": "stderr",
     "output_type": "stream",
     "text": [
      "\r",
      " 52%|█████▏    | 190/364 [04:00<03:44,  1.29s/it]"
     ]
    },
    {
     "name": "stderr",
     "output_type": "stream",
     "text": [
      "\r",
      " 52%|█████▏    | 191/364 [04:01<03:49,  1.33s/it]"
     ]
    },
    {
     "name": "stderr",
     "output_type": "stream",
     "text": [
      "R[write to console]: Error in if (any(d < 0)) stop(\"distance argument must be nonnegative\") : \n",
      "  missing value where TRUE/FALSE needed\n",
      "\n"
     ]
    },
    {
     "name": "stderr",
     "output_type": "stream",
     "text": [
      "R[write to console]: Timing stopped at: 0.055 0 0.055\n",
      "\n"
     ]
    },
    {
     "name": "stderr",
     "output_type": "stream",
     "text": [
      "\r",
      " 53%|█████▎    | 192/364 [04:02<03:38,  1.27s/it]"
     ]
    },
    {
     "name": "stderr",
     "output_type": "stream",
     "text": [
      "\r",
      " 53%|█████▎    | 193/364 [04:04<03:35,  1.26s/it]"
     ]
    },
    {
     "name": "stderr",
     "output_type": "stream",
     "text": [
      "\r",
      " 53%|█████▎    | 194/364 [04:05<03:42,  1.31s/it]"
     ]
    },
    {
     "name": "stderr",
     "output_type": "stream",
     "text": [
      "\r",
      " 54%|█████▎    | 195/364 [04:07<03:59,  1.41s/it]"
     ]
    },
    {
     "name": "stderr",
     "output_type": "stream",
     "text": [
      "\r",
      " 54%|█████▍    | 196/364 [04:08<04:20,  1.55s/it]"
     ]
    },
    {
     "name": "stderr",
     "output_type": "stream",
     "text": [
      "\r",
      " 54%|█████▍    | 197/364 [04:10<04:05,  1.47s/it]"
     ]
    },
    {
     "name": "stderr",
     "output_type": "stream",
     "text": [
      "\r",
      " 54%|█████▍    | 198/364 [04:11<03:52,  1.40s/it]"
     ]
    },
    {
     "name": "stderr",
     "output_type": "stream",
     "text": [
      "\r",
      " 55%|█████▍    | 199/364 [04:12<03:53,  1.42s/it]"
     ]
    },
    {
     "name": "stderr",
     "output_type": "stream",
     "text": [
      "\r",
      " 55%|█████▍    | 200/364 [04:14<03:46,  1.38s/it]"
     ]
    },
    {
     "name": "stderr",
     "output_type": "stream",
     "text": [
      "\r",
      " 55%|█████▌    | 201/364 [04:15<03:43,  1.37s/it]"
     ]
    },
    {
     "name": "stderr",
     "output_type": "stream",
     "text": [
      "\r",
      " 55%|█████▌    | 202/364 [04:17<04:01,  1.49s/it]"
     ]
    },
    {
     "name": "stderr",
     "output_type": "stream",
     "text": [
      "\r",
      " 56%|█████▌    | 203/364 [04:18<03:52,  1.45s/it]"
     ]
    },
    {
     "name": "stderr",
     "output_type": "stream",
     "text": [
      "\r",
      " 56%|█████▌    | 204/364 [04:20<03:48,  1.43s/it]"
     ]
    },
    {
     "name": "stderr",
     "output_type": "stream",
     "text": [
      "\r",
      " 56%|█████▋    | 205/364 [04:21<03:45,  1.42s/it]"
     ]
    },
    {
     "name": "stderr",
     "output_type": "stream",
     "text": [
      "\r",
      " 57%|█████▋    | 206/364 [04:22<03:04,  1.17s/it]"
     ]
    },
    {
     "name": "stderr",
     "output_type": "stream",
     "text": [
      "\r",
      " 57%|█████▋    | 207/364 [04:23<03:32,  1.35s/it]"
     ]
    },
    {
     "name": "stderr",
     "output_type": "stream",
     "text": [
      "\r",
      " 57%|█████▋    | 208/364 [04:25<03:32,  1.36s/it]"
     ]
    },
    {
     "name": "stderr",
     "output_type": "stream",
     "text": [
      "\r",
      " 57%|█████▋    | 209/364 [04:26<03:30,  1.36s/it]"
     ]
    },
    {
     "name": "stderr",
     "output_type": "stream",
     "text": [
      "\r",
      " 58%|█████▊    | 210/364 [04:27<03:27,  1.35s/it]"
     ]
    },
    {
     "name": "stderr",
     "output_type": "stream",
     "text": [
      "\r",
      " 58%|█████▊    | 211/364 [04:29<03:22,  1.32s/it]"
     ]
    },
    {
     "name": "stderr",
     "output_type": "stream",
     "text": [
      "\r",
      " 58%|█████▊    | 212/364 [04:30<03:22,  1.33s/it]"
     ]
    },
    {
     "name": "stderr",
     "output_type": "stream",
     "text": [
      "\r",
      " 59%|█████▊    | 213/364 [04:31<03:11,  1.27s/it]"
     ]
    },
    {
     "name": "stderr",
     "output_type": "stream",
     "text": [
      "\r",
      " 59%|█████▉    | 214/364 [04:32<03:10,  1.27s/it]"
     ]
    },
    {
     "name": "stderr",
     "output_type": "stream",
     "text": [
      "\r",
      " 59%|█████▉    | 215/364 [04:34<03:13,  1.30s/it]"
     ]
    },
    {
     "name": "stderr",
     "output_type": "stream",
     "text": [
      "\r",
      " 59%|█████▉    | 216/364 [04:36<03:29,  1.42s/it]"
     ]
    },
    {
     "name": "stderr",
     "output_type": "stream",
     "text": [
      "\r",
      " 60%|█████▉    | 217/364 [04:37<03:30,  1.43s/it]"
     ]
    },
    {
     "name": "stderr",
     "output_type": "stream",
     "text": [
      "\r",
      " 60%|█████▉    | 218/364 [04:39<03:36,  1.49s/it]"
     ]
    },
    {
     "name": "stderr",
     "output_type": "stream",
     "text": [
      "\r",
      " 60%|██████    | 219/364 [04:40<03:32,  1.46s/it]"
     ]
    },
    {
     "name": "stderr",
     "output_type": "stream",
     "text": [
      "\r",
      " 60%|██████    | 220/364 [04:42<03:33,  1.48s/it]"
     ]
    },
    {
     "name": "stderr",
     "output_type": "stream",
     "text": [
      "\r",
      " 61%|██████    | 221/364 [04:43<03:36,  1.52s/it]"
     ]
    },
    {
     "name": "stderr",
     "output_type": "stream",
     "text": [
      "\r",
      " 61%|██████    | 222/364 [04:44<03:26,  1.45s/it]"
     ]
    },
    {
     "name": "stderr",
     "output_type": "stream",
     "text": [
      "\r",
      " 61%|██████▏   | 223/364 [04:45<02:54,  1.24s/it]"
     ]
    },
    {
     "name": "stderr",
     "output_type": "stream",
     "text": [
      "\r",
      " 62%|██████▏   | 224/364 [04:46<02:52,  1.23s/it]"
     ]
    },
    {
     "name": "stderr",
     "output_type": "stream",
     "text": [
      "\r",
      " 62%|██████▏   | 225/364 [04:48<02:55,  1.26s/it]"
     ]
    },
    {
     "name": "stderr",
     "output_type": "stream",
     "text": [
      "\r",
      " 62%|██████▏   | 226/364 [04:49<03:00,  1.31s/it]"
     ]
    },
    {
     "name": "stderr",
     "output_type": "stream",
     "text": [
      "\r",
      " 62%|██████▏   | 227/364 [04:50<02:30,  1.10s/it]"
     ]
    },
    {
     "name": "stderr",
     "output_type": "stream",
     "text": [
      "\r",
      " 63%|██████▎   | 228/364 [04:51<02:40,  1.18s/it]"
     ]
    },
    {
     "name": "stderr",
     "output_type": "stream",
     "text": [
      "\r",
      " 63%|██████▎   | 229/364 [04:53<02:52,  1.28s/it]"
     ]
    },
    {
     "name": "stderr",
     "output_type": "stream",
     "text": [
      "\r",
      " 63%|██████▎   | 230/364 [04:54<02:39,  1.19s/it]"
     ]
    },
    {
     "name": "stderr",
     "output_type": "stream",
     "text": [
      "\r",
      " 63%|██████▎   | 231/364 [04:55<02:46,  1.25s/it]"
     ]
    },
    {
     "name": "stderr",
     "output_type": "stream",
     "text": [
      "\r",
      " 64%|██████▎   | 232/364 [04:56<02:21,  1.07s/it]"
     ]
    },
    {
     "name": "stderr",
     "output_type": "stream",
     "text": [
      "\r",
      " 64%|██████▍   | 233/364 [04:57<02:33,  1.17s/it]"
     ]
    },
    {
     "name": "stderr",
     "output_type": "stream",
     "text": [
      "\r",
      " 64%|██████▍   | 234/364 [04:59<02:48,  1.29s/it]"
     ]
    },
    {
     "name": "stderr",
     "output_type": "stream",
     "text": [
      "\r",
      " 65%|██████▍   | 235/364 [05:00<03:08,  1.46s/it]"
     ]
    },
    {
     "name": "stderr",
     "output_type": "stream",
     "text": [
      "\r",
      " 65%|██████▍   | 236/364 [05:02<03:09,  1.48s/it]"
     ]
    },
    {
     "name": "stderr",
     "output_type": "stream",
     "text": [
      "\r",
      " 65%|██████▌   | 237/364 [05:04<03:13,  1.52s/it]"
     ]
    },
    {
     "name": "stderr",
     "output_type": "stream",
     "text": [
      "\r",
      " 65%|██████▌   | 238/364 [05:05<03:07,  1.49s/it]"
     ]
    },
    {
     "name": "stderr",
     "output_type": "stream",
     "text": [
      "\r",
      " 66%|██████▌   | 239/364 [05:06<02:48,  1.35s/it]"
     ]
    },
    {
     "name": "stderr",
     "output_type": "stream",
     "text": [
      "\r",
      " 66%|██████▌   | 240/364 [05:08<02:52,  1.39s/it]"
     ]
    },
    {
     "name": "stderr",
     "output_type": "stream",
     "text": [
      "\r",
      " 66%|██████▌   | 241/364 [05:09<02:51,  1.40s/it]"
     ]
    },
    {
     "name": "stderr",
     "output_type": "stream",
     "text": [
      "\r",
      " 66%|██████▋   | 242/364 [05:10<02:52,  1.41s/it]"
     ]
    },
    {
     "name": "stderr",
     "output_type": "stream",
     "text": [
      "\r",
      " 67%|██████▋   | 243/364 [05:12<02:41,  1.33s/it]"
     ]
    },
    {
     "name": "stderr",
     "output_type": "stream",
     "text": [
      "\r",
      " 67%|██████▋   | 244/364 [05:13<02:58,  1.49s/it]"
     ]
    },
    {
     "name": "stderr",
     "output_type": "stream",
     "text": [
      "\r",
      " 67%|██████▋   | 245/364 [05:15<03:00,  1.51s/it]"
     ]
    },
    {
     "name": "stderr",
     "output_type": "stream",
     "text": [
      "\r",
      " 68%|██████▊   | 246/364 [05:16<02:50,  1.44s/it]"
     ]
    },
    {
     "name": "stderr",
     "output_type": "stream",
     "text": [
      "\r",
      " 68%|██████▊   | 247/364 [05:18<02:50,  1.46s/it]"
     ]
    },
    {
     "name": "stderr",
     "output_type": "stream",
     "text": [
      "\r",
      " 68%|██████▊   | 248/364 [05:19<02:44,  1.42s/it]"
     ]
    },
    {
     "name": "stderr",
     "output_type": "stream",
     "text": [
      "\r",
      " 68%|██████▊   | 249/364 [05:21<02:56,  1.54s/it]"
     ]
    },
    {
     "name": "stderr",
     "output_type": "stream",
     "text": [
      "\r",
      " 69%|██████▊   | 250/364 [05:23<03:02,  1.60s/it]"
     ]
    },
    {
     "name": "stderr",
     "output_type": "stream",
     "text": [
      "\r",
      " 69%|██████▉   | 251/364 [05:24<02:58,  1.58s/it]"
     ]
    },
    {
     "name": "stderr",
     "output_type": "stream",
     "text": [
      "\r",
      " 69%|██████▉   | 252/364 [05:25<02:48,  1.50s/it]"
     ]
    },
    {
     "name": "stderr",
     "output_type": "stream",
     "text": [
      "\r",
      " 70%|██████▉   | 253/364 [05:27<02:41,  1.46s/it]"
     ]
    },
    {
     "name": "stderr",
     "output_type": "stream",
     "text": [
      "\r",
      " 70%|██████▉   | 254/364 [05:28<02:44,  1.50s/it]"
     ]
    },
    {
     "name": "stderr",
     "output_type": "stream",
     "text": [
      "\r",
      " 70%|███████   | 255/364 [05:30<02:45,  1.52s/it]"
     ]
    },
    {
     "name": "stderr",
     "output_type": "stream",
     "text": [
      "\r",
      " 70%|███████   | 256/364 [05:31<02:38,  1.47s/it]"
     ]
    },
    {
     "name": "stderr",
     "output_type": "stream",
     "text": [
      "\r",
      " 71%|███████   | 257/364 [05:33<02:34,  1.44s/it]"
     ]
    },
    {
     "name": "stderr",
     "output_type": "stream",
     "text": [
      "\r",
      " 71%|███████   | 258/364 [05:34<02:28,  1.40s/it]"
     ]
    },
    {
     "name": "stderr",
     "output_type": "stream",
     "text": [
      "\r",
      " 71%|███████   | 259/364 [05:36<02:31,  1.45s/it]"
     ]
    },
    {
     "name": "stderr",
     "output_type": "stream",
     "text": [
      "\r",
      " 71%|███████▏  | 260/364 [05:37<02:26,  1.41s/it]"
     ]
    },
    {
     "name": "stderr",
     "output_type": "stream",
     "text": [
      "\r",
      " 72%|███████▏  | 261/364 [05:38<02:26,  1.42s/it]"
     ]
    },
    {
     "name": "stderr",
     "output_type": "stream",
     "text": [
      "\r",
      " 72%|███████▏  | 262/364 [05:40<02:22,  1.39s/it]"
     ]
    },
    {
     "name": "stderr",
     "output_type": "stream",
     "text": [
      "\r",
      " 72%|███████▏  | 263/364 [05:41<02:06,  1.26s/it]"
     ]
    },
    {
     "name": "stderr",
     "output_type": "stream",
     "text": [
      "\r",
      " 73%|███████▎  | 264/364 [05:42<02:05,  1.25s/it]"
     ]
    },
    {
     "name": "stderr",
     "output_type": "stream",
     "text": [
      "\r",
      " 73%|███████▎  | 265/364 [05:43<02:10,  1.32s/it]"
     ]
    },
    {
     "name": "stderr",
     "output_type": "stream",
     "text": [
      "\r",
      " 73%|███████▎  | 266/364 [05:45<02:10,  1.34s/it]"
     ]
    },
    {
     "name": "stderr",
     "output_type": "stream",
     "text": [
      "\r",
      " 73%|███████▎  | 267/364 [05:46<02:20,  1.45s/it]"
     ]
    },
    {
     "name": "stderr",
     "output_type": "stream",
     "text": [
      "\r",
      " 74%|███████▎  | 268/364 [05:48<02:24,  1.51s/it]"
     ]
    },
    {
     "name": "stderr",
     "output_type": "stream",
     "text": [
      "\r",
      " 74%|███████▍  | 269/364 [05:49<02:18,  1.46s/it]"
     ]
    },
    {
     "name": "stderr",
     "output_type": "stream",
     "text": [
      "\r",
      " 74%|███████▍  | 270/364 [05:51<02:22,  1.51s/it]"
     ]
    },
    {
     "name": "stderr",
     "output_type": "stream",
     "text": [
      "\r",
      " 74%|███████▍  | 271/364 [05:52<02:09,  1.39s/it]"
     ]
    },
    {
     "name": "stderr",
     "output_type": "stream",
     "text": [
      "\r",
      " 75%|███████▍  | 272/364 [05:53<02:05,  1.36s/it]"
     ]
    },
    {
     "name": "stderr",
     "output_type": "stream",
     "text": [
      "\r",
      " 75%|███████▌  | 273/364 [05:55<02:08,  1.42s/it]"
     ]
    },
    {
     "name": "stderr",
     "output_type": "stream",
     "text": [
      "\r",
      " 75%|███████▌  | 274/364 [05:56<02:08,  1.43s/it]"
     ]
    },
    {
     "name": "stderr",
     "output_type": "stream",
     "text": [
      "\r",
      " 76%|███████▌  | 275/364 [05:58<02:06,  1.42s/it]"
     ]
    },
    {
     "name": "stderr",
     "output_type": "stream",
     "text": [
      "\r",
      " 76%|███████▌  | 276/364 [05:59<02:00,  1.37s/it]"
     ]
    },
    {
     "name": "stderr",
     "output_type": "stream",
     "text": [
      "\r",
      " 76%|███████▌  | 277/364 [06:00<01:54,  1.31s/it]"
     ]
    },
    {
     "name": "stderr",
     "output_type": "stream",
     "text": [
      "\r",
      " 76%|███████▋  | 278/364 [06:02<01:58,  1.38s/it]"
     ]
    },
    {
     "name": "stderr",
     "output_type": "stream",
     "text": [
      "\r",
      " 77%|███████▋  | 279/364 [06:03<01:51,  1.31s/it]"
     ]
    },
    {
     "name": "stderr",
     "output_type": "stream",
     "text": [
      "\r",
      " 77%|███████▋  | 280/364 [06:04<01:51,  1.33s/it]"
     ]
    },
    {
     "name": "stderr",
     "output_type": "stream",
     "text": [
      "\r",
      " 77%|███████▋  | 281/364 [06:06<01:51,  1.34s/it]"
     ]
    },
    {
     "name": "stderr",
     "output_type": "stream",
     "text": [
      "\r",
      " 77%|███████▋  | 282/364 [06:07<01:52,  1.38s/it]"
     ]
    },
    {
     "name": "stderr",
     "output_type": "stream",
     "text": [
      "\r",
      " 78%|███████▊  | 283/364 [06:09<02:00,  1.48s/it]"
     ]
    },
    {
     "name": "stderr",
     "output_type": "stream",
     "text": [
      "\r",
      " 78%|███████▊  | 284/364 [06:11<02:08,  1.60s/it]"
     ]
    },
    {
     "name": "stderr",
     "output_type": "stream",
     "text": [
      "\r",
      " 78%|███████▊  | 285/364 [06:12<01:59,  1.51s/it]"
     ]
    },
    {
     "name": "stderr",
     "output_type": "stream",
     "text": [
      "\r",
      " 79%|███████▊  | 286/364 [06:14<01:55,  1.49s/it]"
     ]
    },
    {
     "name": "stderr",
     "output_type": "stream",
     "text": [
      "\r",
      " 79%|███████▉  | 287/364 [06:15<01:57,  1.52s/it]"
     ]
    },
    {
     "name": "stderr",
     "output_type": "stream",
     "text": [
      "\r",
      " 79%|███████▉  | 288/364 [06:16<01:52,  1.48s/it]"
     ]
    },
    {
     "name": "stderr",
     "output_type": "stream",
     "text": [
      "\r",
      " 79%|███████▉  | 289/364 [06:18<01:56,  1.55s/it]"
     ]
    },
    {
     "name": "stderr",
     "output_type": "stream",
     "text": [
      "\r",
      " 80%|███████▉  | 290/364 [06:20<01:52,  1.52s/it]"
     ]
    },
    {
     "name": "stderr",
     "output_type": "stream",
     "text": [
      "\r",
      " 80%|███████▉  | 291/364 [06:21<01:49,  1.50s/it]"
     ]
    },
    {
     "name": "stderr",
     "output_type": "stream",
     "text": [
      "\r",
      " 80%|████████  | 292/364 [06:23<01:48,  1.51s/it]"
     ]
    },
    {
     "name": "stderr",
     "output_type": "stream",
     "text": [
      "\r",
      " 80%|████████  | 293/364 [06:24<01:39,  1.40s/it]"
     ]
    },
    {
     "name": "stderr",
     "output_type": "stream",
     "text": [
      "\r",
      " 81%|████████  | 294/364 [06:25<01:42,  1.46s/it]"
     ]
    },
    {
     "name": "stderr",
     "output_type": "stream",
     "text": [
      "\r",
      " 81%|████████  | 295/364 [06:27<01:36,  1.39s/it]"
     ]
    },
    {
     "name": "stderr",
     "output_type": "stream",
     "text": [
      "\r",
      " 81%|████████▏ | 296/364 [06:28<01:43,  1.52s/it]"
     ]
    },
    {
     "name": "stderr",
     "output_type": "stream",
     "text": [
      "\r",
      " 82%|████████▏ | 297/364 [06:30<01:40,  1.50s/it]"
     ]
    },
    {
     "name": "stderr",
     "output_type": "stream",
     "text": [
      "\r",
      " 82%|████████▏ | 298/364 [06:32<01:44,  1.59s/it]"
     ]
    },
    {
     "name": "stderr",
     "output_type": "stream",
     "text": [
      "\r",
      " 82%|████████▏ | 299/364 [06:33<01:36,  1.48s/it]"
     ]
    },
    {
     "name": "stderr",
     "output_type": "stream",
     "text": [
      "\r",
      " 82%|████████▏ | 300/364 [06:34<01:31,  1.43s/it]"
     ]
    },
    {
     "name": "stderr",
     "output_type": "stream",
     "text": [
      "\r",
      " 83%|████████▎ | 301/364 [06:36<01:32,  1.46s/it]"
     ]
    },
    {
     "name": "stderr",
     "output_type": "stream",
     "text": [
      "\r",
      " 83%|████████▎ | 302/364 [06:37<01:26,  1.40s/it]"
     ]
    },
    {
     "name": "stderr",
     "output_type": "stream",
     "text": [
      "\r",
      " 83%|████████▎ | 303/364 [06:38<01:26,  1.41s/it]"
     ]
    },
    {
     "name": "stderr",
     "output_type": "stream",
     "text": [
      "\r",
      " 84%|████████▎ | 304/364 [06:40<01:26,  1.44s/it]"
     ]
    },
    {
     "name": "stderr",
     "output_type": "stream",
     "text": [
      "\r",
      " 84%|████████▍ | 305/364 [06:42<01:28,  1.50s/it]"
     ]
    },
    {
     "name": "stderr",
     "output_type": "stream",
     "text": [
      "\r",
      " 84%|████████▍ | 306/364 [06:43<01:31,  1.57s/it]"
     ]
    },
    {
     "name": "stderr",
     "output_type": "stream",
     "text": [
      "\r",
      " 84%|████████▍ | 307/364 [06:45<01:26,  1.52s/it]"
     ]
    },
    {
     "name": "stderr",
     "output_type": "stream",
     "text": [
      "\r",
      " 85%|████████▍ | 308/364 [06:46<01:22,  1.47s/it]"
     ]
    },
    {
     "name": "stderr",
     "output_type": "stream",
     "text": [
      "\r",
      " 85%|████████▍ | 309/364 [06:48<01:20,  1.47s/it]"
     ]
    },
    {
     "name": "stderr",
     "output_type": "stream",
     "text": [
      "\r",
      " 85%|████████▌ | 310/364 [06:49<01:16,  1.42s/it]"
     ]
    },
    {
     "name": "stderr",
     "output_type": "stream",
     "text": [
      "\r",
      " 85%|████████▌ | 311/364 [06:50<01:11,  1.35s/it]"
     ]
    },
    {
     "name": "stderr",
     "output_type": "stream",
     "text": [
      "\r",
      " 86%|████████▌ | 312/364 [06:52<01:11,  1.38s/it]"
     ]
    },
    {
     "name": "stderr",
     "output_type": "stream",
     "text": [
      "\r",
      " 86%|████████▌ | 313/364 [06:54<01:21,  1.59s/it]"
     ]
    },
    {
     "name": "stderr",
     "output_type": "stream",
     "text": [
      "\r",
      " 86%|████████▋ | 314/364 [06:55<01:21,  1.63s/it]"
     ]
    },
    {
     "name": "stderr",
     "output_type": "stream",
     "text": [
      "\r",
      " 87%|████████▋ | 315/364 [06:56<01:13,  1.49s/it]"
     ]
    },
    {
     "name": "stderr",
     "output_type": "stream",
     "text": [
      "\r",
      " 87%|████████▋ | 316/364 [06:58<01:10,  1.46s/it]"
     ]
    },
    {
     "name": "stderr",
     "output_type": "stream",
     "text": [
      "\r",
      " 87%|████████▋ | 317/364 [06:59<01:08,  1.47s/it]"
     ]
    },
    {
     "name": "stderr",
     "output_type": "stream",
     "text": [
      "\r",
      " 87%|████████▋ | 318/364 [07:01<01:04,  1.40s/it]"
     ]
    },
    {
     "name": "stderr",
     "output_type": "stream",
     "text": [
      "\r",
      " 88%|████████▊ | 319/364 [07:02<00:59,  1.32s/it]"
     ]
    },
    {
     "name": "stderr",
     "output_type": "stream",
     "text": [
      "\r",
      " 88%|████████▊ | 320/364 [07:03<00:55,  1.27s/it]"
     ]
    },
    {
     "name": "stderr",
     "output_type": "stream",
     "text": [
      "\r",
      " 88%|████████▊ | 321/364 [07:04<00:57,  1.35s/it]"
     ]
    },
    {
     "name": "stderr",
     "output_type": "stream",
     "text": [
      "\r",
      " 88%|████████▊ | 322/364 [07:06<01:00,  1.45s/it]"
     ]
    },
    {
     "name": "stderr",
     "output_type": "stream",
     "text": [
      "\r",
      " 89%|████████▊ | 323/364 [07:08<01:01,  1.50s/it]"
     ]
    },
    {
     "name": "stderr",
     "output_type": "stream",
     "text": [
      "\r",
      " 89%|████████▉ | 324/364 [07:09<00:59,  1.49s/it]"
     ]
    },
    {
     "name": "stderr",
     "output_type": "stream",
     "text": [
      "\r",
      " 89%|████████▉ | 325/364 [07:12<01:10,  1.80s/it]"
     ]
    },
    {
     "name": "stderr",
     "output_type": "stream",
     "text": [
      "\r",
      " 90%|████████▉ | 326/364 [07:13<01:07,  1.78s/it]"
     ]
    },
    {
     "name": "stderr",
     "output_type": "stream",
     "text": [
      "\r",
      " 90%|████████▉ | 327/364 [07:15<01:04,  1.73s/it]"
     ]
    },
    {
     "name": "stderr",
     "output_type": "stream",
     "text": [
      "\r",
      " 90%|█████████ | 328/364 [07:17<01:01,  1.72s/it]"
     ]
    },
    {
     "name": "stderr",
     "output_type": "stream",
     "text": [
      "\r",
      " 90%|█████████ | 329/364 [07:18<00:57,  1.64s/it]"
     ]
    },
    {
     "name": "stderr",
     "output_type": "stream",
     "text": [
      "\r",
      " 91%|█████████ | 330/364 [07:21<01:02,  1.85s/it]"
     ]
    },
    {
     "name": "stderr",
     "output_type": "stream",
     "text": [
      "\r",
      " 91%|█████████ | 331/364 [07:22<00:57,  1.75s/it]"
     ]
    },
    {
     "name": "stderr",
     "output_type": "stream",
     "text": [
      "\r",
      " 91%|█████████ | 332/364 [07:24<00:55,  1.73s/it]"
     ]
    },
    {
     "name": "stderr",
     "output_type": "stream",
     "text": [
      "\r",
      " 91%|█████████▏| 333/364 [07:26<00:55,  1.79s/it]"
     ]
    },
    {
     "name": "stderr",
     "output_type": "stream",
     "text": [
      "\r",
      " 92%|█████████▏| 334/364 [07:28<00:54,  1.82s/it]"
     ]
    },
    {
     "name": "stderr",
     "output_type": "stream",
     "text": [
      "\r",
      " 92%|█████████▏| 335/364 [07:29<00:46,  1.59s/it]"
     ]
    },
    {
     "name": "stderr",
     "output_type": "stream",
     "text": [
      "\r",
      " 92%|█████████▏| 336/364 [07:31<00:48,  1.72s/it]"
     ]
    },
    {
     "name": "stderr",
     "output_type": "stream",
     "text": [
      "\r",
      " 93%|█████████▎| 337/364 [07:32<00:44,  1.64s/it]"
     ]
    },
    {
     "name": "stderr",
     "output_type": "stream",
     "text": [
      "\r",
      " 93%|█████████▎| 338/364 [07:34<00:45,  1.74s/it]"
     ]
    },
    {
     "name": "stderr",
     "output_type": "stream",
     "text": [
      "\r",
      " 93%|█████████▎| 339/364 [07:36<00:43,  1.74s/it]"
     ]
    },
    {
     "name": "stderr",
     "output_type": "stream",
     "text": [
      "\r",
      " 93%|█████████▎| 340/364 [07:38<00:41,  1.72s/it]"
     ]
    },
    {
     "name": "stderr",
     "output_type": "stream",
     "text": [
      "\r",
      " 94%|█████████▎| 341/364 [07:39<00:40,  1.77s/it]"
     ]
    },
    {
     "name": "stderr",
     "output_type": "stream",
     "text": [
      "\r",
      " 94%|█████████▍| 342/364 [07:41<00:38,  1.77s/it]"
     ]
    },
    {
     "name": "stderr",
     "output_type": "stream",
     "text": [
      "\r",
      " 94%|█████████▍| 343/364 [07:42<00:34,  1.63s/it]"
     ]
    },
    {
     "name": "stderr",
     "output_type": "stream",
     "text": [
      "\r",
      " 95%|█████████▍| 344/364 [07:44<00:34,  1.71s/it]"
     ]
    },
    {
     "name": "stderr",
     "output_type": "stream",
     "text": [
      "\r",
      " 95%|█████████▍| 345/364 [07:47<00:36,  1.92s/it]"
     ]
    },
    {
     "name": "stderr",
     "output_type": "stream",
     "text": [
      "\r",
      " 95%|█████████▌| 346/364 [07:48<00:29,  1.63s/it]"
     ]
    },
    {
     "name": "stderr",
     "output_type": "stream",
     "text": [
      "\r",
      " 95%|█████████▌| 347/364 [07:51<00:33,  1.98s/it]"
     ]
    },
    {
     "name": "stderr",
     "output_type": "stream",
     "text": [
      "\r",
      " 96%|█████████▌| 348/364 [07:51<00:26,  1.65s/it]"
     ]
    },
    {
     "name": "stderr",
     "output_type": "stream",
     "text": [
      "\r",
      " 96%|█████████▌| 349/364 [07:54<00:28,  1.91s/it]"
     ]
    },
    {
     "name": "stderr",
     "output_type": "stream",
     "text": [
      "\r",
      " 96%|█████████▌| 350/364 [07:55<00:24,  1.78s/it]"
     ]
    },
    {
     "name": "stderr",
     "output_type": "stream",
     "text": [
      "\r",
      " 96%|█████████▋| 351/364 [07:57<00:22,  1.76s/it]"
     ]
    },
    {
     "name": "stderr",
     "output_type": "stream",
     "text": [
      "\r",
      " 97%|█████████▋| 352/364 [07:59<00:21,  1.77s/it]"
     ]
    },
    {
     "name": "stderr",
     "output_type": "stream",
     "text": [
      "\r",
      " 97%|█████████▋| 353/364 [08:01<00:21,  1.94s/it]"
     ]
    },
    {
     "name": "stderr",
     "output_type": "stream",
     "text": [
      "\r",
      " 97%|█████████▋| 354/364 [08:03<00:18,  1.89s/it]"
     ]
    },
    {
     "name": "stderr",
     "output_type": "stream",
     "text": [
      "\r",
      " 98%|█████████▊| 355/364 [08:05<00:17,  2.00s/it]"
     ]
    },
    {
     "name": "stderr",
     "output_type": "stream",
     "text": [
      "\r",
      " 98%|█████████▊| 356/364 [08:08<00:17,  2.17s/it]"
     ]
    },
    {
     "name": "stderr",
     "output_type": "stream",
     "text": [
      "\r",
      " 98%|█████████▊| 357/364 [08:09<00:13,  2.00s/it]"
     ]
    },
    {
     "name": "stderr",
     "output_type": "stream",
     "text": [
      "\r",
      " 98%|█████████▊| 358/364 [08:11<00:12,  2.02s/it]"
     ]
    },
    {
     "name": "stderr",
     "output_type": "stream",
     "text": [
      "\r",
      " 99%|█████████▊| 359/364 [08:14<00:10,  2.13s/it]"
     ]
    },
    {
     "name": "stderr",
     "output_type": "stream",
     "text": [
      "\r",
      " 99%|█████████▉| 360/364 [08:16<00:08,  2.22s/it]"
     ]
    },
    {
     "name": "stderr",
     "output_type": "stream",
     "text": [
      "\r",
      " 99%|█████████▉| 361/364 [08:19<00:06,  2.32s/it]"
     ]
    },
    {
     "name": "stderr",
     "output_type": "stream",
     "text": [
      "\r",
      " 99%|█████████▉| 362/364 [08:21<00:04,  2.32s/it]"
     ]
    },
    {
     "name": "stderr",
     "output_type": "stream",
     "text": [
      "\r",
      "100%|█████████▉| 363/364 [08:24<00:02,  2.49s/it]"
     ]
    },
    {
     "name": "stderr",
     "output_type": "stream",
     "text": [
      "\r",
      "100%|██████████| 364/364 [08:26<00:00,  2.42s/it]"
     ]
    },
    {
     "name": "stderr",
     "output_type": "stream",
     "text": [
      "\r",
      "100%|██████████| 364/364 [08:29<00:00,  1.40s/it]"
     ]
    },
    {
     "name": "stderr",
     "output_type": "stream",
     "text": [
      "\n"
     ]
    }
   ],
   "source": [
    "ratio_field = rkrig_r(df_south, 30, ds, station_dv)\n",
    "ratio_field[~mask] = np.nan"
   ]
  },
  {
   "cell_type": "markdown",
   "metadata": {
    "papermill": {
     "duration": 0.101449,
     "end_time": "2020-12-18T21:15:39.963731",
     "exception": false,
     "start_time": "2020-12-18T21:15:39.862282",
     "status": "completed"
    },
    "tags": []
   },
   "source": [
    "Select the UAA strip to sample the reconstruction values from."
   ]
  },
  {
   "cell_type": "code",
   "execution_count": 12,
   "metadata": {
    "execution": {
     "iopub.execute_input": "2020-12-18T21:15:40.178790Z",
     "iopub.status.busy": "2020-12-18T21:15:40.178378Z",
     "iopub.status.idle": "2020-12-18T21:15:40.226845Z",
     "shell.execute_reply": "2020-12-18T21:15:40.227573Z"
    },
    "papermill": {
     "duration": 0.164239,
     "end_time": "2020-12-18T21:15:40.227874",
     "exception": false,
     "start_time": "2020-12-18T21:15:40.063635",
     "status": "completed"
    },
    "tags": []
   },
   "outputs": [],
   "source": [
    "selection = ~np.isnan(ds[dv].where((ds.lat > 72.) & (ds.lat < 73) & (ds.lon - 360 < -75) & (ds.lon - 360 > -127)))"
   ]
  },
  {
   "cell_type": "markdown",
   "metadata": {
    "papermill": {
     "duration": 0.095498,
     "end_time": "2020-12-18T21:15:40.421813",
     "exception": false,
     "start_time": "2020-12-18T21:15:40.326315",
     "status": "completed"
    },
    "tags": []
   },
   "source": [
    "Fill and reconstruct the ratio field."
   ]
  },
  {
   "cell_type": "code",
   "execution_count": 13,
   "metadata": {
    "execution": {
     "iopub.execute_input": "2020-12-18T21:15:40.626467Z",
     "iopub.status.busy": "2020-12-18T21:15:40.625718Z",
     "iopub.status.idle": "2020-12-18T21:15:48.220521Z",
     "shell.execute_reply": "2020-12-18T21:15:48.219935Z"
    },
    "papermill": {
     "duration": 7.707065,
     "end_time": "2020-12-18T21:15:48.220774",
     "exception": false,
     "start_time": "2020-12-18T21:15:40.513709",
     "status": "completed"
    },
    "tags": []
   },
   "outputs": [],
   "source": [
    "nanmask = ~np.isnan(ratio_field)\n",
    "\n",
    "points = np.stack([rlon[nanmask], rlat[nanmask]]).T\n",
    "target_points = np.stack([rlon[nanmask^mask], rlat[nanmask^mask]]).T\n",
    "\n",
    "# We treat TJul2.5 and TwJul2.5 slightly differently than the other DVs\n",
    "# since an artefact appears in SW Yukon in the CanRCM4 models. Since\n",
    "# stations happen to be close to coastlines for this DV, we directly\n",
    "# fill with the nearest reconstructed value, as opposed to the ratio value for \n",
    "# the remaining DVs\n",
    "if station_dv == \"TJul2.5 (degC)\" or station_dv == \"TwJul2.5 (degC)\":\n",
    "    reconstructed_field = ratio_field*mean_corrected.copy()\n",
    "    target_values = reconstructed_field[nanmask]\n",
    "    reconstructed_field[nanmask^mask] = interpolate_dataset(points, target_values, target_points, 'nearest')\n",
    "else:\n",
    "    target_values = ratio_field[nanmask]\n",
    "    ratio_field[nanmask^mask] = interpolate_dataset(points, target_values, target_points, 'nearest')\n",
    "    reconstructed_field = ratio_field*mean_corrected.copy()\n",
    "\n",
    "reconstructed_field_strip_mean = np.nanmean(reconstructed_field[selection])\n",
    "combined_ratio_station_mean = np.mean([reconstructed_field_strip_mean, UAA_station_mean])\n",
    "reconstructed_field[northern_mask] = combined_ratio_station_mean"
   ]
  },
  {
   "cell_type": "markdown",
   "metadata": {
    "papermill": {
     "duration": 0.135018,
     "end_time": "2020-12-18T21:15:48.474828",
     "exception": false,
     "start_time": "2020-12-18T21:15:48.339810",
     "status": "completed"
    },
    "tags": []
   },
   "source": [
    "Compare kriged ratio values at station grids, with the original ratio values at station krids"
   ]
  },
  {
   "cell_type": "code",
   "execution_count": 14,
   "metadata": {
    "execution": {
     "iopub.execute_input": "2020-12-18T21:15:48.689018Z",
     "iopub.status.busy": "2020-12-18T21:15:48.688386Z",
     "iopub.status.idle": "2020-12-18T21:15:48.966200Z",
     "shell.execute_reply": "2020-12-18T21:15:48.966896Z"
    },
    "papermill": {
     "duration": 0.396087,
     "end_time": "2020-12-18T21:15:48.967183",
     "exception": false,
     "start_time": "2020-12-18T21:15:48.571096",
     "status": "completed"
    },
    "tags": []
   },
   "outputs": [
    {
     "data": {
      "text/plain": [
       "<AxesSubplot:title={'center':'WP50 Distributions of Results'}, xlabel='Ratios at Station Grid Cells (i)'>"
      ]
     },
     "execution_count": 14,
     "metadata": {},
     "output_type": "execute_result"
    },
    {
     "data": {
      "image/png": "[encoded data removed]",
      "text/plain": [
       "<Figure size 576x324 with 1 Axes>"
      ]
     },
     "metadata": {},
     "output_type": "display_data"
    }
   ],
   "source": [
    "import seaborn as sns\n",
    "\n",
    "sns.set_theme(style=\"whitegrid\")\n",
    "\n",
    "fig, ax = plt.subplots(figsize=(8, 4.5))\n",
    "\n",
    "violindata = np.concatenate([df.ratio, ratio_field[df.irlat, df.irlon]])\n",
    "\n",
    "b_str = [\"B\" for x in df.ratio.values]\n",
    "bp_str = [\"B'\" for x in ratio_field[df.irlat, df.irlon]]\n",
    "\n",
    "vstrings = np.concatenate([b_str, bp_str])\n",
    "vdf = pd.DataFrame({\"Ratios at Station Grid Cells (i)\": violindata, '': vstrings})\n",
    "\n",
    "ax.set_title(f\"{name} Distributions of Results\", fontsize=20)\n",
    "sns.violinplot(ax=ax, x=\"Ratios at Station Grid Cells (i)\", y='', data=vdf, palette=sns.color_palette('pastel'))"
   ]
  },
  {
   "cell_type": "markdown",
   "metadata": {
    "papermill": {
     "duration": 0.093096,
     "end_time": "2020-12-18T21:15:49.174823",
     "exception": false,
     "start_time": "2020-12-18T21:15:49.081727",
     "status": "completed"
    },
    "tags": []
   },
   "source": [
    "Summarize reconstruction stats"
   ]
  },
  {
   "cell_type": "code",
   "execution_count": 15,
   "metadata": {
    "execution": {
     "iopub.execute_input": "2020-12-18T21:15:49.373691Z",
     "iopub.status.busy": "2020-12-18T21:15:49.373286Z",
     "iopub.status.idle": "2020-12-18T21:15:49.394399Z",
     "shell.execute_reply": "2020-12-18T21:15:49.395095Z"
    },
    "papermill": {
     "duration": 0.129476,
     "end_time": "2020-12-18T21:15:49.395367",
     "exception": false,
     "start_time": "2020-12-18T21:15:49.265891",
     "status": "completed"
    },
    "tags": []
   },
   "outputs": [
    {
     "name": "stdout",
     "output_type": "stream",
     "text": [
      "Northern fill value:\n",
      "Reconstruction 0.472659022758354 \n",
      "UAA_station_mean 0.6006666666666666 \n",
      "Combined 0.5366628447125102\n"
     ]
    }
   ],
   "source": [
    "print(\n",
    "    \"Northern fill value:\"\n",
    "    \"\\n\"\n",
    "    \"Reconstruction\", reconstructed_field_strip_mean,\n",
    "    \"\\n\"\n",
    "    \"UAA_station_mean\", UAA_station_mean,\n",
    "    \"\\n\"\n",
    "    \"Combined\", combined_ratio_station_mean\n",
    ")"
   ]
  },
  {
   "cell_type": "markdown",
   "metadata": {
    "papermill": {
     "duration": 0.102338,
     "end_time": "2020-12-18T21:15:49.595049",
     "exception": false,
     "start_time": "2020-12-18T21:15:49.492711",
     "status": "completed"
    },
    "tags": []
   },
   "source": [
    "Convert back to degC if K was used in previous steps. Generate dataset."
   ]
  },
  {
   "cell_type": "code",
   "execution_count": 16,
   "metadata": {
    "execution": {
     "iopub.execute_input": "2020-12-18T21:15:49.794768Z",
     "iopub.status.busy": "2020-12-18T21:15:49.794206Z",
     "iopub.status.idle": "2020-12-18T21:15:49.818045Z",
     "shell.execute_reply": "2020-12-18T21:15:49.817294Z"
    },
    "papermill": {
     "duration": 0.126714,
     "end_time": "2020-12-18T21:15:49.818283",
     "exception": false,
     "start_time": "2020-12-18T21:15:49.691569",
     "status": "completed"
    },
    "tags": []
   },
   "outputs": [],
   "source": [
    "if ds[dv].attrs[\"units\"] == \"degC\" and \"degC\" in station_dv:\n",
    "    print(\"Convert back to degC\")\n",
    "    K = 273.15 # K\n",
    "    reconstructed_field -= K\n",
    "    df[station_dv] -= K\n",
    "#     ds[dv].attrs[\"units\"] = \"degC\"\n",
    "\n",
    "ds_recon = gen_dataset(dv, reconstructed_field, ds.rlat, ds.rlon, ds.lat, ds.lon, unit=ds[dv].attrs[\"units\"])"
   ]
  },
  {
   "cell_type": "markdown",
   "metadata": {
    "papermill": {
     "duration": 0.096075,
     "end_time": "2020-12-18T21:15:50.015654",
     "exception": false,
     "start_time": "2020-12-18T21:15:49.919579",
     "status": "completed"
    },
    "tags": []
   },
   "source": [
    "# Load in NBCC Tables for Comparisons"
   ]
  },
  {
   "cell_type": "code",
   "execution_count": 17,
   "metadata": {
    "execution": {
     "iopub.execute_input": "2020-12-18T21:15:50.259510Z",
     "iopub.status.busy": "2020-12-18T21:15:50.258957Z",
     "iopub.status.idle": "2020-12-18T21:15:50.394842Z",
     "shell.execute_reply": "2020-12-18T21:15:50.395620Z"
    },
    "papermill": {
     "duration": 0.287234,
     "end_time": "2020-12-18T21:15:50.396016",
     "exception": false,
     "start_time": "2020-12-18T21:15:50.108782",
     "status": "completed"
    },
    "tags": []
   },
   "outputs": [],
   "source": [
    "nrc_path = resource_filename(\"climpyrical\", nbcc_loc_path)\n",
    "df_nrc = pd.read_excel(nrc_path).iloc[:-1]\n",
    "\n",
    "# fill problem values with better values from 2015\n",
    "id_typo = df_nrc[(df_nrc['2020 Longitude'] > 0) | (df_nrc['2020 Latitude'] < 40)].index\n",
    "df_nrc.loc[id_typo, '2020 Longitude'] = df_nrc['2015 Long.'].values[id_typo]\n",
    "df_nrc.loc[id_typo, '2020 Latitude'] = df_nrc['2015 Lat.'].values[id_typo]\n",
    "\n",
    "# process to get the model values\n",
    "df_nrc.rename(columns={\"2020 Longitude\": \"lon\",\n",
    "                      \"2020 Latitude\": \"lat\"})\n",
    "\n",
    "df_nrc_matched = pd.DataFrame(\n",
    "    {\n",
    "     'Location': df_nrc.Location, \n",
    "     'Prov': df_nrc.Prov,\n",
    "     \"2020 Elev (m)\": df_nrc[\"2020 Elev (m)\"],\n",
    "     'lon': df_nrc['2020 Longitude'], \n",
    "     'lat': df_nrc['2020 Latitude']\n",
    "     }\n",
    "    \n",
    ")"
   ]
  },
  {
   "cell_type": "markdown",
   "metadata": {
    "papermill": {
     "duration": 0.153603,
     "end_time": "2020-12-18T21:15:50.646709",
     "exception": false,
     "start_time": "2020-12-18T21:15:50.493106",
     "status": "completed"
    },
    "tags": []
   },
   "source": [
    "__This step aims to correct the final field to the NBCC 2015 results.__\n",
    "\n",
    "This is configurable by setting `nbcc_median_correction` to True or False.\n",
    "\n",
    "1) Find the median of these values. Compute the difference, d = median(R) - median(NRC), and ratio, f = median(R)/median(NRC) \n",
    "\n",
    "2) For the non-temperature DVs and HDD, apply the multiplicative correction (1/f)*R_j over the entire reconstruction grid. For the temperature DVs, apply the correction as R_j - d"
   ]
  },
  {
   "cell_type": "code",
   "execution_count": 18,
   "metadata": {
    "execution": {
     "iopub.execute_input": "2020-12-18T21:15:50.874304Z",
     "iopub.status.busy": "2020-12-18T21:15:50.873588Z",
     "iopub.status.idle": "2020-12-18T21:15:53.171334Z",
     "shell.execute_reply": "2020-12-18T21:15:53.171716Z"
    },
    "papermill": {
     "duration": 2.408449,
     "end_time": "2020-12-18T21:15:53.171864",
     "exception": false,
     "start_time": "2020-12-18T21:15:50.763415",
     "status": "completed"
    },
    "tags": []
   },
   "outputs": [
    {
     "name": "stderr",
     "output_type": "stream",
     "text": [
      "INFO:root:Detect units: kPa\n"
     ]
    },
    {
     "name": "stderr",
     "output_type": "stream",
     "text": [
      "INFO:root:rlat or rlon not detected in input file.converting assumes WGS84 coords to rotated pole\n"
     ]
    },
    {
     "name": "stderr",
     "output_type": "stream",
     "text": [
      "INFO:root:Matching coordinates now\n"
     ]
    },
    {
     "name": "stderr",
     "output_type": "stream",
     "text": [
      "INFO:root:Locating corresponding model valuesInterpolating to nearest if matched model value is NaN\n"
     ]
    },
    {
     "name": "stdout",
     "output_type": "stream",
     "text": [
      "f: 0.7754982727753607\n"
     ]
    }
   ],
   "source": [
    "value = medians[\"value\"]\n",
    "action = medians[\"action\"]\n",
    "\n",
    "if action != \"add\" and action != \"multiply\" and action != \"None\":\n",
    "    raise ValueError(\"Please provide either add or multiply or None actions in config.\")\n",
    "\n",
    "    \n",
    "dfp = add_model_values(ds=ds_recon, df=df_nrc_matched)\n",
    "reconstructed_field_med = ds_recon[dv].values\n",
    "\n",
    "if nbcc_median_correction:\n",
    "    if value != \"None\" or action != \"None\":\n",
    "#         med_pcic = np.nanmedian(dfp[\"model_values\"])\n",
    "        med_pcic = np.nanmean(dfp[\"model_values\"])\n",
    "\n",
    "        if action == \"multiply\":\n",
    "            fr = med_pcic/value\n",
    "            reconstructed_field_med = (1/fr)*reconstructed_field_med\n",
    "            print(\"f:\", fr)\n",
    "        if action == \"add\":\n",
    "            d = med_pcic - value\n",
    "            reconstructed_field_med = reconstructed_field_med - d\n",
    "            print(\"d:\", d)"
   ]
  },
  {
   "cell_type": "markdown",
   "metadata": {
    "papermill": {
     "duration": 0.100067,
     "end_time": "2020-12-18T21:15:53.370461",
     "exception": false,
     "start_time": "2020-12-18T21:15:53.270394",
     "status": "completed"
    },
    "tags": []
   },
   "source": [
    "Re-create dataset if median correction applied"
   ]
  },
  {
   "cell_type": "code",
   "execution_count": 19,
   "metadata": {
    "execution": {
     "iopub.execute_input": "2020-12-18T21:15:53.572181Z",
     "iopub.status.busy": "2020-12-18T21:15:53.571266Z",
     "iopub.status.idle": "2020-12-18T21:15:53.591173Z",
     "shell.execute_reply": "2020-12-18T21:15:53.591653Z"
    },
    "papermill": {
     "duration": 0.121668,
     "end_time": "2020-12-18T21:15:53.591864",
     "exception": false,
     "start_time": "2020-12-18T21:15:53.470196",
     "status": "completed"
    },
    "tags": []
   },
   "outputs": [],
   "source": [
    "ds_recon = gen_dataset(dv, reconstructed_field_med, ds.rlat, ds.rlon, ds.lat, ds.lon, unit=ds[dv].attrs[\"units\"])"
   ]
  },
  {
   "cell_type": "markdown",
   "metadata": {
    "papermill": {
     "duration": 0.105661,
     "end_time": "2020-12-18T21:15:53.796481",
     "exception": false,
     "start_time": "2020-12-18T21:15:53.690820",
     "status": "completed"
    },
    "tags": []
   },
   "source": [
    "Populate with headers from the input processed model."
   ]
  },
  {
   "cell_type": "code",
   "execution_count": 20,
   "metadata": {
    "execution": {
     "iopub.execute_input": "2020-12-18T21:15:54.014390Z",
     "iopub.status.busy": "2020-12-18T21:15:54.013939Z",
     "iopub.status.idle": "2020-12-18T21:15:54.042433Z",
     "shell.execute_reply": "2020-12-18T21:15:54.042856Z"
    },
    "papermill": {
     "duration": 0.138163,
     "end_time": "2020-12-18T21:15:54.043083",
     "exception": false,
     "start_time": "2020-12-18T21:15:53.904920",
     "status": "completed"
    },
    "tags": []
   },
   "outputs": [],
   "source": [
    "if ds.attrs:\n",
    "    all_keys = set(ds_recon.variables).union(set(ds_recon.dims))\n",
    "    for key in all_keys:\n",
    "        ds_recon[key].attrs = ds[key].attrs\n",
    "    attr_dict = ds.attrs\n",
    "    attr_dict[\"Climpyrical\"] = (\n",
    "        \"CanRCM4 Reconstruction contains\"\n",
    "        \"hybrid station and model data using\"\n",
    "        \"Climpyrical (https://github.com/pacificclimate/climpyrical)\"\n",
    "    )\n",
    "\n",
    "    ds_recon.attrs = attr_dict\n",
    "else:\n",
    "    raise warnings.warn(\"No attributes detected in dataset file\")"
   ]
  },
  {
   "cell_type": "code",
   "execution_count": 21,
   "metadata": {
    "execution": {
     "iopub.execute_input": "2020-12-18T21:15:54.252535Z",
     "iopub.status.busy": "2020-12-18T21:15:54.252071Z",
     "iopub.status.idle": "2020-12-18T21:15:54.514748Z",
     "shell.execute_reply": "2020-12-18T21:15:54.515281Z"
    },
    "papermill": {
     "duration": 0.373068,
     "end_time": "2020-12-18T21:15:54.515529",
     "exception": false,
     "start_time": "2020-12-18T21:15:54.142461",
     "status": "completed"
    },
    "tags": []
   },
   "outputs": [],
   "source": [
    "ds_recon.to_netcdf(\n",
    "    resource_filename(\n",
    "        \"climpyrical\",\n",
    "        f\"{output_reconstruction_path}{name}_reconstruction.nc\"\n",
    "    ),\n",
    "    mode=\"w\"\n",
    ")"
   ]
  }
 ],
 "metadata": {
  "kernelspec": {
   "display_name": "Python 3",
   "language": "python",
   "name": "python3"
  },
  "language_info": {
   "codemirror_mode": {
    "name": "ipython",
    "version": 3
   },
   "file_extension": ".py",
   "mimetype": "text/x-python",
   "name": "python",
   "nbconvert_exporter": "python",
   "pygments_lexer": "ipython3",
   "version": "3.8.5"
  },
  "papermill": {
   "default_parameters": {},
   "duration": 531.229559,
   "end_time": "2020-12-18T21:15:55.971457",
   "environment_variables": {},
   "exception": null,
   "input_path": "MWOrK.ipynb",
   "output_path": "/home/nannau/Desktop/pipeline/climpyrical/climpyrical/data/results/intermediate/notebooks/MWOrK_log_WP50.ipynb",
   "parameters": {
    "fill_glaciers": true,
    "input_model_path": "data/model_inputs/wpress_CanRCM4-LE_ens35_1951-2016_max_rl50_kpa_ensmean.nc",
    "mask_path": "data/masks/canada_mask_rp.nc",
    "medians": {
     "action": "multiply",
     "value": 0.42
    },
    "name": "WP50",
    "nbcc_loc_path": "data/station_inputs/NBCC_2020_new_coords.xlsm",
    "nbcc_median_correction": true,
    "north_mask_path": "data/masks/canada_mask_north_rp.nc",
    "output_figure_path": "/data/results/figures/",
    "output_notebook_path": "/data/results/intermediate/notebooks/",
    "output_reconstruction_path": "/data/results/netcdf/",
    "output_tables_path": "/data/results/TableC2/",
    "preprocessed_model_path": "/data/results/intermediate/preprocessed_netcdf/",
    "preprocessed_stations_path": "/data/results/intermediate/preprocessed_stations/",
    "station_dv": "WP50 (kPa)",
    "station_path": "data/station_inputs/wpress_stations_rl10_rl50_for_maps.csv"
   },
   "start_time": "2020-12-18T21:07:04.741898",
   "version": "2.2.2"
  }
 },
 "nbformat": 4,
 "nbformat_minor": 4
}