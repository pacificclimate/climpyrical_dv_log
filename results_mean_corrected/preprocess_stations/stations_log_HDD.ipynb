{
 "cells": [
  {
   "cell_type": "markdown",
   "metadata": {
    "papermill": {
     "duration": 0.015473,
     "end_time": "2020-12-18T20:20:19.426951",
     "exception": false,
     "start_time": "2020-12-18T20:20:19.411478",
     "status": "completed"
    },
    "tags": []
   },
   "source": [
    "# Process Stations"
   ]
  },
  {
   "cell_type": "code",
   "execution_count": 1,
   "metadata": {
    "execution": {
     "iopub.execute_input": "2020-12-18T20:20:19.460028Z",
     "iopub.status.busy": "2020-12-18T20:20:19.459535Z",
     "iopub.status.idle": "2020-12-18T20:20:20.300777Z",
     "shell.execute_reply": "2020-12-18T20:20:20.299886Z"
    },
    "papermill": {
     "duration": 0.860459,
     "end_time": "2020-12-18T20:20:20.301096",
     "exception": false,
     "start_time": "2020-12-18T20:20:19.440637",
     "status": "completed"
    },
    "tags": []
   },
   "outputs": [],
   "source": [
    "import pandas as pd\n",
    "import numpy as np\n",
    "import matplotlib.pyplot as plt\n",
    "from pkg_resources import resource_filename\n",
    "\n",
    "from climpyrical.gridding import scale_model_obs\n",
    "from climpyrical.data import read_data\n",
    "from climpyrical.cmd.find_matched_model_vals import add_model_values"
   ]
  },
  {
   "cell_type": "markdown",
   "metadata": {
    "papermill": {
     "duration": 0.014752,
     "end_time": "2020-12-18T20:20:20.339066",
     "exception": false,
     "start_time": "2020-12-18T20:20:20.324314",
     "status": "completed"
    },
    "tags": []
   },
   "source": [
    "### Load station data for processing"
   ]
  },
  {
   "cell_type": "markdown",
   "metadata": {
    "papermill": {
     "duration": 0.010118,
     "end_time": "2020-12-18T20:20:20.359017",
     "exception": false,
     "start_time": "2020-12-18T20:20:20.348899",
     "status": "completed"
    },
    "tags": [
     "parameters"
    ]
   },
   "source": [
    "### Parameters are loaded from config_example.yml\n",
    "Example configuration from config_example.yml:\n",
    "```\n",
    "    paths:\n",
    "        preprocessed_model_path: /data/results/intermediate/preprocessed_netcdf/\n",
    "    RL50:\n",
    "        station_dv: \"RL50 (kPa)\"\n",
    "        station_path: 'data/station_inputs/Interim_snow_rain_load_LR_composite_stations_tbd_v4.csv'\n",
    "        input_model_path: 'data/model_inputs/snw_rain_CanRCM4-LE_ens35_1951-2016_max_rl50_load_ensmean.nc'\n",
    "        medians: \n",
    "            value: 0.4\n",
    "            action: \"multiply\"\n",
    "        fill_glaciers: True\n",
    "```"
   ]
  },
  {
   "cell_type": "code",
   "execution_count": 2,
   "metadata": {
    "execution": {
     "iopub.execute_input": "2020-12-18T20:20:20.385797Z",
     "iopub.status.busy": "2020-12-18T20:20:20.385402Z",
     "iopub.status.idle": "2020-12-18T20:20:20.387274Z",
     "shell.execute_reply": "2020-12-18T20:20:20.387584Z"
    },
    "papermill": {
     "duration": 0.017646,
     "end_time": "2020-12-18T20:20:20.387725",
     "exception": false,
     "start_time": "2020-12-18T20:20:20.370079",
     "status": "completed"
    },
    "tags": [
     "injected-parameters"
    ]
   },
   "outputs": [],
   "source": [
    "# Parameters\n",
    "name = \"HDD\"\n",
    "station_dv = \"HDD (degC-day)\"\n",
    "station_path = \"data/station_inputs/hdd_Tmax_Tmin_allstations_v3_for_maps.csv\"\n",
    "input_model_path = \"data/model_inputs/hdd_CanRCM4-LE_ens35_1951-2016_ann_ensmean.nc\"\n",
    "medians = {\"value\": 5045, \"action\": \"multiply\"}\n",
    "fill_glaciers = True\n",
    "output_notebook_path = \"/data/results/intermediate/notebooks/\"\n",
    "preprocessed_model_path = \"/data/results/intermediate/preprocessed_netcdf/\"\n",
    "preprocessed_stations_path = \"/data/results/intermediate/preprocessed_stations/\"\n",
    "output_reconstruction_path = \"/data/results/netcdf/\"\n",
    "output_tables_path = \"/data/results/TableC2/\"\n",
    "output_figure_path = \"/data/results/figures/\"\n",
    "mask_path = \"data/masks/canada_mask_rp.nc\"\n",
    "north_mask_path = \"data/masks/canada_mask_north_rp.nc\"\n",
    "nbcc_loc_path = \"data/station_inputs/NBCC_2020_new_coords.xlsm\"\n"
   ]
  },
  {
   "cell_type": "code",
   "execution_count": 3,
   "metadata": {
    "execution": {
     "iopub.execute_input": "2020-12-18T20:20:20.414465Z",
     "iopub.status.busy": "2020-12-18T20:20:20.414043Z",
     "iopub.status.idle": "2020-12-18T20:20:20.416546Z",
     "shell.execute_reply": "2020-12-18T20:20:20.416908Z"
    },
    "papermill": {
     "duration": 0.01587,
     "end_time": "2020-12-18T20:20:20.417056",
     "exception": false,
     "start_time": "2020-12-18T20:20:20.401186",
     "status": "completed"
    },
    "tags": [
     "parameters"
    ]
   },
   "outputs": [],
   "source": [
    "# Parameters cell"
   ]
  },
  {
   "cell_type": "code",
   "execution_count": 4,
   "metadata": {
    "execution": {
     "iopub.execute_input": "2020-12-18T20:20:20.456468Z",
     "iopub.status.busy": "2020-12-18T20:20:20.455880Z",
     "iopub.status.idle": "2020-12-18T20:20:20.467377Z",
     "shell.execute_reply": "2020-12-18T20:20:20.467843Z"
    },
    "papermill": {
     "duration": 0.034322,
     "end_time": "2020-12-18T20:20:20.468024",
     "exception": false,
     "start_time": "2020-12-18T20:20:20.433702",
     "status": "completed"
    },
    "tags": []
   },
   "outputs": [],
   "source": [
    "df = pd.read_csv(resource_filename(\"climpyrical\", station_path), index_col=None)"
   ]
  },
  {
   "cell_type": "markdown",
   "metadata": {
    "papermill": {
     "duration": 0.011361,
     "end_time": "2020-12-18T20:20:20.491353",
     "exception": false,
     "start_time": "2020-12-18T20:20:20.479992",
     "status": "completed"
    },
    "tags": []
   },
   "source": [
    "Check the columns for standard names, and standardize them.\n",
    "\n",
    "This process will not catch any and all possible inputs, so refer to documentation for \n",
    "expected column names"
   ]
  },
  {
   "cell_type": "code",
   "execution_count": 5,
   "metadata": {
    "execution": {
     "iopub.execute_input": "2020-12-18T20:20:20.523511Z",
     "iopub.status.busy": "2020-12-18T20:20:20.522551Z",
     "iopub.status.idle": "2020-12-18T20:20:20.525462Z",
     "shell.execute_reply": "2020-12-18T20:20:20.524697Z"
    },
    "papermill": {
     "duration": 0.023406,
     "end_time": "2020-12-18T20:20:20.525698",
     "exception": false,
     "start_time": "2020-12-18T20:20:20.502292",
     "status": "completed"
    },
    "tags": []
   },
   "outputs": [],
   "source": [
    "def check_df_columns(df):\n",
    "    if 'longitude' in df.columns:\n",
    "        df=df.rename(columns={'longitude': 'lon'})\n",
    "    if 'long' in df.columns:\n",
    "        df=df.rename(columns={'long': 'lon'})\n",
    "    if 'latitude' in df.columns:\n",
    "        df=df.rename(columns={'latitude': 'lat'})\n",
    "    if 'name' in df.columns:\n",
    "        df=df.rename(columns={'name': 'station_name'})\n",
    "    if 'Name' in df.columns:\n",
    "        df=df.rename(columns={'Name': 'station_name'})\n",
    "    if \"prov\" in df.columns:\n",
    "        df=df.rename(columns={\"prov\": \"province\"})\n",
    "    if \"elev\" in df.columns:\n",
    "        df=df.rename(columns={\"elev\": \"elev (m)\"})\n",
    "    if \"elevation (m)\" in df.columns:\n",
    "        df=df.rename(columns={\"elevation (m)\": \"elev (m)\"})\n",
    "    return df\n",
    "\n",
    "df = check_df_columns(df)\n",
    "df.head(5)\n",
    "\n",
    "if np.any(np.isnan(df[[\"lon\", \"lat\", \"elev (m)\", station_dv]].values)):\n",
    "    raise ValueError(\"NaN detected in station input file.\")"
   ]
  },
  {
   "cell_type": "markdown",
   "metadata": {
    "papermill": {
     "duration": 0.013515,
     "end_time": "2020-12-18T20:20:20.557585",
     "exception": false,
     "start_time": "2020-12-18T20:20:20.544070",
     "status": "completed"
    },
    "tags": []
   },
   "source": [
    "Load preprocessed model at target resolution"
   ]
  },
  {
   "cell_type": "code",
   "execution_count": 6,
   "metadata": {
    "execution": {
     "iopub.execute_input": "2020-12-18T20:20:20.583311Z",
     "iopub.status.busy": "2020-12-18T20:20:20.582941Z",
     "iopub.status.idle": "2020-12-18T20:20:20.635171Z",
     "shell.execute_reply": "2020-12-18T20:20:20.634622Z"
    },
    "papermill": {
     "duration": 0.066251,
     "end_time": "2020-12-18T20:20:20.635316",
     "exception": false,
     "start_time": "2020-12-18T20:20:20.569065",
     "status": "completed"
    },
    "tags": []
   },
   "outputs": [],
   "source": [
    "ds = read_data(resource_filename(\"climpyrical\", f\"{preprocessed_model_path}{name}.nc\"))\n",
    "(dv, ) = ds.data_vars"
   ]
  },
  {
   "cell_type": "markdown",
   "metadata": {
    "papermill": {
     "duration": 0.013601,
     "end_time": "2020-12-18T20:20:20.666249",
     "exception": false,
     "start_time": "2020-12-18T20:20:20.652648",
     "status": "completed"
    },
    "tags": []
   },
   "source": [
    "Perform unit conversion if necessary\n",
    "\n",
    "Exclude suspect RL50 values with true 0.0"
   ]
  },
  {
   "cell_type": "code",
   "execution_count": 7,
   "metadata": {
    "execution": {
     "iopub.execute_input": "2020-12-18T20:20:20.696412Z",
     "iopub.status.busy": "2020-12-18T20:20:20.696042Z",
     "iopub.status.idle": "2020-12-18T20:20:20.698698Z",
     "shell.execute_reply": "2020-12-18T20:20:20.698358Z"
    },
    "papermill": {
     "duration": 0.020686,
     "end_time": "2020-12-18T20:20:20.698792",
     "exception": false,
     "start_time": "2020-12-18T20:20:20.678106",
     "status": "completed"
    },
    "tags": []
   },
   "outputs": [],
   "source": [
    "# calculate ratios with applied correction\n",
    "# Note the ratios are calculated in K for Temperature fields\n",
    "if ds[dv].attrs[\"units\"] == \"degC\" and \"degC\" in station_dv:\n",
    "    print(\"Temperature DV detected in degC. Converitng to Kelvin\")\n",
    "    K = 273.15 # K\n",
    "    df[station_dv] += K\n",
    "    ds[dv] += K\n",
    "\n",
    "if 'RL50 (kPa)' in station_dv:\n",
    "    df = df[df[station_dv] != 0.0]"
   ]
  },
  {
   "cell_type": "markdown",
   "metadata": {
    "papermill": {
     "duration": 0.011182,
     "end_time": "2020-12-18T20:20:20.726183",
     "exception": false,
     "start_time": "2020-12-18T20:20:20.715001",
     "status": "completed"
    },
    "tags": []
   },
   "source": [
    "Use matching script to find matching model values"
   ]
  },
  {
   "cell_type": "code",
   "execution_count": 8,
   "metadata": {
    "execution": {
     "iopub.execute_input": "2020-12-18T20:20:20.749864Z",
     "iopub.status.busy": "2020-12-18T20:20:20.748705Z",
     "iopub.status.idle": "2020-12-18T20:20:22.783032Z",
     "shell.execute_reply": "2020-12-18T20:20:22.783512Z"
    },
    "papermill": {
     "duration": 2.046632,
     "end_time": "2020-12-18T20:20:22.783706",
     "exception": false,
     "start_time": "2020-12-18T20:20:20.737074",
     "status": "completed"
    },
    "tags": []
   },
   "outputs": [
    {
     "name": "stderr",
     "output_type": "stream",
     "text": [
      "INFO:root:Detect units: deg C days\n"
     ]
    },
    {
     "name": "stderr",
     "output_type": "stream",
     "text": [
      "INFO:root:rlat or rlon not detected in input file.converting assumes WGS84 coords to rotated pole\n"
     ]
    },
    {
     "name": "stderr",
     "output_type": "stream",
     "text": [
      "INFO:root:Matching coordinates now\n"
     ]
    },
    {
     "name": "stderr",
     "output_type": "stream",
     "text": [
      "INFO:root:Locating corresponding model valuesInterpolating to nearest if matched model value is NaN\n"
     ]
    },
    {
     "data": {
      "text/html": [
       "<div>\n",
       "<style scoped>\n",
       "    .dataframe tbody tr th:only-of-type {\n",
       "        vertical-align: middle;\n",
       "    }\n",
       "\n",
       "    .dataframe tbody tr th {\n",
       "        vertical-align: top;\n",
       "    }\n",
       "\n",
       "    .dataframe thead th {\n",
       "        text-align: right;\n",
       "    }\n",
       "</style>\n",
       "<table border=\"1\" class=\"dataframe\">\n",
       "  <thead>\n",
       "    <tr style=\"text-align: right;\">\n",
       "      <th></th>\n",
       "      <th>history_id</th>\n",
       "      <th>station_name</th>\n",
       "      <th>province</th>\n",
       "      <th>lon</th>\n",
       "      <th>lat</th>\n",
       "      <th>elev (m)</th>\n",
       "      <th>HDD (degC-day)</th>\n",
       "      <th>Tmean (degC)</th>\n",
       "      <th>Tmax (degC)</th>\n",
       "      <th>Tmin (degC)</th>\n",
       "      <th>rlat</th>\n",
       "      <th>rlon</th>\n",
       "      <th>irlat</th>\n",
       "      <th>irlon</th>\n",
       "      <th>model_values</th>\n",
       "    </tr>\n",
       "  </thead>\n",
       "  <tbody>\n",
       "    <tr>\n",
       "      <th>0</th>\n",
       "      <td>15.0</td>\n",
       "      <td>CHEMAINUS</td>\n",
       "      <td>BC</td>\n",
       "      <td>-123.742</td>\n",
       "      <td>48.9350</td>\n",
       "      <td>75</td>\n",
       "      <td>2661.023529</td>\n",
       "      <td>11.160433</td>\n",
       "      <td>24.710000</td>\n",
       "      <td>-2.820000</td>\n",
       "      <td>4.407283</td>\n",
       "      <td>-17.245771</td>\n",
       "      <td>754</td>\n",
       "      <td>385</td>\n",
       "      <td>4020.221680</td>\n",
       "    </tr>\n",
       "    <tr>\n",
       "      <th>1</th>\n",
       "      <td>26.0</td>\n",
       "      <td>COWICHAN LAKE FORESTRY</td>\n",
       "      <td>BC</td>\n",
       "      <td>-124.133</td>\n",
       "      <td>48.8244</td>\n",
       "      <td>177</td>\n",
       "      <td>3041.259091</td>\n",
       "      <td>9.734962</td>\n",
       "      <td>23.146667</td>\n",
       "      <td>-5.313333</td>\n",
       "      <td>4.389211</td>\n",
       "      <td>-17.525927</td>\n",
       "      <td>754</td>\n",
       "      <td>378</td>\n",
       "      <td>3978.913818</td>\n",
       "    </tr>\n",
       "    <tr>\n",
       "      <th>2</th>\n",
       "      <td>36.0</td>\n",
       "      <td>DUNCAN KELVIN CREEK</td>\n",
       "      <td>BC</td>\n",
       "      <td>-123.728</td>\n",
       "      <td>48.7347</td>\n",
       "      <td>103</td>\n",
       "      <td>2947.510000</td>\n",
       "      <td>10.004958</td>\n",
       "      <td>21.666667</td>\n",
       "      <td>-4.540000</td>\n",
       "      <td>4.215322</td>\n",
       "      <td>-17.303868</td>\n",
       "      <td>750</td>\n",
       "      <td>384</td>\n",
       "      <td>3948.017822</td>\n",
       "    </tr>\n",
       "    <tr>\n",
       "      <th>3</th>\n",
       "      <td>42.0</td>\n",
       "      <td>ESQUIMALT HARBOUR</td>\n",
       "      <td>BC</td>\n",
       "      <td>-123.439</td>\n",
       "      <td>48.4320</td>\n",
       "      <td>3</td>\n",
       "      <td>2934.000000</td>\n",
       "      <td>10.301398</td>\n",
       "      <td>18.958333</td>\n",
       "      <td>-1.891667</td>\n",
       "      <td>3.866425</td>\n",
       "      <td>-17.223366</td>\n",
       "      <td>742</td>\n",
       "      <td>385</td>\n",
       "      <td>3923.604004</td>\n",
       "    </tr>\n",
       "    <tr>\n",
       "      <th>4</th>\n",
       "      <td>58.0</td>\n",
       "      <td>MAYNE ISLAND</td>\n",
       "      <td>BC</td>\n",
       "      <td>-123.320</td>\n",
       "      <td>48.8447</td>\n",
       "      <td>28</td>\n",
       "      <td>2853.260000</td>\n",
       "      <td>10.273197</td>\n",
       "      <td>22.613333</td>\n",
       "      <td>-4.480000</td>\n",
       "      <td>4.230411</td>\n",
       "      <td>-17.013034</td>\n",
       "      <td>750</td>\n",
       "      <td>390</td>\n",
       "      <td>3914.664062</td>\n",
       "    </tr>\n",
       "  </tbody>\n",
       "</table>\n",
       "</div>"
      ],
      "text/plain": [
       "   history_id            station_name province      lon      lat  elev (m)  \\\n",
       "0        15.0               CHEMAINUS       BC -123.742  48.9350        75   \n",
       "1        26.0  COWICHAN LAKE FORESTRY       BC -124.133  48.8244       177   \n",
       "2        36.0     DUNCAN KELVIN CREEK       BC -123.728  48.7347       103   \n",
       "3        42.0       ESQUIMALT HARBOUR       BC -123.439  48.4320         3   \n",
       "4        58.0            MAYNE ISLAND       BC -123.320  48.8447        28   \n",
       "\n",
       "   HDD (degC-day)  Tmean (degC)  Tmax (degC)  Tmin (degC)      rlat  \\\n",
       "0     2661.023529     11.160433    24.710000    -2.820000  4.407283   \n",
       "1     3041.259091      9.734962    23.146667    -5.313333  4.389211   \n",
       "2     2947.510000     10.004958    21.666667    -4.540000  4.215322   \n",
       "3     2934.000000     10.301398    18.958333    -1.891667  3.866425   \n",
       "4     2853.260000     10.273197    22.613333    -4.480000  4.230411   \n",
       "\n",
       "        rlon  irlat  irlon  model_values  \n",
       "0 -17.245771    754    385   4020.221680  \n",
       "1 -17.525927    754    378   3978.913818  \n",
       "2 -17.303868    750    384   3948.017822  \n",
       "3 -17.223366    742    385   3923.604004  \n",
       "4 -17.013034    750    390   3914.664062  "
      ]
     },
     "execution_count": 8,
     "metadata": {},
     "output_type": "execute_result"
    }
   ],
   "source": [
    "df = add_model_values(ds=ds, df=df)\n",
    "df.head(5)"
   ]
  },
  {
   "cell_type": "markdown",
   "metadata": {
    "papermill": {
     "duration": 0.019958,
     "end_time": "2020-12-18T20:20:22.826812",
     "exception": false,
     "start_time": "2020-12-18T20:20:22.806854",
     "status": "completed"
    },
    "tags": []
   },
   "source": [
    "Group stations that land in the same index in rlat and rlon (land in the same grid cell)\n",
    "\n",
    "This means that they are in the same grid cell and need to be aggregated"
   ]
  },
  {
   "cell_type": "code",
   "execution_count": 9,
   "metadata": {
    "execution": {
     "iopub.execute_input": "2020-12-18T20:20:22.864521Z",
     "iopub.status.busy": "2020-12-18T20:20:22.864106Z",
     "iopub.status.idle": "2020-12-18T20:20:22.874671Z",
     "shell.execute_reply": "2020-12-18T20:20:22.874030Z"
    },
    "papermill": {
     "duration": 0.028848,
     "end_time": "2020-12-18T20:20:22.874894",
     "exception": false,
     "start_time": "2020-12-18T20:20:22.846046",
     "status": "completed"
    },
    "tags": []
   },
   "outputs": [],
   "source": [
    "agg_dict = {\n",
    "    station_dv: 'mean', \n",
    "    'rlat':'mean', \n",
    "    'rlon':'mean', \n",
    "    'lat': 'mean', \n",
    "    'lon': 'mean', \n",
    "    'elev (m)': 'mean',\n",
    "    'station_name': 'first',\n",
    "    'province': 'first',\n",
    "    \"model_values\": \"mean\"\n",
    "}\n",
    "\n",
    "# Province key is used for WP10 and WP50 for\n",
    "# special treatment of Atlantic/Far NW areas\n",
    "if \"province\" not in df.columns:\n",
    "    agg_dict = agg_dict.pop(\"province\")\n",
    "\n",
    "df_match = df.groupby(\n",
    "    ['irlat', 'irlon'], as_index=False\n",
    ").agg(\n",
    "    agg_dict\n",
    ")\n",
    "\n",
    "\n",
    "irlat = df_match.irlat\n",
    "irlon = df_match.irlon"
   ]
  },
  {
   "cell_type": "code",
   "execution_count": 10,
   "metadata": {
    "execution": {
     "iopub.execute_input": "2020-12-18T20:20:22.923325Z",
     "iopub.status.busy": "2020-12-18T20:20:22.922448Z",
     "iopub.status.idle": "2020-12-18T20:20:22.926130Z",
     "shell.execute_reply": "2020-12-18T20:20:22.926812Z"
    },
    "papermill": {
     "duration": 0.035058,
     "end_time": "2020-12-18T20:20:22.927103",
     "exception": false,
     "start_time": "2020-12-18T20:20:22.892045",
     "status": "completed"
    },
    "tags": []
   },
   "outputs": [
    {
     "data": {
      "text/html": [
       "<div>\n",
       "<style scoped>\n",
       "    .dataframe tbody tr th:only-of-type {\n",
       "        vertical-align: middle;\n",
       "    }\n",
       "\n",
       "    .dataframe tbody tr th {\n",
       "        vertical-align: top;\n",
       "    }\n",
       "\n",
       "    .dataframe thead th {\n",
       "        text-align: right;\n",
       "    }\n",
       "</style>\n",
       "<table border=\"1\" class=\"dataframe\">\n",
       "  <thead>\n",
       "    <tr style=\"text-align: right;\">\n",
       "      <th></th>\n",
       "      <th>irlat</th>\n",
       "      <th>irlon</th>\n",
       "      <th>HDD (degC-day)</th>\n",
       "      <th>rlat</th>\n",
       "      <th>rlon</th>\n",
       "      <th>lat</th>\n",
       "      <th>lon</th>\n",
       "      <th>elev (m)</th>\n",
       "      <th>station_name</th>\n",
       "      <th>province</th>\n",
       "      <th>model_values</th>\n",
       "    </tr>\n",
       "  </thead>\n",
       "  <tbody>\n",
       "    <tr>\n",
       "      <th>0</th>\n",
       "      <td>552</td>\n",
       "      <td>1011</td>\n",
       "      <td>3556.025000</td>\n",
       "      <td>-4.517790</td>\n",
       "      <td>10.457750</td>\n",
       "      <td>42.03330</td>\n",
       "      <td>-82.9000</td>\n",
       "      <td>191</td>\n",
       "      <td>HARROW CDA</td>\n",
       "      <td>ON</td>\n",
       "      <td>3008.439209</td>\n",
       "    </tr>\n",
       "    <tr>\n",
       "      <th>1</th>\n",
       "      <td>552</td>\n",
       "      <td>1017</td>\n",
       "      <td>3460.883333</td>\n",
       "      <td>-4.547677</td>\n",
       "      <td>10.753982</td>\n",
       "      <td>41.95000</td>\n",
       "      <td>-82.5167</td>\n",
       "      <td>177</td>\n",
       "      <td>POINT PELEE</td>\n",
       "      <td>ON</td>\n",
       "      <td>3019.692139</td>\n",
       "    </tr>\n",
       "    <tr>\n",
       "      <th>2</th>\n",
       "      <td>553</td>\n",
       "      <td>1007</td>\n",
       "      <td>3362.187500</td>\n",
       "      <td>-4.474659</td>\n",
       "      <td>10.302673</td>\n",
       "      <td>42.10340</td>\n",
       "      <td>-83.0945</td>\n",
       "      <td>182</td>\n",
       "      <td>AMHERSTBURG</td>\n",
       "      <td>ON</td>\n",
       "      <td>3084.320068</td>\n",
       "    </tr>\n",
       "    <tr>\n",
       "      <th>3</th>\n",
       "      <td>557</td>\n",
       "      <td>1013</td>\n",
       "      <td>3399.333333</td>\n",
       "      <td>-4.315023</td>\n",
       "      <td>10.546376</td>\n",
       "      <td>42.21670</td>\n",
       "      <td>-82.7333</td>\n",
       "      <td>183</td>\n",
       "      <td>WOODSLEE CDA AUTOMATIC CLIMATE STATION</td>\n",
       "      <td>ON</td>\n",
       "      <td>3047.884277</td>\n",
       "    </tr>\n",
       "    <tr>\n",
       "      <th>4</th>\n",
       "      <td>558</td>\n",
       "      <td>1009</td>\n",
       "      <td>3378.745161</td>\n",
       "      <td>-4.286849</td>\n",
       "      <td>10.373390</td>\n",
       "      <td>42.27560</td>\n",
       "      <td>-82.9556</td>\n",
       "      <td>190</td>\n",
       "      <td>WINDSOR A</td>\n",
       "      <td>ON</td>\n",
       "      <td>3136.962646</td>\n",
       "    </tr>\n",
       "    <tr>\n",
       "      <th>...</th>\n",
       "      <td>...</td>\n",
       "      <td>...</td>\n",
       "      <td>...</td>\n",
       "      <td>...</td>\n",
       "      <td>...</td>\n",
       "      <td>...</td>\n",
       "      <td>...</td>\n",
       "      <td>...</td>\n",
       "      <td>...</td>\n",
       "      <td>...</td>\n",
       "      <td>...</td>\n",
       "    </tr>\n",
       "    <tr>\n",
       "      <th>1256</th>\n",
       "      <td>1240</td>\n",
       "      <td>914</td>\n",
       "      <td>11796.406670</td>\n",
       "      <td>25.951024</td>\n",
       "      <td>6.194640</td>\n",
       "      <td>72.68940</td>\n",
       "      <td>-77.9689</td>\n",
       "      <td>62</td>\n",
       "      <td>POND INLET A</td>\n",
       "      <td>NU</td>\n",
       "      <td>11997.860352</td>\n",
       "    </tr>\n",
       "    <tr>\n",
       "      <th>1257</th>\n",
       "      <td>1246</td>\n",
       "      <td>562</td>\n",
       "      <td>11169.540630</td>\n",
       "      <td>26.218512</td>\n",
       "      <td>-9.388406</td>\n",
       "      <td>71.99625</td>\n",
       "      <td>-125.2605</td>\n",
       "      <td>87</td>\n",
       "      <td>SACHS HARBOUR CLIMATE COMPOSITE</td>\n",
       "      <td>NT</td>\n",
       "      <td>11013.385742</td>\n",
       "    </tr>\n",
       "    <tr>\n",
       "      <th>1258</th>\n",
       "      <td>1269</td>\n",
       "      <td>788</td>\n",
       "      <td>12261.142860</td>\n",
       "      <td>27.224763</td>\n",
       "      <td>0.601810</td>\n",
       "      <td>74.71690</td>\n",
       "      <td>-94.9694</td>\n",
       "      <td>68</td>\n",
       "      <td>RESOLUTE CARS</td>\n",
       "      <td>NU</td>\n",
       "      <td>12686.424805</td>\n",
       "    </tr>\n",
       "    <tr>\n",
       "      <th>1259</th>\n",
       "      <td>1391</td>\n",
       "      <td>826</td>\n",
       "      <td>13336.386670</td>\n",
       "      <td>32.645419</td>\n",
       "      <td>2.272431</td>\n",
       "      <td>79.98330</td>\n",
       "      <td>-85.9333</td>\n",
       "      <td>10</td>\n",
       "      <td>EUREKA A</td>\n",
       "      <td>NU</td>\n",
       "      <td>11469.139648</td>\n",
       "    </tr>\n",
       "    <tr>\n",
       "      <th>1260</th>\n",
       "      <td>1472</td>\n",
       "      <td>894</td>\n",
       "      <td>13051.211110</td>\n",
       "      <td>36.222663</td>\n",
       "      <td>5.274963</td>\n",
       "      <td>82.51780</td>\n",
       "      <td>-62.2806</td>\n",
       "      <td>30</td>\n",
       "      <td>ALERT</td>\n",
       "      <td>NU</td>\n",
       "      <td>11469.139648</td>\n",
       "    </tr>\n",
       "  </tbody>\n",
       "</table>\n",
       "<p>1261 rows × 11 columns</p>\n",
       "</div>"
      ],
      "text/plain": [
       "      irlat  irlon  HDD (degC-day)       rlat       rlon       lat       lon  \\\n",
       "0       552   1011     3556.025000  -4.517790  10.457750  42.03330  -82.9000   \n",
       "1       552   1017     3460.883333  -4.547677  10.753982  41.95000  -82.5167   \n",
       "2       553   1007     3362.187500  -4.474659  10.302673  42.10340  -83.0945   \n",
       "3       557   1013     3399.333333  -4.315023  10.546376  42.21670  -82.7333   \n",
       "4       558   1009     3378.745161  -4.286849  10.373390  42.27560  -82.9556   \n",
       "...     ...    ...             ...        ...        ...       ...       ...   \n",
       "1256   1240    914    11796.406670  25.951024   6.194640  72.68940  -77.9689   \n",
       "1257   1246    562    11169.540630  26.218512  -9.388406  71.99625 -125.2605   \n",
       "1258   1269    788    12261.142860  27.224763   0.601810  74.71690  -94.9694   \n",
       "1259   1391    826    13336.386670  32.645419   2.272431  79.98330  -85.9333   \n",
       "1260   1472    894    13051.211110  36.222663   5.274963  82.51780  -62.2806   \n",
       "\n",
       "      elev (m)                            station_name province  model_values  \n",
       "0          191                              HARROW CDA       ON   3008.439209  \n",
       "1          177                             POINT PELEE       ON   3019.692139  \n",
       "2          182                             AMHERSTBURG       ON   3084.320068  \n",
       "3          183  WOODSLEE CDA AUTOMATIC CLIMATE STATION       ON   3047.884277  \n",
       "4          190                               WINDSOR A       ON   3136.962646  \n",
       "...        ...                                     ...      ...           ...  \n",
       "1256        62                            POND INLET A       NU  11997.860352  \n",
       "1257        87         SACHS HARBOUR CLIMATE COMPOSITE       NT  11013.385742  \n",
       "1258        68                           RESOLUTE CARS       NU  12686.424805  \n",
       "1259        10                                EUREKA A       NU  11469.139648  \n",
       "1260        30                                   ALERT       NU  11469.139648  \n",
       "\n",
       "[1261 rows x 11 columns]"
      ]
     },
     "execution_count": 10,
     "metadata": {},
     "output_type": "execute_result"
    }
   ],
   "source": [
    "df_match"
   ]
  },
  {
   "cell_type": "markdown",
   "metadata": {
    "papermill": {
     "duration": 0.017442,
     "end_time": "2020-12-18T20:20:22.965296",
     "exception": false,
     "start_time": "2020-12-18T20:20:22.947854",
     "status": "completed"
    },
    "tags": []
   },
   "source": [
    "Verify that they are correlated"
   ]
  },
  {
   "cell_type": "code",
   "execution_count": 11,
   "metadata": {
    "execution": {
     "iopub.execute_input": "2020-12-18T20:20:23.010015Z",
     "iopub.status.busy": "2020-12-18T20:20:23.009116Z",
     "iopub.status.idle": "2020-12-18T20:20:23.124723Z",
     "shell.execute_reply": "2020-12-18T20:20:23.125428Z"
    },
    "papermill": {
     "duration": 0.147002,
     "end_time": "2020-12-18T20:20:23.125726",
     "exception": false,
     "start_time": "2020-12-18T20:20:22.978724",
     "status": "completed"
    },
    "tags": []
   },
   "outputs": [
    {
     "data": {
      "text/plain": [
       "Text(0, 0.5, 'Model')"
      ]
     },
     "execution_count": 11,
     "metadata": {},
     "output_type": "execute_result"
    },
    {
     "data": {
      "image/png": "[encoded data removed]",
      "text/plain": [
       "<Figure size 432x288 with 1 Axes>"
      ]
     },
     "metadata": {
      "needs_background": "light"
     },
     "output_type": "display_data"
    }
   ],
   "source": [
    "plt.scatter(df_match[station_dv], df_match.model_values)\n",
    "plt.title(\"Correlation between station and models\")\n",
    "plt.xlabel('Stations')\n",
    "plt.ylabel('Model')"
   ]
  },
  {
   "cell_type": "markdown",
   "metadata": {
    "papermill": {
     "duration": 0.021894,
     "end_time": "2020-12-18T20:20:23.169799",
     "exception": false,
     "start_time": "2020-12-18T20:20:23.147905",
     "status": "completed"
    },
    "tags": []
   },
   "source": [
    "Now each station should be matched with a value grid cell value"
   ]
  },
  {
   "cell_type": "markdown",
   "metadata": {
    "papermill": {
     "duration": 0.013226,
     "end_time": "2020-12-18T20:20:23.196679",
     "exception": false,
     "start_time": "2020-12-18T20:20:23.183453",
     "status": "completed"
    },
    "tags": []
   },
   "source": [
    "### Normalize the model mean to match that of the station distribution\n",
    "Find a factor, $\\beta$ such that\n",
    "$$\\mu_s - \\frac{\\mu_m}{\\beta} \\approx 0$$ where $\\mu_s$ is the spatial station mean and $\\mu_m$ is the spatial model mean.\n",
    "\n",
    "$\\beta$ is simply:\n",
    "\n",
    "$$\\beta = \\frac{\\sum_i^{N_s}{M_i}}{\\sum_i^{N_s}{S_i}}$$"
   ]
  },
  {
   "cell_type": "code",
   "execution_count": 12,
   "metadata": {
    "execution": {
     "iopub.execute_input": "2020-12-18T20:20:23.236540Z",
     "iopub.status.busy": "2020-12-18T20:20:23.235267Z",
     "iopub.status.idle": "2020-12-18T20:20:23.241364Z",
     "shell.execute_reply": "2020-12-18T20:20:23.240873Z"
    },
    "papermill": {
     "duration": 0.028554,
     "end_time": "2020-12-18T20:20:23.241512",
     "exception": false,
     "start_time": "2020-12-18T20:20:23.212958",
     "status": "completed"
    },
    "tags": []
   },
   "outputs": [
    {
     "name": "stdout",
     "output_type": "stream",
     "text": [
      "Scaling factor: 0.9931618560609908\n"
     ]
    }
   ],
   "source": [
    "ratio, best_tol = scale_model_obs(df_match.model_values, df_match[station_dv])\n",
    "assert not np.any(np.isnan(ratio))\n",
    "df_match = df_match.assign(ratio=ratio)\n",
    "print(\"Scaling factor:\", best_tol)"
   ]
  },
  {
   "cell_type": "code",
   "execution_count": 13,
   "metadata": {
    "execution": {
     "iopub.execute_input": "2020-12-18T20:20:23.298769Z",
     "iopub.status.busy": "2020-12-18T20:20:23.297937Z",
     "iopub.status.idle": "2020-12-18T20:20:23.301463Z",
     "shell.execute_reply": "2020-12-18T20:20:23.301867Z"
    },
    "papermill": {
     "duration": 0.033837,
     "end_time": "2020-12-18T20:20:23.302032",
     "exception": false,
     "start_time": "2020-12-18T20:20:23.268195",
     "status": "completed"
    },
    "tags": []
   },
   "outputs": [
    {
     "data": {
      "text/html": [
       "<div>\n",
       "<style scoped>\n",
       "    .dataframe tbody tr th:only-of-type {\n",
       "        vertical-align: middle;\n",
       "    }\n",
       "\n",
       "    .dataframe tbody tr th {\n",
       "        vertical-align: top;\n",
       "    }\n",
       "\n",
       "    .dataframe thead th {\n",
       "        text-align: right;\n",
       "    }\n",
       "</style>\n",
       "<table border=\"1\" class=\"dataframe\">\n",
       "  <thead>\n",
       "    <tr style=\"text-align: right;\">\n",
       "      <th></th>\n",
       "      <th>irlat</th>\n",
       "      <th>irlon</th>\n",
       "      <th>HDD (degC-day)</th>\n",
       "      <th>rlat</th>\n",
       "      <th>rlon</th>\n",
       "      <th>lat</th>\n",
       "      <th>lon</th>\n",
       "      <th>elev (m)</th>\n",
       "      <th>station_name</th>\n",
       "      <th>province</th>\n",
       "      <th>model_values</th>\n",
       "      <th>ratio</th>\n",
       "    </tr>\n",
       "  </thead>\n",
       "  <tbody>\n",
       "    <tr>\n",
       "      <th>0</th>\n",
       "      <td>552</td>\n",
       "      <td>1011</td>\n",
       "      <td>3556.025000</td>\n",
       "      <td>-4.517790</td>\n",
       "      <td>10.457750</td>\n",
       "      <td>42.0333</td>\n",
       "      <td>-82.9000</td>\n",
       "      <td>191</td>\n",
       "      <td>HARROW CDA</td>\n",
       "      <td>ON</td>\n",
       "      <td>3008.439209</td>\n",
       "      <td>1.173934</td>\n",
       "    </tr>\n",
       "    <tr>\n",
       "      <th>1</th>\n",
       "      <td>552</td>\n",
       "      <td>1017</td>\n",
       "      <td>3460.883333</td>\n",
       "      <td>-4.547677</td>\n",
       "      <td>10.753982</td>\n",
       "      <td>41.9500</td>\n",
       "      <td>-82.5167</td>\n",
       "      <td>177</td>\n",
       "      <td>POINT PELEE</td>\n",
       "      <td>ON</td>\n",
       "      <td>3019.692139</td>\n",
       "      <td>1.138267</td>\n",
       "    </tr>\n",
       "    <tr>\n",
       "      <th>2</th>\n",
       "      <td>553</td>\n",
       "      <td>1007</td>\n",
       "      <td>3362.187500</td>\n",
       "      <td>-4.474659</td>\n",
       "      <td>10.302673</td>\n",
       "      <td>42.1034</td>\n",
       "      <td>-83.0945</td>\n",
       "      <td>182</td>\n",
       "      <td>AMHERSTBURG</td>\n",
       "      <td>ON</td>\n",
       "      <td>3084.320068</td>\n",
       "      <td>1.082636</td>\n",
       "    </tr>\n",
       "  </tbody>\n",
       "</table>\n",
       "</div>"
      ],
      "text/plain": [
       "   irlat  irlon  HDD (degC-day)      rlat       rlon      lat      lon  \\\n",
       "0    552   1011     3556.025000 -4.517790  10.457750  42.0333 -82.9000   \n",
       "1    552   1017     3460.883333 -4.547677  10.753982  41.9500 -82.5167   \n",
       "2    553   1007     3362.187500 -4.474659  10.302673  42.1034 -83.0945   \n",
       "\n",
       "   elev (m) station_name province  model_values     ratio  \n",
       "0       191   HARROW CDA       ON   3008.439209  1.173934  \n",
       "1       177  POINT PELEE       ON   3019.692139  1.138267  \n",
       "2       182  AMHERSTBURG       ON   3084.320068  1.082636  "
      ]
     },
     "execution_count": 13,
     "metadata": {},
     "output_type": "execute_result"
    }
   ],
   "source": [
    "df_match.head(3)"
   ]
  },
  {
   "cell_type": "code",
   "execution_count": 14,
   "metadata": {
    "execution": {
     "iopub.execute_input": "2020-12-18T20:20:23.346548Z",
     "iopub.status.busy": "2020-12-18T20:20:23.346001Z",
     "iopub.status.idle": "2020-12-18T20:20:23.348876Z",
     "shell.execute_reply": "2020-12-18T20:20:23.348404Z"
    },
    "papermill": {
     "duration": 0.027257,
     "end_time": "2020-12-18T20:20:23.349032",
     "exception": false,
     "start_time": "2020-12-18T20:20:23.321775",
     "status": "completed"
    },
    "tags": []
   },
   "outputs": [],
   "source": [
    "# convert back to degC\n",
    "if ds[dv].attrs[\"units\"] == \"degC\" and \"degC\" in station_dv:\n",
    "    print(\"Temperature DV detected in degC. Converitng to Kelvin\")\n",
    "    K = 273.15 # K\n",
    "    df_match[station_dv] -= K\n",
    "    df_match.model_values -= K"
   ]
  },
  {
   "cell_type": "code",
   "execution_count": 15,
   "metadata": {
    "execution": {
     "iopub.execute_input": "2020-12-18T20:20:23.398517Z",
     "iopub.status.busy": "2020-12-18T20:20:23.397562Z",
     "iopub.status.idle": "2020-12-18T20:20:23.423181Z",
     "shell.execute_reply": "2020-12-18T20:20:23.424027Z"
    },
    "papermill": {
     "duration": 0.050219,
     "end_time": "2020-12-18T20:20:23.424420",
     "exception": false,
     "start_time": "2020-12-18T20:20:23.374201",
     "status": "completed"
    },
    "tags": []
   },
   "outputs": [],
   "source": [
    "df_match.to_csv(\n",
    "    resource_filename(\n",
    "        \"climpyrical\",\n",
    "        f\"{preprocessed_stations_path}{name}.csv\"\n",
    "    ), index=False\n",
    ")"
   ]
  },
  {
   "cell_type": "code",
   "execution_count": 16,
   "metadata": {
    "execution": {
     "iopub.execute_input": "2020-12-18T20:20:23.469892Z",
     "iopub.status.busy": "2020-12-18T20:20:23.469176Z",
     "iopub.status.idle": "2020-12-18T20:20:23.471612Z",
     "shell.execute_reply": "2020-12-18T20:20:23.471077Z"
    },
    "papermill": {
     "duration": 0.023877,
     "end_time": "2020-12-18T20:20:23.471785",
     "exception": false,
     "start_time": "2020-12-18T20:20:23.447908",
     "status": "completed"
    },
    "tags": []
   },
   "outputs": [],
   "source": [
    "assert np.all(df_match['ratio'] >= 0)"
   ]
  },
  {
   "cell_type": "code",
   "execution_count": null,
   "metadata": {
    "papermill": {
     "duration": 0.021953,
     "end_time": "2020-12-18T20:20:23.517368",
     "exception": false,
     "start_time": "2020-12-18T20:20:23.495415",
     "status": "completed"
    },
    "tags": []
   },
   "outputs": [],
   "source": []
  }
 ],
 "metadata": {
  "kernelspec": {
   "display_name": "Python 3",
   "language": "python",
   "name": "python3"
  },
  "language_info": {
   "codemirror_mode": {
    "name": "ipython",
    "version": 3
   },
   "file_extension": ".py",
   "mimetype": "text/x-python",
   "name": "python",
   "nbconvert_exporter": "python",
   "pygments_lexer": "ipython3",
   "version": "3.8.5"
  },
  "papermill": {
   "default_parameters": {},
   "duration": 6.063326,
   "end_time": "2020-12-18T20:20:24.834437",
   "environment_variables": {},
   "exception": null,
   "input_path": "stations.ipynb",
   "output_path": "/home/nannau/Desktop/pipeline/climpyrical/climpyrical/data/results/intermediate/notebooks/stations_log_HDD.ipynb",
   "parameters": {
    "fill_glaciers": true,
    "input_model_path": "data/model_inputs/hdd_CanRCM4-LE_ens35_1951-2016_ann_ensmean.nc",
    "mask_path": "data/masks/canada_mask_rp.nc",
    "medians": {
     "action": "multiply",
     "value": 5045
    },
    "name": "HDD",
    "nbcc_loc_path": "data/station_inputs/NBCC_2020_new_coords.xlsm",
    "north_mask_path": "data/masks/canada_mask_north_rp.nc",
    "output_figure_path": "/data/results/figures/",
    "output_notebook_path": "/data/results/intermediate/notebooks/",
    "output_reconstruction_path": "/data/results/netcdf/",
    "output_tables_path": "/data/results/TableC2/",
    "preprocessed_model_path": "/data/results/intermediate/preprocessed_netcdf/",
    "preprocessed_stations_path": "/data/results/intermediate/preprocessed_stations/",
    "station_dv": "HDD (degC-day)",
    "station_path": "data/station_inputs/hdd_Tmax_Tmin_allstations_v3_for_maps.csv"
   },
   "start_time": "2020-12-18T20:20:18.771111",
   "version": "2.2.2"
  }
 },
 "nbformat": 4,
 "nbformat_minor": 4
}