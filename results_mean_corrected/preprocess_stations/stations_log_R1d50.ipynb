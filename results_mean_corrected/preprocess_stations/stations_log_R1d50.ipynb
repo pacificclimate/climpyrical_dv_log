{
 "cells": [
  {
   "cell_type": "markdown",
   "metadata": {
    "papermill": {
     "duration": 0.010792,
     "end_time": "2020-12-18T20:35:50.465598",
     "exception": false,
     "start_time": "2020-12-18T20:35:50.454806",
     "status": "completed"
    },
    "tags": []
   },
   "source": [
    "# Process Stations"
   ]
  },
  {
   "cell_type": "code",
   "execution_count": 1,
   "metadata": {
    "execution": {
     "iopub.execute_input": "2020-12-18T20:35:50.507959Z",
     "iopub.status.busy": "2020-12-18T20:35:50.507106Z",
     "iopub.status.idle": "2020-12-18T20:35:51.425105Z",
     "shell.execute_reply": "2020-12-18T20:35:51.426015Z"
    },
    "papermill": {
     "duration": 0.94291,
     "end_time": "2020-12-18T20:35:51.426612",
     "exception": false,
     "start_time": "2020-12-18T20:35:50.483702",
     "status": "completed"
    },
    "tags": []
   },
   "outputs": [],
   "source": [
    "import pandas as pd\n",
    "import numpy as np\n",
    "import matplotlib.pyplot as plt\n",
    "from pkg_resources import resource_filename\n",
    "\n",
    "from climpyrical.gridding import scale_model_obs\n",
    "from climpyrical.data import read_data\n",
    "from climpyrical.cmd.find_matched_model_vals import add_model_values"
   ]
  },
  {
   "cell_type": "markdown",
   "metadata": {
    "papermill": {
     "duration": 0.015959,
     "end_time": "2020-12-18T20:35:51.464047",
     "exception": false,
     "start_time": "2020-12-18T20:35:51.448088",
     "status": "completed"
    },
    "tags": []
   },
   "source": [
    "### Load station data for processing"
   ]
  },
  {
   "cell_type": "markdown",
   "metadata": {
    "papermill": {
     "duration": 0.013939,
     "end_time": "2020-12-18T20:35:51.492830",
     "exception": false,
     "start_time": "2020-12-18T20:35:51.478891",
     "status": "completed"
    },
    "tags": [
     "parameters"
    ]
   },
   "source": [
    "### Parameters are loaded from config_example.yml\n",
    "Example configuration from config_example.yml:\n",
    "```\n",
    "    paths:\n",
    "        preprocessed_model_path: /data/results/intermediate/preprocessed_netcdf/\n",
    "    RL50:\n",
    "        station_dv: \"RL50 (kPa)\"\n",
    "        station_path: 'data/station_inputs/Interim_snow_rain_load_LR_composite_stations_tbd_v4.csv'\n",
    "        input_model_path: 'data/model_inputs/snw_rain_CanRCM4-LE_ens35_1951-2016_max_rl50_load_ensmean.nc'\n",
    "        medians: \n",
    "            value: 0.4\n",
    "            action: \"multiply\"\n",
    "        fill_glaciers: True\n",
    "```"
   ]
  },
  {
   "cell_type": "code",
   "execution_count": 2,
   "metadata": {
    "execution": {
     "iopub.execute_input": "2020-12-18T20:35:51.528084Z",
     "iopub.status.busy": "2020-12-18T20:35:51.527555Z",
     "iopub.status.idle": "2020-12-18T20:35:51.530031Z",
     "shell.execute_reply": "2020-12-18T20:35:51.530425Z"
    },
    "papermill": {
     "duration": 0.024446,
     "end_time": "2020-12-18T20:35:51.530594",
     "exception": false,
     "start_time": "2020-12-18T20:35:51.506148",
     "status": "completed"
    },
    "tags": [
     "injected-parameters"
    ]
   },
   "outputs": [],
   "source": [
    "# Parameters\n",
    "name = \"R1d50\"\n",
    "station_dv = \"1day rain RL50 (mm)\"\n",
    "station_path = \"data/station_inputs/1day_rain_rl50_for_maps.csv\"\n",
    "input_model_path = (\n",
    "    \"data/model_inputs/rain_CanRCM4-LE_ens35_1951-2016_max1day_rl50_gum_lm_ensmean.nc\"\n",
    ")\n",
    "medians = {\"value\": 95, \"action\": \"multiply\"}\n",
    "fill_glaciers = True\n",
    "output_notebook_path = \"/data/results/intermediate/notebooks/\"\n",
    "preprocessed_model_path = \"/data/results/intermediate/preprocessed_netcdf/\"\n",
    "preprocessed_stations_path = \"/data/results/intermediate/preprocessed_stations/\"\n",
    "output_reconstruction_path = \"/data/results/netcdf/\"\n",
    "output_tables_path = \"/data/results/TableC2/\"\n",
    "output_figure_path = \"/data/results/figures/\"\n",
    "mask_path = \"data/masks/canada_mask_rp.nc\"\n",
    "north_mask_path = \"data/masks/canada_mask_north_rp.nc\"\n",
    "nbcc_loc_path = \"data/station_inputs/NBCC_2020_new_coords.xlsm\"\n"
   ]
  },
  {
   "cell_type": "code",
   "execution_count": 3,
   "metadata": {
    "execution": {
     "iopub.execute_input": "2020-12-18T20:35:51.568950Z",
     "iopub.status.busy": "2020-12-18T20:35:51.568440Z",
     "iopub.status.idle": "2020-12-18T20:35:51.570606Z",
     "shell.execute_reply": "2020-12-18T20:35:51.570999Z"
    },
    "papermill": {
     "duration": 0.021339,
     "end_time": "2020-12-18T20:35:51.571183",
     "exception": false,
     "start_time": "2020-12-18T20:35:51.549844",
     "status": "completed"
    },
    "tags": [
     "parameters"
    ]
   },
   "outputs": [],
   "source": [
    "# Parameters cell"
   ]
  },
  {
   "cell_type": "code",
   "execution_count": 4,
   "metadata": {
    "execution": {
     "iopub.execute_input": "2020-12-18T20:35:51.605752Z",
     "iopub.status.busy": "2020-12-18T20:35:51.605125Z",
     "iopub.status.idle": "2020-12-18T20:35:51.616043Z",
     "shell.execute_reply": "2020-12-18T20:35:51.616481Z"
    },
    "papermill": {
     "duration": 0.03149,
     "end_time": "2020-12-18T20:35:51.616671",
     "exception": false,
     "start_time": "2020-12-18T20:35:51.585181",
     "status": "completed"
    },
    "tags": []
   },
   "outputs": [],
   "source": [
    "df = pd.read_csv(resource_filename(\"climpyrical\", station_path), index_col=None)"
   ]
  },
  {
   "cell_type": "markdown",
   "metadata": {
    "papermill": {
     "duration": 0.012903,
     "end_time": "2020-12-18T20:35:51.645830",
     "exception": false,
     "start_time": "2020-12-18T20:35:51.632927",
     "status": "completed"
    },
    "tags": []
   },
   "source": [
    "Check the columns for standard names, and standardize them.\n",
    "\n",
    "This process will not catch any and all possible inputs, so refer to documentation for \n",
    "expected column names"
   ]
  },
  {
   "cell_type": "code",
   "execution_count": 5,
   "metadata": {
    "execution": {
     "iopub.execute_input": "2020-12-18T20:35:51.688990Z",
     "iopub.status.busy": "2020-12-18T20:35:51.687836Z",
     "iopub.status.idle": "2020-12-18T20:35:51.691306Z",
     "shell.execute_reply": "2020-12-18T20:35:51.690422Z"
    },
    "papermill": {
     "duration": 0.030878,
     "end_time": "2020-12-18T20:35:51.691602",
     "exception": false,
     "start_time": "2020-12-18T20:35:51.660724",
     "status": "completed"
    },
    "tags": []
   },
   "outputs": [],
   "source": [
    "def check_df_columns(df):\n",
    "    if 'longitude' in df.columns:\n",
    "        df=df.rename(columns={'longitude': 'lon'})\n",
    "    if 'long' in df.columns:\n",
    "        df=df.rename(columns={'long': 'lon'})\n",
    "    if 'latitude' in df.columns:\n",
    "        df=df.rename(columns={'latitude': 'lat'})\n",
    "    if 'name' in df.columns:\n",
    "        df=df.rename(columns={'name': 'station_name'})\n",
    "    if 'Name' in df.columns:\n",
    "        df=df.rename(columns={'Name': 'station_name'})\n",
    "    if \"prov\" in df.columns:\n",
    "        df=df.rename(columns={\"prov\": \"province\"})\n",
    "    if \"elev\" in df.columns:\n",
    "        df=df.rename(columns={\"elev\": \"elev (m)\"})\n",
    "    if \"elevation (m)\" in df.columns:\n",
    "        df=df.rename(columns={\"elevation (m)\": \"elev (m)\"})\n",
    "    return df\n",
    "\n",
    "df = check_df_columns(df)\n",
    "df.head(5)\n",
    "\n",
    "if np.any(np.isnan(df[[\"lon\", \"lat\", \"elev (m)\", station_dv]].values)):\n",
    "    raise ValueError(\"NaN detected in station input file.\")"
   ]
  },
  {
   "cell_type": "markdown",
   "metadata": {
    "papermill": {
     "duration": 0.010726,
     "end_time": "2020-12-18T20:35:51.716780",
     "exception": false,
     "start_time": "2020-12-18T20:35:51.706054",
     "status": "completed"
    },
    "tags": []
   },
   "source": [
    "Load preprocessed model at target resolution"
   ]
  },
  {
   "cell_type": "code",
   "execution_count": 6,
   "metadata": {
    "execution": {
     "iopub.execute_input": "2020-12-18T20:35:51.743261Z",
     "iopub.status.busy": "2020-12-18T20:35:51.742862Z",
     "iopub.status.idle": "2020-12-18T20:35:51.802554Z",
     "shell.execute_reply": "2020-12-18T20:35:51.803260Z"
    },
    "papermill": {
     "duration": 0.075709,
     "end_time": "2020-12-18T20:35:51.803575",
     "exception": false,
     "start_time": "2020-12-18T20:35:51.727866",
     "status": "completed"
    },
    "tags": []
   },
   "outputs": [],
   "source": [
    "ds = read_data(resource_filename(\"climpyrical\", f\"{preprocessed_model_path}{name}.nc\"))\n",
    "(dv, ) = ds.data_vars"
   ]
  },
  {
   "cell_type": "markdown",
   "metadata": {
    "papermill": {
     "duration": 0.015978,
     "end_time": "2020-12-18T20:35:51.844745",
     "exception": false,
     "start_time": "2020-12-18T20:35:51.828767",
     "status": "completed"
    },
    "tags": []
   },
   "source": [
    "Perform unit conversion if necessary\n",
    "\n",
    "Exclude suspect RL50 values with true 0.0"
   ]
  },
  {
   "cell_type": "code",
   "execution_count": 7,
   "metadata": {
    "execution": {
     "iopub.execute_input": "2020-12-18T20:35:51.884605Z",
     "iopub.status.busy": "2020-12-18T20:35:51.884014Z",
     "iopub.status.idle": "2020-12-18T20:35:51.886645Z",
     "shell.execute_reply": "2020-12-18T20:35:51.886165Z"
    },
    "papermill": {
     "duration": 0.023059,
     "end_time": "2020-12-18T20:35:51.886811",
     "exception": false,
     "start_time": "2020-12-18T20:35:51.863752",
     "status": "completed"
    },
    "tags": []
   },
   "outputs": [],
   "source": [
    "# calculate ratios with applied correction\n",
    "# Note the ratios are calculated in K for Temperature fields\n",
    "if ds[dv].attrs[\"units\"] == \"degC\" and \"degC\" in station_dv:\n",
    "    print(\"Temperature DV detected in degC. Converitng to Kelvin\")\n",
    "    K = 273.15 # K\n",
    "    df[station_dv] += K\n",
    "    ds[dv] += K\n",
    "\n",
    "if 'RL50 (kPa)' in station_dv:\n",
    "    df = df[df[station_dv] != 0.0]"
   ]
  },
  {
   "cell_type": "markdown",
   "metadata": {
    "papermill": {
     "duration": 0.010422,
     "end_time": "2020-12-18T20:35:51.912386",
     "exception": false,
     "start_time": "2020-12-18T20:35:51.901964",
     "status": "completed"
    },
    "tags": []
   },
   "source": [
    "Use matching script to find matching model values"
   ]
  },
  {
   "cell_type": "code",
   "execution_count": 8,
   "metadata": {
    "execution": {
     "iopub.execute_input": "2020-12-18T20:35:51.947317Z",
     "iopub.status.busy": "2020-12-18T20:35:51.946863Z",
     "iopub.status.idle": "2020-12-18T20:35:53.995542Z",
     "shell.execute_reply": "2020-12-18T20:35:53.995180Z"
    },
    "papermill": {
     "duration": 2.067745,
     "end_time": "2020-12-18T20:35:53.995673",
     "exception": false,
     "start_time": "2020-12-18T20:35:51.927928",
     "status": "completed"
    },
    "tags": []
   },
   "outputs": [
    {
     "name": "stderr",
     "output_type": "stream",
     "text": [
      "INFO:root:Detect units: mm\n"
     ]
    },
    {
     "name": "stderr",
     "output_type": "stream",
     "text": [
      "INFO:root:rlat or rlon not detected in input file.converting assumes WGS84 coords to rotated pole\n"
     ]
    },
    {
     "name": "stderr",
     "output_type": "stream",
     "text": [
      "INFO:root:Matching coordinates now\n"
     ]
    },
    {
     "name": "stderr",
     "output_type": "stream",
     "text": [
      "INFO:root:Locating corresponding model valuesInterpolating to nearest if matched model value is NaN\n"
     ]
    },
    {
     "data": {
      "text/html": [
       "<div>\n",
       "<style scoped>\n",
       "    .dataframe tbody tr th:only-of-type {\n",
       "        vertical-align: middle;\n",
       "    }\n",
       "\n",
       "    .dataframe tbody tr th {\n",
       "        vertical-align: top;\n",
       "    }\n",
       "\n",
       "    .dataframe thead th {\n",
       "        text-align: right;\n",
       "    }\n",
       "</style>\n",
       "<table border=\"1\" class=\"dataframe\">\n",
       "  <thead>\n",
       "    <tr style=\"text-align: right;\">\n",
       "      <th></th>\n",
       "      <th>id</th>\n",
       "      <th>station_name</th>\n",
       "      <th>province</th>\n",
       "      <th>lon</th>\n",
       "      <th>lat</th>\n",
       "      <th>elev (m)</th>\n",
       "      <th>1day rain RL50 (mm)</th>\n",
       "      <th>rlat</th>\n",
       "      <th>rlon</th>\n",
       "      <th>irlat</th>\n",
       "      <th>irlon</th>\n",
       "      <th>model_values</th>\n",
       "    </tr>\n",
       "  </thead>\n",
       "  <tbody>\n",
       "    <tr>\n",
       "      <th>0</th>\n",
       "      <td>1002</td>\n",
       "      <td>VANCOUVER KITSILANO</td>\n",
       "      <td>BC</td>\n",
       "      <td>-123.167</td>\n",
       "      <td>49.2667</td>\n",
       "      <td>12</td>\n",
       "      <td>104.197365</td>\n",
       "      <td>4.596429</td>\n",
       "      <td>-16.779601</td>\n",
       "      <td>758</td>\n",
       "      <td>395</td>\n",
       "      <td>121.370911</td>\n",
       "    </tr>\n",
       "    <tr>\n",
       "      <th>1</th>\n",
       "      <td>1006</td>\n",
       "      <td>VANCOUVER OAKRIDGE</td>\n",
       "      <td>BC</td>\n",
       "      <td>-123.120</td>\n",
       "      <td>49.2347</td>\n",
       "      <td>76</td>\n",
       "      <td>93.186924</td>\n",
       "      <td>4.556178</td>\n",
       "      <td>-16.760966</td>\n",
       "      <td>757</td>\n",
       "      <td>396</td>\n",
       "      <td>119.595963</td>\n",
       "    </tr>\n",
       "    <tr>\n",
       "      <th>2</th>\n",
       "      <td>1007</td>\n",
       "      <td>VANCOUVER PMO</td>\n",
       "      <td>BC</td>\n",
       "      <td>-123.117</td>\n",
       "      <td>49.2833</td>\n",
       "      <td>59</td>\n",
       "      <td>122.434211</td>\n",
       "      <td>4.601492</td>\n",
       "      <td>-16.743234</td>\n",
       "      <td>758</td>\n",
       "      <td>396</td>\n",
       "      <td>122.320427</td>\n",
       "    </tr>\n",
       "    <tr>\n",
       "      <th>3</th>\n",
       "      <td>1013</td>\n",
       "      <td>VANCOUVER UBC</td>\n",
       "      <td>BC</td>\n",
       "      <td>-123.250</td>\n",
       "      <td>49.2500</td>\n",
       "      <td>76</td>\n",
       "      <td>88.033227</td>\n",
       "      <td>4.598340</td>\n",
       "      <td>-16.836438</td>\n",
       "      <td>758</td>\n",
       "      <td>394</td>\n",
       "      <td>120.421387</td>\n",
       "    </tr>\n",
       "    <tr>\n",
       "      <th>4</th>\n",
       "      <td>1035</td>\n",
       "      <td>WHISTLER ROUNDHOUSE</td>\n",
       "      <td>BC</td>\n",
       "      <td>-122.947</td>\n",
       "      <td>50.0678</td>\n",
       "      <td>1835</td>\n",
       "      <td>114.055229</td>\n",
       "      <td>5.307732</td>\n",
       "      <td>-16.383046</td>\n",
       "      <td>774</td>\n",
       "      <td>404</td>\n",
       "      <td>107.412415</td>\n",
       "    </tr>\n",
       "  </tbody>\n",
       "</table>\n",
       "</div>"
      ],
      "text/plain": [
       "     id         station_name province      lon      lat  elev (m)  \\\n",
       "0  1002  VANCOUVER KITSILANO       BC -123.167  49.2667        12   \n",
       "1  1006   VANCOUVER OAKRIDGE       BC -123.120  49.2347        76   \n",
       "2  1007        VANCOUVER PMO       BC -123.117  49.2833        59   \n",
       "3  1013        VANCOUVER UBC       BC -123.250  49.2500        76   \n",
       "4  1035  WHISTLER ROUNDHOUSE       BC -122.947  50.0678      1835   \n",
       "\n",
       "   1day rain RL50 (mm)      rlat       rlon  irlat  irlon  model_values  \n",
       "0           104.197365  4.596429 -16.779601    758    395    121.370911  \n",
       "1            93.186924  4.556178 -16.760966    757    396    119.595963  \n",
       "2           122.434211  4.601492 -16.743234    758    396    122.320427  \n",
       "3            88.033227  4.598340 -16.836438    758    394    120.421387  \n",
       "4           114.055229  5.307732 -16.383046    774    404    107.412415  "
      ]
     },
     "execution_count": 8,
     "metadata": {},
     "output_type": "execute_result"
    }
   ],
   "source": [
    "df = add_model_values(ds=ds, df=df)\n",
    "df.head(5)"
   ]
  },
  {
   "cell_type": "markdown",
   "metadata": {
    "papermill": {
     "duration": 0.013853,
     "end_time": "2020-12-18T20:35:54.025520",
     "exception": false,
     "start_time": "2020-12-18T20:35:54.011667",
     "status": "completed"
    },
    "tags": []
   },
   "source": [
    "Group stations that land in the same index in rlat and rlon (land in the same grid cell)\n",
    "\n",
    "This means that they are in the same grid cell and need to be aggregated"
   ]
  },
  {
   "cell_type": "code",
   "execution_count": 9,
   "metadata": {
    "execution": {
     "iopub.execute_input": "2020-12-18T20:35:54.072722Z",
     "iopub.status.busy": "2020-12-18T20:35:54.071735Z",
     "iopub.status.idle": "2020-12-18T20:35:54.088328Z",
     "shell.execute_reply": "2020-12-18T20:35:54.087405Z"
    },
    "papermill": {
     "duration": 0.045535,
     "end_time": "2020-12-18T20:35:54.088615",
     "exception": false,
     "start_time": "2020-12-18T20:35:54.043080",
     "status": "completed"
    },
    "tags": []
   },
   "outputs": [],
   "source": [
    "agg_dict = {\n",
    "    station_dv: 'mean', \n",
    "    'rlat':'mean', \n",
    "    'rlon':'mean', \n",
    "    'lat': 'mean', \n",
    "    'lon': 'mean', \n",
    "    'elev (m)': 'mean',\n",
    "    'station_name': 'first',\n",
    "    'province': 'first',\n",
    "    \"model_values\": \"mean\"\n",
    "}\n",
    "\n",
    "# Province key is used for WP10 and WP50 for\n",
    "# special treatment of Atlantic/Far NW areas\n",
    "if \"province\" not in df.columns:\n",
    "    agg_dict = agg_dict.pop(\"province\")\n",
    "\n",
    "df_match = df.groupby(\n",
    "    ['irlat', 'irlon'], as_index=False\n",
    ").agg(\n",
    "    agg_dict\n",
    ")\n",
    "\n",
    "\n",
    "irlat = df_match.irlat\n",
    "irlon = df_match.irlon"
   ]
  },
  {
   "cell_type": "code",
   "execution_count": 10,
   "metadata": {
    "execution": {
     "iopub.execute_input": "2020-12-18T20:35:54.142180Z",
     "iopub.status.busy": "2020-12-18T20:35:54.140925Z",
     "iopub.status.idle": "2020-12-18T20:35:54.145205Z",
     "shell.execute_reply": "2020-12-18T20:35:54.145648Z"
    },
    "papermill": {
     "duration": 0.038979,
     "end_time": "2020-12-18T20:35:54.145877",
     "exception": false,
     "start_time": "2020-12-18T20:35:54.106898",
     "status": "completed"
    },
    "tags": []
   },
   "outputs": [
    {
     "data": {
      "text/html": [
       "<div>\n",
       "<style scoped>\n",
       "    .dataframe tbody tr th:only-of-type {\n",
       "        vertical-align: middle;\n",
       "    }\n",
       "\n",
       "    .dataframe tbody tr th {\n",
       "        vertical-align: top;\n",
       "    }\n",
       "\n",
       "    .dataframe thead th {\n",
       "        text-align: right;\n",
       "    }\n",
       "</style>\n",
       "<table border=\"1\" class=\"dataframe\">\n",
       "  <thead>\n",
       "    <tr style=\"text-align: right;\">\n",
       "      <th></th>\n",
       "      <th>irlat</th>\n",
       "      <th>irlon</th>\n",
       "      <th>1day rain RL50 (mm)</th>\n",
       "      <th>rlat</th>\n",
       "      <th>rlon</th>\n",
       "      <th>lat</th>\n",
       "      <th>lon</th>\n",
       "      <th>elev (m)</th>\n",
       "      <th>station_name</th>\n",
       "      <th>province</th>\n",
       "      <th>model_values</th>\n",
       "    </tr>\n",
       "  </thead>\n",
       "  <tbody>\n",
       "    <tr>\n",
       "      <th>0</th>\n",
       "      <td>547</td>\n",
       "      <td>1016</td>\n",
       "      <td>105.312437</td>\n",
       "      <td>-4.767093</td>\n",
       "      <td>10.668510</td>\n",
       "      <td>41.7500</td>\n",
       "      <td>-82.6833</td>\n",
       "      <td>175.0</td>\n",
       "      <td>PELEE ISLAND</td>\n",
       "      <td>ON</td>\n",
       "      <td>114.586441</td>\n",
       "    </tr>\n",
       "    <tr>\n",
       "      <th>1</th>\n",
       "      <td>552</td>\n",
       "      <td>1011</td>\n",
       "      <td>94.781572</td>\n",
       "      <td>-4.517790</td>\n",
       "      <td>10.457750</td>\n",
       "      <td>42.0333</td>\n",
       "      <td>-82.9000</td>\n",
       "      <td>190.0</td>\n",
       "      <td>HARROW CDA</td>\n",
       "      <td>ON</td>\n",
       "      <td>114.114761</td>\n",
       "    </tr>\n",
       "    <tr>\n",
       "      <th>2</th>\n",
       "      <td>552</td>\n",
       "      <td>1017</td>\n",
       "      <td>123.178804</td>\n",
       "      <td>-4.547677</td>\n",
       "      <td>10.753982</td>\n",
       "      <td>41.9500</td>\n",
       "      <td>-82.5167</td>\n",
       "      <td>177.0</td>\n",
       "      <td>POINT PELEE</td>\n",
       "      <td>ON</td>\n",
       "      <td>113.821716</td>\n",
       "    </tr>\n",
       "    <tr>\n",
       "      <th>3</th>\n",
       "      <td>553</td>\n",
       "      <td>1007</td>\n",
       "      <td>110.595945</td>\n",
       "      <td>-4.474659</td>\n",
       "      <td>10.302673</td>\n",
       "      <td>42.1034</td>\n",
       "      <td>-83.0945</td>\n",
       "      <td>182.0</td>\n",
       "      <td>AMHERSTBURG</td>\n",
       "      <td>ON</td>\n",
       "      <td>114.963554</td>\n",
       "    </tr>\n",
       "    <tr>\n",
       "      <th>4</th>\n",
       "      <td>553</td>\n",
       "      <td>1015</td>\n",
       "      <td>95.966823</td>\n",
       "      <td>-4.477661</td>\n",
       "      <td>10.621608</td>\n",
       "      <td>42.0431</td>\n",
       "      <td>-82.6739</td>\n",
       "      <td>200.0</td>\n",
       "      <td>KINGSVILLE MOE</td>\n",
       "      <td>ON</td>\n",
       "      <td>113.189987</td>\n",
       "    </tr>\n",
       "    <tr>\n",
       "      <th>...</th>\n",
       "      <td>...</td>\n",
       "      <td>...</td>\n",
       "      <td>...</td>\n",
       "      <td>...</td>\n",
       "      <td>...</td>\n",
       "      <td>...</td>\n",
       "      <td>...</td>\n",
       "      <td>...</td>\n",
       "      <td>...</td>\n",
       "      <td>...</td>\n",
       "      <td>...</td>\n",
       "    </tr>\n",
       "    <tr>\n",
       "      <th>2080</th>\n",
       "      <td>1315</td>\n",
       "      <td>859</td>\n",
       "      <td>50.917539</td>\n",
       "      <td>29.258743</td>\n",
       "      <td>3.760270</td>\n",
       "      <td>76.4167</td>\n",
       "      <td>-82.9000</td>\n",
       "      <td>43.0</td>\n",
       "      <td>GRISE FIORD</td>\n",
       "      <td>NU</td>\n",
       "      <td>34.771614</td>\n",
       "    </tr>\n",
       "    <tr>\n",
       "      <th>2081</th>\n",
       "      <td>1322</td>\n",
       "      <td>640</td>\n",
       "      <td>18.408716</td>\n",
       "      <td>29.596811</td>\n",
       "      <td>-5.969242</td>\n",
       "      <td>76.2333</td>\n",
       "      <td>-119.3330</td>\n",
       "      <td>12.0</td>\n",
       "      <td>MOULD BAY A</td>\n",
       "      <td>NT</td>\n",
       "      <td>28.678452</td>\n",
       "    </tr>\n",
       "    <tr>\n",
       "      <th>2082</th>\n",
       "      <td>1362</td>\n",
       "      <td>741</td>\n",
       "      <td>20.870160</td>\n",
       "      <td>31.345756</td>\n",
       "      <td>-1.484925</td>\n",
       "      <td>78.7833</td>\n",
       "      <td>-103.5330</td>\n",
       "      <td>25.0</td>\n",
       "      <td>ISACHSEN</td>\n",
       "      <td>NU</td>\n",
       "      <td>31.229515</td>\n",
       "    </tr>\n",
       "    <tr>\n",
       "      <th>2083</th>\n",
       "      <td>1391</td>\n",
       "      <td>826</td>\n",
       "      <td>18.899350</td>\n",
       "      <td>32.645419</td>\n",
       "      <td>2.272431</td>\n",
       "      <td>79.9833</td>\n",
       "      <td>-85.9333</td>\n",
       "      <td>10.0</td>\n",
       "      <td>EUREKA A</td>\n",
       "      <td>NU</td>\n",
       "      <td>33.418697</td>\n",
       "    </tr>\n",
       "    <tr>\n",
       "      <th>2084</th>\n",
       "      <td>1472</td>\n",
       "      <td>894</td>\n",
       "      <td>17.172796</td>\n",
       "      <td>36.222663</td>\n",
       "      <td>5.274963</td>\n",
       "      <td>82.5178</td>\n",
       "      <td>-62.2806</td>\n",
       "      <td>30.0</td>\n",
       "      <td>ALERT</td>\n",
       "      <td>NU</td>\n",
       "      <td>33.418697</td>\n",
       "    </tr>\n",
       "  </tbody>\n",
       "</table>\n",
       "<p>2085 rows × 11 columns</p>\n",
       "</div>"
      ],
      "text/plain": [
       "      irlat  irlon  1day rain RL50 (mm)       rlat       rlon      lat  \\\n",
       "0       547   1016           105.312437  -4.767093  10.668510  41.7500   \n",
       "1       552   1011            94.781572  -4.517790  10.457750  42.0333   \n",
       "2       552   1017           123.178804  -4.547677  10.753982  41.9500   \n",
       "3       553   1007           110.595945  -4.474659  10.302673  42.1034   \n",
       "4       553   1015            95.966823  -4.477661  10.621608  42.0431   \n",
       "...     ...    ...                  ...        ...        ...      ...   \n",
       "2080   1315    859            50.917539  29.258743   3.760270  76.4167   \n",
       "2081   1322    640            18.408716  29.596811  -5.969242  76.2333   \n",
       "2082   1362    741            20.870160  31.345756  -1.484925  78.7833   \n",
       "2083   1391    826            18.899350  32.645419   2.272431  79.9833   \n",
       "2084   1472    894            17.172796  36.222663   5.274963  82.5178   \n",
       "\n",
       "           lon  elev (m)    station_name province  model_values  \n",
       "0     -82.6833     175.0    PELEE ISLAND       ON    114.586441  \n",
       "1     -82.9000     190.0      HARROW CDA       ON    114.114761  \n",
       "2     -82.5167     177.0     POINT PELEE       ON    113.821716  \n",
       "3     -83.0945     182.0     AMHERSTBURG       ON    114.963554  \n",
       "4     -82.6739     200.0  KINGSVILLE MOE       ON    113.189987  \n",
       "...        ...       ...             ...      ...           ...  \n",
       "2080  -82.9000      43.0     GRISE FIORD       NU     34.771614  \n",
       "2081 -119.3330      12.0     MOULD BAY A       NT     28.678452  \n",
       "2082 -103.5330      25.0        ISACHSEN       NU     31.229515  \n",
       "2083  -85.9333      10.0        EUREKA A       NU     33.418697  \n",
       "2084  -62.2806      30.0           ALERT       NU     33.418697  \n",
       "\n",
       "[2085 rows x 11 columns]"
      ]
     },
     "execution_count": 10,
     "metadata": {},
     "output_type": "execute_result"
    }
   ],
   "source": [
    "df_match"
   ]
  },
  {
   "cell_type": "markdown",
   "metadata": {
    "papermill": {
     "duration": 0.029847,
     "end_time": "2020-12-18T20:35:54.196781",
     "exception": false,
     "start_time": "2020-12-18T20:35:54.166934",
     "status": "completed"
    },
    "tags": []
   },
   "source": [
    "Verify that they are correlated"
   ]
  },
  {
   "cell_type": "code",
   "execution_count": 11,
   "metadata": {
    "execution": {
     "iopub.execute_input": "2020-12-18T20:35:54.257068Z",
     "iopub.status.busy": "2020-12-18T20:35:54.255261Z",
     "iopub.status.idle": "2020-12-18T20:35:54.387901Z",
     "shell.execute_reply": "2020-12-18T20:35:54.387471Z"
    },
    "papermill": {
     "duration": 0.167577,
     "end_time": "2020-12-18T20:35:54.388049",
     "exception": false,
     "start_time": "2020-12-18T20:35:54.220472",
     "status": "completed"
    },
    "tags": []
   },
   "outputs": [
    {
     "data": {
      "text/plain": [
       "Text(0, 0.5, 'Model')"
      ]
     },
     "execution_count": 11,
     "metadata": {},
     "output_type": "execute_result"
    },
    {
     "data": {
      "image/png": "[encoded data removed]",
      "text/plain": [
       "<Figure size 432x288 with 1 Axes>"
      ]
     },
     "metadata": {
      "needs_background": "light"
     },
     "output_type": "display_data"
    }
   ],
   "source": [
    "plt.scatter(df_match[station_dv], df_match.model_values)\n",
    "plt.title(\"Correlation between station and models\")\n",
    "plt.xlabel('Stations')\n",
    "plt.ylabel('Model')"
   ]
  },
  {
   "cell_type": "markdown",
   "metadata": {
    "papermill": {
     "duration": 0.021429,
     "end_time": "2020-12-18T20:35:54.432093",
     "exception": false,
     "start_time": "2020-12-18T20:35:54.410664",
     "status": "completed"
    },
    "tags": []
   },
   "source": [
    "Now each station should be matched with a value grid cell value"
   ]
  },
  {
   "cell_type": "markdown",
   "metadata": {
    "papermill": {
     "duration": 0.013313,
     "end_time": "2020-12-18T20:35:54.458907",
     "exception": false,
     "start_time": "2020-12-18T20:35:54.445594",
     "status": "completed"
    },
    "tags": []
   },
   "source": [
    "### Normalize the model mean to match that of the station distribution\n",
    "Find a factor, $\\beta$ such that\n",
    "$$\\mu_s - \\frac{\\mu_m}{\\beta} \\approx 0$$ where $\\mu_s$ is the spatial station mean and $\\mu_m$ is the spatial model mean.\n",
    "\n",
    "$\\beta$ is simply:\n",
    "\n",
    "$$\\beta = \\frac{\\sum_i^{N_s}{M_i}}{\\sum_i^{N_s}{S_i}}$$"
   ]
  },
  {
   "cell_type": "code",
   "execution_count": 12,
   "metadata": {
    "execution": {
     "iopub.execute_input": "2020-12-18T20:35:54.492536Z",
     "iopub.status.busy": "2020-12-18T20:35:54.492073Z",
     "iopub.status.idle": "2020-12-18T20:35:54.500111Z",
     "shell.execute_reply": "2020-12-18T20:35:54.500857Z"
    },
    "papermill": {
     "duration": 0.028703,
     "end_time": "2020-12-18T20:35:54.501187",
     "exception": false,
     "start_time": "2020-12-18T20:35:54.472484",
     "status": "completed"
    },
    "tags": []
   },
   "outputs": [
    {
     "name": "stdout",
     "output_type": "stream",
     "text": [
      "Scaling factor: 1.208052074423098\n"
     ]
    }
   ],
   "source": [
    "ratio, best_tol = scale_model_obs(df_match.model_values, df_match[station_dv])\n",
    "assert not np.any(np.isnan(ratio))\n",
    "df_match = df_match.assign(ratio=ratio)\n",
    "print(\"Scaling factor:\", best_tol)"
   ]
  },
  {
   "cell_type": "code",
   "execution_count": 13,
   "metadata": {
    "execution": {
     "iopub.execute_input": "2020-12-18T20:35:54.563644Z",
     "iopub.status.busy": "2020-12-18T20:35:54.563004Z",
     "iopub.status.idle": "2020-12-18T20:35:54.566536Z",
     "shell.execute_reply": "2020-12-18T20:35:54.566881Z"
    },
    "papermill": {
     "duration": 0.043093,
     "end_time": "2020-12-18T20:35:54.567109",
     "exception": false,
     "start_time": "2020-12-18T20:35:54.524016",
     "status": "completed"
    },
    "tags": []
   },
   "outputs": [
    {
     "data": {
      "text/html": [
       "<div>\n",
       "<style scoped>\n",
       "    .dataframe tbody tr th:only-of-type {\n",
       "        vertical-align: middle;\n",
       "    }\n",
       "\n",
       "    .dataframe tbody tr th {\n",
       "        vertical-align: top;\n",
       "    }\n",
       "\n",
       "    .dataframe thead th {\n",
       "        text-align: right;\n",
       "    }\n",
       "</style>\n",
       "<table border=\"1\" class=\"dataframe\">\n",
       "  <thead>\n",
       "    <tr style=\"text-align: right;\">\n",
       "      <th></th>\n",
       "      <th>irlat</th>\n",
       "      <th>irlon</th>\n",
       "      <th>1day rain RL50 (mm)</th>\n",
       "      <th>rlat</th>\n",
       "      <th>rlon</th>\n",
       "      <th>lat</th>\n",
       "      <th>lon</th>\n",
       "      <th>elev (m)</th>\n",
       "      <th>station_name</th>\n",
       "      <th>province</th>\n",
       "      <th>model_values</th>\n",
       "      <th>ratio</th>\n",
       "    </tr>\n",
       "  </thead>\n",
       "  <tbody>\n",
       "    <tr>\n",
       "      <th>0</th>\n",
       "      <td>547</td>\n",
       "      <td>1016</td>\n",
       "      <td>105.312437</td>\n",
       "      <td>-4.767093</td>\n",
       "      <td>10.668510</td>\n",
       "      <td>41.7500</td>\n",
       "      <td>-82.6833</td>\n",
       "      <td>175.0</td>\n",
       "      <td>PELEE ISLAND</td>\n",
       "      <td>ON</td>\n",
       "      <td>114.586441</td>\n",
       "      <td>1.110279</td>\n",
       "    </tr>\n",
       "    <tr>\n",
       "      <th>1</th>\n",
       "      <td>552</td>\n",
       "      <td>1011</td>\n",
       "      <td>94.781572</td>\n",
       "      <td>-4.517790</td>\n",
       "      <td>10.457750</td>\n",
       "      <td>42.0333</td>\n",
       "      <td>-82.9000</td>\n",
       "      <td>190.0</td>\n",
       "      <td>HARROW CDA</td>\n",
       "      <td>ON</td>\n",
       "      <td>114.114761</td>\n",
       "      <td>1.003385</td>\n",
       "    </tr>\n",
       "    <tr>\n",
       "      <th>2</th>\n",
       "      <td>552</td>\n",
       "      <td>1017</td>\n",
       "      <td>123.178804</td>\n",
       "      <td>-4.547677</td>\n",
       "      <td>10.753982</td>\n",
       "      <td>41.9500</td>\n",
       "      <td>-82.5167</td>\n",
       "      <td>177.0</td>\n",
       "      <td>POINT PELEE</td>\n",
       "      <td>ON</td>\n",
       "      <td>113.821716</td>\n",
       "      <td>1.307364</td>\n",
       "    </tr>\n",
       "  </tbody>\n",
       "</table>\n",
       "</div>"
      ],
      "text/plain": [
       "   irlat  irlon  1day rain RL50 (mm)      rlat       rlon      lat      lon  \\\n",
       "0    547   1016           105.312437 -4.767093  10.668510  41.7500 -82.6833   \n",
       "1    552   1011            94.781572 -4.517790  10.457750  42.0333 -82.9000   \n",
       "2    552   1017           123.178804 -4.547677  10.753982  41.9500 -82.5167   \n",
       "\n",
       "   elev (m)  station_name province  model_values     ratio  \n",
       "0     175.0  PELEE ISLAND       ON    114.586441  1.110279  \n",
       "1     190.0    HARROW CDA       ON    114.114761  1.003385  \n",
       "2     177.0   POINT PELEE       ON    113.821716  1.307364  "
      ]
     },
     "execution_count": 13,
     "metadata": {},
     "output_type": "execute_result"
    }
   ],
   "source": [
    "df_match.head(3)"
   ]
  },
  {
   "cell_type": "code",
   "execution_count": 14,
   "metadata": {
    "execution": {
     "iopub.execute_input": "2020-12-18T20:35:54.602926Z",
     "iopub.status.busy": "2020-12-18T20:35:54.602521Z",
     "iopub.status.idle": "2020-12-18T20:35:54.604763Z",
     "shell.execute_reply": "2020-12-18T20:35:54.605073Z"
    },
    "papermill": {
     "duration": 0.022966,
     "end_time": "2020-12-18T20:35:54.605220",
     "exception": false,
     "start_time": "2020-12-18T20:35:54.582254",
     "status": "completed"
    },
    "tags": []
   },
   "outputs": [],
   "source": [
    "# convert back to degC\n",
    "if ds[dv].attrs[\"units\"] == \"degC\" and \"degC\" in station_dv:\n",
    "    print(\"Temperature DV detected in degC. Converitng to Kelvin\")\n",
    "    K = 273.15 # K\n",
    "    df_match[station_dv] -= K\n",
    "    df_match.model_values -= K"
   ]
  },
  {
   "cell_type": "code",
   "execution_count": 15,
   "metadata": {
    "execution": {
     "iopub.execute_input": "2020-12-18T20:35:54.647710Z",
     "iopub.status.busy": "2020-12-18T20:35:54.646941Z",
     "iopub.status.idle": "2020-12-18T20:35:54.687249Z",
     "shell.execute_reply": "2020-12-18T20:35:54.686711Z"
    },
    "papermill": {
     "duration": 0.063483,
     "end_time": "2020-12-18T20:35:54.687398",
     "exception": false,
     "start_time": "2020-12-18T20:35:54.623915",
     "status": "completed"
    },
    "tags": []
   },
   "outputs": [],
   "source": [
    "df_match.to_csv(\n",
    "    resource_filename(\n",
    "        \"climpyrical\",\n",
    "        f\"{preprocessed_stations_path}{name}.csv\"\n",
    "    ), index=False\n",
    ")"
   ]
  },
  {
   "cell_type": "code",
   "execution_count": 16,
   "metadata": {
    "execution": {
     "iopub.execute_input": "2020-12-18T20:35:54.735327Z",
     "iopub.status.busy": "2020-12-18T20:35:54.734890Z",
     "iopub.status.idle": "2020-12-18T20:35:54.736961Z",
     "shell.execute_reply": "2020-12-18T20:35:54.737267Z"
    },
    "papermill": {
     "duration": 0.030947,
     "end_time": "2020-12-18T20:35:54.737408",
     "exception": false,
     "start_time": "2020-12-18T20:35:54.706461",
     "status": "completed"
    },
    "tags": []
   },
   "outputs": [],
   "source": [
    "assert np.all(df_match['ratio'] >= 0)"
   ]
  },
  {
   "cell_type": "code",
   "execution_count": null,
   "metadata": {
    "papermill": {
     "duration": 0.041684,
     "end_time": "2020-12-18T20:35:54.801857",
     "exception": false,
     "start_time": "2020-12-18T20:35:54.760173",
     "status": "completed"
    },
    "tags": []
   },
   "outputs": [],
   "source": []
  }
 ],
 "metadata": {
  "kernelspec": {
   "display_name": "Python 3",
   "language": "python",
   "name": "python3"
  },
  "language_info": {
   "codemirror_mode": {
    "name": "ipython",
    "version": 3
   },
   "file_extension": ".py",
   "mimetype": "text/x-python",
   "name": "python",
   "nbconvert_exporter": "python",
   "pygments_lexer": "ipython3",
   "version": "3.8.5"
  },
  "papermill": {
   "default_parameters": {},
   "duration": 5.575411,
   "end_time": "2020-12-18T20:35:55.356730",
   "environment_variables": {},
   "exception": null,
   "input_path": "stations.ipynb",
   "output_path": "/home/nannau/Desktop/pipeline/climpyrical/climpyrical/data/results/intermediate/notebooks/stations_log_R1d50.ipynb",
   "parameters": {
    "fill_glaciers": true,
    "input_model_path": "data/model_inputs/rain_CanRCM4-LE_ens35_1951-2016_max1day_rl50_gum_lm_ensmean.nc",
    "mask_path": "data/masks/canada_mask_rp.nc",
    "medians": {
     "action": "multiply",
     "value": 95
    },
    "name": "R1d50",
    "nbcc_loc_path": "data/station_inputs/NBCC_2020_new_coords.xlsm",
    "north_mask_path": "data/masks/canada_mask_north_rp.nc",
    "output_figure_path": "/data/results/figures/",
    "output_notebook_path": "/data/results/intermediate/notebooks/",
    "output_reconstruction_path": "/data/results/netcdf/",
    "output_tables_path": "/data/results/TableC2/",
    "preprocessed_model_path": "/data/results/intermediate/preprocessed_netcdf/",
    "preprocessed_stations_path": "/data/results/intermediate/preprocessed_stations/",
    "station_dv": "1day rain RL50 (mm)",
    "station_path": "data/station_inputs/1day_rain_rl50_for_maps.csv"
   },
   "start_time": "2020-12-18T20:35:49.781319",
   "version": "2.2.2"
  }
 },
 "nbformat": 4,
 "nbformat_minor": 4
}