{
 "cells": [
  {
   "cell_type": "markdown",
   "metadata": {
    "papermill": {
     "duration": 0.014092,
     "end_time": "2020-12-18T20:32:55.422153",
     "exception": false,
     "start_time": "2020-12-18T20:32:55.408061",
     "status": "completed"
    },
    "tags": []
   },
   "source": [
    "# Process Stations"
   ]
  },
  {
   "cell_type": "code",
   "execution_count": 1,
   "metadata": {
    "execution": {
     "iopub.execute_input": "2020-12-18T20:32:55.477098Z",
     "iopub.status.busy": "2020-12-18T20:32:55.475691Z",
     "iopub.status.idle": "2020-12-18T20:32:56.373126Z",
     "shell.execute_reply": "2020-12-18T20:32:56.372423Z"
    },
    "papermill": {
     "duration": 0.92846,
     "end_time": "2020-12-18T20:32:56.373395",
     "exception": false,
     "start_time": "2020-12-18T20:32:55.444935",
     "status": "completed"
    },
    "tags": []
   },
   "outputs": [],
   "source": [
    "import pandas as pd\n",
    "import numpy as np\n",
    "import matplotlib.pyplot as plt\n",
    "from pkg_resources import resource_filename\n",
    "\n",
    "from climpyrical.gridding import scale_model_obs\n",
    "from climpyrical.data import read_data\n",
    "from climpyrical.cmd.find_matched_model_vals import add_model_values"
   ]
  },
  {
   "cell_type": "markdown",
   "metadata": {
    "papermill": {
     "duration": 0.013541,
     "end_time": "2020-12-18T20:32:56.409560",
     "exception": false,
     "start_time": "2020-12-18T20:32:56.396019",
     "status": "completed"
    },
    "tags": []
   },
   "source": [
    "### Load station data for processing"
   ]
  },
  {
   "cell_type": "markdown",
   "metadata": {
    "papermill": {
     "duration": 0.010435,
     "end_time": "2020-12-18T20:32:56.430223",
     "exception": false,
     "start_time": "2020-12-18T20:32:56.419788",
     "status": "completed"
    },
    "tags": [
     "parameters"
    ]
   },
   "source": [
    "### Parameters are loaded from config_example.yml\n",
    "Example configuration from config_example.yml:\n",
    "```\n",
    "    paths:\n",
    "        preprocessed_model_path: /data/results/intermediate/preprocessed_netcdf/\n",
    "    RL50:\n",
    "        station_dv: \"RL50 (kPa)\"\n",
    "        station_path: 'data/station_inputs/Interim_snow_rain_load_LR_composite_stations_tbd_v4.csv'\n",
    "        input_model_path: 'data/model_inputs/snw_rain_CanRCM4-LE_ens35_1951-2016_max_rl50_load_ensmean.nc'\n",
    "        medians: \n",
    "            value: 0.4\n",
    "            action: \"multiply\"\n",
    "        fill_glaciers: True\n",
    "```"
   ]
  },
  {
   "cell_type": "code",
   "execution_count": 2,
   "metadata": {
    "execution": {
     "iopub.execute_input": "2020-12-18T20:32:56.458833Z",
     "iopub.status.busy": "2020-12-18T20:32:56.458203Z",
     "iopub.status.idle": "2020-12-18T20:32:56.461844Z",
     "shell.execute_reply": "2020-12-18T20:32:56.461131Z"
    },
    "papermill": {
     "duration": 0.021738,
     "end_time": "2020-12-18T20:32:56.462106",
     "exception": false,
     "start_time": "2020-12-18T20:32:56.440368",
     "status": "completed"
    },
    "tags": [
     "injected-parameters"
    ]
   },
   "outputs": [],
   "source": [
    "# Parameters\n",
    "name = \"DRWP5\"\n",
    "station_dv = \"DRWP-RL5 (Pa)\"\n",
    "station_path = \"data/station_inputs/drwp_rl5_for_maps.csv\"\n",
    "input_model_path = \"data/model_inputs/drwp_CanRCM4-LE_ens15_1951-2016_rl5_ensmean.nc\"\n",
    "medians = {\"value\": 163, \"action\": \"multiply\"}\n",
    "fill_glaciers = True\n",
    "output_notebook_path = \"/data/results/intermediate/notebooks/\"\n",
    "preprocessed_model_path = \"/data/results/intermediate/preprocessed_netcdf/\"\n",
    "preprocessed_stations_path = \"/data/results/intermediate/preprocessed_stations/\"\n",
    "output_reconstruction_path = \"/data/results/netcdf/\"\n",
    "output_tables_path = \"/data/results/TableC2/\"\n",
    "output_figure_path = \"/data/results/figures/\"\n",
    "mask_path = \"data/masks/canada_mask_rp.nc\"\n",
    "north_mask_path = \"data/masks/canada_mask_north_rp.nc\"\n",
    "nbcc_loc_path = \"data/station_inputs/NBCC_2020_new_coords.xlsm\"\n"
   ]
  },
  {
   "cell_type": "code",
   "execution_count": 3,
   "metadata": {
    "execution": {
     "iopub.execute_input": "2020-12-18T20:32:56.497248Z",
     "iopub.status.busy": "2020-12-18T20:32:56.496645Z",
     "iopub.status.idle": "2020-12-18T20:32:56.498421Z",
     "shell.execute_reply": "2020-12-18T20:32:56.498860Z"
    },
    "papermill": {
     "duration": 0.018578,
     "end_time": "2020-12-18T20:32:56.499053",
     "exception": false,
     "start_time": "2020-12-18T20:32:56.480475",
     "status": "completed"
    },
    "tags": [
     "parameters"
    ]
   },
   "outputs": [],
   "source": [
    "# Parameters cell"
   ]
  },
  {
   "cell_type": "code",
   "execution_count": 4,
   "metadata": {
    "execution": {
     "iopub.execute_input": "2020-12-18T20:32:56.541349Z",
     "iopub.status.busy": "2020-12-18T20:32:56.540814Z",
     "iopub.status.idle": "2020-12-18T20:32:56.547770Z",
     "shell.execute_reply": "2020-12-18T20:32:56.547357Z"
    },
    "papermill": {
     "duration": 0.029263,
     "end_time": "2020-12-18T20:32:56.547901",
     "exception": false,
     "start_time": "2020-12-18T20:32:56.518638",
     "status": "completed"
    },
    "tags": []
   },
   "outputs": [],
   "source": [
    "df = pd.read_csv(resource_filename(\"climpyrical\", station_path), index_col=None)"
   ]
  },
  {
   "cell_type": "markdown",
   "metadata": {
    "papermill": {
     "duration": 0.010291,
     "end_time": "2020-12-18T20:32:56.571076",
     "exception": false,
     "start_time": "2020-12-18T20:32:56.560785",
     "status": "completed"
    },
    "tags": []
   },
   "source": [
    "Check the columns for standard names, and standardize them.\n",
    "\n",
    "This process will not catch any and all possible inputs, so refer to documentation for \n",
    "expected column names"
   ]
  },
  {
   "cell_type": "code",
   "execution_count": 5,
   "metadata": {
    "execution": {
     "iopub.execute_input": "2020-12-18T20:32:56.605705Z",
     "iopub.status.busy": "2020-12-18T20:32:56.605279Z",
     "iopub.status.idle": "2020-12-18T20:32:56.607510Z",
     "shell.execute_reply": "2020-12-18T20:32:56.607183Z"
    },
    "papermill": {
     "duration": 0.02684,
     "end_time": "2020-12-18T20:32:56.607630",
     "exception": false,
     "start_time": "2020-12-18T20:32:56.580790",
     "status": "completed"
    },
    "tags": []
   },
   "outputs": [],
   "source": [
    "def check_df_columns(df):\n",
    "    if 'longitude' in df.columns:\n",
    "        df=df.rename(columns={'longitude': 'lon'})\n",
    "    if 'long' in df.columns:\n",
    "        df=df.rename(columns={'long': 'lon'})\n",
    "    if 'latitude' in df.columns:\n",
    "        df=df.rename(columns={'latitude': 'lat'})\n",
    "    if 'name' in df.columns:\n",
    "        df=df.rename(columns={'name': 'station_name'})\n",
    "    if 'Name' in df.columns:\n",
    "        df=df.rename(columns={'Name': 'station_name'})\n",
    "    if \"prov\" in df.columns:\n",
    "        df=df.rename(columns={\"prov\": \"province\"})\n",
    "    if \"elev\" in df.columns:\n",
    "        df=df.rename(columns={\"elev\": \"elev (m)\"})\n",
    "    if \"elevation (m)\" in df.columns:\n",
    "        df=df.rename(columns={\"elevation (m)\": \"elev (m)\"})\n",
    "    return df\n",
    "\n",
    "df = check_df_columns(df)\n",
    "df.head(5)\n",
    "\n",
    "if np.any(np.isnan(df[[\"lon\", \"lat\", \"elev (m)\", station_dv]].values)):\n",
    "    raise ValueError(\"NaN detected in station input file.\")"
   ]
  },
  {
   "cell_type": "markdown",
   "metadata": {
    "papermill": {
     "duration": 0.019515,
     "end_time": "2020-12-18T20:32:56.649519",
     "exception": false,
     "start_time": "2020-12-18T20:32:56.630004",
     "status": "completed"
    },
    "tags": []
   },
   "source": [
    "Load preprocessed model at target resolution"
   ]
  },
  {
   "cell_type": "code",
   "execution_count": 6,
   "metadata": {
    "execution": {
     "iopub.execute_input": "2020-12-18T20:32:56.677591Z",
     "iopub.status.busy": "2020-12-18T20:32:56.677178Z",
     "iopub.status.idle": "2020-12-18T20:32:56.746828Z",
     "shell.execute_reply": "2020-12-18T20:32:56.747174Z"
    },
    "papermill": {
     "duration": 0.086454,
     "end_time": "2020-12-18T20:32:56.747363",
     "exception": false,
     "start_time": "2020-12-18T20:32:56.660909",
     "status": "completed"
    },
    "tags": []
   },
   "outputs": [],
   "source": [
    "ds = read_data(resource_filename(\"climpyrical\", f\"{preprocessed_model_path}{name}.nc\"))\n",
    "(dv, ) = ds.data_vars"
   ]
  },
  {
   "cell_type": "markdown",
   "metadata": {
    "papermill": {
     "duration": 0.0174,
     "end_time": "2020-12-18T20:32:56.785434",
     "exception": false,
     "start_time": "2020-12-18T20:32:56.768034",
     "status": "completed"
    },
    "tags": []
   },
   "source": [
    "Perform unit conversion if necessary\n",
    "\n",
    "Exclude suspect RL50 values with true 0.0"
   ]
  },
  {
   "cell_type": "code",
   "execution_count": 7,
   "metadata": {
    "execution": {
     "iopub.execute_input": "2020-12-18T20:32:56.815431Z",
     "iopub.status.busy": "2020-12-18T20:32:56.814977Z",
     "iopub.status.idle": "2020-12-18T20:32:56.817038Z",
     "shell.execute_reply": "2020-12-18T20:32:56.817626Z"
    },
    "papermill": {
     "duration": 0.020221,
     "end_time": "2020-12-18T20:32:56.817935",
     "exception": false,
     "start_time": "2020-12-18T20:32:56.797714",
     "status": "completed"
    },
    "tags": []
   },
   "outputs": [],
   "source": [
    "# calculate ratios with applied correction\n",
    "# Note the ratios are calculated in K for Temperature fields\n",
    "if ds[dv].attrs[\"units\"] == \"degC\" and \"degC\" in station_dv:\n",
    "    print(\"Temperature DV detected in degC. Converitng to Kelvin\")\n",
    "    K = 273.15 # K\n",
    "    df[station_dv] += K\n",
    "    ds[dv] += K\n",
    "\n",
    "if 'RL50 (kPa)' in station_dv:\n",
    "    df = df[df[station_dv] != 0.0]"
   ]
  },
  {
   "cell_type": "markdown",
   "metadata": {
    "papermill": {
     "duration": 0.01046,
     "end_time": "2020-12-18T20:32:56.844449",
     "exception": false,
     "start_time": "2020-12-18T20:32:56.833989",
     "status": "completed"
    },
    "tags": []
   },
   "source": [
    "Use matching script to find matching model values"
   ]
  },
  {
   "cell_type": "code",
   "execution_count": 8,
   "metadata": {
    "execution": {
     "iopub.execute_input": "2020-12-18T20:32:56.871571Z",
     "iopub.status.busy": "2020-12-18T20:32:56.871025Z",
     "iopub.status.idle": "2020-12-18T20:32:58.803638Z",
     "shell.execute_reply": "2020-12-18T20:32:58.804085Z"
    },
    "papermill": {
     "duration": 1.949397,
     "end_time": "2020-12-18T20:32:58.804358",
     "exception": false,
     "start_time": "2020-12-18T20:32:56.854961",
     "status": "completed"
    },
    "tags": []
   },
   "outputs": [
    {
     "name": "stderr",
     "output_type": "stream",
     "text": [
      "INFO:root:Detect units: Pa\n"
     ]
    },
    {
     "name": "stderr",
     "output_type": "stream",
     "text": [
      "INFO:root:rlat or rlon not detected in input file.converting assumes WGS84 coords to rotated pole\n"
     ]
    },
    {
     "name": "stderr",
     "output_type": "stream",
     "text": [
      "INFO:root:Matching coordinates now\n"
     ]
    },
    {
     "name": "stderr",
     "output_type": "stream",
     "text": [
      "INFO:root:Locating corresponding model valuesInterpolating to nearest if matched model value is NaN\n"
     ]
    },
    {
     "data": {
      "text/html": [
       "<div>\n",
       "<style scoped>\n",
       "    .dataframe tbody tr th:only-of-type {\n",
       "        vertical-align: middle;\n",
       "    }\n",
       "\n",
       "    .dataframe tbody tr th {\n",
       "        vertical-align: top;\n",
       "    }\n",
       "\n",
       "    .dataframe thead th {\n",
       "        text-align: right;\n",
       "    }\n",
       "</style>\n",
       "<table border=\"1\" class=\"dataframe\">\n",
       "  <thead>\n",
       "    <tr style=\"text-align: right;\">\n",
       "      <th></th>\n",
       "      <th>Cli_ID</th>\n",
       "      <th>station_name</th>\n",
       "      <th>lat</th>\n",
       "      <th>lon</th>\n",
       "      <th>elev (m)</th>\n",
       "      <th>DRWP-RL5 (Pa)</th>\n",
       "      <th>rlat</th>\n",
       "      <th>rlon</th>\n",
       "      <th>irlat</th>\n",
       "      <th>irlon</th>\n",
       "      <th>model_values</th>\n",
       "    </tr>\n",
       "  </thead>\n",
       "  <tbody>\n",
       "    <tr>\n",
       "      <th>0</th>\n",
       "      <td>1018621</td>\n",
       "      <td>VICTORIA INT'L A</td>\n",
       "      <td>48.65</td>\n",
       "      <td>-123.43</td>\n",
       "      <td>19</td>\n",
       "      <td>105.21</td>\n",
       "      <td>4.070328</td>\n",
       "      <td>-17.145830</td>\n",
       "      <td>746</td>\n",
       "      <td>387</td>\n",
       "      <td>156.890762</td>\n",
       "    </tr>\n",
       "    <tr>\n",
       "      <th>1</th>\n",
       "      <td>1021830</td>\n",
       "      <td>COMOX A</td>\n",
       "      <td>49.72</td>\n",
       "      <td>-124.90</td>\n",
       "      <td>26</td>\n",
       "      <td>265.84</td>\n",
       "      <td>5.401923</td>\n",
       "      <td>-17.690627</td>\n",
       "      <td>776</td>\n",
       "      <td>375</td>\n",
       "      <td>169.923080</td>\n",
       "    </tr>\n",
       "    <tr>\n",
       "      <th>2</th>\n",
       "      <td>1026271</td>\n",
       "      <td>PORT HARDY A</td>\n",
       "      <td>50.68</td>\n",
       "      <td>-127.37</td>\n",
       "      <td>22</td>\n",
       "      <td>148.07</td>\n",
       "      <td>6.867843</td>\n",
       "      <td>-18.824951</td>\n",
       "      <td>809</td>\n",
       "      <td>349</td>\n",
       "      <td>172.624802</td>\n",
       "    </tr>\n",
       "    <tr>\n",
       "      <th>3</th>\n",
       "      <td>1046391</td>\n",
       "      <td>POWELL RIVER A</td>\n",
       "      <td>49.83</td>\n",
       "      <td>-124.50</td>\n",
       "      <td>130</td>\n",
       "      <td>154.98</td>\n",
       "      <td>5.416274</td>\n",
       "      <td>-17.408978</td>\n",
       "      <td>777</td>\n",
       "      <td>381</td>\n",
       "      <td>184.510193</td>\n",
       "    </tr>\n",
       "    <tr>\n",
       "      <th>4</th>\n",
       "      <td>1057050</td>\n",
       "      <td>SANDSPIT A</td>\n",
       "      <td>53.25</td>\n",
       "      <td>-131.81</td>\n",
       "      <td>6</td>\n",
       "      <td>430.41</td>\n",
       "      <td>10.319011</td>\n",
       "      <td>-20.314501</td>\n",
       "      <td>887</td>\n",
       "      <td>315</td>\n",
       "      <td>386.397552</td>\n",
       "    </tr>\n",
       "  </tbody>\n",
       "</table>\n",
       "</div>"
      ],
      "text/plain": [
       "    Cli_ID      station_name    lat     lon  elev (m)  DRWP-RL5 (Pa)  \\\n",
       "0  1018621  VICTORIA INT'L A  48.65 -123.43        19         105.21   \n",
       "1  1021830           COMOX A  49.72 -124.90        26         265.84   \n",
       "2  1026271      PORT HARDY A  50.68 -127.37        22         148.07   \n",
       "3  1046391    POWELL RIVER A  49.83 -124.50       130         154.98   \n",
       "4  1057050        SANDSPIT A  53.25 -131.81         6         430.41   \n",
       "\n",
       "        rlat       rlon  irlat  irlon  model_values  \n",
       "0   4.070328 -17.145830    746    387    156.890762  \n",
       "1   5.401923 -17.690627    776    375    169.923080  \n",
       "2   6.867843 -18.824951    809    349    172.624802  \n",
       "3   5.416274 -17.408978    777    381    184.510193  \n",
       "4  10.319011 -20.314501    887    315    386.397552  "
      ]
     },
     "execution_count": 8,
     "metadata": {},
     "output_type": "execute_result"
    }
   ],
   "source": [
    "df = add_model_values(ds=ds, df=df)\n",
    "df.head(5)"
   ]
  },
  {
   "cell_type": "markdown",
   "metadata": {
    "papermill": {
     "duration": 0.024034,
     "end_time": "2020-12-18T20:32:58.853713",
     "exception": false,
     "start_time": "2020-12-18T20:32:58.829679",
     "status": "completed"
    },
    "tags": []
   },
   "source": [
    "Group stations that land in the same index in rlat and rlon (land in the same grid cell)\n",
    "\n",
    "This means that they are in the same grid cell and need to be aggregated"
   ]
  },
  {
   "cell_type": "code",
   "execution_count": 9,
   "metadata": {
    "execution": {
     "iopub.execute_input": "2020-12-18T20:32:58.895708Z",
     "iopub.status.busy": "2020-12-18T20:32:58.895110Z",
     "iopub.status.idle": "2020-12-18T20:32:58.901255Z",
     "shell.execute_reply": "2020-12-18T20:32:58.901863Z"
    },
    "papermill": {
     "duration": 0.03303,
     "end_time": "2020-12-18T20:32:58.902133",
     "exception": false,
     "start_time": "2020-12-18T20:32:58.869103",
     "status": "completed"
    },
    "tags": []
   },
   "outputs": [],
   "source": [
    "agg_dict = {\n",
    "    station_dv: 'mean', \n",
    "    'rlat':'mean', \n",
    "    'rlon':'mean', \n",
    "    'lat': 'mean', \n",
    "    'lon': 'mean', \n",
    "    'elev (m)': 'mean',\n",
    "    'station_name': 'first',\n",
    "    'province': 'first',\n",
    "    \"model_values\": \"mean\"\n",
    "}\n",
    "\n",
    "# Province key is used for WP10 and WP50 for\n",
    "# special treatment of Atlantic/Far NW areas\n",
    "if \"province\" not in df.columns:\n",
    "    agg_dict = agg_dict.pop(\"province\")\n",
    "\n",
    "df_match = df.groupby(\n",
    "    ['irlat', 'irlon'], as_index=False\n",
    ").agg(\n",
    "    agg_dict\n",
    ")\n",
    "\n",
    "\n",
    "irlat = df_match.irlat\n",
    "irlon = df_match.irlon"
   ]
  },
  {
   "cell_type": "code",
   "execution_count": 10,
   "metadata": {
    "execution": {
     "iopub.execute_input": "2020-12-18T20:32:58.959321Z",
     "iopub.status.busy": "2020-12-18T20:32:58.951829Z",
     "iopub.status.idle": "2020-12-18T20:32:58.962744Z",
     "shell.execute_reply": "2020-12-18T20:32:58.963125Z"
    },
    "papermill": {
     "duration": 0.040321,
     "end_time": "2020-12-18T20:32:58.963297",
     "exception": false,
     "start_time": "2020-12-18T20:32:58.922976",
     "status": "completed"
    },
    "tags": []
   },
   "outputs": [
    {
     "data": {
      "text/html": [
       "<div>\n",
       "<style scoped>\n",
       "    .dataframe tbody tr th:only-of-type {\n",
       "        vertical-align: middle;\n",
       "    }\n",
       "\n",
       "    .dataframe tbody tr th {\n",
       "        vertical-align: top;\n",
       "    }\n",
       "\n",
       "    .dataframe thead th {\n",
       "        text-align: right;\n",
       "    }\n",
       "</style>\n",
       "<table border=\"1\" class=\"dataframe\">\n",
       "  <thead>\n",
       "    <tr style=\"text-align: right;\">\n",
       "      <th></th>\n",
       "      <th>irlat</th>\n",
       "      <th>irlon</th>\n",
       "      <th>Cli_ID</th>\n",
       "      <th>station_name</th>\n",
       "      <th>lat</th>\n",
       "      <th>lon</th>\n",
       "      <th>elev (m)</th>\n",
       "      <th>DRWP-RL5 (Pa)</th>\n",
       "      <th>rlat</th>\n",
       "      <th>rlon</th>\n",
       "      <th>model_values</th>\n",
       "    </tr>\n",
       "  </thead>\n",
       "  <tbody>\n",
       "    <tr>\n",
       "      <th>0</th>\n",
       "      <td>558</td>\n",
       "      <td>1009</td>\n",
       "      <td>6139527</td>\n",
       "      <td>WINDSOR A</td>\n",
       "      <td>42.28</td>\n",
       "      <td>-82.96</td>\n",
       "      <td>190</td>\n",
       "      <td>179.16</td>\n",
       "      <td>-4.283104</td>\n",
       "      <td>10.369387</td>\n",
       "      <td>227.871414</td>\n",
       "    </tr>\n",
       "    <tr>\n",
       "      <th>1</th>\n",
       "      <td>576</td>\n",
       "      <td>1017</td>\n",
       "      <td>6127514</td>\n",
       "      <td>SARNIA AIRPORT</td>\n",
       "      <td>42.99</td>\n",
       "      <td>-82.30</td>\n",
       "      <td>181</td>\n",
       "      <td>143.06</td>\n",
       "      <td>-3.496103</td>\n",
       "      <td>10.717288</td>\n",
       "      <td>237.003296</td>\n",
       "    </tr>\n",
       "    <tr>\n",
       "      <th>2</th>\n",
       "      <td>580</td>\n",
       "      <td>1035</td>\n",
       "      <td>6144473</td>\n",
       "      <td>LONDON INT'L AIRPORT</td>\n",
       "      <td>43.03</td>\n",
       "      <td>-81.15</td>\n",
       "      <td>278</td>\n",
       "      <td>131.57</td>\n",
       "      <td>-3.293246</td>\n",
       "      <td>11.535783</td>\n",
       "      <td>273.185791</td>\n",
       "    </tr>\n",
       "    <tr>\n",
       "      <th>3</th>\n",
       "      <td>587</td>\n",
       "      <td>1054</td>\n",
       "      <td>6153193</td>\n",
       "      <td>HAMILTON A</td>\n",
       "      <td>43.17</td>\n",
       "      <td>-79.93</td>\n",
       "      <td>238</td>\n",
       "      <td>174.31</td>\n",
       "      <td>-2.969981</td>\n",
       "      <td>12.378831</td>\n",
       "      <td>235.357040</td>\n",
       "    </tr>\n",
       "    <tr>\n",
       "      <th>4</th>\n",
       "      <td>600</td>\n",
       "      <td>1057</td>\n",
       "      <td>6158731</td>\n",
       "      <td>TORONTO LESTER B. PEARSON INT'L A</td>\n",
       "      <td>43.68</td>\n",
       "      <td>-79.63</td>\n",
       "      <td>173</td>\n",
       "      <td>162.10</td>\n",
       "      <td>-2.424697</td>\n",
       "      <td>12.480121</td>\n",
       "      <td>199.401703</td>\n",
       "    </tr>\n",
       "    <tr>\n",
       "      <th>...</th>\n",
       "      <td>...</td>\n",
       "      <td>...</td>\n",
       "      <td>...</td>\n",
       "      <td>...</td>\n",
       "      <td>...</td>\n",
       "      <td>...</td>\n",
       "      <td>...</td>\n",
       "      <td>...</td>\n",
       "      <td>...</td>\n",
       "      <td>...</td>\n",
       "      <td>...</td>\n",
       "    </tr>\n",
       "    <tr>\n",
       "      <th>125</th>\n",
       "      <td>1199</td>\n",
       "      <td>460</td>\n",
       "      <td>2202571</td>\n",
       "      <td>INUVIK A</td>\n",
       "      <td>68.30</td>\n",
       "      <td>-133.48</td>\n",
       "      <td>68</td>\n",
       "      <td>45.82</td>\n",
       "      <td>24.111907</td>\n",
       "      <td>-13.936349</td>\n",
       "      <td>60.980732</td>\n",
       "    </tr>\n",
       "    <tr>\n",
       "      <th>126</th>\n",
       "      <td>1216</td>\n",
       "      <td>1003</td>\n",
       "      <td>2400800</td>\n",
       "      <td>CLYDE A</td>\n",
       "      <td>70.49</td>\n",
       "      <td>-68.52</td>\n",
       "      <td>27</td>\n",
       "      <td>65.59</td>\n",
       "      <td>24.857840</td>\n",
       "      <td>10.108677</td>\n",
       "      <td>141.521591</td>\n",
       "    </tr>\n",
       "    <tr>\n",
       "      <th>127</th>\n",
       "      <td>1240</td>\n",
       "      <td>914</td>\n",
       "      <td>2403201</td>\n",
       "      <td>POND INLET A</td>\n",
       "      <td>72.68</td>\n",
       "      <td>-77.98</td>\n",
       "      <td>55</td>\n",
       "      <td>34.05</td>\n",
       "      <td>25.941083</td>\n",
       "      <td>6.193894</td>\n",
       "      <td>134.045593</td>\n",
       "    </tr>\n",
       "    <tr>\n",
       "      <th>128</th>\n",
       "      <td>1269</td>\n",
       "      <td>788</td>\n",
       "      <td>2403498</td>\n",
       "      <td>RESOLUTE CARS</td>\n",
       "      <td>74.72</td>\n",
       "      <td>-94.99</td>\n",
       "      <td>66</td>\n",
       "      <td>53.95</td>\n",
       "      <td>27.227703</td>\n",
       "      <td>0.595605</td>\n",
       "      <td>151.231949</td>\n",
       "    </tr>\n",
       "    <tr>\n",
       "      <th>129</th>\n",
       "      <td>1391</td>\n",
       "      <td>826</td>\n",
       "      <td>2401203</td>\n",
       "      <td>EUREKA A</td>\n",
       "      <td>79.98</td>\n",
       "      <td>-85.93</td>\n",
       "      <td>10</td>\n",
       "      <td>4.82</td>\n",
       "      <td>32.642262</td>\n",
       "      <td>2.273762</td>\n",
       "      <td>148.891006</td>\n",
       "    </tr>\n",
       "  </tbody>\n",
       "</table>\n",
       "<p>130 rows × 11 columns</p>\n",
       "</div>"
      ],
      "text/plain": [
       "     irlat  irlon   Cli_ID                       station_name    lat     lon  \\\n",
       "0      558   1009  6139527                          WINDSOR A  42.28  -82.96   \n",
       "1      576   1017  6127514                     SARNIA AIRPORT  42.99  -82.30   \n",
       "2      580   1035  6144473               LONDON INT'L AIRPORT  43.03  -81.15   \n",
       "3      587   1054  6153193                         HAMILTON A  43.17  -79.93   \n",
       "4      600   1057  6158731  TORONTO LESTER B. PEARSON INT'L A  43.68  -79.63   \n",
       "..     ...    ...      ...                                ...    ...     ...   \n",
       "125   1199    460  2202571                           INUVIK A  68.30 -133.48   \n",
       "126   1216   1003  2400800                            CLYDE A  70.49  -68.52   \n",
       "127   1240    914  2403201                       POND INLET A  72.68  -77.98   \n",
       "128   1269    788  2403498                      RESOLUTE CARS  74.72  -94.99   \n",
       "129   1391    826  2401203                           EUREKA A  79.98  -85.93   \n",
       "\n",
       "     elev (m)  DRWP-RL5 (Pa)       rlat       rlon  model_values  \n",
       "0         190         179.16  -4.283104  10.369387    227.871414  \n",
       "1         181         143.06  -3.496103  10.717288    237.003296  \n",
       "2         278         131.57  -3.293246  11.535783    273.185791  \n",
       "3         238         174.31  -2.969981  12.378831    235.357040  \n",
       "4         173         162.10  -2.424697  12.480121    199.401703  \n",
       "..        ...            ...        ...        ...           ...  \n",
       "125        68          45.82  24.111907 -13.936349     60.980732  \n",
       "126        27          65.59  24.857840  10.108677    141.521591  \n",
       "127        55          34.05  25.941083   6.193894    134.045593  \n",
       "128        66          53.95  27.227703   0.595605    151.231949  \n",
       "129        10           4.82  32.642262   2.273762    148.891006  \n",
       "\n",
       "[130 rows x 11 columns]"
      ]
     },
     "execution_count": 10,
     "metadata": {},
     "output_type": "execute_result"
    }
   ],
   "source": [
    "df_match"
   ]
  },
  {
   "cell_type": "markdown",
   "metadata": {
    "papermill": {
     "duration": 0.020002,
     "end_time": "2020-12-18T20:32:59.004834",
     "exception": false,
     "start_time": "2020-12-18T20:32:58.984832",
     "status": "completed"
    },
    "tags": []
   },
   "source": [
    "Verify that they are correlated"
   ]
  },
  {
   "cell_type": "code",
   "execution_count": 11,
   "metadata": {
    "execution": {
     "iopub.execute_input": "2020-12-18T20:32:59.044537Z",
     "iopub.status.busy": "2020-12-18T20:32:59.040788Z",
     "iopub.status.idle": "2020-12-18T20:32:59.185581Z",
     "shell.execute_reply": "2020-12-18T20:32:59.185918Z"
    },
    "papermill": {
     "duration": 0.168825,
     "end_time": "2020-12-18T20:32:59.186064",
     "exception": false,
     "start_time": "2020-12-18T20:32:59.017239",
     "status": "completed"
    },
    "tags": []
   },
   "outputs": [
    {
     "data": {
      "text/plain": [
       "Text(0, 0.5, 'Model')"
      ]
     },
     "execution_count": 11,
     "metadata": {},
     "output_type": "execute_result"
    },
    {
     "data": {
      "image/png": "[encoded data removed]",
      "text/plain": [
       "<Figure size 432x288 with 1 Axes>"
      ]
     },
     "metadata": {
      "needs_background": "light"
     },
     "output_type": "display_data"
    }
   ],
   "source": [
    "plt.scatter(df_match[station_dv], df_match.model_values)\n",
    "plt.title(\"Correlation between station and models\")\n",
    "plt.xlabel('Stations')\n",
    "plt.ylabel('Model')"
   ]
  },
  {
   "cell_type": "markdown",
   "metadata": {
    "papermill": {
     "duration": 0.023602,
     "end_time": "2020-12-18T20:32:59.228653",
     "exception": false,
     "start_time": "2020-12-18T20:32:59.205051",
     "status": "completed"
    },
    "tags": []
   },
   "source": [
    "Now each station should be matched with a value grid cell value"
   ]
  },
  {
   "cell_type": "markdown",
   "metadata": {
    "papermill": {
     "duration": 0.014752,
     "end_time": "2020-12-18T20:32:59.258771",
     "exception": false,
     "start_time": "2020-12-18T20:32:59.244019",
     "status": "completed"
    },
    "tags": []
   },
   "source": [
    "### Normalize the model mean to match that of the station distribution\n",
    "Find a factor, $\\beta$ such that\n",
    "$$\\mu_s - \\frac{\\mu_m}{\\beta} \\approx 0$$ where $\\mu_s$ is the spatial station mean and $\\mu_m$ is the spatial model mean.\n",
    "\n",
    "$\\beta$ is simply:\n",
    "\n",
    "$$\\beta = \\frac{\\sum_i^{N_s}{M_i}}{\\sum_i^{N_s}{S_i}}$$"
   ]
  },
  {
   "cell_type": "code",
   "execution_count": 12,
   "metadata": {
    "execution": {
     "iopub.execute_input": "2020-12-18T20:32:59.293605Z",
     "iopub.status.busy": "2020-12-18T20:32:59.293184Z",
     "iopub.status.idle": "2020-12-18T20:32:59.300679Z",
     "shell.execute_reply": "2020-12-18T20:32:59.301121Z"
    },
    "papermill": {
     "duration": 0.028645,
     "end_time": "2020-12-18T20:32:59.301321",
     "exception": false,
     "start_time": "2020-12-18T20:32:59.272676",
     "status": "completed"
    },
    "tags": []
   },
   "outputs": [
    {
     "name": "stdout",
     "output_type": "stream",
     "text": [
      "Scaling factor: 1.2067997673730864\n"
     ]
    }
   ],
   "source": [
    "ratio, best_tol = scale_model_obs(df_match.model_values, df_match[station_dv])\n",
    "assert not np.any(np.isnan(ratio))\n",
    "df_match = df_match.assign(ratio=ratio)\n",
    "print(\"Scaling factor:\", best_tol)"
   ]
  },
  {
   "cell_type": "code",
   "execution_count": 13,
   "metadata": {
    "execution": {
     "iopub.execute_input": "2020-12-18T20:32:59.371363Z",
     "iopub.status.busy": "2020-12-18T20:32:59.370933Z",
     "iopub.status.idle": "2020-12-18T20:32:59.373547Z",
     "shell.execute_reply": "2020-12-18T20:32:59.373911Z"
    },
    "papermill": {
     "duration": 0.050813,
     "end_time": "2020-12-18T20:32:59.374093",
     "exception": false,
     "start_time": "2020-12-18T20:32:59.323280",
     "status": "completed"
    },
    "tags": []
   },
   "outputs": [
    {
     "data": {
      "text/html": [
       "<div>\n",
       "<style scoped>\n",
       "    .dataframe tbody tr th:only-of-type {\n",
       "        vertical-align: middle;\n",
       "    }\n",
       "\n",
       "    .dataframe tbody tr th {\n",
       "        vertical-align: top;\n",
       "    }\n",
       "\n",
       "    .dataframe thead th {\n",
       "        text-align: right;\n",
       "    }\n",
       "</style>\n",
       "<table border=\"1\" class=\"dataframe\">\n",
       "  <thead>\n",
       "    <tr style=\"text-align: right;\">\n",
       "      <th></th>\n",
       "      <th>irlat</th>\n",
       "      <th>irlon</th>\n",
       "      <th>Cli_ID</th>\n",
       "      <th>station_name</th>\n",
       "      <th>lat</th>\n",
       "      <th>lon</th>\n",
       "      <th>elev (m)</th>\n",
       "      <th>DRWP-RL5 (Pa)</th>\n",
       "      <th>rlat</th>\n",
       "      <th>rlon</th>\n",
       "      <th>model_values</th>\n",
       "      <th>ratio</th>\n",
       "    </tr>\n",
       "  </thead>\n",
       "  <tbody>\n",
       "    <tr>\n",
       "      <th>0</th>\n",
       "      <td>558</td>\n",
       "      <td>1009</td>\n",
       "      <td>6139527</td>\n",
       "      <td>WINDSOR A</td>\n",
       "      <td>42.28</td>\n",
       "      <td>-82.96</td>\n",
       "      <td>190</td>\n",
       "      <td>179.16</td>\n",
       "      <td>-4.283104</td>\n",
       "      <td>10.369387</td>\n",
       "      <td>227.871414</td>\n",
       "      <td>0.948826</td>\n",
       "    </tr>\n",
       "    <tr>\n",
       "      <th>1</th>\n",
       "      <td>576</td>\n",
       "      <td>1017</td>\n",
       "      <td>6127514</td>\n",
       "      <td>SARNIA AIRPORT</td>\n",
       "      <td>42.99</td>\n",
       "      <td>-82.30</td>\n",
       "      <td>181</td>\n",
       "      <td>143.06</td>\n",
       "      <td>-3.496103</td>\n",
       "      <td>10.717288</td>\n",
       "      <td>237.003296</td>\n",
       "      <td>0.728449</td>\n",
       "    </tr>\n",
       "    <tr>\n",
       "      <th>2</th>\n",
       "      <td>580</td>\n",
       "      <td>1035</td>\n",
       "      <td>6144473</td>\n",
       "      <td>LONDON INT'L AIRPORT</td>\n",
       "      <td>43.03</td>\n",
       "      <td>-81.15</td>\n",
       "      <td>278</td>\n",
       "      <td>131.57</td>\n",
       "      <td>-3.293246</td>\n",
       "      <td>11.535783</td>\n",
       "      <td>273.185791</td>\n",
       "      <td>0.581211</td>\n",
       "    </tr>\n",
       "  </tbody>\n",
       "</table>\n",
       "</div>"
      ],
      "text/plain": [
       "   irlat  irlon   Cli_ID          station_name    lat    lon  elev (m)  \\\n",
       "0    558   1009  6139527             WINDSOR A  42.28 -82.96       190   \n",
       "1    576   1017  6127514        SARNIA AIRPORT  42.99 -82.30       181   \n",
       "2    580   1035  6144473  LONDON INT'L AIRPORT  43.03 -81.15       278   \n",
       "\n",
       "   DRWP-RL5 (Pa)      rlat       rlon  model_values     ratio  \n",
       "0         179.16 -4.283104  10.369387    227.871414  0.948826  \n",
       "1         143.06 -3.496103  10.717288    237.003296  0.728449  \n",
       "2         131.57 -3.293246  11.535783    273.185791  0.581211  "
      ]
     },
     "execution_count": 13,
     "metadata": {},
     "output_type": "execute_result"
    }
   ],
   "source": [
    "df_match.head(3)"
   ]
  },
  {
   "cell_type": "code",
   "execution_count": 14,
   "metadata": {
    "execution": {
     "iopub.execute_input": "2020-12-18T20:32:59.408796Z",
     "iopub.status.busy": "2020-12-18T20:32:59.408375Z",
     "iopub.status.idle": "2020-12-18T20:32:59.411218Z",
     "shell.execute_reply": "2020-12-18T20:32:59.410867Z"
    },
    "papermill": {
     "duration": 0.022931,
     "end_time": "2020-12-18T20:32:59.411336",
     "exception": false,
     "start_time": "2020-12-18T20:32:59.388405",
     "status": "completed"
    },
    "tags": []
   },
   "outputs": [],
   "source": [
    "# convert back to degC\n",
    "if ds[dv].attrs[\"units\"] == \"degC\" and \"degC\" in station_dv:\n",
    "    print(\"Temperature DV detected in degC. Converitng to Kelvin\")\n",
    "    K = 273.15 # K\n",
    "    df_match[station_dv] -= K\n",
    "    df_match.model_values -= K"
   ]
  },
  {
   "cell_type": "code",
   "execution_count": 15,
   "metadata": {
    "execution": {
     "iopub.execute_input": "2020-12-18T20:32:59.466019Z",
     "iopub.status.busy": "2020-12-18T20:32:59.465332Z",
     "iopub.status.idle": "2020-12-18T20:32:59.474839Z",
     "shell.execute_reply": "2020-12-18T20:32:59.475180Z"
    },
    "papermill": {
     "duration": 0.045466,
     "end_time": "2020-12-18T20:32:59.475386",
     "exception": false,
     "start_time": "2020-12-18T20:32:59.429920",
     "status": "completed"
    },
    "tags": []
   },
   "outputs": [],
   "source": [
    "df_match.to_csv(\n",
    "    resource_filename(\n",
    "        \"climpyrical\",\n",
    "        f\"{preprocessed_stations_path}{name}.csv\"\n",
    "    ), index=False\n",
    ")"
   ]
  },
  {
   "cell_type": "code",
   "execution_count": 16,
   "metadata": {
    "execution": {
     "iopub.execute_input": "2020-12-18T20:32:59.518495Z",
     "iopub.status.busy": "2020-12-18T20:32:59.517879Z",
     "iopub.status.idle": "2020-12-18T20:32:59.522218Z",
     "shell.execute_reply": "2020-12-18T20:32:59.521338Z"
    },
    "papermill": {
     "duration": 0.027549,
     "end_time": "2020-12-18T20:32:59.522498",
     "exception": false,
     "start_time": "2020-12-18T20:32:59.494949",
     "status": "completed"
    },
    "tags": []
   },
   "outputs": [],
   "source": [
    "assert np.all(df_match['ratio'] >= 0)"
   ]
  },
  {
   "cell_type": "code",
   "execution_count": null,
   "metadata": {
    "papermill": {
     "duration": 0.028585,
     "end_time": "2020-12-18T20:32:59.578436",
     "exception": false,
     "start_time": "2020-12-18T20:32:59.549851",
     "status": "completed"
    },
    "tags": []
   },
   "outputs": [],
   "source": []
  }
 ],
 "metadata": {
  "kernelspec": {
   "display_name": "Python 3",
   "language": "python",
   "name": "python3"
  },
  "language_info": {
   "codemirror_mode": {
    "name": "ipython",
    "version": 3
   },
   "file_extension": ".py",
   "mimetype": "text/x-python",
   "name": "python",
   "nbconvert_exporter": "python",
   "pygments_lexer": "ipython3",
   "version": "3.8.5"
  },
  "papermill": {
   "default_parameters": {},
   "duration": 6.109205,
   "end_time": "2020-12-18T20:33:00.838411",
   "environment_variables": {},
   "exception": null,
   "input_path": "stations.ipynb",
   "output_path": "/home/nannau/Desktop/pipeline/climpyrical/climpyrical/data/results/intermediate/notebooks/stations_log_DRWP5.ipynb",
   "parameters": {
    "fill_glaciers": true,
    "input_model_path": "data/model_inputs/drwp_CanRCM4-LE_ens15_1951-2016_rl5_ensmean.nc",
    "mask_path": "data/masks/canada_mask_rp.nc",
    "medians": {
     "action": "multiply",
     "value": 163
    },
    "name": "DRWP5",
    "nbcc_loc_path": "data/station_inputs/NBCC_2020_new_coords.xlsm",
    "north_mask_path": "data/masks/canada_mask_north_rp.nc",
    "output_figure_path": "/data/results/figures/",
    "output_notebook_path": "/data/results/intermediate/notebooks/",
    "output_reconstruction_path": "/data/results/netcdf/",
    "output_tables_path": "/data/results/TableC2/",
    "preprocessed_model_path": "/data/results/intermediate/preprocessed_netcdf/",
    "preprocessed_stations_path": "/data/results/intermediate/preprocessed_stations/",
    "station_dv": "DRWP-RL5 (Pa)",
    "station_path": "data/station_inputs/drwp_rl5_for_maps.csv"
   },
   "start_time": "2020-12-18T20:32:54.729206",
   "version": "2.2.2"
  }
 },
 "nbformat": 4,
 "nbformat_minor": 4
}