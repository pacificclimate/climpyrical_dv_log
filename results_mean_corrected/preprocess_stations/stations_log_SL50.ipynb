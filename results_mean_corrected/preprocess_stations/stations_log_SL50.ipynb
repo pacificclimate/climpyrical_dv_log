{
 "cells": [
  {
   "cell_type": "markdown",
   "metadata": {
    "papermill": {
     "duration": 0.015523,
     "end_time": "2020-12-18T20:20:14.863365",
     "exception": false,
     "start_time": "2020-12-18T20:20:14.847842",
     "status": "completed"
    },
    "tags": []
   },
   "source": [
    "# Process Stations"
   ]
  },
  {
   "cell_type": "code",
   "execution_count": 1,
   "metadata": {
    "execution": {
     "iopub.execute_input": "2020-12-18T20:20:14.938285Z",
     "iopub.status.busy": "2020-12-18T20:20:14.937825Z",
     "iopub.status.idle": "2020-12-18T20:20:16.174046Z",
     "shell.execute_reply": "2020-12-18T20:20:16.172885Z"
    },
    "papermill": {
     "duration": 1.257119,
     "end_time": "2020-12-18T20:20:16.174523",
     "exception": false,
     "start_time": "2020-12-18T20:20:14.917404",
     "status": "completed"
    },
    "tags": []
   },
   "outputs": [],
   "source": [
    "import pandas as pd\n",
    "import numpy as np\n",
    "import matplotlib.pyplot as plt\n",
    "from pkg_resources import resource_filename\n",
    "\n",
    "from climpyrical.gridding import scale_model_obs\n",
    "from climpyrical.data import read_data\n",
    "from climpyrical.cmd.find_matched_model_vals import add_model_values"
   ]
  },
  {
   "cell_type": "markdown",
   "metadata": {
    "papermill": {
     "duration": 0.01711,
     "end_time": "2020-12-18T20:20:16.223765",
     "exception": false,
     "start_time": "2020-12-18T20:20:16.206655",
     "status": "completed"
    },
    "tags": []
   },
   "source": [
    "### Load station data for processing"
   ]
  },
  {
   "cell_type": "markdown",
   "metadata": {
    "papermill": {
     "duration": 0.010436,
     "end_time": "2020-12-18T20:20:16.244742",
     "exception": false,
     "start_time": "2020-12-18T20:20:16.234306",
     "status": "completed"
    },
    "tags": [
     "parameters"
    ]
   },
   "source": [
    "### Parameters are loaded from config_example.yml\n",
    "Example configuration from config_example.yml:\n",
    "```\n",
    "    paths:\n",
    "        preprocessed_model_path: /data/results/intermediate/preprocessed_netcdf/\n",
    "    RL50:\n",
    "        station_dv: \"RL50 (kPa)\"\n",
    "        station_path: 'data/station_inputs/Interim_snow_rain_load_LR_composite_stations_tbd_v4.csv'\n",
    "        input_model_path: 'data/model_inputs/snw_rain_CanRCM4-LE_ens35_1951-2016_max_rl50_load_ensmean.nc'\n",
    "        medians: \n",
    "            value: 0.4\n",
    "            action: \"multiply\"\n",
    "        fill_glaciers: True\n",
    "```"
   ]
  },
  {
   "cell_type": "code",
   "execution_count": 2,
   "metadata": {
    "execution": {
     "iopub.execute_input": "2020-12-18T20:20:16.276050Z",
     "iopub.status.busy": "2020-12-18T20:20:16.274551Z",
     "iopub.status.idle": "2020-12-18T20:20:16.278492Z",
     "shell.execute_reply": "2020-12-18T20:20:16.277400Z"
    },
    "papermill": {
     "duration": 0.02361,
     "end_time": "2020-12-18T20:20:16.278787",
     "exception": false,
     "start_time": "2020-12-18T20:20:16.255177",
     "status": "completed"
    },
    "tags": [
     "injected-parameters"
    ]
   },
   "outputs": [],
   "source": [
    "# Parameters\n",
    "name = \"SL50\"\n",
    "station_dv = \"SL50 (kPa)\"\n",
    "station_path = \"data/station_inputs/sl50_rl50_for_maps.csv\"\n",
    "input_model_path = (\n",
    "    \"data/model_inputs/snw_CanRCM4-LE_ens35_1951-2016_max_rl50_load_ensmean.nc\"\n",
    ")\n",
    "medians = {\"value\": 2.5, \"action\": \"multiply\"}\n",
    "fill_glaciers = True\n",
    "output_notebook_path = \"/data/results/intermediate/notebooks/\"\n",
    "preprocessed_model_path = \"/data/results/intermediate/preprocessed_netcdf/\"\n",
    "preprocessed_stations_path = \"/data/results/intermediate/preprocessed_stations/\"\n",
    "output_reconstruction_path = \"/data/results/netcdf/\"\n",
    "output_tables_path = \"/data/results/TableC2/\"\n",
    "output_figure_path = \"/data/results/figures/\"\n",
    "mask_path = \"data/masks/canada_mask_rp.nc\"\n",
    "north_mask_path = \"data/masks/canada_mask_north_rp.nc\"\n",
    "nbcc_loc_path = \"data/station_inputs/NBCC_2020_new_coords.xlsm\"\n"
   ]
  },
  {
   "cell_type": "code",
   "execution_count": 3,
   "metadata": {
    "execution": {
     "iopub.execute_input": "2020-12-18T20:20:16.307955Z",
     "iopub.status.busy": "2020-12-18T20:20:16.307395Z",
     "iopub.status.idle": "2020-12-18T20:20:16.309191Z",
     "shell.execute_reply": "2020-12-18T20:20:16.309516Z"
    },
    "papermill": {
     "duration": 0.017139,
     "end_time": "2020-12-18T20:20:16.309700",
     "exception": false,
     "start_time": "2020-12-18T20:20:16.292561",
     "status": "completed"
    },
    "tags": [
     "parameters"
    ]
   },
   "outputs": [],
   "source": [
    "# Parameters cell"
   ]
  },
  {
   "cell_type": "code",
   "execution_count": 4,
   "metadata": {
    "execution": {
     "iopub.execute_input": "2020-12-18T20:20:16.353739Z",
     "iopub.status.busy": "2020-12-18T20:20:16.352255Z",
     "iopub.status.idle": "2020-12-18T20:20:16.359350Z",
     "shell.execute_reply": "2020-12-18T20:20:16.359911Z"
    },
    "papermill": {
     "duration": 0.030742,
     "end_time": "2020-12-18T20:20:16.360167",
     "exception": false,
     "start_time": "2020-12-18T20:20:16.329425",
     "status": "completed"
    },
    "tags": []
   },
   "outputs": [],
   "source": [
    "df = pd.read_csv(resource_filename(\"climpyrical\", station_path), index_col=None)"
   ]
  },
  {
   "cell_type": "markdown",
   "metadata": {
    "papermill": {
     "duration": 0.020485,
     "end_time": "2020-12-18T20:20:16.402800",
     "exception": false,
     "start_time": "2020-12-18T20:20:16.382315",
     "status": "completed"
    },
    "tags": []
   },
   "source": [
    "Check the columns for standard names, and standardize them.\n",
    "\n",
    "This process will not catch any and all possible inputs, so refer to documentation for \n",
    "expected column names"
   ]
  },
  {
   "cell_type": "code",
   "execution_count": 5,
   "metadata": {
    "execution": {
     "iopub.execute_input": "2020-12-18T20:20:16.438012Z",
     "iopub.status.busy": "2020-12-18T20:20:16.437518Z",
     "iopub.status.idle": "2020-12-18T20:20:16.440795Z",
     "shell.execute_reply": "2020-12-18T20:20:16.440326Z"
    },
    "papermill": {
     "duration": 0.027722,
     "end_time": "2020-12-18T20:20:16.440936",
     "exception": false,
     "start_time": "2020-12-18T20:20:16.413214",
     "status": "completed"
    },
    "tags": []
   },
   "outputs": [],
   "source": [
    "def check_df_columns(df):\n",
    "    if 'longitude' in df.columns:\n",
    "        df=df.rename(columns={'longitude': 'lon'})\n",
    "    if 'long' in df.columns:\n",
    "        df=df.rename(columns={'long': 'lon'})\n",
    "    if 'latitude' in df.columns:\n",
    "        df=df.rename(columns={'latitude': 'lat'})\n",
    "    if 'name' in df.columns:\n",
    "        df=df.rename(columns={'name': 'station_name'})\n",
    "    if 'Name' in df.columns:\n",
    "        df=df.rename(columns={'Name': 'station_name'})\n",
    "    if \"prov\" in df.columns:\n",
    "        df=df.rename(columns={\"prov\": \"province\"})\n",
    "    if \"elev\" in df.columns:\n",
    "        df=df.rename(columns={\"elev\": \"elev (m)\"})\n",
    "    if \"elevation (m)\" in df.columns:\n",
    "        df=df.rename(columns={\"elevation (m)\": \"elev (m)\"})\n",
    "    return df\n",
    "\n",
    "df = check_df_columns(df)\n",
    "df.head(5)\n",
    "\n",
    "if np.any(np.isnan(df[[\"lon\", \"lat\", \"elev (m)\", station_dv]].values)):\n",
    "    raise ValueError(\"NaN detected in station input file.\")"
   ]
  },
  {
   "cell_type": "markdown",
   "metadata": {
    "papermill": {
     "duration": 0.018332,
     "end_time": "2020-12-18T20:20:16.478931",
     "exception": false,
     "start_time": "2020-12-18T20:20:16.460599",
     "status": "completed"
    },
    "tags": []
   },
   "source": [
    "Load preprocessed model at target resolution"
   ]
  },
  {
   "cell_type": "code",
   "execution_count": 6,
   "metadata": {
    "execution": {
     "iopub.execute_input": "2020-12-18T20:20:16.509422Z",
     "iopub.status.busy": "2020-12-18T20:20:16.508515Z",
     "iopub.status.idle": "2020-12-18T20:20:16.569803Z",
     "shell.execute_reply": "2020-12-18T20:20:16.570881Z"
    },
    "papermill": {
     "duration": 0.079807,
     "end_time": "2020-12-18T20:20:16.571320",
     "exception": false,
     "start_time": "2020-12-18T20:20:16.491513",
     "status": "completed"
    },
    "tags": []
   },
   "outputs": [],
   "source": [
    "ds = read_data(resource_filename(\"climpyrical\", f\"{preprocessed_model_path}{name}.nc\"))\n",
    "(dv, ) = ds.data_vars"
   ]
  },
  {
   "cell_type": "markdown",
   "metadata": {
    "papermill": {
     "duration": 0.016766,
     "end_time": "2020-12-18T20:20:16.607694",
     "exception": false,
     "start_time": "2020-12-18T20:20:16.590928",
     "status": "completed"
    },
    "tags": []
   },
   "source": [
    "Perform unit conversion if necessary\n",
    "\n",
    "Exclude suspect RL50 values with true 0.0"
   ]
  },
  {
   "cell_type": "code",
   "execution_count": 7,
   "metadata": {
    "execution": {
     "iopub.execute_input": "2020-12-18T20:20:16.635748Z",
     "iopub.status.busy": "2020-12-18T20:20:16.635335Z",
     "iopub.status.idle": "2020-12-18T20:20:16.637262Z",
     "shell.execute_reply": "2020-12-18T20:20:16.637550Z"
    },
    "papermill": {
     "duration": 0.019848,
     "end_time": "2020-12-18T20:20:16.637695",
     "exception": false,
     "start_time": "2020-12-18T20:20:16.617847",
     "status": "completed"
    },
    "tags": []
   },
   "outputs": [],
   "source": [
    "# calculate ratios with applied correction\n",
    "# Note the ratios are calculated in K for Temperature fields\n",
    "if ds[dv].attrs[\"units\"] == \"degC\" and \"degC\" in station_dv:\n",
    "    print(\"Temperature DV detected in degC. Converitng to Kelvin\")\n",
    "    K = 273.15 # K\n",
    "    df[station_dv] += K\n",
    "    ds[dv] += K\n",
    "\n",
    "if 'RL50 (kPa)' in station_dv:\n",
    "    df = df[df[station_dv] != 0.0]"
   ]
  },
  {
   "cell_type": "markdown",
   "metadata": {
    "papermill": {
     "duration": 0.01101,
     "end_time": "2020-12-18T20:20:16.661526",
     "exception": false,
     "start_time": "2020-12-18T20:20:16.650516",
     "status": "completed"
    },
    "tags": []
   },
   "source": [
    "Use matching script to find matching model values"
   ]
  },
  {
   "cell_type": "code",
   "execution_count": 8,
   "metadata": {
    "execution": {
     "iopub.execute_input": "2020-12-18T20:20:16.686338Z",
     "iopub.status.busy": "2020-12-18T20:20:16.685919Z",
     "iopub.status.idle": "2020-12-18T20:20:18.649100Z",
     "shell.execute_reply": "2020-12-18T20:20:18.649713Z"
    },
    "papermill": {
     "duration": 1.978305,
     "end_time": "2020-12-18T20:20:18.649940",
     "exception": false,
     "start_time": "2020-12-18T20:20:16.671635",
     "status": "completed"
    },
    "tags": []
   },
   "outputs": [
    {
     "name": "stderr",
     "output_type": "stream",
     "text": [
      "INFO:root:Detect units: kPa\n"
     ]
    },
    {
     "name": "stderr",
     "output_type": "stream",
     "text": [
      "INFO:root:rlat or rlon not detected in input file.converting assumes WGS84 coords to rotated pole\n"
     ]
    },
    {
     "name": "stderr",
     "output_type": "stream",
     "text": [
      "INFO:root:Matching coordinates now\n"
     ]
    },
    {
     "name": "stderr",
     "output_type": "stream",
     "text": [
      "INFO:root:Locating corresponding model valuesInterpolating to nearest if matched model value is NaN\n"
     ]
    },
    {
     "data": {
      "text/html": [
       "<div>\n",
       "<style scoped>\n",
       "    .dataframe tbody tr th:only-of-type {\n",
       "        vertical-align: middle;\n",
       "    }\n",
       "\n",
       "    .dataframe tbody tr th {\n",
       "        vertical-align: top;\n",
       "    }\n",
       "\n",
       "    .dataframe thead th {\n",
       "        text-align: right;\n",
       "    }\n",
       "</style>\n",
       "<table border=\"1\" class=\"dataframe\">\n",
       "  <thead>\n",
       "    <tr style=\"text-align: right;\">\n",
       "      <th></th>\n",
       "      <th>id</th>\n",
       "      <th>station_name</th>\n",
       "      <th>province</th>\n",
       "      <th>lon</th>\n",
       "      <th>lat</th>\n",
       "      <th>elev (m)</th>\n",
       "      <th>SL50 (kPa)</th>\n",
       "      <th>RL50 (kPa)</th>\n",
       "      <th>rlat</th>\n",
       "      <th>rlon</th>\n",
       "      <th>irlat</th>\n",
       "      <th>irlon</th>\n",
       "      <th>model_values</th>\n",
       "    </tr>\n",
       "  </thead>\n",
       "  <tbody>\n",
       "    <tr>\n",
       "      <th>0</th>\n",
       "      <td>15</td>\n",
       "      <td>CHEMAINUS</td>\n",
       "      <td>BC</td>\n",
       "      <td>-123.742</td>\n",
       "      <td>48.9350</td>\n",
       "      <td>75</td>\n",
       "      <td>2.2</td>\n",
       "      <td>0.794</td>\n",
       "      <td>4.407283</td>\n",
       "      <td>-17.245771</td>\n",
       "      <td>754</td>\n",
       "      <td>385</td>\n",
       "      <td>0.804585</td>\n",
       "    </tr>\n",
       "    <tr>\n",
       "      <th>1</th>\n",
       "      <td>78</td>\n",
       "      <td>SAANICHTON CDA</td>\n",
       "      <td>BC</td>\n",
       "      <td>-123.419</td>\n",
       "      <td>48.6217</td>\n",
       "      <td>61</td>\n",
       "      <td>1.4</td>\n",
       "      <td>0.594</td>\n",
       "      <td>4.041212</td>\n",
       "      <td>-17.148280</td>\n",
       "      <td>746</td>\n",
       "      <td>387</td>\n",
       "      <td>0.585376</td>\n",
       "    </tr>\n",
       "    <tr>\n",
       "      <th>2</th>\n",
       "      <td>91</td>\n",
       "      <td>SHAWNIGAN LAKE</td>\n",
       "      <td>BC</td>\n",
       "      <td>-123.626</td>\n",
       "      <td>48.6469</td>\n",
       "      <td>159</td>\n",
       "      <td>2.4</td>\n",
       "      <td>0.818</td>\n",
       "      <td>4.110152</td>\n",
       "      <td>-17.269400</td>\n",
       "      <td>747</td>\n",
       "      <td>384</td>\n",
       "      <td>0.942911</td>\n",
       "    </tr>\n",
       "    <tr>\n",
       "      <th>3</th>\n",
       "      <td>109</td>\n",
       "      <td>VICTORIA GONZALES HTS</td>\n",
       "      <td>BC</td>\n",
       "      <td>-123.325</td>\n",
       "      <td>48.4131</td>\n",
       "      <td>70</td>\n",
       "      <td>1.3</td>\n",
       "      <td>0.387</td>\n",
       "      <td>3.823732</td>\n",
       "      <td>-17.157965</td>\n",
       "      <td>741</td>\n",
       "      <td>387</td>\n",
       "      <td>0.596337</td>\n",
       "    </tr>\n",
       "    <tr>\n",
       "      <th>4</th>\n",
       "      <td>149</td>\n",
       "      <td>ALERT BAY</td>\n",
       "      <td>BC</td>\n",
       "      <td>-126.933</td>\n",
       "      <td>50.5833</td>\n",
       "      <td>59</td>\n",
       "      <td>1.6</td>\n",
       "      <td>0.587</td>\n",
       "      <td>6.674747</td>\n",
       "      <td>-18.602266</td>\n",
       "      <td>805</td>\n",
       "      <td>354</td>\n",
       "      <td>2.111151</td>\n",
       "    </tr>\n",
       "  </tbody>\n",
       "</table>\n",
       "</div>"
      ],
      "text/plain": [
       "    id           station_name province      lon      lat  elev (m)  \\\n",
       "0   15              CHEMAINUS       BC -123.742  48.9350        75   \n",
       "1   78         SAANICHTON CDA       BC -123.419  48.6217        61   \n",
       "2   91         SHAWNIGAN LAKE       BC -123.626  48.6469       159   \n",
       "3  109  VICTORIA GONZALES HTS       BC -123.325  48.4131        70   \n",
       "4  149              ALERT BAY       BC -126.933  50.5833        59   \n",
       "\n",
       "   SL50 (kPa)  RL50 (kPa)      rlat       rlon  irlat  irlon  model_values  \n",
       "0         2.2       0.794  4.407283 -17.245771    754    385      0.804585  \n",
       "1         1.4       0.594  4.041212 -17.148280    746    387      0.585376  \n",
       "2         2.4       0.818  4.110152 -17.269400    747    384      0.942911  \n",
       "3         1.3       0.387  3.823732 -17.157965    741    387      0.596337  \n",
       "4         1.6       0.587  6.674747 -18.602266    805    354      2.111151  "
      ]
     },
     "execution_count": 8,
     "metadata": {},
     "output_type": "execute_result"
    }
   ],
   "source": [
    "df = add_model_values(ds=ds, df=df)\n",
    "df.head(5)"
   ]
  },
  {
   "cell_type": "markdown",
   "metadata": {
    "papermill": {
     "duration": 0.022559,
     "end_time": "2020-12-18T20:20:18.694805",
     "exception": false,
     "start_time": "2020-12-18T20:20:18.672246",
     "status": "completed"
    },
    "tags": []
   },
   "source": [
    "Group stations that land in the same index in rlat and rlon (land in the same grid cell)\n",
    "\n",
    "This means that they are in the same grid cell and need to be aggregated"
   ]
  },
  {
   "cell_type": "code",
   "execution_count": 9,
   "metadata": {
    "execution": {
     "iopub.execute_input": "2020-12-18T20:20:18.731792Z",
     "iopub.status.busy": "2020-12-18T20:20:18.731354Z",
     "iopub.status.idle": "2020-12-18T20:20:18.742824Z",
     "shell.execute_reply": "2020-12-18T20:20:18.743222Z"
    },
    "papermill": {
     "duration": 0.032215,
     "end_time": "2020-12-18T20:20:18.743370",
     "exception": false,
     "start_time": "2020-12-18T20:20:18.711155",
     "status": "completed"
    },
    "tags": []
   },
   "outputs": [],
   "source": [
    "agg_dict = {\n",
    "    station_dv: 'mean', \n",
    "    'rlat':'mean', \n",
    "    'rlon':'mean', \n",
    "    'lat': 'mean', \n",
    "    'lon': 'mean', \n",
    "    'elev (m)': 'mean',\n",
    "    'station_name': 'first',\n",
    "    'province': 'first',\n",
    "    \"model_values\": \"mean\"\n",
    "}\n",
    "\n",
    "# Province key is used for WP10 and WP50 for\n",
    "# special treatment of Atlantic/Far NW areas\n",
    "if \"province\" not in df.columns:\n",
    "    agg_dict = agg_dict.pop(\"province\")\n",
    "\n",
    "df_match = df.groupby(\n",
    "    ['irlat', 'irlon'], as_index=False\n",
    ").agg(\n",
    "    agg_dict\n",
    ")\n",
    "\n",
    "\n",
    "irlat = df_match.irlat\n",
    "irlon = df_match.irlon"
   ]
  },
  {
   "cell_type": "code",
   "execution_count": 10,
   "metadata": {
    "execution": {
     "iopub.execute_input": "2020-12-18T20:20:18.792805Z",
     "iopub.status.busy": "2020-12-18T20:20:18.791912Z",
     "iopub.status.idle": "2020-12-18T20:20:18.795140Z",
     "shell.execute_reply": "2020-12-18T20:20:18.795780Z"
    },
    "papermill": {
     "duration": 0.035708,
     "end_time": "2020-12-18T20:20:18.796027",
     "exception": false,
     "start_time": "2020-12-18T20:20:18.760319",
     "status": "completed"
    },
    "tags": []
   },
   "outputs": [
    {
     "data": {
      "text/html": [
       "<div>\n",
       "<style scoped>\n",
       "    .dataframe tbody tr th:only-of-type {\n",
       "        vertical-align: middle;\n",
       "    }\n",
       "\n",
       "    .dataframe tbody tr th {\n",
       "        vertical-align: top;\n",
       "    }\n",
       "\n",
       "    .dataframe thead th {\n",
       "        text-align: right;\n",
       "    }\n",
       "</style>\n",
       "<table border=\"1\" class=\"dataframe\">\n",
       "  <thead>\n",
       "    <tr style=\"text-align: right;\">\n",
       "      <th></th>\n",
       "      <th>irlat</th>\n",
       "      <th>irlon</th>\n",
       "      <th>SL50 (kPa)</th>\n",
       "      <th>rlat</th>\n",
       "      <th>rlon</th>\n",
       "      <th>lat</th>\n",
       "      <th>lon</th>\n",
       "      <th>elev (m)</th>\n",
       "      <th>station_name</th>\n",
       "      <th>province</th>\n",
       "      <th>model_values</th>\n",
       "    </tr>\n",
       "  </thead>\n",
       "  <tbody>\n",
       "    <tr>\n",
       "      <th>0</th>\n",
       "      <td>558</td>\n",
       "      <td>1009</td>\n",
       "      <td>1.0</td>\n",
       "      <td>-4.286849</td>\n",
       "      <td>10.373390</td>\n",
       "      <td>42.27560</td>\n",
       "      <td>-82.95560</td>\n",
       "      <td>190.0</td>\n",
       "      <td>WINDSOR A</td>\n",
       "      <td>ON</td>\n",
       "      <td>0.614799</td>\n",
       "    </tr>\n",
       "    <tr>\n",
       "      <th>1</th>\n",
       "      <td>559</td>\n",
       "      <td>1009</td>\n",
       "      <td>1.2</td>\n",
       "      <td>-4.227125</td>\n",
       "      <td>10.379271</td>\n",
       "      <td>42.33330</td>\n",
       "      <td>-82.93330</td>\n",
       "      <td>188.0</td>\n",
       "      <td>WINDSOR RIVERSIDE</td>\n",
       "      <td>ON</td>\n",
       "      <td>0.622597</td>\n",
       "    </tr>\n",
       "    <tr>\n",
       "      <th>2</th>\n",
       "      <td>576</td>\n",
       "      <td>1017</td>\n",
       "      <td>1.5</td>\n",
       "      <td>-3.494586</td>\n",
       "      <td>10.713492</td>\n",
       "      <td>42.99220</td>\n",
       "      <td>-82.30470</td>\n",
       "      <td>181.0</td>\n",
       "      <td>SARNIA AIRPORT</td>\n",
       "      <td>ON</td>\n",
       "      <td>0.739112</td>\n",
       "    </tr>\n",
       "    <tr>\n",
       "      <th>3</th>\n",
       "      <td>577</td>\n",
       "      <td>1048</td>\n",
       "      <td>1.4</td>\n",
       "      <td>-3.434479</td>\n",
       "      <td>12.106219</td>\n",
       "      <td>42.77439</td>\n",
       "      <td>-80.42906</td>\n",
       "      <td>214.0</td>\n",
       "      <td>HAGERSVILLE 2 composite</td>\n",
       "      <td>ON</td>\n",
       "      <td>0.837605</td>\n",
       "    </tr>\n",
       "    <tr>\n",
       "      <th>4</th>\n",
       "      <td>579</td>\n",
       "      <td>1046</td>\n",
       "      <td>1.5</td>\n",
       "      <td>-3.362845</td>\n",
       "      <td>11.999925</td>\n",
       "      <td>42.86670</td>\n",
       "      <td>-80.55000</td>\n",
       "      <td>232.0</td>\n",
       "      <td>DELHI CDA</td>\n",
       "      <td>ON</td>\n",
       "      <td>0.797452</td>\n",
       "    </tr>\n",
       "    <tr>\n",
       "      <th>...</th>\n",
       "      <td>...</td>\n",
       "      <td>...</td>\n",
       "      <td>...</td>\n",
       "      <td>...</td>\n",
       "      <td>...</td>\n",
       "      <td>...</td>\n",
       "      <td>...</td>\n",
       "      <td>...</td>\n",
       "      <td>...</td>\n",
       "      <td>...</td>\n",
       "      <td>...</td>\n",
       "    </tr>\n",
       "    <tr>\n",
       "      <th>513</th>\n",
       "      <td>1269</td>\n",
       "      <td>788</td>\n",
       "      <td>1.5</td>\n",
       "      <td>27.224763</td>\n",
       "      <td>0.601810</td>\n",
       "      <td>74.71690</td>\n",
       "      <td>-94.96940</td>\n",
       "      <td>68.0</td>\n",
       "      <td>RESOLUTE CARS</td>\n",
       "      <td>NU</td>\n",
       "      <td>2.040281</td>\n",
       "    </tr>\n",
       "    <tr>\n",
       "      <th>514</th>\n",
       "      <td>1322</td>\n",
       "      <td>640</td>\n",
       "      <td>1.2</td>\n",
       "      <td>29.596811</td>\n",
       "      <td>-5.969242</td>\n",
       "      <td>76.23330</td>\n",
       "      <td>-119.33300</td>\n",
       "      <td>12.0</td>\n",
       "      <td>MOULD BAY A</td>\n",
       "      <td>NT</td>\n",
       "      <td>1.701411</td>\n",
       "    </tr>\n",
       "    <tr>\n",
       "      <th>515</th>\n",
       "      <td>1362</td>\n",
       "      <td>741</td>\n",
       "      <td>1.6</td>\n",
       "      <td>31.345756</td>\n",
       "      <td>-1.484925</td>\n",
       "      <td>78.78330</td>\n",
       "      <td>-103.53300</td>\n",
       "      <td>25.0</td>\n",
       "      <td>ISACHSEN</td>\n",
       "      <td>NU</td>\n",
       "      <td>1.886082</td>\n",
       "    </tr>\n",
       "    <tr>\n",
       "      <th>516</th>\n",
       "      <td>1391</td>\n",
       "      <td>826</td>\n",
       "      <td>0.9</td>\n",
       "      <td>32.645419</td>\n",
       "      <td>2.272431</td>\n",
       "      <td>79.98330</td>\n",
       "      <td>-85.93330</td>\n",
       "      <td>10.0</td>\n",
       "      <td>EUREKA A</td>\n",
       "      <td>NU</td>\n",
       "      <td>1.515108</td>\n",
       "    </tr>\n",
       "    <tr>\n",
       "      <th>517</th>\n",
       "      <td>1472</td>\n",
       "      <td>894</td>\n",
       "      <td>2.3</td>\n",
       "      <td>36.222663</td>\n",
       "      <td>5.274963</td>\n",
       "      <td>82.51780</td>\n",
       "      <td>-62.28060</td>\n",
       "      <td>30.0</td>\n",
       "      <td>ALERT</td>\n",
       "      <td>NU</td>\n",
       "      <td>1.515108</td>\n",
       "    </tr>\n",
       "  </tbody>\n",
       "</table>\n",
       "<p>518 rows × 11 columns</p>\n",
       "</div>"
      ],
      "text/plain": [
       "     irlat  irlon  SL50 (kPa)       rlat       rlon       lat        lon  \\\n",
       "0      558   1009         1.0  -4.286849  10.373390  42.27560  -82.95560   \n",
       "1      559   1009         1.2  -4.227125  10.379271  42.33330  -82.93330   \n",
       "2      576   1017         1.5  -3.494586  10.713492  42.99220  -82.30470   \n",
       "3      577   1048         1.4  -3.434479  12.106219  42.77439  -80.42906   \n",
       "4      579   1046         1.5  -3.362845  11.999925  42.86670  -80.55000   \n",
       "..     ...    ...         ...        ...        ...       ...        ...   \n",
       "513   1269    788         1.5  27.224763   0.601810  74.71690  -94.96940   \n",
       "514   1322    640         1.2  29.596811  -5.969242  76.23330 -119.33300   \n",
       "515   1362    741         1.6  31.345756  -1.484925  78.78330 -103.53300   \n",
       "516   1391    826         0.9  32.645419   2.272431  79.98330  -85.93330   \n",
       "517   1472    894         2.3  36.222663   5.274963  82.51780  -62.28060   \n",
       "\n",
       "     elev (m)             station_name province  model_values  \n",
       "0       190.0                WINDSOR A       ON      0.614799  \n",
       "1       188.0        WINDSOR RIVERSIDE       ON      0.622597  \n",
       "2       181.0           SARNIA AIRPORT       ON      0.739112  \n",
       "3       214.0  HAGERSVILLE 2 composite       ON      0.837605  \n",
       "4       232.0                DELHI CDA       ON      0.797452  \n",
       "..        ...                      ...      ...           ...  \n",
       "513      68.0            RESOLUTE CARS       NU      2.040281  \n",
       "514      12.0              MOULD BAY A       NT      1.701411  \n",
       "515      25.0                 ISACHSEN       NU      1.886082  \n",
       "516      10.0                 EUREKA A       NU      1.515108  \n",
       "517      30.0                    ALERT       NU      1.515108  \n",
       "\n",
       "[518 rows x 11 columns]"
      ]
     },
     "execution_count": 10,
     "metadata": {},
     "output_type": "execute_result"
    }
   ],
   "source": [
    "df_match"
   ]
  },
  {
   "cell_type": "markdown",
   "metadata": {
    "papermill": {
     "duration": 0.013758,
     "end_time": "2020-12-18T20:20:18.830645",
     "exception": false,
     "start_time": "2020-12-18T20:20:18.816887",
     "status": "completed"
    },
    "tags": []
   },
   "source": [
    "Verify that they are correlated"
   ]
  },
  {
   "cell_type": "code",
   "execution_count": 11,
   "metadata": {
    "execution": {
     "iopub.execute_input": "2020-12-18T20:20:18.879302Z",
     "iopub.status.busy": "2020-12-18T20:20:18.867434Z",
     "iopub.status.idle": "2020-12-18T20:20:19.030565Z",
     "shell.execute_reply": "2020-12-18T20:20:19.029383Z"
    },
    "papermill": {
     "duration": 0.186945,
     "end_time": "2020-12-18T20:20:19.030897",
     "exception": false,
     "start_time": "2020-12-18T20:20:18.843952",
     "status": "completed"
    },
    "tags": []
   },
   "outputs": [
    {
     "data": {
      "text/plain": [
       "Text(0, 0.5, 'Model')"
      ]
     },
     "execution_count": 11,
     "metadata": {},
     "output_type": "execute_result"
    },
    {
     "data": {
      "image/png": "[encoded data removed]",
      "text/plain": [
       "<Figure size 432x288 with 1 Axes>"
      ]
     },
     "metadata": {
      "needs_background": "light"
     },
     "output_type": "display_data"
    }
   ],
   "source": [
    "plt.scatter(df_match[station_dv], df_match.model_values)\n",
    "plt.title(\"Correlation between station and models\")\n",
    "plt.xlabel('Stations')\n",
    "plt.ylabel('Model')"
   ]
  },
  {
   "cell_type": "markdown",
   "metadata": {
    "papermill": {
     "duration": 0.016764,
     "end_time": "2020-12-18T20:20:19.068743",
     "exception": false,
     "start_time": "2020-12-18T20:20:19.051979",
     "status": "completed"
    },
    "tags": []
   },
   "source": [
    "Now each station should be matched with a value grid cell value"
   ]
  },
  {
   "cell_type": "markdown",
   "metadata": {
    "papermill": {
     "duration": 0.012314,
     "end_time": "2020-12-18T20:20:19.095314",
     "exception": false,
     "start_time": "2020-12-18T20:20:19.083000",
     "status": "completed"
    },
    "tags": []
   },
   "source": [
    "### Normalize the model mean to match that of the station distribution\n",
    "Find a factor, $\\beta$ such that\n",
    "$$\\mu_s - \\frac{\\mu_m}{\\beta} \\approx 0$$ where $\\mu_s$ is the spatial station mean and $\\mu_m$ is the spatial model mean.\n",
    "\n",
    "$\\beta$ is simply:\n",
    "\n",
    "$$\\beta = \\frac{\\sum_i^{N_s}{M_i}}{\\sum_i^{N_s}{S_i}}$$"
   ]
  },
  {
   "cell_type": "code",
   "execution_count": 12,
   "metadata": {
    "execution": {
     "iopub.execute_input": "2020-12-18T20:20:19.125923Z",
     "iopub.status.busy": "2020-12-18T20:20:19.125505Z",
     "iopub.status.idle": "2020-12-18T20:20:19.130962Z",
     "shell.execute_reply": "2020-12-18T20:20:19.131398Z"
    },
    "papermill": {
     "duration": 0.023885,
     "end_time": "2020-12-18T20:20:19.131582",
     "exception": false,
     "start_time": "2020-12-18T20:20:19.107697",
     "status": "completed"
    },
    "tags": []
   },
   "outputs": [
    {
     "name": "stdout",
     "output_type": "stream",
     "text": [
      "Scaling factor: 0.7247041977430172\n"
     ]
    }
   ],
   "source": [
    "ratio, best_tol = scale_model_obs(df_match.model_values, df_match[station_dv])\n",
    "assert not np.any(np.isnan(ratio))\n",
    "df_match = df_match.assign(ratio=ratio)\n",
    "print(\"Scaling factor:\", best_tol)"
   ]
  },
  {
   "cell_type": "code",
   "execution_count": 13,
   "metadata": {
    "execution": {
     "iopub.execute_input": "2020-12-18T20:20:19.192100Z",
     "iopub.status.busy": "2020-12-18T20:20:19.191624Z",
     "iopub.status.idle": "2020-12-18T20:20:19.194183Z",
     "shell.execute_reply": "2020-12-18T20:20:19.193848Z"
    },
    "papermill": {
     "duration": 0.040172,
     "end_time": "2020-12-18T20:20:19.194293",
     "exception": false,
     "start_time": "2020-12-18T20:20:19.154121",
     "status": "completed"
    },
    "tags": []
   },
   "outputs": [
    {
     "data": {
      "text/html": [
       "<div>\n",
       "<style scoped>\n",
       "    .dataframe tbody tr th:only-of-type {\n",
       "        vertical-align: middle;\n",
       "    }\n",
       "\n",
       "    .dataframe tbody tr th {\n",
       "        vertical-align: top;\n",
       "    }\n",
       "\n",
       "    .dataframe thead th {\n",
       "        text-align: right;\n",
       "    }\n",
       "</style>\n",
       "<table border=\"1\" class=\"dataframe\">\n",
       "  <thead>\n",
       "    <tr style=\"text-align: right;\">\n",
       "      <th></th>\n",
       "      <th>irlat</th>\n",
       "      <th>irlon</th>\n",
       "      <th>SL50 (kPa)</th>\n",
       "      <th>rlat</th>\n",
       "      <th>rlon</th>\n",
       "      <th>lat</th>\n",
       "      <th>lon</th>\n",
       "      <th>elev (m)</th>\n",
       "      <th>station_name</th>\n",
       "      <th>province</th>\n",
       "      <th>model_values</th>\n",
       "      <th>ratio</th>\n",
       "    </tr>\n",
       "  </thead>\n",
       "  <tbody>\n",
       "    <tr>\n",
       "      <th>0</th>\n",
       "      <td>558</td>\n",
       "      <td>1009</td>\n",
       "      <td>1.0</td>\n",
       "      <td>-4.286849</td>\n",
       "      <td>10.373390</td>\n",
       "      <td>42.2756</td>\n",
       "      <td>-82.9556</td>\n",
       "      <td>190.0</td>\n",
       "      <td>WINDSOR A</td>\n",
       "      <td>ON</td>\n",
       "      <td>0.614799</td>\n",
       "      <td>1.178766</td>\n",
       "    </tr>\n",
       "    <tr>\n",
       "      <th>1</th>\n",
       "      <td>559</td>\n",
       "      <td>1009</td>\n",
       "      <td>1.2</td>\n",
       "      <td>-4.227125</td>\n",
       "      <td>10.379271</td>\n",
       "      <td>42.3333</td>\n",
       "      <td>-82.9333</td>\n",
       "      <td>188.0</td>\n",
       "      <td>WINDSOR RIVERSIDE</td>\n",
       "      <td>ON</td>\n",
       "      <td>0.622597</td>\n",
       "      <td>1.396802</td>\n",
       "    </tr>\n",
       "    <tr>\n",
       "      <th>2</th>\n",
       "      <td>576</td>\n",
       "      <td>1017</td>\n",
       "      <td>1.5</td>\n",
       "      <td>-3.494586</td>\n",
       "      <td>10.713492</td>\n",
       "      <td>42.9922</td>\n",
       "      <td>-82.3047</td>\n",
       "      <td>181.0</td>\n",
       "      <td>SARNIA AIRPORT</td>\n",
       "      <td>ON</td>\n",
       "      <td>0.739112</td>\n",
       "      <td>1.470759</td>\n",
       "    </tr>\n",
       "  </tbody>\n",
       "</table>\n",
       "</div>"
      ],
      "text/plain": [
       "   irlat  irlon  SL50 (kPa)      rlat       rlon      lat      lon  elev (m)  \\\n",
       "0    558   1009         1.0 -4.286849  10.373390  42.2756 -82.9556     190.0   \n",
       "1    559   1009         1.2 -4.227125  10.379271  42.3333 -82.9333     188.0   \n",
       "2    576   1017         1.5 -3.494586  10.713492  42.9922 -82.3047     181.0   \n",
       "\n",
       "        station_name province  model_values     ratio  \n",
       "0          WINDSOR A       ON      0.614799  1.178766  \n",
       "1  WINDSOR RIVERSIDE       ON      0.622597  1.396802  \n",
       "2     SARNIA AIRPORT       ON      0.739112  1.470759  "
      ]
     },
     "execution_count": 13,
     "metadata": {},
     "output_type": "execute_result"
    }
   ],
   "source": [
    "df_match.head(3)"
   ]
  },
  {
   "cell_type": "code",
   "execution_count": 14,
   "metadata": {
    "execution": {
     "iopub.execute_input": "2020-12-18T20:20:19.230154Z",
     "iopub.status.busy": "2020-12-18T20:20:19.229766Z",
     "iopub.status.idle": "2020-12-18T20:20:19.231565Z",
     "shell.execute_reply": "2020-12-18T20:20:19.231864Z"
    },
    "papermill": {
     "duration": 0.021758,
     "end_time": "2020-12-18T20:20:19.231991",
     "exception": false,
     "start_time": "2020-12-18T20:20:19.210233",
     "status": "completed"
    },
    "tags": []
   },
   "outputs": [],
   "source": [
    "# convert back to degC\n",
    "if ds[dv].attrs[\"units\"] == \"degC\" and \"degC\" in station_dv:\n",
    "    print(\"Temperature DV detected in degC. Converitng to Kelvin\")\n",
    "    K = 273.15 # K\n",
    "    df_match[station_dv] -= K\n",
    "    df_match.model_values -= K"
   ]
  },
  {
   "cell_type": "code",
   "execution_count": 15,
   "metadata": {
    "execution": {
     "iopub.execute_input": "2020-12-18T20:20:19.264989Z",
     "iopub.status.busy": "2020-12-18T20:20:19.264648Z",
     "iopub.status.idle": "2020-12-18T20:20:19.279962Z",
     "shell.execute_reply": "2020-12-18T20:20:19.279153Z"
    },
    "papermill": {
     "duration": 0.031582,
     "end_time": "2020-12-18T20:20:19.280286",
     "exception": false,
     "start_time": "2020-12-18T20:20:19.248704",
     "status": "completed"
    },
    "tags": []
   },
   "outputs": [],
   "source": [
    "df_match.to_csv(\n",
    "    resource_filename(\n",
    "        \"climpyrical\",\n",
    "        f\"{preprocessed_stations_path}{name}.csv\"\n",
    "    ), index=False\n",
    ")"
   ]
  },
  {
   "cell_type": "code",
   "execution_count": 16,
   "metadata": {
    "execution": {
     "iopub.execute_input": "2020-12-18T20:20:19.331069Z",
     "iopub.status.busy": "2020-12-18T20:20:19.330611Z",
     "iopub.status.idle": "2020-12-18T20:20:19.332383Z",
     "shell.execute_reply": "2020-12-18T20:20:19.332669Z"
    },
    "papermill": {
     "duration": 0.02833,
     "end_time": "2020-12-18T20:20:19.332793",
     "exception": false,
     "start_time": "2020-12-18T20:20:19.304463",
     "status": "completed"
    },
    "tags": []
   },
   "outputs": [],
   "source": [
    "assert np.all(df_match['ratio'] >= 0)"
   ]
  },
  {
   "cell_type": "code",
   "execution_count": null,
   "metadata": {
    "papermill": {
     "duration": 0.015267,
     "end_time": "2020-12-18T20:20:19.365488",
     "exception": false,
     "start_time": "2020-12-18T20:20:19.350221",
     "status": "completed"
    },
    "tags": []
   },
   "outputs": [],
   "source": []
  }
 ],
 "metadata": {
  "kernelspec": {
   "display_name": "Python 3",
   "language": "python",
   "name": "python3"
  },
  "language_info": {
   "codemirror_mode": {
    "name": "ipython",
    "version": 3
   },
   "file_extension": ".py",
   "mimetype": "text/x-python",
   "name": "python",
   "nbconvert_exporter": "python",
   "pygments_lexer": "ipython3",
   "version": "3.8.5"
  },
  "papermill": {
   "default_parameters": {},
   "duration": 5.663805,
   "end_time": "2020-12-18T20:20:19.811125",
   "environment_variables": {},
   "exception": null,
   "input_path": "stations.ipynb",
   "output_path": "/home/nannau/Desktop/pipeline/climpyrical/climpyrical/data/results/intermediate/notebooks/stations_log_SL50.ipynb",
   "parameters": {
    "fill_glaciers": true,
    "input_model_path": "data/model_inputs/snw_CanRCM4-LE_ens35_1951-2016_max_rl50_load_ensmean.nc",
    "mask_path": "data/masks/canada_mask_rp.nc",
    "medians": {
     "action": "multiply",
     "value": 2.5
    },
    "name": "SL50",
    "nbcc_loc_path": "data/station_inputs/NBCC_2020_new_coords.xlsm",
    "north_mask_path": "data/masks/canada_mask_north_rp.nc",
    "output_figure_path": "/data/results/figures/",
    "output_notebook_path": "/data/results/intermediate/notebooks/",
    "output_reconstruction_path": "/data/results/netcdf/",
    "output_tables_path": "/data/results/TableC2/",
    "preprocessed_model_path": "/data/results/intermediate/preprocessed_netcdf/",
    "preprocessed_stations_path": "/data/results/intermediate/preprocessed_stations/",
    "station_dv": "SL50 (kPa)",
    "station_path": "data/station_inputs/sl50_rl50_for_maps.csv"
   },
   "start_time": "2020-12-18T20:20:14.147320",
   "version": "2.2.2"
  }
 },
 "nbformat": 4,
 "nbformat_minor": 4
}