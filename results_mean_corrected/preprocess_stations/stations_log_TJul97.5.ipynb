{
 "cells": [
  {
   "cell_type": "markdown",
   "metadata": {
    "papermill": {
     "duration": 0.017097,
     "end_time": "2020-12-18T20:30:06.985769",
     "exception": false,
     "start_time": "2020-12-18T20:30:06.968672",
     "status": "completed"
    },
    "tags": []
   },
   "source": [
    "# Process Stations"
   ]
  },
  {
   "cell_type": "code",
   "execution_count": 1,
   "metadata": {
    "execution": {
     "iopub.execute_input": "2020-12-18T20:30:07.034682Z",
     "iopub.status.busy": "2020-12-18T20:30:07.033639Z",
     "iopub.status.idle": "2020-12-18T20:30:07.999061Z",
     "shell.execute_reply": "2020-12-18T20:30:07.999516Z"
    },
    "papermill": {
     "duration": 0.988212,
     "end_time": "2020-12-18T20:30:07.999851",
     "exception": false,
     "start_time": "2020-12-18T20:30:07.011639",
     "status": "completed"
    },
    "tags": []
   },
   "outputs": [],
   "source": [
    "import pandas as pd\n",
    "import numpy as np\n",
    "import matplotlib.pyplot as plt\n",
    "from pkg_resources import resource_filename\n",
    "\n",
    "from climpyrical.gridding import scale_model_obs\n",
    "from climpyrical.data import read_data\n",
    "from climpyrical.cmd.find_matched_model_vals import add_model_values"
   ]
  },
  {
   "cell_type": "markdown",
   "metadata": {
    "papermill": {
     "duration": 0.017978,
     "end_time": "2020-12-18T20:30:08.038409",
     "exception": false,
     "start_time": "2020-12-18T20:30:08.020431",
     "status": "completed"
    },
    "tags": []
   },
   "source": [
    "### Load station data for processing"
   ]
  },
  {
   "cell_type": "markdown",
   "metadata": {
    "papermill": {
     "duration": 0.009728,
     "end_time": "2020-12-18T20:30:08.059544",
     "exception": false,
     "start_time": "2020-12-18T20:30:08.049816",
     "status": "completed"
    },
    "tags": [
     "parameters"
    ]
   },
   "source": [
    "### Parameters are loaded from config_example.yml\n",
    "Example configuration from config_example.yml:\n",
    "```\n",
    "    paths:\n",
    "        preprocessed_model_path: /data/results/intermediate/preprocessed_netcdf/\n",
    "    RL50:\n",
    "        station_dv: \"RL50 (kPa)\"\n",
    "        station_path: 'data/station_inputs/Interim_snow_rain_load_LR_composite_stations_tbd_v4.csv'\n",
    "        input_model_path: 'data/model_inputs/snw_rain_CanRCM4-LE_ens35_1951-2016_max_rl50_load_ensmean.nc'\n",
    "        medians: \n",
    "            value: 0.4\n",
    "            action: \"multiply\"\n",
    "        fill_glaciers: True\n",
    "```"
   ]
  },
  {
   "cell_type": "code",
   "execution_count": 2,
   "metadata": {
    "execution": {
     "iopub.execute_input": "2020-12-18T20:30:08.086592Z",
     "iopub.status.busy": "2020-12-18T20:30:08.086170Z",
     "iopub.status.idle": "2020-12-18T20:30:08.088606Z",
     "shell.execute_reply": "2020-12-18T20:30:08.088907Z"
    },
    "papermill": {
     "duration": 0.01931,
     "end_time": "2020-12-18T20:30:08.089059",
     "exception": false,
     "start_time": "2020-12-18T20:30:08.069749",
     "status": "completed"
    },
    "tags": [
     "injected-parameters"
    ]
   },
   "outputs": [],
   "source": [
    "# Parameters\n",
    "name = \"TJul97.5\"\n",
    "station_dv = \"TJul2.5 (degC)\"\n",
    "station_path = \"data/station_inputs/julT97.5p_allstations_v3_min8yr_for_maps.csv\"\n",
    "input_model_path = (\n",
    "    \"data/model_inputs/tas_CanRCM4-LE_ens35_1951-2016_1hr_jul97.5p_ensmean.nc\"\n",
    ")\n",
    "medians = {\"value\": 28, \"action\": \"add\"}\n",
    "fill_glaciers = True\n",
    "output_notebook_path = \"/data/results/intermediate/notebooks/\"\n",
    "preprocessed_model_path = \"/data/results/intermediate/preprocessed_netcdf/\"\n",
    "preprocessed_stations_path = \"/data/results/intermediate/preprocessed_stations/\"\n",
    "output_reconstruction_path = \"/data/results/netcdf/\"\n",
    "output_tables_path = \"/data/results/TableC2/\"\n",
    "output_figure_path = \"/data/results/figures/\"\n",
    "mask_path = \"data/masks/canada_mask_rp.nc\"\n",
    "north_mask_path = \"data/masks/canada_mask_north_rp.nc\"\n",
    "nbcc_loc_path = \"data/station_inputs/NBCC_2020_new_coords.xlsm\"\n"
   ]
  },
  {
   "cell_type": "code",
   "execution_count": 3,
   "metadata": {
    "execution": {
     "iopub.execute_input": "2020-12-18T20:30:08.118491Z",
     "iopub.status.busy": "2020-12-18T20:30:08.118061Z",
     "iopub.status.idle": "2020-12-18T20:30:08.120123Z",
     "shell.execute_reply": "2020-12-18T20:30:08.120469Z"
    },
    "papermill": {
     "duration": 0.016714,
     "end_time": "2020-12-18T20:30:08.120625",
     "exception": false,
     "start_time": "2020-12-18T20:30:08.103911",
     "status": "completed"
    },
    "tags": [
     "parameters"
    ]
   },
   "outputs": [],
   "source": [
    "# Parameters cell"
   ]
  },
  {
   "cell_type": "code",
   "execution_count": 4,
   "metadata": {
    "execution": {
     "iopub.execute_input": "2020-12-18T20:30:08.159589Z",
     "iopub.status.busy": "2020-12-18T20:30:08.158967Z",
     "iopub.status.idle": "2020-12-18T20:30:08.164321Z",
     "shell.execute_reply": "2020-12-18T20:30:08.164805Z"
    },
    "papermill": {
     "duration": 0.026306,
     "end_time": "2020-12-18T20:30:08.165008",
     "exception": false,
     "start_time": "2020-12-18T20:30:08.138702",
     "status": "completed"
    },
    "tags": []
   },
   "outputs": [],
   "source": [
    "df = pd.read_csv(resource_filename(\"climpyrical\", station_path), index_col=None)"
   ]
  },
  {
   "cell_type": "markdown",
   "metadata": {
    "papermill": {
     "duration": 0.011258,
     "end_time": "2020-12-18T20:30:08.195669",
     "exception": false,
     "start_time": "2020-12-18T20:30:08.184411",
     "status": "completed"
    },
    "tags": []
   },
   "source": [
    "Check the columns for standard names, and standardize them.\n",
    "\n",
    "This process will not catch any and all possible inputs, so refer to documentation for \n",
    "expected column names"
   ]
  },
  {
   "cell_type": "code",
   "execution_count": 5,
   "metadata": {
    "execution": {
     "iopub.execute_input": "2020-12-18T20:30:08.231947Z",
     "iopub.status.busy": "2020-12-18T20:30:08.231352Z",
     "iopub.status.idle": "2020-12-18T20:30:08.233807Z",
     "shell.execute_reply": "2020-12-18T20:30:08.234287Z"
    },
    "papermill": {
     "duration": 0.026068,
     "end_time": "2020-12-18T20:30:08.234510",
     "exception": false,
     "start_time": "2020-12-18T20:30:08.208442",
     "status": "completed"
    },
    "tags": []
   },
   "outputs": [],
   "source": [
    "def check_df_columns(df):\n",
    "    if 'longitude' in df.columns:\n",
    "        df=df.rename(columns={'longitude': 'lon'})\n",
    "    if 'long' in df.columns:\n",
    "        df=df.rename(columns={'long': 'lon'})\n",
    "    if 'latitude' in df.columns:\n",
    "        df=df.rename(columns={'latitude': 'lat'})\n",
    "    if 'name' in df.columns:\n",
    "        df=df.rename(columns={'name': 'station_name'})\n",
    "    if 'Name' in df.columns:\n",
    "        df=df.rename(columns={'Name': 'station_name'})\n",
    "    if \"prov\" in df.columns:\n",
    "        df=df.rename(columns={\"prov\": \"province\"})\n",
    "    if \"elev\" in df.columns:\n",
    "        df=df.rename(columns={\"elev\": \"elev (m)\"})\n",
    "    if \"elevation (m)\" in df.columns:\n",
    "        df=df.rename(columns={\"elevation (m)\": \"elev (m)\"})\n",
    "    return df\n",
    "\n",
    "df = check_df_columns(df)\n",
    "df.head(5)\n",
    "\n",
    "if np.any(np.isnan(df[[\"lon\", \"lat\", \"elev (m)\", station_dv]].values)):\n",
    "    raise ValueError(\"NaN detected in station input file.\")"
   ]
  },
  {
   "cell_type": "markdown",
   "metadata": {
    "papermill": {
     "duration": 0.01798,
     "end_time": "2020-12-18T20:30:08.274177",
     "exception": false,
     "start_time": "2020-12-18T20:30:08.256197",
     "status": "completed"
    },
    "tags": []
   },
   "source": [
    "Load preprocessed model at target resolution"
   ]
  },
  {
   "cell_type": "code",
   "execution_count": 6,
   "metadata": {
    "execution": {
     "iopub.execute_input": "2020-12-18T20:30:08.304560Z",
     "iopub.status.busy": "2020-12-18T20:30:08.304017Z",
     "iopub.status.idle": "2020-12-18T20:30:08.370348Z",
     "shell.execute_reply": "2020-12-18T20:30:08.370679Z"
    },
    "papermill": {
     "duration": 0.084736,
     "end_time": "2020-12-18T20:30:08.370882",
     "exception": false,
     "start_time": "2020-12-18T20:30:08.286146",
     "status": "completed"
    },
    "tags": []
   },
   "outputs": [],
   "source": [
    "ds = read_data(resource_filename(\"climpyrical\", f\"{preprocessed_model_path}{name}.nc\"))\n",
    "(dv, ) = ds.data_vars"
   ]
  },
  {
   "cell_type": "markdown",
   "metadata": {
    "papermill": {
     "duration": 0.020137,
     "end_time": "2020-12-18T20:30:08.411948",
     "exception": false,
     "start_time": "2020-12-18T20:30:08.391811",
     "status": "completed"
    },
    "tags": []
   },
   "source": [
    "Perform unit conversion if necessary\n",
    "\n",
    "Exclude suspect RL50 values with true 0.0"
   ]
  },
  {
   "cell_type": "code",
   "execution_count": 7,
   "metadata": {
    "execution": {
     "iopub.execute_input": "2020-12-18T20:30:08.439598Z",
     "iopub.status.busy": "2020-12-18T20:30:08.438955Z",
     "iopub.status.idle": "2020-12-18T20:30:08.450186Z",
     "shell.execute_reply": "2020-12-18T20:30:08.450918Z"
    },
    "papermill": {
     "duration": 0.029127,
     "end_time": "2020-12-18T20:30:08.451212",
     "exception": false,
     "start_time": "2020-12-18T20:30:08.422085",
     "status": "completed"
    },
    "tags": []
   },
   "outputs": [
    {
     "name": "stdout",
     "output_type": "stream",
     "text": [
      "Temperature DV detected in degC. Converitng to Kelvin\n"
     ]
    }
   ],
   "source": [
    "# calculate ratios with applied correction\n",
    "# Note the ratios are calculated in K for Temperature fields\n",
    "if ds[dv].attrs[\"units\"] == \"degC\" and \"degC\" in station_dv:\n",
    "    print(\"Temperature DV detected in degC. Converitng to Kelvin\")\n",
    "    K = 273.15 # K\n",
    "    df[station_dv] += K\n",
    "    ds[dv] += K\n",
    "\n",
    "if 'RL50 (kPa)' in station_dv:\n",
    "    df = df[df[station_dv] != 0.0]"
   ]
  },
  {
   "cell_type": "markdown",
   "metadata": {
    "papermill": {
     "duration": 0.011017,
     "end_time": "2020-12-18T20:30:08.479273",
     "exception": false,
     "start_time": "2020-12-18T20:30:08.468256",
     "status": "completed"
    },
    "tags": []
   },
   "source": [
    "Use matching script to find matching model values"
   ]
  },
  {
   "cell_type": "code",
   "execution_count": 8,
   "metadata": {
    "execution": {
     "iopub.execute_input": "2020-12-18T20:30:08.524618Z",
     "iopub.status.busy": "2020-12-18T20:30:08.523665Z",
     "iopub.status.idle": "2020-12-18T20:30:10.587665Z",
     "shell.execute_reply": "2020-12-18T20:30:10.587155Z"
    },
    "papermill": {
     "duration": 2.091255,
     "end_time": "2020-12-18T20:30:10.587830",
     "exception": false,
     "start_time": "2020-12-18T20:30:08.496575",
     "status": "completed"
    },
    "tags": []
   },
   "outputs": [
    {
     "name": "stderr",
     "output_type": "stream",
     "text": [
      "INFO:root:Detect units: degC\n"
     ]
    },
    {
     "name": "stderr",
     "output_type": "stream",
     "text": [
      "INFO:root:rlat or rlon not detected in input file.converting assumes WGS84 coords to rotated pole\n"
     ]
    },
    {
     "name": "stderr",
     "output_type": "stream",
     "text": [
      "INFO:root:Matching coordinates now\n"
     ]
    },
    {
     "name": "stderr",
     "output_type": "stream",
     "text": [
      "INFO:root:Locating corresponding model valuesInterpolating to nearest if matched model value is NaN\n"
     ]
    },
    {
     "data": {
      "text/html": [
       "<div>\n",
       "<style scoped>\n",
       "    .dataframe tbody tr th:only-of-type {\n",
       "        vertical-align: middle;\n",
       "    }\n",
       "\n",
       "    .dataframe tbody tr th {\n",
       "        vertical-align: top;\n",
       "    }\n",
       "\n",
       "    .dataframe thead th {\n",
       "        text-align: right;\n",
       "    }\n",
       "</style>\n",
       "<table border=\"1\" class=\"dataframe\">\n",
       "  <thead>\n",
       "    <tr style=\"text-align: right;\">\n",
       "      <th></th>\n",
       "      <th>history_id</th>\n",
       "      <th>station_name</th>\n",
       "      <th>province</th>\n",
       "      <th>lon</th>\n",
       "      <th>lat</th>\n",
       "      <th>elev (m)</th>\n",
       "      <th>TJul2.5 (degC)</th>\n",
       "      <th>rlat</th>\n",
       "      <th>rlon</th>\n",
       "      <th>irlat</th>\n",
       "      <th>irlon</th>\n",
       "      <th>model_values</th>\n",
       "    </tr>\n",
       "  </thead>\n",
       "  <tbody>\n",
       "    <tr>\n",
       "      <th>0</th>\n",
       "      <td>31.0</td>\n",
       "      <td>DISCOVERY ISLAND</td>\n",
       "      <td>BC</td>\n",
       "      <td>-123.226</td>\n",
       "      <td>48.4246</td>\n",
       "      <td>19</td>\n",
       "      <td>294.8500</td>\n",
       "      <td>3.813107</td>\n",
       "      <td>-17.091967</td>\n",
       "      <td>741</td>\n",
       "      <td>388</td>\n",
       "      <td>299.897353</td>\n",
       "    </tr>\n",
       "    <tr>\n",
       "      <th>1</th>\n",
       "      <td>42.0</td>\n",
       "      <td>ESQUIMALT HARBOUR</td>\n",
       "      <td>BC</td>\n",
       "      <td>-123.439</td>\n",
       "      <td>48.4320</td>\n",
       "      <td>3</td>\n",
       "      <td>294.5500</td>\n",
       "      <td>3.866425</td>\n",
       "      <td>-17.223366</td>\n",
       "      <td>742</td>\n",
       "      <td>385</td>\n",
       "      <td>299.641917</td>\n",
       "    </tr>\n",
       "    <tr>\n",
       "      <th>2</th>\n",
       "      <td>56.0</td>\n",
       "      <td>MALAHAT</td>\n",
       "      <td>BC</td>\n",
       "      <td>-123.530</td>\n",
       "      <td>48.5749</td>\n",
       "      <td>366</td>\n",
       "      <td>300.8500</td>\n",
       "      <td>4.021213</td>\n",
       "      <td>-17.233219</td>\n",
       "      <td>745</td>\n",
       "      <td>385</td>\n",
       "      <td>300.047842</td>\n",
       "    </tr>\n",
       "    <tr>\n",
       "      <th>3</th>\n",
       "      <td>90.0</td>\n",
       "      <td>SATURNA ISLAND CS</td>\n",
       "      <td>BC</td>\n",
       "      <td>-123.045</td>\n",
       "      <td>48.7839</td>\n",
       "      <td>24</td>\n",
       "      <td>298.1275</td>\n",
       "      <td>4.113871</td>\n",
       "      <td>-16.861279</td>\n",
       "      <td>747</td>\n",
       "      <td>394</td>\n",
       "      <td>301.363779</td>\n",
       "    </tr>\n",
       "    <tr>\n",
       "      <th>4</th>\n",
       "      <td>93.0</td>\n",
       "      <td>SHERINGHAM POINT</td>\n",
       "      <td>BC</td>\n",
       "      <td>-123.921</td>\n",
       "      <td>48.3767</td>\n",
       "      <td>7</td>\n",
       "      <td>293.1500</td>\n",
       "      <td>3.920432</td>\n",
       "      <td>-17.544312</td>\n",
       "      <td>743</td>\n",
       "      <td>378</td>\n",
       "      <td>298.922327</td>\n",
       "    </tr>\n",
       "  </tbody>\n",
       "</table>\n",
       "</div>"
      ],
      "text/plain": [
       "   history_id       station_name province      lon      lat  elev (m)  \\\n",
       "0        31.0   DISCOVERY ISLAND       BC -123.226  48.4246        19   \n",
       "1        42.0  ESQUIMALT HARBOUR       BC -123.439  48.4320         3   \n",
       "2        56.0            MALAHAT       BC -123.530  48.5749       366   \n",
       "3        90.0  SATURNA ISLAND CS       BC -123.045  48.7839        24   \n",
       "4        93.0   SHERINGHAM POINT       BC -123.921  48.3767         7   \n",
       "\n",
       "   TJul2.5 (degC)      rlat       rlon  irlat  irlon  model_values  \n",
       "0        294.8500  3.813107 -17.091967    741    388    299.897353  \n",
       "1        294.5500  3.866425 -17.223366    742    385    299.641917  \n",
       "2        300.8500  4.021213 -17.233219    745    385    300.047842  \n",
       "3        298.1275  4.113871 -16.861279    747    394    301.363779  \n",
       "4        293.1500  3.920432 -17.544312    743    378    298.922327  "
      ]
     },
     "execution_count": 8,
     "metadata": {},
     "output_type": "execute_result"
    }
   ],
   "source": [
    "df = add_model_values(ds=ds, df=df)\n",
    "df.head(5)"
   ]
  },
  {
   "cell_type": "markdown",
   "metadata": {
    "papermill": {
     "duration": 0.018942,
     "end_time": "2020-12-18T20:30:10.626734",
     "exception": false,
     "start_time": "2020-12-18T20:30:10.607792",
     "status": "completed"
    },
    "tags": []
   },
   "source": [
    "Group stations that land in the same index in rlat and rlon (land in the same grid cell)\n",
    "\n",
    "This means that they are in the same grid cell and need to be aggregated"
   ]
  },
  {
   "cell_type": "code",
   "execution_count": 9,
   "metadata": {
    "execution": {
     "iopub.execute_input": "2020-12-18T20:30:10.671421Z",
     "iopub.status.busy": "2020-12-18T20:30:10.670898Z",
     "iopub.status.idle": "2020-12-18T20:30:10.687298Z",
     "shell.execute_reply": "2020-12-18T20:30:10.686511Z"
    },
    "papermill": {
     "duration": 0.040873,
     "end_time": "2020-12-18T20:30:10.687540",
     "exception": false,
     "start_time": "2020-12-18T20:30:10.646667",
     "status": "completed"
    },
    "tags": []
   },
   "outputs": [],
   "source": [
    "agg_dict = {\n",
    "    station_dv: 'mean', \n",
    "    'rlat':'mean', \n",
    "    'rlon':'mean', \n",
    "    'lat': 'mean', \n",
    "    'lon': 'mean', \n",
    "    'elev (m)': 'mean',\n",
    "    'station_name': 'first',\n",
    "    'province': 'first',\n",
    "    \"model_values\": \"mean\"\n",
    "}\n",
    "\n",
    "# Province key is used for WP10 and WP50 for\n",
    "# special treatment of Atlantic/Far NW areas\n",
    "if \"province\" not in df.columns:\n",
    "    agg_dict = agg_dict.pop(\"province\")\n",
    "\n",
    "df_match = df.groupby(\n",
    "    ['irlat', 'irlon'], as_index=False\n",
    ").agg(\n",
    "    agg_dict\n",
    ")\n",
    "\n",
    "\n",
    "irlat = df_match.irlat\n",
    "irlon = df_match.irlon"
   ]
  },
  {
   "cell_type": "code",
   "execution_count": 10,
   "metadata": {
    "execution": {
     "iopub.execute_input": "2020-12-18T20:30:10.744317Z",
     "iopub.status.busy": "2020-12-18T20:30:10.743679Z",
     "iopub.status.idle": "2020-12-18T20:30:10.746276Z",
     "shell.execute_reply": "2020-12-18T20:30:10.746729Z"
    },
    "papermill": {
     "duration": 0.042088,
     "end_time": "2020-12-18T20:30:10.747012",
     "exception": false,
     "start_time": "2020-12-18T20:30:10.704924",
     "status": "completed"
    },
    "tags": []
   },
   "outputs": [
    {
     "data": {
      "text/html": [
       "<div>\n",
       "<style scoped>\n",
       "    .dataframe tbody tr th:only-of-type {\n",
       "        vertical-align: middle;\n",
       "    }\n",
       "\n",
       "    .dataframe tbody tr th {\n",
       "        vertical-align: top;\n",
       "    }\n",
       "\n",
       "    .dataframe thead th {\n",
       "        text-align: right;\n",
       "    }\n",
       "</style>\n",
       "<table border=\"1\" class=\"dataframe\">\n",
       "  <thead>\n",
       "    <tr style=\"text-align: right;\">\n",
       "      <th></th>\n",
       "      <th>irlat</th>\n",
       "      <th>irlon</th>\n",
       "      <th>TJul2.5 (degC)</th>\n",
       "      <th>rlat</th>\n",
       "      <th>rlon</th>\n",
       "      <th>lat</th>\n",
       "      <th>lon</th>\n",
       "      <th>elev (m)</th>\n",
       "      <th>station_name</th>\n",
       "      <th>province</th>\n",
       "      <th>model_values</th>\n",
       "    </tr>\n",
       "  </thead>\n",
       "  <tbody>\n",
       "    <tr>\n",
       "      <th>0</th>\n",
       "      <td>552</td>\n",
       "      <td>1011</td>\n",
       "      <td>303.85</td>\n",
       "      <td>-4.517790</td>\n",
       "      <td>10.457750</td>\n",
       "      <td>42.03330</td>\n",
       "      <td>-82.90000</td>\n",
       "      <td>191</td>\n",
       "      <td>HARROW CDA AUTO</td>\n",
       "      <td>ON</td>\n",
       "      <td>308.300051</td>\n",
       "    </tr>\n",
       "    <tr>\n",
       "      <th>1</th>\n",
       "      <td>552</td>\n",
       "      <td>1017</td>\n",
       "      <td>302.55</td>\n",
       "      <td>-4.549355</td>\n",
       "      <td>10.752628</td>\n",
       "      <td>41.94860</td>\n",
       "      <td>-82.51890</td>\n",
       "      <td>177</td>\n",
       "      <td>POINT PELEE CS</td>\n",
       "      <td>ON</td>\n",
       "      <td>308.016199</td>\n",
       "    </tr>\n",
       "    <tr>\n",
       "      <th>2</th>\n",
       "      <td>558</td>\n",
       "      <td>1009</td>\n",
       "      <td>305.02</td>\n",
       "      <td>-4.286849</td>\n",
       "      <td>10.373390</td>\n",
       "      <td>42.27560</td>\n",
       "      <td>-82.95560</td>\n",
       "      <td>190</td>\n",
       "      <td>WINDSOR A</td>\n",
       "      <td>ON</td>\n",
       "      <td>308.200850</td>\n",
       "    </tr>\n",
       "    <tr>\n",
       "      <th>3</th>\n",
       "      <td>565</td>\n",
       "      <td>1026</td>\n",
       "      <td>303.15</td>\n",
       "      <td>-3.968063</td>\n",
       "      <td>11.121350</td>\n",
       "      <td>42.45000</td>\n",
       "      <td>-81.88330</td>\n",
       "      <td>206</td>\n",
       "      <td>RIDGETOWN RCS</td>\n",
       "      <td>ON</td>\n",
       "      <td>307.318125</td>\n",
       "    </tr>\n",
       "    <tr>\n",
       "      <th>4</th>\n",
       "      <td>579</td>\n",
       "      <td>1046</td>\n",
       "      <td>303.85</td>\n",
       "      <td>-3.362845</td>\n",
       "      <td>11.999925</td>\n",
       "      <td>42.86670</td>\n",
       "      <td>-80.55000</td>\n",
       "      <td>232</td>\n",
       "      <td>DELHI CS</td>\n",
       "      <td>ON</td>\n",
       "      <td>306.650652</td>\n",
       "    </tr>\n",
       "    <tr>\n",
       "      <th>...</th>\n",
       "      <td>...</td>\n",
       "      <td>...</td>\n",
       "      <td>...</td>\n",
       "      <td>...</td>\n",
       "      <td>...</td>\n",
       "      <td>...</td>\n",
       "      <td>...</td>\n",
       "      <td>...</td>\n",
       "      <td>...</td>\n",
       "      <td>...</td>\n",
       "      <td>...</td>\n",
       "    </tr>\n",
       "    <tr>\n",
       "      <th>383</th>\n",
       "      <td>1207</td>\n",
       "      <td>549</td>\n",
       "      <td>289.25</td>\n",
       "      <td>24.460936</td>\n",
       "      <td>-9.983429</td>\n",
       "      <td>70.16670</td>\n",
       "      <td>-124.71700</td>\n",
       "      <td>87</td>\n",
       "      <td>CAPE PARRY A</td>\n",
       "      <td>NT</td>\n",
       "      <td>296.515335</td>\n",
       "    </tr>\n",
       "    <tr>\n",
       "      <th>384</th>\n",
       "      <td>1212</td>\n",
       "      <td>400</td>\n",
       "      <td>298.55</td>\n",
       "      <td>24.721682</td>\n",
       "      <td>-16.594914</td>\n",
       "      <td>67.57060</td>\n",
       "      <td>-139.83900</td>\n",
       "      <td>251</td>\n",
       "      <td>OLD CROW RCS</td>\n",
       "      <td>YT</td>\n",
       "      <td>293.432383</td>\n",
       "    </tr>\n",
       "    <tr>\n",
       "      <th>385</th>\n",
       "      <td>1215</td>\n",
       "      <td>1003</td>\n",
       "      <td>286.85</td>\n",
       "      <td>24.853381</td>\n",
       "      <td>10.112060</td>\n",
       "      <td>70.48470</td>\n",
       "      <td>-68.51670</td>\n",
       "      <td>27</td>\n",
       "      <td>CLYDE A COMPOSITE</td>\n",
       "      <td>NU</td>\n",
       "      <td>287.179768</td>\n",
       "    </tr>\n",
       "    <tr>\n",
       "      <th>386</th>\n",
       "      <td>1219</td>\n",
       "      <td>477</td>\n",
       "      <td>296.65</td>\n",
       "      <td>25.026504</td>\n",
       "      <td>-13.177940</td>\n",
       "      <td>69.43330</td>\n",
       "      <td>-133.01700</td>\n",
       "      <td>5</td>\n",
       "      <td>TUKTOYAKTUK</td>\n",
       "      <td>NT</td>\n",
       "      <td>296.207634</td>\n",
       "    </tr>\n",
       "    <tr>\n",
       "      <th>387</th>\n",
       "      <td>1269</td>\n",
       "      <td>788</td>\n",
       "      <td>285.25</td>\n",
       "      <td>27.224160</td>\n",
       "      <td>0.599798</td>\n",
       "      <td>74.71635</td>\n",
       "      <td>-94.97625</td>\n",
       "      <td>49</td>\n",
       "      <td>RESOLUTE CARS COMPOSITE</td>\n",
       "      <td>NU</td>\n",
       "      <td>283.400247</td>\n",
       "    </tr>\n",
       "  </tbody>\n",
       "</table>\n",
       "<p>388 rows × 11 columns</p>\n",
       "</div>"
      ],
      "text/plain": [
       "     irlat  irlon  TJul2.5 (degC)       rlat       rlon       lat        lon  \\\n",
       "0      552   1011          303.85  -4.517790  10.457750  42.03330  -82.90000   \n",
       "1      552   1017          302.55  -4.549355  10.752628  41.94860  -82.51890   \n",
       "2      558   1009          305.02  -4.286849  10.373390  42.27560  -82.95560   \n",
       "3      565   1026          303.15  -3.968063  11.121350  42.45000  -81.88330   \n",
       "4      579   1046          303.85  -3.362845  11.999925  42.86670  -80.55000   \n",
       "..     ...    ...             ...        ...        ...       ...        ...   \n",
       "383   1207    549          289.25  24.460936  -9.983429  70.16670 -124.71700   \n",
       "384   1212    400          298.55  24.721682 -16.594914  67.57060 -139.83900   \n",
       "385   1215   1003          286.85  24.853381  10.112060  70.48470  -68.51670   \n",
       "386   1219    477          296.65  25.026504 -13.177940  69.43330 -133.01700   \n",
       "387   1269    788          285.25  27.224160   0.599798  74.71635  -94.97625   \n",
       "\n",
       "     elev (m)             station_name province  model_values  \n",
       "0         191          HARROW CDA AUTO       ON    308.300051  \n",
       "1         177           POINT PELEE CS       ON    308.016199  \n",
       "2         190                WINDSOR A       ON    308.200850  \n",
       "3         206            RIDGETOWN RCS       ON    307.318125  \n",
       "4         232                 DELHI CS       ON    306.650652  \n",
       "..        ...                      ...      ...           ...  \n",
       "383        87             CAPE PARRY A       NT    296.515335  \n",
       "384       251             OLD CROW RCS       YT    293.432383  \n",
       "385        27        CLYDE A COMPOSITE       NU    287.179768  \n",
       "386         5              TUKTOYAKTUK       NT    296.207634  \n",
       "387        49  RESOLUTE CARS COMPOSITE       NU    283.400247  \n",
       "\n",
       "[388 rows x 11 columns]"
      ]
     },
     "execution_count": 10,
     "metadata": {},
     "output_type": "execute_result"
    }
   ],
   "source": [
    "df_match"
   ]
  },
  {
   "cell_type": "markdown",
   "metadata": {
    "papermill": {
     "duration": 0.019387,
     "end_time": "2020-12-18T20:30:10.792345",
     "exception": false,
     "start_time": "2020-12-18T20:30:10.772958",
     "status": "completed"
    },
    "tags": []
   },
   "source": [
    "Verify that they are correlated"
   ]
  },
  {
   "cell_type": "code",
   "execution_count": 11,
   "metadata": {
    "execution": {
     "iopub.execute_input": "2020-12-18T20:30:10.844383Z",
     "iopub.status.busy": "2020-12-18T20:30:10.843118Z",
     "iopub.status.idle": "2020-12-18T20:30:10.995513Z",
     "shell.execute_reply": "2020-12-18T20:30:10.996282Z"
    },
    "papermill": {
     "duration": 0.189734,
     "end_time": "2020-12-18T20:30:10.996765",
     "exception": false,
     "start_time": "2020-12-18T20:30:10.807031",
     "status": "completed"
    },
    "tags": []
   },
   "outputs": [
    {
     "data": {
      "text/plain": [
       "Text(0, 0.5, 'Model')"
      ]
     },
     "execution_count": 11,
     "metadata": {},
     "output_type": "execute_result"
    },
    {
     "data": {
      "image/png": "[encoded data removed]",
      "text/plain": [
       "<Figure size 432x288 with 1 Axes>"
      ]
     },
     "metadata": {
      "needs_background": "light"
     },
     "output_type": "display_data"
    }
   ],
   "source": [
    "plt.scatter(df_match[station_dv], df_match.model_values)\n",
    "plt.title(\"Correlation between station and models\")\n",
    "plt.xlabel('Stations')\n",
    "plt.ylabel('Model')"
   ]
  },
  {
   "cell_type": "markdown",
   "metadata": {
    "papermill": {
     "duration": 0.02288,
     "end_time": "2020-12-18T20:30:11.042902",
     "exception": false,
     "start_time": "2020-12-18T20:30:11.020022",
     "status": "completed"
    },
    "tags": []
   },
   "source": [
    "Now each station should be matched with a value grid cell value"
   ]
  },
  {
   "cell_type": "markdown",
   "metadata": {
    "papermill": {
     "duration": 0.014449,
     "end_time": "2020-12-18T20:30:11.071786",
     "exception": false,
     "start_time": "2020-12-18T20:30:11.057337",
     "status": "completed"
    },
    "tags": []
   },
   "source": [
    "### Normalize the model mean to match that of the station distribution\n",
    "Find a factor, $\\beta$ such that\n",
    "$$\\mu_s - \\frac{\\mu_m}{\\beta} \\approx 0$$ where $\\mu_s$ is the spatial station mean and $\\mu_m$ is the spatial model mean.\n",
    "\n",
    "$\\beta$ is simply:\n",
    "\n",
    "$$\\beta = \\frac{\\sum_i^{N_s}{M_i}}{\\sum_i^{N_s}{S_i}}$$"
   ]
  },
  {
   "cell_type": "code",
   "execution_count": 12,
   "metadata": {
    "execution": {
     "iopub.execute_input": "2020-12-18T20:30:11.107334Z",
     "iopub.status.busy": "2020-12-18T20:30:11.106758Z",
     "iopub.status.idle": "2020-12-18T20:30:11.109521Z",
     "shell.execute_reply": "2020-12-18T20:30:11.108934Z"
    },
    "papermill": {
     "duration": 0.024201,
     "end_time": "2020-12-18T20:30:11.109672",
     "exception": false,
     "start_time": "2020-12-18T20:30:11.085471",
     "status": "completed"
    },
    "tags": []
   },
   "outputs": [
    {
     "name": "stdout",
     "output_type": "stream",
     "text": [
      "Scaling factor: 1.0040274186947018\n"
     ]
    }
   ],
   "source": [
    "ratio, best_tol = scale_model_obs(df_match.model_values, df_match[station_dv])\n",
    "assert not np.any(np.isnan(ratio))\n",
    "df_match = df_match.assign(ratio=ratio)\n",
    "print(\"Scaling factor:\", best_tol)"
   ]
  },
  {
   "cell_type": "code",
   "execution_count": 13,
   "metadata": {
    "execution": {
     "iopub.execute_input": "2020-12-18T20:30:11.177286Z",
     "iopub.status.busy": "2020-12-18T20:30:11.176558Z",
     "iopub.status.idle": "2020-12-18T20:30:11.179730Z",
     "shell.execute_reply": "2020-12-18T20:30:11.180246Z"
    },
    "papermill": {
     "duration": 0.045447,
     "end_time": "2020-12-18T20:30:11.180483",
     "exception": false,
     "start_time": "2020-12-18T20:30:11.135036",
     "status": "completed"
    },
    "tags": []
   },
   "outputs": [
    {
     "data": {
      "text/html": [
       "<div>\n",
       "<style scoped>\n",
       "    .dataframe tbody tr th:only-of-type {\n",
       "        vertical-align: middle;\n",
       "    }\n",
       "\n",
       "    .dataframe tbody tr th {\n",
       "        vertical-align: top;\n",
       "    }\n",
       "\n",
       "    .dataframe thead th {\n",
       "        text-align: right;\n",
       "    }\n",
       "</style>\n",
       "<table border=\"1\" class=\"dataframe\">\n",
       "  <thead>\n",
       "    <tr style=\"text-align: right;\">\n",
       "      <th></th>\n",
       "      <th>irlat</th>\n",
       "      <th>irlon</th>\n",
       "      <th>TJul2.5 (degC)</th>\n",
       "      <th>rlat</th>\n",
       "      <th>rlon</th>\n",
       "      <th>lat</th>\n",
       "      <th>lon</th>\n",
       "      <th>elev (m)</th>\n",
       "      <th>station_name</th>\n",
       "      <th>province</th>\n",
       "      <th>model_values</th>\n",
       "      <th>ratio</th>\n",
       "    </tr>\n",
       "  </thead>\n",
       "  <tbody>\n",
       "    <tr>\n",
       "      <th>0</th>\n",
       "      <td>552</td>\n",
       "      <td>1011</td>\n",
       "      <td>303.85</td>\n",
       "      <td>-4.517790</td>\n",
       "      <td>10.457750</td>\n",
       "      <td>42.0333</td>\n",
       "      <td>-82.9000</td>\n",
       "      <td>191</td>\n",
       "      <td>HARROW CDA AUTO</td>\n",
       "      <td>ON</td>\n",
       "      <td>308.300051</td>\n",
       "      <td>0.989535</td>\n",
       "    </tr>\n",
       "    <tr>\n",
       "      <th>1</th>\n",
       "      <td>552</td>\n",
       "      <td>1017</td>\n",
       "      <td>302.55</td>\n",
       "      <td>-4.549355</td>\n",
       "      <td>10.752628</td>\n",
       "      <td>41.9486</td>\n",
       "      <td>-82.5189</td>\n",
       "      <td>177</td>\n",
       "      <td>POINT PELEE CS</td>\n",
       "      <td>ON</td>\n",
       "      <td>308.016199</td>\n",
       "      <td>0.986209</td>\n",
       "    </tr>\n",
       "    <tr>\n",
       "      <th>2</th>\n",
       "      <td>558</td>\n",
       "      <td>1009</td>\n",
       "      <td>305.02</td>\n",
       "      <td>-4.286849</td>\n",
       "      <td>10.373390</td>\n",
       "      <td>42.2756</td>\n",
       "      <td>-82.9556</td>\n",
       "      <td>190</td>\n",
       "      <td>WINDSOR A</td>\n",
       "      <td>ON</td>\n",
       "      <td>308.200850</td>\n",
       "      <td>0.993665</td>\n",
       "    </tr>\n",
       "  </tbody>\n",
       "</table>\n",
       "</div>"
      ],
      "text/plain": [
       "   irlat  irlon  TJul2.5 (degC)      rlat       rlon      lat      lon  \\\n",
       "0    552   1011          303.85 -4.517790  10.457750  42.0333 -82.9000   \n",
       "1    552   1017          302.55 -4.549355  10.752628  41.9486 -82.5189   \n",
       "2    558   1009          305.02 -4.286849  10.373390  42.2756 -82.9556   \n",
       "\n",
       "   elev (m)     station_name province  model_values     ratio  \n",
       "0       191  HARROW CDA AUTO       ON    308.300051  0.989535  \n",
       "1       177   POINT PELEE CS       ON    308.016199  0.986209  \n",
       "2       190        WINDSOR A       ON    308.200850  0.993665  "
      ]
     },
     "execution_count": 13,
     "metadata": {},
     "output_type": "execute_result"
    }
   ],
   "source": [
    "df_match.head(3)"
   ]
  },
  {
   "cell_type": "code",
   "execution_count": 14,
   "metadata": {
    "execution": {
     "iopub.execute_input": "2020-12-18T20:30:11.231715Z",
     "iopub.status.busy": "2020-12-18T20:30:11.229650Z",
     "iopub.status.idle": "2020-12-18T20:30:11.234575Z",
     "shell.execute_reply": "2020-12-18T20:30:11.235050Z"
    },
    "papermill": {
     "duration": 0.0318,
     "end_time": "2020-12-18T20:30:11.235273",
     "exception": false,
     "start_time": "2020-12-18T20:30:11.203473",
     "status": "completed"
    },
    "tags": []
   },
   "outputs": [
    {
     "name": "stdout",
     "output_type": "stream",
     "text": [
      "Temperature DV detected in degC. Converitng to Kelvin\n"
     ]
    }
   ],
   "source": [
    "# convert back to degC\n",
    "if ds[dv].attrs[\"units\"] == \"degC\" and \"degC\" in station_dv:\n",
    "    print(\"Temperature DV detected in degC. Converitng to Kelvin\")\n",
    "    K = 273.15 # K\n",
    "    df_match[station_dv] -= K\n",
    "    df_match.model_values -= K"
   ]
  },
  {
   "cell_type": "code",
   "execution_count": 15,
   "metadata": {
    "execution": {
     "iopub.execute_input": "2020-12-18T20:30:11.293061Z",
     "iopub.status.busy": "2020-12-18T20:30:11.292101Z",
     "iopub.status.idle": "2020-12-18T20:30:11.305271Z",
     "shell.execute_reply": "2020-12-18T20:30:11.304486Z"
    },
    "papermill": {
     "duration": 0.043696,
     "end_time": "2020-12-18T20:30:11.305501",
     "exception": false,
     "start_time": "2020-12-18T20:30:11.261805",
     "status": "completed"
    },
    "tags": []
   },
   "outputs": [],
   "source": [
    "df_match.to_csv(\n",
    "    resource_filename(\n",
    "        \"climpyrical\",\n",
    "        f\"{preprocessed_stations_path}{name}.csv\"\n",
    "    ), index=False\n",
    ")"
   ]
  },
  {
   "cell_type": "code",
   "execution_count": 16,
   "metadata": {
    "execution": {
     "iopub.execute_input": "2020-12-18T20:30:11.358145Z",
     "iopub.status.busy": "2020-12-18T20:30:11.357558Z",
     "iopub.status.idle": "2020-12-18T20:30:11.359953Z",
     "shell.execute_reply": "2020-12-18T20:30:11.360438Z"
    },
    "papermill": {
     "duration": 0.027418,
     "end_time": "2020-12-18T20:30:11.360650",
     "exception": false,
     "start_time": "2020-12-18T20:30:11.333232",
     "status": "completed"
    },
    "tags": []
   },
   "outputs": [],
   "source": [
    "assert np.all(df_match['ratio'] >= 0)"
   ]
  },
  {
   "cell_type": "code",
   "execution_count": null,
   "metadata": {
    "papermill": {
     "duration": 0.022162,
     "end_time": "2020-12-18T20:30:11.409055",
     "exception": false,
     "start_time": "2020-12-18T20:30:11.386893",
     "status": "completed"
    },
    "tags": []
   },
   "outputs": [],
   "source": []
  }
 ],
 "metadata": {
  "kernelspec": {
   "display_name": "Python 3",
   "language": "python",
   "name": "python3"
  },
  "language_info": {
   "codemirror_mode": {
    "name": "ipython",
    "version": 3
   },
   "file_extension": ".py",
   "mimetype": "text/x-python",
   "name": "python",
   "nbconvert_exporter": "python",
   "pygments_lexer": "ipython3",
   "version": "3.8.5"
  },
  "papermill": {
   "default_parameters": {},
   "duration": 5.68738,
   "end_time": "2020-12-18T20:30:11.945008",
   "environment_variables": {},
   "exception": null,
   "input_path": "stations.ipynb",
   "output_path": "/home/nannau/Desktop/pipeline/climpyrical/climpyrical/data/results/intermediate/notebooks/stations_log_TJul97.5.ipynb",
   "parameters": {
    "fill_glaciers": true,
    "input_model_path": "data/model_inputs/tas_CanRCM4-LE_ens35_1951-2016_1hr_jul97.5p_ensmean.nc",
    "mask_path": "data/masks/canada_mask_rp.nc",
    "medians": {
     "action": "add",
     "value": 28
    },
    "name": "TJul97.5",
    "nbcc_loc_path": "data/station_inputs/NBCC_2020_new_coords.xlsm",
    "north_mask_path": "data/masks/canada_mask_north_rp.nc",
    "output_figure_path": "/data/results/figures/",
    "output_notebook_path": "/data/results/intermediate/notebooks/",
    "output_reconstruction_path": "/data/results/netcdf/",
    "output_tables_path": "/data/results/TableC2/",
    "preprocessed_model_path": "/data/results/intermediate/preprocessed_netcdf/",
    "preprocessed_stations_path": "/data/results/intermediate/preprocessed_stations/",
    "station_dv": "TJul2.5 (degC)",
    "station_path": "data/station_inputs/julT97.5p_allstations_v3_min8yr_for_maps.csv"
   },
   "start_time": "2020-12-18T20:30:06.257628",
   "version": "2.2.2"
  }
 },
 "nbformat": 4,
 "nbformat_minor": 4
}