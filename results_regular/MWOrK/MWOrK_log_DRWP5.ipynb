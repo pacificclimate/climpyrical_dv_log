{
 "cells": [
  {
   "cell_type": "code",
   "execution_count": 1,
   "metadata": {
    "execution": {
     "iopub.execute_input": "2020-12-18T22:08:09.545507Z",
     "iopub.status.busy": "2020-12-18T22:08:09.544343Z",
     "iopub.status.idle": "2020-12-18T22:08:12.845081Z",
     "shell.execute_reply": "2020-12-18T22:08:12.845430Z"
    },
    "papermill": {
     "duration": 3.341253,
     "end_time": "2020-12-18T22:08:12.845820",
     "exception": false,
     "start_time": "2020-12-18T22:08:09.504567",
     "status": "completed"
    },
    "tags": []
   },
   "outputs": [],
   "source": [
    "from climpyrical.gridding import scale_model_obs\n",
    "from climpyrical.mask import stratify_coords\n",
    "from climpyrical.data import read_data, interpolate_dataset, gen_dataset\n",
    "from climpyrical.rkrig import rkrig_r\n",
    "from climpyrical.cmd.find_matched_model_vals import add_model_values\n",
    "\n",
    "from pkg_resources import resource_filename\n",
    "\n",
    "from sklearn.neighbors import NearestNeighbors\n",
    "import warnings\n",
    "import pandas as pd\n",
    "import numpy as np\n",
    "\n",
    "import matplotlib.pyplot as plt\n",
    "\n",
    "%load_ext autoreload\n",
    "%autoreload 2"
   ]
  },
  {
   "cell_type": "markdown",
   "metadata": {
    "papermill": {
     "duration": 0.018766,
     "end_time": "2020-12-18T22:08:12.888882",
     "exception": false,
     "start_time": "2020-12-18T22:08:12.870116",
     "status": "completed"
    },
    "tags": []
   },
   "source": [
    "### Parameters are loaded from config_example.yml\n",
    "Example configuration from config_example.yml:\n",
    "```\n",
    "    paths:\n",
    "        preprocessed_model_path: /data/results/intermediate/preprocessed_netcdf/\n",
    "    RL50:\n",
    "        station_dv: \"RL50 (kPa)\"\n",
    "        station_path: 'data/station_inputs/Interim_snow_rain_load_LR_composite_stations_tbd_v4.csv'\n",
    "        input_model_path: 'data/model_inputs/snw_rain_CanRCM4-LE_ens35_1951-2016_max_rl50_load_ensmean.nc'\n",
    "        medians: \n",
    "            value: 0.4\n",
    "            action: \"multiply\"\n",
    "        fill_glaciers: True\n",
    "```"
   ]
  },
  {
   "cell_type": "code",
   "execution_count": 2,
   "metadata": {
    "execution": {
     "iopub.execute_input": "2020-12-18T22:08:12.934547Z",
     "iopub.status.busy": "2020-12-18T22:08:12.934093Z",
     "iopub.status.idle": "2020-12-18T22:08:12.967212Z",
     "shell.execute_reply": "2020-12-18T22:08:12.966391Z"
    },
    "papermill": {
     "duration": 0.056788,
     "end_time": "2020-12-18T22:08:12.967473",
     "exception": false,
     "start_time": "2020-12-18T22:08:12.910685",
     "status": "completed"
    },
    "tags": [
     "parameters"
    ]
   },
   "outputs": [],
   "source": [
    "# parameter cell"
   ]
  },
  {
   "cell_type": "code",
   "execution_count": 3,
   "metadata": {
    "execution": {
     "iopub.execute_input": "2020-12-18T22:08:13.145407Z",
     "iopub.status.busy": "2020-12-18T22:08:13.144819Z",
     "iopub.status.idle": "2020-12-18T22:08:13.177260Z",
     "shell.execute_reply": "2020-12-18T22:08:13.176618Z"
    },
    "papermill": {
     "duration": 0.186917,
     "end_time": "2020-12-18T22:08:13.177508",
     "exception": false,
     "start_time": "2020-12-18T22:08:12.990591",
     "status": "completed"
    },
    "tags": [
     "injected-parameters"
    ]
   },
   "outputs": [],
   "source": [
    "# Parameters\n",
    "name = \"DRWP5\"\n",
    "station_dv = \"DRWP-RL5 (Pa)\"\n",
    "station_path = \"data/station_inputs/drwp_rl5_for_maps.csv\"\n",
    "input_model_path = \"data/model_inputs/drwp_CanRCM4-LE_ens15_1951-2016_rl5_ensmean.nc\"\n",
    "medians = {\"value\": 163, \"action\": \"multiply\"}\n",
    "fill_glaciers = True\n",
    "output_notebook_path = \"/data/results/intermediate/notebooks/\"\n",
    "preprocessed_model_path = \"/data/results/intermediate/preprocessed_netcdf/\"\n",
    "preprocessed_stations_path = \"/data/results/intermediate/preprocessed_stations/\"\n",
    "output_reconstruction_path = \"/data/results/netcdf/\"\n",
    "output_tables_path = \"/data/results/TableC2/\"\n",
    "output_figure_path = \"/data/results/figures/\"\n",
    "mask_path = \"data/masks/canada_mask_rp.nc\"\n",
    "north_mask_path = \"data/masks/canada_mask_north_rp.nc\"\n",
    "nbcc_loc_path = \"data/station_inputs/NBCC_2020_new_coords.xlsm\"\n",
    "nbcc_median_correction = False\n"
   ]
  },
  {
   "cell_type": "markdown",
   "metadata": {
    "papermill": {
     "duration": 0.022659,
     "end_time": "2020-12-18T22:08:13.230041",
     "exception": false,
     "start_time": "2020-12-18T22:08:13.207382",
     "status": "completed"
    },
    "tags": []
   },
   "source": [
    "Load processed moded, target canada-only mask, and the Upper Artic Area mask "
   ]
  },
  {
   "cell_type": "code",
   "execution_count": 4,
   "metadata": {
    "execution": {
     "iopub.execute_input": "2020-12-18T22:08:13.270334Z",
     "iopub.status.busy": "2020-12-18T22:08:13.269746Z",
     "iopub.status.idle": "2020-12-18T22:08:13.468599Z",
     "shell.execute_reply": "2020-12-18T22:08:13.469064Z"
    },
    "papermill": {
     "duration": 0.218796,
     "end_time": "2020-12-18T22:08:13.469311",
     "exception": false,
     "start_time": "2020-12-18T22:08:13.250515",
     "status": "completed"
    },
    "tags": []
   },
   "outputs": [],
   "source": [
    "# Hard coded CanRCM4 upper model domain rlat\n",
    "dsold_max = 28.15999984741211\n",
    "\n",
    "ds = read_data(resource_filename(\"climpyrical\", f\"{preprocessed_model_path}{name}.nc\"))\n",
    "(dv, ) = ds.data_vars\n",
    "\n",
    "mask = read_data(\n",
    "    resource_filename(\n",
    "        'climpyrical',\n",
    "        mask_path\n",
    "    ))['mask'].values\n",
    "\n",
    "northern_mask = read_data(\n",
    "    resource_filename(\n",
    "        'climpyrical',\n",
    "        north_mask_path\n",
    "    )\n",
    ")['mask'].values\n",
    "\n",
    "rlon, rlat = np.meshgrid(ds.rlon, ds.rlat)"
   ]
  },
  {
   "cell_type": "markdown",
   "metadata": {
    "papermill": {
     "duration": 0.023019,
     "end_time": "2020-12-18T22:08:13.520422",
     "exception": false,
     "start_time": "2020-12-18T22:08:13.497403",
     "status": "completed"
    },
    "tags": []
   },
   "source": [
    "Load processed station data"
   ]
  },
  {
   "cell_type": "code",
   "execution_count": 5,
   "metadata": {
    "execution": {
     "iopub.execute_input": "2020-12-18T22:08:13.564547Z",
     "iopub.status.busy": "2020-12-18T22:08:13.563607Z",
     "iopub.status.idle": "2020-12-18T22:08:13.610521Z",
     "shell.execute_reply": "2020-12-18T22:08:13.610866Z"
    },
    "papermill": {
     "duration": 0.067985,
     "end_time": "2020-12-18T22:08:13.611074",
     "exception": false,
     "start_time": "2020-12-18T22:08:13.543089",
     "status": "completed"
    },
    "tags": []
   },
   "outputs": [
    {
     "data": {
      "text/html": [
       "<div>\n",
       "<style scoped>\n",
       "    .dataframe tbody tr th:only-of-type {\n",
       "        vertical-align: middle;\n",
       "    }\n",
       "\n",
       "    .dataframe tbody tr th {\n",
       "        vertical-align: top;\n",
       "    }\n",
       "\n",
       "    .dataframe thead th {\n",
       "        text-align: right;\n",
       "    }\n",
       "</style>\n",
       "<table border=\"1\" class=\"dataframe\">\n",
       "  <thead>\n",
       "    <tr style=\"text-align: right;\">\n",
       "      <th></th>\n",
       "      <th>irlat</th>\n",
       "      <th>irlon</th>\n",
       "      <th>Cli_ID</th>\n",
       "      <th>station_name</th>\n",
       "      <th>lat</th>\n",
       "      <th>lon</th>\n",
       "      <th>elev (m)</th>\n",
       "      <th>DRWP-RL5 (Pa)</th>\n",
       "      <th>rlat</th>\n",
       "      <th>rlon</th>\n",
       "      <th>model_values</th>\n",
       "      <th>ratio</th>\n",
       "    </tr>\n",
       "  </thead>\n",
       "  <tbody>\n",
       "    <tr>\n",
       "      <th>0</th>\n",
       "      <td>558</td>\n",
       "      <td>1009</td>\n",
       "      <td>6139527</td>\n",
       "      <td>WINDSOR A</td>\n",
       "      <td>42.28</td>\n",
       "      <td>-82.96</td>\n",
       "      <td>190</td>\n",
       "      <td>179.16</td>\n",
       "      <td>-4.283104</td>\n",
       "      <td>10.369387</td>\n",
       "      <td>227.871414</td>\n",
       "      <td>0.948826</td>\n",
       "    </tr>\n",
       "    <tr>\n",
       "      <th>1</th>\n",
       "      <td>576</td>\n",
       "      <td>1017</td>\n",
       "      <td>6127514</td>\n",
       "      <td>SARNIA AIRPORT</td>\n",
       "      <td>42.99</td>\n",
       "      <td>-82.30</td>\n",
       "      <td>181</td>\n",
       "      <td>143.06</td>\n",
       "      <td>-3.496103</td>\n",
       "      <td>10.717288</td>\n",
       "      <td>237.003296</td>\n",
       "      <td>0.728449</td>\n",
       "    </tr>\n",
       "    <tr>\n",
       "      <th>2</th>\n",
       "      <td>580</td>\n",
       "      <td>1035</td>\n",
       "      <td>6144473</td>\n",
       "      <td>LONDON INT'L AIRPORT</td>\n",
       "      <td>43.03</td>\n",
       "      <td>-81.15</td>\n",
       "      <td>278</td>\n",
       "      <td>131.57</td>\n",
       "      <td>-3.293246</td>\n",
       "      <td>11.535783</td>\n",
       "      <td>273.185791</td>\n",
       "      <td>0.581211</td>\n",
       "    </tr>\n",
       "  </tbody>\n",
       "</table>\n",
       "</div>"
      ],
      "text/plain": [
       "   irlat  irlon   Cli_ID          station_name    lat    lon  elev (m)  \\\n",
       "0    558   1009  6139527             WINDSOR A  42.28 -82.96       190   \n",
       "1    576   1017  6127514        SARNIA AIRPORT  42.99 -82.30       181   \n",
       "2    580   1035  6144473  LONDON INT'L AIRPORT  43.03 -81.15       278   \n",
       "\n",
       "   DRWP-RL5 (Pa)      rlat       rlon  model_values     ratio  \n",
       "0         179.16 -4.283104  10.369387    227.871414  0.948826  \n",
       "1         143.06 -3.496103  10.717288    237.003296  0.728449  \n",
       "2         131.57 -3.293246  11.535783    273.185791  0.581211  "
      ]
     },
     "execution_count": 5,
     "metadata": {},
     "output_type": "execute_result"
    }
   ],
   "source": [
    "df = pd.read_csv(\n",
    "    resource_filename(\n",
    "        \"climpyrical\",\n",
    "        f\"{preprocessed_stations_path}{name}.csv\"\n",
    "    ), \n",
    "    index_col=False\n",
    ")\n",
    "df.head(3)"
   ]
  },
  {
   "cell_type": "code",
   "execution_count": 6,
   "metadata": {
    "execution": {
     "iopub.execute_input": "2020-12-18T22:08:13.666143Z",
     "iopub.status.busy": "2020-12-18T22:08:13.665489Z",
     "iopub.status.idle": "2020-12-18T22:08:13.689685Z",
     "shell.execute_reply": "2020-12-18T22:08:13.690072Z"
    },
    "papermill": {
     "duration": 0.054336,
     "end_time": "2020-12-18T22:08:13.690250",
     "exception": false,
     "start_time": "2020-12-18T22:08:13.635914",
     "status": "completed"
    },
    "tags": []
   },
   "outputs": [],
   "source": [
    "if ds[dv].attrs[\"units\"] == \"degC\" and \"degC\" in station_dv:\n",
    "    K = 273.15\n",
    "    df[station_dv] += K\n",
    "    df[\"model_values\"] += K\n",
    "    ds[dv] += K"
   ]
  },
  {
   "cell_type": "markdown",
   "metadata": {
    "papermill": {
     "duration": 0.019332,
     "end_time": "2020-12-18T22:08:13.728551",
     "exception": false,
     "start_time": "2020-12-18T22:08:13.709219",
     "status": "completed"
    },
    "tags": []
   },
   "source": [
    "Separate stations into beyond and within the model domain"
   ]
  },
  {
   "cell_type": "code",
   "execution_count": 7,
   "metadata": {
    "execution": {
     "iopub.execute_input": "2020-12-18T22:08:13.777111Z",
     "iopub.status.busy": "2020-12-18T22:08:13.776451Z",
     "iopub.status.idle": "2020-12-18T22:08:13.796058Z",
     "shell.execute_reply": "2020-12-18T22:08:13.795494Z"
    },
    "papermill": {
     "duration": 0.043592,
     "end_time": "2020-12-18T22:08:13.796214",
     "exception": false,
     "start_time": "2020-12-18T22:08:13.752622",
     "status": "completed"
    },
    "tags": []
   },
   "outputs": [],
   "source": [
    "df_north = df[df.rlat > dsold_max].copy()\n",
    "df_south = df[df.rlat <= dsold_max].copy()\n",
    "\n",
    "north_index = df_north.index.values\n",
    "south_index = df_south.index.values"
   ]
  },
  {
   "cell_type": "markdown",
   "metadata": {
    "papermill": {
     "duration": 0.016132,
     "end_time": "2020-12-18T22:08:13.829756",
     "exception": false,
     "start_time": "2020-12-18T22:08:13.813624",
     "status": "completed"
    },
    "tags": []
   },
   "source": [
    "Check for sets of stations that are identical. This would produce idential windows over a geographic area and disproportionately weight them in the averaged ratio field."
   ]
  },
  {
   "cell_type": "code",
   "execution_count": 8,
   "metadata": {
    "execution": {
     "iopub.execute_input": "2020-12-18T22:08:13.868339Z",
     "iopub.status.busy": "2020-12-18T22:08:13.867760Z",
     "iopub.status.idle": "2020-12-18T22:08:14.119804Z",
     "shell.execute_reply": "2020-12-18T22:08:14.120695Z"
    },
    "papermill": {
     "duration": 0.275964,
     "end_time": "2020-12-18T22:08:14.121079",
     "exception": false,
     "start_time": "2020-12-18T22:08:13.845115",
     "status": "completed"
    },
    "tags": []
   },
   "outputs": [],
   "source": [
    "X_distances = np.stack([np.deg2rad(df_south.lat.values), np.deg2rad(df_south.lon.values)])\n",
    "nbrs = NearestNeighbors(n_neighbors=30, metric=\"haversine\").fit(\n",
    "    X_distances.T\n",
    ")\n",
    "\n",
    "# Order independent window checkers\n",
    "# only uses windows that are not-identical\n",
    "\n",
    "dist, ind = nbrs.kneighbors(X_distances.T)\n",
    "good_i = []\n",
    "list_of_sets = []\n",
    "count = 0 \n",
    "for i in range(df_south.shape[0]):\n",
    "    list_of_sets.append(df_south[[\"lon\", \"lat\", station_dv]].iloc[ind[i]].values)\n",
    "    if i+1-count == np.unique(list_of_sets, axis=0).shape[0]:\n",
    "        good_i.append(i)\n",
    "    else:\n",
    "        warning.warn(\"There are identical windows!\")\n",
    "        count += 1 \n",
    "\n",
    "df_south = df_south.iloc[good_i]"
   ]
  },
  {
   "cell_type": "markdown",
   "metadata": {
    "papermill": {
     "duration": 0.028215,
     "end_time": "2020-12-18T22:08:14.174694",
     "exception": false,
     "start_time": "2020-12-18T22:08:14.146479",
     "status": "completed"
    },
    "tags": []
   },
   "source": [
    "Calculate the station average in the UAA"
   ]
  },
  {
   "cell_type": "code",
   "execution_count": 9,
   "metadata": {
    "execution": {
     "iopub.execute_input": "2020-12-18T22:08:14.228337Z",
     "iopub.status.busy": "2020-12-18T22:08:14.227508Z",
     "iopub.status.idle": "2020-12-18T22:08:14.256185Z",
     "shell.execute_reply": "2020-12-18T22:08:14.256747Z"
    },
    "papermill": {
     "duration": 0.057673,
     "end_time": "2020-12-18T22:08:14.256989",
     "exception": false,
     "start_time": "2020-12-18T22:08:14.199316",
     "status": "completed"
    },
    "tags": []
   },
   "outputs": [
    {
     "data": {
      "text/plain": [
       "29.385"
      ]
     },
     "execution_count": 9,
     "metadata": {},
     "output_type": "execute_result"
    }
   ],
   "source": [
    "UAA_station_mean = np.nanmean(df[station_dv][df.rlat > dsold_max-1])\n",
    "UAA_station_mean"
   ]
  },
  {
   "cell_type": "markdown",
   "metadata": {
    "papermill": {
     "duration": 0.021768,
     "end_time": "2020-12-18T22:08:14.303916",
     "exception": false,
     "start_time": "2020-12-18T22:08:14.282148",
     "status": "completed"
    },
    "tags": []
   },
   "source": [
    "Use the best tolerance scaling to scale the model values. The ratio is already automatically scaled."
   ]
  },
  {
   "cell_type": "code",
   "execution_count": 10,
   "metadata": {
    "execution": {
     "iopub.execute_input": "2020-12-18T22:08:14.346406Z",
     "iopub.status.busy": "2020-12-18T22:08:14.345275Z",
     "iopub.status.idle": "2020-12-18T22:08:14.377297Z",
     "shell.execute_reply": "2020-12-18T22:08:14.378477Z"
    },
    "papermill": {
     "duration": 0.055542,
     "end_time": "2020-12-18T22:08:14.378970",
     "exception": false,
     "start_time": "2020-12-18T22:08:14.323428",
     "status": "completed"
    },
    "tags": []
   },
   "outputs": [],
   "source": [
    "model_vals = df.model_values\n",
    "station_vals = df[station_dv]\n",
    "\n",
    "ratio, best_tol = scale_model_obs(df.model_values, station_vals)\n",
    "\n",
    "# apply correction\n",
    "model_vals_corrected = (model_vals/best_tol)\n",
    "mean_corrected = (ds[dv].values/best_tol)"
   ]
  },
  {
   "cell_type": "markdown",
   "metadata": {
    "papermill": {
     "duration": 0.017881,
     "end_time": "2020-12-18T22:08:14.423102",
     "exception": false,
     "start_time": "2020-12-18T22:08:14.405221",
     "status": "completed"
    },
    "tags": []
   },
   "source": [
    "Perform ratio kriging on the set of stations below the maximum CanRCM4 native domain."
   ]
  },
  {
   "cell_type": "code",
   "execution_count": 11,
   "metadata": {
    "execution": {
     "iopub.execute_input": "2020-12-18T22:08:14.468394Z",
     "iopub.status.busy": "2020-12-18T22:08:14.466795Z",
     "iopub.status.idle": "2020-12-18T22:12:32.690549Z",
     "shell.execute_reply": "2020-12-18T22:12:32.691099Z"
    },
    "papermill": {
     "duration": 258.249451,
     "end_time": "2020-12-18T22:12:32.691337",
     "exception": false,
     "start_time": "2020-12-18T22:08:14.441886",
     "status": "completed"
    },
    "tags": []
   },
   "outputs": [
    {
     "name": "stderr",
     "output_type": "stream",
     "text": [
      "\r",
      "  0%|          | 0/129 [00:00<?, ?it/s]"
     ]
    },
    {
     "name": "stderr",
     "output_type": "stream",
     "text": [
      "\r",
      "  2%|▏         | 2/129 [00:02<03:01,  1.43s/it]"
     ]
    },
    {
     "name": "stderr",
     "output_type": "stream",
     "text": [
      "\r",
      "  2%|▏         | 3/129 [00:05<03:45,  1.79s/it]"
     ]
    },
    {
     "name": "stderr",
     "output_type": "stream",
     "text": [
      "\r",
      "  3%|▎         | 4/129 [00:07<03:35,  1.72s/it]"
     ]
    },
    {
     "name": "stderr",
     "output_type": "stream",
     "text": [
      "\r",
      "  4%|▍         | 5/129 [00:08<03:24,  1.65s/it]"
     ]
    },
    {
     "name": "stderr",
     "output_type": "stream",
     "text": [
      "\r",
      "  5%|▍         | 6/129 [00:10<03:17,  1.61s/it]"
     ]
    },
    {
     "name": "stderr",
     "output_type": "stream",
     "text": [
      "\r",
      "  5%|▌         | 7/129 [00:11<03:15,  1.60s/it]"
     ]
    },
    {
     "name": "stderr",
     "output_type": "stream",
     "text": [
      "\r",
      "  6%|▌         | 8/129 [00:13<03:06,  1.54s/it]"
     ]
    },
    {
     "name": "stderr",
     "output_type": "stream",
     "text": [
      "\r",
      "  7%|▋         | 9/129 [00:14<02:58,  1.49s/it]"
     ]
    },
    {
     "name": "stderr",
     "output_type": "stream",
     "text": [
      "\r",
      "  8%|▊         | 10/129 [00:16<03:33,  1.79s/it]"
     ]
    },
    {
     "name": "stderr",
     "output_type": "stream",
     "text": [
      "\r",
      "  9%|▊         | 11/129 [00:19<03:46,  1.92s/it]"
     ]
    },
    {
     "name": "stderr",
     "output_type": "stream",
     "text": [
      "\r",
      "  9%|▉         | 12/129 [00:20<03:17,  1.69s/it]"
     ]
    },
    {
     "name": "stderr",
     "output_type": "stream",
     "text": [
      "\r",
      " 10%|█         | 13/129 [00:22<03:18,  1.71s/it]"
     ]
    },
    {
     "name": "stderr",
     "output_type": "stream",
     "text": [
      "\r",
      " 11%|█         | 14/129 [00:24<03:30,  1.83s/it]"
     ]
    },
    {
     "name": "stderr",
     "output_type": "stream",
     "text": [
      "\r",
      " 12%|█▏        | 15/129 [00:25<03:11,  1.68s/it]"
     ]
    },
    {
     "name": "stderr",
     "output_type": "stream",
     "text": [
      "\r",
      " 12%|█▏        | 16/129 [00:26<02:58,  1.58s/it]"
     ]
    },
    {
     "name": "stderr",
     "output_type": "stream",
     "text": [
      "\r",
      " 13%|█▎        | 17/129 [00:28<02:50,  1.52s/it]"
     ]
    },
    {
     "name": "stderr",
     "output_type": "stream",
     "text": [
      "\r",
      " 14%|█▍        | 18/129 [00:29<02:54,  1.58s/it]"
     ]
    },
    {
     "name": "stderr",
     "output_type": "stream",
     "text": [
      "\r",
      " 15%|█▍        | 19/129 [00:31<02:52,  1.57s/it]"
     ]
    },
    {
     "name": "stderr",
     "output_type": "stream",
     "text": [
      "\r",
      " 16%|█▌        | 20/129 [00:33<03:16,  1.81s/it]"
     ]
    },
    {
     "name": "stderr",
     "output_type": "stream",
     "text": [
      "\r",
      " 16%|█▋        | 21/129 [00:35<03:19,  1.85s/it]"
     ]
    },
    {
     "name": "stderr",
     "output_type": "stream",
     "text": [
      "\r",
      " 17%|█▋        | 22/129 [00:37<03:27,  1.94s/it]"
     ]
    },
    {
     "name": "stderr",
     "output_type": "stream",
     "text": [
      "\r",
      " 18%|█▊        | 23/129 [00:40<03:36,  2.04s/it]"
     ]
    },
    {
     "name": "stderr",
     "output_type": "stream",
     "text": [
      "\r",
      " 19%|█▊        | 24/129 [00:42<03:28,  1.99s/it]"
     ]
    },
    {
     "name": "stderr",
     "output_type": "stream",
     "text": [
      "\r",
      " 19%|█▉        | 25/129 [00:44<03:27,  2.00s/it]"
     ]
    },
    {
     "name": "stderr",
     "output_type": "stream",
     "text": [
      "\r",
      " 20%|██        | 26/129 [00:46<03:29,  2.03s/it]"
     ]
    },
    {
     "name": "stderr",
     "output_type": "stream",
     "text": [
      "\r",
      " 21%|██        | 27/129 [00:47<03:15,  1.91s/it]"
     ]
    },
    {
     "name": "stderr",
     "output_type": "stream",
     "text": [
      "\r",
      " 22%|██▏       | 28/129 [00:49<03:09,  1.88s/it]"
     ]
    },
    {
     "name": "stderr",
     "output_type": "stream",
     "text": [
      "\r",
      " 22%|██▏       | 29/129 [00:51<03:08,  1.89s/it]"
     ]
    },
    {
     "name": "stderr",
     "output_type": "stream",
     "text": [
      "\r",
      " 23%|██▎       | 30/129 [00:53<02:54,  1.77s/it]"
     ]
    },
    {
     "name": "stderr",
     "output_type": "stream",
     "text": [
      "\r",
      " 24%|██▍       | 31/129 [00:54<02:57,  1.81s/it]"
     ]
    },
    {
     "name": "stderr",
     "output_type": "stream",
     "text": [
      "\r",
      " 25%|██▍       | 32/129 [00:57<03:03,  1.89s/it]"
     ]
    },
    {
     "name": "stderr",
     "output_type": "stream",
     "text": [
      "\r",
      " 26%|██▌       | 33/129 [00:59<03:10,  1.99s/it]"
     ]
    },
    {
     "name": "stderr",
     "output_type": "stream",
     "text": [
      "\r",
      " 26%|██▋       | 34/129 [01:01<03:15,  2.06s/it]"
     ]
    },
    {
     "name": "stderr",
     "output_type": "stream",
     "text": [
      "\r",
      " 27%|██▋       | 35/129 [01:03<03:18,  2.12s/it]"
     ]
    },
    {
     "name": "stderr",
     "output_type": "stream",
     "text": [
      "\r",
      " 28%|██▊       | 36/129 [01:05<03:13,  2.08s/it]"
     ]
    },
    {
     "name": "stderr",
     "output_type": "stream",
     "text": [
      "\r",
      " 29%|██▊       | 37/129 [01:07<03:06,  2.02s/it]"
     ]
    },
    {
     "name": "stderr",
     "output_type": "stream",
     "text": [
      "\r",
      " 29%|██▉       | 38/129 [01:09<03:00,  1.99s/it]"
     ]
    },
    {
     "name": "stderr",
     "output_type": "stream",
     "text": [
      "\r",
      " 30%|███       | 39/129 [01:11<02:59,  2.00s/it]"
     ]
    },
    {
     "name": "stderr",
     "output_type": "stream",
     "text": [
      "\r",
      " 31%|███       | 40/129 [01:13<02:58,  2.00s/it]"
     ]
    },
    {
     "name": "stderr",
     "output_type": "stream",
     "text": [
      "\r",
      " 32%|███▏      | 41/129 [01:15<02:42,  1.85s/it]"
     ]
    },
    {
     "name": "stderr",
     "output_type": "stream",
     "text": [
      "\r",
      " 33%|███▎      | 42/129 [01:16<02:41,  1.86s/it]"
     ]
    },
    {
     "name": "stderr",
     "output_type": "stream",
     "text": [
      "\r",
      " 33%|███▎      | 43/129 [01:18<02:43,  1.90s/it]"
     ]
    },
    {
     "name": "stderr",
     "output_type": "stream",
     "text": [
      "\r",
      " 34%|███▍      | 44/129 [01:20<02:43,  1.93s/it]"
     ]
    },
    {
     "name": "stderr",
     "output_type": "stream",
     "text": [
      "\r",
      " 35%|███▍      | 45/129 [01:22<02:39,  1.90s/it]"
     ]
    },
    {
     "name": "stderr",
     "output_type": "stream",
     "text": [
      "\r",
      " 36%|███▌      | 46/129 [01:24<02:29,  1.80s/it]"
     ]
    },
    {
     "name": "stderr",
     "output_type": "stream",
     "text": [
      "\r",
      " 36%|███▋      | 47/129 [01:25<02:16,  1.67s/it]"
     ]
    },
    {
     "name": "stderr",
     "output_type": "stream",
     "text": [
      "\r",
      " 37%|███▋      | 48/129 [01:27<02:16,  1.68s/it]"
     ]
    },
    {
     "name": "stderr",
     "output_type": "stream",
     "text": [
      "\r",
      " 38%|███▊      | 49/129 [01:29<02:21,  1.77s/it]"
     ]
    },
    {
     "name": "stderr",
     "output_type": "stream",
     "text": [
      "\r",
      " 39%|███▉      | 50/129 [01:31<02:28,  1.88s/it]"
     ]
    },
    {
     "name": "stderr",
     "output_type": "stream",
     "text": [
      "\r",
      " 40%|███▉      | 51/129 [01:32<02:11,  1.68s/it]"
     ]
    },
    {
     "name": "stderr",
     "output_type": "stream",
     "text": [
      "\r",
      " 40%|████      | 52/129 [01:34<02:04,  1.61s/it]"
     ]
    },
    {
     "name": "stderr",
     "output_type": "stream",
     "text": [
      "\r",
      " 41%|████      | 53/129 [01:36<02:08,  1.69s/it]"
     ]
    },
    {
     "name": "stderr",
     "output_type": "stream",
     "text": [
      "\r",
      " 42%|████▏     | 54/129 [01:38<02:15,  1.81s/it]"
     ]
    },
    {
     "name": "stderr",
     "output_type": "stream",
     "text": [
      "\r",
      " 43%|████▎     | 55/129 [01:39<02:05,  1.70s/it]"
     ]
    },
    {
     "name": "stderr",
     "output_type": "stream",
     "text": [
      "\r",
      " 43%|████▎     | 56/129 [01:41<02:08,  1.76s/it]"
     ]
    },
    {
     "name": "stderr",
     "output_type": "stream",
     "text": [
      "\r",
      " 44%|████▍     | 57/129 [01:43<02:11,  1.83s/it]"
     ]
    },
    {
     "name": "stderr",
     "output_type": "stream",
     "text": [
      "\r",
      " 45%|████▍     | 58/129 [01:45<02:13,  1.88s/it]"
     ]
    },
    {
     "name": "stderr",
     "output_type": "stream",
     "text": [
      "\r",
      " 46%|████▌     | 59/129 [01:47<02:11,  1.87s/it]"
     ]
    },
    {
     "name": "stderr",
     "output_type": "stream",
     "text": [
      "\r",
      " 47%|████▋     | 60/129 [01:49<02:05,  1.83s/it]"
     ]
    },
    {
     "name": "stderr",
     "output_type": "stream",
     "text": [
      "\r",
      " 47%|████▋     | 61/129 [01:50<01:58,  1.74s/it]"
     ]
    },
    {
     "name": "stderr",
     "output_type": "stream",
     "text": [
      "\r",
      " 48%|████▊     | 62/129 [01:52<01:52,  1.69s/it]"
     ]
    },
    {
     "name": "stderr",
     "output_type": "stream",
     "text": [
      "\r",
      " 49%|████▉     | 63/129 [01:53<01:52,  1.70s/it]"
     ]
    },
    {
     "name": "stderr",
     "output_type": "stream",
     "text": [
      "\r",
      " 50%|████▉     | 64/129 [01:55<01:48,  1.67s/it]"
     ]
    },
    {
     "name": "stderr",
     "output_type": "stream",
     "text": [
      "\r",
      " 50%|█████     | 65/129 [01:57<01:55,  1.80s/it]"
     ]
    },
    {
     "name": "stderr",
     "output_type": "stream",
     "text": [
      "\r",
      " 51%|█████     | 66/129 [01:59<02:01,  1.93s/it]"
     ]
    },
    {
     "name": "stderr",
     "output_type": "stream",
     "text": [
      "\r",
      " 52%|█████▏    | 67/129 [02:02<02:06,  2.04s/it]"
     ]
    },
    {
     "name": "stderr",
     "output_type": "stream",
     "text": [
      "\r",
      " 53%|█████▎    | 68/129 [02:03<02:00,  1.98s/it]"
     ]
    },
    {
     "name": "stderr",
     "output_type": "stream",
     "text": [
      "\r",
      " 53%|█████▎    | 69/129 [02:06<02:03,  2.06s/it]"
     ]
    },
    {
     "name": "stderr",
     "output_type": "stream",
     "text": [
      "\r",
      " 54%|█████▍    | 70/129 [02:07<01:48,  1.83s/it]"
     ]
    },
    {
     "name": "stderr",
     "output_type": "stream",
     "text": [
      "\r",
      " 55%|█████▌    | 71/129 [02:09<01:46,  1.83s/it]"
     ]
    },
    {
     "name": "stderr",
     "output_type": "stream",
     "text": [
      "\r",
      " 56%|█████▌    | 72/129 [02:11<01:43,  1.82s/it]"
     ]
    },
    {
     "name": "stderr",
     "output_type": "stream",
     "text": [
      "\r",
      " 57%|█████▋    | 73/129 [02:12<01:41,  1.81s/it]"
     ]
    },
    {
     "name": "stderr",
     "output_type": "stream",
     "text": [
      "\r",
      " 57%|█████▋    | 74/129 [02:14<01:36,  1.76s/it]"
     ]
    },
    {
     "name": "stderr",
     "output_type": "stream",
     "text": [
      "\r",
      " 58%|█████▊    | 75/129 [02:16<01:35,  1.76s/it]"
     ]
    },
    {
     "name": "stderr",
     "output_type": "stream",
     "text": [
      "\r",
      " 59%|█████▉    | 76/129 [02:18<01:37,  1.83s/it]"
     ]
    },
    {
     "name": "stderr",
     "output_type": "stream",
     "text": [
      "\r",
      " 60%|█████▉    | 77/129 [02:20<01:45,  2.03s/it]"
     ]
    },
    {
     "name": "stderr",
     "output_type": "stream",
     "text": [
      "\r",
      " 60%|██████    | 78/129 [02:22<01:40,  1.96s/it]"
     ]
    },
    {
     "name": "stderr",
     "output_type": "stream",
     "text": [
      "\r",
      " 61%|██████    | 79/129 [02:24<01:44,  2.08s/it]"
     ]
    },
    {
     "name": "stderr",
     "output_type": "stream",
     "text": [
      "\r",
      " 62%|██████▏   | 80/129 [02:26<01:40,  2.05s/it]"
     ]
    },
    {
     "name": "stderr",
     "output_type": "stream",
     "text": [
      "\r",
      " 63%|██████▎   | 81/129 [02:28<01:34,  1.97s/it]"
     ]
    },
    {
     "name": "stderr",
     "output_type": "stream",
     "text": [
      "\r",
      " 64%|██████▎   | 82/129 [02:31<01:40,  2.14s/it]"
     ]
    },
    {
     "name": "stderr",
     "output_type": "stream",
     "text": [
      "\r",
      " 64%|██████▍   | 83/129 [02:33<01:38,  2.14s/it]"
     ]
    },
    {
     "name": "stderr",
     "output_type": "stream",
     "text": [
      "\r",
      " 65%|██████▌   | 84/129 [02:35<01:42,  2.28s/it]"
     ]
    },
    {
     "name": "stderr",
     "output_type": "stream",
     "text": [
      "\r",
      " 66%|██████▌   | 85/129 [02:38<01:39,  2.27s/it]"
     ]
    },
    {
     "name": "stderr",
     "output_type": "stream",
     "text": [
      "\r",
      " 67%|██████▋   | 86/129 [02:40<01:32,  2.15s/it]"
     ]
    },
    {
     "name": "stderr",
     "output_type": "stream",
     "text": [
      "\r",
      " 67%|██████▋   | 87/129 [02:42<01:39,  2.36s/it]"
     ]
    },
    {
     "name": "stderr",
     "output_type": "stream",
     "text": [
      "\r",
      " 68%|██████▊   | 88/129 [02:44<01:31,  2.22s/it]"
     ]
    },
    {
     "name": "stderr",
     "output_type": "stream",
     "text": [
      "\r",
      " 69%|██████▉   | 89/129 [02:47<01:30,  2.27s/it]"
     ]
    },
    {
     "name": "stderr",
     "output_type": "stream",
     "text": [
      "\r",
      " 70%|██████▉   | 90/129 [02:49<01:32,  2.38s/it]"
     ]
    },
    {
     "name": "stderr",
     "output_type": "stream",
     "text": [
      "\r",
      " 71%|███████   | 91/129 [02:51<01:22,  2.17s/it]"
     ]
    },
    {
     "name": "stderr",
     "output_type": "stream",
     "text": [
      "\r",
      " 71%|███████▏  | 92/129 [02:53<01:16,  2.06s/it]"
     ]
    },
    {
     "name": "stderr",
     "output_type": "stream",
     "text": [
      "\r",
      " 72%|███████▏  | 93/129 [02:55<01:14,  2.06s/it]"
     ]
    },
    {
     "name": "stderr",
     "output_type": "stream",
     "text": [
      "\r",
      " 73%|███████▎  | 94/129 [02:57<01:13,  2.09s/it]"
     ]
    },
    {
     "name": "stderr",
     "output_type": "stream",
     "text": [
      "\r",
      " 74%|███████▎  | 95/129 [02:59<01:07,  2.00s/it]"
     ]
    },
    {
     "name": "stderr",
     "output_type": "stream",
     "text": [
      "\r",
      " 74%|███████▍  | 96/129 [03:01<01:03,  1.91s/it]"
     ]
    },
    {
     "name": "stderr",
     "output_type": "stream",
     "text": [
      "\r",
      " 75%|███████▌  | 97/129 [03:02<00:59,  1.87s/it]"
     ]
    },
    {
     "name": "stderr",
     "output_type": "stream",
     "text": [
      "\r",
      " 76%|███████▌  | 98/129 [03:04<00:55,  1.80s/it]"
     ]
    },
    {
     "name": "stderr",
     "output_type": "stream",
     "text": [
      "\r",
      " 77%|███████▋  | 99/129 [03:06<00:53,  1.79s/it]"
     ]
    },
    {
     "name": "stderr",
     "output_type": "stream",
     "text": [
      "\r",
      " 78%|███████▊  | 100/129 [03:07<00:50,  1.76s/it]"
     ]
    },
    {
     "name": "stderr",
     "output_type": "stream",
     "text": [
      "\r",
      " 78%|███████▊  | 101/129 [03:10<00:53,  1.93s/it]"
     ]
    },
    {
     "name": "stderr",
     "output_type": "stream",
     "text": [
      "\r",
      " 79%|███████▉  | 102/129 [03:12<00:51,  1.92s/it]"
     ]
    },
    {
     "name": "stderr",
     "output_type": "stream",
     "text": [
      "\r",
      " 80%|███████▉  | 103/129 [03:14<00:54,  2.10s/it]"
     ]
    },
    {
     "name": "stderr",
     "output_type": "stream",
     "text": [
      "\r",
      " 81%|████████  | 104/129 [03:16<00:52,  2.10s/it]"
     ]
    },
    {
     "name": "stderr",
     "output_type": "stream",
     "text": [
      "\r",
      " 81%|████████▏ | 105/129 [03:19<00:51,  2.16s/it]"
     ]
    },
    {
     "name": "stderr",
     "output_type": "stream",
     "text": [
      "\r",
      " 82%|████████▏ | 106/129 [03:21<00:50,  2.18s/it]"
     ]
    },
    {
     "name": "stderr",
     "output_type": "stream",
     "text": [
      "\r",
      " 83%|████████▎ | 107/129 [03:23<00:46,  2.12s/it]"
     ]
    },
    {
     "name": "stderr",
     "output_type": "stream",
     "text": [
      "\r",
      " 84%|████████▎ | 108/129 [03:25<00:46,  2.20s/it]"
     ]
    },
    {
     "name": "stderr",
     "output_type": "stream",
     "text": [
      "\r",
      " 84%|████████▍ | 109/129 [03:27<00:41,  2.08s/it]"
     ]
    },
    {
     "name": "stderr",
     "output_type": "stream",
     "text": [
      "\r",
      " 85%|████████▌ | 110/129 [03:29<00:38,  2.03s/it]"
     ]
    },
    {
     "name": "stderr",
     "output_type": "stream",
     "text": [
      "\r",
      " 86%|████████▌ | 111/129 [03:31<00:39,  2.19s/it]"
     ]
    },
    {
     "name": "stderr",
     "output_type": "stream",
     "text": [
      "\r",
      " 87%|████████▋ | 112/129 [03:33<00:36,  2.14s/it]"
     ]
    },
    {
     "name": "stderr",
     "output_type": "stream",
     "text": [
      "\r",
      " 88%|████████▊ | 113/129 [03:36<00:34,  2.15s/it]"
     ]
    },
    {
     "name": "stderr",
     "output_type": "stream",
     "text": [
      "\r",
      " 88%|████████▊ | 114/129 [03:37<00:30,  2.03s/it]"
     ]
    },
    {
     "name": "stderr",
     "output_type": "stream",
     "text": [
      "\r",
      " 89%|████████▉ | 115/129 [03:40<00:30,  2.19s/it]"
     ]
    },
    {
     "name": "stderr",
     "output_type": "stream",
     "text": [
      "\r",
      " 90%|████████▉ | 116/129 [03:43<00:31,  2.40s/it]"
     ]
    },
    {
     "name": "stderr",
     "output_type": "stream",
     "text": [
      "\r",
      " 91%|█████████ | 117/129 [03:45<00:28,  2.35s/it]"
     ]
    },
    {
     "name": "stderr",
     "output_type": "stream",
     "text": [
      "\r",
      " 91%|█████████▏| 118/129 [03:49<00:30,  2.73s/it]"
     ]
    },
    {
     "name": "stderr",
     "output_type": "stream",
     "text": [
      "R[write to console]: Error in solve.default(qr.R(qr.VT)) : \n",
      "  Lapack routine dgesv: system is exactly singular: U[1,1] = 0\n",
      "\n"
     ]
    },
    {
     "name": "stderr",
     "output_type": "stream",
     "text": [
      "R[write to console]: In addition: \n"
     ]
    },
    {
     "name": "stderr",
     "output_type": "stream",
     "text": [
      "R[write to console]: Warning messages:\n",
      "\n"
     ]
    },
    {
     "name": "stderr",
     "output_type": "stream",
     "text": [
      "R[write to console]: 1: \n"
     ]
    },
    {
     "name": "stderr",
     "output_type": "stream",
     "text": [
      "R[write to console]: In (function (package, help, pos = 2, lib.loc = NULL, character.only = FALSE,  :\n"
     ]
    },
    {
     "name": "stderr",
     "output_type": "stream",
     "text": [
      "R[write to console]: \n",
      " \n"
     ]
    },
    {
     "name": "stderr",
     "output_type": "stream",
     "text": [
      "R[write to console]:  libraries ‘/usr/local/lib/R/site-library’, ‘/usr/lib/R/site-library’ contain no packages\n",
      "\n"
     ]
    },
    {
     "name": "stderr",
     "output_type": "stream",
     "text": [
      "R[write to console]: 2: \n"
     ]
    },
    {
     "name": "stderr",
     "output_type": "stream",
     "text": [
      "R[write to console]: In (function (package, help, pos = 2, lib.loc = NULL, character.only = FALSE,  :\n"
     ]
    },
    {
     "name": "stderr",
     "output_type": "stream",
     "text": [
      "R[write to console]: \n",
      " \n"
     ]
    },
    {
     "name": "stderr",
     "output_type": "stream",
     "text": [
      "R[write to console]:  libraries ‘/usr/local/lib/R/site-library’, ‘/usr/lib/R/site-library’ contain no packages\n",
      "\n"
     ]
    },
    {
     "name": "stderr",
     "output_type": "stream",
     "text": [
      "R[write to console]: Timing stopped at: 0.545 0.004 0.546\n",
      "\n"
     ]
    },
    {
     "name": "stderr",
     "output_type": "stream",
     "text": [
      "\r",
      " 92%|█████████▏| 119/129 [03:49<00:21,  2.11s/it]"
     ]
    },
    {
     "name": "stderr",
     "output_type": "stream",
     "text": [
      "\r",
      " 93%|█████████▎| 120/129 [03:52<00:19,  2.16s/it]"
     ]
    },
    {
     "name": "stderr",
     "output_type": "stream",
     "text": [
      "\r",
      " 94%|█████████▍| 121/129 [03:54<00:16,  2.12s/it]"
     ]
    },
    {
     "name": "stderr",
     "output_type": "stream",
     "text": [
      "\r",
      " 95%|█████████▍| 122/129 [03:56<00:15,  2.18s/it]"
     ]
    },
    {
     "name": "stderr",
     "output_type": "stream",
     "text": [
      "\r",
      " 95%|█████████▌| 123/129 [03:58<00:12,  2.16s/it]"
     ]
    },
    {
     "name": "stderr",
     "output_type": "stream",
     "text": [
      "\r",
      " 96%|█████████▌| 124/129 [04:01<00:11,  2.35s/it]"
     ]
    },
    {
     "name": "stderr",
     "output_type": "stream",
     "text": [
      "\r",
      " 97%|█████████▋| 125/129 [04:04<00:09,  2.44s/it]"
     ]
    },
    {
     "name": "stderr",
     "output_type": "stream",
     "text": [
      "\r",
      " 98%|█████████▊| 126/129 [04:06<00:07,  2.60s/it]"
     ]
    },
    {
     "name": "stderr",
     "output_type": "stream",
     "text": [
      "\r",
      " 98%|█████████▊| 127/129 [04:08<00:04,  2.36s/it]"
     ]
    },
    {
     "name": "stderr",
     "output_type": "stream",
     "text": [
      "\r",
      " 99%|█████████▉| 128/129 [04:11<00:02,  2.57s/it]"
     ]
    },
    {
     "name": "stderr",
     "output_type": "stream",
     "text": [
      "\r",
      "100%|██████████| 129/129 [04:14<00:00,  2.69s/it]"
     ]
    },
    {
     "name": "stderr",
     "output_type": "stream",
     "text": [
      "\r",
      "100%|██████████| 129/129 [04:18<00:00,  2.00s/it]"
     ]
    },
    {
     "name": "stderr",
     "output_type": "stream",
     "text": [
      "\n"
     ]
    }
   ],
   "source": [
    "ratio_field = rkrig_r(df_south, 30, ds, station_dv)\n",
    "ratio_field[~mask] = np.nan"
   ]
  },
  {
   "cell_type": "markdown",
   "metadata": {
    "papermill": {
     "duration": 0.0657,
     "end_time": "2020-12-18T22:12:32.837228",
     "exception": false,
     "start_time": "2020-12-18T22:12:32.771528",
     "status": "completed"
    },
    "tags": []
   },
   "source": [
    "Select the UAA strip to sample the reconstruction values from."
   ]
  },
  {
   "cell_type": "code",
   "execution_count": 12,
   "metadata": {
    "execution": {
     "iopub.execute_input": "2020-12-18T22:12:32.968829Z",
     "iopub.status.busy": "2020-12-18T22:12:32.968365Z",
     "iopub.status.idle": "2020-12-18T22:12:33.030413Z",
     "shell.execute_reply": "2020-12-18T22:12:33.029963Z"
    },
    "papermill": {
     "duration": 0.138999,
     "end_time": "2020-12-18T22:12:33.030553",
     "exception": false,
     "start_time": "2020-12-18T22:12:32.891554",
     "status": "completed"
    },
    "tags": []
   },
   "outputs": [],
   "source": [
    "selection = ~np.isnan(ds[dv].where((ds.lat > 72.) & (ds.lat < 73) & (ds.lon - 360 < -75) & (ds.lon - 360 > -127)))"
   ]
  },
  {
   "cell_type": "markdown",
   "metadata": {
    "papermill": {
     "duration": 0.058621,
     "end_time": "2020-12-18T22:12:33.151054",
     "exception": false,
     "start_time": "2020-12-18T22:12:33.092433",
     "status": "completed"
    },
    "tags": []
   },
   "source": [
    "Fill and reconstruct the ratio field."
   ]
  },
  {
   "cell_type": "code",
   "execution_count": 13,
   "metadata": {
    "execution": {
     "iopub.execute_input": "2020-12-18T22:12:33.304343Z",
     "iopub.status.busy": "2020-12-18T22:12:33.303801Z",
     "iopub.status.idle": "2020-12-18T22:12:42.537771Z",
     "shell.execute_reply": "2020-12-18T22:12:42.538537Z"
    },
    "papermill": {
     "duration": 9.311238,
     "end_time": "2020-12-18T22:12:42.538888",
     "exception": false,
     "start_time": "2020-12-18T22:12:33.227650",
     "status": "completed"
    },
    "tags": []
   },
   "outputs": [],
   "source": [
    "nanmask = ~np.isnan(ratio_field)\n",
    "\n",
    "points = np.stack([rlon[nanmask], rlat[nanmask]]).T\n",
    "target_points = np.stack([rlon[nanmask^mask], rlat[nanmask^mask]]).T\n",
    "\n",
    "# We treat TJul2.5 and TwJul2.5 slightly differently than the other DVs\n",
    "# since an artefact appears in SW Yukon in the CanRCM4 models. Since\n",
    "# stations happen to be close to coastlines for this DV, we directly\n",
    "# fill with the nearest reconstructed value, as opposed to the ratio value for \n",
    "# the remaining DVs\n",
    "if station_dv == \"TJul2.5 (degC)\" or station_dv == \"TwJul2.5 (degC)\":\n",
    "    reconstructed_field = ratio_field*mean_corrected.copy()\n",
    "    target_values = reconstructed_field[nanmask]\n",
    "    reconstructed_field[nanmask^mask] = interpolate_dataset(points, target_values, target_points, 'nearest')\n",
    "else:\n",
    "    target_values = ratio_field[nanmask]\n",
    "    ratio_field[nanmask^mask] = interpolate_dataset(points, target_values, target_points, 'nearest')\n",
    "    reconstructed_field = ratio_field*mean_corrected.copy()\n",
    "\n",
    "reconstructed_field_strip_mean = np.nanmean(reconstructed_field[selection])\n",
    "combined_ratio_station_mean = np.mean([reconstructed_field_strip_mean, UAA_station_mean])\n",
    "reconstructed_field[northern_mask] = combined_ratio_station_mean"
   ]
  },
  {
   "cell_type": "markdown",
   "metadata": {
    "papermill": {
     "duration": 0.052479,
     "end_time": "2020-12-18T22:12:42.696854",
     "exception": false,
     "start_time": "2020-12-18T22:12:42.644375",
     "status": "completed"
    },
    "tags": []
   },
   "source": [
    "Compare kriged ratio values at station grids, with the original ratio values at station krids"
   ]
  },
  {
   "cell_type": "code",
   "execution_count": 14,
   "metadata": {
    "execution": {
     "iopub.execute_input": "2020-12-18T22:12:42.827155Z",
     "iopub.status.busy": "2020-12-18T22:12:42.826532Z",
     "iopub.status.idle": "2020-12-18T22:12:43.083853Z",
     "shell.execute_reply": "2020-12-18T22:12:43.084308Z"
    },
    "papermill": {
     "duration": 0.328963,
     "end_time": "2020-12-18T22:12:43.084530",
     "exception": false,
     "start_time": "2020-12-18T22:12:42.755567",
     "status": "completed"
    },
    "tags": []
   },
   "outputs": [
    {
     "data": {
      "text/plain": [
       "<AxesSubplot:title={'center':'DRWP5 Distributions of Results'}, xlabel='Ratios at Station Grid Cells (i)'>"
      ]
     },
     "execution_count": 14,
     "metadata": {},
     "output_type": "execute_result"
    },
    {
     "data": {
      "image/png": "[encoded data removed]",
      "text/plain": [
       "<Figure size 576x324 with 1 Axes>"
      ]
     },
     "metadata": {},
     "output_type": "display_data"
    }
   ],
   "source": [
    "import seaborn as sns\n",
    "\n",
    "sns.set_theme(style=\"whitegrid\")\n",
    "\n",
    "fig, ax = plt.subplots(figsize=(8, 4.5))\n",
    "\n",
    "violindata = np.concatenate([df.ratio, ratio_field[df.irlat, df.irlon]])\n",
    "\n",
    "b_str = [\"B\" for x in df.ratio.values]\n",
    "bp_str = [\"B'\" for x in ratio_field[df.irlat, df.irlon]]\n",
    "\n",
    "vstrings = np.concatenate([b_str, bp_str])\n",
    "vdf = pd.DataFrame({\"Ratios at Station Grid Cells (i)\": violindata, '': vstrings})\n",
    "\n",
    "ax.set_title(f\"{name} Distributions of Results\", fontsize=20)\n",
    "sns.violinplot(ax=ax, x=\"Ratios at Station Grid Cells (i)\", y='', data=vdf, palette=sns.color_palette('pastel'))"
   ]
  },
  {
   "cell_type": "markdown",
   "metadata": {
    "papermill": {
     "duration": 0.06557,
     "end_time": "2020-12-18T22:12:43.206110",
     "exception": false,
     "start_time": "2020-12-18T22:12:43.140540",
     "status": "completed"
    },
    "tags": []
   },
   "source": [
    "Summarize reconstruction stats"
   ]
  },
  {
   "cell_type": "code",
   "execution_count": 15,
   "metadata": {
    "execution": {
     "iopub.execute_input": "2020-12-18T22:12:43.367199Z",
     "iopub.status.busy": "2020-12-18T22:12:43.366492Z",
     "iopub.status.idle": "2020-12-18T22:12:43.386111Z",
     "shell.execute_reply": "2020-12-18T22:12:43.386592Z"
    },
    "papermill": {
     "duration": 0.113347,
     "end_time": "2020-12-18T22:12:43.386802",
     "exception": false,
     "start_time": "2020-12-18T22:12:43.273455",
     "status": "completed"
    },
    "tags": []
   },
   "outputs": [
    {
     "name": "stdout",
     "output_type": "stream",
     "text": [
      "Northern fill value:\n",
      "Reconstruction 49.48321972326574 \n",
      "UAA_station_mean 29.385 \n",
      "Combined 39.43410986163287\n"
     ]
    }
   ],
   "source": [
    "print(\n",
    "    \"Northern fill value:\"\n",
    "    \"\\n\"\n",
    "    \"Reconstruction\", reconstructed_field_strip_mean,\n",
    "    \"\\n\"\n",
    "    \"UAA_station_mean\", UAA_station_mean,\n",
    "    \"\\n\"\n",
    "    \"Combined\", combined_ratio_station_mean\n",
    ")"
   ]
  },
  {
   "cell_type": "markdown",
   "metadata": {
    "papermill": {
     "duration": 0.055324,
     "end_time": "2020-12-18T22:12:43.520105",
     "exception": false,
     "start_time": "2020-12-18T22:12:43.464781",
     "status": "completed"
    },
    "tags": []
   },
   "source": [
    "Convert back to degC if K was used in previous steps. Generate dataset."
   ]
  },
  {
   "cell_type": "code",
   "execution_count": 16,
   "metadata": {
    "execution": {
     "iopub.execute_input": "2020-12-18T22:12:43.632730Z",
     "iopub.status.busy": "2020-12-18T22:12:43.631998Z",
     "iopub.status.idle": "2020-12-18T22:12:43.652755Z",
     "shell.execute_reply": "2020-12-18T22:12:43.653287Z"
    },
    "papermill": {
     "duration": 0.081038,
     "end_time": "2020-12-18T22:12:43.653523",
     "exception": false,
     "start_time": "2020-12-18T22:12:43.572485",
     "status": "completed"
    },
    "tags": []
   },
   "outputs": [],
   "source": [
    "if ds[dv].attrs[\"units\"] == \"degC\" and \"degC\" in station_dv:\n",
    "    print(\"Convert back to degC\")\n",
    "    K = 273.15 # K\n",
    "    reconstructed_field -= K\n",
    "    df[station_dv] -= K\n",
    "#     ds[dv].attrs[\"units\"] = \"degC\"\n",
    "\n",
    "ds_recon = gen_dataset(dv, reconstructed_field, ds.rlat, ds.rlon, ds.lat, ds.lon, unit=ds[dv].attrs[\"units\"])"
   ]
  },
  {
   "cell_type": "markdown",
   "metadata": {
    "papermill": {
     "duration": 0.047717,
     "end_time": "2020-12-18T22:12:43.782540",
     "exception": false,
     "start_time": "2020-12-18T22:12:43.734823",
     "status": "completed"
    },
    "tags": []
   },
   "source": [
    "# Load in NBCC Tables for Comparisons"
   ]
  },
  {
   "cell_type": "code",
   "execution_count": 17,
   "metadata": {
    "execution": {
     "iopub.execute_input": "2020-12-18T22:12:43.880811Z",
     "iopub.status.busy": "2020-12-18T22:12:43.879904Z",
     "iopub.status.idle": "2020-12-18T22:12:44.058355Z",
     "shell.execute_reply": "2020-12-18T22:12:44.056901Z"
    },
    "papermill": {
     "duration": 0.228596,
     "end_time": "2020-12-18T22:12:44.058670",
     "exception": false,
     "start_time": "2020-12-18T22:12:43.830074",
     "status": "completed"
    },
    "tags": []
   },
   "outputs": [],
   "source": [
    "nrc_path = resource_filename(\"climpyrical\", nbcc_loc_path)\n",
    "df_nrc = pd.read_excel(nrc_path).iloc[:-1]\n",
    "\n",
    "# fill problem values with better values from 2015\n",
    "id_typo = df_nrc[(df_nrc['2020 Longitude'] > 0) | (df_nrc['2020 Latitude'] < 40)].index\n",
    "df_nrc.loc[id_typo, '2020 Longitude'] = df_nrc['2015 Long.'].values[id_typo]\n",
    "df_nrc.loc[id_typo, '2020 Latitude'] = df_nrc['2015 Lat.'].values[id_typo]\n",
    "\n",
    "# process to get the model values\n",
    "df_nrc.rename(columns={\"2020 Longitude\": \"lon\",\n",
    "                      \"2020 Latitude\": \"lat\"})\n",
    "\n",
    "df_nrc_matched = pd.DataFrame(\n",
    "    {\n",
    "     'Location': df_nrc.Location, \n",
    "     'Prov': df_nrc.Prov,\n",
    "     \"2020 Elev (m)\": df_nrc[\"2020 Elev (m)\"],\n",
    "     'lon': df_nrc['2020 Longitude'], \n",
    "     'lat': df_nrc['2020 Latitude']\n",
    "     }\n",
    "    \n",
    ")"
   ]
  },
  {
   "cell_type": "markdown",
   "metadata": {
    "papermill": {
     "duration": 0.06991,
     "end_time": "2020-12-18T22:12:44.208517",
     "exception": false,
     "start_time": "2020-12-18T22:12:44.138607",
     "status": "completed"
    },
    "tags": []
   },
   "source": [
    "__This step aims to correct the final field to the NBCC 2015 results.__\n",
    "\n",
    "This is configurable by setting `nbcc_median_correction` to True or False.\n",
    "\n",
    "1) Find the median of these values. Compute the difference, d = median(R) - median(NRC), and ratio, f = median(R)/median(NRC) \n",
    "\n",
    "2) For the non-temperature DVs and HDD, apply the multiplicative correction (1/f)*R_j over the entire reconstruction grid. For the temperature DVs, apply the correction as R_j - d"
   ]
  },
  {
   "cell_type": "code",
   "execution_count": 18,
   "metadata": {
    "execution": {
     "iopub.execute_input": "2020-12-18T22:12:44.340039Z",
     "iopub.status.busy": "2020-12-18T22:12:44.339432Z",
     "iopub.status.idle": "2020-12-18T22:12:46.995446Z",
     "shell.execute_reply": "2020-12-18T22:12:46.994654Z"
    },
    "papermill": {
     "duration": 2.732722,
     "end_time": "2020-12-18T22:12:46.995717",
     "exception": false,
     "start_time": "2020-12-18T22:12:44.262995",
     "status": "completed"
    },
    "tags": []
   },
   "outputs": [
    {
     "name": "stderr",
     "output_type": "stream",
     "text": [
      "INFO:root:Detect units: Pa\n"
     ]
    },
    {
     "name": "stderr",
     "output_type": "stream",
     "text": [
      "INFO:root:rlat or rlon not detected in input file.converting assumes WGS84 coords to rotated pole\n"
     ]
    },
    {
     "name": "stderr",
     "output_type": "stream",
     "text": [
      "INFO:root:Matching coordinates now\n"
     ]
    },
    {
     "name": "stderr",
     "output_type": "stream",
     "text": [
      "INFO:root:Locating corresponding model valuesInterpolating to nearest if matched model value is NaN\n"
     ]
    }
   ],
   "source": [
    "value = medians[\"value\"]\n",
    "action = medians[\"action\"]\n",
    "\n",
    "if action != \"add\" and action != \"multiply\" and action != \"None\":\n",
    "    raise ValueError(\"Please provide either add or multiply or None actions in config.\")\n",
    "\n",
    "    \n",
    "dfp = add_model_values(ds=ds_recon, df=df_nrc_matched)\n",
    "reconstructed_field_med = ds_recon[dv].values\n",
    "\n",
    "if nbcc_median_correction:\n",
    "    if value != \"None\" or action != \"None\":\n",
    "#         med_pcic = np.nanmedian(dfp[\"model_values\"])\n",
    "        med_pcic = np.nanmean(dfp[\"model_values\"])\n",
    "\n",
    "        if action == \"multiply\":\n",
    "            fr = med_pcic/value\n",
    "            reconstructed_field_med = (1/fr)*reconstructed_field_med\n",
    "            print(\"f:\", fr)\n",
    "        if action == \"add\":\n",
    "            d = med_pcic - value\n",
    "            reconstructed_field_med = reconstructed_field_med - d\n",
    "            print(\"d:\", d)"
   ]
  },
  {
   "cell_type": "markdown",
   "metadata": {
    "papermill": {
     "duration": 0.063218,
     "end_time": "2020-12-18T22:12:47.115229",
     "exception": false,
     "start_time": "2020-12-18T22:12:47.052011",
     "status": "completed"
    },
    "tags": []
   },
   "source": [
    "Re-create dataset if median correction applied"
   ]
  },
  {
   "cell_type": "code",
   "execution_count": 19,
   "metadata": {
    "execution": {
     "iopub.execute_input": "2020-12-18T22:12:47.247629Z",
     "iopub.status.busy": "2020-12-18T22:12:47.247052Z",
     "iopub.status.idle": "2020-12-18T22:12:47.271706Z",
     "shell.execute_reply": "2020-12-18T22:12:47.272406Z"
    },
    "papermill": {
     "duration": 0.098992,
     "end_time": "2020-12-18T22:12:47.272631",
     "exception": false,
     "start_time": "2020-12-18T22:12:47.173639",
     "status": "completed"
    },
    "tags": []
   },
   "outputs": [],
   "source": [
    "ds_recon = gen_dataset(dv, reconstructed_field_med, ds.rlat, ds.rlon, ds.lat, ds.lon, unit=ds[dv].attrs[\"units\"])"
   ]
  },
  {
   "cell_type": "markdown",
   "metadata": {
    "papermill": {
     "duration": 0.075763,
     "end_time": "2020-12-18T22:12:47.422071",
     "exception": false,
     "start_time": "2020-12-18T22:12:47.346308",
     "status": "completed"
    },
    "tags": []
   },
   "source": [
    "Populate with headers from the input processed model."
   ]
  },
  {
   "cell_type": "code",
   "execution_count": 20,
   "metadata": {
    "execution": {
     "iopub.execute_input": "2020-12-18T22:12:47.551106Z",
     "iopub.status.busy": "2020-12-18T22:12:47.549836Z",
     "iopub.status.idle": "2020-12-18T22:12:47.570473Z",
     "shell.execute_reply": "2020-12-18T22:12:47.569659Z"
    },
    "papermill": {
     "duration": 0.091872,
     "end_time": "2020-12-18T22:12:47.570760",
     "exception": false,
     "start_time": "2020-12-18T22:12:47.478888",
     "status": "completed"
    },
    "tags": []
   },
   "outputs": [],
   "source": [
    "if ds.attrs:\n",
    "    all_keys = set(ds_recon.variables).union(set(ds_recon.dims))\n",
    "    for key in all_keys:\n",
    "        ds_recon[key].attrs = ds[key].attrs\n",
    "    attr_dict = ds.attrs\n",
    "    attr_dict[\"Climpyrical\"] = (\n",
    "        \"CanRCM4 Reconstruction contains\"\n",
    "        \"hybrid station and model data using\"\n",
    "        \"Climpyrical (https://github.com/pacificclimate/climpyrical)\"\n",
    "    )\n",
    "\n",
    "    ds_recon.attrs = attr_dict\n",
    "else:\n",
    "    raise warnings.warn(\"No attributes detected in dataset file\")"
   ]
  },
  {
   "cell_type": "code",
   "execution_count": 21,
   "metadata": {
    "execution": {
     "iopub.execute_input": "2020-12-18T22:12:47.708800Z",
     "iopub.status.busy": "2020-12-18T22:12:47.708120Z",
     "iopub.status.idle": "2020-12-18T22:12:47.983733Z",
     "shell.execute_reply": "2020-12-18T22:12:47.983116Z"
    },
    "papermill": {
     "duration": 0.353952,
     "end_time": "2020-12-18T22:12:47.983929",
     "exception": false,
     "start_time": "2020-12-18T22:12:47.629977",
     "status": "completed"
    },
    "tags": []
   },
   "outputs": [],
   "source": [
    "ds_recon.to_netcdf(\n",
    "    resource_filename(\n",
    "        \"climpyrical\",\n",
    "        f\"{output_reconstruction_path}{name}_reconstruction.nc\"\n",
    "    ),\n",
    "    mode=\"w\"\n",
    ")"
   ]
  }
 ],
 "metadata": {
  "kernelspec": {
   "display_name": "Python 3",
   "language": "python",
   "name": "python3"
  },
  "language_info": {
   "codemirror_mode": {
    "name": "ipython",
    "version": 3
   },
   "file_extension": ".py",
   "mimetype": "text/x-python",
   "name": "python",
   "nbconvert_exporter": "python",
   "pygments_lexer": "ipython3",
   "version": "3.8.5"
  },
  "papermill": {
   "default_parameters": {},
   "duration": 281.210536,
   "end_time": "2020-12-18T22:12:49.900131",
   "environment_variables": {},
   "exception": null,
   "input_path": "MWOrK.ipynb",
   "output_path": "/home/nannau/Desktop/pipeline/climpyrical/climpyrical/data/results/intermediate/notebooks/MWOrK_log_DRWP5.ipynb",
   "parameters": {
    "fill_glaciers": true,
    "input_model_path": "data/model_inputs/drwp_CanRCM4-LE_ens15_1951-2016_rl5_ensmean.nc",
    "mask_path": "data/masks/canada_mask_rp.nc",
    "medians": {
     "action": "multiply",
     "value": 163
    },
    "name": "DRWP5",
    "nbcc_loc_path": "data/station_inputs/NBCC_2020_new_coords.xlsm",
    "nbcc_median_correction": false,
    "north_mask_path": "data/masks/canada_mask_north_rp.nc",
    "output_figure_path": "/data/results/figures/",
    "output_notebook_path": "/data/results/intermediate/notebooks/",
    "output_reconstruction_path": "/data/results/netcdf/",
    "output_tables_path": "/data/results/TableC2/",
    "preprocessed_model_path": "/data/results/intermediate/preprocessed_netcdf/",
    "preprocessed_stations_path": "/data/results/intermediate/preprocessed_stations/",
    "station_dv": "DRWP-RL5 (Pa)",
    "station_path": "data/station_inputs/drwp_rl5_for_maps.csv"
   },
   "start_time": "2020-12-18T22:08:08.689595",
   "version": "2.2.2"
  }
 },
 "nbformat": 4,
 "nbformat_minor": 4
}