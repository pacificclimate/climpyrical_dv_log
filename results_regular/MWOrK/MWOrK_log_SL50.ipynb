{
 "cells": [
  {
   "cell_type": "code",
   "execution_count": 1,
   "metadata": {
    "execution": {
     "iopub.execute_input": "2020-12-18T21:56:26.315968Z",
     "iopub.status.busy": "2020-12-18T21:56:26.315084Z",
     "iopub.status.idle": "2020-12-18T21:56:29.568281Z",
     "shell.execute_reply": "2020-12-18T21:56:29.568613Z"
    },
    "papermill": {
     "duration": 3.285007,
     "end_time": "2020-12-18T21:56:29.568839",
     "exception": false,
     "start_time": "2020-12-18T21:56:26.283832",
     "status": "completed"
    },
    "tags": []
   },
   "outputs": [],
   "source": [
    "from climpyrical.gridding import scale_model_obs\n",
    "from climpyrical.mask import stratify_coords\n",
    "from climpyrical.data import read_data, interpolate_dataset, gen_dataset\n",
    "from climpyrical.rkrig import rkrig_r\n",
    "from climpyrical.cmd.find_matched_model_vals import add_model_values\n",
    "\n",
    "from pkg_resources import resource_filename\n",
    "\n",
    "from sklearn.neighbors import NearestNeighbors\n",
    "import warnings\n",
    "import pandas as pd\n",
    "import numpy as np\n",
    "\n",
    "import matplotlib.pyplot as plt\n",
    "\n",
    "%load_ext autoreload\n",
    "%autoreload 2"
   ]
  },
  {
   "cell_type": "markdown",
   "metadata": {
    "papermill": {
     "duration": 0.023033,
     "end_time": "2020-12-18T21:56:29.612128",
     "exception": false,
     "start_time": "2020-12-18T21:56:29.589095",
     "status": "completed"
    },
    "tags": []
   },
   "source": [
    "### Parameters are loaded from config_example.yml\n",
    "Example configuration from config_example.yml:\n",
    "```\n",
    "    paths:\n",
    "        preprocessed_model_path: /data/results/intermediate/preprocessed_netcdf/\n",
    "    RL50:\n",
    "        station_dv: \"RL50 (kPa)\"\n",
    "        station_path: 'data/station_inputs/Interim_snow_rain_load_LR_composite_stations_tbd_v4.csv'\n",
    "        input_model_path: 'data/model_inputs/snw_rain_CanRCM4-LE_ens35_1951-2016_max_rl50_load_ensmean.nc'\n",
    "        medians: \n",
    "            value: 0.4\n",
    "            action: \"multiply\"\n",
    "        fill_glaciers: True\n",
    "```"
   ]
  },
  {
   "cell_type": "code",
   "execution_count": 2,
   "metadata": {
    "execution": {
     "iopub.execute_input": "2020-12-18T21:56:29.653417Z",
     "iopub.status.busy": "2020-12-18T21:56:29.651840Z",
     "iopub.status.idle": "2020-12-18T21:56:29.672117Z",
     "shell.execute_reply": "2020-12-18T21:56:29.672674Z"
    },
    "papermill": {
     "duration": 0.043006,
     "end_time": "2020-12-18T21:56:29.672869",
     "exception": false,
     "start_time": "2020-12-18T21:56:29.629863",
     "status": "completed"
    },
    "tags": [
     "parameters"
    ]
   },
   "outputs": [],
   "source": [
    "# parameter cell"
   ]
  },
  {
   "cell_type": "code",
   "execution_count": 3,
   "metadata": {
    "execution": {
     "iopub.execute_input": "2020-12-18T21:56:29.818354Z",
     "iopub.status.busy": "2020-12-18T21:56:29.817283Z",
     "iopub.status.idle": "2020-12-18T21:56:29.840111Z",
     "shell.execute_reply": "2020-12-18T21:56:29.839309Z"
    },
    "papermill": {
     "duration": 0.143679,
     "end_time": "2020-12-18T21:56:29.840411",
     "exception": false,
     "start_time": "2020-12-18T21:56:29.696732",
     "status": "completed"
    },
    "tags": [
     "injected-parameters"
    ]
   },
   "outputs": [],
   "source": [
    "# Parameters\n",
    "name = \"SL50\"\n",
    "station_dv = \"SL50 (kPa)\"\n",
    "station_path = \"data/station_inputs/sl50_rl50_for_maps.csv\"\n",
    "input_model_path = (\n",
    "    \"data/model_inputs/snw_CanRCM4-LE_ens35_1951-2016_max_rl50_load_ensmean.nc\"\n",
    ")\n",
    "medians = {\"value\": 2.5, \"action\": \"multiply\"}\n",
    "fill_glaciers = True\n",
    "output_notebook_path = \"/data/results/intermediate/notebooks/\"\n",
    "preprocessed_model_path = \"/data/results/intermediate/preprocessed_netcdf/\"\n",
    "preprocessed_stations_path = \"/data/results/intermediate/preprocessed_stations/\"\n",
    "output_reconstruction_path = \"/data/results/netcdf/\"\n",
    "output_tables_path = \"/data/results/TableC2/\"\n",
    "output_figure_path = \"/data/results/figures/\"\n",
    "mask_path = \"data/masks/canada_mask_rp.nc\"\n",
    "north_mask_path = \"data/masks/canada_mask_north_rp.nc\"\n",
    "nbcc_loc_path = \"data/station_inputs/NBCC_2020_new_coords.xlsm\"\n",
    "nbcc_median_correction = False\n"
   ]
  },
  {
   "cell_type": "markdown",
   "metadata": {
    "papermill": {
     "duration": 0.018539,
     "end_time": "2020-12-18T21:56:29.885143",
     "exception": false,
     "start_time": "2020-12-18T21:56:29.866604",
     "status": "completed"
    },
    "tags": []
   },
   "source": [
    "Load processed moded, target canada-only mask, and the Upper Artic Area mask "
   ]
  },
  {
   "cell_type": "code",
   "execution_count": 4,
   "metadata": {
    "execution": {
     "iopub.execute_input": "2020-12-18T21:56:29.927234Z",
     "iopub.status.busy": "2020-12-18T21:56:29.926645Z",
     "iopub.status.idle": "2020-12-18T21:56:30.071813Z",
     "shell.execute_reply": "2020-12-18T21:56:30.072309Z"
    },
    "papermill": {
     "duration": 0.169165,
     "end_time": "2020-12-18T21:56:30.072509",
     "exception": false,
     "start_time": "2020-12-18T21:56:29.903344",
     "status": "completed"
    },
    "tags": []
   },
   "outputs": [],
   "source": [
    "# Hard coded CanRCM4 upper model domain rlat\n",
    "dsold_max = 28.15999984741211\n",
    "\n",
    "ds = read_data(resource_filename(\"climpyrical\", f\"{preprocessed_model_path}{name}.nc\"))\n",
    "(dv, ) = ds.data_vars\n",
    "\n",
    "mask = read_data(\n",
    "    resource_filename(\n",
    "        'climpyrical',\n",
    "        mask_path\n",
    "    ))['mask'].values\n",
    "\n",
    "northern_mask = read_data(\n",
    "    resource_filename(\n",
    "        'climpyrical',\n",
    "        north_mask_path\n",
    "    )\n",
    ")['mask'].values\n",
    "\n",
    "rlon, rlat = np.meshgrid(ds.rlon, ds.rlat)"
   ]
  },
  {
   "cell_type": "markdown",
   "metadata": {
    "papermill": {
     "duration": 0.014471,
     "end_time": "2020-12-18T21:56:30.111416",
     "exception": false,
     "start_time": "2020-12-18T21:56:30.096945",
     "status": "completed"
    },
    "tags": []
   },
   "source": [
    "Load processed station data"
   ]
  },
  {
   "cell_type": "code",
   "execution_count": 5,
   "metadata": {
    "execution": {
     "iopub.execute_input": "2020-12-18T21:56:30.150268Z",
     "iopub.status.busy": "2020-12-18T21:56:30.148485Z",
     "iopub.status.idle": "2020-12-18T21:56:30.177147Z",
     "shell.execute_reply": "2020-12-18T21:56:30.177854Z"
    },
    "papermill": {
     "duration": 0.049046,
     "end_time": "2020-12-18T21:56:30.178120",
     "exception": false,
     "start_time": "2020-12-18T21:56:30.129074",
     "status": "completed"
    },
    "tags": []
   },
   "outputs": [
    {
     "data": {
      "text/html": [
       "<div>\n",
       "<style scoped>\n",
       "    .dataframe tbody tr th:only-of-type {\n",
       "        vertical-align: middle;\n",
       "    }\n",
       "\n",
       "    .dataframe tbody tr th {\n",
       "        vertical-align: top;\n",
       "    }\n",
       "\n",
       "    .dataframe thead th {\n",
       "        text-align: right;\n",
       "    }\n",
       "</style>\n",
       "<table border=\"1\" class=\"dataframe\">\n",
       "  <thead>\n",
       "    <tr style=\"text-align: right;\">\n",
       "      <th></th>\n",
       "      <th>irlat</th>\n",
       "      <th>irlon</th>\n",
       "      <th>SL50 (kPa)</th>\n",
       "      <th>rlat</th>\n",
       "      <th>rlon</th>\n",
       "      <th>lat</th>\n",
       "      <th>lon</th>\n",
       "      <th>elev (m)</th>\n",
       "      <th>station_name</th>\n",
       "      <th>province</th>\n",
       "      <th>model_values</th>\n",
       "      <th>ratio</th>\n",
       "    </tr>\n",
       "  </thead>\n",
       "  <tbody>\n",
       "    <tr>\n",
       "      <th>0</th>\n",
       "      <td>558</td>\n",
       "      <td>1009</td>\n",
       "      <td>1.0</td>\n",
       "      <td>-4.286849</td>\n",
       "      <td>10.373390</td>\n",
       "      <td>42.2756</td>\n",
       "      <td>-82.9556</td>\n",
       "      <td>190.0</td>\n",
       "      <td>WINDSOR A</td>\n",
       "      <td>ON</td>\n",
       "      <td>0.614799</td>\n",
       "      <td>1.178766</td>\n",
       "    </tr>\n",
       "    <tr>\n",
       "      <th>1</th>\n",
       "      <td>559</td>\n",
       "      <td>1009</td>\n",
       "      <td>1.2</td>\n",
       "      <td>-4.227125</td>\n",
       "      <td>10.379271</td>\n",
       "      <td>42.3333</td>\n",
       "      <td>-82.9333</td>\n",
       "      <td>188.0</td>\n",
       "      <td>WINDSOR RIVERSIDE</td>\n",
       "      <td>ON</td>\n",
       "      <td>0.622597</td>\n",
       "      <td>1.396802</td>\n",
       "    </tr>\n",
       "    <tr>\n",
       "      <th>2</th>\n",
       "      <td>576</td>\n",
       "      <td>1017</td>\n",
       "      <td>1.5</td>\n",
       "      <td>-3.494586</td>\n",
       "      <td>10.713492</td>\n",
       "      <td>42.9922</td>\n",
       "      <td>-82.3047</td>\n",
       "      <td>181.0</td>\n",
       "      <td>SARNIA AIRPORT</td>\n",
       "      <td>ON</td>\n",
       "      <td>0.739112</td>\n",
       "      <td>1.470759</td>\n",
       "    </tr>\n",
       "  </tbody>\n",
       "</table>\n",
       "</div>"
      ],
      "text/plain": [
       "   irlat  irlon  SL50 (kPa)      rlat       rlon      lat      lon  elev (m)  \\\n",
       "0    558   1009         1.0 -4.286849  10.373390  42.2756 -82.9556     190.0   \n",
       "1    559   1009         1.2 -4.227125  10.379271  42.3333 -82.9333     188.0   \n",
       "2    576   1017         1.5 -3.494586  10.713492  42.9922 -82.3047     181.0   \n",
       "\n",
       "        station_name province  model_values     ratio  \n",
       "0          WINDSOR A       ON      0.614799  1.178766  \n",
       "1  WINDSOR RIVERSIDE       ON      0.622597  1.396802  \n",
       "2     SARNIA AIRPORT       ON      0.739112  1.470759  "
      ]
     },
     "execution_count": 5,
     "metadata": {},
     "output_type": "execute_result"
    }
   ],
   "source": [
    "df = pd.read_csv(\n",
    "    resource_filename(\n",
    "        \"climpyrical\",\n",
    "        f\"{preprocessed_stations_path}{name}.csv\"\n",
    "    ), \n",
    "    index_col=False\n",
    ")\n",
    "df.head(3)"
   ]
  },
  {
   "cell_type": "code",
   "execution_count": 6,
   "metadata": {
    "execution": {
     "iopub.execute_input": "2020-12-18T21:56:30.228069Z",
     "iopub.status.busy": "2020-12-18T21:56:30.226804Z",
     "iopub.status.idle": "2020-12-18T21:56:30.248910Z",
     "shell.execute_reply": "2020-12-18T21:56:30.249924Z"
    },
    "papermill": {
     "duration": 0.051296,
     "end_time": "2020-12-18T21:56:30.250280",
     "exception": false,
     "start_time": "2020-12-18T21:56:30.198984",
     "status": "completed"
    },
    "tags": []
   },
   "outputs": [],
   "source": [
    "if ds[dv].attrs[\"units\"] == \"degC\" and \"degC\" in station_dv:\n",
    "    K = 273.15\n",
    "    df[station_dv] += K\n",
    "    df[\"model_values\"] += K\n",
    "    ds[dv] += K"
   ]
  },
  {
   "cell_type": "markdown",
   "metadata": {
    "papermill": {
     "duration": 0.014053,
     "end_time": "2020-12-18T21:56:30.284993",
     "exception": false,
     "start_time": "2020-12-18T21:56:30.270940",
     "status": "completed"
    },
    "tags": []
   },
   "source": [
    "Separate stations into beyond and within the model domain"
   ]
  },
  {
   "cell_type": "code",
   "execution_count": 7,
   "metadata": {
    "execution": {
     "iopub.execute_input": "2020-12-18T21:56:30.329459Z",
     "iopub.status.busy": "2020-12-18T21:56:30.329040Z",
     "iopub.status.idle": "2020-12-18T21:56:30.350243Z",
     "shell.execute_reply": "2020-12-18T21:56:30.350677Z"
    },
    "papermill": {
     "duration": 0.042871,
     "end_time": "2020-12-18T21:56:30.350851",
     "exception": false,
     "start_time": "2020-12-18T21:56:30.307980",
     "status": "completed"
    },
    "tags": []
   },
   "outputs": [],
   "source": [
    "df_north = df[df.rlat > dsold_max].copy()\n",
    "df_south = df[df.rlat <= dsold_max].copy()\n",
    "\n",
    "north_index = df_north.index.values\n",
    "south_index = df_south.index.values"
   ]
  },
  {
   "cell_type": "markdown",
   "metadata": {
    "papermill": {
     "duration": 0.0152,
     "end_time": "2020-12-18T21:56:30.385506",
     "exception": false,
     "start_time": "2020-12-18T21:56:30.370306",
     "status": "completed"
    },
    "tags": []
   },
   "source": [
    "Check for sets of stations that are identical. This would produce idential windows over a geographic area and disproportionately weight them in the averaged ratio field."
   ]
  },
  {
   "cell_type": "code",
   "execution_count": 8,
   "metadata": {
    "execution": {
     "iopub.execute_input": "2020-12-18T21:56:30.423647Z",
     "iopub.status.busy": "2020-12-18T21:56:30.422673Z",
     "iopub.status.idle": "2020-12-18T21:56:31.254480Z",
     "shell.execute_reply": "2020-12-18T21:56:31.254934Z"
    },
    "papermill": {
     "duration": 0.85579,
     "end_time": "2020-12-18T21:56:31.255149",
     "exception": false,
     "start_time": "2020-12-18T21:56:30.399359",
     "status": "completed"
    },
    "tags": []
   },
   "outputs": [],
   "source": [
    "X_distances = np.stack([np.deg2rad(df_south.lat.values), np.deg2rad(df_south.lon.values)])\n",
    "nbrs = NearestNeighbors(n_neighbors=30, metric=\"haversine\").fit(\n",
    "    X_distances.T\n",
    ")\n",
    "\n",
    "# Order independent window checkers\n",
    "# only uses windows that are not-identical\n",
    "\n",
    "dist, ind = nbrs.kneighbors(X_distances.T)\n",
    "good_i = []\n",
    "list_of_sets = []\n",
    "count = 0 \n",
    "for i in range(df_south.shape[0]):\n",
    "    list_of_sets.append(df_south[[\"lon\", \"lat\", station_dv]].iloc[ind[i]].values)\n",
    "    if i+1-count == np.unique(list_of_sets, axis=0).shape[0]:\n",
    "        good_i.append(i)\n",
    "    else:\n",
    "        warning.warn(\"There are identical windows!\")\n",
    "        count += 1 \n",
    "\n",
    "df_south = df_south.iloc[good_i]"
   ]
  },
  {
   "cell_type": "markdown",
   "metadata": {
    "papermill": {
     "duration": 0.022901,
     "end_time": "2020-12-18T21:56:31.301116",
     "exception": false,
     "start_time": "2020-12-18T21:56:31.278215",
     "status": "completed"
    },
    "tags": []
   },
   "source": [
    "Calculate the station average in the UAA"
   ]
  },
  {
   "cell_type": "code",
   "execution_count": 9,
   "metadata": {
    "execution": {
     "iopub.execute_input": "2020-12-18T21:56:31.338095Z",
     "iopub.status.busy": "2020-12-18T21:56:31.337425Z",
     "iopub.status.idle": "2020-12-18T21:56:31.357139Z",
     "shell.execute_reply": "2020-12-18T21:56:31.357860Z"
    },
    "papermill": {
     "duration": 0.041042,
     "end_time": "2020-12-18T21:56:31.358159",
     "exception": false,
     "start_time": "2020-12-18T21:56:31.317117",
     "status": "completed"
    },
    "tags": []
   },
   "outputs": [
    {
     "data": {
      "text/plain": [
       "1.5000000000000002"
      ]
     },
     "execution_count": 9,
     "metadata": {},
     "output_type": "execute_result"
    }
   ],
   "source": [
    "UAA_station_mean = np.nanmean(df[station_dv][df.rlat > dsold_max-1])\n",
    "UAA_station_mean"
   ]
  },
  {
   "cell_type": "markdown",
   "metadata": {
    "papermill": {
     "duration": 0.029361,
     "end_time": "2020-12-18T21:56:31.421736",
     "exception": false,
     "start_time": "2020-12-18T21:56:31.392375",
     "status": "completed"
    },
    "tags": []
   },
   "source": [
    "Use the best tolerance scaling to scale the model values. The ratio is already automatically scaled."
   ]
  },
  {
   "cell_type": "code",
   "execution_count": 10,
   "metadata": {
    "execution": {
     "iopub.execute_input": "2020-12-18T21:56:31.460915Z",
     "iopub.status.busy": "2020-12-18T21:56:31.460246Z",
     "iopub.status.idle": "2020-12-18T21:56:31.487566Z",
     "shell.execute_reply": "2020-12-18T21:56:31.486790Z"
    },
    "papermill": {
     "duration": 0.048806,
     "end_time": "2020-12-18T21:56:31.487768",
     "exception": false,
     "start_time": "2020-12-18T21:56:31.438962",
     "status": "completed"
    },
    "tags": []
   },
   "outputs": [],
   "source": [
    "model_vals = df.model_values\n",
    "station_vals = df[station_dv]\n",
    "\n",
    "ratio, best_tol = scale_model_obs(df.model_values, station_vals)\n",
    "\n",
    "# apply correction\n",
    "model_vals_corrected = (model_vals/best_tol)\n",
    "mean_corrected = (ds[dv].values/best_tol)"
   ]
  },
  {
   "cell_type": "markdown",
   "metadata": {
    "papermill": {
     "duration": 0.020602,
     "end_time": "2020-12-18T21:56:31.533557",
     "exception": false,
     "start_time": "2020-12-18T21:56:31.512955",
     "status": "completed"
    },
    "tags": []
   },
   "source": [
    "Perform ratio kriging on the set of stations below the maximum CanRCM4 native domain."
   ]
  },
  {
   "cell_type": "code",
   "execution_count": 11,
   "metadata": {
    "execution": {
     "iopub.execute_input": "2020-12-18T21:56:31.580807Z",
     "iopub.status.busy": "2020-12-18T21:56:31.579331Z",
     "iopub.status.idle": "2020-12-18T22:08:37.458574Z",
     "shell.execute_reply": "2020-12-18T22:08:37.458056Z"
    },
    "papermill": {
     "duration": 725.905453,
     "end_time": "2020-12-18T22:08:37.458738",
     "exception": false,
     "start_time": "2020-12-18T21:56:31.553285",
     "status": "completed"
    },
    "tags": []
   },
   "outputs": [
    {
     "name": "stderr",
     "output_type": "stream",
     "text": [
      "\r",
      "  0%|          | 0/514 [00:00<?, ?it/s]"
     ]
    },
    {
     "name": "stderr",
     "output_type": "stream",
     "text": [
      "\r",
      "  0%|          | 2/514 [00:00<02:37,  3.26it/s]"
     ]
    },
    {
     "name": "stderr",
     "output_type": "stream",
     "text": [
      "\r",
      "  1%|          | 3/514 [00:01<03:30,  2.43it/s]"
     ]
    },
    {
     "name": "stderr",
     "output_type": "stream",
     "text": [
      "\r",
      "  1%|          | 4/514 [00:01<03:39,  2.32it/s]"
     ]
    },
    {
     "name": "stderr",
     "output_type": "stream",
     "text": [
      "\r",
      "  1%|          | 5/514 [00:02<03:51,  2.20it/s]"
     ]
    },
    {
     "name": "stderr",
     "output_type": "stream",
     "text": [
      "\r",
      "  1%|          | 6/514 [00:02<04:01,  2.11it/s]"
     ]
    },
    {
     "name": "stderr",
     "output_type": "stream",
     "text": [
      "\r",
      "  1%|▏         | 7/514 [00:03<04:11,  2.01it/s]"
     ]
    },
    {
     "name": "stderr",
     "output_type": "stream",
     "text": [
      "\r",
      "  2%|▏         | 8/514 [00:03<04:10,  2.02it/s]"
     ]
    },
    {
     "name": "stderr",
     "output_type": "stream",
     "text": [
      "\r",
      "  2%|▏         | 9/514 [00:04<04:26,  1.90it/s]"
     ]
    },
    {
     "name": "stderr",
     "output_type": "stream",
     "text": [
      "\r",
      "  2%|▏         | 10/514 [00:04<04:31,  1.86it/s]"
     ]
    },
    {
     "name": "stderr",
     "output_type": "stream",
     "text": [
      "\r",
      "  2%|▏         | 11/514 [00:05<04:29,  1.87it/s]"
     ]
    },
    {
     "name": "stderr",
     "output_type": "stream",
     "text": [
      "\r",
      "  2%|▏         | 12/514 [00:06<04:34,  1.83it/s]"
     ]
    },
    {
     "name": "stderr",
     "output_type": "stream",
     "text": [
      "\r",
      "  3%|▎         | 13/514 [00:06<04:38,  1.80it/s]"
     ]
    },
    {
     "name": "stderr",
     "output_type": "stream",
     "text": [
      "\r",
      "  3%|▎         | 14/514 [00:07<04:46,  1.74it/s]"
     ]
    },
    {
     "name": "stderr",
     "output_type": "stream",
     "text": [
      "\r",
      "  3%|▎         | 15/514 [00:07<05:04,  1.64it/s]"
     ]
    },
    {
     "name": "stderr",
     "output_type": "stream",
     "text": [
      "\r",
      "  3%|▎         | 16/514 [00:08<05:01,  1.65it/s]"
     ]
    },
    {
     "name": "stderr",
     "output_type": "stream",
     "text": [
      "\r",
      "  3%|▎         | 17/514 [00:09<05:05,  1.63it/s]"
     ]
    },
    {
     "name": "stderr",
     "output_type": "stream",
     "text": [
      "\r",
      "  4%|▎         | 18/514 [00:09<05:06,  1.62it/s]"
     ]
    },
    {
     "name": "stderr",
     "output_type": "stream",
     "text": [
      "\r",
      "  4%|▎         | 19/514 [00:10<05:09,  1.60it/s]"
     ]
    },
    {
     "name": "stderr",
     "output_type": "stream",
     "text": [
      "\r",
      "  4%|▍         | 20/514 [00:11<05:06,  1.61it/s]"
     ]
    },
    {
     "name": "stderr",
     "output_type": "stream",
     "text": [
      "\r",
      "  4%|▍         | 21/514 [00:11<05:12,  1.58it/s]"
     ]
    },
    {
     "name": "stderr",
     "output_type": "stream",
     "text": [
      "\r",
      "  4%|▍         | 22/514 [00:12<05:08,  1.59it/s]"
     ]
    },
    {
     "name": "stderr",
     "output_type": "stream",
     "text": [
      "\r",
      "  4%|▍         | 23/514 [00:13<05:26,  1.50it/s]"
     ]
    },
    {
     "name": "stderr",
     "output_type": "stream",
     "text": [
      "\r",
      "  5%|▍         | 24/514 [00:13<05:46,  1.41it/s]"
     ]
    },
    {
     "name": "stderr",
     "output_type": "stream",
     "text": [
      "\r",
      "  5%|▍         | 25/514 [00:14<05:37,  1.45it/s]"
     ]
    },
    {
     "name": "stderr",
     "output_type": "stream",
     "text": [
      "\r",
      "  5%|▌         | 26/514 [00:15<05:20,  1.52it/s]"
     ]
    },
    {
     "name": "stderr",
     "output_type": "stream",
     "text": [
      "\r",
      "  5%|▌         | 27/514 [00:15<05:08,  1.58it/s]"
     ]
    },
    {
     "name": "stderr",
     "output_type": "stream",
     "text": [
      "\r",
      "  5%|▌         | 28/514 [00:16<05:11,  1.56it/s]"
     ]
    },
    {
     "name": "stderr",
     "output_type": "stream",
     "text": [
      "\r",
      "  6%|▌         | 29/514 [00:17<07:03,  1.15it/s]"
     ]
    },
    {
     "name": "stderr",
     "output_type": "stream",
     "text": [
      "\r",
      "  6%|▌         | 30/514 [00:19<08:24,  1.04s/it]"
     ]
    },
    {
     "name": "stderr",
     "output_type": "stream",
     "text": [
      "\r",
      "  6%|▌         | 31/514 [00:19<07:24,  1.09it/s]"
     ]
    },
    {
     "name": "stderr",
     "output_type": "stream",
     "text": [
      "\r",
      "  6%|▌         | 32/514 [00:20<06:40,  1.20it/s]"
     ]
    },
    {
     "name": "stderr",
     "output_type": "stream",
     "text": [
      "\r",
      "  6%|▋         | 33/514 [00:21<07:58,  1.00it/s]"
     ]
    },
    {
     "name": "stderr",
     "output_type": "stream",
     "text": [
      "\r",
      "  7%|▋         | 34/514 [00:22<07:02,  1.14it/s]"
     ]
    },
    {
     "name": "stderr",
     "output_type": "stream",
     "text": [
      "\r",
      "  7%|▋         | 35/514 [00:24<08:54,  1.12s/it]"
     ]
    },
    {
     "name": "stderr",
     "output_type": "stream",
     "text": [
      "\r",
      "  7%|▋         | 36/514 [00:25<09:21,  1.17s/it]"
     ]
    },
    {
     "name": "stderr",
     "output_type": "stream",
     "text": [
      "\r",
      "  7%|▋         | 37/514 [00:27<10:55,  1.37s/it]"
     ]
    },
    {
     "name": "stderr",
     "output_type": "stream",
     "text": [
      "\r",
      "  7%|▋         | 38/514 [00:29<12:03,  1.52s/it]"
     ]
    },
    {
     "name": "stderr",
     "output_type": "stream",
     "text": [
      "\r",
      "  8%|▊         | 39/514 [00:30<11:32,  1.46s/it]"
     ]
    },
    {
     "name": "stderr",
     "output_type": "stream",
     "text": [
      "\r",
      "  8%|▊         | 40/514 [00:31<09:31,  1.21s/it]"
     ]
    },
    {
     "name": "stderr",
     "output_type": "stream",
     "text": [
      "\r",
      "  8%|▊         | 41/514 [00:33<11:17,  1.43s/it]"
     ]
    },
    {
     "name": "stderr",
     "output_type": "stream",
     "text": [
      "\r",
      "  8%|▊         | 42/514 [00:34<11:39,  1.48s/it]"
     ]
    },
    {
     "name": "stderr",
     "output_type": "stream",
     "text": [
      "\r",
      "  8%|▊         | 43/514 [00:35<09:41,  1.24s/it]"
     ]
    },
    {
     "name": "stderr",
     "output_type": "stream",
     "text": [
      "\r",
      "  9%|▊         | 44/514 [00:35<08:17,  1.06s/it]"
     ]
    },
    {
     "name": "stderr",
     "output_type": "stream",
     "text": [
      "\r",
      "  9%|▉         | 45/514 [00:36<07:18,  1.07it/s]"
     ]
    },
    {
     "name": "stderr",
     "output_type": "stream",
     "text": [
      "\r",
      "  9%|▉         | 46/514 [00:37<07:09,  1.09it/s]"
     ]
    },
    {
     "name": "stderr",
     "output_type": "stream",
     "text": [
      "\r",
      "  9%|▉         | 47/514 [00:38<08:15,  1.06s/it]"
     ]
    },
    {
     "name": "stderr",
     "output_type": "stream",
     "text": [
      "\r",
      "  9%|▉         | 48/514 [00:40<08:48,  1.13s/it]"
     ]
    },
    {
     "name": "stderr",
     "output_type": "stream",
     "text": [
      "\r",
      " 10%|▉         | 49/514 [00:42<10:26,  1.35s/it]"
     ]
    },
    {
     "name": "stderr",
     "output_type": "stream",
     "text": [
      "\r",
      " 10%|▉         | 50/514 [00:43<10:15,  1.33s/it]"
     ]
    },
    {
     "name": "stderr",
     "output_type": "stream",
     "text": [
      "\r",
      " 10%|▉         | 51/514 [00:45<11:40,  1.51s/it]"
     ]
    },
    {
     "name": "stderr",
     "output_type": "stream",
     "text": [
      "\r",
      " 10%|█         | 52/514 [00:45<09:30,  1.23s/it]"
     ]
    },
    {
     "name": "stderr",
     "output_type": "stream",
     "text": [
      "\r",
      " 10%|█         | 53/514 [00:47<10:58,  1.43s/it]"
     ]
    },
    {
     "name": "stderr",
     "output_type": "stream",
     "text": [
      "\r",
      " 11%|█         | 54/514 [00:49<12:19,  1.61s/it]"
     ]
    },
    {
     "name": "stderr",
     "output_type": "stream",
     "text": [
      "\r",
      " 11%|█         | 55/514 [00:51<11:58,  1.57s/it]"
     ]
    },
    {
     "name": "stderr",
     "output_type": "stream",
     "text": [
      "\r",
      " 11%|█         | 56/514 [00:51<09:53,  1.30s/it]"
     ]
    },
    {
     "name": "stderr",
     "output_type": "stream",
     "text": [
      "\r",
      " 11%|█         | 57/514 [00:53<11:31,  1.51s/it]"
     ]
    },
    {
     "name": "stderr",
     "output_type": "stream",
     "text": [
      "\r",
      " 11%|█▏        | 58/514 [00:55<12:24,  1.63s/it]"
     ]
    },
    {
     "name": "stderr",
     "output_type": "stream",
     "text": [
      "\r",
      " 11%|█▏        | 59/514 [00:57<13:36,  1.79s/it]"
     ]
    },
    {
     "name": "stderr",
     "output_type": "stream",
     "text": [
      "\r",
      " 12%|█▏        | 60/514 [01:00<14:09,  1.87s/it]"
     ]
    },
    {
     "name": "stderr",
     "output_type": "stream",
     "text": [
      "\r",
      " 12%|█▏        | 61/514 [01:00<11:25,  1.51s/it]"
     ]
    },
    {
     "name": "stderr",
     "output_type": "stream",
     "text": [
      "\r",
      " 12%|█▏        | 62/514 [01:01<09:27,  1.26s/it]"
     ]
    },
    {
     "name": "stderr",
     "output_type": "stream",
     "text": [
      "\r",
      " 12%|█▏        | 63/514 [01:03<11:18,  1.51s/it]"
     ]
    },
    {
     "name": "stderr",
     "output_type": "stream",
     "text": [
      "\r",
      " 12%|█▏        | 64/514 [01:05<12:37,  1.68s/it]"
     ]
    },
    {
     "name": "stderr",
     "output_type": "stream",
     "text": [
      "\r",
      " 13%|█▎        | 65/514 [01:07<13:26,  1.80s/it]"
     ]
    },
    {
     "name": "stderr",
     "output_type": "stream",
     "text": [
      "\r",
      " 13%|█▎        | 66/514 [01:09<12:59,  1.74s/it]"
     ]
    },
    {
     "name": "stderr",
     "output_type": "stream",
     "text": [
      "\r",
      " 13%|█▎        | 67/514 [01:11<13:05,  1.76s/it]"
     ]
    },
    {
     "name": "stderr",
     "output_type": "stream",
     "text": [
      "\r",
      " 13%|█▎        | 68/514 [01:13<13:39,  1.84s/it]"
     ]
    },
    {
     "name": "stderr",
     "output_type": "stream",
     "text": [
      "\r",
      " 13%|█▎        | 69/514 [01:15<14:08,  1.91s/it]"
     ]
    },
    {
     "name": "stderr",
     "output_type": "stream",
     "text": [
      "\r",
      " 14%|█▎        | 70/514 [01:17<14:15,  1.93s/it]"
     ]
    },
    {
     "name": "stderr",
     "output_type": "stream",
     "text": [
      "\r",
      " 14%|█▍        | 71/514 [01:19<14:15,  1.93s/it]"
     ]
    },
    {
     "name": "stderr",
     "output_type": "stream",
     "text": [
      "\r",
      " 14%|█▍        | 72/514 [01:21<14:25,  1.96s/it]"
     ]
    },
    {
     "name": "stderr",
     "output_type": "stream",
     "text": [
      "\r",
      " 14%|█▍        | 73/514 [01:23<14:55,  2.03s/it]"
     ]
    },
    {
     "name": "stderr",
     "output_type": "stream",
     "text": [
      "\r",
      " 14%|█▍        | 74/514 [01:25<14:48,  2.02s/it]"
     ]
    },
    {
     "name": "stderr",
     "output_type": "stream",
     "text": [
      "\r",
      " 15%|█▍        | 75/514 [01:27<14:42,  2.01s/it]"
     ]
    },
    {
     "name": "stderr",
     "output_type": "stream",
     "text": [
      "\r",
      " 15%|█▍        | 76/514 [01:29<15:06,  2.07s/it]"
     ]
    },
    {
     "name": "stderr",
     "output_type": "stream",
     "text": [
      "\r",
      " 15%|█▍        | 77/514 [01:30<11:48,  1.62s/it]"
     ]
    },
    {
     "name": "stderr",
     "output_type": "stream",
     "text": [
      "\r",
      " 15%|█▌        | 78/514 [01:31<11:17,  1.55s/it]"
     ]
    },
    {
     "name": "stderr",
     "output_type": "stream",
     "text": [
      "\r",
      " 15%|█▌        | 79/514 [01:33<11:48,  1.63s/it]"
     ]
    },
    {
     "name": "stderr",
     "output_type": "stream",
     "text": [
      "\r",
      " 16%|█▌        | 80/514 [01:35<12:28,  1.72s/it]"
     ]
    },
    {
     "name": "stderr",
     "output_type": "stream",
     "text": [
      "\r",
      " 16%|█▌        | 81/514 [01:37<13:09,  1.82s/it]"
     ]
    },
    {
     "name": "stderr",
     "output_type": "stream",
     "text": [
      "\r",
      " 16%|█▌        | 82/514 [01:38<12:09,  1.69s/it]"
     ]
    },
    {
     "name": "stderr",
     "output_type": "stream",
     "text": [
      "\r",
      " 16%|█▌        | 83/514 [01:39<09:46,  1.36s/it]"
     ]
    },
    {
     "name": "stderr",
     "output_type": "stream",
     "text": [
      "\r",
      " 16%|█▋        | 84/514 [01:41<10:56,  1.53s/it]"
     ]
    },
    {
     "name": "stderr",
     "output_type": "stream",
     "text": [
      "\r",
      " 17%|█▋        | 85/514 [01:43<12:14,  1.71s/it]"
     ]
    },
    {
     "name": "stderr",
     "output_type": "stream",
     "text": [
      "\r",
      " 17%|█▋        | 86/514 [01:43<09:51,  1.38s/it]"
     ]
    },
    {
     "name": "stderr",
     "output_type": "stream",
     "text": [
      "\r",
      " 17%|█▋        | 87/514 [01:44<08:09,  1.15s/it]"
     ]
    },
    {
     "name": "stderr",
     "output_type": "stream",
     "text": [
      "\r",
      " 17%|█▋        | 88/514 [01:46<10:40,  1.50s/it]"
     ]
    },
    {
     "name": "stderr",
     "output_type": "stream",
     "text": [
      "\r",
      " 17%|█▋        | 89/514 [01:48<11:33,  1.63s/it]"
     ]
    },
    {
     "name": "stderr",
     "output_type": "stream",
     "text": [
      "\r",
      " 18%|█▊        | 90/514 [01:49<10:38,  1.51s/it]"
     ]
    },
    {
     "name": "stderr",
     "output_type": "stream",
     "text": [
      "\r",
      " 18%|█▊        | 91/514 [01:50<08:42,  1.24s/it]"
     ]
    },
    {
     "name": "stderr",
     "output_type": "stream",
     "text": [
      "\r",
      " 18%|█▊        | 92/514 [01:51<07:16,  1.04s/it]"
     ]
    },
    {
     "name": "stderr",
     "output_type": "stream",
     "text": [
      "\r",
      " 18%|█▊        | 93/514 [01:52<09:04,  1.29s/it]"
     ]
    },
    {
     "name": "stderr",
     "output_type": "stream",
     "text": [
      "\r",
      " 18%|█▊        | 94/514 [01:54<08:49,  1.26s/it]"
     ]
    },
    {
     "name": "stderr",
     "output_type": "stream",
     "text": [
      "\r",
      " 18%|█▊        | 95/514 [01:56<10:04,  1.44s/it]"
     ]
    },
    {
     "name": "stderr",
     "output_type": "stream",
     "text": [
      "\r",
      " 19%|█▊        | 96/514 [01:56<08:13,  1.18s/it]"
     ]
    },
    {
     "name": "stderr",
     "output_type": "stream",
     "text": [
      "\r",
      " 19%|█▉        | 97/514 [01:57<06:56,  1.00it/s]"
     ]
    },
    {
     "name": "stderr",
     "output_type": "stream",
     "text": [
      "\r",
      " 19%|█▉        | 98/514 [01:59<08:38,  1.25s/it]"
     ]
    },
    {
     "name": "stderr",
     "output_type": "stream",
     "text": [
      "\r",
      " 19%|█▉        | 99/514 [02:00<09:53,  1.43s/it]"
     ]
    },
    {
     "name": "stderr",
     "output_type": "stream",
     "text": [
      "\r",
      " 19%|█▉        | 100/514 [02:02<11:02,  1.60s/it]"
     ]
    },
    {
     "name": "stderr",
     "output_type": "stream",
     "text": [
      "\r",
      " 20%|█▉        | 101/514 [02:03<08:55,  1.30s/it]"
     ]
    },
    {
     "name": "stderr",
     "output_type": "stream",
     "text": [
      "\r",
      " 20%|█▉        | 102/514 [02:04<08:48,  1.28s/it]"
     ]
    },
    {
     "name": "stderr",
     "output_type": "stream",
     "text": [
      "\r",
      " 20%|██        | 103/514 [02:06<10:10,  1.49s/it]"
     ]
    },
    {
     "name": "stderr",
     "output_type": "stream",
     "text": [
      "\r",
      " 20%|██        | 104/514 [02:08<11:17,  1.65s/it]"
     ]
    },
    {
     "name": "stderr",
     "output_type": "stream",
     "text": [
      "\r",
      " 20%|██        | 105/514 [02:09<09:06,  1.34s/it]"
     ]
    },
    {
     "name": "stderr",
     "output_type": "stream",
     "text": [
      "\r",
      " 21%|██        | 106/514 [02:09<07:37,  1.12s/it]"
     ]
    },
    {
     "name": "stderr",
     "output_type": "stream",
     "text": [
      "\r",
      " 21%|██        | 107/514 [02:10<06:32,  1.04it/s]"
     ]
    },
    {
     "name": "stderr",
     "output_type": "stream",
     "text": [
      "\r",
      " 21%|██        | 108/514 [02:11<06:15,  1.08it/s]"
     ]
    },
    {
     "name": "stderr",
     "output_type": "stream",
     "text": [
      "\r",
      " 21%|██        | 109/514 [02:12<06:52,  1.02s/it]"
     ]
    },
    {
     "name": "stderr",
     "output_type": "stream",
     "text": [
      "\r",
      " 21%|██▏       | 110/514 [02:14<07:40,  1.14s/it]"
     ]
    },
    {
     "name": "stderr",
     "output_type": "stream",
     "text": [
      "\r",
      " 22%|██▏       | 111/514 [02:14<06:41,  1.00it/s]"
     ]
    },
    {
     "name": "stderr",
     "output_type": "stream",
     "text": [
      "\r",
      " 22%|██▏       | 112/514 [02:16<08:44,  1.30s/it]"
     ]
    },
    {
     "name": "stderr",
     "output_type": "stream",
     "text": [
      "\r",
      " 22%|██▏       | 113/514 [02:17<08:32,  1.28s/it]"
     ]
    },
    {
     "name": "stderr",
     "output_type": "stream",
     "text": [
      "\r",
      " 22%|██▏       | 114/514 [02:19<08:23,  1.26s/it]"
     ]
    },
    {
     "name": "stderr",
     "output_type": "stream",
     "text": [
      "\r",
      " 22%|██▏       | 115/514 [02:19<07:05,  1.07s/it]"
     ]
    },
    {
     "name": "stderr",
     "output_type": "stream",
     "text": [
      "\r",
      " 23%|██▎       | 116/514 [02:20<06:10,  1.08it/s]"
     ]
    },
    {
     "name": "stderr",
     "output_type": "stream",
     "text": [
      "\r",
      " 23%|██▎       | 117/514 [02:20<05:32,  1.19it/s]"
     ]
    },
    {
     "name": "stderr",
     "output_type": "stream",
     "text": [
      "\r",
      " 23%|██▎       | 118/514 [02:21<05:03,  1.31it/s]"
     ]
    },
    {
     "name": "stderr",
     "output_type": "stream",
     "text": [
      "\r",
      " 23%|██▎       | 119/514 [02:22<06:01,  1.09it/s]"
     ]
    },
    {
     "name": "stderr",
     "output_type": "stream",
     "text": [
      "\r",
      " 23%|██▎       | 120/514 [02:23<05:21,  1.22it/s]"
     ]
    },
    {
     "name": "stderr",
     "output_type": "stream",
     "text": [
      "\r",
      " 24%|██▎       | 121/514 [02:24<04:54,  1.33it/s]"
     ]
    },
    {
     "name": "stderr",
     "output_type": "stream",
     "text": [
      "\r",
      " 24%|██▎       | 122/514 [02:24<04:46,  1.37it/s]"
     ]
    },
    {
     "name": "stderr",
     "output_type": "stream",
     "text": [
      "\r",
      " 24%|██▍       | 123/514 [02:25<04:26,  1.47it/s]"
     ]
    },
    {
     "name": "stderr",
     "output_type": "stream",
     "text": [
      "\r",
      " 24%|██▍       | 124/514 [02:25<04:17,  1.51it/s]"
     ]
    },
    {
     "name": "stderr",
     "output_type": "stream",
     "text": [
      "\r",
      " 24%|██▍       | 125/514 [02:26<04:07,  1.57it/s]"
     ]
    },
    {
     "name": "stderr",
     "output_type": "stream",
     "text": [
      "\r",
      " 25%|██▍       | 126/514 [02:27<04:06,  1.58it/s]"
     ]
    },
    {
     "name": "stderr",
     "output_type": "stream",
     "text": [
      "\r",
      " 25%|██▍       | 127/514 [02:27<03:58,  1.62it/s]"
     ]
    },
    {
     "name": "stderr",
     "output_type": "stream",
     "text": [
      "\r",
      " 25%|██▍       | 128/514 [02:28<05:09,  1.25it/s]"
     ]
    },
    {
     "name": "stderr",
     "output_type": "stream",
     "text": [
      "\r",
      " 25%|██▌       | 129/514 [02:30<06:53,  1.07s/it]"
     ]
    },
    {
     "name": "stderr",
     "output_type": "stream",
     "text": [
      "\r",
      " 25%|██▌       | 130/514 [02:31<05:56,  1.08it/s]"
     ]
    },
    {
     "name": "stderr",
     "output_type": "stream",
     "text": [
      "\r",
      " 25%|██▌       | 131/514 [02:31<05:18,  1.20it/s]"
     ]
    },
    {
     "name": "stderr",
     "output_type": "stream",
     "text": [
      "\r",
      " 26%|██▌       | 132/514 [02:33<06:18,  1.01it/s]"
     ]
    },
    {
     "name": "stderr",
     "output_type": "stream",
     "text": [
      "\r",
      " 26%|██▌       | 133/514 [02:34<06:33,  1.03s/it]"
     ]
    },
    {
     "name": "stderr",
     "output_type": "stream",
     "text": [
      "\r",
      " 26%|██▌       | 134/514 [02:35<06:44,  1.07s/it]"
     ]
    },
    {
     "name": "stderr",
     "output_type": "stream",
     "text": [
      "\r",
      " 26%|██▋       | 135/514 [02:36<05:55,  1.07it/s]"
     ]
    },
    {
     "name": "stderr",
     "output_type": "stream",
     "text": [
      "\r",
      " 26%|██▋       | 136/514 [02:36<05:17,  1.19it/s]"
     ]
    },
    {
     "name": "stderr",
     "output_type": "stream",
     "text": [
      "\r",
      " 27%|██▋       | 137/514 [02:37<04:49,  1.30it/s]"
     ]
    },
    {
     "name": "stderr",
     "output_type": "stream",
     "text": [
      "\r",
      " 27%|██▋       | 138/514 [02:37<04:26,  1.41it/s]"
     ]
    },
    {
     "name": "stderr",
     "output_type": "stream",
     "text": [
      "\r",
      " 27%|██▋       | 139/514 [02:39<05:50,  1.07it/s]"
     ]
    },
    {
     "name": "stderr",
     "output_type": "stream",
     "text": [
      "\r",
      " 27%|██▋       | 140/514 [02:40<06:41,  1.07s/it]"
     ]
    },
    {
     "name": "stderr",
     "output_type": "stream",
     "text": [
      "\r",
      " 27%|██▋       | 141/514 [02:41<05:45,  1.08it/s]"
     ]
    },
    {
     "name": "stderr",
     "output_type": "stream",
     "text": [
      "\r",
      " 28%|██▊       | 142/514 [02:41<05:08,  1.20it/s]"
     ]
    },
    {
     "name": "stderr",
     "output_type": "stream",
     "text": [
      "\r",
      " 28%|██▊       | 143/514 [02:43<05:51,  1.06it/s]"
     ]
    },
    {
     "name": "stderr",
     "output_type": "stream",
     "text": [
      "\r",
      " 28%|██▊       | 144/514 [02:44<06:24,  1.04s/it]"
     ]
    },
    {
     "name": "stderr",
     "output_type": "stream",
     "text": [
      "\r",
      " 28%|██▊       | 145/514 [02:44<05:29,  1.12it/s]"
     ]
    },
    {
     "name": "stderr",
     "output_type": "stream",
     "text": [
      "\r",
      " 28%|██▊       | 146/514 [02:45<04:54,  1.25it/s]"
     ]
    },
    {
     "name": "stderr",
     "output_type": "stream",
     "text": [
      "\r",
      " 29%|██▊       | 147/514 [02:46<04:27,  1.37it/s]"
     ]
    },
    {
     "name": "stderr",
     "output_type": "stream",
     "text": [
      "\r",
      " 29%|██▉       | 148/514 [02:46<04:07,  1.48it/s]"
     ]
    },
    {
     "name": "stderr",
     "output_type": "stream",
     "text": [
      "\r",
      " 29%|██▉       | 149/514 [02:47<04:58,  1.22it/s]"
     ]
    },
    {
     "name": "stderr",
     "output_type": "stream",
     "text": [
      "\r",
      " 29%|██▉       | 150/514 [02:48<04:38,  1.31it/s]"
     ]
    },
    {
     "name": "stderr",
     "output_type": "stream",
     "text": [
      "\r",
      " 29%|██▉       | 151/514 [02:49<04:15,  1.42it/s]"
     ]
    },
    {
     "name": "stderr",
     "output_type": "stream",
     "text": [
      "\r",
      " 30%|██▉       | 152/514 [02:50<05:04,  1.19it/s]"
     ]
    },
    {
     "name": "stderr",
     "output_type": "stream",
     "text": [
      "\r",
      " 30%|██▉       | 153/514 [02:50<04:47,  1.26it/s]"
     ]
    },
    {
     "name": "stderr",
     "output_type": "stream",
     "text": [
      "\r",
      " 30%|██▉       | 154/514 [02:51<04:23,  1.36it/s]"
     ]
    },
    {
     "name": "stderr",
     "output_type": "stream",
     "text": [
      "\r",
      " 30%|███       | 155/514 [02:53<06:05,  1.02s/it]"
     ]
    },
    {
     "name": "stderr",
     "output_type": "stream",
     "text": [
      "\r",
      " 30%|███       | 156/514 [02:54<06:48,  1.14s/it]"
     ]
    },
    {
     "name": "stderr",
     "output_type": "stream",
     "text": [
      "\r",
      " 31%|███       | 157/514 [02:55<05:48,  1.02it/s]"
     ]
    },
    {
     "name": "stderr",
     "output_type": "stream",
     "text": [
      "\r",
      " 31%|███       | 158/514 [02:56<06:47,  1.14s/it]"
     ]
    },
    {
     "name": "stderr",
     "output_type": "stream",
     "text": [
      "\r",
      " 31%|███       | 159/514 [02:58<07:47,  1.32s/it]"
     ]
    },
    {
     "name": "stderr",
     "output_type": "stream",
     "text": [
      "\r",
      " 31%|███       | 160/514 [02:59<07:37,  1.29s/it]"
     ]
    },
    {
     "name": "stderr",
     "output_type": "stream",
     "text": [
      "\r",
      " 31%|███▏      | 161/514 [03:00<07:13,  1.23s/it]"
     ]
    },
    {
     "name": "stderr",
     "output_type": "stream",
     "text": [
      "\r",
      " 32%|███▏      | 162/514 [03:01<06:02,  1.03s/it]"
     ]
    },
    {
     "name": "stderr",
     "output_type": "stream",
     "text": [
      "\r",
      " 32%|███▏      | 163/514 [03:01<05:17,  1.10it/s]"
     ]
    },
    {
     "name": "stderr",
     "output_type": "stream",
     "text": [
      "\r",
      " 32%|███▏      | 164/514 [03:02<04:44,  1.23it/s]"
     ]
    },
    {
     "name": "stderr",
     "output_type": "stream",
     "text": [
      "\r",
      " 32%|███▏      | 165/514 [03:04<06:20,  1.09s/it]"
     ]
    },
    {
     "name": "stderr",
     "output_type": "stream",
     "text": [
      "\r",
      " 32%|███▏      | 166/514 [03:05<06:30,  1.12s/it]"
     ]
    },
    {
     "name": "stderr",
     "output_type": "stream",
     "text": [
      "\r",
      " 32%|███▏      | 167/514 [03:06<06:34,  1.14s/it]"
     ]
    },
    {
     "name": "stderr",
     "output_type": "stream",
     "text": [
      "\r",
      " 33%|███▎      | 168/514 [03:07<06:33,  1.14s/it]"
     ]
    },
    {
     "name": "stderr",
     "output_type": "stream",
     "text": [
      "\r",
      " 33%|███▎      | 169/514 [03:08<06:41,  1.16s/it]"
     ]
    },
    {
     "name": "stderr",
     "output_type": "stream",
     "text": [
      "\r",
      " 33%|███▎      | 170/514 [03:10<07:15,  1.27s/it]"
     ]
    },
    {
     "name": "stderr",
     "output_type": "stream",
     "text": [
      "\r",
      " 33%|███▎      | 171/514 [03:11<07:01,  1.23s/it]"
     ]
    },
    {
     "name": "stderr",
     "output_type": "stream",
     "text": [
      "\r",
      " 33%|███▎      | 172/514 [03:13<07:21,  1.29s/it]"
     ]
    },
    {
     "name": "stderr",
     "output_type": "stream",
     "text": [
      "\r",
      " 34%|███▎      | 173/514 [03:14<07:07,  1.25s/it]"
     ]
    },
    {
     "name": "stderr",
     "output_type": "stream",
     "text": [
      "\r",
      " 34%|███▍      | 174/514 [03:15<07:02,  1.24s/it]"
     ]
    },
    {
     "name": "stderr",
     "output_type": "stream",
     "text": [
      "R[write to console]: Error in solve.default(qr.R(qr.VT)) : \n",
      "  Lapack routine dgesv: system is exactly singular: U[1,1] = 0\n",
      "\n"
     ]
    },
    {
     "name": "stderr",
     "output_type": "stream",
     "text": [
      "R[write to console]: In addition: \n"
     ]
    },
    {
     "name": "stderr",
     "output_type": "stream",
     "text": [
      "R[write to console]: Warning messages:\n",
      "\n"
     ]
    },
    {
     "name": "stderr",
     "output_type": "stream",
     "text": [
      "R[write to console]: 1: \n"
     ]
    },
    {
     "name": "stderr",
     "output_type": "stream",
     "text": [
      "R[write to console]: In (function (package, help, pos = 2, lib.loc = NULL, character.only = FALSE,  :\n"
     ]
    },
    {
     "name": "stderr",
     "output_type": "stream",
     "text": [
      "R[write to console]: \n",
      " \n"
     ]
    },
    {
     "name": "stderr",
     "output_type": "stream",
     "text": [
      "R[write to console]:  libraries ‘/usr/local/lib/R/site-library’, ‘/usr/lib/R/site-library’ contain no packages\n",
      "\n"
     ]
    },
    {
     "name": "stderr",
     "output_type": "stream",
     "text": [
      "R[write to console]: 2: \n"
     ]
    },
    {
     "name": "stderr",
     "output_type": "stream",
     "text": [
      "R[write to console]: In (function (package, help, pos = 2, lib.loc = NULL, character.only = FALSE,  :\n"
     ]
    },
    {
     "name": "stderr",
     "output_type": "stream",
     "text": [
      "R[write to console]: \n",
      " \n"
     ]
    },
    {
     "name": "stderr",
     "output_type": "stream",
     "text": [
      "R[write to console]:  libraries ‘/usr/local/lib/R/site-library’, ‘/usr/lib/R/site-library’ contain no packages\n",
      "\n"
     ]
    },
    {
     "name": "stderr",
     "output_type": "stream",
     "text": [
      "R[write to console]: Timing stopped at: 0.034 0.001 0.032\n",
      "\n"
     ]
    },
    {
     "name": "stderr",
     "output_type": "stream",
     "text": [
      "\r",
      " 34%|███▍      | 175/514 [03:15<05:14,  1.08it/s]"
     ]
    },
    {
     "name": "stderr",
     "output_type": "stream",
     "text": [
      "\r",
      " 34%|███▍      | 176/514 [03:16<04:42,  1.20it/s]"
     ]
    },
    {
     "name": "stderr",
     "output_type": "stream",
     "text": [
      "\r",
      " 34%|███▍      | 177/514 [03:17<06:00,  1.07s/it]"
     ]
    },
    {
     "name": "stderr",
     "output_type": "stream",
     "text": [
      "\r",
      " 35%|███▍      | 178/514 [03:19<06:34,  1.17s/it]"
     ]
    },
    {
     "name": "stderr",
     "output_type": "stream",
     "text": [
      "\r",
      " 35%|███▍      | 179/514 [03:21<07:51,  1.41s/it]"
     ]
    },
    {
     "name": "stderr",
     "output_type": "stream",
     "text": [
      "\r",
      " 35%|███▌      | 180/514 [03:22<07:18,  1.31s/it]"
     ]
    },
    {
     "name": "stderr",
     "output_type": "stream",
     "text": [
      "\r",
      " 35%|███▌      | 181/514 [03:23<07:11,  1.30s/it]"
     ]
    },
    {
     "name": "stderr",
     "output_type": "stream",
     "text": [
      "\r",
      " 35%|███▌      | 182/514 [03:24<06:01,  1.09s/it]"
     ]
    },
    {
     "name": "stderr",
     "output_type": "stream",
     "text": [
      "\r",
      " 36%|███▌      | 183/514 [03:25<06:13,  1.13s/it]"
     ]
    },
    {
     "name": "stderr",
     "output_type": "stream",
     "text": [
      "\r",
      " 36%|███▌      | 184/514 [03:26<05:33,  1.01s/it]"
     ]
    },
    {
     "name": "stderr",
     "output_type": "stream",
     "text": [
      "\r",
      " 36%|███▌      | 185/514 [03:26<04:51,  1.13it/s]"
     ]
    },
    {
     "name": "stderr",
     "output_type": "stream",
     "text": [
      "\r",
      " 36%|███▌      | 186/514 [03:27<04:30,  1.21it/s]"
     ]
    },
    {
     "name": "stderr",
     "output_type": "stream",
     "text": [
      "\r",
      " 36%|███▋      | 187/514 [03:29<05:45,  1.06s/it]"
     ]
    },
    {
     "name": "stderr",
     "output_type": "stream",
     "text": [
      "\r",
      " 37%|███▋      | 188/514 [03:30<06:27,  1.19s/it]"
     ]
    },
    {
     "name": "stderr",
     "output_type": "stream",
     "text": [
      "\r",
      " 37%|███▋      | 189/514 [03:32<07:07,  1.31s/it]"
     ]
    },
    {
     "name": "stderr",
     "output_type": "stream",
     "text": [
      "\r",
      " 37%|███▋      | 190/514 [03:33<07:15,  1.34s/it]"
     ]
    },
    {
     "name": "stderr",
     "output_type": "stream",
     "text": [
      "\r",
      " 37%|███▋      | 191/514 [03:35<07:50,  1.46s/it]"
     ]
    },
    {
     "name": "stderr",
     "output_type": "stream",
     "text": [
      "\r",
      " 37%|███▋      | 192/514 [03:36<07:15,  1.35s/it]"
     ]
    },
    {
     "name": "stderr",
     "output_type": "stream",
     "text": [
      "\r",
      " 38%|███▊      | 193/514 [03:36<05:59,  1.12s/it]"
     ]
    },
    {
     "name": "stderr",
     "output_type": "stream",
     "text": [
      "\r",
      " 38%|███▊      | 194/514 [03:38<07:03,  1.32s/it]"
     ]
    },
    {
     "name": "stderr",
     "output_type": "stream",
     "text": [
      "\r",
      " 38%|███▊      | 195/514 [03:40<07:38,  1.44s/it]"
     ]
    },
    {
     "name": "stderr",
     "output_type": "stream",
     "text": [
      "\r",
      " 38%|███▊      | 196/514 [03:41<07:11,  1.36s/it]"
     ]
    },
    {
     "name": "stderr",
     "output_type": "stream",
     "text": [
      "\r",
      " 38%|███▊      | 197/514 [03:42<07:03,  1.34s/it]"
     ]
    },
    {
     "name": "stderr",
     "output_type": "stream",
     "text": [
      "\r",
      " 39%|███▊      | 198/514 [03:44<07:55,  1.50s/it]"
     ]
    },
    {
     "name": "stderr",
     "output_type": "stream",
     "text": [
      "\r",
      " 39%|███▊      | 199/514 [03:46<07:31,  1.43s/it]"
     ]
    },
    {
     "name": "stderr",
     "output_type": "stream",
     "text": [
      "\r",
      " 39%|███▉      | 200/514 [03:47<07:26,  1.42s/it]"
     ]
    },
    {
     "name": "stderr",
     "output_type": "stream",
     "text": [
      "\r",
      " 39%|███▉      | 201/514 [03:48<07:24,  1.42s/it]"
     ]
    },
    {
     "name": "stderr",
     "output_type": "stream",
     "text": [
      "\r",
      " 39%|███▉      | 202/514 [03:50<07:04,  1.36s/it]"
     ]
    },
    {
     "name": "stderr",
     "output_type": "stream",
     "text": [
      "\r",
      " 39%|███▉      | 203/514 [03:51<06:38,  1.28s/it]"
     ]
    },
    {
     "name": "stderr",
     "output_type": "stream",
     "text": [
      "\r",
      " 40%|███▉      | 204/514 [03:52<07:00,  1.36s/it]"
     ]
    },
    {
     "name": "stderr",
     "output_type": "stream",
     "text": [
      "\r",
      " 40%|███▉      | 205/514 [03:54<06:57,  1.35s/it]"
     ]
    },
    {
     "name": "stderr",
     "output_type": "stream",
     "text": [
      "\r",
      " 40%|████      | 206/514 [03:55<07:21,  1.43s/it]"
     ]
    },
    {
     "name": "stderr",
     "output_type": "stream",
     "text": [
      "\r",
      " 40%|████      | 207/514 [03:56<07:07,  1.39s/it]"
     ]
    },
    {
     "name": "stderr",
     "output_type": "stream",
     "text": [
      "\r",
      " 40%|████      | 208/514 [03:58<07:17,  1.43s/it]"
     ]
    },
    {
     "name": "stderr",
     "output_type": "stream",
     "text": [
      "\r",
      " 41%|████      | 209/514 [03:59<07:20,  1.45s/it]"
     ]
    },
    {
     "name": "stderr",
     "output_type": "stream",
     "text": [
      "\r",
      " 41%|████      | 210/514 [04:01<07:14,  1.43s/it]"
     ]
    },
    {
     "name": "stderr",
     "output_type": "stream",
     "text": [
      "\r",
      " 41%|████      | 211/514 [04:02<06:59,  1.38s/it]"
     ]
    },
    {
     "name": "stderr",
     "output_type": "stream",
     "text": [
      "\r",
      " 41%|████      | 212/514 [04:03<05:43,  1.14s/it]"
     ]
    },
    {
     "name": "stderr",
     "output_type": "stream",
     "text": [
      "\r",
      " 41%|████▏     | 213/514 [04:04<06:25,  1.28s/it]"
     ]
    },
    {
     "name": "stderr",
     "output_type": "stream",
     "text": [
      "\r",
      " 42%|████▏     | 214/514 [04:06<07:09,  1.43s/it]"
     ]
    },
    {
     "name": "stderr",
     "output_type": "stream",
     "text": [
      "\r",
      " 42%|████▏     | 215/514 [04:08<07:28,  1.50s/it]"
     ]
    },
    {
     "name": "stderr",
     "output_type": "stream",
     "text": [
      "\r",
      " 42%|████▏     | 216/514 [04:09<07:17,  1.47s/it]"
     ]
    },
    {
     "name": "stderr",
     "output_type": "stream",
     "text": [
      "\r",
      " 42%|████▏     | 217/514 [04:11<07:28,  1.51s/it]"
     ]
    },
    {
     "name": "stderr",
     "output_type": "stream",
     "text": [
      "\r",
      " 42%|████▏     | 218/514 [04:12<07:39,  1.55s/it]"
     ]
    },
    {
     "name": "stderr",
     "output_type": "stream",
     "text": [
      "\r",
      " 43%|████▎     | 219/514 [04:14<08:00,  1.63s/it]"
     ]
    },
    {
     "name": "stderr",
     "output_type": "stream",
     "text": [
      "\r",
      " 43%|████▎     | 220/514 [04:16<07:53,  1.61s/it]"
     ]
    },
    {
     "name": "stderr",
     "output_type": "stream",
     "text": [
      "\r",
      " 43%|████▎     | 221/514 [04:16<06:20,  1.30s/it]"
     ]
    },
    {
     "name": "stderr",
     "output_type": "stream",
     "text": [
      "\r",
      " 43%|████▎     | 222/514 [04:18<06:18,  1.30s/it]"
     ]
    },
    {
     "name": "stderr",
     "output_type": "stream",
     "text": [
      "\r",
      " 43%|████▎     | 223/514 [04:19<06:32,  1.35s/it]"
     ]
    },
    {
     "name": "stderr",
     "output_type": "stream",
     "text": [
      "\r",
      " 44%|████▎     | 224/514 [04:20<06:07,  1.27s/it]"
     ]
    },
    {
     "name": "stderr",
     "output_type": "stream",
     "text": [
      "\r",
      " 44%|████▍     | 225/514 [04:21<05:05,  1.06s/it]"
     ]
    },
    {
     "name": "stderr",
     "output_type": "stream",
     "text": [
      "\r",
      " 44%|████▍     | 226/514 [04:22<05:03,  1.05s/it]"
     ]
    },
    {
     "name": "stderr",
     "output_type": "stream",
     "text": [
      "\r",
      " 44%|████▍     | 227/514 [04:23<05:07,  1.07s/it]"
     ]
    },
    {
     "name": "stderr",
     "output_type": "stream",
     "text": [
      "\r",
      " 44%|████▍     | 228/514 [04:23<04:21,  1.09it/s]"
     ]
    },
    {
     "name": "stderr",
     "output_type": "stream",
     "text": [
      "\r",
      " 45%|████▍     | 229/514 [04:24<03:52,  1.23it/s]"
     ]
    },
    {
     "name": "stderr",
     "output_type": "stream",
     "text": [
      "\r",
      " 45%|████▍     | 230/514 [04:25<04:12,  1.13it/s]"
     ]
    },
    {
     "name": "stderr",
     "output_type": "stream",
     "text": [
      "\r",
      " 45%|████▍     | 231/514 [04:26<03:48,  1.24it/s]"
     ]
    },
    {
     "name": "stderr",
     "output_type": "stream",
     "text": [
      "\r",
      " 45%|████▌     | 232/514 [04:27<04:59,  1.06s/it]"
     ]
    },
    {
     "name": "stderr",
     "output_type": "stream",
     "text": [
      "\r",
      " 45%|████▌     | 233/514 [04:29<05:43,  1.22s/it]"
     ]
    },
    {
     "name": "stderr",
     "output_type": "stream",
     "text": [
      "\r",
      " 46%|████▌     | 234/514 [04:30<06:00,  1.29s/it]"
     ]
    },
    {
     "name": "stderr",
     "output_type": "stream",
     "text": [
      "\r",
      " 46%|████▌     | 235/514 [04:32<05:58,  1.29s/it]"
     ]
    },
    {
     "name": "stderr",
     "output_type": "stream",
     "text": [
      "\r",
      " 46%|████▌     | 236/514 [04:33<06:16,  1.35s/it]"
     ]
    },
    {
     "name": "stderr",
     "output_type": "stream",
     "text": [
      "\r",
      " 46%|████▌     | 237/514 [04:35<06:11,  1.34s/it]"
     ]
    },
    {
     "name": "stderr",
     "output_type": "stream",
     "text": [
      "\r",
      " 46%|████▋     | 238/514 [04:36<06:08,  1.34s/it]"
     ]
    },
    {
     "name": "stderr",
     "output_type": "stream",
     "text": [
      "\r",
      " 46%|████▋     | 239/514 [04:37<06:13,  1.36s/it]"
     ]
    },
    {
     "name": "stderr",
     "output_type": "stream",
     "text": [
      "\r",
      " 47%|████▋     | 240/514 [04:39<06:11,  1.35s/it]"
     ]
    },
    {
     "name": "stderr",
     "output_type": "stream",
     "text": [
      "\r",
      " 47%|████▋     | 241/514 [04:39<05:09,  1.13s/it]"
     ]
    },
    {
     "name": "stderr",
     "output_type": "stream",
     "text": [
      "\r",
      " 47%|████▋     | 242/514 [04:41<05:49,  1.29s/it]"
     ]
    },
    {
     "name": "stderr",
     "output_type": "stream",
     "text": [
      "\r",
      " 47%|████▋     | 243/514 [04:42<05:58,  1.32s/it]"
     ]
    },
    {
     "name": "stderr",
     "output_type": "stream",
     "text": [
      "\r",
      " 47%|████▋     | 244/514 [04:44<05:48,  1.29s/it]"
     ]
    },
    {
     "name": "stderr",
     "output_type": "stream",
     "text": [
      "\r",
      " 48%|████▊     | 245/514 [04:44<04:51,  1.09s/it]"
     ]
    },
    {
     "name": "stderr",
     "output_type": "stream",
     "text": [
      "\r",
      " 48%|████▊     | 246/514 [04:45<04:07,  1.08it/s]"
     ]
    },
    {
     "name": "stderr",
     "output_type": "stream",
     "text": [
      "\r",
      " 48%|████▊     | 247/514 [04:45<03:37,  1.23it/s]"
     ]
    },
    {
     "name": "stderr",
     "output_type": "stream",
     "text": [
      "\r",
      " 48%|████▊     | 248/514 [04:47<04:20,  1.02it/s]"
     ]
    },
    {
     "name": "stderr",
     "output_type": "stream",
     "text": [
      "\r",
      " 48%|████▊     | 249/514 [04:48<04:44,  1.07s/it]"
     ]
    },
    {
     "name": "stderr",
     "output_type": "stream",
     "text": [
      "\r",
      " 49%|████▊     | 250/514 [04:49<04:56,  1.12s/it]"
     ]
    },
    {
     "name": "stderr",
     "output_type": "stream",
     "text": [
      "\r",
      " 49%|████▉     | 251/514 [04:50<04:14,  1.03it/s]"
     ]
    },
    {
     "name": "stderr",
     "output_type": "stream",
     "text": [
      "\r",
      " 49%|████▉     | 252/514 [04:51<04:37,  1.06s/it]"
     ]
    },
    {
     "name": "stderr",
     "output_type": "stream",
     "text": [
      "\r",
      " 49%|████▉     | 253/514 [04:52<04:43,  1.09s/it]"
     ]
    },
    {
     "name": "stderr",
     "output_type": "stream",
     "text": [
      "\r",
      " 49%|████▉     | 254/514 [04:54<05:09,  1.19s/it]"
     ]
    },
    {
     "name": "stderr",
     "output_type": "stream",
     "text": [
      "\r",
      " 50%|████▉     | 255/514 [04:55<05:44,  1.33s/it]"
     ]
    },
    {
     "name": "stderr",
     "output_type": "stream",
     "text": [
      "\r",
      " 50%|████▉     | 256/514 [04:57<06:24,  1.49s/it]"
     ]
    },
    {
     "name": "stderr",
     "output_type": "stream",
     "text": [
      "\r",
      " 50%|█████     | 257/514 [04:59<06:39,  1.56s/it]"
     ]
    },
    {
     "name": "stderr",
     "output_type": "stream",
     "text": [
      "\r",
      " 50%|█████     | 258/514 [05:00<06:30,  1.52s/it]"
     ]
    },
    {
     "name": "stderr",
     "output_type": "stream",
     "text": [
      "\r",
      " 50%|█████     | 259/514 [05:02<06:14,  1.47s/it]"
     ]
    },
    {
     "name": "stderr",
     "output_type": "stream",
     "text": [
      "\r",
      " 51%|█████     | 260/514 [05:03<05:57,  1.41s/it]"
     ]
    },
    {
     "name": "stderr",
     "output_type": "stream",
     "text": [
      "\r",
      " 51%|█████     | 261/514 [05:04<05:58,  1.42s/it]"
     ]
    },
    {
     "name": "stderr",
     "output_type": "stream",
     "text": [
      "\r",
      " 51%|█████     | 262/514 [05:06<06:08,  1.46s/it]"
     ]
    },
    {
     "name": "stderr",
     "output_type": "stream",
     "text": [
      "\r",
      " 51%|█████     | 263/514 [05:07<06:09,  1.47s/it]"
     ]
    },
    {
     "name": "stderr",
     "output_type": "stream",
     "text": [
      "\r",
      " 51%|█████▏    | 264/514 [05:09<06:32,  1.57s/it]"
     ]
    },
    {
     "name": "stderr",
     "output_type": "stream",
     "text": [
      "\r",
      " 52%|█████▏    | 265/514 [05:11<06:31,  1.57s/it]"
     ]
    },
    {
     "name": "stderr",
     "output_type": "stream",
     "text": [
      "\r",
      " 52%|█████▏    | 266/514 [05:12<06:11,  1.50s/it]"
     ]
    },
    {
     "name": "stderr",
     "output_type": "stream",
     "text": [
      "\r",
      " 52%|█████▏    | 267/514 [05:14<06:15,  1.52s/it]"
     ]
    },
    {
     "name": "stderr",
     "output_type": "stream",
     "text": [
      "\r",
      " 52%|█████▏    | 268/514 [05:15<06:16,  1.53s/it]"
     ]
    },
    {
     "name": "stderr",
     "output_type": "stream",
     "text": [
      "\r",
      " 52%|█████▏    | 269/514 [05:17<06:03,  1.48s/it]"
     ]
    },
    {
     "name": "stderr",
     "output_type": "stream",
     "text": [
      "\r",
      " 53%|█████▎    | 270/514 [05:18<05:50,  1.44s/it]"
     ]
    },
    {
     "name": "stderr",
     "output_type": "stream",
     "text": [
      "\r",
      " 53%|█████▎    | 271/514 [05:19<05:39,  1.40s/it]"
     ]
    },
    {
     "name": "stderr",
     "output_type": "stream",
     "text": [
      "\r",
      " 53%|█████▎    | 272/514 [05:21<05:45,  1.43s/it]"
     ]
    },
    {
     "name": "stderr",
     "output_type": "stream",
     "text": [
      "\r",
      " 53%|█████▎    | 273/514 [05:21<04:40,  1.16s/it]"
     ]
    },
    {
     "name": "stderr",
     "output_type": "stream",
     "text": [
      "\r",
      " 53%|█████▎    | 274/514 [05:22<03:57,  1.01it/s]"
     ]
    },
    {
     "name": "stderr",
     "output_type": "stream",
     "text": [
      "\r",
      " 54%|█████▎    | 275/514 [05:23<04:08,  1.04s/it]"
     ]
    },
    {
     "name": "stderr",
     "output_type": "stream",
     "text": [
      "\r",
      " 54%|█████▎    | 276/514 [05:24<04:37,  1.16s/it]"
     ]
    },
    {
     "name": "stderr",
     "output_type": "stream",
     "text": [
      "\r",
      " 54%|█████▍    | 277/514 [05:26<04:54,  1.24s/it]"
     ]
    },
    {
     "name": "stderr",
     "output_type": "stream",
     "text": [
      "\r",
      " 54%|█████▍    | 278/514 [05:27<05:13,  1.33s/it]"
     ]
    },
    {
     "name": "stderr",
     "output_type": "stream",
     "text": [
      "\r",
      " 54%|█████▍    | 279/514 [05:29<05:03,  1.29s/it]"
     ]
    },
    {
     "name": "stderr",
     "output_type": "stream",
     "text": [
      "\r",
      " 54%|█████▍    | 280/514 [05:30<05:06,  1.31s/it]"
     ]
    },
    {
     "name": "stderr",
     "output_type": "stream",
     "text": [
      "\r",
      " 55%|█████▍    | 281/514 [05:31<05:09,  1.33s/it]"
     ]
    },
    {
     "name": "stderr",
     "output_type": "stream",
     "text": [
      "\r",
      " 55%|█████▍    | 282/514 [05:32<04:51,  1.25s/it]"
     ]
    },
    {
     "name": "stderr",
     "output_type": "stream",
     "text": [
      "\r",
      " 55%|█████▌    | 283/514 [05:34<05:06,  1.33s/it]"
     ]
    },
    {
     "name": "stderr",
     "output_type": "stream",
     "text": [
      "\r",
      " 55%|█████▌    | 284/514 [05:35<05:08,  1.34s/it]"
     ]
    },
    {
     "name": "stderr",
     "output_type": "stream",
     "text": [
      "\r",
      " 55%|█████▌    | 285/514 [05:37<05:19,  1.40s/it]"
     ]
    },
    {
     "name": "stderr",
     "output_type": "stream",
     "text": [
      "\r",
      " 56%|█████▌    | 286/514 [05:39<05:45,  1.51s/it]"
     ]
    },
    {
     "name": "stderr",
     "output_type": "stream",
     "text": [
      "\r",
      " 56%|█████▌    | 287/514 [05:39<04:43,  1.25s/it]"
     ]
    },
    {
     "name": "stderr",
     "output_type": "stream",
     "text": [
      "\r",
      " 56%|█████▌    | 288/514 [05:40<04:31,  1.20s/it]"
     ]
    },
    {
     "name": "stderr",
     "output_type": "stream",
     "text": [
      "\r",
      " 56%|█████▌    | 289/514 [05:41<04:30,  1.20s/it]"
     ]
    },
    {
     "name": "stderr",
     "output_type": "stream",
     "text": [
      "\r",
      " 56%|█████▋    | 290/514 [05:43<04:27,  1.19s/it]"
     ]
    },
    {
     "name": "stderr",
     "output_type": "stream",
     "text": [
      "\r",
      " 57%|█████▋    | 291/514 [05:44<04:54,  1.32s/it]"
     ]
    },
    {
     "name": "stderr",
     "output_type": "stream",
     "text": [
      "\r",
      " 57%|█████▋    | 292/514 [05:46<05:18,  1.43s/it]"
     ]
    },
    {
     "name": "stderr",
     "output_type": "stream",
     "text": [
      "\r",
      " 57%|█████▋    | 293/514 [05:47<05:08,  1.40s/it]"
     ]
    },
    {
     "name": "stderr",
     "output_type": "stream",
     "text": [
      "\r",
      " 57%|█████▋    | 294/514 [05:49<05:06,  1.39s/it]"
     ]
    },
    {
     "name": "stderr",
     "output_type": "stream",
     "text": [
      "\r",
      " 57%|█████▋    | 295/514 [05:50<05:03,  1.39s/it]"
     ]
    },
    {
     "name": "stderr",
     "output_type": "stream",
     "text": [
      "\r",
      " 58%|█████▊    | 296/514 [05:51<04:51,  1.34s/it]"
     ]
    },
    {
     "name": "stderr",
     "output_type": "stream",
     "text": [
      "\r",
      " 58%|█████▊    | 297/514 [05:53<05:08,  1.42s/it]"
     ]
    },
    {
     "name": "stderr",
     "output_type": "stream",
     "text": [
      "\r",
      " 58%|█████▊    | 298/514 [05:55<05:25,  1.51s/it]"
     ]
    },
    {
     "name": "stderr",
     "output_type": "stream",
     "text": [
      "\r",
      " 58%|█████▊    | 299/514 [05:56<05:37,  1.57s/it]"
     ]
    },
    {
     "name": "stderr",
     "output_type": "stream",
     "text": [
      "\r",
      " 58%|█████▊    | 300/514 [05:58<05:49,  1.63s/it]"
     ]
    },
    {
     "name": "stderr",
     "output_type": "stream",
     "text": [
      "\r",
      " 59%|█████▊    | 301/514 [06:00<05:50,  1.65s/it]"
     ]
    },
    {
     "name": "stderr",
     "output_type": "stream",
     "text": [
      "\r",
      " 59%|█████▉    | 302/514 [06:01<05:01,  1.42s/it]"
     ]
    },
    {
     "name": "stderr",
     "output_type": "stream",
     "text": [
      "\r",
      " 59%|█████▉    | 303/514 [06:02<05:14,  1.49s/it]"
     ]
    },
    {
     "name": "stderr",
     "output_type": "stream",
     "text": [
      "\r",
      " 59%|█████▉    | 304/514 [06:04<05:13,  1.49s/it]"
     ]
    },
    {
     "name": "stderr",
     "output_type": "stream",
     "text": [
      "\r",
      " 59%|█████▉    | 305/514 [06:06<05:23,  1.55s/it]"
     ]
    },
    {
     "name": "stderr",
     "output_type": "stream",
     "text": [
      "\r",
      " 60%|█████▉    | 306/514 [06:07<05:28,  1.58s/it]"
     ]
    },
    {
     "name": "stderr",
     "output_type": "stream",
     "text": [
      "\r",
      " 60%|█████▉    | 307/514 [06:09<05:45,  1.67s/it]"
     ]
    },
    {
     "name": "stderr",
     "output_type": "stream",
     "text": [
      "\r",
      " 60%|█████▉    | 308/514 [06:11<05:45,  1.68s/it]"
     ]
    },
    {
     "name": "stderr",
     "output_type": "stream",
     "text": [
      "\r",
      " 60%|██████    | 309/514 [06:12<05:33,  1.63s/it]"
     ]
    },
    {
     "name": "stderr",
     "output_type": "stream",
     "text": [
      "\r",
      " 60%|██████    | 310/514 [06:14<05:17,  1.55s/it]"
     ]
    },
    {
     "name": "stderr",
     "output_type": "stream",
     "text": [
      "\r",
      " 61%|██████    | 311/514 [06:15<05:15,  1.56s/it]"
     ]
    },
    {
     "name": "stderr",
     "output_type": "stream",
     "text": [
      "\r",
      " 61%|██████    | 312/514 [06:17<05:23,  1.60s/it]"
     ]
    },
    {
     "name": "stderr",
     "output_type": "stream",
     "text": [
      "R[write to console]: Error in if (any(d < 0)) stop(\"distance argument must be nonnegative\") : \n",
      "  missing value where TRUE/FALSE needed\n",
      "\n"
     ]
    },
    {
     "name": "stderr",
     "output_type": "stream",
     "text": [
      "R[write to console]: Timing stopped at: 0.057 0 0.057\n",
      "\n"
     ]
    },
    {
     "name": "stderr",
     "output_type": "stream",
     "text": [
      "\r",
      " 61%|██████    | 313/514 [06:18<04:53,  1.46s/it]"
     ]
    },
    {
     "name": "stderr",
     "output_type": "stream",
     "text": [
      "\r",
      " 61%|██████    | 314/514 [06:19<04:09,  1.25s/it]"
     ]
    },
    {
     "name": "stderr",
     "output_type": "stream",
     "text": [
      "\r",
      " 61%|██████▏   | 315/514 [06:20<04:04,  1.23s/it]"
     ]
    },
    {
     "name": "stderr",
     "output_type": "stream",
     "text": [
      "\r",
      " 61%|██████▏   | 316/514 [06:21<04:11,  1.27s/it]"
     ]
    },
    {
     "name": "stderr",
     "output_type": "stream",
     "text": [
      "\r",
      " 62%|██████▏   | 317/514 [06:23<04:34,  1.39s/it]"
     ]
    },
    {
     "name": "stderr",
     "output_type": "stream",
     "text": [
      "\r",
      " 62%|██████▏   | 318/514 [06:24<04:34,  1.40s/it]"
     ]
    },
    {
     "name": "stderr",
     "output_type": "stream",
     "text": [
      "\r",
      " 62%|██████▏   | 319/514 [06:26<05:03,  1.56s/it]"
     ]
    },
    {
     "name": "stderr",
     "output_type": "stream",
     "text": [
      "\r",
      " 62%|██████▏   | 320/514 [06:28<04:59,  1.54s/it]"
     ]
    },
    {
     "name": "stderr",
     "output_type": "stream",
     "text": [
      "\r",
      " 62%|██████▏   | 321/514 [06:29<04:45,  1.48s/it]"
     ]
    },
    {
     "name": "stderr",
     "output_type": "stream",
     "text": [
      "\r",
      " 63%|██████▎   | 322/514 [06:31<04:51,  1.52s/it]"
     ]
    },
    {
     "name": "stderr",
     "output_type": "stream",
     "text": [
      "\r",
      " 63%|██████▎   | 323/514 [06:32<04:48,  1.51s/it]"
     ]
    },
    {
     "name": "stderr",
     "output_type": "stream",
     "text": [
      "\r",
      " 63%|██████▎   | 324/514 [06:34<05:01,  1.59s/it]"
     ]
    },
    {
     "name": "stderr",
     "output_type": "stream",
     "text": [
      "\r",
      " 63%|██████▎   | 325/514 [06:36<04:52,  1.55s/it]"
     ]
    },
    {
     "name": "stderr",
     "output_type": "stream",
     "text": [
      "\r",
      " 63%|██████▎   | 326/514 [06:37<04:45,  1.52s/it]"
     ]
    },
    {
     "name": "stderr",
     "output_type": "stream",
     "text": [
      "\r",
      " 64%|██████▎   | 327/514 [06:39<04:46,  1.53s/it]"
     ]
    },
    {
     "name": "stderr",
     "output_type": "stream",
     "text": [
      "\r",
      " 64%|██████▍   | 328/514 [06:40<04:49,  1.56s/it]"
     ]
    },
    {
     "name": "stderr",
     "output_type": "stream",
     "text": [
      "\r",
      " 64%|██████▍   | 329/514 [06:42<04:56,  1.60s/it]"
     ]
    },
    {
     "name": "stderr",
     "output_type": "stream",
     "text": [
      "\r",
      " 64%|██████▍   | 330/514 [06:43<04:51,  1.59s/it]"
     ]
    },
    {
     "name": "stderr",
     "output_type": "stream",
     "text": [
      "\r",
      " 64%|██████▍   | 331/514 [06:45<04:43,  1.55s/it]"
     ]
    },
    {
     "name": "stderr",
     "output_type": "stream",
     "text": [
      "\r",
      " 65%|██████▍   | 332/514 [06:47<04:50,  1.60s/it]"
     ]
    },
    {
     "name": "stderr",
     "output_type": "stream",
     "text": [
      "\r",
      " 65%|██████▍   | 333/514 [06:49<05:18,  1.76s/it]"
     ]
    },
    {
     "name": "stderr",
     "output_type": "stream",
     "text": [
      "\r",
      " 65%|██████▍   | 334/514 [06:50<05:08,  1.72s/it]"
     ]
    },
    {
     "name": "stderr",
     "output_type": "stream",
     "text": [
      "\r",
      " 65%|██████▌   | 335/514 [06:52<05:10,  1.73s/it]"
     ]
    },
    {
     "name": "stderr",
     "output_type": "stream",
     "text": [
      "\r",
      " 65%|██████▌   | 336/514 [06:53<04:50,  1.63s/it]"
     ]
    },
    {
     "name": "stderr",
     "output_type": "stream",
     "text": [
      "\r",
      " 66%|██████▌   | 337/514 [06:55<04:32,  1.54s/it]"
     ]
    },
    {
     "name": "stderr",
     "output_type": "stream",
     "text": [
      "\r",
      " 66%|██████▌   | 338/514 [06:56<03:47,  1.29s/it]"
     ]
    },
    {
     "name": "stderr",
     "output_type": "stream",
     "text": [
      "\r",
      " 66%|██████▌   | 339/514 [06:57<04:02,  1.39s/it]"
     ]
    },
    {
     "name": "stderr",
     "output_type": "stream",
     "text": [
      "\r",
      " 66%|██████▌   | 340/514 [06:59<04:06,  1.42s/it]"
     ]
    },
    {
     "name": "stderr",
     "output_type": "stream",
     "text": [
      "\r",
      " 66%|██████▋   | 341/514 [07:01<04:48,  1.67s/it]"
     ]
    },
    {
     "name": "stderr",
     "output_type": "stream",
     "text": [
      "\r",
      " 67%|██████▋   | 342/514 [07:03<04:53,  1.71s/it]"
     ]
    },
    {
     "name": "stderr",
     "output_type": "stream",
     "text": [
      "\r",
      " 67%|██████▋   | 343/514 [07:05<04:59,  1.75s/it]"
     ]
    },
    {
     "name": "stderr",
     "output_type": "stream",
     "text": [
      "\r",
      " 67%|██████▋   | 344/514 [07:06<04:49,  1.70s/it]"
     ]
    },
    {
     "name": "stderr",
     "output_type": "stream",
     "text": [
      "\r",
      " 67%|██████▋   | 345/514 [07:08<04:35,  1.63s/it]"
     ]
    },
    {
     "name": "stderr",
     "output_type": "stream",
     "text": [
      "\r",
      " 67%|██████▋   | 346/514 [07:09<04:30,  1.61s/it]"
     ]
    },
    {
     "name": "stderr",
     "output_type": "stream",
     "text": [
      "\r",
      " 68%|██████▊   | 347/514 [07:11<04:21,  1.56s/it]"
     ]
    },
    {
     "name": "stderr",
     "output_type": "stream",
     "text": [
      "\r",
      " 68%|██████▊   | 348/514 [07:12<04:12,  1.52s/it]"
     ]
    },
    {
     "name": "stderr",
     "output_type": "stream",
     "text": [
      "\r",
      " 68%|██████▊   | 349/514 [07:14<04:18,  1.57s/it]"
     ]
    },
    {
     "name": "stderr",
     "output_type": "stream",
     "text": [
      "\r",
      " 68%|██████▊   | 350/514 [07:15<04:13,  1.54s/it]"
     ]
    },
    {
     "name": "stderr",
     "output_type": "stream",
     "text": [
      "\r",
      " 68%|██████▊   | 351/514 [07:17<04:25,  1.63s/it]"
     ]
    },
    {
     "name": "stderr",
     "output_type": "stream",
     "text": [
      "\r",
      " 68%|██████▊   | 352/514 [07:18<04:12,  1.56s/it]"
     ]
    },
    {
     "name": "stderr",
     "output_type": "stream",
     "text": [
      "\r",
      " 69%|██████▊   | 353/514 [07:20<04:18,  1.60s/it]"
     ]
    },
    {
     "name": "stderr",
     "output_type": "stream",
     "text": [
      "\r",
      " 69%|██████▉   | 354/514 [07:22<04:19,  1.62s/it]"
     ]
    },
    {
     "name": "stderr",
     "output_type": "stream",
     "text": [
      "\r",
      " 69%|██████▉   | 355/514 [07:23<04:04,  1.54s/it]"
     ]
    },
    {
     "name": "stderr",
     "output_type": "stream",
     "text": [
      "\r",
      " 69%|██████▉   | 356/514 [07:24<03:54,  1.49s/it]"
     ]
    },
    {
     "name": "stderr",
     "output_type": "stream",
     "text": [
      "\r",
      " 69%|██████▉   | 357/514 [07:26<03:40,  1.41s/it]"
     ]
    },
    {
     "name": "stderr",
     "output_type": "stream",
     "text": [
      "\r",
      " 70%|██████▉   | 358/514 [07:27<03:27,  1.33s/it]"
     ]
    },
    {
     "name": "stderr",
     "output_type": "stream",
     "text": [
      "\r",
      " 70%|██████▉   | 359/514 [07:29<03:48,  1.48s/it]"
     ]
    },
    {
     "name": "stderr",
     "output_type": "stream",
     "text": [
      "\r",
      " 70%|███████   | 360/514 [07:30<03:20,  1.30s/it]"
     ]
    },
    {
     "name": "stderr",
     "output_type": "stream",
     "text": [
      "\r",
      " 70%|███████   | 361/514 [07:31<03:17,  1.29s/it]"
     ]
    },
    {
     "name": "stderr",
     "output_type": "stream",
     "text": [
      "\r",
      " 70%|███████   | 362/514 [07:32<03:31,  1.39s/it]"
     ]
    },
    {
     "name": "stderr",
     "output_type": "stream",
     "text": [
      "\r",
      " 71%|███████   | 363/514 [07:34<03:25,  1.36s/it]"
     ]
    },
    {
     "name": "stderr",
     "output_type": "stream",
     "text": [
      "\r",
      " 71%|███████   | 364/514 [07:35<03:37,  1.45s/it]"
     ]
    },
    {
     "name": "stderr",
     "output_type": "stream",
     "text": [
      "\r",
      " 71%|███████   | 365/514 [07:37<03:45,  1.51s/it]"
     ]
    },
    {
     "name": "stderr",
     "output_type": "stream",
     "text": [
      "\r",
      " 71%|███████   | 366/514 [07:39<04:01,  1.63s/it]"
     ]
    },
    {
     "name": "stderr",
     "output_type": "stream",
     "text": [
      "\r",
      " 71%|███████▏  | 367/514 [07:41<04:11,  1.71s/it]"
     ]
    },
    {
     "name": "stderr",
     "output_type": "stream",
     "text": [
      "\r",
      " 72%|███████▏  | 368/514 [07:42<03:49,  1.57s/it]"
     ]
    },
    {
     "name": "stderr",
     "output_type": "stream",
     "text": [
      "\r",
      " 72%|███████▏  | 369/514 [07:44<03:59,  1.65s/it]"
     ]
    },
    {
     "name": "stderr",
     "output_type": "stream",
     "text": [
      "\r",
      " 72%|███████▏  | 370/514 [07:45<03:15,  1.36s/it]"
     ]
    },
    {
     "name": "stderr",
     "output_type": "stream",
     "text": [
      "\r",
      " 72%|███████▏  | 371/514 [07:45<02:45,  1.16s/it]"
     ]
    },
    {
     "name": "stderr",
     "output_type": "stream",
     "text": [
      "\r",
      " 72%|███████▏  | 372/514 [07:47<03:10,  1.34s/it]"
     ]
    },
    {
     "name": "stderr",
     "output_type": "stream",
     "text": [
      "\r",
      " 73%|███████▎  | 373/514 [07:49<03:30,  1.49s/it]"
     ]
    },
    {
     "name": "stderr",
     "output_type": "stream",
     "text": [
      "\r",
      " 73%|███████▎  | 374/514 [07:51<03:51,  1.66s/it]"
     ]
    },
    {
     "name": "stderr",
     "output_type": "stream",
     "text": [
      "\r",
      " 73%|███████▎  | 375/514 [07:53<03:55,  1.70s/it]"
     ]
    },
    {
     "name": "stderr",
     "output_type": "stream",
     "text": [
      "\r",
      " 73%|███████▎  | 376/514 [07:54<03:54,  1.70s/it]"
     ]
    },
    {
     "name": "stderr",
     "output_type": "stream",
     "text": [
      "\r",
      " 73%|███████▎  | 377/514 [07:56<03:59,  1.75s/it]"
     ]
    },
    {
     "name": "stderr",
     "output_type": "stream",
     "text": [
      "\r",
      " 74%|███████▎  | 378/514 [07:58<03:54,  1.72s/it]"
     ]
    },
    {
     "name": "stderr",
     "output_type": "stream",
     "text": [
      "\r",
      " 74%|███████▎  | 379/514 [08:00<04:01,  1.79s/it]"
     ]
    },
    {
     "name": "stderr",
     "output_type": "stream",
     "text": [
      "\r",
      " 74%|███████▍  | 380/514 [08:02<04:01,  1.80s/it]"
     ]
    },
    {
     "name": "stderr",
     "output_type": "stream",
     "text": [
      "\r",
      " 74%|███████▍  | 381/514 [08:02<03:14,  1.47s/it]"
     ]
    },
    {
     "name": "stderr",
     "output_type": "stream",
     "text": [
      "\r",
      " 74%|███████▍  | 382/514 [08:04<03:22,  1.53s/it]"
     ]
    },
    {
     "name": "stderr",
     "output_type": "stream",
     "text": [
      "\r",
      " 75%|███████▍  | 383/514 [08:06<03:30,  1.60s/it]"
     ]
    },
    {
     "name": "stderr",
     "output_type": "stream",
     "text": [
      "\r",
      " 75%|███████▍  | 384/514 [08:07<03:26,  1.59s/it]"
     ]
    },
    {
     "name": "stderr",
     "output_type": "stream",
     "text": [
      "\r",
      " 75%|███████▍  | 385/514 [08:09<03:20,  1.55s/it]"
     ]
    },
    {
     "name": "stderr",
     "output_type": "stream",
     "text": [
      "\r",
      " 75%|███████▌  | 386/514 [08:10<03:02,  1.42s/it]"
     ]
    },
    {
     "name": "stderr",
     "output_type": "stream",
     "text": [
      "\r",
      " 75%|███████▌  | 387/514 [08:12<03:13,  1.53s/it]"
     ]
    },
    {
     "name": "stderr",
     "output_type": "stream",
     "text": [
      "\r",
      " 75%|███████▌  | 388/514 [08:13<02:41,  1.28s/it]"
     ]
    },
    {
     "name": "stderr",
     "output_type": "stream",
     "text": [
      "\r",
      " 76%|███████▌  | 389/514 [08:14<03:00,  1.44s/it]"
     ]
    },
    {
     "name": "stderr",
     "output_type": "stream",
     "text": [
      "\r",
      " 76%|███████▌  | 390/514 [08:16<03:12,  1.55s/it]"
     ]
    },
    {
     "name": "stderr",
     "output_type": "stream",
     "text": [
      "\r",
      " 76%|███████▌  | 391/514 [08:18<03:24,  1.67s/it]"
     ]
    },
    {
     "name": "stderr",
     "output_type": "stream",
     "text": [
      "\r",
      " 76%|███████▋  | 392/514 [08:19<03:10,  1.56s/it]"
     ]
    },
    {
     "name": "stderr",
     "output_type": "stream",
     "text": [
      "\r",
      " 76%|███████▋  | 393/514 [08:21<03:18,  1.64s/it]"
     ]
    },
    {
     "name": "stderr",
     "output_type": "stream",
     "text": [
      "\r",
      " 77%|███████▋  | 394/514 [08:23<03:20,  1.67s/it]"
     ]
    },
    {
     "name": "stderr",
     "output_type": "stream",
     "text": [
      "\r",
      " 77%|███████▋  | 395/514 [08:25<03:18,  1.67s/it]"
     ]
    },
    {
     "name": "stderr",
     "output_type": "stream",
     "text": [
      "\r",
      " 77%|███████▋  | 396/514 [08:26<03:19,  1.69s/it]"
     ]
    },
    {
     "name": "stderr",
     "output_type": "stream",
     "text": [
      "\r",
      " 77%|███████▋  | 397/514 [08:28<03:06,  1.60s/it]"
     ]
    },
    {
     "name": "stderr",
     "output_type": "stream",
     "text": [
      "\r",
      " 77%|███████▋  | 398/514 [08:30<03:11,  1.65s/it]"
     ]
    },
    {
     "name": "stderr",
     "output_type": "stream",
     "text": [
      "\r",
      " 78%|███████▊  | 399/514 [08:31<03:16,  1.71s/it]"
     ]
    },
    {
     "name": "stderr",
     "output_type": "stream",
     "text": [
      "\r",
      " 78%|███████▊  | 400/514 [08:33<03:22,  1.77s/it]"
     ]
    },
    {
     "name": "stderr",
     "output_type": "stream",
     "text": [
      "\r",
      " 78%|███████▊  | 401/514 [08:35<03:07,  1.66s/it]"
     ]
    },
    {
     "name": "stderr",
     "output_type": "stream",
     "text": [
      "\r",
      " 78%|███████▊  | 402/514 [08:37<03:11,  1.71s/it]"
     ]
    },
    {
     "name": "stderr",
     "output_type": "stream",
     "text": [
      "\r",
      " 78%|███████▊  | 403/514 [08:38<03:18,  1.79s/it]"
     ]
    },
    {
     "name": "stderr",
     "output_type": "stream",
     "text": [
      "\r",
      " 79%|███████▊  | 404/514 [08:40<03:09,  1.73s/it]"
     ]
    },
    {
     "name": "stderr",
     "output_type": "stream",
     "text": [
      "\r",
      " 79%|███████▉  | 405/514 [08:42<03:00,  1.65s/it]"
     ]
    },
    {
     "name": "stderr",
     "output_type": "stream",
     "text": [
      "\r",
      " 79%|███████▉  | 406/514 [08:43<03:02,  1.69s/it]"
     ]
    },
    {
     "name": "stderr",
     "output_type": "stream",
     "text": [
      "\r",
      " 79%|███████▉  | 407/514 [08:45<03:05,  1.73s/it]"
     ]
    },
    {
     "name": "stderr",
     "output_type": "stream",
     "text": [
      "\r",
      " 79%|███████▉  | 408/514 [08:46<02:36,  1.48s/it]"
     ]
    },
    {
     "name": "stderr",
     "output_type": "stream",
     "text": [
      "\r",
      " 80%|███████▉  | 409/514 [08:48<02:46,  1.58s/it]"
     ]
    },
    {
     "name": "stderr",
     "output_type": "stream",
     "text": [
      "\r",
      " 80%|███████▉  | 410/514 [08:49<02:36,  1.51s/it]"
     ]
    },
    {
     "name": "stderr",
     "output_type": "stream",
     "text": [
      "\r",
      " 80%|███████▉  | 411/514 [08:51<02:41,  1.57s/it]"
     ]
    },
    {
     "name": "stderr",
     "output_type": "stream",
     "text": [
      "\r",
      " 80%|████████  | 412/514 [08:53<02:40,  1.58s/it]"
     ]
    },
    {
     "name": "stderr",
     "output_type": "stream",
     "text": [
      "\r",
      " 80%|████████  | 413/514 [08:54<02:41,  1.60s/it]"
     ]
    },
    {
     "name": "stderr",
     "output_type": "stream",
     "text": [
      "\r",
      " 81%|████████  | 414/514 [08:56<02:33,  1.54s/it]"
     ]
    },
    {
     "name": "stderr",
     "output_type": "stream",
     "text": [
      "\r",
      " 81%|████████  | 415/514 [08:57<02:26,  1.48s/it]"
     ]
    },
    {
     "name": "stderr",
     "output_type": "stream",
     "text": [
      "\r",
      " 81%|████████  | 416/514 [08:59<02:32,  1.55s/it]"
     ]
    },
    {
     "name": "stderr",
     "output_type": "stream",
     "text": [
      "\r",
      " 81%|████████  | 417/514 [08:59<02:04,  1.29s/it]"
     ]
    },
    {
     "name": "stderr",
     "output_type": "stream",
     "text": [
      "\r",
      " 81%|████████▏ | 418/514 [09:01<02:01,  1.27s/it]"
     ]
    },
    {
     "name": "stderr",
     "output_type": "stream",
     "text": [
      "\r",
      " 82%|████████▏ | 419/514 [09:02<02:12,  1.39s/it]"
     ]
    },
    {
     "name": "stderr",
     "output_type": "stream",
     "text": [
      "\r",
      " 82%|████████▏ | 420/514 [09:04<02:11,  1.39s/it]"
     ]
    },
    {
     "name": "stderr",
     "output_type": "stream",
     "text": [
      "\r",
      " 82%|████████▏ | 421/514 [09:05<02:09,  1.39s/it]"
     ]
    },
    {
     "name": "stderr",
     "output_type": "stream",
     "text": [
      "\r",
      " 82%|████████▏ | 422/514 [09:06<02:02,  1.33s/it]"
     ]
    },
    {
     "name": "stderr",
     "output_type": "stream",
     "text": [
      "\r",
      " 82%|████████▏ | 423/514 [09:08<02:14,  1.48s/it]"
     ]
    },
    {
     "name": "stderr",
     "output_type": "stream",
     "text": [
      "\r",
      " 82%|████████▏ | 424/514 [09:10<02:19,  1.55s/it]"
     ]
    },
    {
     "name": "stderr",
     "output_type": "stream",
     "text": [
      "\r",
      " 83%|████████▎ | 425/514 [09:12<02:25,  1.63s/it]"
     ]
    },
    {
     "name": "stderr",
     "output_type": "stream",
     "text": [
      "\r",
      " 83%|████████▎ | 426/514 [09:13<02:26,  1.67s/it]"
     ]
    },
    {
     "name": "stderr",
     "output_type": "stream",
     "text": [
      "\r",
      " 83%|████████▎ | 427/514 [09:15<02:24,  1.67s/it]"
     ]
    },
    {
     "name": "stderr",
     "output_type": "stream",
     "text": [
      "R[write to console]: Error in solve.default(qr.R(qr.VT)) : \n",
      "  Lapack routine dgesv: system is exactly singular: U[1,1] = 0\n",
      "\n"
     ]
    },
    {
     "name": "stderr",
     "output_type": "stream",
     "text": [
      "R[write to console]: Timing stopped at: 0.479 0.004 0.482\n",
      "\n"
     ]
    },
    {
     "name": "stderr",
     "output_type": "stream",
     "text": [
      "\r",
      " 83%|████████▎ | 428/514 [09:16<01:56,  1.36s/it]"
     ]
    },
    {
     "name": "stderr",
     "output_type": "stream",
     "text": [
      "\r",
      " 83%|████████▎ | 429/514 [09:17<02:09,  1.52s/it]"
     ]
    },
    {
     "name": "stderr",
     "output_type": "stream",
     "text": [
      "\r",
      " 84%|████████▎ | 430/514 [09:19<02:13,  1.59s/it]"
     ]
    },
    {
     "name": "stderr",
     "output_type": "stream",
     "text": [
      "\r",
      " 84%|████████▍ | 431/514 [09:20<01:49,  1.32s/it]"
     ]
    },
    {
     "name": "stderr",
     "output_type": "stream",
     "text": [
      "\r",
      " 84%|████████▍ | 432/514 [09:22<01:56,  1.42s/it]"
     ]
    },
    {
     "name": "stderr",
     "output_type": "stream",
     "text": [
      "\r",
      " 84%|████████▍ | 433/514 [09:23<01:58,  1.46s/it]"
     ]
    },
    {
     "name": "stderr",
     "output_type": "stream",
     "text": [
      "\r",
      " 84%|████████▍ | 434/514 [09:24<01:44,  1.31s/it]"
     ]
    },
    {
     "name": "stderr",
     "output_type": "stream",
     "text": [
      "\r",
      " 85%|████████▍ | 435/514 [09:26<01:56,  1.47s/it]"
     ]
    },
    {
     "name": "stderr",
     "output_type": "stream",
     "text": [
      "\r",
      " 85%|████████▍ | 436/514 [09:28<02:01,  1.56s/it]"
     ]
    },
    {
     "name": "stderr",
     "output_type": "stream",
     "text": [
      "\r",
      " 85%|████████▌ | 437/514 [09:29<02:03,  1.61s/it]"
     ]
    },
    {
     "name": "stderr",
     "output_type": "stream",
     "text": [
      "\r",
      " 85%|████████▌ | 438/514 [09:31<02:08,  1.69s/it]"
     ]
    },
    {
     "name": "stderr",
     "output_type": "stream",
     "text": [
      "\r",
      " 85%|████████▌ | 439/514 [09:33<02:04,  1.66s/it]"
     ]
    },
    {
     "name": "stderr",
     "output_type": "stream",
     "text": [
      "\r",
      " 86%|████████▌ | 440/514 [09:35<02:05,  1.70s/it]"
     ]
    },
    {
     "name": "stderr",
     "output_type": "stream",
     "text": [
      "\r",
      " 86%|████████▌ | 441/514 [09:35<01:43,  1.42s/it]"
     ]
    },
    {
     "name": "stderr",
     "output_type": "stream",
     "text": [
      "\r",
      " 86%|████████▌ | 442/514 [09:37<01:48,  1.50s/it]"
     ]
    },
    {
     "name": "stderr",
     "output_type": "stream",
     "text": [
      "\r",
      " 86%|████████▌ | 443/514 [09:39<01:54,  1.62s/it]"
     ]
    },
    {
     "name": "stderr",
     "output_type": "stream",
     "text": [
      "\r",
      " 86%|████████▋ | 444/514 [09:41<01:49,  1.57s/it]"
     ]
    },
    {
     "name": "stderr",
     "output_type": "stream",
     "text": [
      "\r",
      " 87%|████████▋ | 445/514 [09:42<01:52,  1.64s/it]"
     ]
    },
    {
     "name": "stderr",
     "output_type": "stream",
     "text": [
      "\r",
      " 87%|████████▋ | 446/514 [09:44<01:57,  1.72s/it]"
     ]
    },
    {
     "name": "stderr",
     "output_type": "stream",
     "text": [
      "\r",
      " 87%|████████▋ | 447/514 [09:46<01:56,  1.75s/it]"
     ]
    },
    {
     "name": "stderr",
     "output_type": "stream",
     "text": [
      "\r",
      " 87%|████████▋ | 448/514 [09:48<01:53,  1.72s/it]"
     ]
    },
    {
     "name": "stderr",
     "output_type": "stream",
     "text": [
      "\r",
      " 87%|████████▋ | 449/514 [09:49<01:34,  1.46s/it]"
     ]
    },
    {
     "name": "stderr",
     "output_type": "stream",
     "text": [
      "\r",
      " 88%|████████▊ | 450/514 [09:50<01:35,  1.49s/it]"
     ]
    },
    {
     "name": "stderr",
     "output_type": "stream",
     "text": [
      "\r",
      " 88%|████████▊ | 451/514 [09:52<01:37,  1.55s/it]"
     ]
    },
    {
     "name": "stderr",
     "output_type": "stream",
     "text": [
      "\r",
      " 88%|████████▊ | 452/514 [09:54<01:40,  1.62s/it]"
     ]
    },
    {
     "name": "stderr",
     "output_type": "stream",
     "text": [
      "\r",
      " 88%|████████▊ | 453/514 [09:55<01:35,  1.57s/it]"
     ]
    },
    {
     "name": "stderr",
     "output_type": "stream",
     "text": [
      "\r",
      " 88%|████████▊ | 454/514 [09:57<01:42,  1.71s/it]"
     ]
    },
    {
     "name": "stderr",
     "output_type": "stream",
     "text": [
      "\r",
      " 89%|████████▊ | 455/514 [09:59<01:37,  1.65s/it]"
     ]
    },
    {
     "name": "stderr",
     "output_type": "stream",
     "text": [
      "\r",
      " 89%|████████▊ | 456/514 [10:00<01:40,  1.73s/it]"
     ]
    },
    {
     "name": "stderr",
     "output_type": "stream",
     "text": [
      "\r",
      " 89%|████████▉ | 457/514 [10:02<01:31,  1.61s/it]"
     ]
    },
    {
     "name": "stderr",
     "output_type": "stream",
     "text": [
      "\r",
      " 89%|████████▉ | 458/514 [10:03<01:18,  1.40s/it]"
     ]
    },
    {
     "name": "stderr",
     "output_type": "stream",
     "text": [
      "\r",
      " 89%|████████▉ | 459/514 [10:04<01:23,  1.51s/it]"
     ]
    },
    {
     "name": "stderr",
     "output_type": "stream",
     "text": [
      "\r",
      " 89%|████████▉ | 460/514 [10:06<01:19,  1.48s/it]"
     ]
    },
    {
     "name": "stderr",
     "output_type": "stream",
     "text": [
      "\r",
      " 90%|████████▉ | 461/514 [10:08<01:35,  1.81s/it]"
     ]
    },
    {
     "name": "stderr",
     "output_type": "stream",
     "text": [
      "\r",
      " 90%|████████▉ | 462/514 [10:10<01:27,  1.69s/it]"
     ]
    },
    {
     "name": "stderr",
     "output_type": "stream",
     "text": [
      "\r",
      " 90%|█████████ | 463/514 [10:11<01:24,  1.66s/it]"
     ]
    },
    {
     "name": "stderr",
     "output_type": "stream",
     "text": [
      "\r",
      " 90%|█████████ | 464/514 [10:12<01:11,  1.44s/it]"
     ]
    },
    {
     "name": "stderr",
     "output_type": "stream",
     "text": [
      "\r",
      " 90%|█████████ | 465/514 [10:14<01:11,  1.46s/it]"
     ]
    },
    {
     "name": "stderr",
     "output_type": "stream",
     "text": [
      "\r",
      " 91%|█████████ | 466/514 [10:15<01:10,  1.48s/it]"
     ]
    },
    {
     "name": "stderr",
     "output_type": "stream",
     "text": [
      "\r",
      " 91%|█████████ | 467/514 [10:18<01:20,  1.72s/it]"
     ]
    },
    {
     "name": "stderr",
     "output_type": "stream",
     "text": [
      "\r",
      " 91%|█████████ | 468/514 [10:19<01:17,  1.69s/it]"
     ]
    },
    {
     "name": "stderr",
     "output_type": "stream",
     "text": [
      "\r",
      " 91%|█████████ | 469/514 [10:21<01:17,  1.72s/it]"
     ]
    },
    {
     "name": "stderr",
     "output_type": "stream",
     "text": [
      "\r",
      " 91%|█████████▏| 470/514 [10:22<01:07,  1.54s/it]"
     ]
    },
    {
     "name": "stderr",
     "output_type": "stream",
     "text": [
      "\r",
      " 92%|█████████▏| 471/514 [10:24<01:14,  1.72s/it]"
     ]
    },
    {
     "name": "stderr",
     "output_type": "stream",
     "text": [
      "\r",
      " 92%|█████████▏| 472/514 [10:27<01:21,  1.94s/it]"
     ]
    },
    {
     "name": "stderr",
     "output_type": "stream",
     "text": [
      "\r",
      " 92%|█████████▏| 473/514 [10:28<01:14,  1.82s/it]"
     ]
    },
    {
     "name": "stderr",
     "output_type": "stream",
     "text": [
      "\r",
      " 92%|█████████▏| 474/514 [10:30<01:07,  1.68s/it]"
     ]
    },
    {
     "name": "stderr",
     "output_type": "stream",
     "text": [
      "\r",
      " 92%|█████████▏| 475/514 [10:31<01:01,  1.58s/it]"
     ]
    },
    {
     "name": "stderr",
     "output_type": "stream",
     "text": [
      "\r",
      " 93%|█████████▎| 476/514 [10:33<01:03,  1.68s/it]"
     ]
    },
    {
     "name": "stderr",
     "output_type": "stream",
     "text": [
      "\r",
      " 93%|█████████▎| 477/514 [10:35<01:10,  1.90s/it]"
     ]
    },
    {
     "name": "stderr",
     "output_type": "stream",
     "text": [
      "\r",
      " 93%|█████████▎| 478/514 [10:38<01:16,  2.12s/it]"
     ]
    },
    {
     "name": "stderr",
     "output_type": "stream",
     "text": [
      "\r",
      " 93%|█████████▎| 479/514 [10:40<01:12,  2.06s/it]"
     ]
    },
    {
     "name": "stderr",
     "output_type": "stream",
     "text": [
      "\r",
      " 93%|█████████▎| 480/514 [10:41<01:04,  1.89s/it]"
     ]
    },
    {
     "name": "stderr",
     "output_type": "stream",
     "text": [
      "\r",
      " 94%|█████████▎| 481/514 [10:43<01:01,  1.85s/it]"
     ]
    },
    {
     "name": "stderr",
     "output_type": "stream",
     "text": [
      "\r",
      " 94%|█████████▍| 482/514 [10:45<01:02,  1.95s/it]"
     ]
    },
    {
     "name": "stderr",
     "output_type": "stream",
     "text": [
      "\r",
      " 94%|█████████▍| 483/514 [10:47<01:00,  1.94s/it]"
     ]
    },
    {
     "name": "stderr",
     "output_type": "stream",
     "text": [
      "\r",
      " 94%|█████████▍| 484/514 [10:49<00:52,  1.74s/it]"
     ]
    },
    {
     "name": "stderr",
     "output_type": "stream",
     "text": [
      "\r",
      " 94%|█████████▍| 485/514 [10:51<00:58,  2.02s/it]"
     ]
    },
    {
     "name": "stderr",
     "output_type": "stream",
     "text": [
      "\r",
      " 95%|█████████▍| 486/514 [10:53<00:53,  1.91s/it]"
     ]
    },
    {
     "name": "stderr",
     "output_type": "stream",
     "text": [
      "\r",
      " 95%|█████████▍| 487/514 [10:55<00:52,  1.94s/it]"
     ]
    },
    {
     "name": "stderr",
     "output_type": "stream",
     "text": [
      "\r",
      " 95%|█████████▍| 488/514 [10:57<00:53,  2.06s/it]"
     ]
    },
    {
     "name": "stderr",
     "output_type": "stream",
     "text": [
      "\r",
      " 95%|█████████▌| 489/514 [11:00<00:55,  2.23s/it]"
     ]
    },
    {
     "name": "stderr",
     "output_type": "stream",
     "text": [
      "\r",
      " 95%|█████████▌| 490/514 [11:02<00:50,  2.10s/it]"
     ]
    },
    {
     "name": "stderr",
     "output_type": "stream",
     "text": [
      "\r",
      " 96%|█████████▌| 491/514 [11:04<00:48,  2.10s/it]"
     ]
    },
    {
     "name": "stderr",
     "output_type": "stream",
     "text": [
      "\r",
      " 96%|█████████▌| 492/514 [11:06<00:45,  2.06s/it]"
     ]
    },
    {
     "name": "stderr",
     "output_type": "stream",
     "text": [
      "\r",
      " 96%|█████████▌| 493/514 [11:08<00:43,  2.07s/it]"
     ]
    },
    {
     "name": "stderr",
     "output_type": "stream",
     "text": [
      "\r",
      " 96%|█████████▌| 494/514 [11:10<00:44,  2.21s/it]"
     ]
    },
    {
     "name": "stderr",
     "output_type": "stream",
     "text": [
      "\r",
      " 96%|█████████▋| 495/514 [11:13<00:43,  2.28s/it]"
     ]
    },
    {
     "name": "stderr",
     "output_type": "stream",
     "text": [
      "\r",
      " 96%|█████████▋| 496/514 [11:15<00:40,  2.27s/it]"
     ]
    },
    {
     "name": "stderr",
     "output_type": "stream",
     "text": [
      "\r",
      " 97%|█████████▋| 497/514 [11:18<00:40,  2.38s/it]"
     ]
    },
    {
     "name": "stderr",
     "output_type": "stream",
     "text": [
      "\r",
      " 97%|█████████▋| 498/514 [11:20<00:36,  2.27s/it]"
     ]
    },
    {
     "name": "stderr",
     "output_type": "stream",
     "text": [
      "\r",
      " 97%|█████████▋| 499/514 [11:22<00:36,  2.42s/it]"
     ]
    },
    {
     "name": "stderr",
     "output_type": "stream",
     "text": [
      "\r",
      " 97%|█████████▋| 500/514 [11:25<00:32,  2.33s/it]"
     ]
    },
    {
     "name": "stderr",
     "output_type": "stream",
     "text": [
      "\r",
      " 97%|█████████▋| 501/514 [11:27<00:32,  2.49s/it]"
     ]
    },
    {
     "name": "stderr",
     "output_type": "stream",
     "text": [
      "\r",
      " 98%|█████████▊| 502/514 [11:30<00:30,  2.51s/it]"
     ]
    },
    {
     "name": "stderr",
     "output_type": "stream",
     "text": [
      "\r",
      " 98%|█████████▊| 503/514 [11:33<00:27,  2.54s/it]"
     ]
    },
    {
     "name": "stderr",
     "output_type": "stream",
     "text": [
      "\r",
      " 98%|█████████▊| 504/514 [11:35<00:26,  2.61s/it]"
     ]
    },
    {
     "name": "stderr",
     "output_type": "stream",
     "text": [
      "\r",
      " 98%|█████████▊| 505/514 [11:38<00:23,  2.63s/it]"
     ]
    },
    {
     "name": "stderr",
     "output_type": "stream",
     "text": [
      "\r",
      " 98%|█████████▊| 506/514 [11:41<00:22,  2.78s/it]"
     ]
    },
    {
     "name": "stderr",
     "output_type": "stream",
     "text": [
      "\r",
      " 99%|█████████▊| 507/514 [11:45<00:20,  2.98s/it]"
     ]
    },
    {
     "name": "stderr",
     "output_type": "stream",
     "text": [
      "\r",
      " 99%|█████████▉| 508/514 [11:48<00:17,  2.98s/it]"
     ]
    },
    {
     "name": "stderr",
     "output_type": "stream",
     "text": [
      "\r",
      " 99%|█████████▉| 509/514 [11:50<00:13,  2.77s/it]"
     ]
    },
    {
     "name": "stderr",
     "output_type": "stream",
     "text": [
      "\r",
      " 99%|█████████▉| 510/514 [11:53<00:11,  2.81s/it]"
     ]
    },
    {
     "name": "stderr",
     "output_type": "stream",
     "text": [
      "\r",
      " 99%|█████████▉| 511/514 [11:56<00:08,  2.87s/it]"
     ]
    },
    {
     "name": "stderr",
     "output_type": "stream",
     "text": [
      "\r",
      "100%|█████████▉| 512/514 [11:58<00:05,  2.63s/it]"
     ]
    },
    {
     "name": "stderr",
     "output_type": "stream",
     "text": [
      "\r",
      "100%|█████████▉| 513/514 [12:00<00:02,  2.54s/it]"
     ]
    },
    {
     "name": "stderr",
     "output_type": "stream",
     "text": [
      "\r",
      "100%|██████████| 514/514 [12:03<00:00,  2.50s/it]"
     ]
    },
    {
     "name": "stderr",
     "output_type": "stream",
     "text": [
      "\r",
      "100%|██████████| 514/514 [12:05<00:00,  1.41s/it]"
     ]
    },
    {
     "name": "stderr",
     "output_type": "stream",
     "text": [
      "\n"
     ]
    }
   ],
   "source": [
    "ratio_field = rkrig_r(df_south, 30, ds, station_dv)\n",
    "ratio_field[~mask] = np.nan"
   ]
  },
  {
   "cell_type": "markdown",
   "metadata": {
    "papermill": {
     "duration": 0.124065,
     "end_time": "2020-12-18T22:08:37.713157",
     "exception": false,
     "start_time": "2020-12-18T22:08:37.589092",
     "status": "completed"
    },
    "tags": []
   },
   "source": [
    "Select the UAA strip to sample the reconstruction values from."
   ]
  },
  {
   "cell_type": "code",
   "execution_count": 12,
   "metadata": {
    "execution": {
     "iopub.execute_input": "2020-12-18T22:08:37.981471Z",
     "iopub.status.busy": "2020-12-18T22:08:37.980735Z",
     "iopub.status.idle": "2020-12-18T22:08:38.042526Z",
     "shell.execute_reply": "2020-12-18T22:08:38.041711Z"
    },
    "papermill": {
     "duration": 0.198552,
     "end_time": "2020-12-18T22:08:38.042801",
     "exception": false,
     "start_time": "2020-12-18T22:08:37.844249",
     "status": "completed"
    },
    "tags": []
   },
   "outputs": [],
   "source": [
    "selection = ~np.isnan(ds[dv].where((ds.lat > 72.) & (ds.lat < 73) & (ds.lon - 360 < -75) & (ds.lon - 360 > -127)))"
   ]
  },
  {
   "cell_type": "markdown",
   "metadata": {
    "papermill": {
     "duration": 0.130121,
     "end_time": "2020-12-18T22:08:38.307252",
     "exception": false,
     "start_time": "2020-12-18T22:08:38.177131",
     "status": "completed"
    },
    "tags": []
   },
   "source": [
    "Fill and reconstruct the ratio field."
   ]
  },
  {
   "cell_type": "code",
   "execution_count": 13,
   "metadata": {
    "execution": {
     "iopub.execute_input": "2020-12-18T22:08:38.589314Z",
     "iopub.status.busy": "2020-12-18T22:08:38.588698Z",
     "iopub.status.idle": "2020-12-18T22:08:46.716404Z",
     "shell.execute_reply": "2020-12-18T22:08:46.717119Z"
    },
    "papermill": {
     "duration": 8.266989,
     "end_time": "2020-12-18T22:08:46.717433",
     "exception": false,
     "start_time": "2020-12-18T22:08:38.450444",
     "status": "completed"
    },
    "tags": []
   },
   "outputs": [],
   "source": [
    "nanmask = ~np.isnan(ratio_field)\n",
    "\n",
    "points = np.stack([rlon[nanmask], rlat[nanmask]]).T\n",
    "target_points = np.stack([rlon[nanmask^mask], rlat[nanmask^mask]]).T\n",
    "\n",
    "# We treat TJul2.5 and TwJul2.5 slightly differently than the other DVs\n",
    "# since an artefact appears in SW Yukon in the CanRCM4 models. Since\n",
    "# stations happen to be close to coastlines for this DV, we directly\n",
    "# fill with the nearest reconstructed value, as opposed to the ratio value for \n",
    "# the remaining DVs\n",
    "if station_dv == \"TJul2.5 (degC)\" or station_dv == \"TwJul2.5 (degC)\":\n",
    "    reconstructed_field = ratio_field*mean_corrected.copy()\n",
    "    target_values = reconstructed_field[nanmask]\n",
    "    reconstructed_field[nanmask^mask] = interpolate_dataset(points, target_values, target_points, 'nearest')\n",
    "else:\n",
    "    target_values = ratio_field[nanmask]\n",
    "    ratio_field[nanmask^mask] = interpolate_dataset(points, target_values, target_points, 'nearest')\n",
    "    reconstructed_field = ratio_field*mean_corrected.copy()\n",
    "\n",
    "reconstructed_field_strip_mean = np.nanmean(reconstructed_field[selection])\n",
    "combined_ratio_station_mean = np.mean([reconstructed_field_strip_mean, UAA_station_mean])\n",
    "reconstructed_field[northern_mask] = combined_ratio_station_mean"
   ]
  },
  {
   "cell_type": "markdown",
   "metadata": {
    "papermill": {
     "duration": 0.146205,
     "end_time": "2020-12-18T22:08:47.029450",
     "exception": false,
     "start_time": "2020-12-18T22:08:46.883245",
     "status": "completed"
    },
    "tags": []
   },
   "source": [
    "Compare kriged ratio values at station grids, with the original ratio values at station krids"
   ]
  },
  {
   "cell_type": "code",
   "execution_count": 14,
   "metadata": {
    "execution": {
     "iopub.execute_input": "2020-12-18T22:08:47.329394Z",
     "iopub.status.busy": "2020-12-18T22:08:47.328694Z",
     "iopub.status.idle": "2020-12-18T22:08:47.633280Z",
     "shell.execute_reply": "2020-12-18T22:08:47.632852Z"
    },
    "papermill": {
     "duration": 0.476585,
     "end_time": "2020-12-18T22:08:47.633428",
     "exception": false,
     "start_time": "2020-12-18T22:08:47.156843",
     "status": "completed"
    },
    "tags": []
   },
   "outputs": [
    {
     "data": {
      "text/plain": [
       "<AxesSubplot:title={'center':'SL50 Distributions of Results'}, xlabel='Ratios at Station Grid Cells (i)'>"
      ]
     },
     "execution_count": 14,
     "metadata": {},
     "output_type": "execute_result"
    },
    {
     "data": {
      "image/png": "[encoded data removed]",
      "text/plain": [
       "<Figure size 576x324 with 1 Axes>"
      ]
     },
     "metadata": {},
     "output_type": "display_data"
    }
   ],
   "source": [
    "import seaborn as sns\n",
    "\n",
    "sns.set_theme(style=\"whitegrid\")\n",
    "\n",
    "fig, ax = plt.subplots(figsize=(8, 4.5))\n",
    "\n",
    "violindata = np.concatenate([df.ratio, ratio_field[df.irlat, df.irlon]])\n",
    "\n",
    "b_str = [\"B\" for x in df.ratio.values]\n",
    "bp_str = [\"B'\" for x in ratio_field[df.irlat, df.irlon]]\n",
    "\n",
    "vstrings = np.concatenate([b_str, bp_str])\n",
    "vdf = pd.DataFrame({\"Ratios at Station Grid Cells (i)\": violindata, '': vstrings})\n",
    "\n",
    "ax.set_title(f\"{name} Distributions of Results\", fontsize=20)\n",
    "sns.violinplot(ax=ax, x=\"Ratios at Station Grid Cells (i)\", y='', data=vdf, palette=sns.color_palette('pastel'))"
   ]
  },
  {
   "cell_type": "markdown",
   "metadata": {
    "papermill": {
     "duration": 0.1388,
     "end_time": "2020-12-18T22:08:47.902387",
     "exception": false,
     "start_time": "2020-12-18T22:08:47.763587",
     "status": "completed"
    },
    "tags": []
   },
   "source": [
    "Summarize reconstruction stats"
   ]
  },
  {
   "cell_type": "code",
   "execution_count": 15,
   "metadata": {
    "execution": {
     "iopub.execute_input": "2020-12-18T22:08:48.174818Z",
     "iopub.status.busy": "2020-12-18T22:08:48.173617Z",
     "iopub.status.idle": "2020-12-18T22:08:48.191420Z",
     "shell.execute_reply": "2020-12-18T22:08:48.192287Z"
    },
    "papermill": {
     "duration": 0.164332,
     "end_time": "2020-12-18T22:08:48.192682",
     "exception": false,
     "start_time": "2020-12-18T22:08:48.028350",
     "status": "completed"
    },
    "tags": []
   },
   "outputs": [
    {
     "name": "stdout",
     "output_type": "stream",
     "text": [
      "Northern fill value:\n",
      "Reconstruction 1.9417615457625375 \n",
      "UAA_station_mean 1.5000000000000002 \n",
      "Combined 1.720880772881269\n"
     ]
    }
   ],
   "source": [
    "print(\n",
    "    \"Northern fill value:\"\n",
    "    \"\\n\"\n",
    "    \"Reconstruction\", reconstructed_field_strip_mean,\n",
    "    \"\\n\"\n",
    "    \"UAA_station_mean\", UAA_station_mean,\n",
    "    \"\\n\"\n",
    "    \"Combined\", combined_ratio_station_mean\n",
    ")"
   ]
  },
  {
   "cell_type": "markdown",
   "metadata": {
    "papermill": {
     "duration": 0.157587,
     "end_time": "2020-12-18T22:08:48.484710",
     "exception": false,
     "start_time": "2020-12-18T22:08:48.327123",
     "status": "completed"
    },
    "tags": []
   },
   "source": [
    "Convert back to degC if K was used in previous steps. Generate dataset."
   ]
  },
  {
   "cell_type": "code",
   "execution_count": 16,
   "metadata": {
    "execution": {
     "iopub.execute_input": "2020-12-18T22:08:48.800803Z",
     "iopub.status.busy": "2020-12-18T22:08:48.800098Z",
     "iopub.status.idle": "2020-12-18T22:08:48.824289Z",
     "shell.execute_reply": "2020-12-18T22:08:48.824770Z"
    },
    "papermill": {
     "duration": 0.211092,
     "end_time": "2020-12-18T22:08:48.825018",
     "exception": false,
     "start_time": "2020-12-18T22:08:48.613926",
     "status": "completed"
    },
    "tags": []
   },
   "outputs": [],
   "source": [
    "if ds[dv].attrs[\"units\"] == \"degC\" and \"degC\" in station_dv:\n",
    "    print(\"Convert back to degC\")\n",
    "    K = 273.15 # K\n",
    "    reconstructed_field -= K\n",
    "    df[station_dv] -= K\n",
    "#     ds[dv].attrs[\"units\"] = \"degC\"\n",
    "\n",
    "ds_recon = gen_dataset(dv, reconstructed_field, ds.rlat, ds.rlon, ds.lat, ds.lon, unit=ds[dv].attrs[\"units\"])"
   ]
  },
  {
   "cell_type": "markdown",
   "metadata": {
    "papermill": {
     "duration": 0.215537,
     "end_time": "2020-12-18T22:08:49.197055",
     "exception": false,
     "start_time": "2020-12-18T22:08:48.981518",
     "status": "completed"
    },
    "tags": []
   },
   "source": [
    "# Load in NBCC Tables for Comparisons"
   ]
  },
  {
   "cell_type": "code",
   "execution_count": 17,
   "metadata": {
    "execution": {
     "iopub.execute_input": "2020-12-18T22:08:49.588422Z",
     "iopub.status.busy": "2020-12-18T22:08:49.587929Z",
     "iopub.status.idle": "2020-12-18T22:08:49.731029Z",
     "shell.execute_reply": "2020-12-18T22:08:49.731470Z"
    },
    "papermill": {
     "duration": 0.282425,
     "end_time": "2020-12-18T22:08:49.731719",
     "exception": false,
     "start_time": "2020-12-18T22:08:49.449294",
     "status": "completed"
    },
    "tags": []
   },
   "outputs": [],
   "source": [
    "nrc_path = resource_filename(\"climpyrical\", nbcc_loc_path)\n",
    "df_nrc = pd.read_excel(nrc_path).iloc[:-1]\n",
    "\n",
    "# fill problem values with better values from 2015\n",
    "id_typo = df_nrc[(df_nrc['2020 Longitude'] > 0) | (df_nrc['2020 Latitude'] < 40)].index\n",
    "df_nrc.loc[id_typo, '2020 Longitude'] = df_nrc['2015 Long.'].values[id_typo]\n",
    "df_nrc.loc[id_typo, '2020 Latitude'] = df_nrc['2015 Lat.'].values[id_typo]\n",
    "\n",
    "# process to get the model values\n",
    "df_nrc.rename(columns={\"2020 Longitude\": \"lon\",\n",
    "                      \"2020 Latitude\": \"lat\"})\n",
    "\n",
    "df_nrc_matched = pd.DataFrame(\n",
    "    {\n",
    "     'Location': df_nrc.Location, \n",
    "     'Prov': df_nrc.Prov,\n",
    "     \"2020 Elev (m)\": df_nrc[\"2020 Elev (m)\"],\n",
    "     'lon': df_nrc['2020 Longitude'], \n",
    "     'lat': df_nrc['2020 Latitude']\n",
    "     }\n",
    "    \n",
    ")"
   ]
  },
  {
   "cell_type": "markdown",
   "metadata": {
    "papermill": {
     "duration": 0.155316,
     "end_time": "2020-12-18T22:08:50.056053",
     "exception": false,
     "start_time": "2020-12-18T22:08:49.900737",
     "status": "completed"
    },
    "tags": []
   },
   "source": [
    "__This step aims to correct the final field to the NBCC 2015 results.__\n",
    "\n",
    "This is configurable by setting `nbcc_median_correction` to True or False.\n",
    "\n",
    "1) Find the median of these values. Compute the difference, d = median(R) - median(NRC), and ratio, f = median(R)/median(NRC) \n",
    "\n",
    "2) For the non-temperature DVs and HDD, apply the multiplicative correction (1/f)*R_j over the entire reconstruction grid. For the temperature DVs, apply the correction as R_j - d"
   ]
  },
  {
   "cell_type": "code",
   "execution_count": 18,
   "metadata": {
    "execution": {
     "iopub.execute_input": "2020-12-18T22:08:50.331565Z",
     "iopub.status.busy": "2020-12-18T22:08:50.330584Z",
     "iopub.status.idle": "2020-12-18T22:08:52.797979Z",
     "shell.execute_reply": "2020-12-18T22:08:52.797436Z"
    },
    "papermill": {
     "duration": 2.605934,
     "end_time": "2020-12-18T22:08:52.798175",
     "exception": false,
     "start_time": "2020-12-18T22:08:50.192241",
     "status": "completed"
    },
    "tags": []
   },
   "outputs": [
    {
     "name": "stderr",
     "output_type": "stream",
     "text": [
      "INFO:root:Detect units: kPa\n"
     ]
    },
    {
     "name": "stderr",
     "output_type": "stream",
     "text": [
      "INFO:root:rlat or rlon not detected in input file.converting assumes WGS84 coords to rotated pole\n"
     ]
    },
    {
     "name": "stderr",
     "output_type": "stream",
     "text": [
      "INFO:root:Matching coordinates now\n"
     ]
    },
    {
     "name": "stderr",
     "output_type": "stream",
     "text": [
      "INFO:root:Locating corresponding model valuesInterpolating to nearest if matched model value is NaN\n"
     ]
    }
   ],
   "source": [
    "value = medians[\"value\"]\n",
    "action = medians[\"action\"]\n",
    "\n",
    "if action != \"add\" and action != \"multiply\" and action != \"None\":\n",
    "    raise ValueError(\"Please provide either add or multiply or None actions in config.\")\n",
    "\n",
    "    \n",
    "dfp = add_model_values(ds=ds_recon, df=df_nrc_matched)\n",
    "reconstructed_field_med = ds_recon[dv].values\n",
    "\n",
    "if nbcc_median_correction:\n",
    "    if value != \"None\" or action != \"None\":\n",
    "#         med_pcic = np.nanmedian(dfp[\"model_values\"])\n",
    "        med_pcic = np.nanmean(dfp[\"model_values\"])\n",
    "\n",
    "        if action == \"multiply\":\n",
    "            fr = med_pcic/value\n",
    "            reconstructed_field_med = (1/fr)*reconstructed_field_med\n",
    "            print(\"f:\", fr)\n",
    "        if action == \"add\":\n",
    "            d = med_pcic - value\n",
    "            reconstructed_field_med = reconstructed_field_med - d\n",
    "            print(\"d:\", d)"
   ]
  },
  {
   "cell_type": "markdown",
   "metadata": {
    "papermill": {
     "duration": 0.247389,
     "end_time": "2020-12-18T22:08:53.202677",
     "exception": false,
     "start_time": "2020-12-18T22:08:52.955288",
     "status": "completed"
    },
    "tags": []
   },
   "source": [
    "Re-create dataset if median correction applied"
   ]
  },
  {
   "cell_type": "code",
   "execution_count": 19,
   "metadata": {
    "execution": {
     "iopub.execute_input": "2020-12-18T22:08:53.498714Z",
     "iopub.status.busy": "2020-12-18T22:08:53.498301Z",
     "iopub.status.idle": "2020-12-18T22:08:53.524023Z",
     "shell.execute_reply": "2020-12-18T22:08:53.524752Z"
    },
    "papermill": {
     "duration": 0.153124,
     "end_time": "2020-12-18T22:08:53.525079",
     "exception": false,
     "start_time": "2020-12-18T22:08:53.371955",
     "status": "completed"
    },
    "tags": []
   },
   "outputs": [],
   "source": [
    "ds_recon = gen_dataset(dv, reconstructed_field_med, ds.rlat, ds.rlon, ds.lat, ds.lon, unit=ds[dv].attrs[\"units\"])"
   ]
  },
  {
   "cell_type": "markdown",
   "metadata": {
    "papermill": {
     "duration": 0.122798,
     "end_time": "2020-12-18T22:08:53.778742",
     "exception": false,
     "start_time": "2020-12-18T22:08:53.655944",
     "status": "completed"
    },
    "tags": []
   },
   "source": [
    "Populate with headers from the input processed model."
   ]
  },
  {
   "cell_type": "code",
   "execution_count": 20,
   "metadata": {
    "execution": {
     "iopub.execute_input": "2020-12-18T22:08:54.086733Z",
     "iopub.status.busy": "2020-12-18T22:08:54.086204Z",
     "iopub.status.idle": "2020-12-18T22:08:54.109406Z",
     "shell.execute_reply": "2020-12-18T22:08:54.110126Z"
    },
    "papermill": {
     "duration": 0.207024,
     "end_time": "2020-12-18T22:08:54.110503",
     "exception": false,
     "start_time": "2020-12-18T22:08:53.903479",
     "status": "completed"
    },
    "tags": []
   },
   "outputs": [],
   "source": [
    "if ds.attrs:\n",
    "    all_keys = set(ds_recon.variables).union(set(ds_recon.dims))\n",
    "    for key in all_keys:\n",
    "        ds_recon[key].attrs = ds[key].attrs\n",
    "    attr_dict = ds.attrs\n",
    "    attr_dict[\"Climpyrical\"] = (\n",
    "        \"CanRCM4 Reconstruction contains\"\n",
    "        \"hybrid station and model data using\"\n",
    "        \"Climpyrical (https://github.com/pacificclimate/climpyrical)\"\n",
    "    )\n",
    "\n",
    "    ds_recon.attrs = attr_dict\n",
    "else:\n",
    "    raise warnings.warn(\"No attributes detected in dataset file\")"
   ]
  },
  {
   "cell_type": "code",
   "execution_count": 21,
   "metadata": {
    "execution": {
     "iopub.execute_input": "2020-12-18T22:08:54.384255Z",
     "iopub.status.busy": "2020-12-18T22:08:54.383753Z",
     "iopub.status.idle": "2020-12-18T22:08:54.793324Z",
     "shell.execute_reply": "2020-12-18T22:08:54.792835Z"
    },
    "papermill": {
     "duration": 0.545129,
     "end_time": "2020-12-18T22:08:54.793496",
     "exception": false,
     "start_time": "2020-12-18T22:08:54.248367",
     "status": "completed"
    },
    "tags": []
   },
   "outputs": [],
   "source": [
    "ds_recon.to_netcdf(\n",
    "    resource_filename(\n",
    "        \"climpyrical\",\n",
    "        f\"{output_reconstruction_path}{name}_reconstruction.nc\"\n",
    "    ),\n",
    "    mode=\"w\"\n",
    ")"
   ]
  }
 ],
 "metadata": {
  "kernelspec": {
   "display_name": "Python 3",
   "language": "python",
   "name": "python3"
  },
  "language_info": {
   "codemirror_mode": {
    "name": "ipython",
    "version": 3
   },
   "file_extension": ".py",
   "mimetype": "text/x-python",
   "name": "python",
   "nbconvert_exporter": "python",
   "pygments_lexer": "ipython3",
   "version": "3.8.5"
  },
  "papermill": {
   "default_parameters": {},
   "duration": 750.270216,
   "end_time": "2020-12-18T22:08:55.855418",
   "environment_variables": {},
   "exception": null,
   "input_path": "MWOrK.ipynb",
   "output_path": "/home/nannau/Desktop/pipeline/climpyrical/climpyrical/data/results/intermediate/notebooks/MWOrK_log_SL50.ipynb",
   "parameters": {
    "fill_glaciers": true,
    "input_model_path": "data/model_inputs/snw_CanRCM4-LE_ens35_1951-2016_max_rl50_load_ensmean.nc",
    "mask_path": "data/masks/canada_mask_rp.nc",
    "medians": {
     "action": "multiply",
     "value": 2.5
    },
    "name": "SL50",
    "nbcc_loc_path": "data/station_inputs/NBCC_2020_new_coords.xlsm",
    "nbcc_median_correction": false,
    "north_mask_path": "data/masks/canada_mask_north_rp.nc",
    "output_figure_path": "/data/results/figures/",
    "output_notebook_path": "/data/results/intermediate/notebooks/",
    "output_reconstruction_path": "/data/results/netcdf/",
    "output_tables_path": "/data/results/TableC2/",
    "preprocessed_model_path": "/data/results/intermediate/preprocessed_netcdf/",
    "preprocessed_stations_path": "/data/results/intermediate/preprocessed_stations/",
    "station_dv": "SL50 (kPa)",
    "station_path": "data/station_inputs/sl50_rl50_for_maps.csv"
   },
   "start_time": "2020-12-18T21:56:25.585202",
   "version": "2.2.2"
  }
 },
 "nbformat": 4,
 "nbformat_minor": 4
}