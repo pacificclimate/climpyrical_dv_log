{
 "cells": [
  {
   "cell_type": "markdown",
   "metadata": {
    "papermill": {
     "duration": 0.017939,
     "end_time": "2020-12-18T22:12:10.674355",
     "exception": false,
     "start_time": "2020-12-18T22:12:10.656416",
     "status": "completed"
    },
    "tags": []
   },
   "source": [
    "# Model Preprocessing\n",
    "---\n",
    "This notebook performs the necessary preprocessing of CanRCM4 models. Execute each cell in order.\n",
    "\n",
    "* Place netCDF models into `climpyrical/data/model_inputs`. \n",
    "* Ensure ensemble models have:\n",
    "    * lat, lon, rlat, rlon and a 2D data field variable\n",
    "    \n",
    "Output directories are configurable, but are recommended to be placed in `climpyrical/data/results/intermediate/preprocessed_netcdf/`\n",
    "\n",
    "Workflow:"
   ]
  },
  {
   "cell_type": "markdown",
   "metadata": {
    "papermill": {
     "duration": 0.027033,
     "end_time": "2020-12-18T22:12:10.716653",
     "exception": false,
     "start_time": "2020-12-18T22:12:10.689620",
     "status": "completed"
    },
    "tags": []
   },
   "source": [
    "<img src=\"../../docs/assets/flowchart_model.png\" alt=\"flowchart\" width=\"450\"/>"
   ]
  },
  {
   "cell_type": "code",
   "execution_count": 1,
   "metadata": {
    "execution": {
     "iopub.execute_input": "2020-12-18T22:12:10.770243Z",
     "iopub.status.busy": "2020-12-18T22:12:10.768956Z",
     "iopub.status.idle": "2020-12-18T22:12:11.890374Z",
     "shell.execute_reply": "2020-12-18T22:12:11.891136Z"
    },
    "papermill": {
     "duration": 1.15312,
     "end_time": "2020-12-18T22:12:11.891686",
     "exception": false,
     "start_time": "2020-12-18T22:12:10.738566",
     "status": "completed"
    },
    "tags": []
   },
   "outputs": [],
   "source": [
    "from climpyrical.data import read_data, gen_dataset, interpolate_dataset\n",
    "from climpyrical.gridding import regrid_ensemble, extend_north\n",
    "\n",
    "from pkg_resources import resource_filename\n",
    "import warnings\n",
    "\n",
    "import numpy as np\n",
    "import matplotlib.pyplot as plt\n",
    "\n",
    "%matplotlib inline\n",
    "%load_ext lab_black"
   ]
  },
  {
   "cell_type": "markdown",
   "metadata": {
    "papermill": {
     "duration": 0.012779,
     "end_time": "2020-12-18T22:12:11.939588",
     "exception": false,
     "start_time": "2020-12-18T22:12:11.926809",
     "status": "completed"
    },
    "tags": []
   },
   "source": [
    "### Parameters are loaded from config_example.yml\n",
    "Example configuration from config_example.yml:\n",
    "```\n",
    "    paths:\n",
    "        preprocessed_model_path: /data/results/intermediate/preprocessed_netcdf/\n",
    "    RL50:\n",
    "        station_dv: \"RL50 (kPa)\"\n",
    "        station_path: 'data/station_inputs/Interim_snow_rain_load_LR_composite_stations_tbd_v4.csv'\n",
    "        input_model_path: 'data/model_inputs/snw_rain_CanRCM4-LE_ens35_1951-2016_max_rl50_load_ensmean.nc'\n",
    "        medians: \n",
    "            value: 0.4\n",
    "            action: \"multiply\"\n",
    "        fill_glaciers: True\n",
    "```"
   ]
  },
  {
   "cell_type": "code",
   "execution_count": 2,
   "metadata": {
    "execution": {
     "iopub.execute_input": "2020-12-18T22:12:11.971817Z",
     "iopub.status.busy": "2020-12-18T22:12:11.971311Z",
     "iopub.status.idle": "2020-12-18T22:12:11.974353Z",
     "shell.execute_reply": "2020-12-18T22:12:11.973863Z"
    },
    "papermill": {
     "duration": 0.022169,
     "end_time": "2020-12-18T22:12:11.974516",
     "exception": false,
     "start_time": "2020-12-18T22:12:11.952347",
     "status": "completed"
    },
    "tags": [
     "parameters"
    ]
   },
   "outputs": [],
   "source": [
    "# Parameters cell"
   ]
  },
  {
   "cell_type": "code",
   "execution_count": 3,
   "metadata": {
    "execution": {
     "iopub.execute_input": "2020-12-18T22:12:12.009330Z",
     "iopub.status.busy": "2020-12-18T22:12:12.008793Z",
     "iopub.status.idle": "2020-12-18T22:12:12.025081Z",
     "shell.execute_reply": "2020-12-18T22:12:12.024621Z"
    },
    "papermill": {
     "duration": 0.037865,
     "end_time": "2020-12-18T22:12:12.025239",
     "exception": false,
     "start_time": "2020-12-18T22:12:11.987374",
     "status": "completed"
    },
    "tags": [
     "injected-parameters"
    ]
   },
   "outputs": [],
   "source": [
    "# Parameters\n",
    "name = \"RAnn\"\n",
    "station_dv = \"annual_rain (mm)\"\n",
    "station_path = \"data/station_inputs/rain_annual_mean_doy_MSC_25yr_for_maps.csv\"\n",
    "input_model_path = (\n",
    "    \"data/model_inputs/rain_CanRCM4-LE_ens35_1951-2016_ann_sum_ensmean.nc\"\n",
    ")\n",
    "medians = {\"value\": 726, \"action\": \"multiply\"}\n",
    "fill_glaciers = True\n",
    "output_notebook_path = \"/data/results/intermediate/notebooks/\"\n",
    "preprocessed_model_path = \"/data/results/intermediate/preprocessed_netcdf/\"\n",
    "preprocessed_stations_path = \"/data/results/intermediate/preprocessed_stations/\"\n",
    "output_reconstruction_path = \"/data/results/netcdf/\"\n",
    "output_tables_path = \"/data/results/TableC2/\"\n",
    "output_figure_path = \"/data/results/figures/\"\n",
    "mask_path = \"data/masks/canada_mask_rp.nc\"\n",
    "north_mask_path = \"data/masks/canada_mask_north_rp.nc\"\n",
    "nbcc_loc_path = \"data/station_inputs/NBCC_2020_new_coords.xlsm\"\n"
   ]
  },
  {
   "cell_type": "markdown",
   "metadata": {
    "papermill": {
     "duration": 0.02307,
     "end_time": "2020-12-18T22:12:12.074115",
     "exception": false,
     "start_time": "2020-12-18T22:12:12.051045",
     "status": "completed"
    },
    "tags": []
   },
   "source": [
    "Load the CanRCM4 model at native resolution"
   ]
  },
  {
   "cell_type": "code",
   "execution_count": 4,
   "metadata": {
    "execution": {
     "iopub.execute_input": "2020-12-18T22:12:12.117420Z",
     "iopub.status.busy": "2020-12-18T22:12:12.116814Z",
     "iopub.status.idle": "2020-12-18T22:12:12.164470Z",
     "shell.execute_reply": "2020-12-18T22:12:12.164854Z"
    },
    "papermill": {
     "duration": 0.069781,
     "end_time": "2020-12-18T22:12:12.165103",
     "exception": false,
     "start_time": "2020-12-18T22:12:12.095322",
     "status": "completed"
    },
    "tags": []
   },
   "outputs": [
    {
     "name": "stdout",
     "output_type": "stream",
     "text": [
      "Design value header name: pr\n",
      "Units in model file: mm\n"
     ]
    }
   ],
   "source": [
    "ds = read_data(resource_filename(\"climpyrical\", input_model_path))\n",
    "(dv,) = ds.data_vars\n",
    "unit = ds[dv].attrs[\"units\"]\n",
    "print(f\"Design value header name: {dv}\")\n",
    "print(f\"Units in model file: {unit}\")"
   ]
  },
  {
   "cell_type": "markdown",
   "metadata": {
    "papermill": {
     "duration": 0.017272,
     "end_time": "2020-12-18T22:12:12.203828",
     "exception": false,
     "start_time": "2020-12-18T22:12:12.186556",
     "status": "completed"
    },
    "tags": []
   },
   "source": [
    "After loading, check for accepted units and convert `degC` to `K` if necessary"
   ]
  },
  {
   "cell_type": "code",
   "execution_count": 5,
   "metadata": {
    "execution": {
     "iopub.execute_input": "2020-12-18T22:12:12.237231Z",
     "iopub.status.busy": "2020-12-18T22:12:12.236719Z",
     "iopub.status.idle": "2020-12-18T22:12:12.245088Z",
     "shell.execute_reply": "2020-12-18T22:12:12.245824Z"
    },
    "papermill": {
     "duration": 0.027819,
     "end_time": "2020-12-18T22:12:12.246234",
     "exception": false,
     "start_time": "2020-12-18T22:12:12.218415",
     "status": "completed"
    },
    "tags": []
   },
   "outputs": [
    {
     "name": "stdout",
     "output_type": "stream",
     "text": [
      "Detect units: mm\n",
      "Units in model file: mm\n"
     ]
    }
   ],
   "source": [
    "rlon, rlat = np.meshgrid(ds.rlon, ds.rlat)\n",
    "mean = ds[dv].values\n",
    "\n",
    "accepted_units = [\"kPa\", \"kPas\", \"Pas\" \"Pa\", \"degC\", \"degC-day\", \"mm\", \"unitless\", \"%\"]\n",
    "\n",
    "print(f\"Detect units: {unit}\")\n",
    "if unit not in accepted_units:\n",
    "    warnings.warn(\n",
    "        f\"{unit} not recognized from list of accepted units: {accepted_units}\"\n",
    "    )\n",
    "\n",
    "# For temperature fields, the methodology prefers\n",
    "# if units are in degress K\n",
    "# if unit == \"degC\":\n",
    "#     kelvin = 273.15  # K\n",
    "#     print(\"Temperature field detected. Converting to Kelvin.\")\n",
    "#     mean += kelvin\n",
    "#     ds[dv].attrs[\"units\"] = \"K\"    \n",
    "#     unit = ds[dv].attrs[\"units\"]\n",
    "\n",
    "print(f\"Units in model file: {unit}\")"
   ]
  },
  {
   "cell_type": "markdown",
   "metadata": {
    "papermill": {
     "duration": 0.01034,
     "end_time": "2020-12-18T22:12:12.271360",
     "exception": false,
     "start_time": "2020-12-18T22:12:12.261020",
     "status": "completed"
    },
    "tags": []
   },
   "source": [
    "Load the masks, starting with the land mask at the native CanRCM4 resolution and the glacier mask"
   ]
  },
  {
   "cell_type": "code",
   "execution_count": 6,
   "metadata": {
    "execution": {
     "iopub.execute_input": "2020-12-18T22:12:12.307799Z",
     "iopub.status.busy": "2020-12-18T22:12:12.307325Z",
     "iopub.status.idle": "2020-12-18T22:12:13.670683Z",
     "shell.execute_reply": "2020-12-18T22:12:13.671416Z"
    },
    "papermill": {
     "duration": 1.386059,
     "end_time": "2020-12-18T22:12:13.671710",
     "exception": false,
     "start_time": "2020-12-18T22:12:12.285651",
     "status": "completed"
    },
    "tags": []
   },
   "outputs": [
    {
     "name": "stdout",
     "output_type": "stream",
     "text": [
      "Load and regrid file to target resolution\n"
     ]
    },
    {
     "name": "stderr",
     "output_type": "stream",
     "text": [
      "/home/nannau/Desktop/pipeline/pipevenv/lib/python3.8/site-packages/pyproj/crs/crs.py:53: FutureWarning: '+init=<authority>:<code>' syntax is deprecated. '<authority>:<code>' is the preferred initialization method. When making the change, be mindful of axis order changes: https://pyproj4.github.io/pyproj/stable/gotchas.html#axis-order-changes-in-proj-6\n",
      "  return _prepare_from_string(\" \".join(pjargs))\n"
     ]
    },
    {
     "name": "stdout",
     "output_type": "stream",
     "text": [
      "Load original reoslution mask for reference\n"
     ]
    }
   ],
   "source": [
    "path_mask = resource_filename(\"climpyrical\", \"data/masks/land_mask_CanRCM4_sftlf.nc\")\n",
    "path_glacier_mask = resource_filename(\"climpyrical\", \"data/masks/glacier_mask.nc\")\n",
    "\n",
    "print(\"Load and regrid file to target resolution\")\n",
    "\n",
    "mask = read_data(path_mask)\n",
    "mask = regrid_ensemble(mask, \"sftlf\", 10, copy=True)\n",
    "mask = mask[\"sftlf\"] >= 1.0\n",
    "\n",
    "print(\"Load original reoslution mask for reference\")\n",
    "mask_og = read_data(path_mask)[\"sftlf\"].values != 0.0\n",
    "glaciermask = read_data(path_glacier_mask)[\"mask\"].values != 0.0"
   ]
  },
  {
   "cell_type": "markdown",
   "metadata": {
    "papermill": {
     "duration": 0.02002,
     "end_time": "2020-12-18T22:12:13.721933",
     "exception": false,
     "start_time": "2020-12-18T22:12:13.701913",
     "status": "completed"
    },
    "tags": []
   },
   "source": [
    "plot masks as example"
   ]
  },
  {
   "cell_type": "code",
   "execution_count": 7,
   "metadata": {
    "execution": {
     "iopub.execute_input": "2020-12-18T22:12:13.772678Z",
     "iopub.status.busy": "2020-12-18T22:12:13.763405Z",
     "iopub.status.idle": "2020-12-18T22:12:14.077749Z",
     "shell.execute_reply": "2020-12-18T22:12:14.077174Z"
    },
    "papermill": {
     "duration": 0.338386,
     "end_time": "2020-12-18T22:12:14.077943",
     "exception": false,
     "start_time": "2020-12-18T22:12:13.739557",
     "status": "completed"
    },
    "tags": []
   },
   "outputs": [
    {
     "data": {
      "text/plain": [
       "Text(0.5, 1.0, 'Glacier mask')"
      ]
     },
     "execution_count": 7,
     "metadata": {},
     "output_type": "execute_result"
    },
    {
     "data": {
      "image/png": "[encoded data removed]",
      "text/plain": [
       "<Figure size 720x360 with 2 Axes>"
      ]
     },
     "metadata": {
      "needs_background": "light"
     },
     "output_type": "display_data"
    }
   ],
   "source": [
    "fig, ax = plt.subplots(1, 2, figsize=(10, 5))\n",
    "ax[0].imshow(mask_og, origin=\"lower\", cmap=\"Greys\")\n",
    "ax[0].set_title(\"Original mask\")\n",
    "ax[1].imshow(glaciermask, origin=\"lower\", cmap=\"Greys\")\n",
    "ax[1].set_title(\"Glacier mask\")"
   ]
  },
  {
   "cell_type": "markdown",
   "metadata": {
    "papermill": {
     "duration": 0.01654,
     "end_time": "2020-12-18T22:12:14.127144",
     "exception": false,
     "start_time": "2020-12-18T22:12:14.110604",
     "status": "completed"
    },
    "tags": []
   },
   "source": [
    "Perform bilinear interpolation over glacier points if required"
   ]
  },
  {
   "cell_type": "code",
   "execution_count": 8,
   "metadata": {
    "execution": {
     "iopub.execute_input": "2020-12-18T22:12:14.170183Z",
     "iopub.status.busy": "2020-12-18T22:12:14.169541Z",
     "iopub.status.idle": "2020-12-18T22:12:14.838619Z",
     "shell.execute_reply": "2020-12-18T22:12:14.838236Z"
    },
    "papermill": {
     "duration": 0.693755,
     "end_time": "2020-12-18T22:12:14.838763",
     "exception": false,
     "start_time": "2020-12-18T22:12:14.145008",
     "status": "completed"
    },
    "tags": []
   },
   "outputs": [
    {
     "name": "stdout",
     "output_type": "stream",
     "text": [
      "Filling spurious glacier points.\n"
     ]
    }
   ],
   "source": [
    "if fill_glaciers:\n",
    "    print(\"Filling spurious glacier points.\")\n",
    "    mean[glaciermask] = np.nan\n",
    "\n",
    "nanmask = ~np.isnan(mean)\n",
    "points = np.stack([rlon[nanmask], rlat[nanmask]]).T\n",
    "target_values = mean[nanmask]\n",
    "target_points = np.stack([rlon[glaciermask], rlat[glaciermask]]).T\n",
    "\n",
    "mean[glaciermask] = interpolate_dataset(\n",
    "    points, target_values, target_points, \"linear\"\n",
    ")\n",
    "\n",
    "ds_filled = gen_dataset(dv, mean, ds.rlat, ds.rlon, ds.lat, ds.lon, unit)\n"
   ]
  },
  {
   "cell_type": "code",
   "execution_count": 9,
   "metadata": {
    "execution": {
     "iopub.execute_input": "2020-12-18T22:12:14.888516Z",
     "iopub.status.busy": "2020-12-18T22:12:14.886897Z",
     "iopub.status.idle": "2020-12-18T22:12:14.895525Z",
     "shell.execute_reply": "2020-12-18T22:12:14.895940Z"
    },
    "papermill": {
     "duration": 0.038126,
     "end_time": "2020-12-18T22:12:14.896156",
     "exception": false,
     "start_time": "2020-12-18T22:12:14.858030",
     "status": "completed"
    },
    "tags": []
   },
   "outputs": [
    {
     "name": "stdout",
     "output_type": "stream",
     "text": [
      "Remove water cells at original resolution\n"
     ]
    }
   ],
   "source": [
    "print(\"Remove water cells at original resolution\")\n",
    "ds_filled[dv].values[~mask_og] = np.nan\n",
    "nanmask = ~np.isnan(ds_filled[dv].values)"
   ]
  },
  {
   "cell_type": "code",
   "execution_count": 10,
   "metadata": {
    "execution": {
     "iopub.execute_input": "2020-12-18T22:12:14.943958Z",
     "iopub.status.busy": "2020-12-18T22:12:14.939957Z",
     "iopub.status.idle": "2020-12-18T22:12:16.298038Z",
     "shell.execute_reply": "2020-12-18T22:12:16.297408Z"
    },
    "papermill": {
     "duration": 1.383797,
     "end_time": "2020-12-18T22:12:16.298204",
     "exception": false,
     "start_time": "2020-12-18T22:12:14.914407",
     "status": "completed"
    },
    "tags": []
   },
   "outputs": [
    {
     "name": "stdout",
     "output_type": "stream",
     "text": [
      "Copying and downscaling dataset 10x\n"
     ]
    },
    {
     "name": "stderr",
     "output_type": "stream",
     "text": [
      "/home/nannau/Desktop/pipeline/pipevenv/lib/python3.8/site-packages/pyproj/crs/crs.py:53: FutureWarning: '+init=<authority>:<code>' syntax is deprecated. '<authority>:<code>' is the preferred initialization method. When making the change, be mindful of axis order changes: https://pyproj4.github.io/pyproj/stable/gotchas.html#axis-order-changes-in-proj-6\n",
      "  return _prepare_from_string(\" \".join(pjargs))\n"
     ]
    }
   ],
   "source": [
    "print(\"Copying and downscaling dataset 10x\")\n",
    "ds10 = regrid_ensemble(ds_filled, dv, 10, copy=True)\n",
    "ds10[dv].values[~mask] = np.nan\n",
    "nrlon, nrlat = np.meshgrid(ds10.rlon, ds10.rlat)\n",
    "nanmask10 = ~np.isnan(ds10[dv].values)"
   ]
  },
  {
   "cell_type": "code",
   "execution_count": 11,
   "metadata": {
    "execution": {
     "iopub.execute_input": "2020-12-18T22:12:16.349990Z",
     "iopub.status.busy": "2020-12-18T22:12:16.349318Z",
     "iopub.status.idle": "2020-12-18T22:12:16.688872Z",
     "shell.execute_reply": "2020-12-18T22:12:16.689634Z"
    },
    "papermill": {
     "duration": 0.364526,
     "end_time": "2020-12-18T22:12:16.689991",
     "exception": false,
     "start_time": "2020-12-18T22:12:16.325465",
     "status": "completed"
    },
    "tags": []
   },
   "outputs": [
    {
     "name": "stdout",
     "output_type": "stream",
     "text": [
      "Interpolating full remaining grid\n"
     ]
    }
   ],
   "source": [
    "print(\"Interpolating full remaining grid\")\n",
    "points = np.stack([rlon[nanmask], rlat[nanmask]]).T\n",
    "target_points = np.stack([nrlon[nanmask10], nrlat[nanmask10]]).T\n",
    "values = ds[dv].values[nanmask]\n",
    "ds10[dv].values[nanmask10] = interpolate_dataset(\n",
    "    points, values, target_points, \"linear\"\n",
    ")"
   ]
  },
  {
   "cell_type": "code",
   "execution_count": 12,
   "metadata": {
    "execution": {
     "iopub.execute_input": "2020-12-18T22:12:16.746317Z",
     "iopub.status.busy": "2020-12-18T22:12:16.745605Z",
     "iopub.status.idle": "2020-12-18T22:12:18.270988Z",
     "shell.execute_reply": "2020-12-18T22:12:18.271891Z"
    },
    "papermill": {
     "duration": 1.55633,
     "end_time": "2020-12-18T22:12:18.272373",
     "exception": false,
     "start_time": "2020-12-18T22:12:16.716043",
     "status": "completed"
    },
    "tags": []
   },
   "outputs": [
    {
     "name": "stdout",
     "output_type": "stream",
     "text": [
      "Add northern domain to model\n"
     ]
    },
    {
     "name": "stderr",
     "output_type": "stream",
     "text": [
      "/home/nannau/Desktop/pipeline/pipevenv/lib/python3.8/site-packages/pyproj/crs/crs.py:53: FutureWarning: '+init=<authority>:<code>' syntax is deprecated. '<authority>:<code>' is the preferred initialization method. When making the change, be mindful of axis order changes: https://pyproj4.github.io/pyproj/stable/gotchas.html#axis-order-changes-in-proj-6\n",
      "  return _prepare_from_string(\" \".join(pjargs))\n"
     ]
    }
   ],
   "source": [
    "print(\"Add northern domain to model\")\n",
    "ds10 = extend_north(ds10, dv, 210, fill_val=np.nan)\n",
    "nanmask10 = ~np.isnan(ds10[dv].values)"
   ]
  },
  {
   "cell_type": "markdown",
   "metadata": {
    "papermill": {
     "duration": 0.018656,
     "end_time": "2020-12-18T22:12:18.313352",
     "exception": false,
     "start_time": "2020-12-18T22:12:18.294696",
     "status": "completed"
    },
    "tags": []
   },
   "source": [
    "Load the higher resolution canada mask"
   ]
  },
  {
   "cell_type": "code",
   "execution_count": 13,
   "metadata": {
    "execution": {
     "iopub.execute_input": "2020-12-18T22:12:18.355855Z",
     "iopub.status.busy": "2020-12-18T22:12:18.354731Z",
     "iopub.status.idle": "2020-12-18T22:12:18.956987Z",
     "shell.execute_reply": "2020-12-18T22:12:18.957757Z"
    },
    "papermill": {
     "duration": 0.628084,
     "end_time": "2020-12-18T22:12:18.957977",
     "exception": false,
     "start_time": "2020-12-18T22:12:18.329893",
     "status": "completed"
    },
    "tags": []
   },
   "outputs": [
    {
     "data": {
      "text/plain": [
       "Text(0.5, 1.0, 'Missing points mask')"
      ]
     },
     "execution_count": 13,
     "metadata": {},
     "output_type": "execute_result"
    },
    {
     "data": {
      "image/png": "[encoded data removed]",
      "text/plain": [
       "<Figure size 720x360 with 2 Axes>"
      ]
     },
     "metadata": {
      "needs_background": "light"
     },
     "output_type": "display_data"
    }
   ],
   "source": [
    "canada_mask_path = resource_filename(\"climpyrical\", \"/data/masks/canada_mask_rp.nc\")\n",
    "with read_data(canada_mask_path) as ds_canada:\n",
    "    ca_mask = ds_canada[\"mask\"].values\n",
    "\n",
    "# select NaN values within new mask\n",
    "ca_mask_or = ~np.logical_or(~ca_mask, nanmask10)\n",
    "\n",
    "fig, ax = plt.subplots(1, 2, figsize=(10, 5))\n",
    "ax[0].imshow(ca_mask, origin=\"lower\", cmap=\"Greys\")\n",
    "ax[0].set_title(\"Target mask\")\n",
    "ax[1].imshow(ca_mask_or, origin=\"lower\", cmap=\"Greys\")\n",
    "ax[1].set_title(\"Missing points mask\")"
   ]
  },
  {
   "cell_type": "code",
   "execution_count": 14,
   "metadata": {
    "execution": {
     "iopub.execute_input": "2020-12-18T22:12:19.012781Z",
     "iopub.status.busy": "2020-12-18T22:12:19.012170Z",
     "iopub.status.idle": "2020-12-18T22:12:40.062190Z",
     "shell.execute_reply": "2020-12-18T22:12:40.062704Z"
    },
    "papermill": {
     "duration": 21.079388,
     "end_time": "2020-12-18T22:12:40.062992",
     "exception": false,
     "start_time": "2020-12-18T22:12:18.983604",
     "status": "completed"
    },
    "tags": []
   },
   "outputs": [
    {
     "name": "stdout",
     "output_type": "stream",
     "text": [
      "Fill remaining missing points using closest neighbour.\n"
     ]
    }
   ],
   "source": [
    "print(\"Fill remaining missing points using closest neighbour.\")\n",
    "nrlon, nrlat = np.meshgrid(ds10.rlon.values, ds10.rlat.values)\n",
    "\n",
    "temp_field = ds10[dv].values\n",
    "\n",
    "points = np.stack([nrlon[nanmask10], nrlat[nanmask10]]).T\n",
    "target_points = np.stack([nrlon[ca_mask_or], nrlat[ca_mask_or]]).T\n",
    "target_values = ds10[dv].values[nanmask10]\n",
    "temp_field[~ca_mask] = np.nan\n",
    "\n",
    "temp_field[ca_mask_or] = interpolate_dataset(\n",
    "    points, target_values, target_points, \"nearest\"\n",
    ")"
   ]
  },
  {
   "cell_type": "code",
   "execution_count": 15,
   "metadata": {
    "execution": {
     "iopub.execute_input": "2020-12-18T22:12:40.135517Z",
     "iopub.status.busy": "2020-12-18T22:12:40.134686Z",
     "iopub.status.idle": "2020-12-18T22:12:40.502714Z",
     "shell.execute_reply": "2020-12-18T22:12:40.503257Z"
    },
    "papermill": {
     "duration": 0.409305,
     "end_time": "2020-12-18T22:12:40.503499",
     "exception": false,
     "start_time": "2020-12-18T22:12:40.094194",
     "status": "completed"
    },
    "tags": []
   },
   "outputs": [
    {
     "name": "stdout",
     "output_type": "stream",
     "text": [
      "Remove the processed northern region.\n",
      "Dataset generated and writing to file.\n"
     ]
    },
    {
     "name": "stdout",
     "output_type": "stream",
     "text": [
      "Completed!\n"
     ]
    }
   ],
   "source": [
    "print(\"Remove the processed northern region.\")\n",
    "uaa_mask_path = resource_filename(\n",
    "    \"climpyrical\", \"/data/masks/canada_mask_north_rp.nc\"\n",
    ")\n",
    "uaa_mask = read_data(uaa_mask_path)[\"mask\"]\n",
    "temp_field[uaa_mask] = np.nan\n",
    "\n",
    "ds_processed = gen_dataset(\n",
    "    dv, temp_field, ds10.rlat, ds10.rlon, ds10.lat, ds10.lon, unit\n",
    ")\n",
    "# Populate new processed dataset with attributes from \n",
    "# the original\n",
    "if ds.attrs:\n",
    "    all_keys = set(ds_processed.variables).union(set(ds_processed.dims))\n",
    "    for key in all_keys:\n",
    "        ds_processed[key].attrs = ds[key].attrs\n",
    "    attr_dict = ds.attrs\n",
    "    attr_dict[\"Climpyrical\"] = (\n",
    "        \"CanRCM4 Reconstruction contains\"\n",
    "        \"hybrid station and model data using\"\n",
    "        \"Climpyrical (https://github.com/pacificclimate/climpyrical)\"\n",
    "    )\n",
    "\n",
    "    ds_processed.attrs = attr_dict\n",
    "\n",
    "print(\"Dataset generated and writing to file.\")\n",
    "\n",
    "ds_processed.to_netcdf(resource_filename(\"climpyrical\", f\"{preprocessed_model_path}{name}.nc\"), mode=\"w\")\n",
    "\n",
    "print(\"Completed!\")"
   ]
  },
  {
   "cell_type": "markdown",
   "metadata": {
    "papermill": {
     "duration": 0.023302,
     "end_time": "2020-12-18T22:12:40.561685",
     "exception": false,
     "start_time": "2020-12-18T22:12:40.538383",
     "status": "completed"
    },
    "tags": []
   },
   "source": [
    "Plot the final result"
   ]
  },
  {
   "cell_type": "code",
   "execution_count": 16,
   "metadata": {
    "execution": {
     "iopub.execute_input": "2020-12-18T22:12:40.630311Z",
     "iopub.status.busy": "2020-12-18T22:12:40.629640Z",
     "iopub.status.idle": "2020-12-18T22:12:41.480840Z",
     "shell.execute_reply": "2020-12-18T22:12:41.481371Z"
    },
    "papermill": {
     "duration": 0.897338,
     "end_time": "2020-12-18T22:12:41.481585",
     "exception": false,
     "start_time": "2020-12-18T22:12:40.584247",
     "status": "completed"
    },
    "tags": []
   },
   "outputs": [
    {
     "data": {
      "text/plain": [
       "<matplotlib.colorbar.Colorbar at 0x7f4f185d92b0>"
      ]
     },
     "execution_count": 16,
     "metadata": {},
     "output_type": "execute_result"
    },
    {
     "data": {
      "image/png": "[encoded data removed]",
      "text/plain": [
       "<Figure size 1080x1080 with 2 Axes>"
      ]
     },
     "metadata": {
      "needs_background": "light"
     },
     "output_type": "display_data"
    }
   ],
   "source": [
    "plt.figure(figsize=(15, 15))\n",
    "plt.title(f\"Processed {name}\")\n",
    "plt.imshow(ds_processed[dv].values, origin=\"lower\")\n",
    "plt.colorbar(fraction=0.045)"
   ]
  }
 ],
 "metadata": {
  "kernelspec": {
   "display_name": "Python 3",
   "language": "python",
   "name": "python3"
  },
  "language_info": {
   "codemirror_mode": {
    "name": "ipython",
    "version": 3
   },
   "file_extension": ".py",
   "mimetype": "text/x-python",
   "name": "python",
   "nbconvert_exporter": "python",
   "pygments_lexer": "ipython3",
   "version": "3.8.5"
  },
  "papermill": {
   "default_parameters": {},
   "duration": 33.085782,
   "end_time": "2020-12-18T22:12:43.011879",
   "environment_variables": {},
   "exception": null,
   "input_path": "preprocess_model.ipynb",
   "output_path": "/home/nannau/Desktop/pipeline/climpyrical/climpyrical/data/results/intermediate/notebooks/preprocessing_model_log_RAnn.ipynb",
   "parameters": {
    "fill_glaciers": true,
    "input_model_path": "data/model_inputs/rain_CanRCM4-LE_ens35_1951-2016_ann_sum_ensmean.nc",
    "mask_path": "data/masks/canada_mask_rp.nc",
    "medians": {
     "action": "multiply",
     "value": 726
    },
    "name": "RAnn",
    "nbcc_loc_path": "data/station_inputs/NBCC_2020_new_coords.xlsm",
    "north_mask_path": "data/masks/canada_mask_north_rp.nc",
    "output_figure_path": "/data/results/figures/",
    "output_notebook_path": "/data/results/intermediate/notebooks/",
    "output_reconstruction_path": "/data/results/netcdf/",
    "output_tables_path": "/data/results/TableC2/",
    "preprocessed_model_path": "/data/results/intermediate/preprocessed_netcdf/",
    "preprocessed_stations_path": "/data/results/intermediate/preprocessed_stations/",
    "station_dv": "annual_rain (mm)",
    "station_path": "data/station_inputs/rain_annual_mean_doy_MSC_25yr_for_maps.csv"
   },
   "start_time": "2020-12-18T22:12:09.926097",
   "version": "2.2.2"
  }
 },
 "nbformat": 4,
 "nbformat_minor": 4
}