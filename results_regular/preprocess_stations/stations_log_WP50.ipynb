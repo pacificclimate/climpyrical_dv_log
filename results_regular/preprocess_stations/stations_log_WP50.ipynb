{
 "cells": [
  {
   "cell_type": "markdown",
   "metadata": {
    "papermill": {
     "duration": 0.016836,
     "end_time": "2020-12-18T21:56:26.520516",
     "exception": false,
     "start_time": "2020-12-18T21:56:26.503680",
     "status": "completed"
    },
    "tags": []
   },
   "source": [
    "# Process Stations"
   ]
  },
  {
   "cell_type": "code",
   "execution_count": 1,
   "metadata": {
    "execution": {
     "iopub.execute_input": "2020-12-18T21:56:26.615479Z",
     "iopub.status.busy": "2020-12-18T21:56:26.614873Z",
     "iopub.status.idle": "2020-12-18T21:56:27.442054Z",
     "shell.execute_reply": "2020-12-18T21:56:27.442799Z"
    },
    "papermill": {
     "duration": 0.846534,
     "end_time": "2020-12-18T21:56:27.443213",
     "exception": false,
     "start_time": "2020-12-18T21:56:26.596679",
     "status": "completed"
    },
    "tags": []
   },
   "outputs": [],
   "source": [
    "import pandas as pd\n",
    "import numpy as np\n",
    "import matplotlib.pyplot as plt\n",
    "from pkg_resources import resource_filename\n",
    "\n",
    "from climpyrical.gridding import scale_model_obs\n",
    "from climpyrical.data import read_data\n",
    "from climpyrical.cmd.find_matched_model_vals import add_model_values"
   ]
  },
  {
   "cell_type": "markdown",
   "metadata": {
    "papermill": {
     "duration": 0.017768,
     "end_time": "2020-12-18T21:56:27.481110",
     "exception": false,
     "start_time": "2020-12-18T21:56:27.463342",
     "status": "completed"
    },
    "tags": []
   },
   "source": [
    "### Load station data for processing"
   ]
  },
  {
   "cell_type": "markdown",
   "metadata": {
    "papermill": {
     "duration": 0.016708,
     "end_time": "2020-12-18T21:56:27.514416",
     "exception": false,
     "start_time": "2020-12-18T21:56:27.497708",
     "status": "completed"
    },
    "tags": [
     "parameters"
    ]
   },
   "source": [
    "### Parameters are loaded from config_example.yml\n",
    "Example configuration from config_example.yml:\n",
    "```\n",
    "    paths:\n",
    "        preprocessed_model_path: /data/results/intermediate/preprocessed_netcdf/\n",
    "    RL50:\n",
    "        station_dv: \"RL50 (kPa)\"\n",
    "        station_path: 'data/station_inputs/Interim_snow_rain_load_LR_composite_stations_tbd_v4.csv'\n",
    "        input_model_path: 'data/model_inputs/snw_rain_CanRCM4-LE_ens35_1951-2016_max_rl50_load_ensmean.nc'\n",
    "        medians: \n",
    "            value: 0.4\n",
    "            action: \"multiply\"\n",
    "        fill_glaciers: True\n",
    "```"
   ]
  },
  {
   "cell_type": "code",
   "execution_count": 2,
   "metadata": {
    "execution": {
     "iopub.execute_input": "2020-12-18T21:56:27.552250Z",
     "iopub.status.busy": "2020-12-18T21:56:27.551650Z",
     "iopub.status.idle": "2020-12-18T21:56:27.553690Z",
     "shell.execute_reply": "2020-12-18T21:56:27.554188Z"
    },
    "papermill": {
     "duration": 0.023476,
     "end_time": "2020-12-18T21:56:27.554388",
     "exception": false,
     "start_time": "2020-12-18T21:56:27.530912",
     "status": "completed"
    },
    "tags": [
     "injected-parameters"
    ]
   },
   "outputs": [],
   "source": [
    "# Parameters\n",
    "name = \"WP50\"\n",
    "station_dv = \"WP50 (kPa)\"\n",
    "station_path = \"data/station_inputs/wpress_stations_rl10_rl50_for_maps.csv\"\n",
    "input_model_path = (\n",
    "    \"data/model_inputs/wpress_CanRCM4-LE_ens35_1951-2016_max_rl50_kpa_ensmean.nc\"\n",
    ")\n",
    "medians = {\"value\": 0.44, \"action\": \"multiply\"}\n",
    "fill_glaciers = True\n",
    "output_notebook_path = \"/data/results/intermediate/notebooks/\"\n",
    "preprocessed_model_path = \"/data/results/intermediate/preprocessed_netcdf/\"\n",
    "preprocessed_stations_path = \"/data/results/intermediate/preprocessed_stations/\"\n",
    "output_reconstruction_path = \"/data/results/netcdf/\"\n",
    "output_tables_path = \"/data/results/TableC2/\"\n",
    "output_figure_path = \"/data/results/figures/\"\n",
    "mask_path = \"data/masks/canada_mask_rp.nc\"\n",
    "north_mask_path = \"data/masks/canada_mask_north_rp.nc\"\n",
    "nbcc_loc_path = \"data/station_inputs/NBCC_2020_new_coords.xlsm\"\n"
   ]
  },
  {
   "cell_type": "code",
   "execution_count": 3,
   "metadata": {
    "execution": {
     "iopub.execute_input": "2020-12-18T21:56:27.593867Z",
     "iopub.status.busy": "2020-12-18T21:56:27.593422Z",
     "iopub.status.idle": "2020-12-18T21:56:27.595600Z",
     "shell.execute_reply": "2020-12-18T21:56:27.596062Z"
    },
    "papermill": {
     "duration": 0.02153,
     "end_time": "2020-12-18T21:56:27.596268",
     "exception": false,
     "start_time": "2020-12-18T21:56:27.574738",
     "status": "completed"
    },
    "tags": [
     "parameters"
    ]
   },
   "outputs": [],
   "source": [
    "# Parameters cell"
   ]
  },
  {
   "cell_type": "code",
   "execution_count": 4,
   "metadata": {
    "execution": {
     "iopub.execute_input": "2020-12-18T21:56:27.632957Z",
     "iopub.status.busy": "2020-12-18T21:56:27.632480Z",
     "iopub.status.idle": "2020-12-18T21:56:27.641251Z",
     "shell.execute_reply": "2020-12-18T21:56:27.640334Z"
    },
    "papermill": {
     "duration": 0.024015,
     "end_time": "2020-12-18T21:56:27.641526",
     "exception": false,
     "start_time": "2020-12-18T21:56:27.617511",
     "status": "completed"
    },
    "tags": []
   },
   "outputs": [],
   "source": [
    "df = pd.read_csv(resource_filename(\"climpyrical\", station_path), index_col=None)"
   ]
  },
  {
   "cell_type": "markdown",
   "metadata": {
    "papermill": {
     "duration": 0.011568,
     "end_time": "2020-12-18T21:56:27.676001",
     "exception": false,
     "start_time": "2020-12-18T21:56:27.664433",
     "status": "completed"
    },
    "tags": []
   },
   "source": [
    "Check the columns for standard names, and standardize them.\n",
    "\n",
    "This process will not catch any and all possible inputs, so refer to documentation for \n",
    "expected column names"
   ]
  },
  {
   "cell_type": "code",
   "execution_count": 5,
   "metadata": {
    "execution": {
     "iopub.execute_input": "2020-12-18T21:56:27.714395Z",
     "iopub.status.busy": "2020-12-18T21:56:27.713620Z",
     "iopub.status.idle": "2020-12-18T21:56:27.718645Z",
     "shell.execute_reply": "2020-12-18T21:56:27.719141Z"
    },
    "papermill": {
     "duration": 0.027666,
     "end_time": "2020-12-18T21:56:27.719348",
     "exception": false,
     "start_time": "2020-12-18T21:56:27.691682",
     "status": "completed"
    },
    "tags": []
   },
   "outputs": [],
   "source": [
    "def check_df_columns(df):\n",
    "    if 'longitude' in df.columns:\n",
    "        df=df.rename(columns={'longitude': 'lon'})\n",
    "    if 'long' in df.columns:\n",
    "        df=df.rename(columns={'long': 'lon'})\n",
    "    if 'latitude' in df.columns:\n",
    "        df=df.rename(columns={'latitude': 'lat'})\n",
    "    if 'name' in df.columns:\n",
    "        df=df.rename(columns={'name': 'station_name'})\n",
    "    if 'Name' in df.columns:\n",
    "        df=df.rename(columns={'Name': 'station_name'})\n",
    "    if \"prov\" in df.columns:\n",
    "        df=df.rename(columns={\"prov\": \"province\"})\n",
    "    if \"elev\" in df.columns:\n",
    "        df=df.rename(columns={\"elev\": \"elev (m)\"})\n",
    "    if \"elevation (m)\" in df.columns:\n",
    "        df=df.rename(columns={\"elevation (m)\": \"elev (m)\"})\n",
    "    return df\n",
    "\n",
    "df = check_df_columns(df)\n",
    "df.head(5)\n",
    "\n",
    "if np.any(np.isnan(df[[\"lon\", \"lat\", \"elev (m)\", station_dv]].values)):\n",
    "    raise ValueError(\"NaN detected in station input file.\")"
   ]
  },
  {
   "cell_type": "markdown",
   "metadata": {
    "papermill": {
     "duration": 0.011348,
     "end_time": "2020-12-18T21:56:27.750378",
     "exception": false,
     "start_time": "2020-12-18T21:56:27.739030",
     "status": "completed"
    },
    "tags": []
   },
   "source": [
    "Load preprocessed model at target resolution"
   ]
  },
  {
   "cell_type": "code",
   "execution_count": 6,
   "metadata": {
    "execution": {
     "iopub.execute_input": "2020-12-18T21:56:27.776496Z",
     "iopub.status.busy": "2020-12-18T21:56:27.775841Z",
     "iopub.status.idle": "2020-12-18T21:56:27.835593Z",
     "shell.execute_reply": "2020-12-18T21:56:27.835196Z"
    },
    "papermill": {
     "duration": 0.074065,
     "end_time": "2020-12-18T21:56:27.835719",
     "exception": false,
     "start_time": "2020-12-18T21:56:27.761654",
     "status": "completed"
    },
    "tags": []
   },
   "outputs": [],
   "source": [
    "ds = read_data(resource_filename(\"climpyrical\", f\"{preprocessed_model_path}{name}.nc\"))\n",
    "(dv, ) = ds.data_vars"
   ]
  },
  {
   "cell_type": "markdown",
   "metadata": {
    "papermill": {
     "duration": 0.017907,
     "end_time": "2020-12-18T21:56:27.869932",
     "exception": false,
     "start_time": "2020-12-18T21:56:27.852025",
     "status": "completed"
    },
    "tags": []
   },
   "source": [
    "Perform unit conversion if necessary\n",
    "\n",
    "Exclude suspect RL50 values with true 0.0"
   ]
  },
  {
   "cell_type": "code",
   "execution_count": 7,
   "metadata": {
    "execution": {
     "iopub.execute_input": "2020-12-18T21:56:27.896264Z",
     "iopub.status.busy": "2020-12-18T21:56:27.895219Z",
     "iopub.status.idle": "2020-12-18T21:56:27.897223Z",
     "shell.execute_reply": "2020-12-18T21:56:27.897701Z"
    },
    "papermill": {
     "duration": 0.017519,
     "end_time": "2020-12-18T21:56:27.897882",
     "exception": false,
     "start_time": "2020-12-18T21:56:27.880363",
     "status": "completed"
    },
    "tags": []
   },
   "outputs": [],
   "source": [
    "# calculate ratios with applied correction\n",
    "# Note the ratios are calculated in K for Temperature fields\n",
    "if ds[dv].attrs[\"units\"] == \"degC\" and \"degC\" in station_dv:\n",
    "    print(\"Temperature DV detected in degC. Converitng to Kelvin\")\n",
    "    K = 273.15 # K\n",
    "    df[station_dv] += K\n",
    "    ds[dv] += K\n",
    "\n",
    "if 'RL50 (kPa)' in station_dv:\n",
    "    df = df[df[station_dv] != 0.0]"
   ]
  },
  {
   "cell_type": "markdown",
   "metadata": {
    "papermill": {
     "duration": 0.01023,
     "end_time": "2020-12-18T21:56:27.924584",
     "exception": false,
     "start_time": "2020-12-18T21:56:27.914354",
     "status": "completed"
    },
    "tags": []
   },
   "source": [
    "Use matching script to find matching model values"
   ]
  },
  {
   "cell_type": "code",
   "execution_count": 8,
   "metadata": {
    "execution": {
     "iopub.execute_input": "2020-12-18T21:56:27.950007Z",
     "iopub.status.busy": "2020-12-18T21:56:27.949409Z",
     "iopub.status.idle": "2020-12-18T21:56:30.059571Z",
     "shell.execute_reply": "2020-12-18T21:56:30.059961Z"
    },
    "papermill": {
     "duration": 2.125396,
     "end_time": "2020-12-18T21:56:30.060138",
     "exception": false,
     "start_time": "2020-12-18T21:56:27.934742",
     "status": "completed"
    },
    "tags": []
   },
   "outputs": [
    {
     "name": "stderr",
     "output_type": "stream",
     "text": [
      "INFO:root:Detect units: kPa\n"
     ]
    },
    {
     "name": "stderr",
     "output_type": "stream",
     "text": [
      "INFO:root:rlat or rlon not detected in input file.converting assumes WGS84 coords to rotated pole\n"
     ]
    },
    {
     "name": "stderr",
     "output_type": "stream",
     "text": [
      "INFO:root:Matching coordinates now\n"
     ]
    },
    {
     "name": "stderr",
     "output_type": "stream",
     "text": [
      "INFO:root:Locating corresponding model valuesInterpolating to nearest if matched model value is NaN\n"
     ]
    },
    {
     "data": {
      "text/html": [
       "<div>\n",
       "<style scoped>\n",
       "    .dataframe tbody tr th:only-of-type {\n",
       "        vertical-align: middle;\n",
       "    }\n",
       "\n",
       "    .dataframe tbody tr th {\n",
       "        vertical-align: top;\n",
       "    }\n",
       "\n",
       "    .dataframe thead th {\n",
       "        text-align: right;\n",
       "    }\n",
       "</style>\n",
       "<table border=\"1\" class=\"dataframe\">\n",
       "  <thead>\n",
       "    <tr style=\"text-align: right;\">\n",
       "      <th></th>\n",
       "      <th>Climate_ID</th>\n",
       "      <th>station_name</th>\n",
       "      <th>province</th>\n",
       "      <th>elev (m)</th>\n",
       "      <th>lat</th>\n",
       "      <th>lon</th>\n",
       "      <th>WP10 (kPa)</th>\n",
       "      <th>WP50 (kPa)</th>\n",
       "      <th>rlat</th>\n",
       "      <th>rlon</th>\n",
       "      <th>irlat</th>\n",
       "      <th>irlon</th>\n",
       "      <th>model_values</th>\n",
       "    </tr>\n",
       "  </thead>\n",
       "  <tbody>\n",
       "    <tr>\n",
       "      <th>0</th>\n",
       "      <td>1012710</td>\n",
       "      <td>ESQUIMALT HARBOUR</td>\n",
       "      <td>BC</td>\n",
       "      <td>3.0</td>\n",
       "      <td>48.431972</td>\n",
       "      <td>-123.439333</td>\n",
       "      <td>0.200</td>\n",
       "      <td>0.244</td>\n",
       "      <td>3.866472</td>\n",
       "      <td>-17.223584</td>\n",
       "      <td>742</td>\n",
       "      <td>385</td>\n",
       "      <td>0.176567</td>\n",
       "    </tr>\n",
       "    <tr>\n",
       "      <th>1</th>\n",
       "      <td>1016640</td>\n",
       "      <td>RACE ROCKS</td>\n",
       "      <td>BC</td>\n",
       "      <td>7.4</td>\n",
       "      <td>48.297984</td>\n",
       "      <td>-123.531441</td>\n",
       "      <td>0.544</td>\n",
       "      <td>0.693</td>\n",
       "      <td>3.760133</td>\n",
       "      <td>-17.325740</td>\n",
       "      <td>739</td>\n",
       "      <td>383</td>\n",
       "      <td>0.170318</td>\n",
       "    </tr>\n",
       "    <tr>\n",
       "      <th>2</th>\n",
       "      <td>1017101</td>\n",
       "      <td>SATURNA ISLAND CS</td>\n",
       "      <td>BC</td>\n",
       "      <td>24.4</td>\n",
       "      <td>48.783907</td>\n",
       "      <td>-123.044745</td>\n",
       "      <td>0.487</td>\n",
       "      <td>0.605</td>\n",
       "      <td>4.113823</td>\n",
       "      <td>-16.861117</td>\n",
       "      <td>747</td>\n",
       "      <td>394</td>\n",
       "      <td>0.289350</td>\n",
       "    </tr>\n",
       "    <tr>\n",
       "      <th>3</th>\n",
       "      <td>1017254</td>\n",
       "      <td>SHERINGHAM POINT</td>\n",
       "      <td>BC</td>\n",
       "      <td>6.9</td>\n",
       "      <td>48.376694</td>\n",
       "      <td>-123.921028</td>\n",
       "      <td>0.493</td>\n",
       "      <td>0.650</td>\n",
       "      <td>3.920433</td>\n",
       "      <td>-17.544331</td>\n",
       "      <td>743</td>\n",
       "      <td>378</td>\n",
       "      <td>0.172244</td>\n",
       "    </tr>\n",
       "    <tr>\n",
       "      <th>4</th>\n",
       "      <td>1018598</td>\n",
       "      <td>VICTORIA UNIVERSITY CS</td>\n",
       "      <td>BC</td>\n",
       "      <td>60.1</td>\n",
       "      <td>48.457000</td>\n",
       "      <td>-123.304611</td>\n",
       "      <td>0.057</td>\n",
       "      <td>0.070</td>\n",
       "      <td>3.860779</td>\n",
       "      <td>-17.130742</td>\n",
       "      <td>742</td>\n",
       "      <td>387</td>\n",
       "      <td>0.240396</td>\n",
       "    </tr>\n",
       "  </tbody>\n",
       "</table>\n",
       "</div>"
      ],
      "text/plain": [
       "  Climate_ID            station_name province  elev (m)        lat  \\\n",
       "0    1012710       ESQUIMALT HARBOUR       BC       3.0  48.431972   \n",
       "1    1016640              RACE ROCKS       BC       7.4  48.297984   \n",
       "2    1017101       SATURNA ISLAND CS       BC      24.4  48.783907   \n",
       "3    1017254        SHERINGHAM POINT       BC       6.9  48.376694   \n",
       "4    1018598  VICTORIA UNIVERSITY CS       BC      60.1  48.457000   \n",
       "\n",
       "          lon  WP10 (kPa)  WP50 (kPa)      rlat       rlon  irlat  irlon  \\\n",
       "0 -123.439333       0.200       0.244  3.866472 -17.223584    742    385   \n",
       "1 -123.531441       0.544       0.693  3.760133 -17.325740    739    383   \n",
       "2 -123.044745       0.487       0.605  4.113823 -16.861117    747    394   \n",
       "3 -123.921028       0.493       0.650  3.920433 -17.544331    743    378   \n",
       "4 -123.304611       0.057       0.070  3.860779 -17.130742    742    387   \n",
       "\n",
       "   model_values  \n",
       "0      0.176567  \n",
       "1      0.170318  \n",
       "2      0.289350  \n",
       "3      0.172244  \n",
       "4      0.240396  "
      ]
     },
     "execution_count": 8,
     "metadata": {},
     "output_type": "execute_result"
    }
   ],
   "source": [
    "df = add_model_values(ds=ds, df=df)\n",
    "df.head(5)"
   ]
  },
  {
   "cell_type": "markdown",
   "metadata": {
    "papermill": {
     "duration": 0.022531,
     "end_time": "2020-12-18T21:56:30.103313",
     "exception": false,
     "start_time": "2020-12-18T21:56:30.080782",
     "status": "completed"
    },
    "tags": []
   },
   "source": [
    "Group stations that land in the same index in rlat and rlon (land in the same grid cell)\n",
    "\n",
    "This means that they are in the same grid cell and need to be aggregated"
   ]
  },
  {
   "cell_type": "code",
   "execution_count": 9,
   "metadata": {
    "execution": {
     "iopub.execute_input": "2020-12-18T21:56:30.139783Z",
     "iopub.status.busy": "2020-12-18T21:56:30.138632Z",
     "iopub.status.idle": "2020-12-18T21:56:30.149154Z",
     "shell.execute_reply": "2020-12-18T21:56:30.148678Z"
    },
    "papermill": {
     "duration": 0.030729,
     "end_time": "2020-12-18T21:56:30.149302",
     "exception": false,
     "start_time": "2020-12-18T21:56:30.118573",
     "status": "completed"
    },
    "tags": []
   },
   "outputs": [],
   "source": [
    "agg_dict = {\n",
    "    station_dv: 'mean', \n",
    "    'rlat':'mean', \n",
    "    'rlon':'mean', \n",
    "    'lat': 'mean', \n",
    "    'lon': 'mean', \n",
    "    'elev (m)': 'mean',\n",
    "    'station_name': 'first',\n",
    "    'province': 'first',\n",
    "    \"model_values\": \"mean\"\n",
    "}\n",
    "\n",
    "# Province key is used for WP10 and WP50 for\n",
    "# special treatment of Atlantic/Far NW areas\n",
    "if \"province\" not in df.columns:\n",
    "    agg_dict = agg_dict.pop(\"province\")\n",
    "\n",
    "df_match = df.groupby(\n",
    "    ['irlat', 'irlon'], as_index=False\n",
    ").agg(\n",
    "    agg_dict\n",
    ")\n",
    "\n",
    "\n",
    "irlat = df_match.irlat\n",
    "irlon = df_match.irlon"
   ]
  },
  {
   "cell_type": "code",
   "execution_count": 10,
   "metadata": {
    "execution": {
     "iopub.execute_input": "2020-12-18T21:56:30.206281Z",
     "iopub.status.busy": "2020-12-18T21:56:30.205353Z",
     "iopub.status.idle": "2020-12-18T21:56:30.208925Z",
     "shell.execute_reply": "2020-12-18T21:56:30.209581Z"
    },
    "papermill": {
     "duration": 0.038601,
     "end_time": "2020-12-18T21:56:30.209786",
     "exception": false,
     "start_time": "2020-12-18T21:56:30.171185",
     "status": "completed"
    },
    "tags": []
   },
   "outputs": [
    {
     "data": {
      "text/html": [
       "<div>\n",
       "<style scoped>\n",
       "    .dataframe tbody tr th:only-of-type {\n",
       "        vertical-align: middle;\n",
       "    }\n",
       "\n",
       "    .dataframe tbody tr th {\n",
       "        vertical-align: top;\n",
       "    }\n",
       "\n",
       "    .dataframe thead th {\n",
       "        text-align: right;\n",
       "    }\n",
       "</style>\n",
       "<table border=\"1\" class=\"dataframe\">\n",
       "  <thead>\n",
       "    <tr style=\"text-align: right;\">\n",
       "      <th></th>\n",
       "      <th>irlat</th>\n",
       "      <th>irlon</th>\n",
       "      <th>WP50 (kPa)</th>\n",
       "      <th>rlat</th>\n",
       "      <th>rlon</th>\n",
       "      <th>lat</th>\n",
       "      <th>lon</th>\n",
       "      <th>elev (m)</th>\n",
       "      <th>station_name</th>\n",
       "      <th>province</th>\n",
       "      <th>model_values</th>\n",
       "    </tr>\n",
       "  </thead>\n",
       "  <tbody>\n",
       "    <tr>\n",
       "      <th>0</th>\n",
       "      <td>558</td>\n",
       "      <td>1009</td>\n",
       "      <td>0.351</td>\n",
       "      <td>-4.286303</td>\n",
       "      <td>10.373534</td>\n",
       "      <td>42.276111</td>\n",
       "      <td>-82.955278</td>\n",
       "      <td>189.6</td>\n",
       "      <td>WINDSOR A</td>\n",
       "      <td>ON</td>\n",
       "      <td>0.360578</td>\n",
       "    </tr>\n",
       "    <tr>\n",
       "      <th>1</th>\n",
       "      <td>576</td>\n",
       "      <td>1016</td>\n",
       "      <td>0.384</td>\n",
       "      <td>-3.488044</td>\n",
       "      <td>10.709117</td>\n",
       "      <td>42.999444</td>\n",
       "      <td>-82.308889</td>\n",
       "      <td>181.4</td>\n",
       "      <td>SARNIA</td>\n",
       "      <td>ON</td>\n",
       "      <td>0.368830</td>\n",
       "    </tr>\n",
       "    <tr>\n",
       "      <th>2</th>\n",
       "      <td>579</td>\n",
       "      <td>1050</td>\n",
       "      <td>0.394</td>\n",
       "      <td>-3.335369</td>\n",
       "      <td>12.206823</td>\n",
       "      <td>42.850000</td>\n",
       "      <td>-80.266667</td>\n",
       "      <td>240.5</td>\n",
       "      <td>SIMCOE</td>\n",
       "      <td>ON</td>\n",
       "      <td>0.418314</td>\n",
       "    </tr>\n",
       "    <tr>\n",
       "      <th>3</th>\n",
       "      <td>580</td>\n",
       "      <td>1035</td>\n",
       "      <td>0.351</td>\n",
       "      <td>-3.290417</td>\n",
       "      <td>11.534369</td>\n",
       "      <td>43.033056</td>\n",
       "      <td>-81.151111</td>\n",
       "      <td>278.0</td>\n",
       "      <td>LONDON A</td>\n",
       "      <td>ON</td>\n",
       "      <td>0.435890</td>\n",
       "    </tr>\n",
       "    <tr>\n",
       "      <th>4</th>\n",
       "      <td>587</td>\n",
       "      <td>1054</td>\n",
       "      <td>0.441</td>\n",
       "      <td>-2.967246</td>\n",
       "      <td>12.374482</td>\n",
       "      <td>43.173611</td>\n",
       "      <td>-79.935000</td>\n",
       "      <td>237.7</td>\n",
       "      <td>HAMILTON A</td>\n",
       "      <td>ON</td>\n",
       "      <td>0.424827</td>\n",
       "    </tr>\n",
       "    <tr>\n",
       "      <th>...</th>\n",
       "      <td>...</td>\n",
       "      <td>...</td>\n",
       "      <td>...</td>\n",
       "      <td>...</td>\n",
       "      <td>...</td>\n",
       "      <td>...</td>\n",
       "      <td>...</td>\n",
       "      <td>...</td>\n",
       "      <td>...</td>\n",
       "      <td>...</td>\n",
       "      <td>...</td>\n",
       "    </tr>\n",
       "    <tr>\n",
       "      <th>361</th>\n",
       "      <td>1215</td>\n",
       "      <td>1003</td>\n",
       "      <td>0.482</td>\n",
       "      <td>24.854394</td>\n",
       "      <td>10.111493</td>\n",
       "      <td>70.485833</td>\n",
       "      <td>-68.516944</td>\n",
       "      <td>26.5</td>\n",
       "      <td>CLYDE RIVER A</td>\n",
       "      <td>NU</td>\n",
       "      <td>0.440527</td>\n",
       "    </tr>\n",
       "    <tr>\n",
       "      <th>362</th>\n",
       "      <td>1240</td>\n",
       "      <td>914</td>\n",
       "      <td>0.389</td>\n",
       "      <td>25.951068</td>\n",
       "      <td>6.194631</td>\n",
       "      <td>72.689444</td>\n",
       "      <td>-77.968889</td>\n",
       "      <td>61.6</td>\n",
       "      <td>POND INLET A</td>\n",
       "      <td>NU</td>\n",
       "      <td>0.425443</td>\n",
       "    </tr>\n",
       "    <tr>\n",
       "      <th>363</th>\n",
       "      <td>1269</td>\n",
       "      <td>788</td>\n",
       "      <td>0.580</td>\n",
       "      <td>27.224807</td>\n",
       "      <td>0.601795</td>\n",
       "      <td>74.716944</td>\n",
       "      <td>-94.969444</td>\n",
       "      <td>67.7</td>\n",
       "      <td>RESOLUTE BAY A</td>\n",
       "      <td>NU</td>\n",
       "      <td>0.393539</td>\n",
       "    </tr>\n",
       "    <tr>\n",
       "      <th>364</th>\n",
       "      <td>1392</td>\n",
       "      <td>826</td>\n",
       "      <td>0.482</td>\n",
       "      <td>32.659968</td>\n",
       "      <td>2.294890</td>\n",
       "      <td>79.994444</td>\n",
       "      <td>-85.811944</td>\n",
       "      <td>82.9</td>\n",
       "      <td>EUREKA A</td>\n",
       "      <td>NU</td>\n",
       "      <td>0.429230</td>\n",
       "    </tr>\n",
       "    <tr>\n",
       "      <th>365</th>\n",
       "      <td>1472</td>\n",
       "      <td>894</td>\n",
       "      <td>0.740</td>\n",
       "      <td>36.222647</td>\n",
       "      <td>5.274983</td>\n",
       "      <td>82.517778</td>\n",
       "      <td>-62.280556</td>\n",
       "      <td>30.5</td>\n",
       "      <td>ALERT</td>\n",
       "      <td>NU</td>\n",
       "      <td>0.429230</td>\n",
       "    </tr>\n",
       "  </tbody>\n",
       "</table>\n",
       "<p>366 rows × 11 columns</p>\n",
       "</div>"
      ],
      "text/plain": [
       "     irlat  irlon  WP50 (kPa)       rlat       rlon        lat        lon  \\\n",
       "0      558   1009       0.351  -4.286303  10.373534  42.276111 -82.955278   \n",
       "1      576   1016       0.384  -3.488044  10.709117  42.999444 -82.308889   \n",
       "2      579   1050       0.394  -3.335369  12.206823  42.850000 -80.266667   \n",
       "3      580   1035       0.351  -3.290417  11.534369  43.033056 -81.151111   \n",
       "4      587   1054       0.441  -2.967246  12.374482  43.173611 -79.935000   \n",
       "..     ...    ...         ...        ...        ...        ...        ...   \n",
       "361   1215   1003       0.482  24.854394  10.111493  70.485833 -68.516944   \n",
       "362   1240    914       0.389  25.951068   6.194631  72.689444 -77.968889   \n",
       "363   1269    788       0.580  27.224807   0.601795  74.716944 -94.969444   \n",
       "364   1392    826       0.482  32.659968   2.294890  79.994444 -85.811944   \n",
       "365   1472    894       0.740  36.222647   5.274983  82.517778 -62.280556   \n",
       "\n",
       "     elev (m)    station_name province  model_values  \n",
       "0       189.6       WINDSOR A       ON      0.360578  \n",
       "1       181.4          SARNIA       ON      0.368830  \n",
       "2       240.5          SIMCOE       ON      0.418314  \n",
       "3       278.0        LONDON A       ON      0.435890  \n",
       "4       237.7      HAMILTON A       ON      0.424827  \n",
       "..        ...             ...      ...           ...  \n",
       "361      26.5   CLYDE RIVER A       NU      0.440527  \n",
       "362      61.6    POND INLET A       NU      0.425443  \n",
       "363      67.7  RESOLUTE BAY A       NU      0.393539  \n",
       "364      82.9        EUREKA A       NU      0.429230  \n",
       "365      30.5           ALERT       NU      0.429230  \n",
       "\n",
       "[366 rows x 11 columns]"
      ]
     },
     "execution_count": 10,
     "metadata": {},
     "output_type": "execute_result"
    }
   ],
   "source": [
    "df_match"
   ]
  },
  {
   "cell_type": "markdown",
   "metadata": {
    "papermill": {
     "duration": 0.016282,
     "end_time": "2020-12-18T21:56:30.250849",
     "exception": false,
     "start_time": "2020-12-18T21:56:30.234567",
     "status": "completed"
    },
    "tags": []
   },
   "source": [
    "Verify that they are correlated"
   ]
  },
  {
   "cell_type": "code",
   "execution_count": 11,
   "metadata": {
    "execution": {
     "iopub.execute_input": "2020-12-18T21:56:30.282239Z",
     "iopub.status.busy": "2020-12-18T21:56:30.280647Z",
     "iopub.status.idle": "2020-12-18T21:56:30.453118Z",
     "shell.execute_reply": "2020-12-18T21:56:30.452527Z"
    },
    "papermill": {
     "duration": 0.190524,
     "end_time": "2020-12-18T21:56:30.453279",
     "exception": false,
     "start_time": "2020-12-18T21:56:30.262755",
     "status": "completed"
    },
    "tags": []
   },
   "outputs": [
    {
     "data": {
      "text/plain": [
       "Text(0, 0.5, 'Model')"
      ]
     },
     "execution_count": 11,
     "metadata": {},
     "output_type": "execute_result"
    },
    {
     "data": {
      "image/png": "[encoded data removed]",
      "text/plain": [
       "<Figure size 432x288 with 1 Axes>"
      ]
     },
     "metadata": {
      "needs_background": "light"
     },
     "output_type": "display_data"
    }
   ],
   "source": [
    "plt.scatter(df_match[station_dv], df_match.model_values)\n",
    "plt.title(\"Correlation between station and models\")\n",
    "plt.xlabel('Stations')\n",
    "plt.ylabel('Model')"
   ]
  },
  {
   "cell_type": "markdown",
   "metadata": {
    "papermill": {
     "duration": 0.02119,
     "end_time": "2020-12-18T21:56:30.535116",
     "exception": false,
     "start_time": "2020-12-18T21:56:30.513926",
     "status": "completed"
    },
    "tags": []
   },
   "source": [
    "Now each station should be matched with a value grid cell value"
   ]
  },
  {
   "cell_type": "markdown",
   "metadata": {
    "papermill": {
     "duration": 0.016108,
     "end_time": "2020-12-18T21:56:30.568110",
     "exception": false,
     "start_time": "2020-12-18T21:56:30.552002",
     "status": "completed"
    },
    "tags": []
   },
   "source": [
    "### Normalize the model mean to match that of the station distribution\n",
    "Find a factor, $\\beta$ such that\n",
    "$$\\mu_s - \\frac{\\mu_m}{\\beta} \\approx 0$$ where $\\mu_s$ is the spatial station mean and $\\mu_m$ is the spatial model mean.\n",
    "\n",
    "$\\beta$ is simply:\n",
    "\n",
    "$$\\beta = \\frac{\\sum_i^{N_s}{M_i}}{\\sum_i^{N_s}{S_i}}$$"
   ]
  },
  {
   "cell_type": "code",
   "execution_count": 12,
   "metadata": {
    "execution": {
     "iopub.execute_input": "2020-12-18T21:56:30.606369Z",
     "iopub.status.busy": "2020-12-18T21:56:30.605779Z",
     "iopub.status.idle": "2020-12-18T21:56:30.612294Z",
     "shell.execute_reply": "2020-12-18T21:56:30.613092Z"
    },
    "papermill": {
     "duration": 0.029233,
     "end_time": "2020-12-18T21:56:30.613392",
     "exception": false,
     "start_time": "2020-12-18T21:56:30.584159",
     "status": "completed"
    },
    "tags": []
   },
   "outputs": [
    {
     "name": "stdout",
     "output_type": "stream",
     "text": [
      "Scaling factor: 0.7903227215895041\n"
     ]
    }
   ],
   "source": [
    "ratio, best_tol = scale_model_obs(df_match.model_values, df_match[station_dv])\n",
    "assert not np.any(np.isnan(ratio))\n",
    "df_match = df_match.assign(ratio=ratio)\n",
    "print(\"Scaling factor:\", best_tol)"
   ]
  },
  {
   "cell_type": "code",
   "execution_count": 13,
   "metadata": {
    "execution": {
     "iopub.execute_input": "2020-12-18T21:56:30.677960Z",
     "iopub.status.busy": "2020-12-18T21:56:30.677039Z",
     "iopub.status.idle": "2020-12-18T21:56:30.680498Z",
     "shell.execute_reply": "2020-12-18T21:56:30.681229Z"
    },
    "papermill": {
     "duration": 0.043384,
     "end_time": "2020-12-18T21:56:30.681511",
     "exception": false,
     "start_time": "2020-12-18T21:56:30.638127",
     "status": "completed"
    },
    "tags": []
   },
   "outputs": [
    {
     "data": {
      "text/html": [
       "<div>\n",
       "<style scoped>\n",
       "    .dataframe tbody tr th:only-of-type {\n",
       "        vertical-align: middle;\n",
       "    }\n",
       "\n",
       "    .dataframe tbody tr th {\n",
       "        vertical-align: top;\n",
       "    }\n",
       "\n",
       "    .dataframe thead th {\n",
       "        text-align: right;\n",
       "    }\n",
       "</style>\n",
       "<table border=\"1\" class=\"dataframe\">\n",
       "  <thead>\n",
       "    <tr style=\"text-align: right;\">\n",
       "      <th></th>\n",
       "      <th>irlat</th>\n",
       "      <th>irlon</th>\n",
       "      <th>WP50 (kPa)</th>\n",
       "      <th>rlat</th>\n",
       "      <th>rlon</th>\n",
       "      <th>lat</th>\n",
       "      <th>lon</th>\n",
       "      <th>elev (m)</th>\n",
       "      <th>station_name</th>\n",
       "      <th>province</th>\n",
       "      <th>model_values</th>\n",
       "      <th>ratio</th>\n",
       "    </tr>\n",
       "  </thead>\n",
       "  <tbody>\n",
       "    <tr>\n",
       "      <th>0</th>\n",
       "      <td>558</td>\n",
       "      <td>1009</td>\n",
       "      <td>0.351</td>\n",
       "      <td>-4.286303</td>\n",
       "      <td>10.373534</td>\n",
       "      <td>42.276111</td>\n",
       "      <td>-82.955278</td>\n",
       "      <td>189.6</td>\n",
       "      <td>WINDSOR A</td>\n",
       "      <td>ON</td>\n",
       "      <td>0.360578</td>\n",
       "      <td>0.769329</td>\n",
       "    </tr>\n",
       "    <tr>\n",
       "      <th>1</th>\n",
       "      <td>576</td>\n",
       "      <td>1016</td>\n",
       "      <td>0.384</td>\n",
       "      <td>-3.488044</td>\n",
       "      <td>10.709117</td>\n",
       "      <td>42.999444</td>\n",
       "      <td>-82.308889</td>\n",
       "      <td>181.4</td>\n",
       "      <td>SARNIA</td>\n",
       "      <td>ON</td>\n",
       "      <td>0.368830</td>\n",
       "      <td>0.822829</td>\n",
       "    </tr>\n",
       "    <tr>\n",
       "      <th>2</th>\n",
       "      <td>579</td>\n",
       "      <td>1050</td>\n",
       "      <td>0.394</td>\n",
       "      <td>-3.335369</td>\n",
       "      <td>12.206823</td>\n",
       "      <td>42.850000</td>\n",
       "      <td>-80.266667</td>\n",
       "      <td>240.5</td>\n",
       "      <td>SIMCOE</td>\n",
       "      <td>ON</td>\n",
       "      <td>0.418314</td>\n",
       "      <td>0.744387</td>\n",
       "    </tr>\n",
       "  </tbody>\n",
       "</table>\n",
       "</div>"
      ],
      "text/plain": [
       "   irlat  irlon  WP50 (kPa)      rlat       rlon        lat        lon  \\\n",
       "0    558   1009       0.351 -4.286303  10.373534  42.276111 -82.955278   \n",
       "1    576   1016       0.384 -3.488044  10.709117  42.999444 -82.308889   \n",
       "2    579   1050       0.394 -3.335369  12.206823  42.850000 -80.266667   \n",
       "\n",
       "   elev (m) station_name province  model_values     ratio  \n",
       "0     189.6    WINDSOR A       ON      0.360578  0.769329  \n",
       "1     181.4       SARNIA       ON      0.368830  0.822829  \n",
       "2     240.5       SIMCOE       ON      0.418314  0.744387  "
      ]
     },
     "execution_count": 13,
     "metadata": {},
     "output_type": "execute_result"
    }
   ],
   "source": [
    "df_match.head(3)"
   ]
  },
  {
   "cell_type": "code",
   "execution_count": 14,
   "metadata": {
    "execution": {
     "iopub.execute_input": "2020-12-18T21:56:30.727415Z",
     "iopub.status.busy": "2020-12-18T21:56:30.726741Z",
     "iopub.status.idle": "2020-12-18T21:56:30.730300Z",
     "shell.execute_reply": "2020-12-18T21:56:30.729737Z"
    },
    "papermill": {
     "duration": 0.027326,
     "end_time": "2020-12-18T21:56:30.730558",
     "exception": false,
     "start_time": "2020-12-18T21:56:30.703232",
     "status": "completed"
    },
    "tags": []
   },
   "outputs": [],
   "source": [
    "# convert back to degC\n",
    "if ds[dv].attrs[\"units\"] == \"degC\" and \"degC\" in station_dv:\n",
    "    print(\"Temperature DV detected in degC. Converitng to Kelvin\")\n",
    "    K = 273.15 # K\n",
    "    df_match[station_dv] -= K\n",
    "    df_match.model_values -= K"
   ]
  },
  {
   "cell_type": "code",
   "execution_count": 15,
   "metadata": {
    "execution": {
     "iopub.execute_input": "2020-12-18T21:56:30.783513Z",
     "iopub.status.busy": "2020-12-18T21:56:30.782761Z",
     "iopub.status.idle": "2020-12-18T21:56:30.797077Z",
     "shell.execute_reply": "2020-12-18T21:56:30.796542Z"
    },
    "papermill": {
     "duration": 0.040416,
     "end_time": "2020-12-18T21:56:30.797251",
     "exception": false,
     "start_time": "2020-12-18T21:56:30.756835",
     "status": "completed"
    },
    "tags": []
   },
   "outputs": [],
   "source": [
    "df_match.to_csv(\n",
    "    resource_filename(\n",
    "        \"climpyrical\",\n",
    "        f\"{preprocessed_stations_path}{name}.csv\"\n",
    "    ), index=False\n",
    ")"
   ]
  },
  {
   "cell_type": "code",
   "execution_count": 16,
   "metadata": {
    "execution": {
     "iopub.execute_input": "2020-12-18T21:56:30.837522Z",
     "iopub.status.busy": "2020-12-18T21:56:30.837103Z",
     "iopub.status.idle": "2020-12-18T21:56:30.839225Z",
     "shell.execute_reply": "2020-12-18T21:56:30.839696Z"
    },
    "papermill": {
     "duration": 0.023843,
     "end_time": "2020-12-18T21:56:30.839887",
     "exception": false,
     "start_time": "2020-12-18T21:56:30.816044",
     "status": "completed"
    },
    "tags": []
   },
   "outputs": [],
   "source": [
    "assert np.all(df_match['ratio'] >= 0)"
   ]
  },
  {
   "cell_type": "code",
   "execution_count": null,
   "metadata": {
    "papermill": {
     "duration": 0.019896,
     "end_time": "2020-12-18T21:56:30.884467",
     "exception": false,
     "start_time": "2020-12-18T21:56:30.864571",
     "status": "completed"
    },
    "tags": []
   },
   "outputs": [],
   "source": []
  }
 ],
 "metadata": {
  "kernelspec": {
   "display_name": "Python 3",
   "language": "python",
   "name": "python3"
  },
  "language_info": {
   "codemirror_mode": {
    "name": "ipython",
    "version": 3
   },
   "file_extension": ".py",
   "mimetype": "text/x-python",
   "name": "python",
   "nbconvert_exporter": "python",
   "pygments_lexer": "ipython3",
   "version": "3.8.5"
  },
  "papermill": {
   "default_parameters": {},
   "duration": 5.589626,
   "end_time": "2020-12-18T21:56:31.421990",
   "environment_variables": {},
   "exception": null,
   "input_path": "stations.ipynb",
   "output_path": "/home/nannau/Desktop/pipeline/climpyrical/climpyrical/data/results/intermediate/notebooks/stations_log_WP50.ipynb",
   "parameters": {
    "fill_glaciers": true,
    "input_model_path": "data/model_inputs/wpress_CanRCM4-LE_ens35_1951-2016_max_rl50_kpa_ensmean.nc",
    "mask_path": "data/masks/canada_mask_rp.nc",
    "medians": {
     "action": "multiply",
     "value": 0.44
    },
    "name": "WP50",
    "nbcc_loc_path": "data/station_inputs/NBCC_2020_new_coords.xlsm",
    "north_mask_path": "data/masks/canada_mask_north_rp.nc",
    "output_figure_path": "/data/results/figures/",
    "output_notebook_path": "/data/results/intermediate/notebooks/",
    "output_reconstruction_path": "/data/results/netcdf/",
    "output_tables_path": "/data/results/TableC2/",
    "preprocessed_model_path": "/data/results/intermediate/preprocessed_netcdf/",
    "preprocessed_stations_path": "/data/results/intermediate/preprocessed_stations/",
    "station_dv": "WP50 (kPa)",
    "station_path": "data/station_inputs/wpress_stations_rl10_rl50_for_maps.csv"
   },
   "start_time": "2020-12-18T21:56:25.832364",
   "version": "2.2.2"
  }
 },
 "nbformat": 4,
 "nbformat_minor": 4
}