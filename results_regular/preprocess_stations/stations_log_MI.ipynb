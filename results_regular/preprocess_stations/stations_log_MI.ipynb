{
 "cells": [
  {
   "cell_type": "markdown",
   "metadata": {
    "papermill": {
     "duration": 0.017537,
     "end_time": "2020-12-18T22:13:46.012575",
     "exception": false,
     "start_time": "2020-12-18T22:13:45.995038",
     "status": "completed"
    },
    "tags": []
   },
   "source": [
    "# Process Stations"
   ]
  },
  {
   "cell_type": "code",
   "execution_count": 1,
   "metadata": {
    "execution": {
     "iopub.execute_input": "2020-12-18T22:13:46.065169Z",
     "iopub.status.busy": "2020-12-18T22:13:46.064512Z",
     "iopub.status.idle": "2020-12-18T22:13:47.013929Z",
     "shell.execute_reply": "2020-12-18T22:13:47.013234Z"
    },
    "papermill": {
     "duration": 0.967345,
     "end_time": "2020-12-18T22:13:47.014191",
     "exception": false,
     "start_time": "2020-12-18T22:13:46.046846",
     "status": "completed"
    },
    "tags": []
   },
   "outputs": [],
   "source": [
    "import pandas as pd\n",
    "import numpy as np\n",
    "import matplotlib.pyplot as plt\n",
    "from pkg_resources import resource_filename\n",
    "\n",
    "from climpyrical.gridding import scale_model_obs\n",
    "from climpyrical.data import read_data\n",
    "from climpyrical.cmd.find_matched_model_vals import add_model_values"
   ]
  },
  {
   "cell_type": "markdown",
   "metadata": {
    "papermill": {
     "duration": 0.015227,
     "end_time": "2020-12-18T22:13:47.058321",
     "exception": false,
     "start_time": "2020-12-18T22:13:47.043094",
     "status": "completed"
    },
    "tags": []
   },
   "source": [
    "### Load station data for processing"
   ]
  },
  {
   "cell_type": "markdown",
   "metadata": {
    "papermill": {
     "duration": 0.011695,
     "end_time": "2020-12-18T22:13:47.081885",
     "exception": false,
     "start_time": "2020-12-18T22:13:47.070190",
     "status": "completed"
    },
    "tags": [
     "parameters"
    ]
   },
   "source": [
    "### Parameters are loaded from config_example.yml\n",
    "Example configuration from config_example.yml:\n",
    "```\n",
    "    paths:\n",
    "        preprocessed_model_path: /data/results/intermediate/preprocessed_netcdf/\n",
    "    RL50:\n",
    "        station_dv: \"RL50 (kPa)\"\n",
    "        station_path: 'data/station_inputs/Interim_snow_rain_load_LR_composite_stations_tbd_v4.csv'\n",
    "        input_model_path: 'data/model_inputs/snw_rain_CanRCM4-LE_ens35_1951-2016_max_rl50_load_ensmean.nc'\n",
    "        medians: \n",
    "            value: 0.4\n",
    "            action: \"multiply\"\n",
    "        fill_glaciers: True\n",
    "```"
   ]
  },
  {
   "cell_type": "code",
   "execution_count": 2,
   "metadata": {
    "execution": {
     "iopub.execute_input": "2020-12-18T22:13:47.114006Z",
     "iopub.status.busy": "2020-12-18T22:13:47.113296Z",
     "iopub.status.idle": "2020-12-18T22:13:47.115812Z",
     "shell.execute_reply": "2020-12-18T22:13:47.116365Z"
    },
    "papermill": {
     "duration": 0.022751,
     "end_time": "2020-12-18T22:13:47.116600",
     "exception": false,
     "start_time": "2020-12-18T22:13:47.093849",
     "status": "completed"
    },
    "tags": [
     "injected-parameters"
    ]
   },
   "outputs": [],
   "source": [
    "# Parameters\n",
    "name = \"MI\"\n",
    "station_dv = \"moisture_index\"\n",
    "station_path = \"data/station_inputs/moisture_index_for_maps.csv\"\n",
    "input_model_path = (\n",
    "    \"data/model_inputs/moisture_index_CanRCM4-LE_ens15_1951-2016_ensmean.nc\"\n",
    ")\n",
    "medians = {\"value\": 0.9, \"action\": \"multiply\"}\n",
    "fill_glaciers = True\n",
    "output_notebook_path = \"/data/results/intermediate/notebooks/\"\n",
    "preprocessed_model_path = \"/data/results/intermediate/preprocessed_netcdf/\"\n",
    "preprocessed_stations_path = \"/data/results/intermediate/preprocessed_stations/\"\n",
    "output_reconstruction_path = \"/data/results/netcdf/\"\n",
    "output_tables_path = \"/data/results/TableC2/\"\n",
    "output_figure_path = \"/data/results/figures/\"\n",
    "mask_path = \"data/masks/canada_mask_rp.nc\"\n",
    "north_mask_path = \"data/masks/canada_mask_north_rp.nc\"\n",
    "nbcc_loc_path = \"data/station_inputs/NBCC_2020_new_coords.xlsm\"\n"
   ]
  },
  {
   "cell_type": "code",
   "execution_count": 3,
   "metadata": {
    "execution": {
     "iopub.execute_input": "2020-12-18T22:13:47.149091Z",
     "iopub.status.busy": "2020-12-18T22:13:47.147942Z",
     "iopub.status.idle": "2020-12-18T22:13:47.150007Z",
     "shell.execute_reply": "2020-12-18T22:13:47.150477Z"
    },
    "papermill": {
     "duration": 0.017403,
     "end_time": "2020-12-18T22:13:47.150735",
     "exception": false,
     "start_time": "2020-12-18T22:13:47.133332",
     "status": "completed"
    },
    "tags": [
     "parameters"
    ]
   },
   "outputs": [],
   "source": [
    "# Parameters cell"
   ]
  },
  {
   "cell_type": "code",
   "execution_count": 4,
   "metadata": {
    "execution": {
     "iopub.execute_input": "2020-12-18T22:13:47.190713Z",
     "iopub.status.busy": "2020-12-18T22:13:47.190064Z",
     "iopub.status.idle": "2020-12-18T22:13:47.196551Z",
     "shell.execute_reply": "2020-12-18T22:13:47.196123Z"
    },
    "papermill": {
     "duration": 0.0277,
     "end_time": "2020-12-18T22:13:47.196694",
     "exception": false,
     "start_time": "2020-12-18T22:13:47.168994",
     "status": "completed"
    },
    "tags": []
   },
   "outputs": [],
   "source": [
    "df = pd.read_csv(resource_filename(\"climpyrical\", station_path), index_col=None)"
   ]
  },
  {
   "cell_type": "markdown",
   "metadata": {
    "papermill": {
     "duration": 0.010998,
     "end_time": "2020-12-18T22:13:47.220047",
     "exception": false,
     "start_time": "2020-12-18T22:13:47.209049",
     "status": "completed"
    },
    "tags": []
   },
   "source": [
    "Check the columns for standard names, and standardize them.\n",
    "\n",
    "This process will not catch any and all possible inputs, so refer to documentation for \n",
    "expected column names"
   ]
  },
  {
   "cell_type": "code",
   "execution_count": 5,
   "metadata": {
    "execution": {
     "iopub.execute_input": "2020-12-18T22:13:47.257097Z",
     "iopub.status.busy": "2020-12-18T22:13:47.255499Z",
     "iopub.status.idle": "2020-12-18T22:13:47.258401Z",
     "shell.execute_reply": "2020-12-18T22:13:47.259215Z"
    },
    "papermill": {
     "duration": 0.028556,
     "end_time": "2020-12-18T22:13:47.259583",
     "exception": false,
     "start_time": "2020-12-18T22:13:47.231027",
     "status": "completed"
    },
    "tags": []
   },
   "outputs": [],
   "source": [
    "def check_df_columns(df):\n",
    "    if 'longitude' in df.columns:\n",
    "        df=df.rename(columns={'longitude': 'lon'})\n",
    "    if 'long' in df.columns:\n",
    "        df=df.rename(columns={'long': 'lon'})\n",
    "    if 'latitude' in df.columns:\n",
    "        df=df.rename(columns={'latitude': 'lat'})\n",
    "    if 'name' in df.columns:\n",
    "        df=df.rename(columns={'name': 'station_name'})\n",
    "    if 'Name' in df.columns:\n",
    "        df=df.rename(columns={'Name': 'station_name'})\n",
    "    if \"prov\" in df.columns:\n",
    "        df=df.rename(columns={\"prov\": \"province\"})\n",
    "    if \"elev\" in df.columns:\n",
    "        df=df.rename(columns={\"elev\": \"elev (m)\"})\n",
    "    if \"elevation (m)\" in df.columns:\n",
    "        df=df.rename(columns={\"elevation (m)\": \"elev (m)\"})\n",
    "    return df\n",
    "\n",
    "df = check_df_columns(df)\n",
    "df.head(5)\n",
    "\n",
    "if np.any(np.isnan(df[[\"lon\", \"lat\", \"elev (m)\", station_dv]].values)):\n",
    "    raise ValueError(\"NaN detected in station input file.\")"
   ]
  },
  {
   "cell_type": "markdown",
   "metadata": {
    "papermill": {
     "duration": 0.019542,
     "end_time": "2020-12-18T22:13:47.299436",
     "exception": false,
     "start_time": "2020-12-18T22:13:47.279894",
     "status": "completed"
    },
    "tags": []
   },
   "source": [
    "Load preprocessed model at target resolution"
   ]
  },
  {
   "cell_type": "code",
   "execution_count": 6,
   "metadata": {
    "execution": {
     "iopub.execute_input": "2020-12-18T22:13:47.327129Z",
     "iopub.status.busy": "2020-12-18T22:13:47.326229Z",
     "iopub.status.idle": "2020-12-18T22:13:47.383873Z",
     "shell.execute_reply": "2020-12-18T22:13:47.384394Z"
    },
    "papermill": {
     "duration": 0.074533,
     "end_time": "2020-12-18T22:13:47.384621",
     "exception": false,
     "start_time": "2020-12-18T22:13:47.310088",
     "status": "completed"
    },
    "tags": []
   },
   "outputs": [],
   "source": [
    "ds = read_data(resource_filename(\"climpyrical\", f\"{preprocessed_model_path}{name}.nc\"))\n",
    "(dv, ) = ds.data_vars"
   ]
  },
  {
   "cell_type": "markdown",
   "metadata": {
    "papermill": {
     "duration": 0.012026,
     "end_time": "2020-12-18T22:13:47.416653",
     "exception": false,
     "start_time": "2020-12-18T22:13:47.404627",
     "status": "completed"
    },
    "tags": []
   },
   "source": [
    "Perform unit conversion if necessary\n",
    "\n",
    "Exclude suspect RL50 values with true 0.0"
   ]
  },
  {
   "cell_type": "code",
   "execution_count": 7,
   "metadata": {
    "execution": {
     "iopub.execute_input": "2020-12-18T22:13:47.448675Z",
     "iopub.status.busy": "2020-12-18T22:13:47.448200Z",
     "iopub.status.idle": "2020-12-18T22:13:47.451589Z",
     "shell.execute_reply": "2020-12-18T22:13:47.451053Z"
    },
    "papermill": {
     "duration": 0.022337,
     "end_time": "2020-12-18T22:13:47.451754",
     "exception": false,
     "start_time": "2020-12-18T22:13:47.429417",
     "status": "completed"
    },
    "tags": []
   },
   "outputs": [],
   "source": [
    "# calculate ratios with applied correction\n",
    "# Note the ratios are calculated in K for Temperature fields\n",
    "if ds[dv].attrs[\"units\"] == \"degC\" and \"degC\" in station_dv:\n",
    "    print(\"Temperature DV detected in degC. Converitng to Kelvin\")\n",
    "    K = 273.15 # K\n",
    "    df[station_dv] += K\n",
    "    ds[dv] += K\n",
    "\n",
    "if 'RL50 (kPa)' in station_dv:\n",
    "    df = df[df[station_dv] != 0.0]"
   ]
  },
  {
   "cell_type": "markdown",
   "metadata": {
    "papermill": {
     "duration": 0.013676,
     "end_time": "2020-12-18T22:13:47.479688",
     "exception": false,
     "start_time": "2020-12-18T22:13:47.466012",
     "status": "completed"
    },
    "tags": []
   },
   "source": [
    "Use matching script to find matching model values"
   ]
  },
  {
   "cell_type": "code",
   "execution_count": 8,
   "metadata": {
    "execution": {
     "iopub.execute_input": "2020-12-18T22:13:47.510251Z",
     "iopub.status.busy": "2020-12-18T22:13:47.509373Z",
     "iopub.status.idle": "2020-12-18T22:13:49.528544Z",
     "shell.execute_reply": "2020-12-18T22:13:49.529326Z"
    },
    "papermill": {
     "duration": 2.038543,
     "end_time": "2020-12-18T22:13:49.529640",
     "exception": false,
     "start_time": "2020-12-18T22:13:47.491097",
     "status": "completed"
    },
    "tags": []
   },
   "outputs": [
    {
     "name": "stderr",
     "output_type": "stream",
     "text": [
      "INFO:root:Detect units: unitless\n"
     ]
    },
    {
     "name": "stderr",
     "output_type": "stream",
     "text": [
      "INFO:root:rlat or rlon not detected in input file.converting assumes WGS84 coords to rotated pole\n"
     ]
    },
    {
     "name": "stderr",
     "output_type": "stream",
     "text": [
      "INFO:root:Matching coordinates now\n"
     ]
    },
    {
     "name": "stderr",
     "output_type": "stream",
     "text": [
      "INFO:root:Locating corresponding model valuesInterpolating to nearest if matched model value is NaN\n"
     ]
    },
    {
     "data": {
      "text/html": [
       "<div>\n",
       "<style scoped>\n",
       "    .dataframe tbody tr th:only-of-type {\n",
       "        vertical-align: middle;\n",
       "    }\n",
       "\n",
       "    .dataframe tbody tr th {\n",
       "        vertical-align: top;\n",
       "    }\n",
       "\n",
       "    .dataframe thead th {\n",
       "        text-align: right;\n",
       "    }\n",
       "</style>\n",
       "<table border=\"1\" class=\"dataframe\">\n",
       "  <thead>\n",
       "    <tr style=\"text-align: right;\">\n",
       "      <th></th>\n",
       "      <th>history_id</th>\n",
       "      <th>station_name</th>\n",
       "      <th>lon</th>\n",
       "      <th>lat</th>\n",
       "      <th>elev (m)</th>\n",
       "      <th>province</th>\n",
       "      <th>dryingindex</th>\n",
       "      <th>wetting_index</th>\n",
       "      <th>moisture_index</th>\n",
       "      <th>rlat</th>\n",
       "      <th>rlon</th>\n",
       "      <th>irlat</th>\n",
       "      <th>irlon</th>\n",
       "      <th>model_values</th>\n",
       "    </tr>\n",
       "  </thead>\n",
       "  <tbody>\n",
       "    <tr>\n",
       "      <th>0</th>\n",
       "      <td>174</td>\n",
       "      <td>COMOX A</td>\n",
       "      <td>-124.900</td>\n",
       "      <td>49.7167</td>\n",
       "      <td>25.6</td>\n",
       "      <td>BC</td>\n",
       "      <td>0.469868</td>\n",
       "      <td>1.101030</td>\n",
       "      <td>1.222010</td>\n",
       "      <td>5.398827</td>\n",
       "      <td>-17.691775</td>\n",
       "      <td>776</td>\n",
       "      <td>375</td>\n",
       "      <td>2.225381</td>\n",
       "    </tr>\n",
       "    <tr>\n",
       "      <th>1</th>\n",
       "      <td>228</td>\n",
       "      <td>PORT HARDY A</td>\n",
       "      <td>-127.366</td>\n",
       "      <td>50.6803</td>\n",
       "      <td>21.6</td>\n",
       "      <td>BC</td>\n",
       "      <td>0.265551</td>\n",
       "      <td>1.840356</td>\n",
       "      <td>1.981496</td>\n",
       "      <td>6.867169</td>\n",
       "      <td>-18.822471</td>\n",
       "      <td>809</td>\n",
       "      <td>349</td>\n",
       "      <td>2.291840</td>\n",
       "    </tr>\n",
       "    <tr>\n",
       "      <th>2</th>\n",
       "      <td>409</td>\n",
       "      <td>CAPE ST JAMES</td>\n",
       "      <td>-131.017</td>\n",
       "      <td>51.9333</td>\n",
       "      <td>92.0</td>\n",
       "      <td>BC</td>\n",
       "      <td>0.206190</td>\n",
       "      <td>1.487456</td>\n",
       "      <td>1.686019</td>\n",
       "      <td>8.922110</td>\n",
       "      <td>-20.436114</td>\n",
       "      <td>856</td>\n",
       "      <td>313</td>\n",
       "      <td>2.758767</td>\n",
       "    </tr>\n",
       "    <tr>\n",
       "      <th>3</th>\n",
       "      <td>432</td>\n",
       "      <td>SANDSPIT A</td>\n",
       "      <td>-131.813</td>\n",
       "      <td>53.2539</td>\n",
       "      <td>6.4</td>\n",
       "      <td>BC</td>\n",
       "      <td>0.285524</td>\n",
       "      <td>1.309255</td>\n",
       "      <td>1.491517</td>\n",
       "      <td>10.323304</td>\n",
       "      <td>-20.314454</td>\n",
       "      <td>887</td>\n",
       "      <td>315</td>\n",
       "      <td>1.770394</td>\n",
       "    </tr>\n",
       "    <tr>\n",
       "      <th>4</th>\n",
       "      <td>500</td>\n",
       "      <td>PRINCE RUPERT A</td>\n",
       "      <td>-130.445</td>\n",
       "      <td>54.2925</td>\n",
       "      <td>35.4</td>\n",
       "      <td>BC</td>\n",
       "      <td>0.262329</td>\n",
       "      <td>2.464809</td>\n",
       "      <td>2.572828</td>\n",
       "      <td>10.925168</td>\n",
       "      <td>-19.123594</td>\n",
       "      <td>901</td>\n",
       "      <td>342</td>\n",
       "      <td>2.517561</td>\n",
       "    </tr>\n",
       "  </tbody>\n",
       "</table>\n",
       "</div>"
      ],
      "text/plain": [
       "   history_id     station_name      lon      lat  elev (m) province  \\\n",
       "0         174          COMOX A -124.900  49.7167      25.6       BC   \n",
       "1         228     PORT HARDY A -127.366  50.6803      21.6       BC   \n",
       "2         409    CAPE ST JAMES -131.017  51.9333      92.0       BC   \n",
       "3         432       SANDSPIT A -131.813  53.2539       6.4       BC   \n",
       "4         500  PRINCE RUPERT A -130.445  54.2925      35.4       BC   \n",
       "\n",
       "   dryingindex  wetting_index  moisture_index       rlat       rlon  irlat  \\\n",
       "0     0.469868       1.101030        1.222010   5.398827 -17.691775    776   \n",
       "1     0.265551       1.840356        1.981496   6.867169 -18.822471    809   \n",
       "2     0.206190       1.487456        1.686019   8.922110 -20.436114    856   \n",
       "3     0.285524       1.309255        1.491517  10.323304 -20.314454    887   \n",
       "4     0.262329       2.464809        2.572828  10.925168 -19.123594    901   \n",
       "\n",
       "   irlon  model_values  \n",
       "0    375      2.225381  \n",
       "1    349      2.291840  \n",
       "2    313      2.758767  \n",
       "3    315      1.770394  \n",
       "4    342      2.517561  "
      ]
     },
     "execution_count": 8,
     "metadata": {},
     "output_type": "execute_result"
    }
   ],
   "source": [
    "df = add_model_values(ds=ds, df=df)\n",
    "df.head(5)"
   ]
  },
  {
   "cell_type": "markdown",
   "metadata": {
    "papermill": {
     "duration": 0.016922,
     "end_time": "2020-12-18T22:13:49.570302",
     "exception": false,
     "start_time": "2020-12-18T22:13:49.553380",
     "status": "completed"
    },
    "tags": []
   },
   "source": [
    "Group stations that land in the same index in rlat and rlon (land in the same grid cell)\n",
    "\n",
    "This means that they are in the same grid cell and need to be aggregated"
   ]
  },
  {
   "cell_type": "code",
   "execution_count": 9,
   "metadata": {
    "execution": {
     "iopub.execute_input": "2020-12-18T22:13:49.602536Z",
     "iopub.status.busy": "2020-12-18T22:13:49.601911Z",
     "iopub.status.idle": "2020-12-18T22:13:49.613565Z",
     "shell.execute_reply": "2020-12-18T22:13:49.614370Z"
    },
    "papermill": {
     "duration": 0.032165,
     "end_time": "2020-12-18T22:13:49.614704",
     "exception": false,
     "start_time": "2020-12-18T22:13:49.582539",
     "status": "completed"
    },
    "tags": []
   },
   "outputs": [],
   "source": [
    "agg_dict = {\n",
    "    station_dv: 'mean', \n",
    "    'rlat':'mean', \n",
    "    'rlon':'mean', \n",
    "    'lat': 'mean', \n",
    "    'lon': 'mean', \n",
    "    'elev (m)': 'mean',\n",
    "    'station_name': 'first',\n",
    "    'province': 'first',\n",
    "    \"model_values\": \"mean\"\n",
    "}\n",
    "\n",
    "# Province key is used for WP10 and WP50 for\n",
    "# special treatment of Atlantic/Far NW areas\n",
    "if \"province\" not in df.columns:\n",
    "    agg_dict = agg_dict.pop(\"province\")\n",
    "\n",
    "df_match = df.groupby(\n",
    "    ['irlat', 'irlon'], as_index=False\n",
    ").agg(\n",
    "    agg_dict\n",
    ")\n",
    "\n",
    "\n",
    "irlat = df_match.irlat\n",
    "irlon = df_match.irlon"
   ]
  },
  {
   "cell_type": "code",
   "execution_count": 10,
   "metadata": {
    "execution": {
     "iopub.execute_input": "2020-12-18T22:13:49.650400Z",
     "iopub.status.busy": "2020-12-18T22:13:49.649960Z",
     "iopub.status.idle": "2020-12-18T22:13:49.679494Z",
     "shell.execute_reply": "2020-12-18T22:13:49.678795Z"
    },
    "papermill": {
     "duration": 0.048658,
     "end_time": "2020-12-18T22:13:49.679734",
     "exception": false,
     "start_time": "2020-12-18T22:13:49.631076",
     "status": "completed"
    },
    "tags": []
   },
   "outputs": [
    {
     "data": {
      "text/html": [
       "<div>\n",
       "<style scoped>\n",
       "    .dataframe tbody tr th:only-of-type {\n",
       "        vertical-align: middle;\n",
       "    }\n",
       "\n",
       "    .dataframe tbody tr th {\n",
       "        vertical-align: top;\n",
       "    }\n",
       "\n",
       "    .dataframe thead th {\n",
       "        text-align: right;\n",
       "    }\n",
       "</style>\n",
       "<table border=\"1\" class=\"dataframe\">\n",
       "  <thead>\n",
       "    <tr style=\"text-align: right;\">\n",
       "      <th></th>\n",
       "      <th>irlat</th>\n",
       "      <th>irlon</th>\n",
       "      <th>moisture_index</th>\n",
       "      <th>rlat</th>\n",
       "      <th>rlon</th>\n",
       "      <th>lat</th>\n",
       "      <th>lon</th>\n",
       "      <th>elev (m)</th>\n",
       "      <th>station_name</th>\n",
       "      <th>province</th>\n",
       "      <th>model_values</th>\n",
       "    </tr>\n",
       "  </thead>\n",
       "  <tbody>\n",
       "    <tr>\n",
       "      <th>0</th>\n",
       "      <td>558</td>\n",
       "      <td>1009</td>\n",
       "      <td>0.880795</td>\n",
       "      <td>-4.286849</td>\n",
       "      <td>10.373390</td>\n",
       "      <td>42.2756</td>\n",
       "      <td>-82.9556</td>\n",
       "      <td>189.60</td>\n",
       "      <td>WINDSOR A</td>\n",
       "      <td>ON</td>\n",
       "      <td>1.957862</td>\n",
       "    </tr>\n",
       "    <tr>\n",
       "      <th>1</th>\n",
       "      <td>580</td>\n",
       "      <td>1035</td>\n",
       "      <td>0.923519</td>\n",
       "      <td>-3.290372</td>\n",
       "      <td>11.534368</td>\n",
       "      <td>43.0331</td>\n",
       "      <td>-81.1511</td>\n",
       "      <td>278.00</td>\n",
       "      <td>LONDON COMPOSITE</td>\n",
       "      <td>ON</td>\n",
       "      <td>1.600199</td>\n",
       "    </tr>\n",
       "    <tr>\n",
       "      <th>2</th>\n",
       "      <td>600</td>\n",
       "      <td>1057</td>\n",
       "      <td>0.788974</td>\n",
       "      <td>-2.427524</td>\n",
       "      <td>12.480315</td>\n",
       "      <td>43.6772</td>\n",
       "      <td>-79.6306</td>\n",
       "      <td>173.40</td>\n",
       "      <td>TORONTO LESTER B. PEARSON INT'L A</td>\n",
       "      <td>ON</td>\n",
       "      <td>1.485784</td>\n",
       "    </tr>\n",
       "    <tr>\n",
       "      <th>3</th>\n",
       "      <td>605</td>\n",
       "      <td>1060</td>\n",
       "      <td>0.823230</td>\n",
       "      <td>-2.205381</td>\n",
       "      <td>12.622879</td>\n",
       "      <td>43.8622</td>\n",
       "      <td>-79.3700</td>\n",
       "      <td>198.10</td>\n",
       "      <td>TORONTO BUTTONVILLE A</td>\n",
       "      <td>ON</td>\n",
       "      <td>1.453431</td>\n",
       "    </tr>\n",
       "    <tr>\n",
       "      <th>4</th>\n",
       "      <td>617</td>\n",
       "      <td>1087</td>\n",
       "      <td>0.897372</td>\n",
       "      <td>-1.647920</td>\n",
       "      <td>13.848381</td>\n",
       "      <td>44.1167</td>\n",
       "      <td>-77.5333</td>\n",
       "      <td>86.30</td>\n",
       "      <td>TRENTON A</td>\n",
       "      <td>ON</td>\n",
       "      <td>1.526075</td>\n",
       "    </tr>\n",
       "    <tr>\n",
       "      <th>...</th>\n",
       "      <td>...</td>\n",
       "      <td>...</td>\n",
       "      <td>...</td>\n",
       "      <td>...</td>\n",
       "      <td>...</td>\n",
       "      <td>...</td>\n",
       "      <td>...</td>\n",
       "      <td>...</td>\n",
       "      <td>...</td>\n",
       "      <td>...</td>\n",
       "      <td>...</td>\n",
       "    </tr>\n",
       "    <tr>\n",
       "      <th>136</th>\n",
       "      <td>1146</td>\n",
       "      <td>704</td>\n",
       "      <td>0.896838</td>\n",
       "      <td>21.771354</td>\n",
       "      <td>-3.115997</td>\n",
       "      <td>69.1081</td>\n",
       "      <td>-105.1380</td>\n",
       "      <td>31.09</td>\n",
       "      <td>CAMBRIDGE BAY COMPOSITE</td>\n",
       "      <td>NU</td>\n",
       "      <td>0.659552</td>\n",
       "    </tr>\n",
       "    <tr>\n",
       "      <th>137</th>\n",
       "      <td>1160</td>\n",
       "      <td>1100</td>\n",
       "      <td>0.887661</td>\n",
       "      <td>22.399453</td>\n",
       "      <td>14.412455</td>\n",
       "      <td>66.5833</td>\n",
       "      <td>-61.6167</td>\n",
       "      <td>392.60</td>\n",
       "      <td>CAPE DYER A</td>\n",
       "      <td>NU</td>\n",
       "      <td>0.870891</td>\n",
       "    </tr>\n",
       "    <tr>\n",
       "      <th>138</th>\n",
       "      <td>1199</td>\n",
       "      <td>460</td>\n",
       "      <td>0.696646</td>\n",
       "      <td>24.116123</td>\n",
       "      <td>-13.935205</td>\n",
       "      <td>68.3042</td>\n",
       "      <td>-133.4830</td>\n",
       "      <td>67.70</td>\n",
       "      <td>INUVIK A</td>\n",
       "      <td>NT</td>\n",
       "      <td>0.410364</td>\n",
       "    </tr>\n",
       "    <tr>\n",
       "      <th>139</th>\n",
       "      <td>1240</td>\n",
       "      <td>914</td>\n",
       "      <td>0.891107</td>\n",
       "      <td>25.951024</td>\n",
       "      <td>6.194640</td>\n",
       "      <td>72.6894</td>\n",
       "      <td>-77.9689</td>\n",
       "      <td>61.60</td>\n",
       "      <td>POND INLET A</td>\n",
       "      <td>NU</td>\n",
       "      <td>0.814610</td>\n",
       "    </tr>\n",
       "    <tr>\n",
       "      <th>140</th>\n",
       "      <td>1269</td>\n",
       "      <td>788</td>\n",
       "      <td>0.930198</td>\n",
       "      <td>27.224763</td>\n",
       "      <td>0.601810</td>\n",
       "      <td>74.7169</td>\n",
       "      <td>-94.9694</td>\n",
       "      <td>67.68</td>\n",
       "      <td>RESOLUTE CARS</td>\n",
       "      <td>NU</td>\n",
       "      <td>0.899110</td>\n",
       "    </tr>\n",
       "  </tbody>\n",
       "</table>\n",
       "<p>141 rows × 11 columns</p>\n",
       "</div>"
      ],
      "text/plain": [
       "     irlat  irlon  moisture_index       rlat       rlon      lat       lon  \\\n",
       "0      558   1009        0.880795  -4.286849  10.373390  42.2756  -82.9556   \n",
       "1      580   1035        0.923519  -3.290372  11.534368  43.0331  -81.1511   \n",
       "2      600   1057        0.788974  -2.427524  12.480315  43.6772  -79.6306   \n",
       "3      605   1060        0.823230  -2.205381  12.622879  43.8622  -79.3700   \n",
       "4      617   1087        0.897372  -1.647920  13.848381  44.1167  -77.5333   \n",
       "..     ...    ...             ...        ...        ...      ...       ...   \n",
       "136   1146    704        0.896838  21.771354  -3.115997  69.1081 -105.1380   \n",
       "137   1160   1100        0.887661  22.399453  14.412455  66.5833  -61.6167   \n",
       "138   1199    460        0.696646  24.116123 -13.935205  68.3042 -133.4830   \n",
       "139   1240    914        0.891107  25.951024   6.194640  72.6894  -77.9689   \n",
       "140   1269    788        0.930198  27.224763   0.601810  74.7169  -94.9694   \n",
       "\n",
       "     elev (m)                       station_name province  model_values  \n",
       "0      189.60                          WINDSOR A       ON      1.957862  \n",
       "1      278.00                   LONDON COMPOSITE       ON      1.600199  \n",
       "2      173.40  TORONTO LESTER B. PEARSON INT'L A       ON      1.485784  \n",
       "3      198.10              TORONTO BUTTONVILLE A       ON      1.453431  \n",
       "4       86.30                          TRENTON A       ON      1.526075  \n",
       "..        ...                                ...      ...           ...  \n",
       "136     31.09            CAMBRIDGE BAY COMPOSITE       NU      0.659552  \n",
       "137    392.60                        CAPE DYER A       NU      0.870891  \n",
       "138     67.70                           INUVIK A       NT      0.410364  \n",
       "139     61.60                       POND INLET A       NU      0.814610  \n",
       "140     67.68                      RESOLUTE CARS       NU      0.899110  \n",
       "\n",
       "[141 rows x 11 columns]"
      ]
     },
     "execution_count": 10,
     "metadata": {},
     "output_type": "execute_result"
    }
   ],
   "source": [
    "df_match"
   ]
  },
  {
   "cell_type": "markdown",
   "metadata": {
    "papermill": {
     "duration": 0.017419,
     "end_time": "2020-12-18T22:13:49.730419",
     "exception": false,
     "start_time": "2020-12-18T22:13:49.713000",
     "status": "completed"
    },
    "tags": []
   },
   "source": [
    "Verify that they are correlated"
   ]
  },
  {
   "cell_type": "code",
   "execution_count": 11,
   "metadata": {
    "execution": {
     "iopub.execute_input": "2020-12-18T22:13:49.790908Z",
     "iopub.status.busy": "2020-12-18T22:13:49.788053Z",
     "iopub.status.idle": "2020-12-18T22:13:49.924539Z",
     "shell.execute_reply": "2020-12-18T22:13:49.925251Z"
    },
    "papermill": {
     "duration": 0.175761,
     "end_time": "2020-12-18T22:13:49.925577",
     "exception": false,
     "start_time": "2020-12-18T22:13:49.749816",
     "status": "completed"
    },
    "tags": []
   },
   "outputs": [
    {
     "data": {
      "text/plain": [
       "Text(0, 0.5, 'Model')"
      ]
     },
     "execution_count": 11,
     "metadata": {},
     "output_type": "execute_result"
    },
    {
     "data": {
      "image/png": "[encoded data removed]",
      "text/plain": [
       "<Figure size 432x288 with 1 Axes>"
      ]
     },
     "metadata": {
      "needs_background": "light"
     },
     "output_type": "display_data"
    }
   ],
   "source": [
    "plt.scatter(df_match[station_dv], df_match.model_values)\n",
    "plt.title(\"Correlation between station and models\")\n",
    "plt.xlabel('Stations')\n",
    "plt.ylabel('Model')"
   ]
  },
  {
   "cell_type": "markdown",
   "metadata": {
    "papermill": {
     "duration": 0.01952,
     "end_time": "2020-12-18T22:13:49.970289",
     "exception": false,
     "start_time": "2020-12-18T22:13:49.950769",
     "status": "completed"
    },
    "tags": []
   },
   "source": [
    "Now each station should be matched with a value grid cell value"
   ]
  },
  {
   "cell_type": "markdown",
   "metadata": {
    "papermill": {
     "duration": 0.017007,
     "end_time": "2020-12-18T22:13:50.005281",
     "exception": false,
     "start_time": "2020-12-18T22:13:49.988274",
     "status": "completed"
    },
    "tags": []
   },
   "source": [
    "### Normalize the model mean to match that of the station distribution\n",
    "Find a factor, $\\beta$ such that\n",
    "$$\\mu_s - \\frac{\\mu_m}{\\beta} \\approx 0$$ where $\\mu_s$ is the spatial station mean and $\\mu_m$ is the spatial model mean.\n",
    "\n",
    "$\\beta$ is simply:\n",
    "\n",
    "$$\\beta = \\frac{\\sum_i^{N_s}{M_i}}{\\sum_i^{N_s}{S_i}}$$"
   ]
  },
  {
   "cell_type": "code",
   "execution_count": 12,
   "metadata": {
    "execution": {
     "iopub.execute_input": "2020-12-18T22:13:50.050107Z",
     "iopub.status.busy": "2020-12-18T22:13:50.049262Z",
     "iopub.status.idle": "2020-12-18T22:13:50.055662Z",
     "shell.execute_reply": "2020-12-18T22:13:50.056158Z"
    },
    "papermill": {
     "duration": 0.031993,
     "end_time": "2020-12-18T22:13:50.056433",
     "exception": false,
     "start_time": "2020-12-18T22:13:50.024440",
     "status": "completed"
    },
    "tags": []
   },
   "outputs": [
    {
     "name": "stdout",
     "output_type": "stream",
     "text": [
      "Scaling factor: 1.4134472815137116\n"
     ]
    }
   ],
   "source": [
    "ratio, best_tol = scale_model_obs(df_match.model_values, df_match[station_dv])\n",
    "assert not np.any(np.isnan(ratio))\n",
    "df_match = df_match.assign(ratio=ratio)\n",
    "print(\"Scaling factor:\", best_tol)"
   ]
  },
  {
   "cell_type": "code",
   "execution_count": 13,
   "metadata": {
    "execution": {
     "iopub.execute_input": "2020-12-18T22:13:50.121491Z",
     "iopub.status.busy": "2020-12-18T22:13:50.120138Z",
     "iopub.status.idle": "2020-12-18T22:13:50.124829Z",
     "shell.execute_reply": "2020-12-18T22:13:50.125609Z"
    },
    "papermill": {
     "duration": 0.043924,
     "end_time": "2020-12-18T22:13:50.125870",
     "exception": false,
     "start_time": "2020-12-18T22:13:50.081946",
     "status": "completed"
    },
    "tags": []
   },
   "outputs": [
    {
     "data": {
      "text/html": [
       "<div>\n",
       "<style scoped>\n",
       "    .dataframe tbody tr th:only-of-type {\n",
       "        vertical-align: middle;\n",
       "    }\n",
       "\n",
       "    .dataframe tbody tr th {\n",
       "        vertical-align: top;\n",
       "    }\n",
       "\n",
       "    .dataframe thead th {\n",
       "        text-align: right;\n",
       "    }\n",
       "</style>\n",
       "<table border=\"1\" class=\"dataframe\">\n",
       "  <thead>\n",
       "    <tr style=\"text-align: right;\">\n",
       "      <th></th>\n",
       "      <th>irlat</th>\n",
       "      <th>irlon</th>\n",
       "      <th>moisture_index</th>\n",
       "      <th>rlat</th>\n",
       "      <th>rlon</th>\n",
       "      <th>lat</th>\n",
       "      <th>lon</th>\n",
       "      <th>elev (m)</th>\n",
       "      <th>station_name</th>\n",
       "      <th>province</th>\n",
       "      <th>model_values</th>\n",
       "      <th>ratio</th>\n",
       "    </tr>\n",
       "  </thead>\n",
       "  <tbody>\n",
       "    <tr>\n",
       "      <th>0</th>\n",
       "      <td>558</td>\n",
       "      <td>1009</td>\n",
       "      <td>0.880795</td>\n",
       "      <td>-4.286849</td>\n",
       "      <td>10.373390</td>\n",
       "      <td>42.2756</td>\n",
       "      <td>-82.9556</td>\n",
       "      <td>189.6</td>\n",
       "      <td>WINDSOR A</td>\n",
       "      <td>ON</td>\n",
       "      <td>1.957862</td>\n",
       "      <td>0.635876</td>\n",
       "    </tr>\n",
       "    <tr>\n",
       "      <th>1</th>\n",
       "      <td>580</td>\n",
       "      <td>1035</td>\n",
       "      <td>0.923519</td>\n",
       "      <td>-3.290372</td>\n",
       "      <td>11.534368</td>\n",
       "      <td>43.0331</td>\n",
       "      <td>-81.1511</td>\n",
       "      <td>278.0</td>\n",
       "      <td>LONDON COMPOSITE</td>\n",
       "      <td>ON</td>\n",
       "      <td>1.600199</td>\n",
       "      <td>0.815739</td>\n",
       "    </tr>\n",
       "    <tr>\n",
       "      <th>2</th>\n",
       "      <td>600</td>\n",
       "      <td>1057</td>\n",
       "      <td>0.788974</td>\n",
       "      <td>-2.427524</td>\n",
       "      <td>12.480315</td>\n",
       "      <td>43.6772</td>\n",
       "      <td>-79.6306</td>\n",
       "      <td>173.4</td>\n",
       "      <td>TORONTO LESTER B. PEARSON INT'L A</td>\n",
       "      <td>ON</td>\n",
       "      <td>1.485784</td>\n",
       "      <td>0.750562</td>\n",
       "    </tr>\n",
       "  </tbody>\n",
       "</table>\n",
       "</div>"
      ],
      "text/plain": [
       "   irlat  irlon  moisture_index      rlat       rlon      lat      lon  \\\n",
       "0    558   1009        0.880795 -4.286849  10.373390  42.2756 -82.9556   \n",
       "1    580   1035        0.923519 -3.290372  11.534368  43.0331 -81.1511   \n",
       "2    600   1057        0.788974 -2.427524  12.480315  43.6772 -79.6306   \n",
       "\n",
       "   elev (m)                       station_name province  model_values  \\\n",
       "0     189.6                          WINDSOR A       ON      1.957862   \n",
       "1     278.0                   LONDON COMPOSITE       ON      1.600199   \n",
       "2     173.4  TORONTO LESTER B. PEARSON INT'L A       ON      1.485784   \n",
       "\n",
       "      ratio  \n",
       "0  0.635876  \n",
       "1  0.815739  \n",
       "2  0.750562  "
      ]
     },
     "execution_count": 13,
     "metadata": {},
     "output_type": "execute_result"
    }
   ],
   "source": [
    "df_match.head(3)"
   ]
  },
  {
   "cell_type": "code",
   "execution_count": 14,
   "metadata": {
    "execution": {
     "iopub.execute_input": "2020-12-18T22:13:50.164915Z",
     "iopub.status.busy": "2020-12-18T22:13:50.164458Z",
     "iopub.status.idle": "2020-12-18T22:13:50.166397Z",
     "shell.execute_reply": "2020-12-18T22:13:50.166709Z"
    },
    "papermill": {
     "duration": 0.02218,
     "end_time": "2020-12-18T22:13:50.166856",
     "exception": false,
     "start_time": "2020-12-18T22:13:50.144676",
     "status": "completed"
    },
    "tags": []
   },
   "outputs": [],
   "source": [
    "# convert back to degC\n",
    "if ds[dv].attrs[\"units\"] == \"degC\" and \"degC\" in station_dv:\n",
    "    print(\"Temperature DV detected in degC. Converitng to Kelvin\")\n",
    "    K = 273.15 # K\n",
    "    df_match[station_dv] -= K\n",
    "    df_match.model_values -= K"
   ]
  },
  {
   "cell_type": "code",
   "execution_count": 15,
   "metadata": {
    "execution": {
     "iopub.execute_input": "2020-12-18T22:13:50.215017Z",
     "iopub.status.busy": "2020-12-18T22:13:50.214466Z",
     "iopub.status.idle": "2020-12-18T22:13:50.224078Z",
     "shell.execute_reply": "2020-12-18T22:13:50.224515Z"
    },
    "papermill": {
     "duration": 0.034566,
     "end_time": "2020-12-18T22:13:50.224720",
     "exception": false,
     "start_time": "2020-12-18T22:13:50.190154",
     "status": "completed"
    },
    "tags": []
   },
   "outputs": [],
   "source": [
    "df_match.to_csv(\n",
    "    resource_filename(\n",
    "        \"climpyrical\",\n",
    "        f\"{preprocessed_stations_path}{name}.csv\"\n",
    "    ), index=False\n",
    ")"
   ]
  },
  {
   "cell_type": "code",
   "execution_count": 16,
   "metadata": {
    "execution": {
     "iopub.execute_input": "2020-12-18T22:13:50.270091Z",
     "iopub.status.busy": "2020-12-18T22:13:50.269585Z",
     "iopub.status.idle": "2020-12-18T22:13:50.271532Z",
     "shell.execute_reply": "2020-12-18T22:13:50.271923Z"
    },
    "papermill": {
     "duration": 0.027331,
     "end_time": "2020-12-18T22:13:50.272105",
     "exception": false,
     "start_time": "2020-12-18T22:13:50.244774",
     "status": "completed"
    },
    "tags": []
   },
   "outputs": [],
   "source": [
    "assert np.all(df_match['ratio'] >= 0)"
   ]
  },
  {
   "cell_type": "code",
   "execution_count": null,
   "metadata": {
    "papermill": {
     "duration": 0.025009,
     "end_time": "2020-12-18T22:13:50.326065",
     "exception": false,
     "start_time": "2020-12-18T22:13:50.301056",
     "status": "completed"
    },
    "tags": []
   },
   "outputs": [],
   "source": []
  }
 ],
 "metadata": {
  "kernelspec": {
   "display_name": "Python 3",
   "language": "python",
   "name": "python3"
  },
  "language_info": {
   "codemirror_mode": {
    "name": "ipython",
    "version": 3
   },
   "file_extension": ".py",
   "mimetype": "text/x-python",
   "name": "python",
   "nbconvert_exporter": "python",
   "pygments_lexer": "ipython3",
   "version": "3.8.5"
  },
  "papermill": {
   "default_parameters": {},
   "duration": 5.788401,
   "end_time": "2020-12-18T22:13:50.963697",
   "environment_variables": {},
   "exception": null,
   "input_path": "stations.ipynb",
   "output_path": "/home/nannau/Desktop/pipeline/climpyrical/climpyrical/data/results/intermediate/notebooks/stations_log_MI.ipynb",
   "parameters": {
    "fill_glaciers": true,
    "input_model_path": "data/model_inputs/moisture_index_CanRCM4-LE_ens15_1951-2016_ensmean.nc",
    "mask_path": "data/masks/canada_mask_rp.nc",
    "medians": {
     "action": "multiply",
     "value": 0.9
    },
    "name": "MI",
    "nbcc_loc_path": "data/station_inputs/NBCC_2020_new_coords.xlsm",
    "north_mask_path": "data/masks/canada_mask_north_rp.nc",
    "output_figure_path": "/data/results/figures/",
    "output_notebook_path": "/data/results/intermediate/notebooks/",
    "output_reconstruction_path": "/data/results/netcdf/",
    "output_tables_path": "/data/results/TableC2/",
    "preprocessed_model_path": "/data/results/intermediate/preprocessed_netcdf/",
    "preprocessed_stations_path": "/data/results/intermediate/preprocessed_stations/",
    "station_dv": "moisture_index",
    "station_path": "data/station_inputs/moisture_index_for_maps.csv"
   },
   "start_time": "2020-12-18T22:13:45.175296",
   "version": "2.2.2"
  }
 },
 "nbformat": 4,
 "nbformat_minor": 4
}