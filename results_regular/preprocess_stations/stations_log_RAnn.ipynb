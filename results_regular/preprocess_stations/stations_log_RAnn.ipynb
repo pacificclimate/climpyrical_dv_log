{
 "cells": [
  {
   "cell_type": "markdown",
   "metadata": {
    "papermill": {
     "duration": 0.015718,
     "end_time": "2020-12-18T22:12:43.914018",
     "exception": false,
     "start_time": "2020-12-18T22:12:43.898300",
     "status": "completed"
    },
    "tags": []
   },
   "source": [
    "# Process Stations"
   ]
  },
  {
   "cell_type": "code",
   "execution_count": 1,
   "metadata": {
    "execution": {
     "iopub.execute_input": "2020-12-18T22:12:43.964382Z",
     "iopub.status.busy": "2020-12-18T22:12:43.963515Z",
     "iopub.status.idle": "2020-12-18T22:12:44.940209Z",
     "shell.execute_reply": "2020-12-18T22:12:44.940663Z"
    },
    "papermill": {
     "duration": 1.004751,
     "end_time": "2020-12-18T22:12:44.940999",
     "exception": false,
     "start_time": "2020-12-18T22:12:43.936248",
     "status": "completed"
    },
    "tags": []
   },
   "outputs": [],
   "source": [
    "import pandas as pd\n",
    "import numpy as np\n",
    "import matplotlib.pyplot as plt\n",
    "from pkg_resources import resource_filename\n",
    "\n",
    "from climpyrical.gridding import scale_model_obs\n",
    "from climpyrical.data import read_data\n",
    "from climpyrical.cmd.find_matched_model_vals import add_model_values"
   ]
  },
  {
   "cell_type": "markdown",
   "metadata": {
    "papermill": {
     "duration": 0.018589,
     "end_time": "2020-12-18T22:12:44.981890",
     "exception": false,
     "start_time": "2020-12-18T22:12:44.963301",
     "status": "completed"
    },
    "tags": []
   },
   "source": [
    "### Load station data for processing"
   ]
  },
  {
   "cell_type": "markdown",
   "metadata": {
    "papermill": {
     "duration": 0.012014,
     "end_time": "2020-12-18T22:12:45.005517",
     "exception": false,
     "start_time": "2020-12-18T22:12:44.993503",
     "status": "completed"
    },
    "tags": [
     "parameters"
    ]
   },
   "source": [
    "### Parameters are loaded from config_example.yml\n",
    "Example configuration from config_example.yml:\n",
    "```\n",
    "    paths:\n",
    "        preprocessed_model_path: /data/results/intermediate/preprocessed_netcdf/\n",
    "    RL50:\n",
    "        station_dv: \"RL50 (kPa)\"\n",
    "        station_path: 'data/station_inputs/Interim_snow_rain_load_LR_composite_stations_tbd_v4.csv'\n",
    "        input_model_path: 'data/model_inputs/snw_rain_CanRCM4-LE_ens35_1951-2016_max_rl50_load_ensmean.nc'\n",
    "        medians: \n",
    "            value: 0.4\n",
    "            action: \"multiply\"\n",
    "        fill_glaciers: True\n",
    "```"
   ]
  },
  {
   "cell_type": "code",
   "execution_count": 2,
   "metadata": {
    "execution": {
     "iopub.execute_input": "2020-12-18T22:12:45.035599Z",
     "iopub.status.busy": "2020-12-18T22:12:45.035163Z",
     "iopub.status.idle": "2020-12-18T22:12:45.038182Z",
     "shell.execute_reply": "2020-12-18T22:12:45.037658Z"
    },
    "papermill": {
     "duration": 0.021364,
     "end_time": "2020-12-18T22:12:45.038347",
     "exception": false,
     "start_time": "2020-12-18T22:12:45.016983",
     "status": "completed"
    },
    "tags": [
     "injected-parameters"
    ]
   },
   "outputs": [],
   "source": [
    "# Parameters\n",
    "name = \"RAnn\"\n",
    "station_dv = \"annual_rain (mm)\"\n",
    "station_path = \"data/station_inputs/rain_annual_mean_doy_MSC_25yr_for_maps.csv\"\n",
    "input_model_path = (\n",
    "    \"data/model_inputs/rain_CanRCM4-LE_ens35_1951-2016_ann_sum_ensmean.nc\"\n",
    ")\n",
    "medians = {\"value\": 726, \"action\": \"multiply\"}\n",
    "fill_glaciers = True\n",
    "output_notebook_path = \"/data/results/intermediate/notebooks/\"\n",
    "preprocessed_model_path = \"/data/results/intermediate/preprocessed_netcdf/\"\n",
    "preprocessed_stations_path = \"/data/results/intermediate/preprocessed_stations/\"\n",
    "output_reconstruction_path = \"/data/results/netcdf/\"\n",
    "output_tables_path = \"/data/results/TableC2/\"\n",
    "output_figure_path = \"/data/results/figures/\"\n",
    "mask_path = \"data/masks/canada_mask_rp.nc\"\n",
    "north_mask_path = \"data/masks/canada_mask_north_rp.nc\"\n",
    "nbcc_loc_path = \"data/station_inputs/NBCC_2020_new_coords.xlsm\"\n"
   ]
  },
  {
   "cell_type": "code",
   "execution_count": 3,
   "metadata": {
    "execution": {
     "iopub.execute_input": "2020-12-18T22:12:45.068276Z",
     "iopub.status.busy": "2020-12-18T22:12:45.067858Z",
     "iopub.status.idle": "2020-12-18T22:12:45.069694Z",
     "shell.execute_reply": "2020-12-18T22:12:45.070015Z"
    },
    "papermill": {
     "duration": 0.018885,
     "end_time": "2020-12-18T22:12:45.070178",
     "exception": false,
     "start_time": "2020-12-18T22:12:45.051293",
     "status": "completed"
    },
    "tags": [
     "parameters"
    ]
   },
   "outputs": [],
   "source": [
    "# Parameters cell"
   ]
  },
  {
   "cell_type": "code",
   "execution_count": 4,
   "metadata": {
    "execution": {
     "iopub.execute_input": "2020-12-18T22:12:45.109912Z",
     "iopub.status.busy": "2020-12-18T22:12:45.109286Z",
     "iopub.status.idle": "2020-12-18T22:12:45.119550Z",
     "shell.execute_reply": "2020-12-18T22:12:45.119007Z"
    },
    "papermill": {
     "duration": 0.032761,
     "end_time": "2020-12-18T22:12:45.119727",
     "exception": false,
     "start_time": "2020-12-18T22:12:45.086966",
     "status": "completed"
    },
    "tags": []
   },
   "outputs": [],
   "source": [
    "df = pd.read_csv(resource_filename(\"climpyrical\", station_path), index_col=None)"
   ]
  },
  {
   "cell_type": "markdown",
   "metadata": {
    "papermill": {
     "duration": 0.016148,
     "end_time": "2020-12-18T22:12:45.151986",
     "exception": false,
     "start_time": "2020-12-18T22:12:45.135838",
     "status": "completed"
    },
    "tags": []
   },
   "source": [
    "Check the columns for standard names, and standardize them.\n",
    "\n",
    "This process will not catch any and all possible inputs, so refer to documentation for \n",
    "expected column names"
   ]
  },
  {
   "cell_type": "code",
   "execution_count": 5,
   "metadata": {
    "execution": {
     "iopub.execute_input": "2020-12-18T22:12:45.194041Z",
     "iopub.status.busy": "2020-12-18T22:12:45.193495Z",
     "iopub.status.idle": "2020-12-18T22:12:45.196004Z",
     "shell.execute_reply": "2020-12-18T22:12:45.196427Z"
    },
    "papermill": {
     "duration": 0.024983,
     "end_time": "2020-12-18T22:12:45.196622",
     "exception": false,
     "start_time": "2020-12-18T22:12:45.171639",
     "status": "completed"
    },
    "tags": []
   },
   "outputs": [],
   "source": [
    "def check_df_columns(df):\n",
    "    if 'longitude' in df.columns:\n",
    "        df=df.rename(columns={'longitude': 'lon'})\n",
    "    if 'long' in df.columns:\n",
    "        df=df.rename(columns={'long': 'lon'})\n",
    "    if 'latitude' in df.columns:\n",
    "        df=df.rename(columns={'latitude': 'lat'})\n",
    "    if 'name' in df.columns:\n",
    "        df=df.rename(columns={'name': 'station_name'})\n",
    "    if 'Name' in df.columns:\n",
    "        df=df.rename(columns={'Name': 'station_name'})\n",
    "    if \"prov\" in df.columns:\n",
    "        df=df.rename(columns={\"prov\": \"province\"})\n",
    "    if \"elev\" in df.columns:\n",
    "        df=df.rename(columns={\"elev\": \"elev (m)\"})\n",
    "    if \"elevation (m)\" in df.columns:\n",
    "        df=df.rename(columns={\"elevation (m)\": \"elev (m)\"})\n",
    "    return df\n",
    "\n",
    "df = check_df_columns(df)\n",
    "df.head(5)\n",
    "\n",
    "if np.any(np.isnan(df[[\"lon\", \"lat\", \"elev (m)\", station_dv]].values)):\n",
    "    raise ValueError(\"NaN detected in station input file.\")"
   ]
  },
  {
   "cell_type": "markdown",
   "metadata": {
    "papermill": {
     "duration": 0.016927,
     "end_time": "2020-12-18T22:12:45.234097",
     "exception": false,
     "start_time": "2020-12-18T22:12:45.217170",
     "status": "completed"
    },
    "tags": []
   },
   "source": [
    "Load preprocessed model at target resolution"
   ]
  },
  {
   "cell_type": "code",
   "execution_count": 6,
   "metadata": {
    "execution": {
     "iopub.execute_input": "2020-12-18T22:12:45.278420Z",
     "iopub.status.busy": "2020-12-18T22:12:45.277504Z",
     "iopub.status.idle": "2020-12-18T22:12:45.345086Z",
     "shell.execute_reply": "2020-12-18T22:12:45.345427Z"
    },
    "papermill": {
     "duration": 0.095901,
     "end_time": "2020-12-18T22:12:45.345606",
     "exception": false,
     "start_time": "2020-12-18T22:12:45.249705",
     "status": "completed"
    },
    "tags": []
   },
   "outputs": [],
   "source": [
    "ds = read_data(resource_filename(\"climpyrical\", f\"{preprocessed_model_path}{name}.nc\"))\n",
    "(dv, ) = ds.data_vars"
   ]
  },
  {
   "cell_type": "markdown",
   "metadata": {
    "papermill": {
     "duration": 0.017468,
     "end_time": "2020-12-18T22:12:45.380315",
     "exception": false,
     "start_time": "2020-12-18T22:12:45.362847",
     "status": "completed"
    },
    "tags": []
   },
   "source": [
    "Perform unit conversion if necessary\n",
    "\n",
    "Exclude suspect RL50 values with true 0.0"
   ]
  },
  {
   "cell_type": "code",
   "execution_count": 7,
   "metadata": {
    "execution": {
     "iopub.execute_input": "2020-12-18T22:12:45.420402Z",
     "iopub.status.busy": "2020-12-18T22:12:45.419747Z",
     "iopub.status.idle": "2020-12-18T22:12:45.421204Z",
     "shell.execute_reply": "2020-12-18T22:12:45.421672Z"
    },
    "papermill": {
     "duration": 0.024514,
     "end_time": "2020-12-18T22:12:45.421886",
     "exception": false,
     "start_time": "2020-12-18T22:12:45.397372",
     "status": "completed"
    },
    "tags": []
   },
   "outputs": [],
   "source": [
    "# calculate ratios with applied correction\n",
    "# Note the ratios are calculated in K for Temperature fields\n",
    "if ds[dv].attrs[\"units\"] == \"degC\" and \"degC\" in station_dv:\n",
    "    print(\"Temperature DV detected in degC. Converitng to Kelvin\")\n",
    "    K = 273.15 # K\n",
    "    df[station_dv] += K\n",
    "    ds[dv] += K\n",
    "\n",
    "if 'RL50 (kPa)' in station_dv:\n",
    "    df = df[df[station_dv] != 0.0]"
   ]
  },
  {
   "cell_type": "markdown",
   "metadata": {
    "papermill": {
     "duration": 0.015103,
     "end_time": "2020-12-18T22:12:45.453212",
     "exception": false,
     "start_time": "2020-12-18T22:12:45.438109",
     "status": "completed"
    },
    "tags": []
   },
   "source": [
    "Use matching script to find matching model values"
   ]
  },
  {
   "cell_type": "code",
   "execution_count": 8,
   "metadata": {
    "execution": {
     "iopub.execute_input": "2020-12-18T22:12:45.507603Z",
     "iopub.status.busy": "2020-12-18T22:12:45.506976Z",
     "iopub.status.idle": "2020-12-18T22:12:47.672920Z",
     "shell.execute_reply": "2020-12-18T22:12:47.672076Z"
    },
    "papermill": {
     "duration": 2.189511,
     "end_time": "2020-12-18T22:12:47.673174",
     "exception": false,
     "start_time": "2020-12-18T22:12:45.483663",
     "status": "completed"
    },
    "tags": []
   },
   "outputs": [
    {
     "name": "stderr",
     "output_type": "stream",
     "text": [
      "INFO:root:Detect units: mm\n"
     ]
    },
    {
     "name": "stderr",
     "output_type": "stream",
     "text": [
      "INFO:root:rlat or rlon not detected in input file.converting assumes WGS84 coords to rotated pole\n"
     ]
    },
    {
     "name": "stderr",
     "output_type": "stream",
     "text": [
      "INFO:root:Matching coordinates now\n"
     ]
    },
    {
     "name": "stderr",
     "output_type": "stream",
     "text": [
      "INFO:root:Locating corresponding model valuesInterpolating to nearest if matched model value is NaN\n"
     ]
    },
    {
     "data": {
      "text/html": [
       "<div>\n",
       "<style scoped>\n",
       "    .dataframe tbody tr th:only-of-type {\n",
       "        vertical-align: middle;\n",
       "    }\n",
       "\n",
       "    .dataframe tbody tr th {\n",
       "        vertical-align: top;\n",
       "    }\n",
       "\n",
       "    .dataframe thead th {\n",
       "        text-align: right;\n",
       "    }\n",
       "</style>\n",
       "<table border=\"1\" class=\"dataframe\">\n",
       "  <thead>\n",
       "    <tr style=\"text-align: right;\">\n",
       "      <th></th>\n",
       "      <th>history_id</th>\n",
       "      <th>station_name</th>\n",
       "      <th>province</th>\n",
       "      <th>lon</th>\n",
       "      <th>lat</th>\n",
       "      <th>elev (m)</th>\n",
       "      <th>annual_rain (mm)</th>\n",
       "      <th>rlat</th>\n",
       "      <th>rlon</th>\n",
       "      <th>irlat</th>\n",
       "      <th>irlon</th>\n",
       "      <th>model_values</th>\n",
       "    </tr>\n",
       "  </thead>\n",
       "  <tbody>\n",
       "    <tr>\n",
       "      <th>0</th>\n",
       "      <td>12</td>\n",
       "      <td>CENTRAL SAANICH VEYANESS</td>\n",
       "      <td>BC</td>\n",
       "      <td>-123.417</td>\n",
       "      <td>48.5833</td>\n",
       "      <td>53</td>\n",
       "      <td>811</td>\n",
       "      <td>4.004513</td>\n",
       "      <td>-17.159686</td>\n",
       "      <td>745</td>\n",
       "      <td>387</td>\n",
       "      <td>1436.924438</td>\n",
       "    </tr>\n",
       "    <tr>\n",
       "      <th>1</th>\n",
       "      <td>13</td>\n",
       "      <td>CENTRAL SAANICH ISL VIEW</td>\n",
       "      <td>BC</td>\n",
       "      <td>-123.392</td>\n",
       "      <td>48.5733</td>\n",
       "      <td>38</td>\n",
       "      <td>815</td>\n",
       "      <td>3.989632</td>\n",
       "      <td>-17.147322</td>\n",
       "      <td>745</td>\n",
       "      <td>387</td>\n",
       "      <td>1436.924438</td>\n",
       "    </tr>\n",
       "    <tr>\n",
       "      <th>2</th>\n",
       "      <td>15</td>\n",
       "      <td>CHEMAINUS</td>\n",
       "      <td>BC</td>\n",
       "      <td>-123.742</td>\n",
       "      <td>48.9350</td>\n",
       "      <td>75</td>\n",
       "      <td>1264</td>\n",
       "      <td>4.407283</td>\n",
       "      <td>-17.245771</td>\n",
       "      <td>754</td>\n",
       "      <td>385</td>\n",
       "      <td>1843.940918</td>\n",
       "    </tr>\n",
       "    <tr>\n",
       "      <th>3</th>\n",
       "      <td>24</td>\n",
       "      <td>COWICHAN BAY CHERRY POINT</td>\n",
       "      <td>BC</td>\n",
       "      <td>-123.557</td>\n",
       "      <td>48.7111</td>\n",
       "      <td>1</td>\n",
       "      <td>945</td>\n",
       "      <td>4.155661</td>\n",
       "      <td>-17.204997</td>\n",
       "      <td>748</td>\n",
       "      <td>386</td>\n",
       "      <td>1566.150879</td>\n",
       "    </tr>\n",
       "    <tr>\n",
       "      <th>4</th>\n",
       "      <td>26</td>\n",
       "      <td>COWICHAN LAKE FORESTRY</td>\n",
       "      <td>BC</td>\n",
       "      <td>-124.133</td>\n",
       "      <td>48.8244</td>\n",
       "      <td>177</td>\n",
       "      <td>2059</td>\n",
       "      <td>4.389211</td>\n",
       "      <td>-17.525927</td>\n",
       "      <td>754</td>\n",
       "      <td>378</td>\n",
       "      <td>1953.911865</td>\n",
       "    </tr>\n",
       "  </tbody>\n",
       "</table>\n",
       "</div>"
      ],
      "text/plain": [
       "   history_id               station_name province      lon      lat  elev (m)  \\\n",
       "0          12   CENTRAL SAANICH VEYANESS       BC -123.417  48.5833        53   \n",
       "1          13   CENTRAL SAANICH ISL VIEW       BC -123.392  48.5733        38   \n",
       "2          15                  CHEMAINUS       BC -123.742  48.9350        75   \n",
       "3          24  COWICHAN BAY CHERRY POINT       BC -123.557  48.7111         1   \n",
       "4          26     COWICHAN LAKE FORESTRY       BC -124.133  48.8244       177   \n",
       "\n",
       "   annual_rain (mm)      rlat       rlon  irlat  irlon  model_values  \n",
       "0               811  4.004513 -17.159686    745    387   1436.924438  \n",
       "1               815  3.989632 -17.147322    745    387   1436.924438  \n",
       "2              1264  4.407283 -17.245771    754    385   1843.940918  \n",
       "3               945  4.155661 -17.204997    748    386   1566.150879  \n",
       "4              2059  4.389211 -17.525927    754    378   1953.911865  "
      ]
     },
     "execution_count": 8,
     "metadata": {},
     "output_type": "execute_result"
    }
   ],
   "source": [
    "df = add_model_values(ds=ds, df=df)\n",
    "df.head(5)"
   ]
  },
  {
   "cell_type": "markdown",
   "metadata": {
    "papermill": {
     "duration": 0.011522,
     "end_time": "2020-12-18T22:12:47.702806",
     "exception": false,
     "start_time": "2020-12-18T22:12:47.691284",
     "status": "completed"
    },
    "tags": []
   },
   "source": [
    "Group stations that land in the same index in rlat and rlon (land in the same grid cell)\n",
    "\n",
    "This means that they are in the same grid cell and need to be aggregated"
   ]
  },
  {
   "cell_type": "code",
   "execution_count": 9,
   "metadata": {
    "execution": {
     "iopub.execute_input": "2020-12-18T22:12:47.745417Z",
     "iopub.status.busy": "2020-12-18T22:12:47.744975Z",
     "iopub.status.idle": "2020-12-18T22:12:47.758543Z",
     "shell.execute_reply": "2020-12-18T22:12:47.759284Z"
    },
    "papermill": {
     "duration": 0.039623,
     "end_time": "2020-12-18T22:12:47.759601",
     "exception": false,
     "start_time": "2020-12-18T22:12:47.719978",
     "status": "completed"
    },
    "tags": []
   },
   "outputs": [],
   "source": [
    "agg_dict = {\n",
    "    station_dv: 'mean', \n",
    "    'rlat':'mean', \n",
    "    'rlon':'mean', \n",
    "    'lat': 'mean', \n",
    "    'lon': 'mean', \n",
    "    'elev (m)': 'mean',\n",
    "    'station_name': 'first',\n",
    "    'province': 'first',\n",
    "    \"model_values\": \"mean\"\n",
    "}\n",
    "\n",
    "# Province key is used for WP10 and WP50 for\n",
    "# special treatment of Atlantic/Far NW areas\n",
    "if \"province\" not in df.columns:\n",
    "    agg_dict = agg_dict.pop(\"province\")\n",
    "\n",
    "df_match = df.groupby(\n",
    "    ['irlat', 'irlon'], as_index=False\n",
    ").agg(\n",
    "    agg_dict\n",
    ")\n",
    "\n",
    "\n",
    "irlat = df_match.irlat\n",
    "irlon = df_match.irlon"
   ]
  },
  {
   "cell_type": "code",
   "execution_count": 10,
   "metadata": {
    "execution": {
     "iopub.execute_input": "2020-12-18T22:12:47.795004Z",
     "iopub.status.busy": "2020-12-18T22:12:47.794492Z",
     "iopub.status.idle": "2020-12-18T22:12:47.815090Z",
     "shell.execute_reply": "2020-12-18T22:12:47.815836Z"
    },
    "papermill": {
     "duration": 0.041107,
     "end_time": "2020-12-18T22:12:47.816141",
     "exception": false,
     "start_time": "2020-12-18T22:12:47.775034",
     "status": "completed"
    },
    "tags": []
   },
   "outputs": [
    {
     "data": {
      "text/html": [
       "<div>\n",
       "<style scoped>\n",
       "    .dataframe tbody tr th:only-of-type {\n",
       "        vertical-align: middle;\n",
       "    }\n",
       "\n",
       "    .dataframe tbody tr th {\n",
       "        vertical-align: top;\n",
       "    }\n",
       "\n",
       "    .dataframe thead th {\n",
       "        text-align: right;\n",
       "    }\n",
       "</style>\n",
       "<table border=\"1\" class=\"dataframe\">\n",
       "  <thead>\n",
       "    <tr style=\"text-align: right;\">\n",
       "      <th></th>\n",
       "      <th>irlat</th>\n",
       "      <th>irlon</th>\n",
       "      <th>annual_rain (mm)</th>\n",
       "      <th>rlat</th>\n",
       "      <th>rlon</th>\n",
       "      <th>lat</th>\n",
       "      <th>lon</th>\n",
       "      <th>elev (m)</th>\n",
       "      <th>station_name</th>\n",
       "      <th>province</th>\n",
       "      <th>model_values</th>\n",
       "    </tr>\n",
       "  </thead>\n",
       "  <tbody>\n",
       "    <tr>\n",
       "      <th>0</th>\n",
       "      <td>552</td>\n",
       "      <td>1011</td>\n",
       "      <td>793.0</td>\n",
       "      <td>-4.517790</td>\n",
       "      <td>10.457750</td>\n",
       "      <td>42.0333</td>\n",
       "      <td>-82.9000</td>\n",
       "      <td>191.0</td>\n",
       "      <td>HARROW CDA</td>\n",
       "      <td>ON</td>\n",
       "      <td>884.890747</td>\n",
       "    </tr>\n",
       "    <tr>\n",
       "      <th>1</th>\n",
       "      <td>553</td>\n",
       "      <td>1007</td>\n",
       "      <td>850.0</td>\n",
       "      <td>-4.474659</td>\n",
       "      <td>10.302673</td>\n",
       "      <td>42.1034</td>\n",
       "      <td>-83.0945</td>\n",
       "      <td>182.0</td>\n",
       "      <td>AMHERSTBURG</td>\n",
       "      <td>ON</td>\n",
       "      <td>892.609375</td>\n",
       "    </tr>\n",
       "    <tr>\n",
       "      <th>2</th>\n",
       "      <td>553</td>\n",
       "      <td>1015</td>\n",
       "      <td>773.0</td>\n",
       "      <td>-4.477661</td>\n",
       "      <td>10.621608</td>\n",
       "      <td>42.0431</td>\n",
       "      <td>-82.6739</td>\n",
       "      <td>200.0</td>\n",
       "      <td>KINGSVILLE MOE</td>\n",
       "      <td>ON</td>\n",
       "      <td>881.386108</td>\n",
       "    </tr>\n",
       "    <tr>\n",
       "      <th>3</th>\n",
       "      <td>558</td>\n",
       "      <td>1009</td>\n",
       "      <td>814.0</td>\n",
       "      <td>-4.286849</td>\n",
       "      <td>10.373390</td>\n",
       "      <td>42.2756</td>\n",
       "      <td>-82.9556</td>\n",
       "      <td>190.0</td>\n",
       "      <td>WINDSOR A</td>\n",
       "      <td>ON</td>\n",
       "      <td>882.435547</td>\n",
       "    </tr>\n",
       "    <tr>\n",
       "      <th>4</th>\n",
       "      <td>563</td>\n",
       "      <td>1021</td>\n",
       "      <td>792.0</td>\n",
       "      <td>-4.073695</td>\n",
       "      <td>10.891633</td>\n",
       "      <td>42.3900</td>\n",
       "      <td>-82.2153</td>\n",
       "      <td>180.0</td>\n",
       "      <td>CHATHAM WPCP</td>\n",
       "      <td>ON</td>\n",
       "      <td>843.279114</td>\n",
       "    </tr>\n",
       "    <tr>\n",
       "      <th>...</th>\n",
       "      <td>...</td>\n",
       "      <td>...</td>\n",
       "      <td>...</td>\n",
       "      <td>...</td>\n",
       "      <td>...</td>\n",
       "      <td>...</td>\n",
       "      <td>...</td>\n",
       "      <td>...</td>\n",
       "      <td>...</td>\n",
       "      <td>...</td>\n",
       "      <td>...</td>\n",
       "    </tr>\n",
       "    <tr>\n",
       "      <th>1363</th>\n",
       "      <td>1252</td>\n",
       "      <td>425</td>\n",
       "      <td>84.0</td>\n",
       "      <td>26.462377</td>\n",
       "      <td>-15.465896</td>\n",
       "      <td>69.5833</td>\n",
       "      <td>-140.1830</td>\n",
       "      <td>7.0</td>\n",
       "      <td>KOMAKUK BEACH A</td>\n",
       "      <td>YT</td>\n",
       "      <td>159.541245</td>\n",
       "    </tr>\n",
       "    <tr>\n",
       "      <th>1364</th>\n",
       "      <td>1269</td>\n",
       "      <td>788</td>\n",
       "      <td>55.0</td>\n",
       "      <td>27.224763</td>\n",
       "      <td>0.601810</td>\n",
       "      <td>74.7169</td>\n",
       "      <td>-94.9694</td>\n",
       "      <td>68.0</td>\n",
       "      <td>RESOLUTE CARS</td>\n",
       "      <td>NU</td>\n",
       "      <td>126.862511</td>\n",
       "    </tr>\n",
       "    <tr>\n",
       "      <th>1365</th>\n",
       "      <td>1322</td>\n",
       "      <td>640</td>\n",
       "      <td>27.0</td>\n",
       "      <td>29.596811</td>\n",
       "      <td>-5.969242</td>\n",
       "      <td>76.2333</td>\n",
       "      <td>-119.3330</td>\n",
       "      <td>12.0</td>\n",
       "      <td>MOULD BAY A</td>\n",
       "      <td>NT</td>\n",
       "      <td>104.951614</td>\n",
       "    </tr>\n",
       "    <tr>\n",
       "      <th>1366</th>\n",
       "      <td>1391</td>\n",
       "      <td>826</td>\n",
       "      <td>28.0</td>\n",
       "      <td>32.645419</td>\n",
       "      <td>2.272431</td>\n",
       "      <td>79.9833</td>\n",
       "      <td>-85.9333</td>\n",
       "      <td>10.0</td>\n",
       "      <td>EUREKA A</td>\n",
       "      <td>NU</td>\n",
       "      <td>116.047218</td>\n",
       "    </tr>\n",
       "    <tr>\n",
       "      <th>1367</th>\n",
       "      <td>1472</td>\n",
       "      <td>894</td>\n",
       "      <td>16.0</td>\n",
       "      <td>36.222663</td>\n",
       "      <td>5.274963</td>\n",
       "      <td>82.5178</td>\n",
       "      <td>-62.2806</td>\n",
       "      <td>30.0</td>\n",
       "      <td>ALERT</td>\n",
       "      <td>NU</td>\n",
       "      <td>116.047218</td>\n",
       "    </tr>\n",
       "  </tbody>\n",
       "</table>\n",
       "<p>1368 rows × 11 columns</p>\n",
       "</div>"
      ],
      "text/plain": [
       "      irlat  irlon  annual_rain (mm)       rlat       rlon      lat       lon  \\\n",
       "0       552   1011             793.0  -4.517790  10.457750  42.0333  -82.9000   \n",
       "1       553   1007             850.0  -4.474659  10.302673  42.1034  -83.0945   \n",
       "2       553   1015             773.0  -4.477661  10.621608  42.0431  -82.6739   \n",
       "3       558   1009             814.0  -4.286849  10.373390  42.2756  -82.9556   \n",
       "4       563   1021             792.0  -4.073695  10.891633  42.3900  -82.2153   \n",
       "...     ...    ...               ...        ...        ...      ...       ...   \n",
       "1363   1252    425              84.0  26.462377 -15.465896  69.5833 -140.1830   \n",
       "1364   1269    788              55.0  27.224763   0.601810  74.7169  -94.9694   \n",
       "1365   1322    640              27.0  29.596811  -5.969242  76.2333 -119.3330   \n",
       "1366   1391    826              28.0  32.645419   2.272431  79.9833  -85.9333   \n",
       "1367   1472    894              16.0  36.222663   5.274963  82.5178  -62.2806   \n",
       "\n",
       "      elev (m)     station_name province  model_values  \n",
       "0        191.0       HARROW CDA       ON    884.890747  \n",
       "1        182.0      AMHERSTBURG       ON    892.609375  \n",
       "2        200.0   KINGSVILLE MOE       ON    881.386108  \n",
       "3        190.0        WINDSOR A       ON    882.435547  \n",
       "4        180.0     CHATHAM WPCP       ON    843.279114  \n",
       "...        ...              ...      ...           ...  \n",
       "1363       7.0  KOMAKUK BEACH A       YT    159.541245  \n",
       "1364      68.0    RESOLUTE CARS       NU    126.862511  \n",
       "1365      12.0      MOULD BAY A       NT    104.951614  \n",
       "1366      10.0         EUREKA A       NU    116.047218  \n",
       "1367      30.0            ALERT       NU    116.047218  \n",
       "\n",
       "[1368 rows x 11 columns]"
      ]
     },
     "execution_count": 10,
     "metadata": {},
     "output_type": "execute_result"
    }
   ],
   "source": [
    "df_match"
   ]
  },
  {
   "cell_type": "markdown",
   "metadata": {
    "papermill": {
     "duration": 0.022509,
     "end_time": "2020-12-18T22:12:47.877715",
     "exception": false,
     "start_time": "2020-12-18T22:12:47.855206",
     "status": "completed"
    },
    "tags": []
   },
   "source": [
    "Verify that they are correlated"
   ]
  },
  {
   "cell_type": "code",
   "execution_count": 11,
   "metadata": {
    "execution": {
     "iopub.execute_input": "2020-12-18T22:12:47.955332Z",
     "iopub.status.busy": "2020-12-18T22:12:47.954306Z",
     "iopub.status.idle": "2020-12-18T22:12:48.111705Z",
     "shell.execute_reply": "2020-12-18T22:12:48.112163Z"
    },
    "papermill": {
     "duration": 0.193913,
     "end_time": "2020-12-18T22:12:48.112412",
     "exception": false,
     "start_time": "2020-12-18T22:12:47.918499",
     "status": "completed"
    },
    "tags": []
   },
   "outputs": [
    {
     "data": {
      "text/plain": [
       "Text(0, 0.5, 'Model')"
      ]
     },
     "execution_count": 11,
     "metadata": {},
     "output_type": "execute_result"
    },
    {
     "data": {
      "image/png": "[encoded data removed]",
      "text/plain": [
       "<Figure size 432x288 with 1 Axes>"
      ]
     },
     "metadata": {
      "needs_background": "light"
     },
     "output_type": "display_data"
    }
   ],
   "source": [
    "plt.scatter(df_match[station_dv], df_match.model_values)\n",
    "plt.title(\"Correlation between station and models\")\n",
    "plt.xlabel('Stations')\n",
    "plt.ylabel('Model')"
   ]
  },
  {
   "cell_type": "markdown",
   "metadata": {
    "papermill": {
     "duration": 0.021275,
     "end_time": "2020-12-18T22:12:48.159686",
     "exception": false,
     "start_time": "2020-12-18T22:12:48.138411",
     "status": "completed"
    },
    "tags": []
   },
   "source": [
    "Now each station should be matched with a value grid cell value"
   ]
  },
  {
   "cell_type": "markdown",
   "metadata": {
    "papermill": {
     "duration": 0.026871,
     "end_time": "2020-12-18T22:12:48.208591",
     "exception": false,
     "start_time": "2020-12-18T22:12:48.181720",
     "status": "completed"
    },
    "tags": []
   },
   "source": [
    "### Normalize the model mean to match that of the station distribution\n",
    "Find a factor, $\\beta$ such that\n",
    "$$\\mu_s - \\frac{\\mu_m}{\\beta} \\approx 0$$ where $\\mu_s$ is the spatial station mean and $\\mu_m$ is the spatial model mean.\n",
    "\n",
    "$\\beta$ is simply:\n",
    "\n",
    "$$\\beta = \\frac{\\sum_i^{N_s}{M_i}}{\\sum_i^{N_s}{S_i}}$$"
   ]
  },
  {
   "cell_type": "code",
   "execution_count": 12,
   "metadata": {
    "execution": {
     "iopub.execute_input": "2020-12-18T22:12:48.245032Z",
     "iopub.status.busy": "2020-12-18T22:12:48.244363Z",
     "iopub.status.idle": "2020-12-18T22:12:48.252459Z",
     "shell.execute_reply": "2020-12-18T22:12:48.252942Z"
    },
    "papermill": {
     "duration": 0.029442,
     "end_time": "2020-12-18T22:12:48.253167",
     "exception": false,
     "start_time": "2020-12-18T22:12:48.223725",
     "status": "completed"
    },
    "tags": []
   },
   "outputs": [
    {
     "name": "stdout",
     "output_type": "stream",
     "text": [
      "Scaling factor: 1.1600179694085848\n"
     ]
    }
   ],
   "source": [
    "ratio, best_tol = scale_model_obs(df_match.model_values, df_match[station_dv])\n",
    "assert not np.any(np.isnan(ratio))\n",
    "df_match = df_match.assign(ratio=ratio)\n",
    "print(\"Scaling factor:\", best_tol)"
   ]
  },
  {
   "cell_type": "code",
   "execution_count": 13,
   "metadata": {
    "execution": {
     "iopub.execute_input": "2020-12-18T22:12:48.329555Z",
     "iopub.status.busy": "2020-12-18T22:12:48.328117Z",
     "iopub.status.idle": "2020-12-18T22:12:48.332748Z",
     "shell.execute_reply": "2020-12-18T22:12:48.331635Z"
    },
    "papermill": {
     "duration": 0.055412,
     "end_time": "2020-12-18T22:12:48.332966",
     "exception": false,
     "start_time": "2020-12-18T22:12:48.277554",
     "status": "completed"
    },
    "tags": []
   },
   "outputs": [
    {
     "data": {
      "text/html": [
       "<div>\n",
       "<style scoped>\n",
       "    .dataframe tbody tr th:only-of-type {\n",
       "        vertical-align: middle;\n",
       "    }\n",
       "\n",
       "    .dataframe tbody tr th {\n",
       "        vertical-align: top;\n",
       "    }\n",
       "\n",
       "    .dataframe thead th {\n",
       "        text-align: right;\n",
       "    }\n",
       "</style>\n",
       "<table border=\"1\" class=\"dataframe\">\n",
       "  <thead>\n",
       "    <tr style=\"text-align: right;\">\n",
       "      <th></th>\n",
       "      <th>irlat</th>\n",
       "      <th>irlon</th>\n",
       "      <th>annual_rain (mm)</th>\n",
       "      <th>rlat</th>\n",
       "      <th>rlon</th>\n",
       "      <th>lat</th>\n",
       "      <th>lon</th>\n",
       "      <th>elev (m)</th>\n",
       "      <th>station_name</th>\n",
       "      <th>province</th>\n",
       "      <th>model_values</th>\n",
       "      <th>ratio</th>\n",
       "    </tr>\n",
       "  </thead>\n",
       "  <tbody>\n",
       "    <tr>\n",
       "      <th>0</th>\n",
       "      <td>552</td>\n",
       "      <td>1011</td>\n",
       "      <td>793.0</td>\n",
       "      <td>-4.517790</td>\n",
       "      <td>10.457750</td>\n",
       "      <td>42.0333</td>\n",
       "      <td>-82.9000</td>\n",
       "      <td>191.0</td>\n",
       "      <td>HARROW CDA</td>\n",
       "      <td>ON</td>\n",
       "      <td>884.890747</td>\n",
       "      <td>1.039557</td>\n",
       "    </tr>\n",
       "    <tr>\n",
       "      <th>1</th>\n",
       "      <td>553</td>\n",
       "      <td>1007</td>\n",
       "      <td>850.0</td>\n",
       "      <td>-4.474659</td>\n",
       "      <td>10.302673</td>\n",
       "      <td>42.1034</td>\n",
       "      <td>-83.0945</td>\n",
       "      <td>182.0</td>\n",
       "      <td>AMHERSTBURG</td>\n",
       "      <td>ON</td>\n",
       "      <td>892.609375</td>\n",
       "      <td>1.104644</td>\n",
       "    </tr>\n",
       "    <tr>\n",
       "      <th>2</th>\n",
       "      <td>553</td>\n",
       "      <td>1015</td>\n",
       "      <td>773.0</td>\n",
       "      <td>-4.477661</td>\n",
       "      <td>10.621608</td>\n",
       "      <td>42.0431</td>\n",
       "      <td>-82.6739</td>\n",
       "      <td>200.0</td>\n",
       "      <td>KINGSVILLE MOE</td>\n",
       "      <td>ON</td>\n",
       "      <td>881.386108</td>\n",
       "      <td>1.017368</td>\n",
       "    </tr>\n",
       "  </tbody>\n",
       "</table>\n",
       "</div>"
      ],
      "text/plain": [
       "   irlat  irlon  annual_rain (mm)      rlat       rlon      lat      lon  \\\n",
       "0    552   1011             793.0 -4.517790  10.457750  42.0333 -82.9000   \n",
       "1    553   1007             850.0 -4.474659  10.302673  42.1034 -83.0945   \n",
       "2    553   1015             773.0 -4.477661  10.621608  42.0431 -82.6739   \n",
       "\n",
       "   elev (m)    station_name province  model_values     ratio  \n",
       "0     191.0      HARROW CDA       ON    884.890747  1.039557  \n",
       "1     182.0     AMHERSTBURG       ON    892.609375  1.104644  \n",
       "2     200.0  KINGSVILLE MOE       ON    881.386108  1.017368  "
      ]
     },
     "execution_count": 13,
     "metadata": {},
     "output_type": "execute_result"
    }
   ],
   "source": [
    "df_match.head(3)"
   ]
  },
  {
   "cell_type": "code",
   "execution_count": 14,
   "metadata": {
    "execution": {
     "iopub.execute_input": "2020-12-18T22:12:48.410958Z",
     "iopub.status.busy": "2020-12-18T22:12:48.410018Z",
     "iopub.status.idle": "2020-12-18T22:12:48.412195Z",
     "shell.execute_reply": "2020-12-18T22:12:48.412897Z"
    },
    "papermill": {
     "duration": 0.052154,
     "end_time": "2020-12-18T22:12:48.413199",
     "exception": false,
     "start_time": "2020-12-18T22:12:48.361045",
     "status": "completed"
    },
    "tags": []
   },
   "outputs": [],
   "source": [
    "# convert back to degC\n",
    "if ds[dv].attrs[\"units\"] == \"degC\" and \"degC\" in station_dv:\n",
    "    print(\"Temperature DV detected in degC. Converitng to Kelvin\")\n",
    "    K = 273.15 # K\n",
    "    df_match[station_dv] -= K\n",
    "    df_match.model_values -= K"
   ]
  },
  {
   "cell_type": "code",
   "execution_count": 15,
   "metadata": {
    "execution": {
     "iopub.execute_input": "2020-12-18T22:12:48.486454Z",
     "iopub.status.busy": "2020-12-18T22:12:48.485650Z",
     "iopub.status.idle": "2020-12-18T22:12:48.511847Z",
     "shell.execute_reply": "2020-12-18T22:12:48.511114Z"
    },
    "papermill": {
     "duration": 0.059713,
     "end_time": "2020-12-18T22:12:48.512088",
     "exception": false,
     "start_time": "2020-12-18T22:12:48.452375",
     "status": "completed"
    },
    "tags": []
   },
   "outputs": [],
   "source": [
    "df_match.to_csv(\n",
    "    resource_filename(\n",
    "        \"climpyrical\",\n",
    "        f\"{preprocessed_stations_path}{name}.csv\"\n",
    "    ), index=False\n",
    ")"
   ]
  },
  {
   "cell_type": "code",
   "execution_count": 16,
   "metadata": {
    "execution": {
     "iopub.execute_input": "2020-12-18T22:12:48.584855Z",
     "iopub.status.busy": "2020-12-18T22:12:48.583941Z",
     "iopub.status.idle": "2020-12-18T22:12:48.586585Z",
     "shell.execute_reply": "2020-12-18T22:12:48.587088Z"
    },
    "papermill": {
     "duration": 0.042681,
     "end_time": "2020-12-18T22:12:48.587313",
     "exception": false,
     "start_time": "2020-12-18T22:12:48.544632",
     "status": "completed"
    },
    "tags": []
   },
   "outputs": [],
   "source": [
    "assert np.all(df_match['ratio'] >= 0)"
   ]
  },
  {
   "cell_type": "code",
   "execution_count": null,
   "metadata": {
    "papermill": {
     "duration": 0.025672,
     "end_time": "2020-12-18T22:12:48.644381",
     "exception": false,
     "start_time": "2020-12-18T22:12:48.618709",
     "status": "completed"
    },
    "tags": []
   },
   "outputs": [],
   "source": []
  }
 ],
 "metadata": {
  "kernelspec": {
   "display_name": "Python 3",
   "language": "python",
   "name": "python3"
  },
  "language_info": {
   "codemirror_mode": {
    "name": "ipython",
    "version": 3
   },
   "file_extension": ".py",
   "mimetype": "text/x-python",
   "name": "python",
   "nbconvert_exporter": "python",
   "pygments_lexer": "ipython3",
   "version": "3.8.5"
  },
  "papermill": {
   "default_parameters": {},
   "duration": 7.066731,
   "end_time": "2020-12-18T22:12:50.234078",
   "environment_variables": {},
   "exception": null,
   "input_path": "stations.ipynb",
   "output_path": "/home/nannau/Desktop/pipeline/climpyrical/climpyrical/data/results/intermediate/notebooks/stations_log_RAnn.ipynb",
   "parameters": {
    "fill_glaciers": true,
    "input_model_path": "data/model_inputs/rain_CanRCM4-LE_ens35_1951-2016_ann_sum_ensmean.nc",
    "mask_path": "data/masks/canada_mask_rp.nc",
    "medians": {
     "action": "multiply",
     "value": 726
    },
    "name": "RAnn",
    "nbcc_loc_path": "data/station_inputs/NBCC_2020_new_coords.xlsm",
    "north_mask_path": "data/masks/canada_mask_north_rp.nc",
    "output_figure_path": "/data/results/figures/",
    "output_notebook_path": "/data/results/intermediate/notebooks/",
    "output_reconstruction_path": "/data/results/netcdf/",
    "output_tables_path": "/data/results/TableC2/",
    "preprocessed_model_path": "/data/results/intermediate/preprocessed_netcdf/",
    "preprocessed_stations_path": "/data/results/intermediate/preprocessed_stations/",
    "station_dv": "annual_rain (mm)",
    "station_path": "data/station_inputs/rain_annual_mean_doy_MSC_25yr_for_maps.csv"
   },
   "start_time": "2020-12-18T22:12:43.167347",
   "version": "2.2.2"
  }
 },
 "nbformat": 4,
 "nbformat_minor": 4
}